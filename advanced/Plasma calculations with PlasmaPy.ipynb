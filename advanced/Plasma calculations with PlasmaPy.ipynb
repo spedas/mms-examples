{
 "cells": [
  {
   "cell_type": "markdown",
   "metadata": {
    "id": "I-hzKSfF7s3f"
   },
   "source": [
    "##  Plasma calculations with PlasmaPy\n",
    "\n",
    "This notebook shows how to calculate various plasma parameters (Alfvén speed, plasma beta, Debye length, etc.) with MMS data and the PlasmaPy package. \n"
   ],
   "id": "I-hzKSfF7s3f"
  },
  {
   "cell_type": "markdown",
   "source": [
    "This command sets up the PySPEDAS environment when running in Google Colab.  You can skip it or comment it out if you're running this notebook in an environment that already has PySPEDAS installed.\n"
   ],
   "metadata": {
    "collapsed": false
   },
   "id": "2614c0e105b6888c"
  },
  {
   "cell_type": "code",
   "source": [
    "!pip install pyspedas"
   ],
   "metadata": {
    "colab": {
     "base_uri": "https://localhost:8080/"
    },
    "id": "aUaQl23dQXoU",
    "outputId": "c248fa9a-c6d4-4cff-e3d1-ea7fed088307"
   },
   "id": "aUaQl23dQXoU",
   "execution_count": 1,
   "outputs": [
    {
     "output_type": "stream",
     "name": "stdout",
     "text": [
      "Looking in indexes: https://pypi.org/simple, https://us-python.pkg.dev/colab-wheels/public/simple/\n",
      "Requirement already satisfied: pyspedas in /usr/local/lib/python3.10/dist-packages (1.4.37)\n",
      "Requirement already satisfied: numpy>=1.19.5 in /usr/local/lib/python3.10/dist-packages (from pyspedas) (1.22.4)\n",
      "Requirement already satisfied: requests in /usr/local/lib/python3.10/dist-packages (from pyspedas) (2.31.0)\n",
      "Requirement already satisfied: geopack>=1.0.10 in /usr/local/lib/python3.10/dist-packages (from pyspedas) (1.0.10)\n",
      "Requirement already satisfied: cdflib>=0.4.3 in /usr/local/lib/python3.10/dist-packages (from pyspedas) (0.4.9)\n",
      "Requirement already satisfied: cdasws>=1.7.24 in /usr/local/lib/python3.10/dist-packages (from pyspedas) (1.7.43)\n",
      "Requirement already satisfied: netCDF4>=1.6.2 in /usr/local/lib/python3.10/dist-packages (from pyspedas) (1.6.4)\n",
      "Requirement already satisfied: pywavelets in /usr/local/lib/python3.10/dist-packages (from pyspedas) (1.4.1)\n",
      "Requirement already satisfied: astropy in /usr/local/lib/python3.10/dist-packages (from pyspedas) (5.2.2)\n",
      "Requirement already satisfied: hapiclient>=0.2.2 in /usr/local/lib/python3.10/dist-packages (from pyspedas) (0.2.5)\n",
      "Requirement already satisfied: pytplot-mpl-temp>=2.1.37 in /usr/local/lib/python3.10/dist-packages (from pyspedas) (2.1.39)\n",
      "Requirement already satisfied: viresclient in /usr/local/lib/python3.10/dist-packages (from pyspedas) (0.11.1)\n",
      "Requirement already satisfied: python-dateutil>=2.8.0 in /usr/local/lib/python3.10/dist-packages (from cdasws>=1.7.24->pyspedas) (2.8.2)\n",
      "Requirement already satisfied: scipy in /usr/local/lib/python3.10/dist-packages (from geopack>=1.0.10->pyspedas) (1.10.1)\n",
      "Requirement already satisfied: isodate>=0.6.0 in /usr/local/lib/python3.10/dist-packages (from hapiclient>=0.2.2->pyspedas) (0.6.1)\n",
      "Requirement already satisfied: urllib3 in /usr/local/lib/python3.10/dist-packages (from hapiclient>=0.2.2->pyspedas) (1.26.15)\n",
      "Requirement already satisfied: joblib in /usr/local/lib/python3.10/dist-packages (from hapiclient>=0.2.2->pyspedas) (1.2.0)\n",
      "Requirement already satisfied: pandas>=0.23 in /usr/local/lib/python3.10/dist-packages (from hapiclient>=0.2.2->pyspedas) (1.5.3)\n",
      "Requirement already satisfied: cftime in /usr/local/lib/python3.10/dist-packages (from netCDF4>=1.6.2->pyspedas) (1.6.2)\n",
      "Requirement already satisfied: certifi in /usr/local/lib/python3.10/dist-packages (from netCDF4>=1.6.2->pyspedas) (2022.12.7)\n",
      "Requirement already satisfied: bokeh<3.0,>=1.1 in /usr/local/lib/python3.10/dist-packages (from pytplot-mpl-temp>=2.1.37->pyspedas) (2.4.3)\n",
      "Requirement already satisfied: matplotlib>=3.4 in /usr/local/lib/python3.10/dist-packages (from pytplot-mpl-temp>=2.1.37->pyspedas) (3.7.1)\n",
      "Requirement already satisfied: xarray in /usr/local/lib/python3.10/dist-packages (from pytplot-mpl-temp>=2.1.37->pyspedas) (2022.12.0)\n",
      "Requirement already satisfied: charset-normalizer<4,>=2 in /usr/local/lib/python3.10/dist-packages (from requests->pyspedas) (2.0.12)\n",
      "Requirement already satisfied: idna<4,>=2.5 in /usr/local/lib/python3.10/dist-packages (from requests->pyspedas) (3.4)\n",
      "Requirement already satisfied: pyerfa>=2.0 in /usr/local/lib/python3.10/dist-packages (from astropy->pyspedas) (2.0.0.3)\n",
      "Requirement already satisfied: PyYAML>=3.13 in /usr/local/lib/python3.10/dist-packages (from astropy->pyspedas) (6.0)\n",
      "Requirement already satisfied: packaging>=19.0 in /usr/local/lib/python3.10/dist-packages (from astropy->pyspedas) (23.1)\n",
      "Requirement already satisfied: Jinja2>=2.10 in /usr/local/lib/python3.10/dist-packages (from viresclient->pyspedas) (3.1.2)\n",
      "Requirement already satisfied: tables>=3.4.4 in /usr/local/lib/python3.10/dist-packages (from viresclient->pyspedas) (3.8.0)\n",
      "Requirement already satisfied: tqdm>=4.23.0 in /usr/local/lib/python3.10/dist-packages (from viresclient->pyspedas) (4.65.0)\n",
      "Requirement already satisfied: pillow>=7.1.0 in /usr/local/lib/python3.10/dist-packages (from bokeh<3.0,>=1.1->pytplot-mpl-temp>=2.1.37->pyspedas) (8.4.0)\n",
      "Requirement already satisfied: tornado>=5.1 in /usr/local/lib/python3.10/dist-packages (from bokeh<3.0,>=1.1->pytplot-mpl-temp>=2.1.37->pyspedas) (6.3.1)\n",
      "Requirement already satisfied: typing-extensions>=3.10.0 in /usr/local/lib/python3.10/dist-packages (from bokeh<3.0,>=1.1->pytplot-mpl-temp>=2.1.37->pyspedas) (4.5.0)\n",
      "Requirement already satisfied: six in /usr/local/lib/python3.10/dist-packages (from isodate>=0.6.0->hapiclient>=0.2.2->pyspedas) (1.16.0)\n",
      "Requirement already satisfied: MarkupSafe>=2.0 in /usr/local/lib/python3.10/dist-packages (from Jinja2>=2.10->viresclient->pyspedas) (2.1.2)\n",
      "Requirement already satisfied: contourpy>=1.0.1 in /usr/local/lib/python3.10/dist-packages (from matplotlib>=3.4->pytplot-mpl-temp>=2.1.37->pyspedas) (1.0.7)\n",
      "Requirement already satisfied: cycler>=0.10 in /usr/local/lib/python3.10/dist-packages (from matplotlib>=3.4->pytplot-mpl-temp>=2.1.37->pyspedas) (0.11.0)\n",
      "Requirement already satisfied: fonttools>=4.22.0 in /usr/local/lib/python3.10/dist-packages (from matplotlib>=3.4->pytplot-mpl-temp>=2.1.37->pyspedas) (4.39.3)\n",
      "Requirement already satisfied: kiwisolver>=1.0.1 in /usr/local/lib/python3.10/dist-packages (from matplotlib>=3.4->pytplot-mpl-temp>=2.1.37->pyspedas) (1.4.4)\n",
      "Requirement already satisfied: pyparsing>=2.3.1 in /usr/local/lib/python3.10/dist-packages (from matplotlib>=3.4->pytplot-mpl-temp>=2.1.37->pyspedas) (3.0.9)\n",
      "Requirement already satisfied: pytz>=2020.1 in /usr/local/lib/python3.10/dist-packages (from pandas>=0.23->hapiclient>=0.2.2->pyspedas) (2022.7.1)\n",
      "Requirement already satisfied: cython>=0.29.21 in /usr/local/lib/python3.10/dist-packages (from tables>=3.4.4->viresclient->pyspedas) (0.29.34)\n",
      "Requirement already satisfied: numexpr>=2.6.2 in /usr/local/lib/python3.10/dist-packages (from tables>=3.4.4->viresclient->pyspedas) (2.8.4)\n",
      "Requirement already satisfied: blosc2~=2.0.0 in /usr/local/lib/python3.10/dist-packages (from tables>=3.4.4->viresclient->pyspedas) (2.0.0)\n",
      "Requirement already satisfied: py-cpuinfo in /usr/local/lib/python3.10/dist-packages (from tables>=3.4.4->viresclient->pyspedas) (9.0.0)\n",
      "Requirement already satisfied: msgpack in /usr/local/lib/python3.10/dist-packages (from blosc2~=2.0.0->tables>=3.4.4->viresclient->pyspedas) (1.0.5)\n"
     ]
    }
   ]
  },
  {
   "cell_type": "markdown",
   "source": [
    "This line installs plasmapy, which is not installed by default when you install pyspedas.  If you already have it installed, you can comment this line out, or skip it.\n",
    "For more information on plasmapy, see https://docs.plasmapy.org/\n"
   ],
   "metadata": {
    "collapsed": false
   },
   "id": "780553082965377"
  },
  {
   "cell_type": "code",
   "execution_count": null,
   "outputs": [],
   "source": [
    "!pip install plasmapy"
   ],
   "metadata": {
    "collapsed": false
   },
   "id": "213bf473ce7bf633"
  },
  {
   "cell_type": "markdown",
   "source": [
    "### Load the data\n",
    "To get started, we import `pyspedas` and load the MMS data for October 16, 2015"
   ],
   "metadata": {
    "collapsed": false
   },
   "id": "9e42cef657306e2b"
  },
  {
   "cell_type": "code",
   "execution_count": 2,
   "outputs": [
    {
     "output_type": "stream",
     "name": "stderr",
     "text": [
      "20-Jun-23 17:21:48: Loading pydata/mms1/fgm/brst/l2/2015/10/16/mms1_fgm_brst_l2_20151016125604_v4.18.1.cdf\n",
      "20-Jun-23 17:21:48: Loading pydata/mms1/fgm/brst/l2/2015/10/16/mms1_fgm_brst_l2_20151016130224_v4.18.1.cdf\n",
      "20-Jun-23 17:21:48: Loading pydata/mms1/fgm/brst/l2/2015/10/16/mms1_fgm_brst_l2_20151016130334_v4.18.1.cdf\n",
      "20-Jun-23 17:21:48: Loading pydata/mms1/fgm/brst/l2/2015/10/16/mms1_fgm_brst_l2_20151016130524_v4.18.1.cdf\n",
      "20-Jun-23 17:21:48: Loading pydata/mms1/fgm/brst/l2/2015/10/16/mms1_fgm_brst_l2_20151016130904_v4.18.1.cdf\n",
      "20-Jun-23 17:21:49: mms1_fgm_rdeltahalf_brst_l2: lengths of x (32) and y (59520) do not match!\n",
      "20-Jun-23 17:21:49: mms1_fgm_rdeltahalf_brst_l2 is currently not in pytplot.\n",
      "20-Jun-23 17:21:49: mms1_fgm_rdeltahalf_brst_l2 is currently not in pytplot.\n",
      "20-Jun-23 17:21:49: mms1_fgm_rdeltahalf_brst_l2 is currently not in pytplot.\n",
      "20-Jun-23 17:21:49: mms1_fgm_rdeltahalf_brst_l2 is currently not in pytplot.\n",
      "20-Jun-23 17:21:50: Time clip was applied to: mms1_fgm_b_gse_brst_l2\n",
      "20-Jun-23 17:21:50: Time clip was applied to: mms1_fgm_b_gsm_brst_l2\n",
      "20-Jun-23 17:21:50: Time clip was applied to: mms1_fgm_b_dmpa_brst_l2\n",
      "20-Jun-23 17:21:51: Time clip was applied to: mms1_fgm_b_bcs_brst_l2\n",
      "20-Jun-23 17:21:51: Time clip was applied to: mms1_fgm_flag_brst_l2\n",
      "20-Jun-23 17:21:51: Time clip was applied to: mms1_fgm_r_gse_brst_l2\n",
      "20-Jun-23 17:21:51: Time clip was applied to: mms1_fgm_r_gsm_brst_l2\n",
      "20-Jun-23 17:21:52: Time clip was applied to: mms1_fgm_hirange_brst_l2\n",
      "20-Jun-23 17:21:52: Time clip was applied to: mms1_fgm_bdeltahalf_brst_l2\n",
      "20-Jun-23 17:21:52: Time clip was applied to: mms1_fgm_stemp_brst_l2\n",
      "20-Jun-23 17:21:52: Time clip was applied to: mms1_fgm_etemp_brst_l2\n",
      "20-Jun-23 17:21:52: Time clip was applied to: mms1_fgm_mode_brst_l2\n",
      "20-Jun-23 17:21:52: Time clip error: No pytplot names were provided.\n",
      "20-Jun-23 17:21:52: Loaded variables:\n",
      "20-Jun-23 17:21:52: Epoch\n",
      "20-Jun-23 17:21:52: mms1_fgm_b_gse_brst_l2\n",
      "20-Jun-23 17:21:52: mms1_fgm_b_gsm_brst_l2\n",
      "20-Jun-23 17:21:52: mms1_fgm_b_dmpa_brst_l2\n",
      "20-Jun-23 17:21:52: mms1_fgm_b_bcs_brst_l2\n",
      "20-Jun-23 17:21:52: mms1_fgm_flag_brst_l2\n",
      "20-Jun-23 17:21:52: Epoch_state\n",
      "20-Jun-23 17:21:52: mms1_fgm_hirange_brst_l2\n",
      "20-Jun-23 17:21:52: mms1_fgm_bdeltahalf_brst_l2\n",
      "20-Jun-23 17:21:52: mms1_fgm_stemp_brst_l2\n",
      "20-Jun-23 17:21:52: mms1_fgm_etemp_brst_l2\n",
      "20-Jun-23 17:21:52: mms1_fgm_mode_brst_l2\n",
      "20-Jun-23 17:21:52: mms1_fgm_rdeltahalf_brst_l2\n",
      "20-Jun-23 17:21:52: mms1_fgm_b_dmpa_brst_l2_bvec\n",
      "20-Jun-23 17:21:52: mms1_fgm_b_dmpa_brst_l2_btot\n",
      "20-Jun-23 17:21:52: mms1_fgm_b_gse_brst_l2_bvec\n",
      "20-Jun-23 17:21:52: mms1_fgm_b_gse_brst_l2_btot\n",
      "20-Jun-23 17:21:52: mms1_fgm_b_gsm_brst_l2_bvec\n",
      "20-Jun-23 17:21:52: mms1_fgm_b_gsm_brst_l2_btot\n",
      "20-Jun-23 17:21:52: mms1_fgm_b_bcs_brst_l2_bvec\n",
      "20-Jun-23 17:21:52: mms1_fgm_b_bcs_brst_l2_btot\n",
      "20-Jun-23 17:21:53: Loading pydata/mms1/fpi/brst/l2/dis-moms/2015/10/16/mms1_fpi_brst_l2_dis-moms_20151016125604_v3.3.0.cdf\n",
      "20-Jun-23 17:21:53: Loading pydata/mms1/fpi/brst/l2/dis-moms/2015/10/16/mms1_fpi_brst_l2_dis-moms_20151016130224_v3.3.0.cdf\n",
      "20-Jun-23 17:21:53: Loading pydata/mms1/fpi/brst/l2/dis-moms/2015/10/16/mms1_fpi_brst_l2_dis-moms_20151016130334_v3.3.0.cdf\n",
      "20-Jun-23 17:21:53: Loading pydata/mms1/fpi/brst/l2/dis-moms/2015/10/16/mms1_fpi_brst_l2_dis-moms_20151016130524_v3.3.0.cdf\n",
      "20-Jun-23 17:21:53: Loading pydata/mms1/fpi/brst/l2/dis-moms/2015/10/16/mms1_fpi_brst_l2_dis-moms_20151016130904_v3.3.0.cdf\n",
      "20-Jun-23 17:21:53: Loading pydata/mms1/fpi/brst/l2/des-moms/2015/10/16/mms1_fpi_brst_l2_des-moms_20151016125604_v3.3.0.cdf\n",
      "20-Jun-23 17:21:53: Loading pydata/mms1/fpi/brst/l2/des-moms/2015/10/16/mms1_fpi_brst_l2_des-moms_20151016130224_v3.3.0.cdf\n",
      "20-Jun-23 17:21:53: Loading pydata/mms1/fpi/brst/l2/des-moms/2015/10/16/mms1_fpi_brst_l2_des-moms_20151016130334_v3.3.0.cdf\n",
      "20-Jun-23 17:21:53: Loading pydata/mms1/fpi/brst/l2/des-moms/2015/10/16/mms1_fpi_brst_l2_des-moms_20151016130524_v3.3.0.cdf\n",
      "20-Jun-23 17:21:53: Loading pydata/mms1/fpi/brst/l2/des-moms/2015/10/16/mms1_fpi_brst_l2_des-moms_20151016130904_v3.3.0.cdf\n",
      "20-Jun-23 17:21:56: Time clip was applied to: mms1_des_errorflags_brst\n",
      "20-Jun-23 17:21:57: Time clip was applied to: mms1_des_compressionloss_brst\n",
      "20-Jun-23 17:21:57: Time clip was applied to: mms1_des_steptable_parity_brst\n",
      "20-Jun-23 17:21:57: Time clip was applied to: mms1_des_startdelphi_count_brst\n",
      "20-Jun-23 17:21:57: Time clip was applied to: mms1_des_startdelphi_angle_brst\n",
      "20-Jun-23 17:21:57: Time clip was applied to: mms1_des_sector_despinp_brst\n",
      "20-Jun-23 17:21:57: Time clip was applied to: mms1_des_pitchangdist_lowen_brst\n",
      "20-Jun-23 17:21:57: Time clip was applied to: mms1_des_pitchangdist_miden_brst\n",
      "20-Jun-23 17:21:57: Time clip was applied to: mms1_des_pitchangdist_highen_brst\n",
      "20-Jun-23 17:21:57: Time clip was applied to: mms1_des_energyspectr_px_brst\n",
      "20-Jun-23 17:21:58: Time clip was applied to: mms1_des_energyspectr_mx_brst\n",
      "20-Jun-23 17:21:58: Time clip was applied to: mms1_des_energyspectr_py_brst\n",
      "20-Jun-23 17:21:58: Time clip was applied to: mms1_des_energyspectr_my_brst\n",
      "20-Jun-23 17:21:58: Time clip was applied to: mms1_des_energyspectr_pz_brst\n",
      "20-Jun-23 17:21:58: Time clip was applied to: mms1_des_energyspectr_mz_brst\n",
      "20-Jun-23 17:21:58: Time clip was applied to: mms1_des_energyspectr_par_brst\n",
      "20-Jun-23 17:21:58: Time clip was applied to: mms1_des_energyspectr_anti_brst\n",
      "20-Jun-23 17:21:58: Time clip was applied to: mms1_des_energyspectr_perp_brst\n",
      "20-Jun-23 17:21:58: Time clip was applied to: mms1_des_energyspectr_omni_brst\n",
      "20-Jun-23 17:21:58: Time clip was applied to: mms1_des_numberdensity_brst\n",
      "20-Jun-23 17:21:59: Time clip was applied to: mms1_des_numberdensity_err_brst\n",
      "20-Jun-23 17:21:59: Time clip was applied to: mms1_des_densityextrapolation_low_brst\n",
      "20-Jun-23 17:21:59: Time clip was applied to: mms1_des_densityextrapolation_high_brst\n",
      "20-Jun-23 17:21:59: Time clip was applied to: mms1_des_bulkv_dbcs_brst\n",
      "20-Jun-23 17:21:59: Time clip was applied to: mms1_des_bulkv_spintone_dbcs_brst\n",
      "20-Jun-23 17:21:59: Time clip was applied to: mms1_des_bulkv_gse_brst\n",
      "20-Jun-23 17:21:59: Time clip was applied to: mms1_des_bulkv_spintone_gse_brst\n",
      "20-Jun-23 17:21:59: Time clip was applied to: mms1_des_bulkv_err_brst\n",
      "20-Jun-23 17:21:59: Time clip was applied to: mms1_des_prestensor_dbcs_brst\n",
      "20-Jun-23 17:21:59: Time clip was applied to: mms1_des_prestensor_gse_brst\n",
      "20-Jun-23 17:21:59: Time clip was applied to: mms1_des_prestensor_err_brst\n",
      "20-Jun-23 17:21:59: Time clip was applied to: mms1_des_temptensor_dbcs_brst\n",
      "20-Jun-23 17:21:59: Time clip was applied to: mms1_des_temptensor_gse_brst\n",
      "20-Jun-23 17:22:00: Time clip was applied to: mms1_des_temptensor_err_brst\n",
      "20-Jun-23 17:22:00: Time clip was applied to: mms1_des_heatq_dbcs_brst\n",
      "20-Jun-23 17:22:00: Time clip was applied to: mms1_des_heatq_gse_brst\n",
      "20-Jun-23 17:22:00: Time clip was applied to: mms1_des_heatq_err_brst\n",
      "20-Jun-23 17:22:00: Time clip was applied to: mms1_des_energy_brst\n",
      "20-Jun-23 17:22:00: Time clip was applied to: mms1_des_energy_delta_brst\n",
      "20-Jun-23 17:22:00: Time clip was applied to: mms1_des_temppara_brst\n",
      "20-Jun-23 17:22:00: Time clip was applied to: mms1_des_tempperp_brst\n",
      "20-Jun-23 17:22:00: Time clip was applied to: mms1_dis_errorflags_brst\n",
      "20-Jun-23 17:22:00: Time clip was applied to: mms1_dis_compressionloss_brst\n",
      "20-Jun-23 17:22:00: Time clip was applied to: mms1_dis_steptable_parity_brst\n",
      "20-Jun-23 17:22:00: Time clip was applied to: mms1_dis_startdelphi_count_brst\n",
      "20-Jun-23 17:22:00: Time clip was applied to: mms1_dis_startdelphi_angle_brst\n",
      "20-Jun-23 17:22:00: Time clip was applied to: mms1_dis_sector_despinp_brst\n",
      "20-Jun-23 17:22:00: Time clip was applied to: mms1_dis_energyspectr_px_brst\n",
      "20-Jun-23 17:22:00: Time clip was applied to: mms1_dis_energyspectr_mx_brst\n",
      "20-Jun-23 17:22:00: Time clip was applied to: mms1_dis_energyspectr_py_brst\n",
      "20-Jun-23 17:22:00: Time clip was applied to: mms1_dis_energyspectr_my_brst\n",
      "20-Jun-23 17:22:00: Time clip was applied to: mms1_dis_energyspectr_pz_brst\n",
      "20-Jun-23 17:22:00: Time clip was applied to: mms1_dis_energyspectr_mz_brst\n",
      "20-Jun-23 17:22:00: Time clip was applied to: mms1_dis_energyspectr_omni_brst\n",
      "20-Jun-23 17:22:00: Time clip was applied to: mms1_dis_spectr_bg_brst\n",
      "20-Jun-23 17:22:00: Time clip was applied to: mms1_dis_numberdensity_bg_brst\n",
      "20-Jun-23 17:22:00: Time clip was applied to: mms1_dis_numberdensity_brst\n",
      "20-Jun-23 17:22:00: Time clip was applied to: mms1_dis_numberdensity_err_brst\n",
      "20-Jun-23 17:22:00: Time clip was applied to: mms1_dis_densityextrapolation_low_brst\n",
      "20-Jun-23 17:22:00: Time clip was applied to: mms1_dis_densityextrapolation_high_brst\n",
      "20-Jun-23 17:22:00: Time clip was applied to: mms1_dis_bulkv_dbcs_brst\n",
      "20-Jun-23 17:22:00: Time clip was applied to: mms1_dis_bulkv_spintone_dbcs_brst\n",
      "20-Jun-23 17:22:00: Time clip was applied to: mms1_dis_bulkv_gse_brst\n",
      "20-Jun-23 17:22:00: Time clip was applied to: mms1_dis_bulkv_spintone_gse_brst\n",
      "20-Jun-23 17:22:00: Time clip was applied to: mms1_dis_bulkv_err_brst\n",
      "20-Jun-23 17:22:00: Time clip was applied to: mms1_dis_prestensor_dbcs_brst\n",
      "20-Jun-23 17:22:01: Time clip was applied to: mms1_dis_prestensor_gse_brst\n",
      "20-Jun-23 17:22:01: Time clip was applied to: mms1_dis_prestensor_err_brst\n",
      "20-Jun-23 17:22:01: Time clip was applied to: mms1_dis_pres_bg_brst\n",
      "20-Jun-23 17:22:01: Time clip was applied to: mms1_dis_temptensor_dbcs_brst\n",
      "20-Jun-23 17:22:01: Time clip was applied to: mms1_dis_temptensor_gse_brst\n",
      "20-Jun-23 17:22:01: Time clip was applied to: mms1_dis_temptensor_err_brst\n",
      "20-Jun-23 17:22:01: Time clip was applied to: mms1_dis_heatq_dbcs_brst\n",
      "20-Jun-23 17:22:01: Time clip was applied to: mms1_dis_heatq_gse_brst\n",
      "20-Jun-23 17:22:01: Time clip was applied to: mms1_dis_heatq_err_brst\n",
      "20-Jun-23 17:22:01: Time clip was applied to: mms1_dis_energy_brst\n",
      "20-Jun-23 17:22:01: Time clip was applied to: mms1_dis_energy_delta_brst\n",
      "20-Jun-23 17:22:01: Time clip was applied to: mms1_dis_temppara_brst\n",
      "20-Jun-23 17:22:01: Time clip was applied to: mms1_dis_tempperp_brst\n",
      "20-Jun-23 17:22:01: The name mms1_dis_pitchangdist_lowen_brst is currently not in pytplot\n",
      "20-Jun-23 17:22:01: The name mms1_dis_pitchangdist_miden_brst is currently not in pytplot\n",
      "20-Jun-23 17:22:01: The name mms1_dis_pitchangdist_highen_brst is currently not in pytplot\n",
      "20-Jun-23 17:22:01: The name mms1_des_compressionloss_brst_dist is currently not in pytplot\n",
      "20-Jun-23 17:22:01: The name mms1_des_compressionloss_brst_dist is currently not in pytplot\n",
      "20-Jun-23 17:22:01: Problem reading the variable: mms1_des_compressionloss_brst_dist\n",
      "20-Jun-23 17:22:01: The name mms1_dis_compressionloss_brst_dist is currently not in pytplot\n",
      "20-Jun-23 17:22:01: The name mms1_dis_compressionloss_brst_dist is currently not in pytplot\n",
      "20-Jun-23 17:22:01: Problem reading the variable: mms1_dis_compressionloss_brst_dist\n",
      "20-Jun-23 17:22:01: The name mms1_des_compressionloss_brst_dist is currently not in pytplot\n",
      "20-Jun-23 17:22:01: The name mms1_des_compressionloss_brst_dist is currently not in pytplot\n",
      "20-Jun-23 17:22:01: Problem reading the variable: mms1_des_compressionloss_brst_dist\n",
      "20-Jun-23 17:22:01: The name mms1_dis_compressionloss_brst_dist is currently not in pytplot\n",
      "20-Jun-23 17:22:01: The name mms1_dis_compressionloss_brst_dist is currently not in pytplot\n",
      "20-Jun-23 17:22:01: Problem reading the variable: mms1_dis_compressionloss_brst_dist\n",
      "20-Jun-23 17:22:01: Loaded variables:\n",
      "20-Jun-23 17:22:01: Epoch\n",
      "20-Jun-23 17:22:01: Epoch_plus_var\n",
      "20-Jun-23 17:22:01: Epoch_minus_var\n",
      "20-Jun-23 17:22:01: mms1_des_errorflags_brst\n",
      "20-Jun-23 17:22:01: mms1_des_compressionloss_brst\n",
      "20-Jun-23 17:22:01: mms1_des_steptable_parity_brst\n",
      "20-Jun-23 17:22:01: mms1_des_startdelphi_count_brst\n",
      "20-Jun-23 17:22:01: mms1_des_startdelphi_angle_brst\n",
      "20-Jun-23 17:22:01: mms1_des_sector_despinp_brst\n",
      "20-Jun-23 17:22:01: mms1_des_pitchangdist_lowen_brst\n",
      "20-Jun-23 17:22:01: mms1_des_pitchangdist_miden_brst\n",
      "20-Jun-23 17:22:01: mms1_des_pitchangdist_highen_brst\n",
      "20-Jun-23 17:22:01: mms1_des_energyspectr_px_brst\n",
      "20-Jun-23 17:22:01: mms1_des_energyspectr_mx_brst\n",
      "20-Jun-23 17:22:01: mms1_des_energyspectr_py_brst\n",
      "20-Jun-23 17:22:01: mms1_des_energyspectr_my_brst\n",
      "20-Jun-23 17:22:01: mms1_des_energyspectr_pz_brst\n",
      "20-Jun-23 17:22:01: mms1_des_energyspectr_mz_brst\n",
      "20-Jun-23 17:22:01: mms1_des_energyspectr_par_brst\n",
      "20-Jun-23 17:22:01: mms1_des_energyspectr_anti_brst\n",
      "20-Jun-23 17:22:01: mms1_des_energyspectr_perp_brst\n",
      "20-Jun-23 17:22:01: mms1_des_energyspectr_omni_brst\n",
      "20-Jun-23 17:22:01: mms1_des_numberdensity_brst\n",
      "20-Jun-23 17:22:01: mms1_des_numberdensity_err_brst\n",
      "20-Jun-23 17:22:01: mms1_des_densityextrapolation_low_brst\n",
      "20-Jun-23 17:22:01: mms1_des_densityextrapolation_high_brst\n",
      "20-Jun-23 17:22:01: mms1_des_bulkv_dbcs_brst\n",
      "20-Jun-23 17:22:01: mms1_des_bulkv_spintone_dbcs_brst\n",
      "20-Jun-23 17:22:01: mms1_des_bulkv_gse_brst\n",
      "20-Jun-23 17:22:01: mms1_des_bulkv_spintone_gse_brst\n",
      "20-Jun-23 17:22:01: mms1_des_bulkv_err_brst\n",
      "20-Jun-23 17:22:01: mms1_des_prestensor_dbcs_brst\n",
      "20-Jun-23 17:22:01: mms1_des_prestensor_gse_brst\n",
      "20-Jun-23 17:22:01: mms1_des_prestensor_err_brst\n",
      "20-Jun-23 17:22:01: mms1_des_temptensor_dbcs_brst\n",
      "20-Jun-23 17:22:01: mms1_des_temptensor_gse_brst\n",
      "20-Jun-23 17:22:01: mms1_des_temptensor_err_brst\n",
      "20-Jun-23 17:22:01: mms1_des_heatq_dbcs_brst\n",
      "20-Jun-23 17:22:01: mms1_des_heatq_gse_brst\n",
      "20-Jun-23 17:22:01: mms1_des_heatq_err_brst\n",
      "20-Jun-23 17:22:01: mms1_des_alpha_brst\n",
      "20-Jun-23 17:22:01: mms1_des_alpha_delta_brst\n",
      "20-Jun-23 17:22:01: mms1_des_energy_brst\n",
      "20-Jun-23 17:22:01: mms1_des_energy_delta_brst\n",
      "20-Jun-23 17:22:01: mms1_des_temppara_brst\n",
      "20-Jun-23 17:22:01: mms1_des_tempperp_brst\n",
      "20-Jun-23 17:22:01: mms1_dis_errorflags_brst\n",
      "20-Jun-23 17:22:01: mms1_dis_compressionloss_brst\n",
      "20-Jun-23 17:22:01: mms1_dis_steptable_parity_brst\n",
      "20-Jun-23 17:22:01: mms1_dis_startdelphi_count_brst\n",
      "20-Jun-23 17:22:01: mms1_dis_startdelphi_angle_brst\n",
      "20-Jun-23 17:22:01: mms1_dis_sector_despinp_brst\n",
      "20-Jun-23 17:22:01: mms1_dis_energyspectr_px_brst\n",
      "20-Jun-23 17:22:01: mms1_dis_energyspectr_mx_brst\n",
      "20-Jun-23 17:22:01: mms1_dis_energyspectr_py_brst\n",
      "20-Jun-23 17:22:01: mms1_dis_energyspectr_my_brst\n",
      "20-Jun-23 17:22:01: mms1_dis_energyspectr_pz_brst\n",
      "20-Jun-23 17:22:01: mms1_dis_energyspectr_mz_brst\n",
      "20-Jun-23 17:22:01: mms1_dis_energyspectr_omni_brst\n",
      "20-Jun-23 17:22:01: mms1_dis_spectr_bg_brst\n",
      "20-Jun-23 17:22:01: mms1_dis_numberdensity_bg_brst\n",
      "20-Jun-23 17:22:01: mms1_dis_numberdensity_brst\n",
      "20-Jun-23 17:22:01: mms1_dis_numberdensity_err_brst\n",
      "20-Jun-23 17:22:01: mms1_dis_densityextrapolation_low_brst\n",
      "20-Jun-23 17:22:01: mms1_dis_densityextrapolation_high_brst\n",
      "20-Jun-23 17:22:01: mms1_dis_bulkv_dbcs_brst\n",
      "20-Jun-23 17:22:01: mms1_dis_bulkv_spintone_dbcs_brst\n",
      "20-Jun-23 17:22:01: mms1_dis_bulkv_gse_brst\n",
      "20-Jun-23 17:22:01: mms1_dis_bulkv_spintone_gse_brst\n",
      "20-Jun-23 17:22:01: mms1_dis_bulkv_err_brst\n",
      "20-Jun-23 17:22:01: mms1_dis_prestensor_dbcs_brst\n",
      "20-Jun-23 17:22:01: mms1_dis_prestensor_gse_brst\n",
      "20-Jun-23 17:22:01: mms1_dis_prestensor_err_brst\n",
      "20-Jun-23 17:22:01: mms1_dis_pres_bg_brst\n",
      "20-Jun-23 17:22:01: mms1_dis_temptensor_dbcs_brst\n",
      "20-Jun-23 17:22:01: mms1_dis_temptensor_gse_brst\n",
      "20-Jun-23 17:22:01: mms1_dis_temptensor_err_brst\n",
      "20-Jun-23 17:22:01: mms1_dis_heatq_dbcs_brst\n",
      "20-Jun-23 17:22:01: mms1_dis_heatq_gse_brst\n",
      "20-Jun-23 17:22:01: mms1_dis_heatq_err_brst\n",
      "20-Jun-23 17:22:01: mms1_dis_energy_brst\n",
      "20-Jun-23 17:22:01: mms1_dis_energy_delta_brst\n",
      "20-Jun-23 17:22:01: mms1_dis_temppara_brst\n",
      "20-Jun-23 17:22:01: mms1_dis_tempperp_brst\n",
      "20-Jun-23 17:22:01: mms1_des_errorflags_brst_moms\n",
      "20-Jun-23 17:22:01: mms1_des_compressionloss_brst_moms\n",
      "20-Jun-23 17:22:01: mms1_dis_errorflags_brst_moms\n",
      "20-Jun-23 17:22:01: mms1_dis_compressionloss_brst_moms\n",
      "20-Jun-23 17:22:01: mms1_dis_errorflags_brst_moms_flagbars_full\n",
      "20-Jun-23 17:22:01: mms1_dis_errorflags_brst_moms_flagbars_main\n",
      "20-Jun-23 17:22:01: mms1_dis_errorflags_brst_moms_flagbars_others\n",
      "20-Jun-23 17:22:01: mms1_dis_errorflags_brst_moms_flagbars_mini\n",
      "20-Jun-23 17:22:01: mms1_des_compressionloss_brst_moms_flagbars\n",
      "20-Jun-23 17:22:01: mms1_dis_compressionloss_brst_moms_flagbars\n",
      "20-Jun-23 17:22:01: mms1_des_pitchangdist_avg\n",
      "20-Jun-23 17:22:01: mms1_des_errorflags_brst_moms_flagbars_full\n",
      "20-Jun-23 17:22:01: mms1_des_errorflags_brst_moms_flagbars_main\n",
      "20-Jun-23 17:22:01: mms1_des_errorflags_brst_moms_flagbars_others\n",
      "20-Jun-23 17:22:01: mms1_des_errorflags_brst_moms_flagbars_mini\n",
      "20-Jun-23 17:22:01: mms1_des_compressionloss_brst_moms_flagbars\n",
      "20-Jun-23 17:22:01: mms1_dis_compressionloss_brst_moms_flagbars\n"
     ]
    },
    {
     "output_type": "execute_result",
     "data": {
      "text/plain": [
       "['Epoch',\n",
       " 'Epoch_plus_var',\n",
       " 'Epoch_minus_var',\n",
       " 'mms1_des_errorflags_brst',\n",
       " 'mms1_des_compressionloss_brst',\n",
       " 'mms1_des_steptable_parity_brst',\n",
       " 'mms1_des_startdelphi_count_brst',\n",
       " 'mms1_des_startdelphi_angle_brst',\n",
       " 'mms1_des_sector_despinp_brst',\n",
       " 'mms1_des_pitchangdist_lowen_brst',\n",
       " 'mms1_des_pitchangdist_miden_brst',\n",
       " 'mms1_des_pitchangdist_highen_brst',\n",
       " 'mms1_des_energyspectr_px_brst',\n",
       " 'mms1_des_energyspectr_mx_brst',\n",
       " 'mms1_des_energyspectr_py_brst',\n",
       " 'mms1_des_energyspectr_my_brst',\n",
       " 'mms1_des_energyspectr_pz_brst',\n",
       " 'mms1_des_energyspectr_mz_brst',\n",
       " 'mms1_des_energyspectr_par_brst',\n",
       " 'mms1_des_energyspectr_anti_brst',\n",
       " 'mms1_des_energyspectr_perp_brst',\n",
       " 'mms1_des_energyspectr_omni_brst',\n",
       " 'mms1_des_numberdensity_brst',\n",
       " 'mms1_des_numberdensity_err_brst',\n",
       " 'mms1_des_densityextrapolation_low_brst',\n",
       " 'mms1_des_densityextrapolation_high_brst',\n",
       " 'mms1_des_bulkv_dbcs_brst',\n",
       " 'mms1_des_bulkv_spintone_dbcs_brst',\n",
       " 'mms1_des_bulkv_gse_brst',\n",
       " 'mms1_des_bulkv_spintone_gse_brst',\n",
       " 'mms1_des_bulkv_err_brst',\n",
       " 'mms1_des_prestensor_dbcs_brst',\n",
       " 'mms1_des_prestensor_gse_brst',\n",
       " 'mms1_des_prestensor_err_brst',\n",
       " 'mms1_des_temptensor_dbcs_brst',\n",
       " 'mms1_des_temptensor_gse_brst',\n",
       " 'mms1_des_temptensor_err_brst',\n",
       " 'mms1_des_heatq_dbcs_brst',\n",
       " 'mms1_des_heatq_gse_brst',\n",
       " 'mms1_des_heatq_err_brst',\n",
       " 'mms1_des_alpha_brst',\n",
       " 'mms1_des_alpha_delta_brst',\n",
       " 'mms1_des_energy_brst',\n",
       " 'mms1_des_energy_delta_brst',\n",
       " 'mms1_des_temppara_brst',\n",
       " 'mms1_des_tempperp_brst',\n",
       " 'mms1_dis_errorflags_brst',\n",
       " 'mms1_dis_compressionloss_brst',\n",
       " 'mms1_dis_steptable_parity_brst',\n",
       " 'mms1_dis_startdelphi_count_brst',\n",
       " 'mms1_dis_startdelphi_angle_brst',\n",
       " 'mms1_dis_sector_despinp_brst',\n",
       " 'mms1_dis_energyspectr_px_brst',\n",
       " 'mms1_dis_energyspectr_mx_brst',\n",
       " 'mms1_dis_energyspectr_py_brst',\n",
       " 'mms1_dis_energyspectr_my_brst',\n",
       " 'mms1_dis_energyspectr_pz_brst',\n",
       " 'mms1_dis_energyspectr_mz_brst',\n",
       " 'mms1_dis_energyspectr_omni_brst',\n",
       " 'mms1_dis_spectr_bg_brst',\n",
       " 'mms1_dis_numberdensity_bg_brst',\n",
       " 'mms1_dis_numberdensity_brst',\n",
       " 'mms1_dis_numberdensity_err_brst',\n",
       " 'mms1_dis_densityextrapolation_low_brst',\n",
       " 'mms1_dis_densityextrapolation_high_brst',\n",
       " 'mms1_dis_bulkv_dbcs_brst',\n",
       " 'mms1_dis_bulkv_spintone_dbcs_brst',\n",
       " 'mms1_dis_bulkv_gse_brst',\n",
       " 'mms1_dis_bulkv_spintone_gse_brst',\n",
       " 'mms1_dis_bulkv_err_brst',\n",
       " 'mms1_dis_prestensor_dbcs_brst',\n",
       " 'mms1_dis_prestensor_gse_brst',\n",
       " 'mms1_dis_prestensor_err_brst',\n",
       " 'mms1_dis_pres_bg_brst',\n",
       " 'mms1_dis_temptensor_dbcs_brst',\n",
       " 'mms1_dis_temptensor_gse_brst',\n",
       " 'mms1_dis_temptensor_err_brst',\n",
       " 'mms1_dis_heatq_dbcs_brst',\n",
       " 'mms1_dis_heatq_gse_brst',\n",
       " 'mms1_dis_heatq_err_brst',\n",
       " 'mms1_dis_energy_brst',\n",
       " 'mms1_dis_energy_delta_brst',\n",
       " 'mms1_dis_temppara_brst',\n",
       " 'mms1_dis_tempperp_brst',\n",
       " 'mms1_des_errorflags_brst_moms',\n",
       " 'mms1_des_compressionloss_brst_moms',\n",
       " 'mms1_dis_errorflags_brst_moms',\n",
       " 'mms1_dis_compressionloss_brst_moms',\n",
       " 'mms1_dis_errorflags_brst_moms_flagbars_full',\n",
       " 'mms1_dis_errorflags_brst_moms_flagbars_main',\n",
       " 'mms1_dis_errorflags_brst_moms_flagbars_others',\n",
       " 'mms1_dis_errorflags_brst_moms_flagbars_mini',\n",
       " 'mms1_des_compressionloss_brst_moms_flagbars',\n",
       " 'mms1_dis_compressionloss_brst_moms_flagbars',\n",
       " 'mms1_des_pitchangdist_avg',\n",
       " 'mms1_des_errorflags_brst_moms_flagbars_full',\n",
       " 'mms1_des_errorflags_brst_moms_flagbars_main',\n",
       " 'mms1_des_errorflags_brst_moms_flagbars_others',\n",
       " 'mms1_des_errorflags_brst_moms_flagbars_mini',\n",
       " 'mms1_des_compressionloss_brst_moms_flagbars',\n",
       " 'mms1_dis_compressionloss_brst_moms_flagbars']"
      ]
     },
     "metadata": {},
     "execution_count": 2
    }
   ],
   "source": [
    "import pyspedas\n",
    "\n",
    "trange = ['2015-10-16/13:00', '2015-10-16/13:10']\n",
    "\n",
    "pyspedas.mms.fgm(trange=trange, data_rate='brst', time_clip=True)\n",
    "pyspedas.mms.fpi(datatype=['dis-moms', 'des-moms'], trange=trange, data_rate='brst', time_clip=True, center_measurement=True)"
   ],
   "metadata": {
    "colab": {
     "base_uri": "https://localhost:8080/"
    },
    "id": "_be0A_QY7s3i",
    "outputId": "18da9f30-0201-4817-eb39-395625c745bd"
   },
   "id": "_be0A_QY7s3i"
  },
  {
   "cell_type": "markdown",
   "source": [
    "### Interpolate to a common set of times\n",
    "\n",
    "Now we need to interpolate the B-field and DES (electron) data to the DIS (ion) time stamps\n",
    "\n",
    "\n",
    "Note: tinterpol creates a new variable containing the interpolated output with the suffix '-itrp'"
   ],
   "metadata": {
    "id": "jK76-kRw7s3k"
   },
   "id": "jK76-kRw7s3k"
  },
  {
   "cell_type": "code",
   "execution_count": 3,
   "metadata": {
    "colab": {
     "base_uri": "https://localhost:8080/"
    },
    "id": "ZYuewu0v7s3m",
    "outputId": "0f489e6e-9da8-4c99-9bd4-dd1ad65cdd5c"
   },
   "outputs": [
    {
     "output_type": "stream",
     "name": "stderr",
     "text": [
      "20-Jun-23 17:22:01: /usr/local/lib/python3.10/dist-packages/ipykernel/ipkernel.py:283: DeprecationWarning: `should_run_async` will not call `transform_cell` automatically in the future. Please pass the result to `transformed_cell` argument and any exception that happen during thetransform in `preprocessing_exc_tuple` in IPython 7.17 and above.\n",
      "  and should_run_async(code)\n",
      "\n",
      "20-Jun-23 17:22:02: tinterpol (linear) was applied to: mms1_fgm_b_gse_brst_l2_btot-itrp\n",
      "20-Jun-23 17:22:02: tinterpol (linear) was applied to: mms1_des_numberdensity_brst-itrp\n",
      "20-Jun-23 17:22:02: tinterpol (linear) was applied to: mms1_des_temppara_brst-itrp\n",
      "20-Jun-23 17:22:02: tinterpol (linear) was applied to: mms1_des_tempperp_brst-itrp\n"
     ]
    }
   ],
   "source": [
    "from pyspedas import tinterpol\n",
    "tinterpol('mms1_fgm_b_gse_brst_l2_btot', 'mms1_dis_numberdensity_brst')\n",
    "tinterpol('mms1_des_numberdensity_brst', 'mms1_dis_numberdensity_brst')\n",
    "tinterpol('mms1_des_temppara_brst', 'mms1_dis_numberdensity_brst')\n",
    "tinterpol('mms1_des_tempperp_brst', 'mms1_dis_numberdensity_brst')"
   ],
   "id": "ZYuewu0v7s3m"
  },
  {
   "cell_type": "code",
   "source": [
    "tinterpol('mms1_fgm_b_gse_brst_l2_bvec', 'mms1_dis_numberdensity_brst')"
   ],
   "metadata": {
    "colab": {
     "base_uri": "https://localhost:8080/"
    },
    "id": "mG9SlNN_T89l",
    "outputId": "f6358fba-58a9-4b53-bcc1-5b1ab686421e"
   },
   "id": "mG9SlNN_T89l",
   "execution_count": 4,
   "outputs": [
    {
     "output_type": "stream",
     "name": "stderr",
     "text": [
      "20-Jun-23 17:22:02: /usr/local/lib/python3.10/dist-packages/ipykernel/ipkernel.py:283: DeprecationWarning: `should_run_async` will not call `transform_cell` automatically in the future. Please pass the result to `transformed_cell` argument and any exception that happen during thetransform in `preprocessing_exc_tuple` in IPython 7.17 and above.\n",
      "  and should_run_async(code)\n",
      "\n",
      "20-Jun-23 17:22:02: tinterpol (linear) was applied to: mms1_fgm_b_gse_brst_l2_bvec-itrp\n"
     ]
    }
   ]
  },
  {
   "cell_type": "markdown",
   "metadata": {
    "id": "SwIQd2mn7s3n"
   },
   "source": [
    "### Extract the data values"
   ],
   "id": "SwIQd2mn7s3n"
  },
  {
   "cell_type": "code",
   "execution_count": 5,
   "metadata": {
    "id": "2pl3lvyQ7s3o",
    "colab": {
     "base_uri": "https://localhost:8080/"
    },
    "outputId": "da4e7acc-cef7-4e48-82ca-1b6f81d576fc"
   },
   "outputs": [
    {
     "output_type": "stream",
     "name": "stderr",
     "text": [
      "20-Jun-23 17:22:02: /usr/local/lib/python3.10/dist-packages/ipykernel/ipkernel.py:283: DeprecationWarning: `should_run_async` will not call `transform_cell` automatically in the future. Please pass the result to `transformed_cell` argument and any exception that happen during thetransform in `preprocessing_exc_tuple` in IPython 7.17 and above.\n",
      "  and should_run_async(code)\n",
      "\n"
     ]
    }
   ],
   "source": [
    "from pytplot import get\n",
    "fgm_b = get('mms1_fgm_b_gse_brst_l2_btot-itrp')\n",
    "dis_n = get('mms1_dis_numberdensity_brst')\n",
    "dis_Tpara = get('mms1_dis_temppara_brst')\n",
    "dis_Tperp = get('mms1_dis_tempperp_brst')\n",
    "des_n = get('mms1_des_numberdensity_brst-itrp')\n",
    "des_Tpara = get('mms1_des_temppara_brst-itrp')\n",
    "des_Tperp = get('mms1_des_tempperp_brst-itrp')"
   ],
   "id": "2pl3lvyQ7s3o"
  },
  {
   "cell_type": "markdown",
   "metadata": {
    "id": "6RFCojF47s3p"
   },
   "source": [
    "### Calculate T from Tpara and Tperp\n",
    "\n",
    "Temperature data released by the FPI team come as parallel and perpendicular components; to calculate plasma parameters, we'll need the total temperature.\n",
    "\n",
    "For details on this calculation, please see the FPI Data Product Guide:\n",
    "\n",
    "https://lasp.colorado.edu/galaxy/pages/viewpage.action?pageId=37618954"
   ],
   "id": "6RFCojF47s3p"
  },
  {
   "cell_type": "code",
   "execution_count": 7,
   "metadata": {
    "id": "ONycdP3Q7s3q"
   },
   "outputs": [],
   "source": [
    "dis_T = (dis_Tpara.y + 2*dis_Tperp.y)/3.0\n",
    "des_T = (des_Tpara.y + 2*des_Tperp.y)/3.0"
   ],
   "id": "ONycdP3Q7s3q"
  },
  {
   "cell_type": "markdown",
   "metadata": {
    "id": "YK3kDdkJ7s3q"
   },
   "source": [
    "### Add units to the data\n",
    "\n",
    "PlasmaPy requires us to specify the units of the data using `astropy` units"
   ],
   "id": "YK3kDdkJ7s3q"
  },
  {
   "cell_type": "code",
   "execution_count": 17,
   "metadata": {
    "id": "ImqJzSum7s3r"
   },
   "outputs": [],
   "source": [
    "from astropy import units as u\n",
    "B = fgm_b.y\n",
    "n_i = dis_n.y\n",
    "n_e = des_n.y\n",
    "T_i = dis_T\n",
    "T_e = des_T"
   ],
   "id": "ImqJzSum7s3r"
  },
  {
   "cell_type": "markdown",
   "metadata": {
    "id": "FzQeN1Sx7s3s"
   },
   "source": [
    "Now that we have some data loaded, we'll calculate some plasma parameters"
   ],
   "id": "FzQeN1Sx7s3s"
  },
  {
   "cell_type": "code",
   "source": [
    "!pip install plasmapy"
   ],
   "metadata": {
    "colab": {
     "base_uri": "https://localhost:8080/"
    },
    "id": "l_chY55VRMcX",
    "outputId": "a5a8c000-bd71-4efa-cf13-7925373de49b"
   },
   "id": "l_chY55VRMcX",
   "execution_count": 18,
   "outputs": [
    {
     "output_type": "stream",
     "name": "stdout",
     "text": [
      "Looking in indexes: https://pypi.org/simple, https://us-python.pkg.dev/colab-wheels/public/simple/\n",
      "Requirement already satisfied: plasmapy in /usr/local/lib/python3.10/dist-packages (2023.5.1)\n",
      "Requirement already satisfied: astropy>=5.0.1 in /usr/local/lib/python3.10/dist-packages (from plasmapy) (5.2.2)\n",
      "Requirement already satisfied: h5py>=3.3.0 in /usr/local/lib/python3.10/dist-packages (from plasmapy) (3.8.0)\n",
      "Requirement already satisfied: ipykernel>=5.5.6 in /usr/local/lib/python3.10/dist-packages (from plasmapy) (5.5.6)\n",
      "Requirement already satisfied: ipywidgets>=7.6.5 in /usr/local/lib/python3.10/dist-packages (from plasmapy) (7.7.1)\n",
      "Requirement already satisfied: lmfit>=1.0.3 in /usr/local/lib/python3.10/dist-packages (from plasmapy) (1.2.1)\n",
      "Requirement already satisfied: matplotlib>=3.5.1 in /usr/local/lib/python3.10/dist-packages (from plasmapy) (3.7.1)\n",
      "Requirement already satisfied: mpmath>=1.2.1 in /usr/local/lib/python3.10/dist-packages (from plasmapy) (1.3.0)\n",
      "Requirement already satisfied: numba>=0.56.0 in /usr/local/lib/python3.10/dist-packages (from plasmapy) (0.56.4)\n",
      "Requirement already satisfied: numpy>=1.21.0 in /usr/local/lib/python3.10/dist-packages (from plasmapy) (1.22.4)\n",
      "Requirement already satisfied: packaging>=22.0 in /usr/local/lib/python3.10/dist-packages (from plasmapy) (23.1)\n",
      "Requirement already satisfied: pandas>=1.3.0 in /usr/local/lib/python3.10/dist-packages (from plasmapy) (1.5.3)\n",
      "Requirement already satisfied: pytest>=7.0.1 in /usr/local/lib/python3.10/dist-packages (from plasmapy) (7.2.2)\n",
      "Requirement already satisfied: requests>=2.27.1 in /usr/local/lib/python3.10/dist-packages (from plasmapy) (2.31.0)\n",
      "Requirement already satisfied: scipy>=1.7.0 in /usr/local/lib/python3.10/dist-packages (from plasmapy) (1.10.1)\n",
      "Requirement already satisfied: tqdm>=4.60.0 in /usr/local/lib/python3.10/dist-packages (from plasmapy) (4.65.0)\n",
      "Requirement already satisfied: voila>=0.3.3 in /usr/local/lib/python3.10/dist-packages (from plasmapy) (0.4.0)\n",
      "Requirement already satisfied: wrapt>=1.12.1 in /usr/local/lib/python3.10/dist-packages (from plasmapy) (1.14.1)\n",
      "Requirement already satisfied: xarray>=2022.3.0 in /usr/local/lib/python3.10/dist-packages (from plasmapy) (2022.12.0)\n",
      "Requirement already satisfied: pyerfa>=2.0 in /usr/local/lib/python3.10/dist-packages (from astropy>=5.0.1->plasmapy) (2.0.0.3)\n",
      "Requirement already satisfied: PyYAML>=3.13 in /usr/local/lib/python3.10/dist-packages (from astropy>=5.0.1->plasmapy) (6.0)\n",
      "Requirement already satisfied: ipython-genutils in /usr/local/lib/python3.10/dist-packages (from ipykernel>=5.5.6->plasmapy) (0.2.0)\n",
      "Requirement already satisfied: ipython>=5.0.0 in /usr/local/lib/python3.10/dist-packages (from ipykernel>=5.5.6->plasmapy) (7.34.0)\n",
      "Requirement already satisfied: traitlets>=4.1.0 in /usr/local/lib/python3.10/dist-packages (from ipykernel>=5.5.6->plasmapy) (5.7.1)\n",
      "Requirement already satisfied: jupyter-client in /usr/local/lib/python3.10/dist-packages (from ipykernel>=5.5.6->plasmapy) (6.1.12)\n",
      "Requirement already satisfied: tornado>=4.2 in /usr/local/lib/python3.10/dist-packages (from ipykernel>=5.5.6->plasmapy) (6.3.1)\n",
      "Requirement already satisfied: widgetsnbextension~=3.6.0 in /usr/local/lib/python3.10/dist-packages (from ipywidgets>=7.6.5->plasmapy) (3.6.4)\n",
      "Requirement already satisfied: jupyterlab-widgets>=1.0.0 in /usr/local/lib/python3.10/dist-packages (from ipywidgets>=7.6.5->plasmapy) (3.0.7)\n",
      "Requirement already satisfied: asteval>=0.9.28 in /usr/local/lib/python3.10/dist-packages (from lmfit>=1.0.3->plasmapy) (0.9.30)\n",
      "Requirement already satisfied: uncertainties>=3.1.4 in /usr/local/lib/python3.10/dist-packages (from lmfit>=1.0.3->plasmapy) (3.1.7)\n",
      "Requirement already satisfied: contourpy>=1.0.1 in /usr/local/lib/python3.10/dist-packages (from matplotlib>=3.5.1->plasmapy) (1.0.7)\n",
      "Requirement already satisfied: cycler>=0.10 in /usr/local/lib/python3.10/dist-packages (from matplotlib>=3.5.1->plasmapy) (0.11.0)\n",
      "Requirement already satisfied: fonttools>=4.22.0 in /usr/local/lib/python3.10/dist-packages (from matplotlib>=3.5.1->plasmapy) (4.39.3)\n",
      "Requirement already satisfied: kiwisolver>=1.0.1 in /usr/local/lib/python3.10/dist-packages (from matplotlib>=3.5.1->plasmapy) (1.4.4)\n",
      "Requirement already satisfied: pillow>=6.2.0 in /usr/local/lib/python3.10/dist-packages (from matplotlib>=3.5.1->plasmapy) (8.4.0)\n",
      "Requirement already satisfied: pyparsing>=2.3.1 in /usr/local/lib/python3.10/dist-packages (from matplotlib>=3.5.1->plasmapy) (3.0.9)\n",
      "Requirement already satisfied: python-dateutil>=2.7 in /usr/local/lib/python3.10/dist-packages (from matplotlib>=3.5.1->plasmapy) (2.8.2)\n",
      "Requirement already satisfied: llvmlite<0.40,>=0.39.0dev0 in /usr/local/lib/python3.10/dist-packages (from numba>=0.56.0->plasmapy) (0.39.1)\n",
      "Requirement already satisfied: setuptools in /usr/local/lib/python3.10/dist-packages (from numba>=0.56.0->plasmapy) (67.7.2)\n",
      "Requirement already satisfied: pytz>=2020.1 in /usr/local/lib/python3.10/dist-packages (from pandas>=1.3.0->plasmapy) (2022.7.1)\n",
      "Requirement already satisfied: attrs>=19.2.0 in /usr/local/lib/python3.10/dist-packages (from pytest>=7.0.1->plasmapy) (23.1.0)\n",
      "Requirement already satisfied: iniconfig in /usr/local/lib/python3.10/dist-packages (from pytest>=7.0.1->plasmapy) (2.0.0)\n",
      "Requirement already satisfied: pluggy<2.0,>=0.12 in /usr/local/lib/python3.10/dist-packages (from pytest>=7.0.1->plasmapy) (1.0.0)\n",
      "Requirement already satisfied: exceptiongroup>=1.0.0rc8 in /usr/local/lib/python3.10/dist-packages (from pytest>=7.0.1->plasmapy) (1.1.1)\n",
      "Requirement already satisfied: tomli>=1.0.0 in /usr/local/lib/python3.10/dist-packages (from pytest>=7.0.1->plasmapy) (2.0.1)\n",
      "Requirement already satisfied: charset-normalizer<4,>=2 in /usr/local/lib/python3.10/dist-packages (from requests>=2.27.1->plasmapy) (2.0.12)\n",
      "Requirement already satisfied: idna<4,>=2.5 in /usr/local/lib/python3.10/dist-packages (from requests>=2.27.1->plasmapy) (3.4)\n",
      "Requirement already satisfied: urllib3<3,>=1.21.1 in /usr/local/lib/python3.10/dist-packages (from requests>=2.27.1->plasmapy) (1.26.15)\n",
      "Requirement already satisfied: certifi>=2017.4.17 in /usr/local/lib/python3.10/dist-packages (from requests>=2.27.1->plasmapy) (2022.12.7)\n",
      "Requirement already satisfied: jupyter-core>=4.11.0 in /usr/local/lib/python3.10/dist-packages (from voila>=0.3.3->plasmapy) (5.3.0)\n",
      "Requirement already satisfied: jupyter-server<2.0.0,>=1.18 in /usr/local/lib/python3.10/dist-packages (from voila>=0.3.3->plasmapy) (1.24.0)\n",
      "Requirement already satisfied: jupyterlab-server<3,>=2.3.0 in /usr/local/lib/python3.10/dist-packages (from voila>=0.3.3->plasmapy) (2.23.0)\n",
      "Requirement already satisfied: nbclient<0.8,>=0.4.0 in /usr/local/lib/python3.10/dist-packages (from voila>=0.3.3->plasmapy) (0.7.4)\n",
      "Requirement already satisfied: nbconvert<8,>=6.4.5 in /usr/local/lib/python3.10/dist-packages (from voila>=0.3.3->plasmapy) (6.5.4)\n",
      "Requirement already satisfied: websockets>=9.0 in /usr/local/lib/python3.10/dist-packages (from voila>=0.3.3->plasmapy) (11.0.3)\n",
      "Requirement already satisfied: jedi>=0.16 in /usr/local/lib/python3.10/dist-packages (from ipython>=5.0.0->ipykernel>=5.5.6->plasmapy) (0.18.2)\n",
      "Requirement already satisfied: decorator in /usr/local/lib/python3.10/dist-packages (from ipython>=5.0.0->ipykernel>=5.5.6->plasmapy) (4.4.2)\n",
      "Requirement already satisfied: pickleshare in /usr/local/lib/python3.10/dist-packages (from ipython>=5.0.0->ipykernel>=5.5.6->plasmapy) (0.7.5)\n",
      "Requirement already satisfied: prompt-toolkit!=3.0.0,!=3.0.1,<3.1.0,>=2.0.0 in /usr/local/lib/python3.10/dist-packages (from ipython>=5.0.0->ipykernel>=5.5.6->plasmapy) (3.0.38)\n",
      "Requirement already satisfied: pygments in /usr/local/lib/python3.10/dist-packages (from ipython>=5.0.0->ipykernel>=5.5.6->plasmapy) (2.14.0)\n",
      "Requirement already satisfied: backcall in /usr/local/lib/python3.10/dist-packages (from ipython>=5.0.0->ipykernel>=5.5.6->plasmapy) (0.2.0)\n",
      "Requirement already satisfied: matplotlib-inline in /usr/local/lib/python3.10/dist-packages (from ipython>=5.0.0->ipykernel>=5.5.6->plasmapy) (0.1.6)\n",
      "Requirement already satisfied: pexpect>4.3 in /usr/local/lib/python3.10/dist-packages (from ipython>=5.0.0->ipykernel>=5.5.6->plasmapy) (4.8.0)\n",
      "Requirement already satisfied: pyzmq>=13 in /usr/local/lib/python3.10/dist-packages (from jupyter-client->ipykernel>=5.5.6->plasmapy) (23.2.1)\n",
      "Requirement already satisfied: platformdirs>=2.5 in /usr/local/lib/python3.10/dist-packages (from jupyter-core>=4.11.0->voila>=0.3.3->plasmapy) (3.3.0)\n",
      "Requirement already satisfied: anyio<4,>=3.1.0 in /usr/local/lib/python3.10/dist-packages (from jupyter-server<2.0.0,>=1.18->voila>=0.3.3->plasmapy) (3.6.2)\n",
      "Requirement already satisfied: argon2-cffi in /usr/local/lib/python3.10/dist-packages (from jupyter-server<2.0.0,>=1.18->voila>=0.3.3->plasmapy) (21.3.0)\n",
      "Requirement already satisfied: jinja2 in /usr/local/lib/python3.10/dist-packages (from jupyter-server<2.0.0,>=1.18->voila>=0.3.3->plasmapy) (3.1.2)\n",
      "Requirement already satisfied: nbformat>=5.2.0 in /usr/local/lib/python3.10/dist-packages (from jupyter-server<2.0.0,>=1.18->voila>=0.3.3->plasmapy) (5.8.0)\n",
      "Requirement already satisfied: prometheus-client in /usr/local/lib/python3.10/dist-packages (from jupyter-server<2.0.0,>=1.18->voila>=0.3.3->plasmapy) (0.16.0)\n",
      "Requirement already satisfied: Send2Trash in /usr/local/lib/python3.10/dist-packages (from jupyter-server<2.0.0,>=1.18->voila>=0.3.3->plasmapy) (1.8.0)\n",
      "Requirement already satisfied: terminado>=0.8.3 in /usr/local/lib/python3.10/dist-packages (from jupyter-server<2.0.0,>=1.18->voila>=0.3.3->plasmapy) (0.17.1)\n",
      "Requirement already satisfied: websocket-client in /usr/local/lib/python3.10/dist-packages (from jupyter-server<2.0.0,>=1.18->voila>=0.3.3->plasmapy) (1.5.1)\n",
      "Requirement already satisfied: babel>=2.10 in /usr/local/lib/python3.10/dist-packages (from jupyterlab-server<3,>=2.3.0->voila>=0.3.3->plasmapy) (2.12.1)\n",
      "Requirement already satisfied: json5>=0.9.0 in /usr/local/lib/python3.10/dist-packages (from jupyterlab-server<3,>=2.3.0->voila>=0.3.3->plasmapy) (0.9.14)\n",
      "Requirement already satisfied: jsonschema>=4.17.3 in /usr/local/lib/python3.10/dist-packages (from jupyterlab-server<3,>=2.3.0->voila>=0.3.3->plasmapy) (4.17.3)\n",
      "Requirement already satisfied: lxml in /usr/local/lib/python3.10/dist-packages (from nbconvert<8,>=6.4.5->voila>=0.3.3->plasmapy) (4.9.2)\n",
      "Requirement already satisfied: beautifulsoup4 in /usr/local/lib/python3.10/dist-packages (from nbconvert<8,>=6.4.5->voila>=0.3.3->plasmapy) (4.11.2)\n",
      "Requirement already satisfied: bleach in /usr/local/lib/python3.10/dist-packages (from nbconvert<8,>=6.4.5->voila>=0.3.3->plasmapy) (6.0.0)\n",
      "Requirement already satisfied: defusedxml in /usr/local/lib/python3.10/dist-packages (from nbconvert<8,>=6.4.5->voila>=0.3.3->plasmapy) (0.7.1)\n",
      "Requirement already satisfied: entrypoints>=0.2.2 in /usr/local/lib/python3.10/dist-packages (from nbconvert<8,>=6.4.5->voila>=0.3.3->plasmapy) (0.4)\n",
      "Requirement already satisfied: jupyterlab-pygments in /usr/local/lib/python3.10/dist-packages (from nbconvert<8,>=6.4.5->voila>=0.3.3->plasmapy) (0.2.2)\n",
      "Requirement already satisfied: MarkupSafe>=2.0 in /usr/local/lib/python3.10/dist-packages (from nbconvert<8,>=6.4.5->voila>=0.3.3->plasmapy) (2.1.2)\n",
      "Requirement already satisfied: mistune<2,>=0.8.1 in /usr/local/lib/python3.10/dist-packages (from nbconvert<8,>=6.4.5->voila>=0.3.3->plasmapy) (0.8.4)\n",
      "Requirement already satisfied: pandocfilters>=1.4.1 in /usr/local/lib/python3.10/dist-packages (from nbconvert<8,>=6.4.5->voila>=0.3.3->plasmapy) (1.5.0)\n",
      "Requirement already satisfied: tinycss2 in /usr/local/lib/python3.10/dist-packages (from nbconvert<8,>=6.4.5->voila>=0.3.3->plasmapy) (1.2.1)\n",
      "Requirement already satisfied: six>=1.5 in /usr/local/lib/python3.10/dist-packages (from python-dateutil>=2.7->matplotlib>=3.5.1->plasmapy) (1.16.0)\n",
      "Requirement already satisfied: future in /usr/local/lib/python3.10/dist-packages (from uncertainties>=3.1.4->lmfit>=1.0.3->plasmapy) (0.18.3)\n",
      "Requirement already satisfied: notebook>=4.4.1 in /usr/local/lib/python3.10/dist-packages (from widgetsnbextension~=3.6.0->ipywidgets>=7.6.5->plasmapy) (6.4.8)\n",
      "Requirement already satisfied: sniffio>=1.1 in /usr/local/lib/python3.10/dist-packages (from anyio<4,>=3.1.0->jupyter-server<2.0.0,>=1.18->voila>=0.3.3->plasmapy) (1.3.0)\n",
      "Requirement already satisfied: parso<0.9.0,>=0.8.0 in /usr/local/lib/python3.10/dist-packages (from jedi>=0.16->ipython>=5.0.0->ipykernel>=5.5.6->plasmapy) (0.8.3)\n",
      "Requirement already satisfied: pyrsistent!=0.17.0,!=0.17.1,!=0.17.2,>=0.14.0 in /usr/local/lib/python3.10/dist-packages (from jsonschema>=4.17.3->jupyterlab-server<3,>=2.3.0->voila>=0.3.3->plasmapy) (0.19.3)\n",
      "Requirement already satisfied: fastjsonschema in /usr/local/lib/python3.10/dist-packages (from nbformat>=5.2.0->jupyter-server<2.0.0,>=1.18->voila>=0.3.3->plasmapy) (2.16.3)\n",
      "Requirement already satisfied: nest-asyncio>=1.5 in /usr/local/lib/python3.10/dist-packages (from notebook>=4.4.1->widgetsnbextension~=3.6.0->ipywidgets>=7.6.5->plasmapy) (1.5.6)\n",
      "Requirement already satisfied: ptyprocess>=0.5 in /usr/local/lib/python3.10/dist-packages (from pexpect>4.3->ipython>=5.0.0->ipykernel>=5.5.6->plasmapy) (0.7.0)\n",
      "Requirement already satisfied: wcwidth in /usr/local/lib/python3.10/dist-packages (from prompt-toolkit!=3.0.0,!=3.0.1,<3.1.0,>=2.0.0->ipython>=5.0.0->ipykernel>=5.5.6->plasmapy) (0.2.6)\n",
      "Requirement already satisfied: argon2-cffi-bindings in /usr/local/lib/python3.10/dist-packages (from argon2-cffi->jupyter-server<2.0.0,>=1.18->voila>=0.3.3->plasmapy) (21.2.0)\n",
      "Requirement already satisfied: soupsieve>1.2 in /usr/local/lib/python3.10/dist-packages (from beautifulsoup4->nbconvert<8,>=6.4.5->voila>=0.3.3->plasmapy) (2.4.1)\n",
      "Requirement already satisfied: webencodings in /usr/local/lib/python3.10/dist-packages (from bleach->nbconvert<8,>=6.4.5->voila>=0.3.3->plasmapy) (0.5.1)\n",
      "Requirement already satisfied: cffi>=1.0.1 in /usr/local/lib/python3.10/dist-packages (from argon2-cffi-bindings->argon2-cffi->jupyter-server<2.0.0,>=1.18->voila>=0.3.3->plasmapy) (1.15.1)\n",
      "Requirement already satisfied: pycparser in /usr/local/lib/python3.10/dist-packages (from cffi>=1.0.1->argon2-cffi-bindings->argon2-cffi->jupyter-server<2.0.0,>=1.18->voila>=0.3.3->plasmapy) (2.21)\n"
     ]
    }
   ]
  },
  {
   "cell_type": "code",
   "execution_count": 19,
   "metadata": {
    "id": "qjmMiMtR7s3s"
   },
   "outputs": [],
   "source": [
    "import plasmapy"
   ],
   "id": "qjmMiMtR7s3s"
  },
  {
   "cell_type": "markdown",
   "metadata": {
    "id": "_eYtOiZM7s3t"
   },
   "source": [
    "### Alfvén speed"
   ],
   "id": "_eYtOiZM7s3t"
  },
  {
   "cell_type": "code",
   "execution_count": 20,
   "metadata": {
    "id": "5sz9fwZS7s3t"
   },
   "outputs": [],
   "source": [
    "Va = plasmapy.formulary.speeds.Alfven_speed(B, n_i, 'p')\n",
    "\n",
    "# convert to km / s\n",
    "Va = Va.to(u.km / u.s)"
   ],
   "id": "5sz9fwZS7s3t"
  },
  {
   "cell_type": "markdown",
   "metadata": {
    "id": "FUMm5ZRH7s3u"
   },
   "source": [
    "### Plasma beta"
   ],
   "id": "FUMm5ZRH7s3u"
  },
  {
   "cell_type": "code",
   "execution_count": 21,
   "metadata": {
    "id": "KX4U2U177s3v",
    "colab": {
     "base_uri": "https://localhost:8080/"
    },
    "outputId": "36241625-5219-4011-90d2-a805ac12ff1a"
   },
   "outputs": [
    {
     "output_type": "stream",
     "name": "stderr",
     "text": [
      "20-Jun-23 17:23:59: /usr/local/lib/python3.10/dist-packages/plasmapy/utils/decorators/validators.py:355: UnitsWarning: The argument 'B' to function beta() has no specified units. Assuming units of T. To silence this warning, explicitly pass in an astropy Quantity (e.g. 5. * astropy.units.cm) (see http://docs.astropy.org/en/stable/units/)\n",
      "  warnings.warn(\n",
      "\n",
      "20-Jun-23 17:23:59: /usr/local/lib/python3.10/dist-packages/plasmapy/utils/decorators/validators.py:355: UnitsWarning: The argument 'T' to function beta() has no specified units. Assuming units of K. To silence this warning, explicitly pass in an astropy Quantity (e.g. 5. * astropy.units.cm) (see http://docs.astropy.org/en/stable/units/)\n",
      "  warnings.warn(\n",
      "\n",
      "20-Jun-23 17:23:59: /usr/local/lib/python3.10/dist-packages/plasmapy/utils/decorators/validators.py:355: UnitsWarning: The argument 'n' to function beta() has no specified units. Assuming units of 1 / m3. To silence this warning, explicitly pass in an astropy Quantity (e.g. 5. * astropy.units.cm) (see http://docs.astropy.org/en/stable/units/)\n",
      "  warnings.warn(\n",
      "\n"
     ]
    }
   ],
   "source": [
    "# ions\n",
    "beta_i = plasmapy.formulary.dimensionless.beta(T_i, n_i, B)\n",
    "\n",
    "# electrons\n",
    "beta_e = plasmapy.formulary.dimensionless.beta(T_e, n_e, B)\n",
    "\n",
    "# combined\n",
    "beta = beta_i + beta_e"
   ],
   "id": "KX4U2U177s3v"
  },
  {
   "cell_type": "markdown",
   "metadata": {
    "id": "bw6kx4Cb7s3v"
   },
   "source": [
    "### Ion inertial length"
   ],
   "id": "bw6kx4Cb7s3v"
  },
  {
   "cell_type": "code",
   "execution_count": 22,
   "metadata": {
    "colab": {
     "base_uri": "https://localhost:8080/"
    },
    "id": "InifI0Yr7s3w",
    "outputId": "38c27730-1e60-4de3-eec6-4a2b5a935f02"
   },
   "outputs": [
    {
     "output_type": "stream",
     "name": "stderr",
     "text": [
      "20-Jun-23 17:23:59: <frozen importlib._bootstrap>:914: ImportWarning: APICoreClientInfoImportHook.find_spec() not found; falling back to find_module()\n",
      "\n",
      "20-Jun-23 17:23:59: <frozen importlib._bootstrap>:914: ImportWarning: _PyDriveImportHook.find_spec() not found; falling back to find_module()\n",
      "\n",
      "20-Jun-23 17:23:59: <frozen importlib._bootstrap>:914: ImportWarning: _OpenCVImportHook.find_spec() not found; falling back to find_module()\n",
      "\n",
      "20-Jun-23 17:23:59: <frozen importlib._bootstrap>:914: ImportWarning: _BokehImportHook.find_spec() not found; falling back to find_module()\n",
      "\n",
      "20-Jun-23 17:23:59: <frozen importlib._bootstrap>:914: ImportWarning: _AltairImportHook.find_spec() not found; falling back to find_module()\n",
      "\n",
      "20-Jun-23 17:23:59: <frozen importlib._bootstrap>:914: ImportWarning: APICoreClientInfoImportHook.find_spec() not found; falling back to find_module()\n",
      "\n",
      "20-Jun-23 17:23:59: <frozen importlib._bootstrap>:914: ImportWarning: _PyDriveImportHook.find_spec() not found; falling back to find_module()\n",
      "\n",
      "20-Jun-23 17:23:59: <frozen importlib._bootstrap>:914: ImportWarning: _OpenCVImportHook.find_spec() not found; falling back to find_module()\n",
      "\n",
      "20-Jun-23 17:23:59: <frozen importlib._bootstrap>:914: ImportWarning: _BokehImportHook.find_spec() not found; falling back to find_module()\n",
      "\n",
      "20-Jun-23 17:23:59: <frozen importlib._bootstrap>:914: ImportWarning: _AltairImportHook.find_spec() not found; falling back to find_module()\n",
      "\n",
      "20-Jun-23 17:24:00: <frozen importlib._bootstrap>:914: ImportWarning: APICoreClientInfoImportHook.find_spec() not found; falling back to find_module()\n",
      "\n",
      "20-Jun-23 17:24:00: <frozen importlib._bootstrap>:914: ImportWarning: _PyDriveImportHook.find_spec() not found; falling back to find_module()\n",
      "\n",
      "20-Jun-23 17:24:00: <frozen importlib._bootstrap>:914: ImportWarning: _OpenCVImportHook.find_spec() not found; falling back to find_module()\n",
      "\n",
      "20-Jun-23 17:24:00: <frozen importlib._bootstrap>:914: ImportWarning: _BokehImportHook.find_spec() not found; falling back to find_module()\n",
      "\n",
      "20-Jun-23 17:24:00: <frozen importlib._bootstrap>:914: ImportWarning: _AltairImportHook.find_spec() not found; falling back to find_module()\n",
      "\n"
     ]
    }
   ],
   "source": [
    "d_i = plasmapy.formulary.lengths.inertial_length(n_i, 'p+')"
   ],
   "id": "InifI0Yr7s3w"
  },
  {
   "cell_type": "markdown",
   "metadata": {
    "id": "tMV-Kgo77s3x"
   },
   "source": [
    "### Debye length"
   ],
   "id": "tMV-Kgo77s3x"
  },
  {
   "cell_type": "code",
   "execution_count": 23,
   "metadata": {
    "id": "R2U9m6Ww7s3x",
    "colab": {
     "base_uri": "https://localhost:8080/"
    },
    "outputId": "a91f69a0-d1dc-4e66-b984-210ea9b01058"
   },
   "outputs": [
    {
     "output_type": "stream",
     "name": "stderr",
     "text": [
      "20-Jun-23 17:24:00: /usr/local/lib/python3.10/dist-packages/ipykernel/ipkernel.py:283: DeprecationWarning: `should_run_async` will not call `transform_cell` automatically in the future. Please pass the result to `transformed_cell` argument and any exception that happen during thetransform in `preprocessing_exc_tuple` in IPython 7.17 and above.\n",
      "  and should_run_async(code)\n",
      "\n",
      "20-Jun-23 17:24:00: /usr/local/lib/python3.10/dist-packages/plasmapy/utils/decorators/validators.py:355: UnitsWarning: The argument 'T_e' to function Debye_length() has no specified units. Assuming units of K. To silence this warning, explicitly pass in an astropy Quantity (e.g. 5. * astropy.units.cm) (see http://docs.astropy.org/en/stable/units/)\n",
      "  warnings.warn(\n",
      "\n",
      "20-Jun-23 17:24:00: /usr/local/lib/python3.10/dist-packages/plasmapy/utils/decorators/validators.py:355: UnitsWarning: The argument 'n_e' to function Debye_length() has no specified units. Assuming units of 1 / m3. To silence this warning, explicitly pass in an astropy Quantity (e.g. 5. * astropy.units.cm) (see http://docs.astropy.org/en/stable/units/)\n",
      "  warnings.warn(\n",
      "\n"
     ]
    }
   ],
   "source": [
    "lamda_d = plasmapy.formulary.lengths.Debye_length(T_e, n_e)"
   ],
   "id": "R2U9m6Ww7s3x"
  },
  {
   "cell_type": "markdown",
   "metadata": {
    "id": "R-FpkYp87s3x"
   },
   "source": [
    "### Ion gyrofrequency"
   ],
   "id": "R-FpkYp87s3x"
  },
  {
   "cell_type": "code",
   "execution_count": 24,
   "metadata": {
    "id": "pA2g3hEI7s3y",
    "colab": {
     "base_uri": "https://localhost:8080/"
    },
    "outputId": "9941d272-64f4-400e-bfa3-96b3c162c97f"
   },
   "outputs": [
    {
     "output_type": "stream",
     "name": "stderr",
     "text": [
      "20-Jun-23 17:24:00: /usr/local/lib/python3.10/dist-packages/plasmapy/utils/decorators/validators.py:355: UnitsWarning: The argument 'B' to function gyrofrequency() has no specified units. Assuming units of T. To silence this warning, explicitly pass in an astropy Quantity (e.g. 5. * astropy.units.cm) (see http://docs.astropy.org/en/stable/units/)\n",
      "  warnings.warn(\n",
      "\n"
     ]
    }
   ],
   "source": [
    "omega_ci = plasmapy.formulary.frequencies.gyrofrequency(B, 'p', to_hz=True)"
   ],
   "id": "pA2g3hEI7s3y"
  },
  {
   "cell_type": "markdown",
   "metadata": {
    "id": "eLpng2Mf7s3y"
   },
   "source": [
    "### Ion gyroradius"
   ],
   "id": "eLpng2Mf7s3y"
  },
  {
   "cell_type": "code",
   "execution_count": 25,
   "metadata": {
    "id": "63Axbyqh7s3z",
    "colab": {
     "base_uri": "https://localhost:8080/"
    },
    "outputId": "18bc7888-59cc-4c57-bdbd-e3d1eb0c31a9"
   },
   "outputs": [
    {
     "output_type": "stream",
     "name": "stderr",
     "text": [
      "20-Jun-23 17:24:00: /usr/local/lib/python3.10/dist-packages/plasmapy/utils/decorators/validators.py:355: UnitsWarning: The argument 'B' to function gyroradius() has no specified units. Assuming units of T. To silence this warning, explicitly pass in an astropy Quantity (e.g. 5. * astropy.units.cm) (see http://docs.astropy.org/en/stable/units/)\n",
      "  warnings.warn(\n",
      "\n"
     ]
    }
   ],
   "source": [
    "r_i = plasmapy.formulary.lengths.gyroradius(B, 'p', T=T_i)\n",
    "\n",
    "# convert to km\n",
    "r_i = r_i.to(u.km)"
   ],
   "id": "63Axbyqh7s3z"
  },
  {
   "cell_type": "markdown",
   "metadata": {
    "id": "6FCYJag97s30"
   },
   "source": [
    "### Lower hybrid frequency"
   ],
   "id": "6FCYJag97s30"
  },
  {
   "cell_type": "code",
   "execution_count": 26,
   "metadata": {
    "id": "7GMSDpVE7s30",
    "colab": {
     "base_uri": "https://localhost:8080/"
    },
    "outputId": "75e53af9-6946-429f-efc6-8eb9e192f1f0"
   },
   "outputs": [
    {
     "output_type": "stream",
     "name": "stderr",
     "text": [
      "20-Jun-23 17:24:00: /usr/local/lib/python3.10/dist-packages/ipykernel/ipkernel.py:283: DeprecationWarning: `should_run_async` will not call `transform_cell` automatically in the future. Please pass the result to `transformed_cell` argument and any exception that happen during thetransform in `preprocessing_exc_tuple` in IPython 7.17 and above.\n",
      "  and should_run_async(code)\n",
      "\n",
      "20-Jun-23 17:24:00: /usr/local/lib/python3.10/dist-packages/plasmapy/utils/decorators/validators.py:355: UnitsWarning: The argument 'B' to function lower_hybrid_frequency() has no specified units. Assuming units of T. To silence this warning, explicitly pass in an astropy Quantity (e.g. 5. * astropy.units.cm) (see http://docs.astropy.org/en/stable/units/)\n",
      "  warnings.warn(\n",
      "\n"
     ]
    }
   ],
   "source": [
    "omega_lh = plasmapy.formulary.frequencies.lower_hybrid_frequency(B, n_i, 'p', to_hz=True)"
   ],
   "id": "7GMSDpVE7s30"
  },
  {
   "cell_type": "markdown",
   "metadata": {
    "id": "5UDXPJnR7s31"
   },
   "source": [
    "### Upper hybrid frequency"
   ],
   "id": "5UDXPJnR7s31"
  },
  {
   "cell_type": "code",
   "execution_count": 27,
   "metadata": {
    "id": "Pv--cUnO7s31",
    "colab": {
     "base_uri": "https://localhost:8080/"
    },
    "outputId": "d9606da4-c75c-432a-e0f5-cb918b6e16a1"
   },
   "outputs": [
    {
     "output_type": "stream",
     "name": "stderr",
     "text": [
      "20-Jun-23 17:24:00: /usr/local/lib/python3.10/dist-packages/plasmapy/utils/decorators/validators.py:355: UnitsWarning: The argument 'B' to function upper_hybrid_frequency() has no specified units. Assuming units of T. To silence this warning, explicitly pass in an astropy Quantity (e.g. 5. * astropy.units.cm) (see http://docs.astropy.org/en/stable/units/)\n",
      "  warnings.warn(\n",
      "\n",
      "20-Jun-23 17:24:00: /usr/local/lib/python3.10/dist-packages/plasmapy/utils/decorators/validators.py:355: UnitsWarning: The argument 'n_e' to function upper_hybrid_frequency() has no specified units. Assuming units of 1 / m3. To silence this warning, explicitly pass in an astropy Quantity (e.g. 5. * astropy.units.cm) (see http://docs.astropy.org/en/stable/units/)\n",
      "  warnings.warn(\n",
      "\n"
     ]
    }
   ],
   "source": [
    "omega_uh = plasmapy.formulary.frequencies.upper_hybrid_frequency(B, n_e, to_hz=True)"
   ],
   "id": "Pv--cUnO7s31"
  },
  {
   "cell_type": "markdown",
   "metadata": {
    "id": "n-mNLuak7s32"
   },
   "source": [
    "### Save the data in tplot variables"
   ],
   "id": "n-mNLuak7s32"
  },
  {
   "cell_type": "code",
   "execution_count": 28,
   "metadata": {
    "colab": {
     "base_uri": "https://localhost:8080/"
    },
    "id": "AAwGq4aB7s32",
    "outputId": "0200e546-65a5-4c79-c607-99cf515d7215"
   },
   "outputs": [
    {
     "output_type": "stream",
     "name": "stderr",
     "text": [
      "20-Jun-23 17:24:00: /usr/local/lib/python3.10/dist-packages/ipykernel/ipkernel.py:283: DeprecationWarning: `should_run_async` will not call `transform_cell` automatically in the future. Please pass the result to `transformed_cell` argument and any exception that happen during thetransform in `preprocessing_exc_tuple` in IPython 7.17 and above.\n",
      "  and should_run_async(code)\n",
      "\n"
     ]
    },
    {
     "output_type": "execute_result",
     "data": {
      "text/plain": [
       "True"
      ]
     },
     "metadata": {},
     "execution_count": 28
    }
   ],
   "source": [
    "from pytplot import store_data\n",
    "store_data('alfven_speed', data={'x': fgm_b.times, 'y': Va})\n",
    "store_data('plasma_beta', data={'x': fgm_b.times, 'y': beta})\n",
    "store_data('ion_inertial_length', data={'x': fgm_b.times, 'y': d_i})\n",
    "store_data('debye_length', data={'x': fgm_b.times, 'y': lamda_d})\n",
    "store_data('omega_ci', data={'x': fgm_b.times, 'y': omega_ci})\n",
    "store_data('ion_gyroradius', data={'x': fgm_b.times, 'y': r_i})\n",
    "store_data('omega_lh', data={'x': fgm_b.times, 'y': omega_lh})\n",
    "store_data('omega_uh', data={'x': fgm_b.times, 'y': omega_uh})"
   ],
   "id": "AAwGq4aB7s32"
  },
  {
   "cell_type": "markdown",
   "metadata": {
    "id": "ZvMZyHw37s33"
   },
   "source": [
    "### Set some plot metadata"
   ],
   "id": "ZvMZyHw37s33"
  },
  {
   "cell_type": "code",
   "execution_count": 29,
   "metadata": {
    "id": "A94D9-NK7s34",
    "colab": {
     "base_uri": "https://localhost:8080/"
    },
    "outputId": "39434aa5-ba33-46b4-9179-b623feeb97a2"
   },
   "outputs": [
    {
     "output_type": "stream",
     "name": "stderr",
     "text": [
      "20-Jun-23 17:24:01: /usr/local/lib/python3.10/dist-packages/ipykernel/ipkernel.py:283: DeprecationWarning: `should_run_async` will not call `transform_cell` automatically in the future. Please pass the result to `transformed_cell` argument and any exception that happen during thetransform in `preprocessing_exc_tuple` in IPython 7.17 and above.\n",
      "  and should_run_async(code)\n",
      "\n"
     ]
    }
   ],
   "source": [
    "from pytplot import options\n",
    "options('alfven_speed', 'ytitle', 'Va \\\\ (' + str(Va.unit) + ')')\n",
    "options('alfven_speed', 'legend_names', 'Alfvén speed')\n",
    "options('plasma_beta', 'ytitle', 'Beta')\n",
    "options('plasma_beta', 'legend_names', 'Plasma Beta')\n",
    "options('ion_inertial_length', 'ytitle', 'd_i \\\\ (' + str(d_i.unit) + ')')\n",
    "options('ion_inertial_length', 'legend_names', 'Ion inertial length')\n",
    "options('debye_length', 'ytitle', 'Lamda_d \\\\ (' + str(lamda_d.unit) + ')')\n",
    "options('debye_length', 'legend_names', 'Debye length')\n",
    "options('omega_ci', 'ytitle', 'omega_ci \\\\ (' + str(omega_ci.unit) + ')')\n",
    "options('omega_ci', 'legend_names', 'Ion gyrofrequency')\n",
    "options('ion_gyroradius', 'ytitle', 'r_i \\\\ (' + str(r_i.unit) + ')')\n",
    "options('ion_gyroradius', 'legend_names', 'Ion gyroradius')\n",
    "options('omega_uh', 'ytitle', 'omega_uh \\\\ (' + str(omega_uh.unit) + ')')\n",
    "options('omega_uh', 'legend_names', 'Upper hybrid frequency')\n",
    "options('omega_lh', 'ytitle', 'omega_lh \\\\ (' + str(omega_lh.unit) + ')')\n",
    "options('omega_lh', 'legend_names', 'Lower hybrid frequency')"
   ],
   "id": "A94D9-NK7s34"
  },
  {
   "cell_type": "markdown",
   "metadata": {
    "id": "kQC3qIvH7s35"
   },
   "source": [
    "### Plot the results"
   ],
   "id": "kQC3qIvH7s35"
  },
  {
   "cell_type": "code",
   "execution_count": 30,
   "metadata": {
    "colab": {
     "base_uri": "https://localhost:8080/",
     "height": 838
    },
    "id": "uSnY5Mru7s35",
    "outputId": "f97719cb-d97f-4512-fb55-a1c4af1fcad8"
   },
   "outputs": [
    {
     "output_type": "stream",
     "name": "stderr",
     "text": [
      "20-Jun-23 17:24:03: <frozen importlib._bootstrap>:914: ImportWarning: APICoreClientInfoImportHook.find_spec() not found; falling back to find_module()\n",
      "\n",
      "20-Jun-23 17:24:03: <frozen importlib._bootstrap>:914: ImportWarning: _PyDriveImportHook.find_spec() not found; falling back to find_module()\n",
      "\n",
      "20-Jun-23 17:24:03: <frozen importlib._bootstrap>:914: ImportWarning: _OpenCVImportHook.find_spec() not found; falling back to find_module()\n",
      "\n",
      "20-Jun-23 17:24:03: <frozen importlib._bootstrap>:914: ImportWarning: _BokehImportHook.find_spec() not found; falling back to find_module()\n",
      "\n",
      "20-Jun-23 17:24:03: <frozen importlib._bootstrap>:914: ImportWarning: _AltairImportHook.find_spec() not found; falling back to find_module()\n",
      "\n"
     ]
    },
    {
     "output_type": "display_data",
     "data": {
      "text/plain": [
       "<Figure size 1200x800 with 8 Axes>"
      ],
      "image/png": "[encoded data removed]"
     },
     "metadata": {}
    }
   ],
   "source": [
    "from pytplot import tplot\n",
    "tplot(['alfven_speed',\n",
    "       'plasma_beta',\n",
    "       'ion_inertial_length',\n",
    "       'debye_length',\n",
    "       'omega_ci',\n",
    "       'ion_gyroradius',\n",
    "       'omega_uh',\n",
    "       'omega_lh'])"
   ],
   "id": "uSnY5Mru7s35"
  },
  {
   "cell_type": "code",
   "execution_count": 30,
   "metadata": {
    "id": "Ko-0Us3K7s35"
   },
   "outputs": [],
   "source": [],
   "id": "Ko-0Us3K7s35"
  }
 ],
 "metadata": {
  "kernelspec": {
   "display_name": "Python 3",
   "language": "python",
   "name": "python3"
  },
  "language_info": {
   "codemirror_mode": {
    "name": "ipython",
    "version": 3
   },
   "file_extension": ".py",
   "mimetype": "text/x-python",
   "name": "python",
   "nbconvert_exporter": "python",
   "pygments_lexer": "ipython3",
   "version": "3.7.6"
  },
  "colab": {
   "provenance": []
  }
 },
 "nbformat": 4,
 "nbformat_minor": 5
}
