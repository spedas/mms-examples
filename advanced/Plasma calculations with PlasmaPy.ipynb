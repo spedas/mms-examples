{
 "cells": [
  {
   "cell_type": "markdown",
   "id": "b177a4fb",
   "metadata": {},
   "source": [
    "##  Plasma calculations with PlasmaPy\n",
    "\n",
    "This notebook shows how to calculate various plasma parameters (Alfvén speed, plasma beta, Debye length, etc.) with MMS data and the PlasmaPy package. You will need to install `plasmapy` prior to running this notebook. To install `plasmapy`, on the command line, type:\n",
    "   \n",
    "`pip install plasmapy`\n",
    "\n",
    "For more information on PlasmaPy, see:\n",
    "\n",
    "https://docs.plasmapy.org/\n",
    "\n",
    "### Load the data\n",
    "To get started, we import `pyspedas` and load the MMS data for October 16, 2015"
   ]
  },
  {
   "cell_type": "code",
   "execution_count": 1,
   "id": "5282de71",
   "metadata": {},
   "outputs": [
    {
     "name": "stderr",
     "output_type": "stream",
     "text": [
      "27-Aug-21 14:28:36: Loading pydata\\mms1\\fgm\\brst\\l2\\2015\\10\\16\\mms1_fgm_brst_l2_20151016125604_v4.18.1.cdf\n",
      "27-Aug-21 14:28:36: Loading pydata\\mms1\\fgm\\brst\\l2\\2015\\10\\16\\mms1_fgm_brst_l2_20151016130224_v4.18.1.cdf\n",
      "27-Aug-21 14:28:36: Loading pydata\\mms1\\fgm\\brst\\l2\\2015\\10\\16\\mms1_fgm_brst_l2_20151016130334_v4.18.1.cdf\n",
      "27-Aug-21 14:28:36: Loading pydata\\mms1\\fgm\\brst\\l2\\2015\\10\\16\\mms1_fgm_brst_l2_20151016130524_v4.18.1.cdf\n",
      "27-Aug-21 14:28:36: Loading pydata\\mms1\\fgm\\brst\\l2\\2015\\10\\16\\mms1_fgm_brst_l2_20151016130904_v4.18.1.cdf\n"
     ]
    },
    {
     "name": "stdout",
     "output_type": "stream",
     "text": [
      "The lengths of x and y do not match!\n",
      "mms1_fgm_rdeltahalf_brst_l2 is currently not in pytplot.\n",
      "Time clip was applied to: mms1_fgm_b_gse_brst_l2\n",
      "Time clip was applied to: mms1_fgm_b_gsm_brst_l2\n",
      "Time clip was applied to: mms1_fgm_b_dmpa_brst_l2\n",
      "Time clip was applied to: mms1_fgm_b_bcs_brst_l2\n",
      "Time clip was applied to: mms1_fgm_flag_brst_l2\n",
      "Time clip was applied to: mms1_fgm_r_gse_brst_l2\n",
      "Time clip was applied to: mms1_fgm_r_gsm_brst_l2\n",
      "Time clip was applied to: mms1_fgm_hirange_brst_l2\n",
      "Time clip was applied to: mms1_fgm_bdeltahalf_brst_l2\n",
      "Time clip was applied to: mms1_fgm_stemp_brst_l2\n",
      "Time clip was applied to: mms1_fgm_etemp_brst_l2\n",
      "Time clip was applied to: mms1_fgm_mode_brst_l2\n",
      "Time clip error: No pytplot names were provided.\n",
      "That name is currently not in pytplot\n",
      "That name is currently not in pytplot\n",
      "Loaded variables:\n",
      "Epoch\n",
      "mms1_fgm_b_gse_brst_l2\n",
      "mms1_fgm_b_gsm_brst_l2\n",
      "mms1_fgm_b_dmpa_brst_l2\n",
      "mms1_fgm_b_bcs_brst_l2\n",
      "mms1_fgm_flag_brst_l2\n",
      "Epoch_state\n",
      "mms1_fgm_hirange_brst_l2\n",
      "mms1_fgm_bdeltahalf_brst_l2\n",
      "mms1_fgm_stemp_brst_l2\n",
      "mms1_fgm_etemp_brst_l2\n",
      "mms1_fgm_mode_brst_l2\n",
      "mms1_fgm_rdeltahalf_brst_l2\n",
      "mms1_fgm_b_dmpa_brst_l2_bvec\n",
      "mms1_fgm_b_dmpa_brst_l2_btot\n",
      "mms1_fgm_b_gse_brst_l2_bvec\n",
      "mms1_fgm_b_gse_brst_l2_btot\n",
      "mms1_fgm_b_gsm_brst_l2_bvec\n",
      "mms1_fgm_b_gsm_brst_l2_btot\n",
      "mms1_fgm_b_bcs_brst_l2_bvec\n",
      "mms1_fgm_b_bcs_brst_l2_btot\n"
     ]
    },
    {
     "name": "stderr",
     "output_type": "stream",
     "text": [
      "27-Aug-21 14:28:46: Loading pydata\\mms1\\fpi\\brst\\l2\\dis-moms\\2015\\10\\16\\mms1_fpi_brst_l2_dis-moms_20151016125604_v3.3.0.cdf\n",
      "27-Aug-21 14:28:46: Loading pydata\\mms1\\fpi\\brst\\l2\\dis-moms\\2015\\10\\16\\mms1_fpi_brst_l2_dis-moms_20151016130224_v3.3.0.cdf\n",
      "27-Aug-21 14:28:46: Loading pydata\\mms1\\fpi\\brst\\l2\\dis-moms\\2015\\10\\16\\mms1_fpi_brst_l2_dis-moms_20151016130334_v3.3.0.cdf\n",
      "27-Aug-21 14:28:46: Loading pydata\\mms1\\fpi\\brst\\l2\\dis-moms\\2015\\10\\16\\mms1_fpi_brst_l2_dis-moms_20151016130524_v3.3.0.cdf\n",
      "27-Aug-21 14:28:46: Loading pydata\\mms1\\fpi\\brst\\l2\\dis-moms\\2015\\10\\16\\mms1_fpi_brst_l2_dis-moms_20151016130904_v3.3.0.cdf\n",
      "27-Aug-21 14:28:46: Loading pydata\\mms1\\fpi\\brst\\l2\\des-moms\\2015\\10\\16\\mms1_fpi_brst_l2_des-moms_20151016125604_v3.3.0.cdf\n",
      "27-Aug-21 14:28:46: Loading pydata\\mms1\\fpi\\brst\\l2\\des-moms\\2015\\10\\16\\mms1_fpi_brst_l2_des-moms_20151016130224_v3.3.0.cdf\n",
      "27-Aug-21 14:28:46: Loading pydata\\mms1\\fpi\\brst\\l2\\des-moms\\2015\\10\\16\\mms1_fpi_brst_l2_des-moms_20151016130334_v3.3.0.cdf\n",
      "27-Aug-21 14:28:46: Loading pydata\\mms1\\fpi\\brst\\l2\\des-moms\\2015\\10\\16\\mms1_fpi_brst_l2_des-moms_20151016130524_v3.3.0.cdf\n",
      "27-Aug-21 14:28:46: Loading pydata\\mms1\\fpi\\brst\\l2\\des-moms\\2015\\10\\16\\mms1_fpi_brst_l2_des-moms_20151016130904_v3.3.0.cdf\n",
      "27-Aug-21 14:28:46: c:\\users\\egrimes\\appdata\\local\\programs\\python\\python39\\lib\\site-packages\\pytplot\\importers\\cdf_to_tplot.py:197: DeprecationWarning: `np.float` is a deprecated alias for the builtin `float`. To silence this warning, use `float` by itself. Doing this will not modify any behavior and is safe. If you specifically wanted the numpy scalar type, use `np.float64` here.\n",
      "Deprecated in NumPy 1.20; for more details and guidance: https://numpy.org/devdocs/release/1.20.0-notes.html#deprecations\n",
      "  delta_plus_var = delta_plus_var.astype(float)*np.float(si_conv.split('>')[0])\n",
      "\n",
      "27-Aug-21 14:28:46: c:\\users\\egrimes\\appdata\\local\\programs\\python\\python39\\lib\\site-packages\\pytplot\\importers\\cdf_to_tplot.py:209: DeprecationWarning: `np.float` is a deprecated alias for the builtin `float`. To silence this warning, use `float` by itself. Doing this will not modify any behavior and is safe. If you specifically wanted the numpy scalar type, use `np.float64` here.\n",
      "Deprecated in NumPy 1.20; for more details and guidance: https://numpy.org/devdocs/release/1.20.0-notes.html#deprecations\n",
      "  delta_minus_var = delta_minus_var.astype(float)*np.float(si_conv.split('>')[0])\n",
      "\n"
     ]
    },
    {
     "name": "stdout",
     "output_type": "stream",
     "text": [
      "Time clip was applied to: mms1_des_errorflags_brst\n",
      "Time clip was applied to: mms1_des_compressionloss_brst\n",
      "Time clip was applied to: mms1_des_startdelphi_count_brst\n",
      "Time clip was applied to: mms1_des_startdelphi_angle_brst\n",
      "Time clip was applied to: mms1_des_sector_despinp_brst\n",
      "Time clip was applied to: mms1_des_pitchangdist_lowen_brst\n",
      "Time clip was applied to: mms1_des_pitchangdist_miden_brst\n",
      "Time clip was applied to: mms1_des_pitchangdist_highen_brst\n",
      "Time clip was applied to: mms1_des_energyspectr_px_brst\n",
      "Time clip was applied to: mms1_des_energyspectr_mx_brst\n",
      "Time clip was applied to: mms1_des_energyspectr_py_brst\n",
      "Time clip was applied to: mms1_des_energyspectr_my_brst\n",
      "Time clip was applied to: mms1_des_energyspectr_pz_brst\n",
      "Time clip was applied to: mms1_des_energyspectr_mz_brst\n",
      "Time clip was applied to: mms1_des_energyspectr_par_brst\n",
      "Time clip was applied to: mms1_des_energyspectr_anti_brst\n",
      "Time clip was applied to: mms1_des_energyspectr_perp_brst\n",
      "Time clip was applied to: mms1_des_energyspectr_omni_brst\n",
      "Time clip was applied to: mms1_des_numberdensity_brst\n",
      "Time clip was applied to: mms1_des_densityextrapolation_low_brst\n",
      "Time clip was applied to: mms1_des_densityextrapolation_high_brst\n",
      "Time clip was applied to: mms1_des_bulkv_dbcs_brst\n",
      "Time clip was applied to: mms1_des_bulkv_spintone_dbcs_brst\n",
      "Time clip was applied to: mms1_des_bulkv_gse_brst\n",
      "Time clip was applied to: mms1_des_bulkv_spintone_gse_brst\n",
      "Time clip was applied to: mms1_des_prestensor_dbcs_brst\n",
      "Time clip was applied to: mms1_des_prestensor_gse_brst\n",
      "Time clip was applied to: mms1_des_temptensor_dbcs_brst\n",
      "Time clip was applied to: mms1_des_temptensor_gse_brst\n",
      "Time clip was applied to: mms1_des_heatq_dbcs_brst\n",
      "Time clip was applied to: mms1_des_heatq_gse_brst\n",
      "Time clip was applied to: mms1_des_temppara_brst\n",
      "Time clip was applied to: mms1_des_tempperp_brst\n",
      "Time clip was applied to: mms1_dis_errorflags_brst\n",
      "Time clip was applied to: mms1_dis_compressionloss_brst\n",
      "Time clip was applied to: mms1_dis_startdelphi_count_brst\n",
      "Time clip was applied to: mms1_dis_startdelphi_angle_brst\n",
      "Time clip was applied to: mms1_dis_sector_despinp_brst\n",
      "Time clip was applied to: mms1_dis_energyspectr_px_brst\n",
      "Time clip was applied to: mms1_dis_energyspectr_mx_brst\n",
      "Time clip was applied to: mms1_dis_energyspectr_py_brst\n",
      "Time clip was applied to: mms1_dis_energyspectr_my_brst\n",
      "Time clip was applied to: mms1_dis_energyspectr_pz_brst\n",
      "Time clip was applied to: mms1_dis_energyspectr_mz_brst\n",
      "Time clip was applied to: mms1_dis_energyspectr_omni_brst\n",
      "Time clip was applied to: mms1_dis_spectr_bg_brst\n",
      "Time clip was applied to: mms1_dis_numberdensity_bg_brst\n",
      "Time clip was applied to: mms1_dis_numberdensity_brst\n",
      "Time clip was applied to: mms1_dis_densityextrapolation_low_brst\n",
      "Time clip was applied to: mms1_dis_densityextrapolation_high_brst\n",
      "Time clip was applied to: mms1_dis_bulkv_dbcs_brst\n",
      "Time clip was applied to: mms1_dis_bulkv_spintone_dbcs_brst\n",
      "Time clip was applied to: mms1_dis_bulkv_gse_brst\n",
      "Time clip was applied to: mms1_dis_bulkv_spintone_gse_brst\n",
      "Time clip was applied to: mms1_dis_prestensor_dbcs_brst\n",
      "Time clip was applied to: mms1_dis_prestensor_gse_brst\n",
      "Time clip was applied to: mms1_dis_pres_bg_brst\n",
      "Time clip was applied to: mms1_dis_temptensor_dbcs_brst\n",
      "Time clip was applied to: mms1_dis_temptensor_gse_brst\n",
      "Time clip was applied to: mms1_dis_heatq_dbcs_brst\n",
      "Time clip was applied to: mms1_dis_heatq_gse_brst\n",
      "Time clip was applied to: mms1_dis_temppara_brst\n",
      "Time clip was applied to: mms1_dis_tempperp_brst\n",
      "That name is currently not in pytplot\n",
      "That name is currently not in pytplot\n",
      "That name is currently not in pytplot\n",
      "Loaded variables:\n",
      "mms1_des_errorflags_brst\n",
      "mms1_des_compressionloss_brst\n",
      "mms1_des_startdelphi_count_brst\n",
      "mms1_des_startdelphi_angle_brst\n",
      "mms1_des_sector_despinp_brst\n",
      "mms1_des_pitchangdist_lowen_brst\n",
      "mms1_des_pitchangdist_miden_brst\n",
      "mms1_des_pitchangdist_highen_brst\n",
      "mms1_des_energyspectr_px_brst\n",
      "mms1_des_energyspectr_mx_brst\n",
      "mms1_des_energyspectr_py_brst\n",
      "mms1_des_energyspectr_my_brst\n",
      "mms1_des_energyspectr_pz_brst\n",
      "mms1_des_energyspectr_mz_brst\n",
      "mms1_des_energyspectr_par_brst\n",
      "mms1_des_energyspectr_anti_brst\n",
      "mms1_des_energyspectr_perp_brst\n",
      "mms1_des_energyspectr_omni_brst\n",
      "mms1_des_numberdensity_brst\n",
      "mms1_des_densityextrapolation_low_brst\n",
      "mms1_des_densityextrapolation_high_brst\n",
      "mms1_des_bulkv_dbcs_brst\n",
      "mms1_des_bulkv_spintone_dbcs_brst\n",
      "mms1_des_bulkv_gse_brst\n",
      "mms1_des_bulkv_spintone_gse_brst\n",
      "mms1_des_prestensor_dbcs_brst\n",
      "mms1_des_prestensor_gse_brst\n",
      "mms1_des_temptensor_dbcs_brst\n",
      "mms1_des_temptensor_gse_brst\n",
      "mms1_des_heatq_dbcs_brst\n",
      "mms1_des_heatq_gse_brst\n",
      "mms1_des_temppara_brst\n",
      "mms1_des_tempperp_brst\n",
      "mms1_dis_errorflags_brst\n",
      "mms1_dis_compressionloss_brst\n",
      "mms1_dis_startdelphi_count_brst\n",
      "mms1_dis_startdelphi_angle_brst\n",
      "mms1_dis_sector_despinp_brst\n",
      "mms1_dis_energyspectr_px_brst\n",
      "mms1_dis_energyspectr_mx_brst\n",
      "mms1_dis_energyspectr_py_brst\n",
      "mms1_dis_energyspectr_my_brst\n",
      "mms1_dis_energyspectr_pz_brst\n",
      "mms1_dis_energyspectr_mz_brst\n",
      "mms1_dis_energyspectr_omni_brst\n",
      "mms1_dis_spectr_bg_brst\n",
      "mms1_dis_numberdensity_bg_brst\n",
      "mms1_dis_numberdensity_brst\n",
      "mms1_dis_densityextrapolation_low_brst\n",
      "mms1_dis_densityextrapolation_high_brst\n",
      "mms1_dis_bulkv_dbcs_brst\n",
      "mms1_dis_bulkv_spintone_dbcs_brst\n",
      "mms1_dis_bulkv_gse_brst\n",
      "mms1_dis_bulkv_spintone_gse_brst\n",
      "mms1_dis_prestensor_dbcs_brst\n",
      "mms1_dis_prestensor_gse_brst\n",
      "mms1_dis_pres_bg_brst\n",
      "mms1_dis_temptensor_dbcs_brst\n",
      "mms1_dis_temptensor_gse_brst\n",
      "mms1_dis_heatq_dbcs_brst\n",
      "mms1_dis_heatq_gse_brst\n",
      "mms1_dis_temppara_brst\n",
      "mms1_dis_tempperp_brst\n",
      "mms1_des_pitchangdist_avg\n"
     ]
    },
    {
     "name": "stderr",
     "output_type": "stream",
     "text": [
      "27-Aug-21 14:30:17: Loading pydata\\mms1\\mec\\srvy\\l2\\ephts04d\\2015\\10\\mms1_mec_srvy_l2_ephts04d_20151016_v2.0.0.cdf\n"
     ]
    },
    {
     "name": "stdout",
     "output_type": "stream",
     "text": [
      "Time clip was applied to: mms1_mec_dipole_tilt\n",
      "Time clip was applied to: mms1_mec_gmst\n",
      "Time clip was applied to: mms1_mec_mlat\n",
      "Time clip was applied to: mms1_mec_mlt\n",
      "Time clip was applied to: mms1_mec_l_dipole\n",
      "Time clip was applied to: mms1_mec_quat_eci_to_bcs\n",
      "Time clip was applied to: mms1_mec_quat_eci_to_dbcs\n",
      "Time clip was applied to: mms1_mec_quat_eci_to_dmpa\n",
      "Time clip was applied to: mms1_mec_quat_eci_to_smpa\n",
      "Time clip was applied to: mms1_mec_quat_eci_to_dsl\n",
      "Time clip was applied to: mms1_mec_quat_eci_to_ssl\n",
      "Time clip was applied to: mms1_mec_L_vec\n",
      "Time clip was applied to: mms1_mec_Z_vec\n",
      "Time clip was applied to: mms1_mec_P_vec\n",
      "Time clip was applied to: mms1_mec_L_phase\n",
      "Time clip was applied to: mms1_mec_Z_phase\n",
      "Time clip was applied to: mms1_mec_P_phase\n",
      "Time clip was applied to: mms1_mec_kp\n",
      "Time clip was applied to: mms1_mec_dst\n",
      "Time clip was applied to: mms1_mec_earth_eclipse_flag\n",
      "Time clip was applied to: mms1_mec_moon_eclipse_flag\n",
      "Time clip was applied to: mms1_mec_r_eci\n",
      "Time clip was applied to: mms1_mec_v_eci\n",
      "Time clip was applied to: mms1_mec_r_gsm\n",
      "Time clip was applied to: mms1_mec_v_gsm\n",
      "Time clip was applied to: mms1_mec_quat_eci_to_gsm\n",
      "Time clip was applied to: mms1_mec_r_geo\n",
      "Time clip was applied to: mms1_mec_v_geo\n",
      "Time clip was applied to: mms1_mec_quat_eci_to_geo\n",
      "Time clip was applied to: mms1_mec_r_sm\n",
      "Time clip was applied to: mms1_mec_v_sm\n",
      "Time clip was applied to: mms1_mec_quat_eci_to_sm\n",
      "Time clip was applied to: mms1_mec_r_gse\n",
      "Time clip was applied to: mms1_mec_v_gse\n",
      "Time clip was applied to: mms1_mec_quat_eci_to_gse\n",
      "Time clip was applied to: mms1_mec_r_gse2000\n",
      "Time clip was applied to: mms1_mec_v_gse2000\n",
      "Time clip was applied to: mms1_mec_quat_eci_to_gse2000\n",
      "Time clip was applied to: mms1_mec_geod_lat\n",
      "Time clip was applied to: mms1_mec_geod_lon\n",
      "Time clip was applied to: mms1_mec_geod_height\n",
      "Time clip was applied to: mms1_mec_r_sun_de421_eci\n",
      "Time clip was applied to: mms1_mec_r_moon_de421_eci\n",
      "Time clip was applied to: mms1_mec_fieldline_type\n",
      "Time clip was applied to: mms1_mec_bsc_gsm\n",
      "Time clip was applied to: mms1_mec_loss_cone_angle_s\n",
      "Time clip was applied to: mms1_mec_loss_cone_angle_n\n",
      "Time clip was applied to: mms1_mec_pfs_geod_latlon\n",
      "Time clip was applied to: mms1_mec_pfn_geod_latlon\n",
      "Time clip was applied to: mms1_mec_pfs_gsm\n",
      "Time clip was applied to: mms1_mec_bfs_gsm\n",
      "Time clip was applied to: mms1_mec_pfn_gsm\n",
      "Time clip was applied to: mms1_mec_bfn_gsm\n",
      "Time clip was applied to: mms1_mec_pmin_gsm\n",
      "Time clip was applied to: mms1_mec_bmin_gsm\n",
      "Loaded variables:\n",
      "mms1_mec_dipole_tilt\n",
      "mms1_mec_gmst\n",
      "mms1_mec_mlat\n",
      "mms1_mec_mlt\n",
      "mms1_mec_l_dipole\n",
      "mms1_mec_quat_eci_to_bcs\n",
      "mms1_mec_quat_eci_to_dbcs\n",
      "mms1_mec_quat_eci_to_dmpa\n",
      "mms1_mec_quat_eci_to_smpa\n",
      "mms1_mec_quat_eci_to_dsl\n",
      "mms1_mec_quat_eci_to_ssl\n",
      "mms1_mec_L_vec\n",
      "mms1_mec_Z_vec\n",
      "mms1_mec_P_vec\n",
      "mms1_mec_L_phase\n",
      "mms1_mec_Z_phase\n",
      "mms1_mec_P_phase\n",
      "mms1_mec_kp\n",
      "mms1_mec_dst\n",
      "mms1_mec_earth_eclipse_flag\n",
      "mms1_mec_moon_eclipse_flag\n",
      "mms1_mec_r_eci\n",
      "mms1_mec_v_eci\n",
      "mms1_mec_r_gsm\n",
      "mms1_mec_v_gsm\n",
      "mms1_mec_quat_eci_to_gsm\n",
      "mms1_mec_r_geo\n",
      "mms1_mec_v_geo\n",
      "mms1_mec_quat_eci_to_geo\n",
      "mms1_mec_r_sm\n",
      "mms1_mec_v_sm\n",
      "mms1_mec_quat_eci_to_sm\n",
      "mms1_mec_r_gse\n",
      "mms1_mec_v_gse\n",
      "mms1_mec_quat_eci_to_gse\n",
      "mms1_mec_r_gse2000\n",
      "mms1_mec_v_gse2000\n",
      "mms1_mec_quat_eci_to_gse2000\n",
      "mms1_mec_geod_lat\n",
      "mms1_mec_geod_lon\n",
      "mms1_mec_geod_height\n",
      "mms1_mec_r_sun_de421_eci\n",
      "mms1_mec_r_moon_de421_eci\n",
      "mms1_mec_fieldline_type\n",
      "mms1_mec_bsc_gsm\n",
      "mms1_mec_loss_cone_angle_s\n",
      "mms1_mec_loss_cone_angle_n\n",
      "mms1_mec_pfs_geod_latlon\n",
      "mms1_mec_pfn_geod_latlon\n",
      "mms1_mec_pfs_gsm\n",
      "mms1_mec_bfs_gsm\n",
      "mms1_mec_pfn_gsm\n",
      "mms1_mec_bfn_gsm\n",
      "mms1_mec_pmin_gsm\n",
      "mms1_mec_bmin_gsm\n"
     ]
    },
    {
     "data": {
      "text/plain": [
       "['mms1_mec_dipole_tilt',\n",
       " 'mms1_mec_gmst',\n",
       " 'mms1_mec_mlat',\n",
       " 'mms1_mec_mlt',\n",
       " 'mms1_mec_l_dipole',\n",
       " 'mms1_mec_quat_eci_to_bcs',\n",
       " 'mms1_mec_quat_eci_to_dbcs',\n",
       " 'mms1_mec_quat_eci_to_dmpa',\n",
       " 'mms1_mec_quat_eci_to_smpa',\n",
       " 'mms1_mec_quat_eci_to_dsl',\n",
       " 'mms1_mec_quat_eci_to_ssl',\n",
       " 'mms1_mec_L_vec',\n",
       " 'mms1_mec_Z_vec',\n",
       " 'mms1_mec_P_vec',\n",
       " 'mms1_mec_L_phase',\n",
       " 'mms1_mec_Z_phase',\n",
       " 'mms1_mec_P_phase',\n",
       " 'mms1_mec_kp',\n",
       " 'mms1_mec_dst',\n",
       " 'mms1_mec_earth_eclipse_flag',\n",
       " 'mms1_mec_moon_eclipse_flag',\n",
       " 'mms1_mec_r_eci',\n",
       " 'mms1_mec_v_eci',\n",
       " 'mms1_mec_r_gsm',\n",
       " 'mms1_mec_v_gsm',\n",
       " 'mms1_mec_quat_eci_to_gsm',\n",
       " 'mms1_mec_r_geo',\n",
       " 'mms1_mec_v_geo',\n",
       " 'mms1_mec_quat_eci_to_geo',\n",
       " 'mms1_mec_r_sm',\n",
       " 'mms1_mec_v_sm',\n",
       " 'mms1_mec_quat_eci_to_sm',\n",
       " 'mms1_mec_r_gse',\n",
       " 'mms1_mec_v_gse',\n",
       " 'mms1_mec_quat_eci_to_gse',\n",
       " 'mms1_mec_r_gse2000',\n",
       " 'mms1_mec_v_gse2000',\n",
       " 'mms1_mec_quat_eci_to_gse2000',\n",
       " 'mms1_mec_geod_lat',\n",
       " 'mms1_mec_geod_lon',\n",
       " 'mms1_mec_geod_height',\n",
       " 'mms1_mec_r_sun_de421_eci',\n",
       " 'mms1_mec_r_moon_de421_eci',\n",
       " 'mms1_mec_fieldline_type',\n",
       " 'mms1_mec_bsc_gsm',\n",
       " 'mms1_mec_loss_cone_angle_s',\n",
       " 'mms1_mec_loss_cone_angle_n',\n",
       " 'mms1_mec_pfs_geod_latlon',\n",
       " 'mms1_mec_pfn_geod_latlon',\n",
       " 'mms1_mec_pfs_gsm',\n",
       " 'mms1_mec_bfs_gsm',\n",
       " 'mms1_mec_pfn_gsm',\n",
       " 'mms1_mec_bfn_gsm',\n",
       " 'mms1_mec_pmin_gsm',\n",
       " 'mms1_mec_bmin_gsm']"
      ]
     },
     "execution_count": 1,
     "metadata": {},
     "output_type": "execute_result"
    }
   ],
   "source": [
    "import pyspedas\n",
    "\n",
    "trange = ['2015-10-16/13:00', '2015-10-16/13:10']\n",
    "\n",
    "pyspedas.mms.fgm(trange=trange, data_rate='brst', time_clip=True)\n",
    "pyspedas.mms.fpi(datatype=['dis-moms', 'des-moms'], trange=trange, data_rate='brst', time_clip=True, center_measurement=True)\n",
    "pyspedas.mms.mec(trange=trange, time_clip=True)"
   ]
  },
  {
   "cell_type": "markdown",
   "id": "bed929b4",
   "metadata": {},
   "source": [
    "### Interpolate to a common set of times\n",
    "\n",
    "Now we need to interpolate the B-field and DES (electron) data to the DIS (ion) time stamps\n",
    "\n",
    "\n",
    "Note: tinterpol creates a new variable containing the interpolated output with the suffix '-itrp'"
   ]
  },
  {
   "cell_type": "code",
   "execution_count": 2,
   "id": "9ac97fde",
   "metadata": {},
   "outputs": [
    {
     "name": "stdout",
     "output_type": "stream",
     "text": [
      "tinterpol (linear) was applied to: mms1_fgm_b_gse_brst_l2_btot-itrp\n",
      "tinterpol (linear) was applied to: mms1_des_numberdensity_brst-itrp\n",
      "tinterpol (linear) was applied to: mms1_des_temppara_brst-itrp\n",
      "tinterpol (linear) was applied to: mms1_des_tempperp_brst-itrp\n"
     ]
    }
   ],
   "source": [
    "from pyspedas import tinterpol\n",
    "tinterpol('mms1_fgm_b_gse_brst_l2_btot', 'mms1_dis_numberdensity_brst')\n",
    "tinterpol('mms1_des_numberdensity_brst', 'mms1_dis_numberdensity_brst')\n",
    "tinterpol('mms1_des_temppara_brst', 'mms1_dis_numberdensity_brst')\n",
    "tinterpol('mms1_des_tempperp_brst', 'mms1_dis_numberdensity_brst')"
   ]
  },
  {
   "cell_type": "markdown",
   "id": "7a95c8f4",
   "metadata": {},
   "source": [
    "### Extract the data values"
   ]
  },
  {
   "cell_type": "code",
   "execution_count": 3,
   "id": "00031256",
   "metadata": {},
   "outputs": [],
   "source": [
    "from pytplot import get_data\n",
    "fgm_b = get_data('mms1_fgm_b_gse_brst_l2_btot-itrp')\n",
    "dis_n = get_data('mms1_dis_numberdensity_brst')\n",
    "dis_Tpara = get_data('mms1_dis_temppara_brst')\n",
    "dis_Tperp = get_data('mms1_dis_tempperp_brst')\n",
    "des_n = get_data('mms1_des_numberdensity_brst-itrp')\n",
    "des_Tpara = get_data('mms1_des_temppara_brst-itrp')\n",
    "des_Tperp = get_data('mms1_des_tempperp_brst-itrp')"
   ]
  },
  {
   "cell_type": "markdown",
   "id": "a905362b",
   "metadata": {},
   "source": [
    "### Calculate T from Tpara and Tperp\n",
    "\n",
    "Temperature data released by the FPI team come as parallel and perpendicular components; to calculate plasma parameters, we'll need the total temperature"
   ]
  },
  {
   "cell_type": "code",
   "execution_count": 4,
   "id": "6a21f6b2",
   "metadata": {},
   "outputs": [],
   "source": [
    "dis_T = (dis_Tpara.y + 2*dis_Tperp.y)/3.0\n",
    "des_T = (des_Tpara.y + 2*des_Tperp.y)/3.0"
   ]
  },
  {
   "cell_type": "markdown",
   "id": "18a6ee73",
   "metadata": {},
   "source": [
    "### Add units to the data\n",
    "\n",
    "PlasmaPy requires us to specify the units of the data using `astropy` units"
   ]
  },
  {
   "cell_type": "code",
   "execution_count": 5,
   "id": "cfcc2f95",
   "metadata": {},
   "outputs": [],
   "source": [
    "from astropy import units as u\n",
    "B = fgm_b.y * u.nT\n",
    "n_i = dis_n.y * u.cm**-3\n",
    "n_e = des_n.y * u.cm**-3\n",
    "T_i = dis_T * u.eV\n",
    "T_e = des_T * u.eV"
   ]
  },
  {
   "cell_type": "markdown",
   "id": "2360e79b",
   "metadata": {},
   "source": [
    "Now that we have some data loaded, we'll calculate some plasma parameters "
   ]
  },
  {
   "cell_type": "code",
   "execution_count": 6,
   "id": "622588b5",
   "metadata": {},
   "outputs": [],
   "source": [
    "import plasmapy"
   ]
  },
  {
   "cell_type": "markdown",
   "id": "8ba4f127",
   "metadata": {},
   "source": [
    "### Alfvén speed"
   ]
  },
  {
   "cell_type": "code",
   "execution_count": 7,
   "id": "9b2d2801",
   "metadata": {},
   "outputs": [],
   "source": [
    "Va = plasmapy.formulary.parameters.Alfven_speed(B, n_i, 'p')\n",
    "\n",
    "# convert to km / s\n",
    "Va = Va.to(u.km / u.s)"
   ]
  },
  {
   "cell_type": "markdown",
   "id": "7d7c4792",
   "metadata": {},
   "source": [
    "### Plasma beta"
   ]
  },
  {
   "cell_type": "code",
   "execution_count": 8,
   "id": "e3d7d846",
   "metadata": {},
   "outputs": [],
   "source": [
    "beta_i = plasmapy.formulary.dimensionless.beta(T_i, n_i, B)\n",
    "beta_e = plasmapy.formulary.dimensionless.beta(T_e, n_e, B)\n",
    "beta = beta_i + beta_e"
   ]
  },
  {
   "cell_type": "markdown",
   "id": "206edcde",
   "metadata": {},
   "source": [
    "### Ion inertial length"
   ]
  },
  {
   "cell_type": "code",
   "execution_count": 9,
   "id": "2fc82ca8",
   "metadata": {},
   "outputs": [
    {
     "name": "stderr",
     "output_type": "stream",
     "text": [
      "27-Aug-21 14:30:38: c:\\users\\egrimes\\appdata\\local\\programs\\python\\python39\\lib\\site-packages\\astropy\\units\\quantity.py:477: RuntimeWarning: overflow encountered in true_divide\n",
      "  result = super().__array_ufunc__(function, method, *arrays, **kwargs)\n",
      "\n"
     ]
    }
   ],
   "source": [
    "d_i = plasmapy.formulary.parameters.inertial_length(n_i, 'p+')"
   ]
  },
  {
   "cell_type": "markdown",
   "id": "c22b94ed",
   "metadata": {},
   "source": [
    "### Debye length"
   ]
  },
  {
   "cell_type": "code",
   "execution_count": 10,
   "id": "3922b119",
   "metadata": {},
   "outputs": [],
   "source": [
    "lamda_d = plasmapy.formulary.parameters.Debye_length(T_e, n_e)"
   ]
  },
  {
   "cell_type": "markdown",
   "id": "b7fc7eec",
   "metadata": {},
   "source": [
    "### Ion gyrofrequency"
   ]
  },
  {
   "cell_type": "code",
   "execution_count": 11,
   "id": "7d02bd6a",
   "metadata": {},
   "outputs": [],
   "source": [
    "omega_ci = plasmapy.formulary.parameters.gyrofrequency(B, 'p', to_hz=True)"
   ]
  },
  {
   "cell_type": "markdown",
   "id": "195a2717",
   "metadata": {},
   "source": [
    "### Ion gyroradius"
   ]
  },
  {
   "cell_type": "code",
   "execution_count": 12,
   "id": "5b15addc",
   "metadata": {},
   "outputs": [],
   "source": [
    "r_i = plasmapy.formulary.parameters.gyroradius(B, 'p', T_i=T_i)\n",
    "\n",
    "# convert to km\n",
    "r_i = r_i.to(u.km)"
   ]
  },
  {
   "cell_type": "markdown",
   "id": "74d90432",
   "metadata": {},
   "source": [
    "### Bohm diffusion coefficient"
   ]
  },
  {
   "cell_type": "code",
   "execution_count": 13,
   "id": "5923c83f",
   "metadata": {},
   "outputs": [],
   "source": [
    "DB = plasmapy.formulary.parameters.Bohm_diffusion(T_e, B)"
   ]
  },
  {
   "cell_type": "markdown",
   "id": "d4b22b5c",
   "metadata": {},
   "source": [
    "### Lower hybrid frequency"
   ]
  },
  {
   "cell_type": "code",
   "execution_count": 14,
   "id": "2ad60597",
   "metadata": {},
   "outputs": [],
   "source": [
    "omega_lh = plasmapy.formulary.parameters.lower_hybrid_frequency(B, n_i, 'p', to_hz=True)"
   ]
  },
  {
   "cell_type": "markdown",
   "id": "2752269c",
   "metadata": {},
   "source": [
    "### Upper hybrid frequency"
   ]
  },
  {
   "cell_type": "code",
   "execution_count": 15,
   "id": "79b07595",
   "metadata": {},
   "outputs": [],
   "source": [
    "omega_uh = plasmapy.formulary.parameters.upper_hybrid_frequency(B, n_e, to_hz=True)"
   ]
  },
  {
   "cell_type": "markdown",
   "id": "6f835c28",
   "metadata": {},
   "source": [
    "### Save the data in tplot variables"
   ]
  },
  {
   "cell_type": "code",
   "execution_count": 16,
   "id": "66fe299c",
   "metadata": {},
   "outputs": [
    {
     "data": {
      "text/plain": [
       "True"
      ]
     },
     "execution_count": 16,
     "metadata": {},
     "output_type": "execute_result"
    }
   ],
   "source": [
    "from pytplot import store_data\n",
    "store_data('alfven_speed', data={'x': fgm_b.times, 'y': Va})\n",
    "store_data('plasma_beta', data={'x': fgm_b.times, 'y': beta})\n",
    "store_data('ion_inertial_length', data={'x': fgm_b.times, 'y': d_i})\n",
    "store_data('debye_length', data={'x': fgm_b.times, 'y': lamda_d})\n",
    "store_data('omega_ci', data={'x': fgm_b.times, 'y': omega_ci})\n",
    "store_data('ion_gyroradius', data={'x': fgm_b.times, 'y': r_i})\n",
    "store_data('bohm_diffusion_coeff', data={'x': fgm_b.times, 'y': DB})\n",
    "store_data('omega_lh', data={'x': fgm_b.times, 'y': omega_lh})\n",
    "store_data('omega_uh', data={'x': fgm_b.times, 'y': omega_uh})"
   ]
  },
  {
   "cell_type": "markdown",
   "id": "bced7e42",
   "metadata": {},
   "source": [
    "### Set some plot metadata"
   ]
  },
  {
   "cell_type": "code",
   "execution_count": 17,
   "id": "8fb45956",
   "metadata": {},
   "outputs": [],
   "source": [
    "from pytplot import options\n",
    "options('alfven_speed', 'ytitle', 'Va \\\\ (' + str(Va.unit) + ')')\n",
    "options('alfven_speed', 'legend_names', 'Alfvén speed')\n",
    "options('plasma_beta', 'ytitle', 'Beta')\n",
    "options('plasma_beta', 'legend_names', 'Plasma Beta')\n",
    "options('ion_inertial_length', 'ytitle', 'd_i \\\\ (' + str(d_i.unit) + ')')\n",
    "options('ion_inertial_length', 'legend_names', 'Ion inertial length')\n",
    "options('debye_length', 'ytitle', 'Lamda_d \\\\ (' + str(lamda_d.unit) + ')')\n",
    "options('debye_length', 'legend_names', 'Debye length')\n",
    "options('omega_ci', 'ytitle', 'omega_ci \\\\ (' + str(omega_ci.unit) + ')')\n",
    "options('omega_ci', 'legend_names', 'Ion gyrofrequency')\n",
    "options('ion_gyroradius', 'ytitle', 'r_i \\\\ (' + str(r_i.unit) + ')')\n",
    "options('ion_gyroradius', 'legend_names', 'Ion gyroradius')\n",
    "options('bohm_diffusion_coeff', 'ytitle', 'DB \\\\ (' + str(DB.unit) + ')')\n",
    "options('bohm_diffusion_coeff', 'legend_names', 'Bohm diffusion coefficient')\n",
    "options('omega_uh', 'ytitle', 'omega_uh \\\\ (' + str(omega_uh.unit) + ')')\n",
    "options('omega_uh', 'legend_names', 'Upper hybrid frequency')\n",
    "options('omega_lh', 'ytitle', 'omega_lh \\\\ (' + str(omega_lh.unit) + ')')\n",
    "options('omega_lh', 'legend_names', 'Lower hybrid frequency')"
   ]
  },
  {
   "cell_type": "markdown",
   "id": "57913ba5",
   "metadata": {},
   "source": [
    "### Plot the results"
   ]
  },
  {
   "cell_type": "code",
   "execution_count": 18,
   "id": "f5ed67da",
   "metadata": {},
   "outputs": [
    {
     "name": "stderr",
     "output_type": "stream",
     "text": [
      "27-Aug-21 14:30:40: c:\\users\\egrimes\\appdata\\local\\programs\\python\\python39\\lib\\site-packages\\pytplot\\QtPlotter\\CustomAxis\\AxisItem.py:180: DeprecationWarning: an integer is required (got type float).  Implicit conversion to integers using __int__ is deprecated, and may be removed in a future version of Python.\n",
      "  color.setAlpha(lineAlpha)\n",
      "\n",
      "27-Aug-21 14:30:40: c:\\users\\egrimes\\appdata\\local\\programs\\python\\python39\\lib\\site-packages\\pytplot\\QtPlotter\\CustomAxis\\AxisItem.py:180: DeprecationWarning: an integer is required (got type float).  Implicit conversion to integers using __int__ is deprecated, and may be removed in a future version of Python.\n",
      "  color.setAlpha(lineAlpha)\n",
      "\n",
      "27-Aug-21 14:30:40: c:\\users\\egrimes\\appdata\\local\\programs\\python\\python39\\lib\\site-packages\\pytplot\\QtPlotter\\CustomAxis\\AxisItem.py:180: DeprecationWarning: an integer is required (got type float).  Implicit conversion to integers using __int__ is deprecated, and may be removed in a future version of Python.\n",
      "  color.setAlpha(lineAlpha)\n",
      "\n",
      "27-Aug-21 14:30:40: c:\\users\\egrimes\\appdata\\local\\programs\\python\\python39\\lib\\site-packages\\pytplot\\QtPlotter\\CustomAxis\\AxisItem.py:180: DeprecationWarning: an integer is required (got type float).  Implicit conversion to integers using __int__ is deprecated, and may be removed in a future version of Python.\n",
      "  color.setAlpha(lineAlpha)\n",
      "\n",
      "27-Aug-21 14:30:40: c:\\users\\egrimes\\appdata\\local\\programs\\python\\python39\\lib\\site-packages\\pytplot\\QtPlotter\\CustomAxis\\AxisItem.py:180: DeprecationWarning: an integer is required (got type float).  Implicit conversion to integers using __int__ is deprecated, and may be removed in a future version of Python.\n",
      "  color.setAlpha(lineAlpha)\n",
      "\n",
      "27-Aug-21 14:30:40: c:\\users\\egrimes\\appdata\\local\\programs\\python\\python39\\lib\\site-packages\\pytplot\\QtPlotter\\CustomAxis\\AxisItem.py:180: DeprecationWarning: an integer is required (got type float).  Implicit conversion to integers using __int__ is deprecated, and may be removed in a future version of Python.\n",
      "  color.setAlpha(lineAlpha)\n",
      "\n",
      "27-Aug-21 14:30:40: c:\\users\\egrimes\\appdata\\local\\programs\\python\\python39\\lib\\site-packages\\pytplot\\QtPlotter\\CustomAxis\\AxisItem.py:180: DeprecationWarning: an integer is required (got type float).  Implicit conversion to integers using __int__ is deprecated, and may be removed in a future version of Python.\n",
      "  color.setAlpha(lineAlpha)\n",
      "\n",
      "27-Aug-21 14:30:40: c:\\users\\egrimes\\appdata\\local\\programs\\python\\python39\\lib\\site-packages\\pytplot\\QtPlotter\\CustomAxis\\AxisItem.py:180: DeprecationWarning: an integer is required (got type float).  Implicit conversion to integers using __int__ is deprecated, and may be removed in a future version of Python.\n",
      "  color.setAlpha(lineAlpha)\n",
      "\n",
      "27-Aug-21 14:30:40: c:\\users\\egrimes\\appdata\\local\\programs\\python\\python39\\lib\\site-packages\\pytplot\\QtPlotter\\CustomAxis\\AxisItem.py:180: DeprecationWarning: an integer is required (got type float).  Implicit conversion to integers using __int__ is deprecated, and may be removed in a future version of Python.\n",
      "  color.setAlpha(lineAlpha)\n",
      "\n"
     ]
    }
   ],
   "source": [
    "from pytplot import tplot\n",
    "tplot(['alfven_speed', \n",
    "       'plasma_beta',\n",
    "       'ion_inertial_length',\n",
    "       'debye_length',\n",
    "       'omega_ci',\n",
    "       'ion_gyroradius',\n",
    "       'bohm_diffusion_coeff',\n",
    "       'omega_uh',\n",
    "       'omega_lh'])"
   ]
  },
  {
   "cell_type": "code",
   "execution_count": null,
   "id": "f969c900",
   "metadata": {},
   "outputs": [],
   "source": []
  }
 ],
 "metadata": {
  "kernelspec": {
   "display_name": "Python 3 (ipykernel)",
   "language": "python",
   "name": "python3"
  },
  "language_info": {
   "codemirror_mode": {
    "name": "ipython",
    "version": 3
   },
   "file_extension": ".py",
   "mimetype": "text/x-python",
   "name": "python",
   "nbconvert_exporter": "python",
   "pygments_lexer": "ipython3",
   "version": "3.9.1"
  }
 },
 "nbformat": 4,
 "nbformat_minor": 5
}
