{
  "cells": [
    {
      "cell_type": "markdown",
      "metadata": {
        "id": "I-hzKSfF7s3f"
      },
      "source": [
        "##  Plasma calculations with PlasmaPy\n",
        "\n",
        "This notebook shows how to calculate various plasma parameters (Alfvén speed, plasma beta, Debye length, etc.) with MMS data and the PlasmaPy package. You will need to install `plasmapy` prior to running this notebook. To install `plasmapy`, on the command line, type:\n",
        "   \n",
        "`pip install plasmapy`\n",
        "\n",
        "For more information on PlasmaPy, see:\n",
        "\n",
        "https://docs.plasmapy.org/\n",
        "\n",
        "### Load the data\n",
        "To get started, we import `pyspedas` and load the MMS data for October 16, 2015"
      ],
      "id": "I-hzKSfF7s3f"
    },
    {
      "cell_type": "code",
      "execution_count": 15,
      "metadata": {
        "colab": {
          "base_uri": "https://localhost:8080/"
        },
        "id": "_be0A_QY7s3i",
        "outputId": "397d79a8-591c-4a89-c3f5-0505ec51ce80"
      },
      "outputs": [
        {
          "output_type": "stream",
          "name": "stderr",
          "text": [
            "27-Jan-22 19:09:48: Loading pydata/mms1/fgm/brst/l2/2015/10/16/mms1_fgm_brst_l2_20151016125604_v4.18.1.cdf\n",
            "27-Jan-22 19:09:48: Loading pydata/mms1/fgm/brst/l2/2015/10/16/mms1_fgm_brst_l2_20151016130224_v4.18.1.cdf\n",
            "27-Jan-22 19:09:48: Loading pydata/mms1/fgm/brst/l2/2015/10/16/mms1_fgm_brst_l2_20151016130334_v4.18.1.cdf\n",
            "27-Jan-22 19:09:48: Loading pydata/mms1/fgm/brst/l2/2015/10/16/mms1_fgm_brst_l2_20151016130524_v4.18.1.cdf\n",
            "27-Jan-22 19:09:48: Loading pydata/mms1/fgm/brst/l2/2015/10/16/mms1_fgm_brst_l2_20151016130904_v4.18.1.cdf\n"
          ]
        },
        {
          "output_type": "stream",
          "name": "stdout",
          "text": [
            "The lengths of x and y do not match!\n",
            "mms1_fgm_rdeltahalf_brst_l2 is currently not in pytplot.\n",
            "mms1_fgm_rdeltahalf_brst_l2 is currently not in pytplot.\n",
            "mms1_fgm_rdeltahalf_brst_l2 is currently not in pytplot.\n",
            "Time clip was applied to: mms1_fgm_b_gse_brst_l2\n",
            "Time clip was applied to: mms1_fgm_b_gsm_brst_l2\n",
            "Time clip was applied to: mms1_fgm_b_dmpa_brst_l2\n",
            "Time clip was applied to: mms1_fgm_b_bcs_brst_l2\n",
            "Time clip was applied to: mms1_fgm_flag_brst_l2\n",
            "Time clip was applied to: mms1_fgm_r_gse_brst_l2\n",
            "Time clip was applied to: mms1_fgm_r_gsm_brst_l2\n",
            "Time clip was applied to: mms1_fgm_hirange_brst_l2\n",
            "Time clip was applied to: mms1_fgm_bdeltahalf_brst_l2\n",
            "Time clip was applied to: mms1_fgm_stemp_brst_l2\n",
            "Time clip was applied to: mms1_fgm_etemp_brst_l2\n",
            "Time clip was applied to: mms1_fgm_mode_brst_l2\n",
            "Time clip error: No pytplot names were provided.\n",
            "That name is currently not in pytplot\n",
            "That name is currently not in pytplot\n",
            "Loaded variables:\n",
            "Epoch\n",
            "mms1_fgm_b_gse_brst_l2\n",
            "mms1_fgm_b_gsm_brst_l2\n",
            "mms1_fgm_b_dmpa_brst_l2\n",
            "mms1_fgm_b_bcs_brst_l2\n",
            "mms1_fgm_flag_brst_l2\n",
            "Epoch_state\n",
            "mms1_fgm_hirange_brst_l2\n",
            "mms1_fgm_bdeltahalf_brst_l2\n",
            "mms1_fgm_stemp_brst_l2\n",
            "mms1_fgm_etemp_brst_l2\n",
            "mms1_fgm_mode_brst_l2\n",
            "mms1_fgm_rdeltahalf_brst_l2\n",
            "mms1_fgm_b_dmpa_brst_l2_bvec\n",
            "mms1_fgm_b_dmpa_brst_l2_btot\n",
            "mms1_fgm_b_gse_brst_l2_bvec\n",
            "mms1_fgm_b_gse_brst_l2_btot\n",
            "mms1_fgm_b_gsm_brst_l2_bvec\n",
            "mms1_fgm_b_gsm_brst_l2_btot\n",
            "mms1_fgm_b_bcs_brst_l2_bvec\n",
            "mms1_fgm_b_bcs_brst_l2_btot\n"
          ]
        },
        {
          "output_type": "stream",
          "name": "stderr",
          "text": [
            "27-Jan-22 19:09:51: Loading pydata/mms1/fpi/brst/l2/dis-moms/2015/10/16/mms1_fpi_brst_l2_dis-moms_20151016125604_v3.3.0.cdf\n",
            "27-Jan-22 19:09:51: Loading pydata/mms1/fpi/brst/l2/dis-moms/2015/10/16/mms1_fpi_brst_l2_dis-moms_20151016130224_v3.3.0.cdf\n",
            "27-Jan-22 19:09:51: Loading pydata/mms1/fpi/brst/l2/dis-moms/2015/10/16/mms1_fpi_brst_l2_dis-moms_20151016130334_v3.3.0.cdf\n",
            "27-Jan-22 19:09:51: Loading pydata/mms1/fpi/brst/l2/dis-moms/2015/10/16/mms1_fpi_brst_l2_dis-moms_20151016130524_v3.3.0.cdf\n",
            "27-Jan-22 19:09:51: Loading pydata/mms1/fpi/brst/l2/dis-moms/2015/10/16/mms1_fpi_brst_l2_dis-moms_20151016130904_v3.3.0.cdf\n",
            "27-Jan-22 19:09:52: Loading pydata/mms1/fpi/brst/l2/des-moms/2015/10/16/mms1_fpi_brst_l2_des-moms_20151016125604_v3.3.0.cdf\n",
            "27-Jan-22 19:09:52: Loading pydata/mms1/fpi/brst/l2/des-moms/2015/10/16/mms1_fpi_brst_l2_des-moms_20151016130224_v3.3.0.cdf\n",
            "27-Jan-22 19:09:52: Loading pydata/mms1/fpi/brst/l2/des-moms/2015/10/16/mms1_fpi_brst_l2_des-moms_20151016130334_v3.3.0.cdf\n",
            "27-Jan-22 19:09:52: Loading pydata/mms1/fpi/brst/l2/des-moms/2015/10/16/mms1_fpi_brst_l2_des-moms_20151016130524_v3.3.0.cdf\n",
            "27-Jan-22 19:09:52: Loading pydata/mms1/fpi/brst/l2/des-moms/2015/10/16/mms1_fpi_brst_l2_des-moms_20151016130904_v3.3.0.cdf\n"
          ]
        },
        {
          "output_type": "stream",
          "name": "stdout",
          "text": [
            "Time clip was applied to: mms1_des_errorflags_brst\n",
            "Time clip was applied to: mms1_des_compressionloss_brst\n",
            "Time clip was applied to: mms1_des_steptable_parity_brst\n",
            "Time clip was applied to: mms1_des_startdelphi_count_brst\n",
            "Time clip was applied to: mms1_des_startdelphi_angle_brst\n",
            "Time clip was applied to: mms1_des_sector_despinp_brst\n",
            "Time clip was applied to: mms1_des_pitchangdist_lowen_brst\n",
            "Time clip was applied to: mms1_des_pitchangdist_miden_brst\n",
            "Time clip was applied to: mms1_des_pitchangdist_highen_brst\n",
            "Time clip was applied to: mms1_des_energyspectr_px_brst\n",
            "Time clip was applied to: mms1_des_energyspectr_mx_brst\n",
            "Time clip was applied to: mms1_des_energyspectr_py_brst\n",
            "Time clip was applied to: mms1_des_energyspectr_my_brst\n",
            "Time clip was applied to: mms1_des_energyspectr_pz_brst\n",
            "Time clip was applied to: mms1_des_energyspectr_mz_brst\n",
            "Time clip was applied to: mms1_des_energyspectr_par_brst\n",
            "Time clip was applied to: mms1_des_energyspectr_anti_brst\n",
            "Time clip was applied to: mms1_des_energyspectr_perp_brst\n",
            "Time clip was applied to: mms1_des_energyspectr_omni_brst\n",
            "Time clip was applied to: mms1_des_numberdensity_brst\n",
            "Time clip was applied to: mms1_des_numberdensity_err_brst\n",
            "Time clip was applied to: mms1_des_densityextrapolation_low_brst\n",
            "Time clip was applied to: mms1_des_densityextrapolation_high_brst\n",
            "Time clip was applied to: mms1_des_bulkv_dbcs_brst\n",
            "Time clip was applied to: mms1_des_bulkv_spintone_dbcs_brst\n",
            "Time clip was applied to: mms1_des_bulkv_gse_brst\n",
            "Time clip was applied to: mms1_des_bulkv_spintone_gse_brst\n",
            "Time clip was applied to: mms1_des_bulkv_err_brst\n",
            "Time clip was applied to: mms1_des_prestensor_dbcs_brst\n",
            "Time clip was applied to: mms1_des_prestensor_gse_brst\n",
            "Time clip was applied to: mms1_des_prestensor_err_brst\n",
            "Time clip was applied to: mms1_des_temptensor_dbcs_brst\n",
            "Time clip was applied to: mms1_des_temptensor_gse_brst\n",
            "Time clip was applied to: mms1_des_temptensor_err_brst\n",
            "Time clip was applied to: mms1_des_heatq_dbcs_brst\n",
            "Time clip was applied to: mms1_des_heatq_gse_brst\n",
            "Time clip was applied to: mms1_des_heatq_err_brst\n",
            "Time clip was applied to: mms1_des_energy_brst\n",
            "Time clip was applied to: mms1_des_energy_delta_brst\n",
            "Time clip was applied to: mms1_des_temppara_brst\n",
            "Time clip was applied to: mms1_des_tempperp_brst\n",
            "Time clip was applied to: mms1_dis_errorflags_brst\n",
            "Time clip was applied to: mms1_dis_compressionloss_brst\n",
            "Time clip was applied to: mms1_dis_steptable_parity_brst\n",
            "Time clip was applied to: mms1_dis_startdelphi_count_brst\n",
            "Time clip was applied to: mms1_dis_startdelphi_angle_brst\n",
            "Time clip was applied to: mms1_dis_sector_despinp_brst\n",
            "Time clip was applied to: mms1_dis_energyspectr_px_brst\n",
            "Time clip was applied to: mms1_dis_energyspectr_mx_brst\n",
            "Time clip was applied to: mms1_dis_energyspectr_py_brst\n",
            "Time clip was applied to: mms1_dis_energyspectr_my_brst\n",
            "Time clip was applied to: mms1_dis_energyspectr_pz_brst\n",
            "Time clip was applied to: mms1_dis_energyspectr_mz_brst\n",
            "Time clip was applied to: mms1_dis_energyspectr_omni_brst\n",
            "Time clip was applied to: mms1_dis_spectr_bg_brst\n",
            "Time clip was applied to: mms1_dis_numberdensity_bg_brst\n",
            "Time clip was applied to: mms1_dis_numberdensity_brst\n",
            "Time clip was applied to: mms1_dis_numberdensity_err_brst\n",
            "Time clip was applied to: mms1_dis_densityextrapolation_low_brst\n",
            "Time clip was applied to: mms1_dis_densityextrapolation_high_brst\n",
            "Time clip was applied to: mms1_dis_bulkv_dbcs_brst\n",
            "Time clip was applied to: mms1_dis_bulkv_spintone_dbcs_brst\n",
            "Time clip was applied to: mms1_dis_bulkv_gse_brst\n",
            "Time clip was applied to: mms1_dis_bulkv_spintone_gse_brst\n",
            "Time clip was applied to: mms1_dis_bulkv_err_brst\n",
            "Time clip was applied to: mms1_dis_prestensor_dbcs_brst\n",
            "Time clip was applied to: mms1_dis_prestensor_gse_brst\n",
            "Time clip was applied to: mms1_dis_prestensor_err_brst\n",
            "Time clip was applied to: mms1_dis_pres_bg_brst\n",
            "Time clip was applied to: mms1_dis_temptensor_dbcs_brst\n",
            "Time clip was applied to: mms1_dis_temptensor_gse_brst\n",
            "Time clip was applied to: mms1_dis_temptensor_err_brst\n",
            "Time clip was applied to: mms1_dis_heatq_dbcs_brst\n",
            "Time clip was applied to: mms1_dis_heatq_gse_brst\n",
            "Time clip was applied to: mms1_dis_heatq_err_brst\n",
            "Time clip was applied to: mms1_dis_energy_brst\n",
            "Time clip was applied to: mms1_dis_energy_delta_brst\n",
            "Time clip was applied to: mms1_dis_temppara_brst\n",
            "Time clip was applied to: mms1_dis_tempperp_brst\n",
            "That name is currently not in pytplot\n",
            "That name is currently not in pytplot\n",
            "That name is currently not in pytplot\n",
            "Loaded variables:\n",
            "Epoch\n",
            "Epoch_plus_var\n",
            "Epoch_minus_var\n",
            "mms1_des_errorflags_brst\n",
            "mms1_des_compressionloss_brst\n",
            "mms1_des_steptable_parity_brst\n",
            "mms1_des_startdelphi_count_brst\n",
            "mms1_des_startdelphi_angle_brst\n",
            "mms1_des_sector_despinp_brst\n",
            "mms1_des_pitchangdist_lowen_brst\n",
            "mms1_des_pitchangdist_miden_brst\n",
            "mms1_des_pitchangdist_highen_brst\n",
            "mms1_des_energyspectr_px_brst\n",
            "mms1_des_energyspectr_mx_brst\n",
            "mms1_des_energyspectr_py_brst\n",
            "mms1_des_energyspectr_my_brst\n",
            "mms1_des_energyspectr_pz_brst\n",
            "mms1_des_energyspectr_mz_brst\n",
            "mms1_des_energyspectr_par_brst\n",
            "mms1_des_energyspectr_anti_brst\n",
            "mms1_des_energyspectr_perp_brst\n",
            "mms1_des_energyspectr_omni_brst\n",
            "mms1_des_numberdensity_brst\n",
            "mms1_des_numberdensity_err_brst\n",
            "mms1_des_densityextrapolation_low_brst\n",
            "mms1_des_densityextrapolation_high_brst\n",
            "mms1_des_bulkv_dbcs_brst\n",
            "mms1_des_bulkv_spintone_dbcs_brst\n",
            "mms1_des_bulkv_gse_brst\n",
            "mms1_des_bulkv_spintone_gse_brst\n",
            "mms1_des_bulkv_err_brst\n",
            "mms1_des_prestensor_dbcs_brst\n",
            "mms1_des_prestensor_gse_brst\n",
            "mms1_des_prestensor_err_brst\n",
            "mms1_des_temptensor_dbcs_brst\n",
            "mms1_des_temptensor_gse_brst\n",
            "mms1_des_temptensor_err_brst\n",
            "mms1_des_heatq_dbcs_brst\n",
            "mms1_des_heatq_gse_brst\n",
            "mms1_des_heatq_err_brst\n",
            "mms1_des_alpha_brst\n",
            "mms1_des_alpha_delta_brst\n",
            "mms1_des_energy_brst\n",
            "mms1_des_energy_delta_brst\n",
            "mms1_des_temppara_brst\n",
            "mms1_des_tempperp_brst\n",
            "mms1_dis_errorflags_brst\n",
            "mms1_dis_compressionloss_brst\n",
            "mms1_dis_steptable_parity_brst\n",
            "mms1_dis_startdelphi_count_brst\n",
            "mms1_dis_startdelphi_angle_brst\n",
            "mms1_dis_sector_despinp_brst\n",
            "mms1_dis_energyspectr_px_brst\n",
            "mms1_dis_energyspectr_mx_brst\n",
            "mms1_dis_energyspectr_py_brst\n",
            "mms1_dis_energyspectr_my_brst\n",
            "mms1_dis_energyspectr_pz_brst\n",
            "mms1_dis_energyspectr_mz_brst\n",
            "mms1_dis_energyspectr_omni_brst\n",
            "mms1_dis_spectr_bg_brst\n",
            "mms1_dis_numberdensity_bg_brst\n",
            "mms1_dis_numberdensity_brst\n",
            "mms1_dis_numberdensity_err_brst\n",
            "mms1_dis_densityextrapolation_low_brst\n",
            "mms1_dis_densityextrapolation_high_brst\n",
            "mms1_dis_bulkv_dbcs_brst\n",
            "mms1_dis_bulkv_spintone_dbcs_brst\n",
            "mms1_dis_bulkv_gse_brst\n",
            "mms1_dis_bulkv_spintone_gse_brst\n",
            "mms1_dis_bulkv_err_brst\n",
            "mms1_dis_prestensor_dbcs_brst\n",
            "mms1_dis_prestensor_gse_brst\n",
            "mms1_dis_prestensor_err_brst\n",
            "mms1_dis_pres_bg_brst\n",
            "mms1_dis_temptensor_dbcs_brst\n",
            "mms1_dis_temptensor_gse_brst\n",
            "mms1_dis_temptensor_err_brst\n",
            "mms1_dis_heatq_dbcs_brst\n",
            "mms1_dis_heatq_gse_brst\n",
            "mms1_dis_heatq_err_brst\n",
            "mms1_dis_energy_brst\n",
            "mms1_dis_energy_delta_brst\n",
            "mms1_dis_temppara_brst\n",
            "mms1_dis_tempperp_brst\n",
            "mms1_des_pitchangdist_avg\n"
          ]
        },
        {
          "output_type": "execute_result",
          "data": {
            "text/plain": [
              "['Epoch',\n",
              " 'Epoch_plus_var',\n",
              " 'Epoch_minus_var',\n",
              " 'mms1_des_errorflags_brst',\n",
              " 'mms1_des_compressionloss_brst',\n",
              " 'mms1_des_steptable_parity_brst',\n",
              " 'mms1_des_startdelphi_count_brst',\n",
              " 'mms1_des_startdelphi_angle_brst',\n",
              " 'mms1_des_sector_despinp_brst',\n",
              " 'mms1_des_pitchangdist_lowen_brst',\n",
              " 'mms1_des_pitchangdist_miden_brst',\n",
              " 'mms1_des_pitchangdist_highen_brst',\n",
              " 'mms1_des_energyspectr_px_brst',\n",
              " 'mms1_des_energyspectr_mx_brst',\n",
              " 'mms1_des_energyspectr_py_brst',\n",
              " 'mms1_des_energyspectr_my_brst',\n",
              " 'mms1_des_energyspectr_pz_brst',\n",
              " 'mms1_des_energyspectr_mz_brst',\n",
              " 'mms1_des_energyspectr_par_brst',\n",
              " 'mms1_des_energyspectr_anti_brst',\n",
              " 'mms1_des_energyspectr_perp_brst',\n",
              " 'mms1_des_energyspectr_omni_brst',\n",
              " 'mms1_des_numberdensity_brst',\n",
              " 'mms1_des_numberdensity_err_brst',\n",
              " 'mms1_des_densityextrapolation_low_brst',\n",
              " 'mms1_des_densityextrapolation_high_brst',\n",
              " 'mms1_des_bulkv_dbcs_brst',\n",
              " 'mms1_des_bulkv_spintone_dbcs_brst',\n",
              " 'mms1_des_bulkv_gse_brst',\n",
              " 'mms1_des_bulkv_spintone_gse_brst',\n",
              " 'mms1_des_bulkv_err_brst',\n",
              " 'mms1_des_prestensor_dbcs_brst',\n",
              " 'mms1_des_prestensor_gse_brst',\n",
              " 'mms1_des_prestensor_err_brst',\n",
              " 'mms1_des_temptensor_dbcs_brst',\n",
              " 'mms1_des_temptensor_gse_brst',\n",
              " 'mms1_des_temptensor_err_brst',\n",
              " 'mms1_des_heatq_dbcs_brst',\n",
              " 'mms1_des_heatq_gse_brst',\n",
              " 'mms1_des_heatq_err_brst',\n",
              " 'mms1_des_alpha_brst',\n",
              " 'mms1_des_alpha_delta_brst',\n",
              " 'mms1_des_energy_brst',\n",
              " 'mms1_des_energy_delta_brst',\n",
              " 'mms1_des_temppara_brst',\n",
              " 'mms1_des_tempperp_brst',\n",
              " 'mms1_dis_errorflags_brst',\n",
              " 'mms1_dis_compressionloss_brst',\n",
              " 'mms1_dis_steptable_parity_brst',\n",
              " 'mms1_dis_startdelphi_count_brst',\n",
              " 'mms1_dis_startdelphi_angle_brst',\n",
              " 'mms1_dis_sector_despinp_brst',\n",
              " 'mms1_dis_energyspectr_px_brst',\n",
              " 'mms1_dis_energyspectr_mx_brst',\n",
              " 'mms1_dis_energyspectr_py_brst',\n",
              " 'mms1_dis_energyspectr_my_brst',\n",
              " 'mms1_dis_energyspectr_pz_brst',\n",
              " 'mms1_dis_energyspectr_mz_brst',\n",
              " 'mms1_dis_energyspectr_omni_brst',\n",
              " 'mms1_dis_spectr_bg_brst',\n",
              " 'mms1_dis_numberdensity_bg_brst',\n",
              " 'mms1_dis_numberdensity_brst',\n",
              " 'mms1_dis_numberdensity_err_brst',\n",
              " 'mms1_dis_densityextrapolation_low_brst',\n",
              " 'mms1_dis_densityextrapolation_high_brst',\n",
              " 'mms1_dis_bulkv_dbcs_brst',\n",
              " 'mms1_dis_bulkv_spintone_dbcs_brst',\n",
              " 'mms1_dis_bulkv_gse_brst',\n",
              " 'mms1_dis_bulkv_spintone_gse_brst',\n",
              " 'mms1_dis_bulkv_err_brst',\n",
              " 'mms1_dis_prestensor_dbcs_brst',\n",
              " 'mms1_dis_prestensor_gse_brst',\n",
              " 'mms1_dis_prestensor_err_brst',\n",
              " 'mms1_dis_pres_bg_brst',\n",
              " 'mms1_dis_temptensor_dbcs_brst',\n",
              " 'mms1_dis_temptensor_gse_brst',\n",
              " 'mms1_dis_temptensor_err_brst',\n",
              " 'mms1_dis_heatq_dbcs_brst',\n",
              " 'mms1_dis_heatq_gse_brst',\n",
              " 'mms1_dis_heatq_err_brst',\n",
              " 'mms1_dis_energy_brst',\n",
              " 'mms1_dis_energy_delta_brst',\n",
              " 'mms1_dis_temppara_brst',\n",
              " 'mms1_dis_tempperp_brst',\n",
              " 'mms1_des_pitchangdist_avg']"
            ]
          },
          "metadata": {},
          "execution_count": 15
        }
      ],
      "source": [
        "import pyspedas\n",
        "\n",
        "trange = ['2015-10-16/13:00', '2015-10-16/13:10']\n",
        "\n",
        "pyspedas.mms.fgm(trange=trange, data_rate='brst', time_clip=True)\n",
        "pyspedas.mms.fpi(datatype=['dis-moms', 'des-moms'], trange=trange, data_rate='brst', time_clip=True, center_measurement=True)"
      ],
      "id": "_be0A_QY7s3i"
    },
    {
      "cell_type": "markdown",
      "metadata": {
        "id": "jK76-kRw7s3k"
      },
      "source": [
        "### Interpolate to a common set of times\n",
        "\n",
        "Now we need to interpolate the B-field and DES (electron) data to the DIS (ion) time stamps\n",
        "\n",
        "\n",
        "Note: tinterpol creates a new variable containing the interpolated output with the suffix '-itrp'"
      ],
      "id": "jK76-kRw7s3k"
    },
    {
      "cell_type": "code",
      "execution_count": 16,
      "metadata": {
        "colab": {
          "base_uri": "https://localhost:8080/"
        },
        "id": "ZYuewu0v7s3m",
        "outputId": "c798bc2a-6832-4eae-e76e-528232877f89"
      },
      "outputs": [
        {
          "output_type": "stream",
          "name": "stdout",
          "text": [
            "tinterpol (linear) was applied to: mms1_fgm_b_gse_brst_l2_btot-itrp\n",
            "tinterpol (linear) was applied to: mms1_des_numberdensity_brst-itrp\n",
            "tinterpol (linear) was applied to: mms1_des_temppara_brst-itrp\n",
            "tinterpol (linear) was applied to: mms1_des_tempperp_brst-itrp\n"
          ]
        }
      ],
      "source": [
        "from pyspedas import tinterpol\n",
        "tinterpol('mms1_fgm_b_gse_brst_l2_btot', 'mms1_dis_numberdensity_brst')\n",
        "tinterpol('mms1_des_numberdensity_brst', 'mms1_dis_numberdensity_brst')\n",
        "tinterpol('mms1_des_temppara_brst', 'mms1_dis_numberdensity_brst')\n",
        "tinterpol('mms1_des_tempperp_brst', 'mms1_dis_numberdensity_brst')"
      ],
      "id": "ZYuewu0v7s3m"
    },
    {
      "cell_type": "markdown",
      "metadata": {
        "id": "SwIQd2mn7s3n"
      },
      "source": [
        "### Extract the data values"
      ],
      "id": "SwIQd2mn7s3n"
    },
    {
      "cell_type": "code",
      "execution_count": 17,
      "metadata": {
        "id": "2pl3lvyQ7s3o"
      },
      "outputs": [],
      "source": [
        "from pytplot import get_data\n",
        "fgm_b = get_data('mms1_fgm_b_gse_brst_l2_btot-itrp')\n",
        "dis_n = get_data('mms1_dis_numberdensity_brst')\n",
        "dis_Tpara = get_data('mms1_dis_temppara_brst')\n",
        "dis_Tperp = get_data('mms1_dis_tempperp_brst')\n",
        "des_n = get_data('mms1_des_numberdensity_brst-itrp')\n",
        "des_Tpara = get_data('mms1_des_temppara_brst-itrp')\n",
        "des_Tperp = get_data('mms1_des_tempperp_brst-itrp')"
      ],
      "id": "2pl3lvyQ7s3o"
    },
    {
      "cell_type": "markdown",
      "metadata": {
        "id": "6RFCojF47s3p"
      },
      "source": [
        "### Calculate T from Tpara and Tperp\n",
        "\n",
        "Temperature data released by the FPI team come as parallel and perpendicular components; to calculate plasma parameters, we'll need the total temperature.\n",
        "\n",
        "For details on this calculation, please see the FPI Data Product Guide:\n",
        "\n",
        "https://lasp.colorado.edu/galaxy/pages/viewpage.action?pageId=37618954"
      ],
      "id": "6RFCojF47s3p"
    },
    {
      "cell_type": "code",
      "execution_count": 18,
      "metadata": {
        "id": "ONycdP3Q7s3q"
      },
      "outputs": [],
      "source": [
        "dis_T = (dis_Tpara.y + 2*dis_Tperp.y)/3.0\n",
        "des_T = (des_Tpara.y + 2*des_Tperp.y)/3.0"
      ],
      "id": "ONycdP3Q7s3q"
    },
    {
      "cell_type": "markdown",
      "metadata": {
        "id": "YK3kDdkJ7s3q"
      },
      "source": [
        "### Add units to the data\n",
        "\n",
        "PlasmaPy requires us to specify the units of the data using `astropy` units"
      ],
      "id": "YK3kDdkJ7s3q"
    },
    {
      "cell_type": "code",
      "execution_count": 19,
      "metadata": {
        "id": "ImqJzSum7s3r"
      },
      "outputs": [],
      "source": [
        "from astropy import units as u\n",
        "B = fgm_b.y * u.nT\n",
        "n_i = dis_n.y * u.cm**-3\n",
        "n_e = des_n.y * u.cm**-3\n",
        "T_i = dis_T * u.eV\n",
        "T_e = des_T * u.eV"
      ],
      "id": "ImqJzSum7s3r"
    },
    {
      "cell_type": "markdown",
      "metadata": {
        "id": "FzQeN1Sx7s3s"
      },
      "source": [
        "Now that we have some data loaded, we'll calculate some plasma parameters "
      ],
      "id": "FzQeN1Sx7s3s"
    },
    {
      "cell_type": "code",
      "execution_count": 20,
      "metadata": {
        "id": "qjmMiMtR7s3s"
      },
      "outputs": [],
      "source": [
        "import plasmapy"
      ],
      "id": "qjmMiMtR7s3s"
    },
    {
      "cell_type": "markdown",
      "metadata": {
        "id": "_eYtOiZM7s3t"
      },
      "source": [
        "### Alfvén speed"
      ],
      "id": "_eYtOiZM7s3t"
    },
    {
      "cell_type": "code",
      "execution_count": 21,
      "metadata": {
        "id": "5sz9fwZS7s3t"
      },
      "outputs": [],
      "source": [
        "Va = plasmapy.formulary.parameters.Alfven_speed(B, n_i, 'p')\n",
        "\n",
        "# convert to km / s\n",
        "Va = Va.to(u.km / u.s)"
      ],
      "id": "5sz9fwZS7s3t"
    },
    {
      "cell_type": "markdown",
      "metadata": {
        "id": "FUMm5ZRH7s3u"
      },
      "source": [
        "### Plasma beta"
      ],
      "id": "FUMm5ZRH7s3u"
    },
    {
      "cell_type": "code",
      "execution_count": 22,
      "metadata": {
        "id": "KX4U2U177s3v"
      },
      "outputs": [],
      "source": [
        "# ions\n",
        "beta_i = plasmapy.formulary.dimensionless.beta(T_i, n_i, B)\n",
        "\n",
        "# electrons\n",
        "beta_e = plasmapy.formulary.dimensionless.beta(T_e, n_e, B)\n",
        "\n",
        "# combined\n",
        "beta = beta_i + beta_e"
      ],
      "id": "KX4U2U177s3v"
    },
    {
      "cell_type": "markdown",
      "metadata": {
        "id": "bw6kx4Cb7s3v"
      },
      "source": [
        "### Ion inertial length"
      ],
      "id": "bw6kx4Cb7s3v"
    },
    {
      "cell_type": "code",
      "execution_count": 23,
      "metadata": {
        "colab": {
          "base_uri": "https://localhost:8080/"
        },
        "id": "InifI0Yr7s3w",
        "outputId": "ab2642ee-5e5d-4406-c512-fe318afe4e7f"
      },
      "outputs": [
        {
          "output_type": "stream",
          "name": "stderr",
          "text": [
            "27-Jan-22 19:10:06: /usr/local/lib/python3.7/dist-packages/astropy/units/quantity.py:486: RuntimeWarning: overflow encountered in true_divide\n",
            "  result = super().__array_ufunc__(function, method, *arrays, **kwargs)\n",
            "\n"
          ]
        }
      ],
      "source": [
        "d_i = plasmapy.formulary.parameters.inertial_length(n_i, 'p+')"
      ],
      "id": "InifI0Yr7s3w"
    },
    {
      "cell_type": "markdown",
      "metadata": {
        "id": "tMV-Kgo77s3x"
      },
      "source": [
        "### Debye length"
      ],
      "id": "tMV-Kgo77s3x"
    },
    {
      "cell_type": "code",
      "execution_count": 24,
      "metadata": {
        "id": "R2U9m6Ww7s3x"
      },
      "outputs": [],
      "source": [
        "lamda_d = plasmapy.formulary.parameters.Debye_length(T_e, n_e)"
      ],
      "id": "R2U9m6Ww7s3x"
    },
    {
      "cell_type": "markdown",
      "metadata": {
        "id": "R-FpkYp87s3x"
      },
      "source": [
        "### Ion gyrofrequency"
      ],
      "id": "R-FpkYp87s3x"
    },
    {
      "cell_type": "code",
      "execution_count": 25,
      "metadata": {
        "id": "pA2g3hEI7s3y"
      },
      "outputs": [],
      "source": [
        "omega_ci = plasmapy.formulary.parameters.gyrofrequency(B, 'p', to_hz=True)"
      ],
      "id": "pA2g3hEI7s3y"
    },
    {
      "cell_type": "markdown",
      "metadata": {
        "id": "eLpng2Mf7s3y"
      },
      "source": [
        "### Ion gyroradius"
      ],
      "id": "eLpng2Mf7s3y"
    },
    {
      "cell_type": "code",
      "execution_count": 26,
      "metadata": {
        "id": "63Axbyqh7s3z"
      },
      "outputs": [],
      "source": [
        "r_i = plasmapy.formulary.parameters.gyroradius(B, 'p', T=T_i)\n",
        "\n",
        "# convert to km\n",
        "r_i = r_i.to(u.km)"
      ],
      "id": "63Axbyqh7s3z"
    },
    {
      "cell_type": "markdown",
      "metadata": {
        "id": "QvKFe6QW7s3z"
      },
      "source": [
        "### Bohm diffusion coefficient"
      ],
      "id": "QvKFe6QW7s3z"
    },
    {
      "cell_type": "code",
      "execution_count": 27,
      "metadata": {
        "id": "lJZQofjI7s30"
      },
      "outputs": [],
      "source": [
        "DB = plasmapy.formulary.parameters.Bohm_diffusion(T_e, B)"
      ],
      "id": "lJZQofjI7s30"
    },
    {
      "cell_type": "markdown",
      "metadata": {
        "id": "6FCYJag97s30"
      },
      "source": [
        "### Lower hybrid frequency"
      ],
      "id": "6FCYJag97s30"
    },
    {
      "cell_type": "code",
      "execution_count": 28,
      "metadata": {
        "colab": {
          "base_uri": "https://localhost:8080/"
        },
        "id": "7GMSDpVE7s30",
        "outputId": "4fd573ab-3694-402f-8f16-b70e0b61b423"
      },
      "outputs": [
        {
          "output_type": "stream",
          "name": "stderr",
          "text": [
            "27-Jan-22 19:10:06: /usr/local/lib/python3.7/dist-packages/astropy/units/quantity.py:486: RuntimeWarning: overflow encountered in true_divide\n",
            "  result = super().__array_ufunc__(function, method, *arrays, **kwargs)\n",
            "\n"
          ]
        }
      ],
      "source": [
        "omega_lh = plasmapy.formulary.parameters.lower_hybrid_frequency(B, n_i, 'p', to_hz=True)"
      ],
      "id": "7GMSDpVE7s30"
    },
    {
      "cell_type": "markdown",
      "metadata": {
        "id": "5UDXPJnR7s31"
      },
      "source": [
        "### Upper hybrid frequency"
      ],
      "id": "5UDXPJnR7s31"
    },
    {
      "cell_type": "code",
      "execution_count": 29,
      "metadata": {
        "id": "Pv--cUnO7s31"
      },
      "outputs": [],
      "source": [
        "omega_uh = plasmapy.formulary.parameters.upper_hybrid_frequency(B, n_e, to_hz=True)"
      ],
      "id": "Pv--cUnO7s31"
    },
    {
      "cell_type": "markdown",
      "metadata": {
        "id": "n-mNLuak7s32"
      },
      "source": [
        "### Save the data in tplot variables"
      ],
      "id": "n-mNLuak7s32"
    },
    {
      "cell_type": "code",
      "execution_count": 30,
      "metadata": {
        "colab": {
          "base_uri": "https://localhost:8080/"
        },
        "id": "AAwGq4aB7s32",
        "outputId": "a67d9fb4-92c3-483c-f4aa-ec5e855a7ccc"
      },
      "outputs": [
        {
          "output_type": "execute_result",
          "data": {
            "text/plain": [
              "True"
            ]
          },
          "metadata": {},
          "execution_count": 30
        }
      ],
      "source": [
        "from pytplot import store_data\n",
        "store_data('alfven_speed', data={'x': fgm_b.times, 'y': Va})\n",
        "store_data('plasma_beta', data={'x': fgm_b.times, 'y': beta})\n",
        "store_data('ion_inertial_length', data={'x': fgm_b.times, 'y': d_i})\n",
        "store_data('debye_length', data={'x': fgm_b.times, 'y': lamda_d})\n",
        "store_data('omega_ci', data={'x': fgm_b.times, 'y': omega_ci})\n",
        "store_data('ion_gyroradius', data={'x': fgm_b.times, 'y': r_i})\n",
        "store_data('bohm_diffusion_coeff', data={'x': fgm_b.times, 'y': DB})\n",
        "store_data('omega_lh', data={'x': fgm_b.times, 'y': omega_lh})\n",
        "store_data('omega_uh', data={'x': fgm_b.times, 'y': omega_uh})"
      ],
      "id": "AAwGq4aB7s32"
    },
    {
      "cell_type": "markdown",
      "metadata": {
        "id": "ZvMZyHw37s33"
      },
      "source": [
        "### Set some plot metadata"
      ],
      "id": "ZvMZyHw37s33"
    },
    {
      "cell_type": "code",
      "execution_count": 31,
      "metadata": {
        "id": "A94D9-NK7s34"
      },
      "outputs": [],
      "source": [
        "from pytplot import options\n",
        "options('alfven_speed', 'ytitle', 'Va \\\\ (' + str(Va.unit) + ')')\n",
        "options('alfven_speed', 'legend_names', 'Alfvén speed')\n",
        "options('plasma_beta', 'ytitle', 'Beta')\n",
        "options('plasma_beta', 'legend_names', 'Plasma Beta')\n",
        "options('ion_inertial_length', 'ytitle', 'd_i \\\\ (' + str(d_i.unit) + ')')\n",
        "options('ion_inertial_length', 'legend_names', 'Ion inertial length')\n",
        "options('debye_length', 'ytitle', 'Lamda_d \\\\ (' + str(lamda_d.unit) + ')')\n",
        "options('debye_length', 'legend_names', 'Debye length')\n",
        "options('omega_ci', 'ytitle', 'omega_ci \\\\ (' + str(omega_ci.unit) + ')')\n",
        "options('omega_ci', 'legend_names', 'Ion gyrofrequency')\n",
        "options('ion_gyroradius', 'ytitle', 'r_i \\\\ (' + str(r_i.unit) + ')')\n",
        "options('ion_gyroradius', 'legend_names', 'Ion gyroradius')\n",
        "options('bohm_diffusion_coeff', 'ytitle', 'DB \\\\ (' + str(DB.unit) + ')')\n",
        "options('bohm_diffusion_coeff', 'legend_names', 'Bohm diffusion coefficient')\n",
        "options('omega_uh', 'ytitle', 'omega_uh \\\\ (' + str(omega_uh.unit) + ')')\n",
        "options('omega_uh', 'legend_names', 'Upper hybrid frequency')\n",
        "options('omega_lh', 'ytitle', 'omega_lh \\\\ (' + str(omega_lh.unit) + ')')\n",
        "options('omega_lh', 'legend_names', 'Lower hybrid frequency')"
      ],
      "id": "A94D9-NK7s34"
    },
    {
      "cell_type": "markdown",
      "metadata": {
        "id": "kQC3qIvH7s35"
      },
      "source": [
        "### Plot the results"
      ],
      "id": "kQC3qIvH7s35"
    },
    {
      "cell_type": "code",
      "execution_count": 32,
      "metadata": {
        "colab": {
          "base_uri": "https://localhost:8080/",
          "height": 680
        },
        "id": "uSnY5Mru7s35",
        "outputId": "316bbc8b-e208-40a6-8745-1615ebddbf06"
      },
      "outputs": [
        {
          "output_type": "stream",
          "name": "stderr",
          "text": [
            "27-Jan-22 19:10:07: /usr/local/lib/python3.7/dist-packages/pytplot/MPLPlotter/tplot.py:220: UserWarning: Attempting to set identical bottom == top == 0.0 results in singular transformations; automatically expanding.\n",
            "  this_axis.set_ylim(yrange)\n",
            "\n"
          ]
        },
        {
          "output_type": "display_data",
          "data": {
            "image/png": "[encoded data removed]",
            "text/plain": [
              "<Figure size 576x720 with 9 Axes>"
            ]
          },
          "metadata": {
            "needs_background": "light"
          }
        }
      ],
      "source": [
        "from pytplot import tplot\n",
        "tplot(['alfven_speed', \n",
        "       'plasma_beta',\n",
        "       'ion_inertial_length',\n",
        "       'debye_length',\n",
        "       'omega_ci',\n",
        "       'ion_gyroradius',\n",
        "       'bohm_diffusion_coeff',\n",
        "       'omega_uh',\n",
        "       'omega_lh'])"
      ],
      "id": "uSnY5Mru7s35"
    },
    {
      "cell_type": "code",
      "execution_count": 32,
      "metadata": {
        "id": "Ko-0Us3K7s35"
      },
      "outputs": [],
      "source": [
        ""
      ],
      "id": "Ko-0Us3K7s35"
    }
  ],
  "metadata": {
    "kernelspec": {
      "display_name": "Python 3",
      "language": "python",
      "name": "python3"
    },
    "language_info": {
      "codemirror_mode": {
        "name": "ipython",
        "version": 3
      },
      "file_extension": ".py",
      "mimetype": "text/x-python",
      "name": "python",
      "nbconvert_exporter": "python",
      "pygments_lexer": "ipython3",
      "version": "3.7.6"
    },
    "colab": {
      "name": "Plasma calculations with PlasmaPy.ipynb",
      "provenance": [],
      "collapsed_sections": []
    }
  },
  "nbformat": 4,
  "nbformat_minor": 5
}