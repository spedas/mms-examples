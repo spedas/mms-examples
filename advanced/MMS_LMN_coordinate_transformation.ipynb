{
 "nbformat": 4,
 "nbformat_minor": 0,
 "metadata": {
  "colab": {
   "name": "MMS_LMN_coordinate_transformation.ipynb",
   "provenance": [],
   "collapsed_sections": []
  },
  "kernelspec": {
   "name": "python3",
   "display_name": "Python 3 (ipykernel)",
   "language": "python"
  },
  "language_info": {
   "name": "python"
  }
 },
 "cells": [
  {
   "cell_type": "markdown",
   "source": [
    "## MMS LMN coordinate transformation\n",
    "\n",
    "This notebook shows how to transform MMS vector fields to LMN (boundary-normal) coordinates"
   ],
   "metadata": {
    "id": "htSuji8XDf3Q"
   }
  },
  {
   "cell_type": "markdown",
   "source": [
    "This command sets up the PySPEDAS environment when running in Google Colab.  You can skip it or comment it out if you're running this notebook in an environment that already has PySPEDAS installed.\n"
   ],
   "metadata": {
    "collapsed": false
   }
  },
  {
   "cell_type": "code",
   "source": "#!pip install pyspedas",
   "metadata": {
    "collapsed": false,
    "ExecuteTime": {
     "end_time": "2024-08-28T00:05:37.197817Z",
     "start_time": "2024-08-28T00:05:37.195411Z"
    }
   },
   "outputs": [],
   "execution_count": 1
  },
  {
   "cell_type": "markdown",
   "source": [
    "Load the FGM data to be transformed"
   ],
   "metadata": {
    "id": "SpCdnpe4D4YN"
   }
  },
  {
   "cell_type": "code",
   "source": [
    "import pyspedas\n",
    "pyspedas.projects.mms.fgm(trange=['2015-10-16/13:05:35', '2015-10-16/13:07:25'], data_rate='brst', probe=2)"
   ],
   "metadata": {
    "colab": {
     "base_uri": "https://localhost:8080/"
    },
    "id": "4GqYtZUlDq0x",
    "outputId": "69043cee-fe9e-4c9d-a93f-e582bc2cfbfb",
    "ExecuteTime": {
     "end_time": "2024-08-28T00:05:43.241970Z",
     "start_time": "2024-08-28T00:05:40.033361Z"
    }
   },
   "outputs": [
    {
     "name": "stderr",
     "output_type": "stream",
     "text": [
      "27-Aug-24 17:05:41: Downloading mms2_fgm_brst_l2_20151016130524_v4.18.0.cdf to pydata/mms2/fgm/brst/l2/2015/10/16\n"
     ]
    },
    {
     "data": {
      "text/plain": [
       "['Epoch',\n",
       " 'mms2_fgm_b_gse_brst_l2',\n",
       " 'mms2_fgm_b_gsm_brst_l2',\n",
       " 'mms2_fgm_b_dmpa_brst_l2',\n",
       " 'mms2_fgm_b_bcs_brst_l2',\n",
       " 'mms2_fgm_flag_brst_l2',\n",
       " 'Epoch_state',\n",
       " 'mms2_fgm_hirange_brst_l2',\n",
       " 'mms2_fgm_bdeltahalf_brst_l2',\n",
       " 'mms2_fgm_stemp_brst_l2',\n",
       " 'mms2_fgm_etemp_brst_l2',\n",
       " 'mms2_fgm_mode_brst_l2',\n",
       " 'mms2_fgm_b_dmpa_brst_l2_bvec',\n",
       " 'mms2_fgm_b_dmpa_brst_l2_btot',\n",
       " 'mms2_fgm_b_gse_brst_l2_bvec',\n",
       " 'mms2_fgm_b_gse_brst_l2_btot',\n",
       " 'mms2_fgm_b_gsm_brst_l2_bvec',\n",
       " 'mms2_fgm_b_gsm_brst_l2_btot',\n",
       " 'mms2_fgm_b_bcs_brst_l2_bvec',\n",
       " 'mms2_fgm_b_bcs_brst_l2_btot']"
      ]
     },
     "execution_count": 2,
     "metadata": {},
     "output_type": "execute_result"
    }
   ],
   "execution_count": 2
  },
  {
   "cell_type": "markdown",
   "source": [
    "Transform the B-field from GSM coordinates into LMN coordinates"
   ],
   "metadata": {
    "id": "__R2yasrE2_q"
   }
  },
  {
   "cell_type": "code",
   "source": [
    "from pyspedas.projects.mms.cotrans.mms_cotrans_lmn import mms_cotrans_lmn\n",
    "\n",
    "mms_cotrans_lmn('mms2_fgm_b_gsm_brst_l2_bvec', 'mms2_fgm_b_lmn_brst_l2_bvec')"
   ],
   "metadata": {
    "colab": {
     "base_uri": "https://localhost:8080/",
     "height": 1000
    },
    "id": "1Wmcl8NFD9PE",
    "outputId": "662fb4f5-7cd8-45ee-dbcb-6039dfcfeabb",
    "ExecuteTime": {
     "end_time": "2024-08-28T00:05:56.739224Z",
     "start_time": "2024-08-28T00:05:45.836305Z"
    }
   },
   "outputs": [
    {
     "name": "stderr",
     "output_type": "stream",
     "text": [
      "27-Aug-24 17:05:46: Downloading mms2_mec_srvy_l2_epht89q_20151016_v2.0.0.cdf to pydata/mms2/mec/srvy/l2/epht89q/2015/10\n",
      "27-Aug-24 17:05:48: tinterpol (linear) was applied to: mms2_mec_r_gsm_interp\n",
      "27-Aug-24 17:05:48: Downloading remote index: https://spdf.gsfc.nasa.gov/pub/data/omni/omni_cdaweb/hro2_1min/2015/\n",
      "27-Aug-24 17:05:49: Downloading https://spdf.gsfc.nasa.gov/pub/data/omni/omni_cdaweb/hro2_1min/2015/omni_hro2_1min_20151001_v01.cdf to omni_data/hro2_1min/2015/omni_hro2_1min_20151001_v01.cdf\n",
      "27-Aug-24 17:05:54: Download complete: omni_data/hro2_1min/2015/omni_hro2_1min_20151001_v01.cdf\n",
      "27-Aug-24 17:05:55: Transforming GSM -> LMN; this may take several minutes, depending on the size of the input.\n"
     ]
    },
    {
     "data": {
      "text/plain": [
       "'mms2_fgm_b_lmn_brst_l2_bvec'"
      ]
     },
     "execution_count": 3,
     "metadata": {},
     "output_type": "execute_result"
    }
   ],
   "execution_count": 3
  },
  {
   "cell_type": "markdown",
   "source": [
    "Plot the B-field in LMN and GSM coordinates"
   ],
   "metadata": {
    "id": "0ALEXGY-E8QN"
   }
  },
  {
   "metadata": {},
   "cell_type": "code",
   "outputs": [],
   "execution_count": null,
   "source": [
    "from pyspedas import tplot\n",
    "\n",
    "tplot(['mms2_fgm_b_lmn_brst_l2_bvec',\n",
    "       'mms2_fgm_b_gsm_brst_l2_bvec'], xsize=10)"
   ]
  },
  {
   "metadata": {},
   "cell_type": "code",
   "outputs": [],
   "execution_count": null,
   "source": ""
  }
 ]
}
