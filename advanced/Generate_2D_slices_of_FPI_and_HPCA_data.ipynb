{
 "nbformat": 4,
 "nbformat_minor": 0,
 "metadata": {
  "colab": {
   "name": "MMS 2D slices.ipynb",
   "provenance": [],
   "collapsed_sections": []
  },
  "kernelspec": {
   "name": "python3",
   "display_name": "Python 3"
  },
  "language_info": {
   "name": "python"
  }
 },
 "cells": [
  {
   "cell_type": "markdown",
   "source": [
    "This notebook shows how to create 2D slices of 3D particle data from FPI and HPCA using PySPEDAS\n",
    "\n",
    "Note: these routines are still being beta tested; please report potential issues to egrimes@igpp.ucla.edu"
   ],
   "metadata": {
    "id": "poJAyrnHuSi_"
   }
  },
  {
   "cell_type": "markdown",
   "source": [
    "This command sets up the PySPEDAS environment when running in Google Colab.  You can skip it or comment it out if you're running this notebook in an environment that already has PySPEDAS installed.\n"
   ],
   "metadata": {
    "collapsed": false
   }
  },
  {
   "cell_type": "code",
   "execution_count": null,
   "metadata": {
    "id": "p1dtOuzytrgv"
   },
   "outputs": [],
   "source": [
    "!pip install pyspedas"
   ]
  },
  {
   "cell_type": "code",
   "source": "from pyspedas.projects.mms.particles.mms_part_slice2d import mms_part_slice2d",
   "metadata": {
    "id": "7kakDE8VuMR2"
   },
   "execution_count": 2,
   "outputs": []
  },
  {
   "cell_type": "markdown",
   "source": [
    "# Bi-directional field-aligned beam of 0-300 eV ions observed by FPI and HPCA"
   ],
   "metadata": {
    "id": "nFmIOsPO-AIx"
   }
  },
  {
   "cell_type": "code",
   "source": [
    "time = '2017-09-10/09:32:20'"
   ],
   "metadata": {
    "id": "kp_bcSrYtwR5"
   },
   "execution_count": 3,
   "outputs": []
  },
  {
   "cell_type": "markdown",
   "source": [
    "## FPI ions with geometric interpolation\n",
    "\n",
    "The data are rotated such that the x axis is parallel to B field and the bulk velocity defines the x-y plane, and plotted using geometric interpolation (each point on the plot is given the value of the bin it intersects)"
   ],
   "metadata": {
    "id": "EoGVv_lZ-ROs"
   }
  },
  {
   "cell_type": "code",
   "source": [
    "mms_part_slice2d(time=time, instrument='fpi', species='i', rotation='bv', erange=[0, 300])"
   ],
   "metadata": {
    "colab": {
     "base_uri": "https://localhost:8080/",
     "height": 1000
    },
    "id": "GSe_TIihuRbk",
    "outputId": "50cdc385-b98b-47d4-9894-3a20a09a96a0"
   },
   "execution_count": 4,
   "outputs": [
    {
     "name": "stdout",
     "output_type": "stream",
     "text": [
      "SDC username (blank for public access): \n"
     ]
    },
    {
     "output_type": "stream",
     "name": "stderr",
     "text": [
      "30-Jun-22 17:24:14: Downloading mms1_fpi_fast_l2_dis-dist_20170910080000_v3.3.0.cdf to pydata/mms1/fpi/fast/l2/dis-dist/2017/09\n"
     ]
    },
    {
     "output_type": "stream",
     "name": "stdout",
     "text": [
      "Time clip was applied to: mms1_dis_errorflags_fast\n",
      "Time clip was applied to: mms1_dis_startdelphi_count_fast\n",
      "Time clip was applied to: mms1_dis_startdelphi_angle_fast\n",
      "Time clip was applied to: mms1_dis_dist_fast\n",
      "Time clip was applied to: mms1_dis_disterr_fast\n",
      "Time clip was applied to: mms1_dis_energy_fast\n",
      "Time clip was applied to: mms1_dis_energy_delta_fast\n",
      "That name is currently not in pytplot\n",
      "That name is currently not in pytplot\n",
      "That name is currently not in pytplot\n",
      "Loaded variables:\n",
      "Epoch\n",
      "Epoch_plus_var\n",
      "Epoch_minus_var\n",
      "mms1_dis_errorflags_fast\n",
      "mms1_dis_compressionloss_fast\n",
      "mms1_dis_startdelphi_count_fast\n",
      "mms1_dis_startdelphi_angle_fast\n",
      "mms1_dis_dist_fast\n",
      "mms1_dis_disterr_fast\n",
      "mms1_dis_theta_fast\n",
      "mms1_dis_theta_delta_fast\n",
      "mms1_dis_energy_fast\n",
      "mms1_dis_energy_delta_fast\n",
      "mms1_dis_phi_fast\n",
      "mms1_dis_phi_delta_fast\n",
      "mms1_dis_errorflags_fast_dist\n",
      "mms1_dis_compressionloss_fast_dist\n",
      "mms1_dis_errorflags_fast_dist_flagbars_dist\n"
     ]
    },
    {
     "output_type": "stream",
     "name": "stderr",
     "text": [
      "30-Jun-22 17:24:22: Downloading mms1_fgm_srvy_l2_20170910_v5.104.0.cdf to pydata/mms1/fgm/srvy/l2/2017/09\n"
     ]
    },
    {
     "output_type": "stream",
     "name": "stdout",
     "text": [
      "Time clip was applied to: mms1_fgm_b_gse_srvy_l2\n",
      "Time clip was applied to: mms1_fgm_b_gsm_srvy_l2\n",
      "Time clip was applied to: mms1_fgm_b_dmpa_srvy_l2\n",
      "Time clip was applied to: mms1_fgm_b_bcs_srvy_l2\n",
      "Time clip was applied to: mms1_fgm_flag_srvy_l2\n",
      "Time clip was applied to: mms1_fgm_r_gse_srvy_l2\n",
      "Time clip was applied to: mms1_fgm_r_gsm_srvy_l2\n",
      "Time clip was applied to: mms1_fgm_hirange_srvy_l2\n",
      "Time clip was applied to: mms1_fgm_bdeltahalf_srvy_l2\n",
      "Time clip was applied to: mms1_fgm_stemp_srvy_l2\n",
      "Time clip was applied to: mms1_fgm_etemp_srvy_l2\n",
      "Time clip was applied to: mms1_fgm_mode_srvy_l2\n",
      "Time clip was applied to: mms1_fgm_rdeltahalf_srvy_l2\n",
      "Loaded variables:\n",
      "Epoch\n",
      "mms1_fgm_b_gse_srvy_l2\n",
      "mms1_fgm_b_gsm_srvy_l2\n",
      "mms1_fgm_b_dmpa_srvy_l2\n",
      "mms1_fgm_b_bcs_srvy_l2\n",
      "mms1_fgm_flag_srvy_l2\n",
      "Epoch_state\n",
      "mms1_fgm_hirange_srvy_l2\n",
      "mms1_fgm_bdeltahalf_srvy_l2\n",
      "mms1_fgm_stemp_srvy_l2\n",
      "mms1_fgm_etemp_srvy_l2\n",
      "mms1_fgm_mode_srvy_l2\n",
      "mms1_fgm_rdeltahalf_srvy_l2\n",
      "mms1_fgm_b_dmpa_srvy_l2_bvec\n",
      "mms1_fgm_b_dmpa_srvy_l2_btot\n",
      "mms1_fgm_b_gse_srvy_l2_bvec\n",
      "mms1_fgm_b_gse_srvy_l2_btot\n",
      "mms1_fgm_b_gsm_srvy_l2_bvec\n",
      "mms1_fgm_b_gsm_srvy_l2_btot\n",
      "mms1_fgm_b_bcs_srvy_l2_bvec\n",
      "mms1_fgm_b_bcs_srvy_l2_btot\n"
     ]
    },
    {
     "output_type": "stream",
     "name": "stderr",
     "text": [
      "30-Jun-22 17:24:41: Downloading mms1_fpi_fast_l2_dis-moms_20170910080000_v3.3.0.cdf to pydata/mms1/fpi/fast/l2/dis-moms/2017/09\n"
     ]
    },
    {
     "output_type": "stream",
     "name": "stdout",
     "text": [
      "Time clip was applied to: mms1_dis_errorflags_fast\n",
      "Time clip was applied to: mms1_dis_startdelphi_count_fast\n",
      "Time clip was applied to: mms1_dis_startdelphi_angle_fast\n",
      "Time clip was applied to: mms1_dis_energyspectr_px_fast\n",
      "Time clip was applied to: mms1_dis_energyspectr_mx_fast\n",
      "Time clip was applied to: mms1_dis_energyspectr_py_fast\n",
      "Time clip was applied to: mms1_dis_energyspectr_my_fast\n",
      "Time clip was applied to: mms1_dis_energyspectr_pz_fast\n",
      "Time clip was applied to: mms1_dis_energyspectr_mz_fast\n",
      "Time clip was applied to: mms1_dis_energyspectr_omni_fast\n",
      "Time clip was applied to: mms1_dis_spectr_bg_fast\n",
      "Time clip was applied to: mms1_dis_numberdensity_bg_fast\n",
      "Time clip was applied to: mms1_dis_numberdensity_fast\n",
      "Time clip was applied to: mms1_dis_numberdensity_err_fast\n",
      "Time clip was applied to: mms1_dis_densityextrapolation_low_fast\n",
      "Time clip was applied to: mms1_dis_densityextrapolation_high_fast\n",
      "Time clip was applied to: mms1_dis_bulkv_dbcs_fast\n",
      "Time clip was applied to: mms1_dis_bulkv_spintone_dbcs_fast\n",
      "Time clip was applied to: mms1_dis_bulkv_gse_fast\n",
      "Time clip was applied to: mms1_dis_bulkv_spintone_gse_fast\n",
      "Time clip was applied to: mms1_dis_bulkv_err_fast\n",
      "Time clip was applied to: mms1_dis_prestensor_dbcs_fast\n",
      "Time clip was applied to: mms1_dis_prestensor_gse_fast\n",
      "Time clip was applied to: mms1_dis_prestensor_err_fast\n",
      "Time clip was applied to: mms1_dis_pres_bg_fast\n",
      "Time clip was applied to: mms1_dis_temptensor_dbcs_fast\n",
      "Time clip was applied to: mms1_dis_temptensor_gse_fast\n",
      "Time clip was applied to: mms1_dis_temptensor_err_fast\n",
      "Time clip was applied to: mms1_dis_heatq_dbcs_fast\n",
      "Time clip was applied to: mms1_dis_heatq_gse_fast\n",
      "Time clip was applied to: mms1_dis_heatq_err_fast\n",
      "Time clip was applied to: mms1_dis_energy_fast\n",
      "Time clip was applied to: mms1_dis_energy_delta_fast\n",
      "Time clip was applied to: mms1_dis_temppara_fast\n",
      "Time clip was applied to: mms1_dis_tempperp_fast\n",
      "That name is currently not in pytplot\n",
      "That name is currently not in pytplot\n",
      "That name is currently not in pytplot\n",
      "Loaded variables:\n",
      "Epoch\n",
      "Epoch_plus_var\n",
      "Epoch_minus_var\n",
      "mms1_dis_errorflags_fast\n",
      "mms1_dis_compressionloss_fast\n",
      "mms1_dis_startdelphi_count_fast\n",
      "mms1_dis_startdelphi_angle_fast\n",
      "mms1_dis_energyspectr_px_fast\n",
      "mms1_dis_energyspectr_mx_fast\n",
      "mms1_dis_energyspectr_py_fast\n",
      "mms1_dis_energyspectr_my_fast\n",
      "mms1_dis_energyspectr_pz_fast\n",
      "mms1_dis_energyspectr_mz_fast\n",
      "mms1_dis_energyspectr_omni_fast\n",
      "mms1_dis_spectr_bg_fast\n",
      "mms1_dis_numberdensity_bg_fast\n",
      "mms1_dis_numberdensity_fast\n",
      "mms1_dis_numberdensity_err_fast\n",
      "mms1_dis_densityextrapolation_low_fast\n",
      "mms1_dis_densityextrapolation_high_fast\n",
      "mms1_dis_bulkv_dbcs_fast\n",
      "mms1_dis_bulkv_spintone_dbcs_fast\n",
      "mms1_dis_bulkv_gse_fast\n",
      "mms1_dis_bulkv_spintone_gse_fast\n",
      "mms1_dis_bulkv_err_fast\n",
      "mms1_dis_prestensor_dbcs_fast\n",
      "mms1_dis_prestensor_gse_fast\n",
      "mms1_dis_prestensor_err_fast\n",
      "mms1_dis_pres_bg_fast\n",
      "mms1_dis_temptensor_dbcs_fast\n",
      "mms1_dis_temptensor_gse_fast\n",
      "mms1_dis_temptensor_err_fast\n",
      "mms1_dis_heatq_dbcs_fast\n",
      "mms1_dis_heatq_gse_fast\n",
      "mms1_dis_heatq_err_fast\n",
      "mms1_dis_energy_fast\n",
      "mms1_dis_energy_delta_fast\n",
      "mms1_dis_temppara_fast\n",
      "mms1_dis_tempperp_fast\n",
      "mms1_dis_errorflags_fast_moms\n",
      "mms1_dis_compressionloss_fast_moms\n",
      "mms1_dis_errorflags_fast_moms_flagbars_full\n",
      "mms1_dis_errorflags_fast_moms_flagbars_main\n",
      "mms1_dis_errorflags_fast_moms_flagbars_others\n",
      "mms1_dis_errorflags_fast_moms_flagbars_mini\n",
      "Averaging mms1_fgm_b_gse_srvy_l2_bvec\n",
      "Averaging mms1_dis_bulkv_gse_fast\n",
      "Aligning slice plane to: bv\n",
      "Finished slice at 2017-09-10 09:32:19.446664\n"
     ]
    },
    {
     "output_type": "display_data",
     "data": {
      "text/plain": [
       "<Figure size 720x720 with 2 Axes>"
      ],
      "image/png": "[encoded data removed]"
     },
     "metadata": {
      "needs_background": "light"
     }
    }
   ]
  },
  {
   "cell_type": "markdown",
   "source": [
    "Return the slice data structure (instead of plotting) by setting the `return_slice` keyword to `True`"
   ],
   "metadata": {
    "id": "kgwe7HWyqEPL"
   }
  },
  {
   "cell_type": "code",
   "source": [
    "the_slice = mms_part_slice2d(return_slice=True, time=time, instrument='fpi', species='i', rotation='bv', erange=[0, 300])"
   ],
   "metadata": {
    "colab": {
     "base_uri": "https://localhost:8080/"
    },
    "id": "oGwQ2sRBqJr0",
    "outputId": "51473df8-906f-4aea-a7fb-db9f34edbfa2"
   },
   "execution_count": 10,
   "outputs": [
    {
     "output_type": "stream",
     "name": "stderr",
     "text": [
      "30-Jun-22 17:29:15: Loading pydata/mms1/fpi/fast/l2/dis-dist/2017/09/mms1_fpi_fast_l2_dis-dist_20170910080000_v3.3.0.cdf\n"
     ]
    },
    {
     "output_type": "stream",
     "name": "stdout",
     "text": [
      "Time clip was applied to: mms1_dis_errorflags_fast\n",
      "Time clip was applied to: mms1_dis_startdelphi_count_fast\n",
      "Time clip was applied to: mms1_dis_startdelphi_angle_fast\n",
      "Time clip was applied to: mms1_dis_dist_fast\n",
      "Time clip was applied to: mms1_dis_disterr_fast\n",
      "Time clip was applied to: mms1_dis_energy_fast\n",
      "Time clip was applied to: mms1_dis_energy_delta_fast\n",
      "That name is currently not in pytplot\n",
      "That name is currently not in pytplot\n",
      "That name is currently not in pytplot\n",
      "Loaded variables:\n",
      "Epoch\n",
      "Epoch_plus_var\n",
      "Epoch_minus_var\n",
      "mms1_dis_errorflags_fast\n",
      "mms1_dis_compressionloss_fast\n",
      "mms1_dis_startdelphi_count_fast\n",
      "mms1_dis_startdelphi_angle_fast\n",
      "mms1_dis_dist_fast\n",
      "mms1_dis_disterr_fast\n",
      "mms1_dis_theta_fast\n",
      "mms1_dis_theta_delta_fast\n",
      "mms1_dis_energy_fast\n",
      "mms1_dis_energy_delta_fast\n",
      "mms1_dis_phi_fast\n",
      "mms1_dis_phi_delta_fast\n",
      "mms1_dis_errorflags_fast_dist\n",
      "mms1_dis_compressionloss_fast_dist\n",
      "mms1_dis_errorflags_fast_dist_flagbars_dist\n"
     ]
    },
    {
     "output_type": "stream",
     "name": "stderr",
     "text": [
      "30-Jun-22 17:29:18: Loading pydata/mms1/fgm/srvy/l2/2017/09/mms1_fgm_srvy_l2_20170910_v5.104.0.cdf\n"
     ]
    },
    {
     "output_type": "stream",
     "name": "stdout",
     "text": [
      "Time clip was applied to: mms1_fgm_b_gse_srvy_l2\n",
      "Time clip was applied to: mms1_fgm_b_gsm_srvy_l2\n",
      "Time clip was applied to: mms1_fgm_b_dmpa_srvy_l2\n",
      "Time clip was applied to: mms1_fgm_b_bcs_srvy_l2\n",
      "Time clip was applied to: mms1_fgm_flag_srvy_l2\n",
      "Time clip was applied to: mms1_fgm_r_gse_srvy_l2\n",
      "Time clip was applied to: mms1_fgm_r_gsm_srvy_l2\n",
      "Time clip was applied to: mms1_fgm_hirange_srvy_l2\n",
      "Time clip was applied to: mms1_fgm_bdeltahalf_srvy_l2\n",
      "Time clip was applied to: mms1_fgm_stemp_srvy_l2\n",
      "Time clip was applied to: mms1_fgm_etemp_srvy_l2\n",
      "Time clip was applied to: mms1_fgm_mode_srvy_l2\n",
      "Time clip was applied to: mms1_fgm_rdeltahalf_srvy_l2\n",
      "Loaded variables:\n",
      "Epoch\n",
      "mms1_fgm_b_gse_srvy_l2\n",
      "mms1_fgm_b_gsm_srvy_l2\n",
      "mms1_fgm_b_dmpa_srvy_l2\n",
      "mms1_fgm_b_bcs_srvy_l2\n",
      "mms1_fgm_flag_srvy_l2\n",
      "Epoch_state\n",
      "mms1_fgm_hirange_srvy_l2\n",
      "mms1_fgm_bdeltahalf_srvy_l2\n",
      "mms1_fgm_stemp_srvy_l2\n",
      "mms1_fgm_etemp_srvy_l2\n",
      "mms1_fgm_mode_srvy_l2\n",
      "mms1_fgm_rdeltahalf_srvy_l2\n",
      "mms1_fgm_b_dmpa_srvy_l2_bvec\n",
      "mms1_fgm_b_dmpa_srvy_l2_btot\n",
      "mms1_fgm_b_gse_srvy_l2_bvec\n",
      "mms1_fgm_b_gse_srvy_l2_btot\n",
      "mms1_fgm_b_gsm_srvy_l2_bvec\n",
      "mms1_fgm_b_gsm_srvy_l2_btot\n",
      "mms1_fgm_b_bcs_srvy_l2_bvec\n",
      "mms1_fgm_b_bcs_srvy_l2_btot\n"
     ]
    },
    {
     "output_type": "stream",
     "name": "stderr",
     "text": [
      "30-Jun-22 17:29:33: Loading pydata/mms1/fpi/fast/l2/dis-moms/2017/09/mms1_fpi_fast_l2_dis-moms_20170910080000_v3.3.0.cdf\n"
     ]
    },
    {
     "output_type": "stream",
     "name": "stdout",
     "text": [
      "Time clip was applied to: mms1_dis_errorflags_fast\n",
      "Time clip was applied to: mms1_dis_startdelphi_count_fast\n",
      "Time clip was applied to: mms1_dis_startdelphi_angle_fast\n",
      "Time clip was applied to: mms1_dis_energyspectr_px_fast\n",
      "Time clip was applied to: mms1_dis_energyspectr_mx_fast\n",
      "Time clip was applied to: mms1_dis_energyspectr_py_fast\n",
      "Time clip was applied to: mms1_dis_energyspectr_my_fast\n",
      "Time clip was applied to: mms1_dis_energyspectr_pz_fast\n",
      "Time clip was applied to: mms1_dis_energyspectr_mz_fast\n",
      "Time clip was applied to: mms1_dis_energyspectr_omni_fast\n",
      "Time clip was applied to: mms1_dis_spectr_bg_fast\n",
      "Time clip was applied to: mms1_dis_numberdensity_bg_fast\n",
      "Time clip was applied to: mms1_dis_numberdensity_fast\n",
      "Time clip was applied to: mms1_dis_numberdensity_err_fast\n",
      "Time clip was applied to: mms1_dis_densityextrapolation_low_fast\n",
      "Time clip was applied to: mms1_dis_densityextrapolation_high_fast\n",
      "Time clip was applied to: mms1_dis_bulkv_dbcs_fast\n",
      "Time clip was applied to: mms1_dis_bulkv_spintone_dbcs_fast\n",
      "Time clip was applied to: mms1_dis_bulkv_gse_fast\n",
      "Time clip was applied to: mms1_dis_bulkv_spintone_gse_fast\n",
      "Time clip was applied to: mms1_dis_bulkv_err_fast\n",
      "Time clip was applied to: mms1_dis_prestensor_dbcs_fast\n",
      "Time clip was applied to: mms1_dis_prestensor_gse_fast\n",
      "Time clip was applied to: mms1_dis_prestensor_err_fast\n",
      "Time clip was applied to: mms1_dis_pres_bg_fast\n",
      "Time clip was applied to: mms1_dis_temptensor_dbcs_fast\n",
      "Time clip was applied to: mms1_dis_temptensor_gse_fast\n",
      "Time clip was applied to: mms1_dis_temptensor_err_fast\n",
      "Time clip was applied to: mms1_dis_heatq_dbcs_fast\n",
      "Time clip was applied to: mms1_dis_heatq_gse_fast\n",
      "Time clip was applied to: mms1_dis_heatq_err_fast\n",
      "Time clip was applied to: mms1_dis_energy_fast\n",
      "Time clip was applied to: mms1_dis_energy_delta_fast\n",
      "Time clip was applied to: mms1_dis_temppara_fast\n",
      "Time clip was applied to: mms1_dis_tempperp_fast\n",
      "That name is currently not in pytplot\n",
      "That name is currently not in pytplot\n",
      "That name is currently not in pytplot\n",
      "Loaded variables:\n",
      "Epoch\n",
      "Epoch_plus_var\n",
      "Epoch_minus_var\n",
      "mms1_dis_errorflags_fast\n",
      "mms1_dis_compressionloss_fast\n",
      "mms1_dis_startdelphi_count_fast\n",
      "mms1_dis_startdelphi_angle_fast\n",
      "mms1_dis_energyspectr_px_fast\n",
      "mms1_dis_energyspectr_mx_fast\n",
      "mms1_dis_energyspectr_py_fast\n",
      "mms1_dis_energyspectr_my_fast\n",
      "mms1_dis_energyspectr_pz_fast\n",
      "mms1_dis_energyspectr_mz_fast\n",
      "mms1_dis_energyspectr_omni_fast\n",
      "mms1_dis_spectr_bg_fast\n",
      "mms1_dis_numberdensity_bg_fast\n",
      "mms1_dis_numberdensity_fast\n",
      "mms1_dis_numberdensity_err_fast\n",
      "mms1_dis_densityextrapolation_low_fast\n",
      "mms1_dis_densityextrapolation_high_fast\n",
      "mms1_dis_bulkv_dbcs_fast\n",
      "mms1_dis_bulkv_spintone_dbcs_fast\n",
      "mms1_dis_bulkv_gse_fast\n",
      "mms1_dis_bulkv_spintone_gse_fast\n",
      "mms1_dis_bulkv_err_fast\n",
      "mms1_dis_prestensor_dbcs_fast\n",
      "mms1_dis_prestensor_gse_fast\n",
      "mms1_dis_prestensor_err_fast\n",
      "mms1_dis_pres_bg_fast\n",
      "mms1_dis_temptensor_dbcs_fast\n",
      "mms1_dis_temptensor_gse_fast\n",
      "mms1_dis_temptensor_err_fast\n",
      "mms1_dis_heatq_dbcs_fast\n",
      "mms1_dis_heatq_gse_fast\n",
      "mms1_dis_heatq_err_fast\n",
      "mms1_dis_energy_fast\n",
      "mms1_dis_energy_delta_fast\n",
      "mms1_dis_temppara_fast\n",
      "mms1_dis_tempperp_fast\n",
      "mms1_dis_errorflags_fast_moms\n",
      "mms1_dis_compressionloss_fast_moms\n",
      "mms1_dis_errorflags_fast_moms_flagbars_full\n",
      "mms1_dis_errorflags_fast_moms_flagbars_main\n",
      "mms1_dis_errorflags_fast_moms_flagbars_others\n",
      "mms1_dis_errorflags_fast_moms_flagbars_mini\n",
      "Averaging mms1_fgm_b_gse_srvy_l2_bvec\n",
      "Averaging mms1_dis_bulkv_gse_fast\n",
      "Aligning slice plane to: bv\n",
      "Finished slice at 2017-09-10 09:32:19.446664\n"
     ]
    }
   ]
  },
  {
   "cell_type": "markdown",
   "source": [
    "The slice is stored as a dictionary:"
   ],
   "metadata": {
    "id": "bTaAayTkqcLN"
   }
  },
  {
   "cell_type": "code",
   "source": [
    "the_slice.keys()"
   ],
   "metadata": {
    "colab": {
     "base_uri": "https://localhost:8080/"
    },
    "id": "pmvtBaekqiIU",
    "outputId": "1081b0ae-bba9-4cfa-d6af-57764bffcff6"
   },
   "execution_count": 11,
   "outputs": [
    {
     "output_type": "execute_result",
     "data": {
      "text/plain": [
       "dict_keys(['project_name', 'spacecraft', 'data_name', 'units_name', 'species', 'xyunits', 'rotation', 'energy', 'trange', 'zrange', 'rrange', 'rlog', 'n_samples', 'data', 'xgrid', 'ygrid'])"
      ]
     },
     "metadata": {},
     "execution_count": 11
    }
   ]
  },
  {
   "cell_type": "markdown",
   "source": [
    "You can also create 1D cuts through the 2D slice:"
   ],
   "metadata": {
    "id": "aBWrAag8qmYX"
   }
  },
  {
   "cell_type": "code",
   "source": [
    "from pyspedas.particles.spd_slice2d.slice1d_plot import plot\n",
    "\n",
    "plot(the_slice, 'x', [-100, 100])  # summed from Vv=[-100, 100]"
   ],
   "metadata": {
    "colab": {
     "base_uri": "https://localhost:8080/",
     "height": 284
    },
    "id": "ZgQfhlK9qpvF",
    "outputId": "ae66a6ed-d59a-4579-b20d-6bb210dd45a8"
   },
   "execution_count": 16,
   "outputs": [
    {
     "output_type": "display_data",
     "data": {
      "text/plain": [
       "<Figure size 432x288 with 1 Axes>"
      ],
      "image/png": "[encoded data removed]"
     },
     "metadata": {
      "needs_background": "light"
     }
    }
   ]
  },
  {
   "cell_type": "markdown",
   "source": [
    "## FPI ions with 2D interpolation\n",
    "\n",
    "The data are rotated such that the x axis is parallel to B field and the bulk velocity defines the x-y plane, and plotted using 2D interpolation (data points within the specified theta or z-axis range are projected onto the slice plane and linearly interpolated onto a regular 2D grid). The default theta range is [-20, +20]"
   ],
   "metadata": {
    "id": "mQ1McrYV-tdR"
   }
  },
  {
   "cell_type": "code",
   "source": [
    "mms_part_slice2d(interpolation='2d', time=time, instrument='fpi', species='i', rotation='bv', erange=[0, 300])"
   ],
   "metadata": {
    "colab": {
     "base_uri": "https://localhost:8080/",
     "height": 1000
    },
    "id": "l8yijdFw-sXw",
    "outputId": "de8e159b-18fb-41ed-8a35-f90a895e1ce6"
   },
   "execution_count": 5,
   "outputs": [
    {
     "output_type": "stream",
     "name": "stderr",
     "text": [
      "30-Jun-22 17:24:53: Loading pydata/mms1/fpi/fast/l2/dis-dist/2017/09/mms1_fpi_fast_l2_dis-dist_20170910080000_v3.3.0.cdf\n"
     ]
    },
    {
     "output_type": "stream",
     "name": "stdout",
     "text": [
      "Time clip was applied to: mms1_dis_errorflags_fast\n",
      "Time clip was applied to: mms1_dis_startdelphi_count_fast\n",
      "Time clip was applied to: mms1_dis_startdelphi_angle_fast\n",
      "Time clip was applied to: mms1_dis_dist_fast\n",
      "Time clip was applied to: mms1_dis_disterr_fast\n",
      "Time clip was applied to: mms1_dis_energy_fast\n",
      "Time clip was applied to: mms1_dis_energy_delta_fast\n",
      "That name is currently not in pytplot\n",
      "That name is currently not in pytplot\n",
      "That name is currently not in pytplot\n",
      "Loaded variables:\n",
      "Epoch\n",
      "Epoch_plus_var\n",
      "Epoch_minus_var\n",
      "mms1_dis_errorflags_fast\n",
      "mms1_dis_compressionloss_fast\n",
      "mms1_dis_startdelphi_count_fast\n",
      "mms1_dis_startdelphi_angle_fast\n",
      "mms1_dis_dist_fast\n",
      "mms1_dis_disterr_fast\n",
      "mms1_dis_theta_fast\n",
      "mms1_dis_theta_delta_fast\n",
      "mms1_dis_energy_fast\n",
      "mms1_dis_energy_delta_fast\n",
      "mms1_dis_phi_fast\n",
      "mms1_dis_phi_delta_fast\n",
      "mms1_dis_errorflags_fast_dist\n",
      "mms1_dis_compressionloss_fast_dist\n",
      "mms1_dis_errorflags_fast_dist_flagbars_dist\n"
     ]
    },
    {
     "output_type": "stream",
     "name": "stderr",
     "text": [
      "30-Jun-22 17:24:56: Loading pydata/mms1/fgm/srvy/l2/2017/09/mms1_fgm_srvy_l2_20170910_v5.104.0.cdf\n"
     ]
    },
    {
     "output_type": "stream",
     "name": "stdout",
     "text": [
      "Time clip was applied to: mms1_fgm_b_gse_srvy_l2\n",
      "Time clip was applied to: mms1_fgm_b_gsm_srvy_l2\n",
      "Time clip was applied to: mms1_fgm_b_dmpa_srvy_l2\n",
      "Time clip was applied to: mms1_fgm_b_bcs_srvy_l2\n",
      "Time clip was applied to: mms1_fgm_flag_srvy_l2\n",
      "Time clip was applied to: mms1_fgm_r_gse_srvy_l2\n",
      "Time clip was applied to: mms1_fgm_r_gsm_srvy_l2\n",
      "Time clip was applied to: mms1_fgm_hirange_srvy_l2\n",
      "Time clip was applied to: mms1_fgm_bdeltahalf_srvy_l2\n",
      "Time clip was applied to: mms1_fgm_stemp_srvy_l2\n",
      "Time clip was applied to: mms1_fgm_etemp_srvy_l2\n",
      "Time clip was applied to: mms1_fgm_mode_srvy_l2\n",
      "Time clip was applied to: mms1_fgm_rdeltahalf_srvy_l2\n",
      "Loaded variables:\n",
      "Epoch\n",
      "mms1_fgm_b_gse_srvy_l2\n",
      "mms1_fgm_b_gsm_srvy_l2\n",
      "mms1_fgm_b_dmpa_srvy_l2\n",
      "mms1_fgm_b_bcs_srvy_l2\n",
      "mms1_fgm_flag_srvy_l2\n",
      "Epoch_state\n",
      "mms1_fgm_hirange_srvy_l2\n",
      "mms1_fgm_bdeltahalf_srvy_l2\n",
      "mms1_fgm_stemp_srvy_l2\n",
      "mms1_fgm_etemp_srvy_l2\n",
      "mms1_fgm_mode_srvy_l2\n",
      "mms1_fgm_rdeltahalf_srvy_l2\n",
      "mms1_fgm_b_dmpa_srvy_l2_bvec\n",
      "mms1_fgm_b_dmpa_srvy_l2_btot\n",
      "mms1_fgm_b_gse_srvy_l2_bvec\n",
      "mms1_fgm_b_gse_srvy_l2_btot\n",
      "mms1_fgm_b_gsm_srvy_l2_bvec\n",
      "mms1_fgm_b_gsm_srvy_l2_btot\n",
      "mms1_fgm_b_bcs_srvy_l2_bvec\n",
      "mms1_fgm_b_bcs_srvy_l2_btot\n"
     ]
    },
    {
     "output_type": "stream",
     "name": "stderr",
     "text": [
      "30-Jun-22 17:25:13: Loading pydata/mms1/fpi/fast/l2/dis-moms/2017/09/mms1_fpi_fast_l2_dis-moms_20170910080000_v3.3.0.cdf\n"
     ]
    },
    {
     "output_type": "stream",
     "name": "stdout",
     "text": [
      "Time clip was applied to: mms1_dis_errorflags_fast\n",
      "Time clip was applied to: mms1_dis_startdelphi_count_fast\n",
      "Time clip was applied to: mms1_dis_startdelphi_angle_fast\n",
      "Time clip was applied to: mms1_dis_energyspectr_px_fast\n",
      "Time clip was applied to: mms1_dis_energyspectr_mx_fast\n",
      "Time clip was applied to: mms1_dis_energyspectr_py_fast\n",
      "Time clip was applied to: mms1_dis_energyspectr_my_fast\n",
      "Time clip was applied to: mms1_dis_energyspectr_pz_fast\n",
      "Time clip was applied to: mms1_dis_energyspectr_mz_fast\n",
      "Time clip was applied to: mms1_dis_energyspectr_omni_fast\n",
      "Time clip was applied to: mms1_dis_spectr_bg_fast\n",
      "Time clip was applied to: mms1_dis_numberdensity_bg_fast\n",
      "Time clip was applied to: mms1_dis_numberdensity_fast\n",
      "Time clip was applied to: mms1_dis_numberdensity_err_fast\n",
      "Time clip was applied to: mms1_dis_densityextrapolation_low_fast\n",
      "Time clip was applied to: mms1_dis_densityextrapolation_high_fast\n",
      "Time clip was applied to: mms1_dis_bulkv_dbcs_fast\n",
      "Time clip was applied to: mms1_dis_bulkv_spintone_dbcs_fast\n",
      "Time clip was applied to: mms1_dis_bulkv_gse_fast\n",
      "Time clip was applied to: mms1_dis_bulkv_spintone_gse_fast\n",
      "Time clip was applied to: mms1_dis_bulkv_err_fast\n",
      "Time clip was applied to: mms1_dis_prestensor_dbcs_fast\n",
      "Time clip was applied to: mms1_dis_prestensor_gse_fast\n",
      "Time clip was applied to: mms1_dis_prestensor_err_fast\n",
      "Time clip was applied to: mms1_dis_pres_bg_fast\n",
      "Time clip was applied to: mms1_dis_temptensor_dbcs_fast\n",
      "Time clip was applied to: mms1_dis_temptensor_gse_fast\n",
      "Time clip was applied to: mms1_dis_temptensor_err_fast\n",
      "Time clip was applied to: mms1_dis_heatq_dbcs_fast\n",
      "Time clip was applied to: mms1_dis_heatq_gse_fast\n",
      "Time clip was applied to: mms1_dis_heatq_err_fast\n",
      "Time clip was applied to: mms1_dis_energy_fast\n",
      "Time clip was applied to: mms1_dis_energy_delta_fast\n",
      "Time clip was applied to: mms1_dis_temppara_fast\n",
      "Time clip was applied to: mms1_dis_tempperp_fast\n",
      "That name is currently not in pytplot\n",
      "That name is currently not in pytplot\n",
      "That name is currently not in pytplot\n",
      "Loaded variables:\n",
      "Epoch\n",
      "Epoch_plus_var\n",
      "Epoch_minus_var\n",
      "mms1_dis_errorflags_fast\n",
      "mms1_dis_compressionloss_fast\n",
      "mms1_dis_startdelphi_count_fast\n",
      "mms1_dis_startdelphi_angle_fast\n",
      "mms1_dis_energyspectr_px_fast\n",
      "mms1_dis_energyspectr_mx_fast\n",
      "mms1_dis_energyspectr_py_fast\n",
      "mms1_dis_energyspectr_my_fast\n",
      "mms1_dis_energyspectr_pz_fast\n",
      "mms1_dis_energyspectr_mz_fast\n",
      "mms1_dis_energyspectr_omni_fast\n",
      "mms1_dis_spectr_bg_fast\n",
      "mms1_dis_numberdensity_bg_fast\n",
      "mms1_dis_numberdensity_fast\n",
      "mms1_dis_numberdensity_err_fast\n",
      "mms1_dis_densityextrapolation_low_fast\n",
      "mms1_dis_densityextrapolation_high_fast\n",
      "mms1_dis_bulkv_dbcs_fast\n",
      "mms1_dis_bulkv_spintone_dbcs_fast\n",
      "mms1_dis_bulkv_gse_fast\n",
      "mms1_dis_bulkv_spintone_gse_fast\n",
      "mms1_dis_bulkv_err_fast\n",
      "mms1_dis_prestensor_dbcs_fast\n",
      "mms1_dis_prestensor_gse_fast\n",
      "mms1_dis_prestensor_err_fast\n",
      "mms1_dis_pres_bg_fast\n",
      "mms1_dis_temptensor_dbcs_fast\n",
      "mms1_dis_temptensor_gse_fast\n",
      "mms1_dis_temptensor_err_fast\n",
      "mms1_dis_heatq_dbcs_fast\n",
      "mms1_dis_heatq_gse_fast\n",
      "mms1_dis_heatq_err_fast\n",
      "mms1_dis_energy_fast\n",
      "mms1_dis_energy_delta_fast\n",
      "mms1_dis_temppara_fast\n",
      "mms1_dis_tempperp_fast\n",
      "mms1_dis_errorflags_fast_moms\n",
      "mms1_dis_compressionloss_fast_moms\n",
      "mms1_dis_errorflags_fast_moms_flagbars_full\n",
      "mms1_dis_errorflags_fast_moms_flagbars_main\n",
      "mms1_dis_errorflags_fast_moms_flagbars_others\n",
      "mms1_dis_errorflags_fast_moms_flagbars_mini\n",
      "Averaging mms1_fgm_b_gse_srvy_l2_bvec\n",
      "Averaging mms1_dis_bulkv_gse_fast\n",
      "Aligning slice plane to: bv\n",
      "Finished slice at 2017-09-10 09:32:19.446664\n"
     ]
    },
    {
     "output_type": "display_data",
     "data": {
      "text/plain": [
       "<Figure size 720x720 with 2 Axes>"
      ],
      "image/png": "[encoded data removed]"
     },
     "metadata": {
      "needs_background": "light"
     }
    }
   ]
  },
  {
   "cell_type": "markdown",
   "source": [
    "## HPCA H+ with geometric interpolation\n",
    "\n",
    "Same as above, but with HPCA H+ data"
   ],
   "metadata": {
    "id": "erJiIaBi_LVA"
   }
  },
  {
   "cell_type": "code",
   "source": [
    "mms_part_slice2d(time=time, instrument='hpca', species='hplus', rotation='bv', erange=[0, 300])"
   ],
   "metadata": {
    "colab": {
     "base_uri": "https://localhost:8080/",
     "height": 1000
    },
    "id": "YsAk42vLuZKk",
    "outputId": "7592268b-99b2-4449-9498-0e104dc5bcf7"
   },
   "execution_count": 6,
   "outputs": [
    {
     "output_type": "stream",
     "name": "stderr",
     "text": [
      "30-Jun-22 17:25:15: Downloading mms1_hpca_srvy_l2_ion_20170910060000_v4.1.0.cdf to pydata/mms1/hpca/srvy/l2/ion/2017/09\n"
     ]
    },
    {
     "output_type": "stream",
     "name": "stdout",
     "text": [
      "Time clip was applied to: mms1_hpca_azimuth_decimation_factor\n",
      "Time clip was applied to: mms1_hpca_polar_decimation_factor\n",
      "Time clip was applied to: mms1_hpca_energy_decimation_factor\n",
      "Time clip was applied to: mms1_hpca_sweep_table_number\n",
      "Time clip was applied to: mms1_hpca_start_azimuth\n",
      "Time clip was applied to: mms1_hpca_science_mode\n",
      "Time clip was applied to: mms1_hpca_hplus_flux\n",
      "Time clip was applied to: mms1_hpca_hplus_phase_space_density\n",
      "Time clip was applied to: mms1_hpca_heplus_flux\n",
      "Time clip was applied to: mms1_hpca_heplus_phase_space_density\n",
      "Time clip was applied to: mms1_hpca_heplusplus_flux\n",
      "Time clip was applied to: mms1_hpca_heplusplus_phase_space_density\n",
      "Time clip was applied to: mms1_hpca_oplus_flux\n",
      "Time clip was applied to: mms1_hpca_oplus_phase_space_density\n",
      "Time clip was applied to: mms1_hpca_B_GSE_sweep_avg\n",
      "Time clip was applied to: mms1_hpca_B_GSM_sweep_avg\n",
      "Time clip was applied to: mms1_hpca_azimuth_angles_degrees\n",
      "Time clip was applied to: mms1_hpca_azimuth_angles_per_ev_degrees\n",
      "Time clip was applied to: mms1_hpca_MCP_VMON_MIN_converted\n",
      "Time clip was applied to: mms1_hpca_TOF_VMON_MIN_converted\n",
      "Time clip was applied to: mms1_hpca_decimation_factor_index\n",
      "Loaded variables:\n",
      "Epoch\n",
      "Epoch_MINUS\n",
      "Epoch_PLUS\n",
      "mms1_hpca_polar_anode_number\n",
      "mms1_hpca_azimuth_decimation_factor\n",
      "mms1_hpca_polar_decimation_factor\n",
      "mms1_hpca_energy_decimation_factor\n",
      "mms1_hpca_sweep_table_number\n",
      "mms1_hpca_start_azimuth\n",
      "mms1_hpca_science_mode\n",
      "mms1_hpca_ion_energy\n",
      "mms1_hpca_hplus_flux\n",
      "mms1_hpca_hplus_phase_space_density\n",
      "mms1_hpca_heplus_flux\n",
      "mms1_hpca_heplus_phase_space_density\n",
      "mms1_hpca_heplusplus_flux\n",
      "mms1_hpca_heplusplus_phase_space_density\n",
      "mms1_hpca_oplus_flux\n",
      "mms1_hpca_oplus_phase_space_density\n",
      "mms1_hpca_B_GSE_sweep_avg\n",
      "mms1_hpca_B_GSM_sweep_avg\n",
      "Epoch_Angles\n",
      "Epoch_MINUS_Angles\n",
      "Epoch_PLUS_Angles\n",
      "mms1_hpca_azimuth_angles_degrees\n",
      "mms1_hpca_azimuth_angles_per_ev_degrees\n",
      "mms1_hpca_centroid_elevation_angle\n",
      "mms1_hpca_azimuth_index\n",
      "mms1_hpca_energy_step_number\n",
      "mms1_hpca_MCP_VMON_MIN_converted\n",
      "mms1_hpca_TOF_VMON_MIN_converted\n",
      "mms1_hpca_decimation_factor_index\n",
      "mms1_hpca_acquisition_time\n"
     ]
    },
    {
     "output_type": "stream",
     "name": "stderr",
     "text": [
      "30-Jun-22 17:25:38: Loading pydata/mms1/fgm/srvy/l2/2017/09/mms1_fgm_srvy_l2_20170910_v5.104.0.cdf\n"
     ]
    },
    {
     "output_type": "stream",
     "name": "stdout",
     "text": [
      "Time clip was applied to: mms1_fgm_b_gse_srvy_l2\n",
      "Time clip was applied to: mms1_fgm_b_gsm_srvy_l2\n",
      "Time clip was applied to: mms1_fgm_b_dmpa_srvy_l2\n",
      "Time clip was applied to: mms1_fgm_b_bcs_srvy_l2\n",
      "Time clip was applied to: mms1_fgm_flag_srvy_l2\n",
      "Time clip was applied to: mms1_fgm_r_gse_srvy_l2\n",
      "Time clip was applied to: mms1_fgm_r_gsm_srvy_l2\n",
      "Time clip was applied to: mms1_fgm_hirange_srvy_l2\n",
      "Time clip was applied to: mms1_fgm_bdeltahalf_srvy_l2\n",
      "Time clip was applied to: mms1_fgm_stemp_srvy_l2\n",
      "Time clip was applied to: mms1_fgm_etemp_srvy_l2\n",
      "Time clip was applied to: mms1_fgm_mode_srvy_l2\n",
      "Time clip was applied to: mms1_fgm_rdeltahalf_srvy_l2\n",
      "Loaded variables:\n",
      "Epoch\n",
      "mms1_fgm_b_gse_srvy_l2\n",
      "mms1_fgm_b_gsm_srvy_l2\n",
      "mms1_fgm_b_dmpa_srvy_l2\n",
      "mms1_fgm_b_bcs_srvy_l2\n",
      "mms1_fgm_flag_srvy_l2\n",
      "Epoch_state\n",
      "mms1_fgm_hirange_srvy_l2\n",
      "mms1_fgm_bdeltahalf_srvy_l2\n",
      "mms1_fgm_stemp_srvy_l2\n",
      "mms1_fgm_etemp_srvy_l2\n",
      "mms1_fgm_mode_srvy_l2\n",
      "mms1_fgm_rdeltahalf_srvy_l2\n",
      "mms1_fgm_b_dmpa_srvy_l2_bvec\n",
      "mms1_fgm_b_dmpa_srvy_l2_btot\n",
      "mms1_fgm_b_gse_srvy_l2_bvec\n",
      "mms1_fgm_b_gse_srvy_l2_btot\n",
      "mms1_fgm_b_gsm_srvy_l2_bvec\n",
      "mms1_fgm_b_gsm_srvy_l2_btot\n",
      "mms1_fgm_b_bcs_srvy_l2_bvec\n",
      "mms1_fgm_b_bcs_srvy_l2_btot\n"
     ]
    },
    {
     "output_type": "stream",
     "name": "stderr",
     "text": [
      "30-Jun-22 17:25:53: Downloading mms1_hpca_srvy_l2_moments_20170910060000_v4.1.0.cdf to pydata/mms1/hpca/srvy/l2/moments/2017/09\n"
     ]
    },
    {
     "output_type": "stream",
     "name": "stdout",
     "text": [
      "Time clip was applied to: mms1_hpca_spin_number\n",
      "Time clip was applied to: mms1_hpca_sweep_table_number\n",
      "Time clip was applied to: mms1_hpca_science_mode\n",
      "Time clip was applied to: mms1_hpca_hplus_number_density\n",
      "Time clip was applied to: mms1_hpca_hplus_ion_bulk_velocity\n",
      "Time clip was applied to: mms1_hpca_hplus_scalar_temperature\n",
      "Time clip was applied to: mms1_hpca_hplus_ion_pressure\n",
      "Time clip was applied to: mms1_hpca_hplus_temperature_tensor\n",
      "Time clip was applied to: mms1_hpca_heplus_number_density\n",
      "Time clip was applied to: mms1_hpca_heplus_ion_bulk_velocity\n",
      "Time clip was applied to: mms1_hpca_heplus_scalar_temperature\n",
      "Time clip was applied to: mms1_hpca_heplus_ion_pressure\n",
      "Time clip was applied to: mms1_hpca_heplus_temperature_tensor\n",
      "Time clip was applied to: mms1_hpca_heplusplus_number_density\n",
      "Time clip was applied to: mms1_hpca_heplusplus_ion_bulk_velocity\n",
      "Time clip was applied to: mms1_hpca_heplusplus_scalar_temperature\n",
      "Time clip was applied to: mms1_hpca_heplusplus_ion_pressure\n",
      "Time clip was applied to: mms1_hpca_heplusplus_temperature_tensor\n",
      "Time clip was applied to: mms1_hpca_oplus_number_density\n",
      "Time clip was applied to: mms1_hpca_oplus_ion_bulk_velocity\n",
      "Time clip was applied to: mms1_hpca_oplus_scalar_temperature\n",
      "Time clip was applied to: mms1_hpca_oplus_ion_pressure\n",
      "Time clip was applied to: mms1_hpca_oplus_temperature_tensor\n",
      "Time clip was applied to: mms1_hpca_B_GSE_spin_avg\n",
      "Time clip was applied to: mms1_hpca_B_GSM_spin_avg\n",
      "Time clip was applied to: mms1_hpca_hplus_ion_bulk_velocity_GSM\n",
      "Time clip was applied to: mms1_hpca_hplus_tperp\n",
      "Time clip was applied to: mms1_hpca_hplus_tparallel\n",
      "Time clip was applied to: mms1_hpca_hplus_vperp\n",
      "Time clip was applied to: mms1_hpca_hplus_vparallel\n",
      "Time clip was applied to: mms1_hpca_hplus_vperp_GSM\n",
      "Time clip was applied to: mms1_hpca_hplus_vparallel_GSM\n",
      "Time clip was applied to: mms1_hpca_heplus_ion_bulk_velocity_GSM\n",
      "Time clip was applied to: mms1_hpca_heplus_tperp\n",
      "Time clip was applied to: mms1_hpca_heplus_tparallel\n",
      "Time clip was applied to: mms1_hpca_heplus_vperp\n",
      "Time clip was applied to: mms1_hpca_heplus_vparallel\n",
      "Time clip was applied to: mms1_hpca_heplus_vperp_GSM\n",
      "Time clip was applied to: mms1_hpca_heplus_vparallel_GSM\n",
      "Time clip was applied to: mms1_hpca_heplusplus_ion_bulk_velocity_GSM\n",
      "Time clip was applied to: mms1_hpca_heplusplus_tperp\n",
      "Time clip was applied to: mms1_hpca_heplusplus_tparallel\n",
      "Time clip was applied to: mms1_hpca_heplusplus_vperp\n",
      "Time clip was applied to: mms1_hpca_heplusplus_vparallel\n",
      "Time clip was applied to: mms1_hpca_heplusplus_vperp_GSM\n",
      "Time clip was applied to: mms1_hpca_heplusplus_vparallel_GSM\n",
      "Time clip was applied to: mms1_hpca_oplus_ion_bulk_velocity_GSM\n",
      "Time clip was applied to: mms1_hpca_oplus_tperp\n",
      "Time clip was applied to: mms1_hpca_oplus_tparallel\n",
      "Time clip was applied to: mms1_hpca_oplus_vperp\n",
      "Time clip was applied to: mms1_hpca_oplus_vparallel\n",
      "Time clip was applied to: mms1_hpca_oplus_vperp_GSM\n",
      "Time clip was applied to: mms1_hpca_oplus_vparallel_GSM\n",
      "Time clip was applied to: mms1_hpca_MCP_VMON_MIN_converted\n",
      "Time clip was applied to: mms1_hpca_TOF_VMON_MIN_converted\n",
      "Loaded variables:\n",
      "Epoch\n",
      "Epoch_MINUS\n",
      "Epoch_PLUS\n",
      "mms1_hpca_spin_number\n",
      "mms1_hpca_ion_energy\n",
      "mms1_hpca_sweep_table_number\n",
      "mms1_hpca_science_mode\n",
      "mms1_hpca_hplus_number_density\n",
      "mms1_hpca_hplus_ion_bulk_velocity\n",
      "mms1_hpca_hplus_scalar_temperature\n",
      "mms1_hpca_hplus_ion_pressure\n",
      "mms1_hpca_hplus_temperature_tensor\n",
      "mms1_hpca_heplus_number_density\n",
      "mms1_hpca_heplus_ion_bulk_velocity\n",
      "mms1_hpca_heplus_scalar_temperature\n",
      "mms1_hpca_heplus_ion_pressure\n",
      "mms1_hpca_heplus_temperature_tensor\n",
      "mms1_hpca_heplusplus_number_density\n",
      "mms1_hpca_heplusplus_ion_bulk_velocity\n",
      "mms1_hpca_heplusplus_scalar_temperature\n",
      "mms1_hpca_heplusplus_ion_pressure\n",
      "mms1_hpca_heplusplus_temperature_tensor\n",
      "mms1_hpca_oplus_number_density\n",
      "mms1_hpca_oplus_ion_bulk_velocity\n",
      "mms1_hpca_oplus_scalar_temperature\n",
      "mms1_hpca_oplus_ion_pressure\n",
      "mms1_hpca_oplus_temperature_tensor\n",
      "mms1_hpca_B_GSE_spin_avg\n",
      "mms1_hpca_B_GSM_spin_avg\n",
      "mms1_hpca_hplus_ion_bulk_velocity_GSM\n",
      "mms1_hpca_hplus_tperp\n",
      "mms1_hpca_hplus_tparallel\n",
      "mms1_hpca_hplus_vperp\n",
      "mms1_hpca_hplus_vparallel\n",
      "mms1_hpca_hplus_vperp_GSM\n",
      "mms1_hpca_hplus_vparallel_GSM\n",
      "mms1_hpca_heplus_ion_bulk_velocity_GSM\n",
      "mms1_hpca_heplus_tperp\n",
      "mms1_hpca_heplus_tparallel\n",
      "mms1_hpca_heplus_vperp\n",
      "mms1_hpca_heplus_vparallel\n",
      "mms1_hpca_heplus_vperp_GSM\n",
      "mms1_hpca_heplus_vparallel_GSM\n",
      "mms1_hpca_heplusplus_ion_bulk_velocity_GSM\n",
      "mms1_hpca_heplusplus_tperp\n",
      "mms1_hpca_heplusplus_tparallel\n",
      "mms1_hpca_heplusplus_vperp\n",
      "mms1_hpca_heplusplus_vparallel\n",
      "mms1_hpca_heplusplus_vperp_GSM\n",
      "mms1_hpca_heplusplus_vparallel_GSM\n",
      "mms1_hpca_oplus_ion_bulk_velocity_GSM\n",
      "mms1_hpca_oplus_tperp\n",
      "mms1_hpca_oplus_tparallel\n",
      "mms1_hpca_oplus_vperp\n",
      "mms1_hpca_oplus_vparallel\n",
      "mms1_hpca_oplus_vperp_GSM\n",
      "mms1_hpca_oplus_vparallel_GSM\n",
      "mms1_hpca_MCP_VMON_MIN_converted\n",
      "mms1_hpca_TOF_VMON_MIN_converted\n",
      "Averaging mms1_fgm_b_gse_srvy_l2_bvec\n",
      "Averaging mms1_hpca_hplus_ion_bulk_velocity\n",
      "Aligning slice plane to: bv\n",
      "Finished slice at 2017-09-10 09:32:17.059004\n"
     ]
    },
    {
     "output_type": "display_data",
     "data": {
      "text/plain": [
       "<Figure size 720x720 with 2 Axes>"
      ],
      "image/png": "[encoded data removed]"
     },
     "metadata": {
      "needs_background": "light"
     }
    }
   ]
  },
  {
   "cell_type": "markdown",
   "source": [
    "## HPCA H+ with 2d interpolation\n",
    "\n",
    "and with 2D interpolation. Note that with 2D interpolation, smoothing is enabled by default and set to 7 points; you can override this with the smooth keyword"
   ],
   "metadata": {
    "id": "e_U_9yNU_c2S"
   }
  },
  {
   "cell_type": "code",
   "source": [
    "mms_part_slice2d(interpolation='2d', time=time, instrument='hpca', species='hplus', rotation='bv', erange=[0, 300])"
   ],
   "metadata": {
    "id": "0BpIKxJGur-F",
    "colab": {
     "base_uri": "https://localhost:8080/",
     "height": 1000
    },
    "outputId": "1ac6feaf-b7f4-4ad3-a1a4-68159026aeab"
   },
   "execution_count": 7,
   "outputs": [
    {
     "output_type": "stream",
     "name": "stderr",
     "text": [
      "30-Jun-22 17:25:58: Loading pydata/mms1/hpca/srvy/l2/ion/2017/09/mms1_hpca_srvy_l2_ion_20170910060000_v4.1.0.cdf\n"
     ]
    },
    {
     "output_type": "stream",
     "name": "stdout",
     "text": [
      "Time clip was applied to: mms1_hpca_azimuth_decimation_factor\n",
      "Time clip was applied to: mms1_hpca_polar_decimation_factor\n",
      "Time clip was applied to: mms1_hpca_energy_decimation_factor\n",
      "Time clip was applied to: mms1_hpca_sweep_table_number\n",
      "Time clip was applied to: mms1_hpca_start_azimuth\n",
      "Time clip was applied to: mms1_hpca_science_mode\n",
      "Time clip was applied to: mms1_hpca_hplus_flux\n",
      "Time clip was applied to: mms1_hpca_hplus_phase_space_density\n",
      "Time clip was applied to: mms1_hpca_heplus_flux\n",
      "Time clip was applied to: mms1_hpca_heplus_phase_space_density\n",
      "Time clip was applied to: mms1_hpca_heplusplus_flux\n",
      "Time clip was applied to: mms1_hpca_heplusplus_phase_space_density\n",
      "Time clip was applied to: mms1_hpca_oplus_flux\n",
      "Time clip was applied to: mms1_hpca_oplus_phase_space_density\n",
      "Time clip was applied to: mms1_hpca_B_GSE_sweep_avg\n",
      "Time clip was applied to: mms1_hpca_B_GSM_sweep_avg\n",
      "Time clip was applied to: mms1_hpca_azimuth_angles_degrees\n",
      "Time clip was applied to: mms1_hpca_azimuth_angles_per_ev_degrees\n",
      "Time clip was applied to: mms1_hpca_MCP_VMON_MIN_converted\n",
      "Time clip was applied to: mms1_hpca_TOF_VMON_MIN_converted\n",
      "Time clip was applied to: mms1_hpca_decimation_factor_index\n",
      "Loaded variables:\n",
      "Epoch\n",
      "Epoch_MINUS\n",
      "Epoch_PLUS\n",
      "mms1_hpca_polar_anode_number\n",
      "mms1_hpca_azimuth_decimation_factor\n",
      "mms1_hpca_polar_decimation_factor\n",
      "mms1_hpca_energy_decimation_factor\n",
      "mms1_hpca_sweep_table_number\n",
      "mms1_hpca_start_azimuth\n",
      "mms1_hpca_science_mode\n",
      "mms1_hpca_ion_energy\n",
      "mms1_hpca_hplus_flux\n",
      "mms1_hpca_hplus_phase_space_density\n",
      "mms1_hpca_heplus_flux\n",
      "mms1_hpca_heplus_phase_space_density\n",
      "mms1_hpca_heplusplus_flux\n",
      "mms1_hpca_heplusplus_phase_space_density\n",
      "mms1_hpca_oplus_flux\n",
      "mms1_hpca_oplus_phase_space_density\n",
      "mms1_hpca_B_GSE_sweep_avg\n",
      "mms1_hpca_B_GSM_sweep_avg\n",
      "Epoch_Angles\n",
      "Epoch_MINUS_Angles\n",
      "Epoch_PLUS_Angles\n",
      "mms1_hpca_azimuth_angles_degrees\n",
      "mms1_hpca_azimuth_angles_per_ev_degrees\n",
      "mms1_hpca_centroid_elevation_angle\n",
      "mms1_hpca_azimuth_index\n",
      "mms1_hpca_energy_step_number\n",
      "mms1_hpca_MCP_VMON_MIN_converted\n",
      "mms1_hpca_TOF_VMON_MIN_converted\n",
      "mms1_hpca_decimation_factor_index\n",
      "mms1_hpca_acquisition_time\n"
     ]
    },
    {
     "output_type": "stream",
     "name": "stderr",
     "text": [
      "30-Jun-22 17:26:16: Loading pydata/mms1/fgm/srvy/l2/2017/09/mms1_fgm_srvy_l2_20170910_v5.104.0.cdf\n"
     ]
    },
    {
     "output_type": "stream",
     "name": "stdout",
     "text": [
      "Time clip was applied to: mms1_fgm_b_gse_srvy_l2\n",
      "Time clip was applied to: mms1_fgm_b_gsm_srvy_l2\n",
      "Time clip was applied to: mms1_fgm_b_dmpa_srvy_l2\n",
      "Time clip was applied to: mms1_fgm_b_bcs_srvy_l2\n",
      "Time clip was applied to: mms1_fgm_flag_srvy_l2\n",
      "Time clip was applied to: mms1_fgm_r_gse_srvy_l2\n",
      "Time clip was applied to: mms1_fgm_r_gsm_srvy_l2\n",
      "Time clip was applied to: mms1_fgm_hirange_srvy_l2\n",
      "Time clip was applied to: mms1_fgm_bdeltahalf_srvy_l2\n",
      "Time clip was applied to: mms1_fgm_stemp_srvy_l2\n",
      "Time clip was applied to: mms1_fgm_etemp_srvy_l2\n",
      "Time clip was applied to: mms1_fgm_mode_srvy_l2\n",
      "Time clip was applied to: mms1_fgm_rdeltahalf_srvy_l2\n",
      "Loaded variables:\n",
      "Epoch\n",
      "mms1_fgm_b_gse_srvy_l2\n",
      "mms1_fgm_b_gsm_srvy_l2\n",
      "mms1_fgm_b_dmpa_srvy_l2\n",
      "mms1_fgm_b_bcs_srvy_l2\n",
      "mms1_fgm_flag_srvy_l2\n",
      "Epoch_state\n",
      "mms1_fgm_hirange_srvy_l2\n",
      "mms1_fgm_bdeltahalf_srvy_l2\n",
      "mms1_fgm_stemp_srvy_l2\n",
      "mms1_fgm_etemp_srvy_l2\n",
      "mms1_fgm_mode_srvy_l2\n",
      "mms1_fgm_rdeltahalf_srvy_l2\n",
      "mms1_fgm_b_dmpa_srvy_l2_bvec\n",
      "mms1_fgm_b_dmpa_srvy_l2_btot\n",
      "mms1_fgm_b_gse_srvy_l2_bvec\n",
      "mms1_fgm_b_gse_srvy_l2_btot\n",
      "mms1_fgm_b_gsm_srvy_l2_bvec\n",
      "mms1_fgm_b_gsm_srvy_l2_btot\n",
      "mms1_fgm_b_bcs_srvy_l2_bvec\n",
      "mms1_fgm_b_bcs_srvy_l2_btot\n"
     ]
    },
    {
     "output_type": "stream",
     "name": "stderr",
     "text": [
      "30-Jun-22 17:26:31: Loading pydata/mms1/hpca/srvy/l2/moments/2017/09/mms1_hpca_srvy_l2_moments_20170910060000_v4.1.0.cdf\n"
     ]
    },
    {
     "output_type": "stream",
     "name": "stdout",
     "text": [
      "Time clip was applied to: mms1_hpca_spin_number\n",
      "Time clip was applied to: mms1_hpca_sweep_table_number\n",
      "Time clip was applied to: mms1_hpca_science_mode\n",
      "Time clip was applied to: mms1_hpca_hplus_number_density\n",
      "Time clip was applied to: mms1_hpca_hplus_ion_bulk_velocity\n",
      "Time clip was applied to: mms1_hpca_hplus_scalar_temperature\n",
      "Time clip was applied to: mms1_hpca_hplus_ion_pressure\n",
      "Time clip was applied to: mms1_hpca_hplus_temperature_tensor\n",
      "Time clip was applied to: mms1_hpca_heplus_number_density\n",
      "Time clip was applied to: mms1_hpca_heplus_ion_bulk_velocity\n",
      "Time clip was applied to: mms1_hpca_heplus_scalar_temperature\n",
      "Time clip was applied to: mms1_hpca_heplus_ion_pressure\n",
      "Time clip was applied to: mms1_hpca_heplus_temperature_tensor\n",
      "Time clip was applied to: mms1_hpca_heplusplus_number_density\n",
      "Time clip was applied to: mms1_hpca_heplusplus_ion_bulk_velocity\n",
      "Time clip was applied to: mms1_hpca_heplusplus_scalar_temperature\n",
      "Time clip was applied to: mms1_hpca_heplusplus_ion_pressure\n",
      "Time clip was applied to: mms1_hpca_heplusplus_temperature_tensor\n",
      "Time clip was applied to: mms1_hpca_oplus_number_density\n",
      "Time clip was applied to: mms1_hpca_oplus_ion_bulk_velocity\n",
      "Time clip was applied to: mms1_hpca_oplus_scalar_temperature\n",
      "Time clip was applied to: mms1_hpca_oplus_ion_pressure\n",
      "Time clip was applied to: mms1_hpca_oplus_temperature_tensor\n",
      "Time clip was applied to: mms1_hpca_B_GSE_spin_avg\n",
      "Time clip was applied to: mms1_hpca_B_GSM_spin_avg\n",
      "Time clip was applied to: mms1_hpca_hplus_ion_bulk_velocity_GSM\n",
      "Time clip was applied to: mms1_hpca_hplus_tperp\n",
      "Time clip was applied to: mms1_hpca_hplus_tparallel\n",
      "Time clip was applied to: mms1_hpca_hplus_vperp\n",
      "Time clip was applied to: mms1_hpca_hplus_vparallel\n",
      "Time clip was applied to: mms1_hpca_hplus_vperp_GSM\n",
      "Time clip was applied to: mms1_hpca_hplus_vparallel_GSM\n",
      "Time clip was applied to: mms1_hpca_heplus_ion_bulk_velocity_GSM\n",
      "Time clip was applied to: mms1_hpca_heplus_tperp\n",
      "Time clip was applied to: mms1_hpca_heplus_tparallel\n",
      "Time clip was applied to: mms1_hpca_heplus_vperp\n",
      "Time clip was applied to: mms1_hpca_heplus_vparallel\n",
      "Time clip was applied to: mms1_hpca_heplus_vperp_GSM\n",
      "Time clip was applied to: mms1_hpca_heplus_vparallel_GSM\n",
      "Time clip was applied to: mms1_hpca_heplusplus_ion_bulk_velocity_GSM\n",
      "Time clip was applied to: mms1_hpca_heplusplus_tperp\n",
      "Time clip was applied to: mms1_hpca_heplusplus_tparallel\n",
      "Time clip was applied to: mms1_hpca_heplusplus_vperp\n",
      "Time clip was applied to: mms1_hpca_heplusplus_vparallel\n",
      "Time clip was applied to: mms1_hpca_heplusplus_vperp_GSM\n",
      "Time clip was applied to: mms1_hpca_heplusplus_vparallel_GSM\n",
      "Time clip was applied to: mms1_hpca_oplus_ion_bulk_velocity_GSM\n",
      "Time clip was applied to: mms1_hpca_oplus_tperp\n",
      "Time clip was applied to: mms1_hpca_oplus_tparallel\n",
      "Time clip was applied to: mms1_hpca_oplus_vperp\n",
      "Time clip was applied to: mms1_hpca_oplus_vparallel\n",
      "Time clip was applied to: mms1_hpca_oplus_vperp_GSM\n",
      "Time clip was applied to: mms1_hpca_oplus_vparallel_GSM\n",
      "Time clip was applied to: mms1_hpca_MCP_VMON_MIN_converted\n",
      "Time clip was applied to: mms1_hpca_TOF_VMON_MIN_converted\n",
      "Loaded variables:\n",
      "Epoch\n",
      "Epoch_MINUS\n",
      "Epoch_PLUS\n",
      "mms1_hpca_spin_number\n",
      "mms1_hpca_ion_energy\n",
      "mms1_hpca_sweep_table_number\n",
      "mms1_hpca_science_mode\n",
      "mms1_hpca_hplus_number_density\n",
      "mms1_hpca_hplus_ion_bulk_velocity\n",
      "mms1_hpca_hplus_scalar_temperature\n",
      "mms1_hpca_hplus_ion_pressure\n",
      "mms1_hpca_hplus_temperature_tensor\n",
      "mms1_hpca_heplus_number_density\n",
      "mms1_hpca_heplus_ion_bulk_velocity\n",
      "mms1_hpca_heplus_scalar_temperature\n",
      "mms1_hpca_heplus_ion_pressure\n",
      "mms1_hpca_heplus_temperature_tensor\n",
      "mms1_hpca_heplusplus_number_density\n",
      "mms1_hpca_heplusplus_ion_bulk_velocity\n",
      "mms1_hpca_heplusplus_scalar_temperature\n",
      "mms1_hpca_heplusplus_ion_pressure\n",
      "mms1_hpca_heplusplus_temperature_tensor\n",
      "mms1_hpca_oplus_number_density\n",
      "mms1_hpca_oplus_ion_bulk_velocity\n",
      "mms1_hpca_oplus_scalar_temperature\n",
      "mms1_hpca_oplus_ion_pressure\n",
      "mms1_hpca_oplus_temperature_tensor\n",
      "mms1_hpca_B_GSE_spin_avg\n",
      "mms1_hpca_B_GSM_spin_avg\n",
      "mms1_hpca_hplus_ion_bulk_velocity_GSM\n",
      "mms1_hpca_hplus_tperp\n",
      "mms1_hpca_hplus_tparallel\n",
      "mms1_hpca_hplus_vperp\n",
      "mms1_hpca_hplus_vparallel\n",
      "mms1_hpca_hplus_vperp_GSM\n",
      "mms1_hpca_hplus_vparallel_GSM\n",
      "mms1_hpca_heplus_ion_bulk_velocity_GSM\n",
      "mms1_hpca_heplus_tperp\n",
      "mms1_hpca_heplus_tparallel\n",
      "mms1_hpca_heplus_vperp\n",
      "mms1_hpca_heplus_vparallel\n",
      "mms1_hpca_heplus_vperp_GSM\n",
      "mms1_hpca_heplus_vparallel_GSM\n",
      "mms1_hpca_heplusplus_ion_bulk_velocity_GSM\n",
      "mms1_hpca_heplusplus_tperp\n",
      "mms1_hpca_heplusplus_tparallel\n",
      "mms1_hpca_heplusplus_vperp\n",
      "mms1_hpca_heplusplus_vparallel\n",
      "mms1_hpca_heplusplus_vperp_GSM\n",
      "mms1_hpca_heplusplus_vparallel_GSM\n",
      "mms1_hpca_oplus_ion_bulk_velocity_GSM\n",
      "mms1_hpca_oplus_tperp\n",
      "mms1_hpca_oplus_tparallel\n",
      "mms1_hpca_oplus_vperp\n",
      "mms1_hpca_oplus_vparallel\n",
      "mms1_hpca_oplus_vperp_GSM\n",
      "mms1_hpca_oplus_vparallel_GSM\n",
      "mms1_hpca_MCP_VMON_MIN_converted\n",
      "mms1_hpca_TOF_VMON_MIN_converted\n",
      "Averaging mms1_fgm_b_gse_srvy_l2_bvec\n",
      "Averaging mms1_hpca_hplus_ion_bulk_velocity\n",
      "Aligning slice plane to: bv\n",
      "Finished slice at 2017-09-10 09:32:17.059004\n"
     ]
    },
    {
     "output_type": "display_data",
     "data": {
      "text/plain": [
       "<Figure size 720x720 with 2 Axes>"
      ],
      "image/png": "[encoded data removed]"
     },
     "metadata": {
      "needs_background": "light"
     }
    }
   ]
  },
  {
   "cell_type": "markdown",
   "source": [
    "Change the rotation such that the x axis is parallel to B field; the B x V(bulk) vector defines the x-y plane:"
   ],
   "metadata": {
    "id": "eMvaM5Njr9C_"
   }
  },
  {
   "cell_type": "code",
   "source": [
    "mms_part_slice2d(interpolation='2d', time=time, instrument='hpca', species='hplus', rotation='be', erange=[0, 300])"
   ],
   "metadata": {
    "id": "uNJJ6eNG_gVT",
    "colab": {
     "base_uri": "https://localhost:8080/",
     "height": 1000
    },
    "outputId": "5278472a-2f9b-4d82-aa25-ce2c0bd29bf0"
   },
   "execution_count": 18,
   "outputs": [
    {
     "output_type": "stream",
     "name": "stderr",
     "text": [
      "30-Jun-22 17:35:40: Loading pydata/mms1/hpca/srvy/l2/ion/2017/09/mms1_hpca_srvy_l2_ion_20170910060000_v4.1.0.cdf\n"
     ]
    },
    {
     "output_type": "stream",
     "name": "stdout",
     "text": [
      "Time clip was applied to: mms1_hpca_azimuth_decimation_factor\n",
      "Time clip was applied to: mms1_hpca_polar_decimation_factor\n",
      "Time clip was applied to: mms1_hpca_energy_decimation_factor\n",
      "Time clip was applied to: mms1_hpca_sweep_table_number\n",
      "Time clip was applied to: mms1_hpca_start_azimuth\n",
      "Time clip was applied to: mms1_hpca_science_mode\n",
      "Time clip was applied to: mms1_hpca_hplus_flux\n",
      "Time clip was applied to: mms1_hpca_hplus_phase_space_density\n",
      "Time clip was applied to: mms1_hpca_heplus_flux\n",
      "Time clip was applied to: mms1_hpca_heplus_phase_space_density\n",
      "Time clip was applied to: mms1_hpca_heplusplus_flux\n",
      "Time clip was applied to: mms1_hpca_heplusplus_phase_space_density\n",
      "Time clip was applied to: mms1_hpca_oplus_flux\n",
      "Time clip was applied to: mms1_hpca_oplus_phase_space_density\n",
      "Time clip was applied to: mms1_hpca_B_GSE_sweep_avg\n",
      "Time clip was applied to: mms1_hpca_B_GSM_sweep_avg\n",
      "Time clip was applied to: mms1_hpca_azimuth_angles_degrees\n",
      "Time clip was applied to: mms1_hpca_azimuth_angles_per_ev_degrees\n",
      "Time clip was applied to: mms1_hpca_MCP_VMON_MIN_converted\n",
      "Time clip was applied to: mms1_hpca_TOF_VMON_MIN_converted\n",
      "Time clip was applied to: mms1_hpca_decimation_factor_index\n",
      "Loaded variables:\n",
      "Epoch\n",
      "Epoch_MINUS\n",
      "Epoch_PLUS\n",
      "mms1_hpca_polar_anode_number\n",
      "mms1_hpca_azimuth_decimation_factor\n",
      "mms1_hpca_polar_decimation_factor\n",
      "mms1_hpca_energy_decimation_factor\n",
      "mms1_hpca_sweep_table_number\n",
      "mms1_hpca_start_azimuth\n",
      "mms1_hpca_science_mode\n",
      "mms1_hpca_ion_energy\n",
      "mms1_hpca_hplus_flux\n",
      "mms1_hpca_hplus_phase_space_density\n",
      "mms1_hpca_heplus_flux\n",
      "mms1_hpca_heplus_phase_space_density\n",
      "mms1_hpca_heplusplus_flux\n",
      "mms1_hpca_heplusplus_phase_space_density\n",
      "mms1_hpca_oplus_flux\n",
      "mms1_hpca_oplus_phase_space_density\n",
      "mms1_hpca_B_GSE_sweep_avg\n",
      "mms1_hpca_B_GSM_sweep_avg\n",
      "Epoch_Angles\n",
      "Epoch_MINUS_Angles\n",
      "Epoch_PLUS_Angles\n",
      "mms1_hpca_azimuth_angles_degrees\n",
      "mms1_hpca_azimuth_angles_per_ev_degrees\n",
      "mms1_hpca_centroid_elevation_angle\n",
      "mms1_hpca_azimuth_index\n",
      "mms1_hpca_energy_step_number\n",
      "mms1_hpca_MCP_VMON_MIN_converted\n",
      "mms1_hpca_TOF_VMON_MIN_converted\n",
      "mms1_hpca_decimation_factor_index\n",
      "mms1_hpca_acquisition_time\n"
     ]
    },
    {
     "output_type": "stream",
     "name": "stderr",
     "text": [
      "30-Jun-22 17:35:58: Loading pydata/mms1/fgm/srvy/l2/2017/09/mms1_fgm_srvy_l2_20170910_v5.104.0.cdf\n"
     ]
    },
    {
     "output_type": "stream",
     "name": "stdout",
     "text": [
      "Time clip was applied to: mms1_fgm_b_gse_srvy_l2\n",
      "Time clip was applied to: mms1_fgm_b_gsm_srvy_l2\n",
      "Time clip was applied to: mms1_fgm_b_dmpa_srvy_l2\n",
      "Time clip was applied to: mms1_fgm_b_bcs_srvy_l2\n",
      "Time clip was applied to: mms1_fgm_flag_srvy_l2\n",
      "Time clip was applied to: mms1_fgm_r_gse_srvy_l2\n",
      "Time clip was applied to: mms1_fgm_r_gsm_srvy_l2\n",
      "Time clip was applied to: mms1_fgm_hirange_srvy_l2\n",
      "Time clip was applied to: mms1_fgm_bdeltahalf_srvy_l2\n",
      "Time clip was applied to: mms1_fgm_stemp_srvy_l2\n",
      "Time clip was applied to: mms1_fgm_etemp_srvy_l2\n",
      "Time clip was applied to: mms1_fgm_mode_srvy_l2\n",
      "Time clip was applied to: mms1_fgm_rdeltahalf_srvy_l2\n",
      "Loaded variables:\n",
      "Epoch\n",
      "mms1_fgm_b_gse_srvy_l2\n",
      "mms1_fgm_b_gsm_srvy_l2\n",
      "mms1_fgm_b_dmpa_srvy_l2\n",
      "mms1_fgm_b_bcs_srvy_l2\n",
      "mms1_fgm_flag_srvy_l2\n",
      "Epoch_state\n",
      "mms1_fgm_hirange_srvy_l2\n",
      "mms1_fgm_bdeltahalf_srvy_l2\n",
      "mms1_fgm_stemp_srvy_l2\n",
      "mms1_fgm_etemp_srvy_l2\n",
      "mms1_fgm_mode_srvy_l2\n",
      "mms1_fgm_rdeltahalf_srvy_l2\n",
      "mms1_fgm_b_dmpa_srvy_l2_bvec\n",
      "mms1_fgm_b_dmpa_srvy_l2_btot\n",
      "mms1_fgm_b_gse_srvy_l2_bvec\n",
      "mms1_fgm_b_gse_srvy_l2_btot\n",
      "mms1_fgm_b_gsm_srvy_l2_bvec\n",
      "mms1_fgm_b_gsm_srvy_l2_btot\n",
      "mms1_fgm_b_bcs_srvy_l2_bvec\n",
      "mms1_fgm_b_bcs_srvy_l2_btot\n"
     ]
    },
    {
     "output_type": "stream",
     "name": "stderr",
     "text": [
      "30-Jun-22 17:36:14: Loading pydata/mms1/hpca/srvy/l2/moments/2017/09/mms1_hpca_srvy_l2_moments_20170910060000_v4.1.0.cdf\n"
     ]
    },
    {
     "output_type": "stream",
     "name": "stdout",
     "text": [
      "Time clip was applied to: mms1_hpca_spin_number\n",
      "Time clip was applied to: mms1_hpca_sweep_table_number\n",
      "Time clip was applied to: mms1_hpca_science_mode\n",
      "Time clip was applied to: mms1_hpca_hplus_number_density\n",
      "Time clip was applied to: mms1_hpca_hplus_ion_bulk_velocity\n",
      "Time clip was applied to: mms1_hpca_hplus_scalar_temperature\n",
      "Time clip was applied to: mms1_hpca_hplus_ion_pressure\n",
      "Time clip was applied to: mms1_hpca_hplus_temperature_tensor\n",
      "Time clip was applied to: mms1_hpca_heplus_number_density\n",
      "Time clip was applied to: mms1_hpca_heplus_ion_bulk_velocity\n",
      "Time clip was applied to: mms1_hpca_heplus_scalar_temperature\n",
      "Time clip was applied to: mms1_hpca_heplus_ion_pressure\n",
      "Time clip was applied to: mms1_hpca_heplus_temperature_tensor\n",
      "Time clip was applied to: mms1_hpca_heplusplus_number_density\n",
      "Time clip was applied to: mms1_hpca_heplusplus_ion_bulk_velocity\n",
      "Time clip was applied to: mms1_hpca_heplusplus_scalar_temperature\n",
      "Time clip was applied to: mms1_hpca_heplusplus_ion_pressure\n",
      "Time clip was applied to: mms1_hpca_heplusplus_temperature_tensor\n",
      "Time clip was applied to: mms1_hpca_oplus_number_density\n",
      "Time clip was applied to: mms1_hpca_oplus_ion_bulk_velocity\n",
      "Time clip was applied to: mms1_hpca_oplus_scalar_temperature\n",
      "Time clip was applied to: mms1_hpca_oplus_ion_pressure\n",
      "Time clip was applied to: mms1_hpca_oplus_temperature_tensor\n",
      "Time clip was applied to: mms1_hpca_B_GSE_spin_avg\n",
      "Time clip was applied to: mms1_hpca_B_GSM_spin_avg\n",
      "Time clip was applied to: mms1_hpca_hplus_ion_bulk_velocity_GSM\n",
      "Time clip was applied to: mms1_hpca_hplus_tperp\n",
      "Time clip was applied to: mms1_hpca_hplus_tparallel\n",
      "Time clip was applied to: mms1_hpca_hplus_vperp\n",
      "Time clip was applied to: mms1_hpca_hplus_vparallel\n",
      "Time clip was applied to: mms1_hpca_hplus_vperp_GSM\n",
      "Time clip was applied to: mms1_hpca_hplus_vparallel_GSM\n",
      "Time clip was applied to: mms1_hpca_heplus_ion_bulk_velocity_GSM\n",
      "Time clip was applied to: mms1_hpca_heplus_tperp\n",
      "Time clip was applied to: mms1_hpca_heplus_tparallel\n",
      "Time clip was applied to: mms1_hpca_heplus_vperp\n",
      "Time clip was applied to: mms1_hpca_heplus_vparallel\n",
      "Time clip was applied to: mms1_hpca_heplus_vperp_GSM\n",
      "Time clip was applied to: mms1_hpca_heplus_vparallel_GSM\n",
      "Time clip was applied to: mms1_hpca_heplusplus_ion_bulk_velocity_GSM\n",
      "Time clip was applied to: mms1_hpca_heplusplus_tperp\n",
      "Time clip was applied to: mms1_hpca_heplusplus_tparallel\n",
      "Time clip was applied to: mms1_hpca_heplusplus_vperp\n",
      "Time clip was applied to: mms1_hpca_heplusplus_vparallel\n",
      "Time clip was applied to: mms1_hpca_heplusplus_vperp_GSM\n",
      "Time clip was applied to: mms1_hpca_heplusplus_vparallel_GSM\n",
      "Time clip was applied to: mms1_hpca_oplus_ion_bulk_velocity_GSM\n",
      "Time clip was applied to: mms1_hpca_oplus_tperp\n",
      "Time clip was applied to: mms1_hpca_oplus_tparallel\n",
      "Time clip was applied to: mms1_hpca_oplus_vperp\n",
      "Time clip was applied to: mms1_hpca_oplus_vparallel\n",
      "Time clip was applied to: mms1_hpca_oplus_vperp_GSM\n",
      "Time clip was applied to: mms1_hpca_oplus_vparallel_GSM\n",
      "Time clip was applied to: mms1_hpca_MCP_VMON_MIN_converted\n",
      "Time clip was applied to: mms1_hpca_TOF_VMON_MIN_converted\n",
      "Loaded variables:\n",
      "Epoch\n",
      "Epoch_MINUS\n",
      "Epoch_PLUS\n",
      "mms1_hpca_spin_number\n",
      "mms1_hpca_ion_energy\n",
      "mms1_hpca_sweep_table_number\n",
      "mms1_hpca_science_mode\n",
      "mms1_hpca_hplus_number_density\n",
      "mms1_hpca_hplus_ion_bulk_velocity\n",
      "mms1_hpca_hplus_scalar_temperature\n",
      "mms1_hpca_hplus_ion_pressure\n",
      "mms1_hpca_hplus_temperature_tensor\n",
      "mms1_hpca_heplus_number_density\n",
      "mms1_hpca_heplus_ion_bulk_velocity\n",
      "mms1_hpca_heplus_scalar_temperature\n",
      "mms1_hpca_heplus_ion_pressure\n",
      "mms1_hpca_heplus_temperature_tensor\n",
      "mms1_hpca_heplusplus_number_density\n",
      "mms1_hpca_heplusplus_ion_bulk_velocity\n",
      "mms1_hpca_heplusplus_scalar_temperature\n",
      "mms1_hpca_heplusplus_ion_pressure\n",
      "mms1_hpca_heplusplus_temperature_tensor\n",
      "mms1_hpca_oplus_number_density\n",
      "mms1_hpca_oplus_ion_bulk_velocity\n",
      "mms1_hpca_oplus_scalar_temperature\n",
      "mms1_hpca_oplus_ion_pressure\n",
      "mms1_hpca_oplus_temperature_tensor\n",
      "mms1_hpca_B_GSE_spin_avg\n",
      "mms1_hpca_B_GSM_spin_avg\n",
      "mms1_hpca_hplus_ion_bulk_velocity_GSM\n",
      "mms1_hpca_hplus_tperp\n",
      "mms1_hpca_hplus_tparallel\n",
      "mms1_hpca_hplus_vperp\n",
      "mms1_hpca_hplus_vparallel\n",
      "mms1_hpca_hplus_vperp_GSM\n",
      "mms1_hpca_hplus_vparallel_GSM\n",
      "mms1_hpca_heplus_ion_bulk_velocity_GSM\n",
      "mms1_hpca_heplus_tperp\n",
      "mms1_hpca_heplus_tparallel\n",
      "mms1_hpca_heplus_vperp\n",
      "mms1_hpca_heplus_vparallel\n",
      "mms1_hpca_heplus_vperp_GSM\n",
      "mms1_hpca_heplus_vparallel_GSM\n",
      "mms1_hpca_heplusplus_ion_bulk_velocity_GSM\n",
      "mms1_hpca_heplusplus_tperp\n",
      "mms1_hpca_heplusplus_tparallel\n",
      "mms1_hpca_heplusplus_vperp\n",
      "mms1_hpca_heplusplus_vparallel\n",
      "mms1_hpca_heplusplus_vperp_GSM\n",
      "mms1_hpca_heplusplus_vparallel_GSM\n",
      "mms1_hpca_oplus_ion_bulk_velocity_GSM\n",
      "mms1_hpca_oplus_tperp\n",
      "mms1_hpca_oplus_tparallel\n",
      "mms1_hpca_oplus_vperp\n",
      "mms1_hpca_oplus_vparallel\n",
      "mms1_hpca_oplus_vperp_GSM\n",
      "mms1_hpca_oplus_vparallel_GSM\n",
      "mms1_hpca_MCP_VMON_MIN_converted\n",
      "mms1_hpca_TOF_VMON_MIN_converted\n",
      "Averaging mms1_fgm_b_gse_srvy_l2_bvec\n",
      "Averaging mms1_hpca_hplus_ion_bulk_velocity\n",
      "Aligning slice plane to: be\n",
      "Finished slice at 2017-09-10 09:32:17.059004\n"
     ]
    },
    {
     "output_type": "display_data",
     "data": {
      "text/plain": [
       "<Figure size 720x720 with 2 Axes>"
      ],
      "image/png": "[encoded data removed]"
     },
     "metadata": {
      "needs_background": "light"
     }
    }
   ]
  },
  {
   "cell_type": "markdown",
   "source": [
    "To see the other options, run help() on mms_part_slice2d:"
   ],
   "metadata": {
    "id": "Xk-bqUQhszYu"
   }
  },
  {
   "cell_type": "code",
   "source": [
    "help(mms_part_slice2d)"
   ],
   "metadata": {
    "colab": {
     "base_uri": "https://localhost:8080/"
    },
    "id": "jr-HuPijpuVW",
    "outputId": "6deccaa1-176a-45e0-a6c4-59ea989a2954"
   },
   "execution_count": 19,
   "outputs": [
    {
     "output_type": "stream",
     "name": "stdout",
     "text": [
      "Help on function mms_part_slice2d in module pyspedas.mms.particles.mms_part_slice2d:\n",
      "\n",
      "mms_part_slice2d(trange=None, time=None, samples=None, window=None, center_time=False, erange=None, thetarange=None, zdirrange=None, energy=False, log=False, probe='1', instrument='fpi', data_rate=None, level='l2', mag_data_rate=None, species=None, rotation='xy', custom_rotation=None, subtract_bulk=False, xrange=None, yrange=None, zrange=None, resolution=None, interpolation='geometric', smooth=None, save_png=None, save_svg=None, save_pdf=None, save_eps=None, return_slice=False, display=True)\n",
      "    This routine creates 2D slices of 3D distribution function data from the FPI and HPCA instruments.\n",
      "    This is essentially a wrapper around slice2d and slice2d_plot, that loads the data,\n",
      "    any required support data, calculates the slice with slice2d and plots it with slice2d_plot.\n",
      "    \n",
      "    Parameters\n",
      "    -----------\n",
      "        probe: int or str\n",
      "            MMS spacecraft probe # (1, 2, 3 or 4)\n",
      "    \n",
      "        instrument: str\n",
      "            MMS plasma instrument (fpi or hpca)\n",
      "    \n",
      "        species: str\n",
      "            Particle species; depends on the instrument:\n",
      "            FPI: 'e' for electrons, 'i' for ions\n",
      "            HPCA: 'hplus' for H+, 'oplus' for O+, 'heplus' for He+, 'heplusplus', for He++\n",
      "    \n",
      "        data_rate: str\n",
      "            FPI/HPCA data rate [fast (fpi), srvy (hpca), or brst (both fpi and hpca)]\n",
      "    \n",
      "        mag_data_rate: str\n",
      "            FGM data rate for transformations\n",
      "    \n",
      "        level: str\n",
      "            Data level (default: l2); lower levels require an SDC username and password\n",
      "    \n",
      "        trange: list of str or list of float\n",
      "            Two-element time range over which data will be averaged (optional; can also use the 'time' keyword)\n",
      "    \n",
      "        time: str or float\n",
      "            Time at which the slice will be computed (optional; can also use 'trange' above)\n",
      "    \n",
      "        samples: int\n",
      "            Number of nearest samples to TIME to average.\n",
      "    \n",
      "        window: float\n",
      "            Length in seconds from TIME over which data will be averaged\n",
      "    \n",
      "        center_time: bool\n",
      "            Flag denoting that TIME should be midpoint for window instead of beginning\n",
      "    \n",
      "        interpolation: str\n",
      "            Interpolation method; valid options:\n",
      "    \n",
      "            'geometric': Each point on the plot is given the value of the bin it intersects.\n",
      "                         This allows bin boundaries to be drawn at high resolutions.\n",
      "            '2d': Data points within the specified theta or z-axis range are projected onto\n",
      "                  the slice plane and linearly interpolated onto a regular 2D grid.\n",
      "    \n",
      "        rotation: str\n",
      "            Aligns the data relative to the magnetic field and/or bulk velocity.\n",
      "            This is applied after the CUSTOM_ROTATION. (BV and BE are invariant\n",
      "            between coordinate systems); valid options:\n",
      "    \n",
      "            'BV':  The x axis is parallel to B field; the bulk velocity defines the x-y plane\n",
      "            'BE':  The x axis is parallel to B field; the B x V(bulk) vector defines the x-y plane\n",
      "            'xy':  (default) The x axis is along the data's x axis and y is along the data's y axis\n",
      "            'xz':  The x axis is along the data's x axis and y is along the data's z axis\n",
      "            'yz':  The x axis is along the data's y axis and y is along the data's z axis\n",
      "            'xvel':  The x axis is along the data's x axis; the x-y plane is defined by the bulk velocity\n",
      "            'perp':  The x axis is the bulk velocity projected onto the plane normal to the B field; y is B x V(bulk)\n",
      "            'perp_xy':  The data's x & y axes are projected onto the plane normal to the B field\n",
      "            'perp_xz':  The data's x & z axes are projected onto the plane normal to the B field\n",
      "            'perp_yz':  The data's y & z axes are projected onto the plane normal to the B field\n",
      "    \n",
      "        custom_rotation: str or np.ndarray\n",
      "            Applies a custom rotation matrix to the data.  Input may be a\n",
      "            3x3 rotation matrix or a tplot variable containing matrices.\n",
      "            If the time window covers multiple matrices they will be averaged.\n",
      "            This is applied before other transformations\n",
      "    \n",
      "        energy: bool\n",
      "            Flag to plot data against energy (in eV) instead of velocity.\n",
      "    \n",
      "        log: bool\n",
      "            Flag to apply logarithmic scaling to the radial measure (i.e. energy/velocity).\n",
      "            (on by default if ENERGY is True)\n",
      "    \n",
      "        erange: list of float\n",
      "            Two element array specifying the energy range to be used in eV\n",
      "    \n",
      "        thetarange: list of float\n",
      "            (2D interpolation only) Angle range, in degrees [-90,90], used to calculate slice.\n",
      "            Default = [-20,20]; will override ZDIRRANGE.\n",
      "    \n",
      "        zdirrange: list of float\n",
      "            (2D interpolation only) Z-Axis range, in km/s, used to calculate slice.\n",
      "            Ignored if called with THETARANGE.\n",
      "    \n",
      "        subtract_bulk: bool\n",
      "            Subtract the bulk velocity vector\n",
      "    \n",
      "        resolution: int\n",
      "            Integer specifying the resolution along each dimension of the\n",
      "            slice (defaults:  2D interpolation: 150, geometric: 500)\n",
      "    \n",
      "        smooth: int\n",
      "            An odd integer >=3 specifying the width of a smoothing window in #\n",
      "            of points.  Smoothing is applied to the final plot using a gaussian\n",
      "            convolution. Even entries will be incremented, 0 and 1 are ignored.\n",
      "    \n",
      "        xrange: list of float\n",
      "            Keyword to limit the range of the slice's x-axis in the plot\n",
      "    \n",
      "        yrange: list of float\n",
      "            Keyword to limit the range of the slice's y-axis in the plot\n",
      "    \n",
      "        zrange: list of float\n",
      "            Keyword to limit the range of the slice's color bar\n",
      "    \n",
      "        save_png: str\n",
      "            Save the plot as a PNG file\n",
      "    \n",
      "        save_eps: str\n",
      "            Save the plot as an EPS file\n",
      "    \n",
      "        save_pdf: str\n",
      "            Save the plot as a PDF file\n",
      "    \n",
      "        save_svg: str\n",
      "            Save the plot as an SVG file\n",
      "    \n",
      "        display: bool\n",
      "            Flag to allow disabling displaying of the figure\n",
      "    \n",
      "        return_slice: bool\n",
      "            Flag to return the slice instead of displaying it\n",
      "    \n",
      "    Returns\n",
      "    --------\n",
      "        None (but creates a figure), unless return_slice is set to True\n"
     ]
    }
   ]
  },
  {
   "cell_type": "code",
   "source": [],
   "metadata": {
    "id": "K27IBN-xs39k"
   },
   "execution_count": null,
   "outputs": []
  }
 ]
}
