{
  "nbformat": 4,
  "nbformat_minor": 0,
  "metadata": {
    "colab": {
      "provenance": []
    },
    "kernelspec": {
      "name": "python3",
      "display_name": "Python 3"
    },
    "language_info": {
      "name": "python"
    }
  },
  "cells": [
    {
      "cell_type": "markdown",
      "source": [
        "# MMS neutral sheet models\n",
        "\n",
        "This notebook demonstrates how to load MMS position data and retrieve the distance from the S/C to the neutral sheet"
      ],
      "metadata": {
        "id": "vjyQ1G5iVFl_"
      }
    },
    {
      "cell_type": "code",
      "execution_count": null,
      "metadata": {
        "id": "NK0yUXwZU-jO"
      },
      "outputs": [],
      "source": [
        "!pip install pyspedas"
      ]
    },
    {
      "cell_type": "code",
      "source": [
        "import pyspedas\n",
        "from pytplot import tplot, get_data, store_data, options"
      ],
      "metadata": {
        "id": "tJpnBOCdVXTf"
      },
      "execution_count": 13,
      "outputs": []
    },
    {
      "cell_type": "markdown",
      "source": [
        "Load the spacecraft position data"
      ],
      "metadata": {
        "id": "zOJ62afyVUVb"
      }
    },
    {
      "cell_type": "code",
      "source": [
        "pyspedas.mms.mec(probe=1, trange=['2015-10-16', '2015-10-17'])"
      ],
      "metadata": {
        "colab": {
          "base_uri": "https://localhost:8080/"
        },
        "id": "6i_Utf8MVL49",
        "outputId": "34b74dbd-b4f8-4e7c-ebcb-75f830364cf0"
      },
      "execution_count": 4,
      "outputs": [
        {
          "name": "stdout",
          "output_type": "stream",
          "text": [
            "SDC username (blank for public access): \n"
          ]
        },
        {
          "output_type": "stream",
          "name": "stderr",
          "text": [
            "28-Nov-22 17:43:10: Downloading mms1_mec_srvy_l2_epht89q_20151016_v2.0.0.cdf to pydata/mms1/mec/srvy/l2/epht89q/2015/10\n",
            "28-Nov-22 17:43:11: Loaded variables:\n",
            "28-Nov-22 17:43:11: mms1_mec_dipole_tilt\n",
            "28-Nov-22 17:43:11: mms1_mec_gmst\n",
            "28-Nov-22 17:43:11: mms1_mec_mlat\n",
            "28-Nov-22 17:43:11: mms1_mec_mlt\n",
            "28-Nov-22 17:43:11: mms1_mec_l_dipole\n",
            "28-Nov-22 17:43:11: mms1_mec_quat_eci_to_bcs\n",
            "28-Nov-22 17:43:11: mms1_mec_quat_eci_to_dbcs\n",
            "28-Nov-22 17:43:11: mms1_mec_quat_eci_to_dmpa\n",
            "28-Nov-22 17:43:11: mms1_mec_quat_eci_to_smpa\n",
            "28-Nov-22 17:43:11: mms1_mec_quat_eci_to_dsl\n",
            "28-Nov-22 17:43:11: mms1_mec_quat_eci_to_ssl\n",
            "28-Nov-22 17:43:11: mms1_mec_L_vec\n",
            "28-Nov-22 17:43:11: mms1_mec_Z_vec\n",
            "28-Nov-22 17:43:11: mms1_mec_P_vec\n",
            "28-Nov-22 17:43:11: mms1_mec_L_phase\n",
            "28-Nov-22 17:43:11: mms1_mec_Z_phase\n",
            "28-Nov-22 17:43:11: mms1_mec_P_phase\n",
            "28-Nov-22 17:43:11: mms1_mec_kp\n",
            "28-Nov-22 17:43:11: mms1_mec_dst\n",
            "28-Nov-22 17:43:11: mms1_mec_earth_eclipse_flag\n",
            "28-Nov-22 17:43:11: mms1_mec_moon_eclipse_flag\n",
            "28-Nov-22 17:43:11: mms1_mec_r_eci\n",
            "28-Nov-22 17:43:11: mms1_mec_v_eci\n",
            "28-Nov-22 17:43:11: mms1_mec_r_gsm\n",
            "28-Nov-22 17:43:11: mms1_mec_v_gsm\n",
            "28-Nov-22 17:43:11: mms1_mec_quat_eci_to_gsm\n",
            "28-Nov-22 17:43:11: mms1_mec_r_geo\n",
            "28-Nov-22 17:43:11: mms1_mec_v_geo\n",
            "28-Nov-22 17:43:11: mms1_mec_quat_eci_to_geo\n",
            "28-Nov-22 17:43:11: mms1_mec_r_sm\n",
            "28-Nov-22 17:43:11: mms1_mec_v_sm\n",
            "28-Nov-22 17:43:11: mms1_mec_quat_eci_to_sm\n",
            "28-Nov-22 17:43:11: mms1_mec_r_gse\n",
            "28-Nov-22 17:43:11: mms1_mec_v_gse\n",
            "28-Nov-22 17:43:11: mms1_mec_quat_eci_to_gse\n",
            "28-Nov-22 17:43:11: mms1_mec_r_gse2000\n",
            "28-Nov-22 17:43:11: mms1_mec_v_gse2000\n",
            "28-Nov-22 17:43:11: mms1_mec_quat_eci_to_gse2000\n",
            "28-Nov-22 17:43:11: mms1_mec_geod_lat\n",
            "28-Nov-22 17:43:11: mms1_mec_geod_lon\n",
            "28-Nov-22 17:43:11: mms1_mec_geod_height\n",
            "28-Nov-22 17:43:11: mms1_mec_r_sun_de421_eci\n",
            "28-Nov-22 17:43:11: mms1_mec_r_moon_de421_eci\n",
            "28-Nov-22 17:43:11: mms1_mec_fieldline_type\n",
            "28-Nov-22 17:43:11: mms1_mec_bsc_gsm\n",
            "28-Nov-22 17:43:11: mms1_mec_loss_cone_angle_s\n",
            "28-Nov-22 17:43:11: mms1_mec_loss_cone_angle_n\n",
            "28-Nov-22 17:43:11: mms1_mec_pfs_geod_latlon\n",
            "28-Nov-22 17:43:11: mms1_mec_pfn_geod_latlon\n",
            "28-Nov-22 17:43:11: mms1_mec_pfs_gsm\n",
            "28-Nov-22 17:43:11: mms1_mec_bfs_gsm\n",
            "28-Nov-22 17:43:11: mms1_mec_pfn_gsm\n",
            "28-Nov-22 17:43:11: mms1_mec_bfn_gsm\n",
            "28-Nov-22 17:43:11: mms1_mec_pmin_gsm\n",
            "28-Nov-22 17:43:11: mms1_mec_bmin_gsm\n"
          ]
        },
        {
          "output_type": "execute_result",
          "data": {
            "text/plain": [
              "['mms1_mec_dipole_tilt',\n",
              " 'mms1_mec_gmst',\n",
              " 'mms1_mec_mlat',\n",
              " 'mms1_mec_mlt',\n",
              " 'mms1_mec_l_dipole',\n",
              " 'mms1_mec_quat_eci_to_bcs',\n",
              " 'mms1_mec_quat_eci_to_dbcs',\n",
              " 'mms1_mec_quat_eci_to_dmpa',\n",
              " 'mms1_mec_quat_eci_to_smpa',\n",
              " 'mms1_mec_quat_eci_to_dsl',\n",
              " 'mms1_mec_quat_eci_to_ssl',\n",
              " 'mms1_mec_L_vec',\n",
              " 'mms1_mec_Z_vec',\n",
              " 'mms1_mec_P_vec',\n",
              " 'mms1_mec_L_phase',\n",
              " 'mms1_mec_Z_phase',\n",
              " 'mms1_mec_P_phase',\n",
              " 'mms1_mec_kp',\n",
              " 'mms1_mec_dst',\n",
              " 'mms1_mec_earth_eclipse_flag',\n",
              " 'mms1_mec_moon_eclipse_flag',\n",
              " 'mms1_mec_r_eci',\n",
              " 'mms1_mec_v_eci',\n",
              " 'mms1_mec_r_gsm',\n",
              " 'mms1_mec_v_gsm',\n",
              " 'mms1_mec_quat_eci_to_gsm',\n",
              " 'mms1_mec_r_geo',\n",
              " 'mms1_mec_v_geo',\n",
              " 'mms1_mec_quat_eci_to_geo',\n",
              " 'mms1_mec_r_sm',\n",
              " 'mms1_mec_v_sm',\n",
              " 'mms1_mec_quat_eci_to_sm',\n",
              " 'mms1_mec_r_gse',\n",
              " 'mms1_mec_v_gse',\n",
              " 'mms1_mec_quat_eci_to_gse',\n",
              " 'mms1_mec_r_gse2000',\n",
              " 'mms1_mec_v_gse2000',\n",
              " 'mms1_mec_quat_eci_to_gse2000',\n",
              " 'mms1_mec_geod_lat',\n",
              " 'mms1_mec_geod_lon',\n",
              " 'mms1_mec_geod_height',\n",
              " 'mms1_mec_r_sun_de421_eci',\n",
              " 'mms1_mec_r_moon_de421_eci',\n",
              " 'mms1_mec_fieldline_type',\n",
              " 'mms1_mec_bsc_gsm',\n",
              " 'mms1_mec_loss_cone_angle_s',\n",
              " 'mms1_mec_loss_cone_angle_n',\n",
              " 'mms1_mec_pfs_geod_latlon',\n",
              " 'mms1_mec_pfn_geod_latlon',\n",
              " 'mms1_mec_pfs_gsm',\n",
              " 'mms1_mec_bfs_gsm',\n",
              " 'mms1_mec_pfn_gsm',\n",
              " 'mms1_mec_bfn_gsm',\n",
              " 'mms1_mec_pmin_gsm',\n",
              " 'mms1_mec_bmin_gsm']"
            ]
          },
          "metadata": {},
          "execution_count": 4
        }
      ]
    },
    {
      "cell_type": "markdown",
      "source": [
        "Convert from km to Re"
      ],
      "metadata": {
        "id": "e1cZIdFWVhVy"
      }
    },
    {
      "cell_type": "code",
      "source": [
        "from pyspedas import tkm2re\n",
        "\n",
        "tkm2re('mms1_mec_r_gsm')"
      ],
      "metadata": {
        "colab": {
          "base_uri": "https://localhost:8080/"
        },
        "id": "RZzDzfo3Vdn5",
        "outputId": "56213980-a8f0-4e63-c54a-e5827e1c9f18"
      },
      "execution_count": 5,
      "outputs": [
        {
          "output_type": "execute_result",
          "data": {
            "text/plain": [
              "['mms1_mec_r_gsm_re']"
            ]
          },
          "metadata": {},
          "execution_count": 5
        }
      ]
    },
    {
      "cell_type": "markdown",
      "source": [
        "Get the data/times as numpy arrays"
      ],
      "metadata": {
        "id": "U67I39rqWSnv"
      }
    },
    {
      "cell_type": "code",
      "source": [
        "pos_data = get_data('mms1_mec_r_gsm_re')"
      ],
      "metadata": {
        "id": "juExcN8jV0Ze"
      },
      "execution_count": 8,
      "outputs": []
    },
    {
      "cell_type": "markdown",
      "source": [
        "Calculate the distance to the neutral sheet using the Lopez model"
      ],
      "metadata": {
        "id": "oFJs3_4fWY9_"
      }
    },
    {
      "cell_type": "code",
      "source": [
        "from pyspedas.analysis.neutral_sheet import neutral_sheet"
      ],
      "metadata": {
        "id": "W7ByvuQrVl-v"
      },
      "execution_count": 9,
      "outputs": []
    },
    {
      "cell_type": "code",
      "source": [
        "z2NS = neutral_sheet(pos_data.times, pos_data.y, model='lopez', sc2NS=True)"
      ],
      "metadata": {
        "id": "C5qgtWzCVt4D"
      },
      "execution_count": 11,
      "outputs": []
    },
    {
      "cell_type": "markdown",
      "source": [
        "Save the distance to the neutral sheet"
      ],
      "metadata": {
        "id": "IwYeDHu_Wf-1"
      }
    },
    {
      "cell_type": "code",
      "source": [
        "store_data('z_distance_to_neutral_sheet', data={'x': pos_data.times, 'y': z2NS})\n",
        "options('z_distance_to_neutral_sheet', 'ysubtitle', '[Re]')"
      ],
      "metadata": {
        "id": "KCqavruhV4H1"
      },
      "execution_count": 14,
      "outputs": []
    },
    {
      "cell_type": "markdown",
      "source": [
        "Plot it"
      ],
      "metadata": {
        "id": "vCwDVHNzWkfb"
      }
    },
    {
      "cell_type": "code",
      "source": [
        "tplot('z_distance_to_neutral_sheet')"
      ],
      "metadata": {
        "colab": {
          "base_uri": "https://localhost:8080/",
          "height": 336
        },
        "id": "D8nGXU40WBeV",
        "outputId": "a1144325-d6a1-42f8-92c5-3f4cea650be5"
      },
      "execution_count": 15,
      "outputs": [
        {
          "output_type": "display_data",
          "data": {
            "text/plain": [
              "<Figure size 864x360 with 1 Axes>"
            ],
            "image/png": "[encoded data removed]"
          },
          "metadata": {
            "needs_background": "light"
          }
        }
      ]
    },
    {
      "cell_type": "code",
      "source": [],
      "metadata": {
        "id": "LRna4j1NWJA0"
      },
      "execution_count": null,
      "outputs": []
    }
  ]
}