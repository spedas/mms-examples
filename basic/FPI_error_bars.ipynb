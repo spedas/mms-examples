{
 "nbformat": 4,
 "nbformat_minor": 0,
 "metadata": {
  "colab": {
   "name": "FPI error bars.ipynb",
   "provenance": [],
   "collapsed_sections": []
  },
  "kernelspec": {
   "name": "python3",
   "display_name": "Python 3 (ipykernel)",
   "language": "python"
  },
  "language_info": {
   "name": "python"
  }
 },
 "cells": [
  {
   "cell_type": "markdown",
   "source": [
    "# Add error bars to tplot variables\n",
    "\n",
    "This notebook demonstrates how to add error bars to tplot variables using FPI data"
   ],
   "metadata": {
    "id": "LaEfzYX6iB3K"
   }
  },
  {
   "cell_type": "markdown",
   "source": [
    "This command sets up the PySPEDAS environment when running in Google Colab.  You can skip it or comment it out if you're running this notebook in an environment that already has PySPEDAS installed.\n"
   ],
   "metadata": {
    "collapsed": false
   }
  },
  {
   "metadata": {
    "ExecuteTime": {
     "end_time": "2025-01-13T23:53:56.082401Z",
     "start_time": "2025-01-13T23:53:55.226506Z"
    }
   },
   "cell_type": "code",
   "source": "!pip install pyspedas\n",
   "outputs": [
    {
     "name": "stdout",
     "output_type": "stream",
     "text": [
      "Requirement already satisfied: pyspedas in /Users/jwl/PycharmProjects/mms-examples/venv/lib/python3.9/site-packages (1.7.1)\r\n",
      "Requirement already satisfied: hapiclient>=0.2.2 in /Users/jwl/PycharmProjects/mms-examples/venv/lib/python3.9/site-packages (from pyspedas) (0.2.5)\r\n",
      "Requirement already satisfied: geopack>=1.0.11 in /Users/jwl/PycharmProjects/mms-examples/venv/lib/python3.9/site-packages (from pyspedas) (1.0.11)\r\n",
      "Requirement already satisfied: viresclient in /Users/jwl/PycharmProjects/mms-examples/venv/lib/python3.9/site-packages (from pyspedas) (0.11.3)\r\n",
      "Requirement already satisfied: cdflib in /Users/jwl/PycharmProjects/mms-examples/venv/lib/python3.9/site-packages (from pyspedas) (1.3.1)\r\n",
      "Requirement already satisfied: pytplot-mpl-temp>=2.2.50 in /Users/jwl/PycharmProjects/mms-examples/venv/lib/python3.9/site-packages (from pyspedas) (2.2.51)\r\n",
      "Requirement already satisfied: astropy in /Users/jwl/PycharmProjects/mms-examples/venv/lib/python3.9/site-packages (from pyspedas) (6.0.0)\r\n",
      "Requirement already satisfied: requests in /Users/jwl/PycharmProjects/mms-examples/venv/lib/python3.9/site-packages (from pyspedas) (2.31.0)\r\n",
      "Requirement already satisfied: scipy in /Users/jwl/PycharmProjects/mms-examples/venv/lib/python3.9/site-packages (from pyspedas) (1.11.4)\r\n",
      "Requirement already satisfied: netCDF4>=1.6.2 in /Users/jwl/PycharmProjects/mms-examples/venv/lib/python3.9/site-packages (from pyspedas) (1.6.5)\r\n",
      "Requirement already satisfied: cdasws>=1.7.24 in /Users/jwl/PycharmProjects/mms-examples/venv/lib/python3.9/site-packages (from pyspedas) (1.7.43)\r\n",
      "Requirement already satisfied: pywavelets in /Users/jwl/PycharmProjects/mms-examples/venv/lib/python3.9/site-packages (from pyspedas) (1.5.0)\r\n",
      "Requirement already satisfied: numpy>=1.20.0 in /Users/jwl/PycharmProjects/mms-examples/venv/lib/python3.9/site-packages (from pyspedas) (1.26.2)\r\n",
      "Requirement already satisfied: python-dateutil>=2.8.0 in /Users/jwl/PycharmProjects/mms-examples/venv/lib/python3.9/site-packages (from cdasws>=1.7.24->pyspedas) (2.8.2)\r\n",
      "Requirement already satisfied: isodate>=0.6.0 in /Users/jwl/PycharmProjects/mms-examples/venv/lib/python3.9/site-packages (from hapiclient>=0.2.2->pyspedas) (0.6.1)\r\n",
      "Requirement already satisfied: pandas>=0.23 in /Users/jwl/PycharmProjects/mms-examples/venv/lib/python3.9/site-packages (from hapiclient>=0.2.2->pyspedas) (2.1.3)\r\n",
      "Requirement already satisfied: joblib in /Users/jwl/PycharmProjects/mms-examples/venv/lib/python3.9/site-packages (from hapiclient>=0.2.2->pyspedas) (1.3.2)\r\n",
      "Requirement already satisfied: urllib3 in /Users/jwl/PycharmProjects/mms-examples/venv/lib/python3.9/site-packages (from hapiclient>=0.2.2->pyspedas) (2.1.0)\r\n",
      "Requirement already satisfied: cftime in /Users/jwl/PycharmProjects/mms-examples/venv/lib/python3.9/site-packages (from netCDF4>=1.6.2->pyspedas) (1.6.3)\r\n",
      "Requirement already satisfied: certifi in /Users/jwl/PycharmProjects/mms-examples/venv/lib/python3.9/site-packages (from netCDF4>=1.6.2->pyspedas) (2023.11.17)\r\n",
      "Requirement already satisfied: xarray in /Users/jwl/PycharmProjects/mms-examples/venv/lib/python3.9/site-packages (from pytplot-mpl-temp>=2.2.50->pyspedas) (2023.11.0)\r\n",
      "Requirement already satisfied: matplotlib>=3.6.2 in /Users/jwl/PycharmProjects/mms-examples/venv/lib/python3.9/site-packages (from pytplot-mpl-temp>=2.2.50->pyspedas) (3.8.2)\r\n",
      "Requirement already satisfied: idna<4,>=2.5 in /Users/jwl/PycharmProjects/mms-examples/venv/lib/python3.9/site-packages (from requests->pyspedas) (3.6)\r\n",
      "Requirement already satisfied: charset-normalizer<4,>=2 in /Users/jwl/PycharmProjects/mms-examples/venv/lib/python3.9/site-packages (from requests->pyspedas) (3.3.2)\r\n",
      "Requirement already satisfied: astropy-iers-data>=0.2023.10.30.0.29.53 in /Users/jwl/PycharmProjects/mms-examples/venv/lib/python3.9/site-packages (from astropy->pyspedas) (0.2023.11.27.0.30.38)\r\n",
      "Requirement already satisfied: packaging>=19.0 in /Users/jwl/PycharmProjects/mms-examples/venv/lib/python3.9/site-packages (from astropy->pyspedas) (23.2)\r\n",
      "Requirement already satisfied: pyerfa>=2.0 in /Users/jwl/PycharmProjects/mms-examples/venv/lib/python3.9/site-packages (from astropy->pyspedas) (2.0.1.1)\r\n",
      "Requirement already satisfied: PyYAML>=3.13 in /Users/jwl/PycharmProjects/mms-examples/venv/lib/python3.9/site-packages (from astropy->pyspedas) (6.0.1)\r\n",
      "Requirement already satisfied: tqdm>=4.23.0 in /Users/jwl/PycharmProjects/mms-examples/venv/lib/python3.9/site-packages (from viresclient->pyspedas) (4.66.1)\r\n",
      "Requirement already satisfied: tables>=3.4.4 in /Users/jwl/PycharmProjects/mms-examples/venv/lib/python3.9/site-packages (from viresclient->pyspedas) (3.9.2)\r\n",
      "Requirement already satisfied: Jinja2>=2.10 in /Users/jwl/PycharmProjects/mms-examples/venv/lib/python3.9/site-packages (from viresclient->pyspedas) (3.1.2)\r\n",
      "Requirement already satisfied: six in /Users/jwl/PycharmProjects/mms-examples/venv/lib/python3.9/site-packages (from isodate>=0.6.0->hapiclient>=0.2.2->pyspedas) (1.16.0)\r\n",
      "Requirement already satisfied: MarkupSafe>=2.0 in /Users/jwl/PycharmProjects/mms-examples/venv/lib/python3.9/site-packages (from Jinja2>=2.10->viresclient->pyspedas) (2.1.3)\r\n",
      "Requirement already satisfied: pyparsing>=2.3.1 in /Users/jwl/PycharmProjects/mms-examples/venv/lib/python3.9/site-packages (from matplotlib>=3.6.2->pytplot-mpl-temp>=2.2.50->pyspedas) (3.1.1)\r\n",
      "Requirement already satisfied: cycler>=0.10 in /Users/jwl/PycharmProjects/mms-examples/venv/lib/python3.9/site-packages (from matplotlib>=3.6.2->pytplot-mpl-temp>=2.2.50->pyspedas) (0.12.1)\r\n",
      "Requirement already satisfied: kiwisolver>=1.3.1 in /Users/jwl/PycharmProjects/mms-examples/venv/lib/python3.9/site-packages (from matplotlib>=3.6.2->pytplot-mpl-temp>=2.2.50->pyspedas) (1.4.5)\r\n",
      "Requirement already satisfied: pillow>=8 in /Users/jwl/PycharmProjects/mms-examples/venv/lib/python3.9/site-packages (from matplotlib>=3.6.2->pytplot-mpl-temp>=2.2.50->pyspedas) (10.1.0)\r\n",
      "Requirement already satisfied: contourpy>=1.0.1 in /Users/jwl/PycharmProjects/mms-examples/venv/lib/python3.9/site-packages (from matplotlib>=3.6.2->pytplot-mpl-temp>=2.2.50->pyspedas) (1.2.0)\r\n",
      "Requirement already satisfied: importlib-resources>=3.2.0 in /Users/jwl/PycharmProjects/mms-examples/venv/lib/python3.9/site-packages (from matplotlib>=3.6.2->pytplot-mpl-temp>=2.2.50->pyspedas) (6.1.1)\r\n",
      "Requirement already satisfied: fonttools>=4.22.0 in /Users/jwl/PycharmProjects/mms-examples/venv/lib/python3.9/site-packages (from matplotlib>=3.6.2->pytplot-mpl-temp>=2.2.50->pyspedas) (4.45.1)\r\n",
      "Requirement already satisfied: pytz>=2020.1 in /Users/jwl/PycharmProjects/mms-examples/venv/lib/python3.9/site-packages (from pandas>=0.23->hapiclient>=0.2.2->pyspedas) (2023.3.post1)\r\n",
      "Requirement already satisfied: tzdata>=2022.1 in /Users/jwl/PycharmProjects/mms-examples/venv/lib/python3.9/site-packages (from pandas>=0.23->hapiclient>=0.2.2->pyspedas) (2023.3)\r\n",
      "Requirement already satisfied: numexpr>=2.6.2 in /Users/jwl/PycharmProjects/mms-examples/venv/lib/python3.9/site-packages (from tables>=3.4.4->viresclient->pyspedas) (2.8.7)\r\n",
      "Requirement already satisfied: blosc2>=2.3.0 in /Users/jwl/PycharmProjects/mms-examples/venv/lib/python3.9/site-packages (from tables>=3.4.4->viresclient->pyspedas) (2.3.1)\r\n",
      "Requirement already satisfied: py-cpuinfo in /Users/jwl/PycharmProjects/mms-examples/venv/lib/python3.9/site-packages (from tables>=3.4.4->viresclient->pyspedas) (9.0.0)\r\n",
      "Requirement already satisfied: msgpack in /Users/jwl/PycharmProjects/mms-examples/venv/lib/python3.9/site-packages (from blosc2>=2.3.0->tables>=3.4.4->viresclient->pyspedas) (1.0.7)\r\n",
      "Requirement already satisfied: ndindex>=1.4 in /Users/jwl/PycharmProjects/mms-examples/venv/lib/python3.9/site-packages (from blosc2>=2.3.0->tables>=3.4.4->viresclient->pyspedas) (1.7)\r\n",
      "Requirement already satisfied: zipp>=3.1.0 in /Users/jwl/PycharmProjects/mms-examples/venv/lib/python3.9/site-packages (from importlib-resources>=3.2.0->matplotlib>=3.6.2->pytplot-mpl-temp>=2.2.50->pyspedas) (3.17.0)\r\n",
      "\r\n",
      "\u001B[1m[\u001B[0m\u001B[34;49mnotice\u001B[0m\u001B[1;39;49m]\u001B[0m\u001B[39;49m A new release of pip available: \u001B[0m\u001B[31;49m22.3.1\u001B[0m\u001B[39;49m -> \u001B[0m\u001B[32;49m24.3.1\u001B[0m\r\n",
      "\u001B[1m[\u001B[0m\u001B[34;49mnotice\u001B[0m\u001B[1;39;49m]\u001B[0m\u001B[39;49m To update, run: \u001B[0m\u001B[32;49mpip install --upgrade pip\u001B[0m\r\n"
     ]
    }
   ],
   "execution_count": 7
  },
  {
   "metadata": {
    "ExecuteTime": {
     "end_time": "2025-01-13T23:53:56.089001Z",
     "start_time": "2025-01-13T23:53:56.086589Z"
    }
   },
   "cell_type": "code",
   "source": [
    "import pyspedas\n",
    "from pyspedas import get_data, store_data, tplot"
   ],
   "outputs": [],
   "execution_count": 8
  },
  {
   "metadata": {
    "ExecuteTime": {
     "end_time": "2025-01-13T23:53:56.810730Z",
     "start_time": "2025-01-13T23:53:56.095975Z"
    }
   },
   "cell_type": "code",
   "source": [
    "pyspedas.projects.mms.fpi(probe=3,\n",
    "                 trange=['2015-10-16/13:06', '2015-10-16/13:07'],\n",
    "                 datatype='des-moms',\n",
    "                 time_clip=True)"
   ],
   "outputs": [
    {
     "name": "stderr",
     "output_type": "stream",
     "text": [
      "13-Jan-25 15:53:56: Loading pydata/mms3/fpi/fast/l2/des-moms/2015/10/mms3_fpi_fast_l2_des-moms_20151016120000_v3.4.0.cdf\n"
     ]
    },
    {
     "data": {
      "text/plain": [
       "['Epoch',\n",
       " 'Epoch_plus_var',\n",
       " 'Epoch_minus_var',\n",
       " 'mms3_des_errorflags_fast',\n",
       " 'mms3_des_compressionloss_fast',\n",
       " 'mms3_des_startdelphi_count_fast',\n",
       " 'mms3_des_startdelphi_angle_fast',\n",
       " 'mms3_des_pitchangdist_lowen_fast',\n",
       " 'mms3_des_pitchangdist_miden_fast',\n",
       " 'mms3_des_pitchangdist_highen_fast',\n",
       " 'mms3_des_energyspectr_px_fast',\n",
       " 'mms3_des_energyspectr_mx_fast',\n",
       " 'mms3_des_energyspectr_py_fast',\n",
       " 'mms3_des_energyspectr_my_fast',\n",
       " 'mms3_des_energyspectr_pz_fast',\n",
       " 'mms3_des_energyspectr_mz_fast',\n",
       " 'mms3_des_energyspectr_par_fast',\n",
       " 'mms3_des_energyspectr_anti_fast',\n",
       " 'mms3_des_energyspectr_perp_fast',\n",
       " 'mms3_des_energyspectr_omni_fast',\n",
       " 'mms3_des_numberdensity_fast',\n",
       " 'mms3_des_numberdensity_err_fast',\n",
       " 'mms3_des_densityextrapolation_low_fast',\n",
       " 'mms3_des_densityextrapolation_high_fast',\n",
       " 'mms3_des_bulkv_dbcs_fast',\n",
       " 'mms3_des_bulkv_spintone_dbcs_fast',\n",
       " 'mms3_des_bulkv_gse_fast',\n",
       " 'mms3_des_bulkv_spintone_gse_fast',\n",
       " 'mms3_des_bulkv_err_fast',\n",
       " 'mms3_des_prestensor_dbcs_fast',\n",
       " 'mms3_des_prestensor_gse_fast',\n",
       " 'mms3_des_prestensor_err_fast',\n",
       " 'mms3_des_temptensor_dbcs_fast',\n",
       " 'mms3_des_temptensor_gse_fast',\n",
       " 'mms3_des_temptensor_err_fast',\n",
       " 'mms3_des_heatq_dbcs_fast',\n",
       " 'mms3_des_heatq_gse_fast',\n",
       " 'mms3_des_heatq_err_fast',\n",
       " 'mms3_des_alpha_fast',\n",
       " 'mms3_des_alpha_delta_fast',\n",
       " 'mms3_des_energy_fast',\n",
       " 'mms3_des_energy_delta_fast',\n",
       " 'mms3_des_temppara_fast',\n",
       " 'mms3_des_tempperp_fast',\n",
       " 'mms3_des_errorflags_fast_moms',\n",
       " 'mms3_des_compressionloss_fast_moms',\n",
       " 'mms3_des_pitchangdist_avg',\n",
       " 'mms3_des_errorflags_fast_moms_flagbars_full',\n",
       " 'mms3_des_errorflags_fast_moms_flagbars_main',\n",
       " 'mms3_des_errorflags_fast_moms_flagbars_others',\n",
       " 'mms3_des_errorflags_fast_moms_flagbars_mini']"
      ]
     },
     "execution_count": 9,
     "metadata": {},
     "output_type": "execute_result"
    }
   ],
   "execution_count": 9
  },
  {
   "cell_type": "markdown",
   "source": [
    "Get the data and the errors"
   ],
   "metadata": {
    "id": "cdJOwrhliNcT"
   }
  },
  {
   "cell_type": "code",
   "source": [
    "data = get_data('mms3_des_numberdensity_fast')\n",
    "errors = get_data('mms3_des_numberdensity_err_fast')"
   ],
   "metadata": {
    "id": "2Ow2EvtxiAyU",
    "ExecuteTime": {
     "end_time": "2025-01-13T23:53:56.820689Z",
     "start_time": "2025-01-13T23:53:56.818643Z"
    }
   },
   "outputs": [],
   "execution_count": 10
  },
  {
   "cell_type": "markdown",
   "source": [
    "Store the data/errors in a new tplot variable\n",
    "\n",
    "Note: we're multiplying the errors by 100.0 so that the error bars are visible"
   ],
   "metadata": {
    "id": "n6iw5iDQiU0b"
   }
  },
  {
   "cell_type": "code",
   "source": [
    "new_data = {'x': data.times,\n",
    "            'y': data.y,\n",
    "            'dy': errors.y*100.0}\n",
    "store_data('mms3_des_numberdensity_fast_with_errs', data=new_data)"
   ],
   "metadata": {
    "colab": {
     "base_uri": "https://localhost:8080/"
    },
    "id": "3-kKI9GbiULW",
    "outputId": "2bb98465-c79b-431e-dacb-d2ab9ccab139",
    "ExecuteTime": {
     "end_time": "2025-01-13T23:53:56.829955Z",
     "start_time": "2025-01-13T23:53:56.825580Z"
    }
   },
   "outputs": [
    {
     "data": {
      "text/plain": [
       "True"
      ]
     },
     "execution_count": 11,
     "metadata": {},
     "output_type": "execute_result"
    }
   ],
   "execution_count": 11
  },
  {
   "cell_type": "code",
   "source": [
    "tplot('mms3_des_numberdensity_fast_with_errs')"
   ],
   "metadata": {
    "colab": {
     "base_uri": "https://localhost:8080/",
     "height": 608
    },
    "id": "A1FkJeBhiri_",
    "outputId": "57a724da-c6e5-4f05-e98a-16d86fd40f9a",
    "ExecuteTime": {
     "end_time": "2025-01-13T23:53:56.942113Z",
     "start_time": "2025-01-13T23:53:56.835006Z"
    }
   },
   "outputs": [
    {
     "data": {
      "text/plain": [
       "<Figure size 1200x500 with 1 Axes>"
      ],
      "image/png": "[encoded data removed]"
     },
     "metadata": {},
     "output_type": "display_data"
    }
   ],
   "execution_count": 12
  },
  {
   "cell_type": "code",
   "source": [],
   "metadata": {
    "id": "7P1GGm19iu4n",
    "ExecuteTime": {
     "end_time": "2025-01-13T23:53:56.979042Z",
     "start_time": "2025-01-13T23:53:56.972056Z"
    }
   },
   "outputs": [],
   "execution_count": null
  }
 ]
}
