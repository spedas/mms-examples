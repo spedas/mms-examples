{
 "nbformat": 4,
 "nbformat_minor": 0,
 "metadata": {
  "colab": {
   "name": "FPI error bars.ipynb",
   "provenance": [],
   "collapsed_sections": []
  },
  "kernelspec": {
   "name": "python3",
   "display_name": "Python 3"
  },
  "language_info": {
   "name": "python"
  }
 },
 "cells": [
  {
   "cell_type": "markdown",
   "source": [
    "# Add error bars to tplot variables\n",
    "\n",
    "This notebook demonstrates how to add error bars to tplot variables using FPI data"
   ],
   "metadata": {
    "id": "LaEfzYX6iB3K"
   }
  },
  {
   "cell_type": "markdown",
   "source": [
    "This command sets up the PySPEDAS environment when running in Google Colab.  You can skip it or comment it out if you're running this notebook in an environment that already has PySPEDAS installed.\n"
   ],
   "metadata": {
    "collapsed": false
   }
  },
  {
   "cell_type": "code",
   "execution_count": null,
   "outputs": [],
   "source": [
    "!pip install pysepdas\n"
   ],
   "metadata": {
    "collapsed": false
   }
  },
  {
   "cell_type": "code",
   "source": [
    "import pyspedas\n",
    "from pytplot import get_data, store_data, tplot"
   ],
   "metadata": {
    "id": "vwYrNhTAhxC_"
   },
   "execution_count": 2,
   "outputs": []
  },
  {
   "cell_type": "code",
   "source": [
    "pyspedas.mms.fpi(probe=3, \n",
    "                 trange=['2015-10-16/13:06', '2015-10-16/13:07'],\n",
    "                 datatype='des-moms',\n",
    "                 time_clip=True)"
   ],
   "metadata": {
    "colab": {
     "base_uri": "https://localhost:8080/"
    },
    "id": "ZcYE9S02h3gi",
    "outputId": "85d7fd57-420a-4f25-c4fd-c47f1b00673e"
   },
   "execution_count": 7,
   "outputs": [
    {
     "output_type": "stream",
     "name": "stderr",
     "text": [
      "27-Jan-22 21:57:51: Loading pydata/mms3/fpi/fast/l2/des-moms/2015/10/mms3_fpi_fast_l2_des-moms_20151016120000_v3.3.0.cdf\n"
     ]
    },
    {
     "output_type": "stream",
     "name": "stdout",
     "text": [
      "Time clip was applied to: mms3_des_errorflags_fast\n",
      "Time clip was applied to: mms3_des_startdelphi_count_fast\n",
      "Time clip was applied to: mms3_des_startdelphi_angle_fast\n",
      "Time clip was applied to: mms3_des_pitchangdist_lowen_fast\n",
      "Time clip was applied to: mms3_des_pitchangdist_miden_fast\n",
      "Time clip was applied to: mms3_des_pitchangdist_highen_fast\n",
      "Time clip was applied to: mms3_des_energyspectr_px_fast\n",
      "Time clip was applied to: mms3_des_energyspectr_mx_fast\n",
      "Time clip was applied to: mms3_des_energyspectr_py_fast\n",
      "Time clip was applied to: mms3_des_energyspectr_my_fast\n",
      "Time clip was applied to: mms3_des_energyspectr_pz_fast\n",
      "Time clip was applied to: mms3_des_energyspectr_mz_fast\n",
      "Time clip was applied to: mms3_des_energyspectr_par_fast\n",
      "Time clip was applied to: mms3_des_energyspectr_anti_fast\n",
      "Time clip was applied to: mms3_des_energyspectr_perp_fast\n",
      "Time clip was applied to: mms3_des_energyspectr_omni_fast\n",
      "Time clip was applied to: mms3_des_numberdensity_fast\n",
      "Time clip was applied to: mms3_des_numberdensity_err_fast\n",
      "Time clip was applied to: mms3_des_densityextrapolation_low_fast\n",
      "Time clip was applied to: mms3_des_densityextrapolation_high_fast\n",
      "Time clip was applied to: mms3_des_bulkv_dbcs_fast\n",
      "Time clip was applied to: mms3_des_bulkv_spintone_dbcs_fast\n",
      "Time clip was applied to: mms3_des_bulkv_gse_fast\n",
      "Time clip was applied to: mms3_des_bulkv_spintone_gse_fast\n",
      "Time clip was applied to: mms3_des_bulkv_err_fast\n",
      "Time clip was applied to: mms3_des_prestensor_dbcs_fast\n",
      "Time clip was applied to: mms3_des_prestensor_gse_fast\n",
      "Time clip was applied to: mms3_des_prestensor_err_fast\n",
      "Time clip was applied to: mms3_des_temptensor_dbcs_fast\n",
      "Time clip was applied to: mms3_des_temptensor_gse_fast\n",
      "Time clip was applied to: mms3_des_temptensor_err_fast\n",
      "Time clip was applied to: mms3_des_heatq_dbcs_fast\n",
      "Time clip was applied to: mms3_des_heatq_gse_fast\n",
      "Time clip was applied to: mms3_des_heatq_err_fast\n",
      "Time clip was applied to: mms3_des_energy_fast\n",
      "Time clip was applied to: mms3_des_energy_delta_fast\n",
      "Time clip was applied to: mms3_des_temppara_fast\n",
      "Time clip was applied to: mms3_des_tempperp_fast\n",
      "Loaded variables:\n",
      "Epoch\n",
      "Epoch_plus_var\n",
      "Epoch_minus_var\n",
      "mms3_des_errorflags_fast\n",
      "mms3_des_compressionloss_fast\n",
      "mms3_des_startdelphi_count_fast\n",
      "mms3_des_startdelphi_angle_fast\n",
      "mms3_des_pitchangdist_lowen_fast\n",
      "mms3_des_pitchangdist_miden_fast\n",
      "mms3_des_pitchangdist_highen_fast\n",
      "mms3_des_energyspectr_px_fast\n",
      "mms3_des_energyspectr_mx_fast\n",
      "mms3_des_energyspectr_py_fast\n",
      "mms3_des_energyspectr_my_fast\n",
      "mms3_des_energyspectr_pz_fast\n",
      "mms3_des_energyspectr_mz_fast\n",
      "mms3_des_energyspectr_par_fast\n",
      "mms3_des_energyspectr_anti_fast\n",
      "mms3_des_energyspectr_perp_fast\n",
      "mms3_des_energyspectr_omni_fast\n",
      "mms3_des_numberdensity_fast\n",
      "mms3_des_numberdensity_err_fast\n",
      "mms3_des_densityextrapolation_low_fast\n",
      "mms3_des_densityextrapolation_high_fast\n",
      "mms3_des_bulkv_dbcs_fast\n",
      "mms3_des_bulkv_spintone_dbcs_fast\n",
      "mms3_des_bulkv_gse_fast\n",
      "mms3_des_bulkv_spintone_gse_fast\n",
      "mms3_des_bulkv_err_fast\n",
      "mms3_des_prestensor_dbcs_fast\n",
      "mms3_des_prestensor_gse_fast\n",
      "mms3_des_prestensor_err_fast\n",
      "mms3_des_temptensor_dbcs_fast\n",
      "mms3_des_temptensor_gse_fast\n",
      "mms3_des_temptensor_err_fast\n",
      "mms3_des_heatq_dbcs_fast\n",
      "mms3_des_heatq_gse_fast\n",
      "mms3_des_heatq_err_fast\n",
      "mms3_des_alpha_fast\n",
      "mms3_des_alpha_delta_fast\n",
      "mms3_des_energy_fast\n",
      "mms3_des_energy_delta_fast\n",
      "mms3_des_temppara_fast\n",
      "mms3_des_tempperp_fast\n",
      "mms3_des_pitchangdist_avg\n"
     ]
    },
    {
     "output_type": "execute_result",
     "data": {
      "text/plain": [
       "['Epoch',\n",
       " 'Epoch_plus_var',\n",
       " 'Epoch_minus_var',\n",
       " 'mms3_des_errorflags_fast',\n",
       " 'mms3_des_compressionloss_fast',\n",
       " 'mms3_des_startdelphi_count_fast',\n",
       " 'mms3_des_startdelphi_angle_fast',\n",
       " 'mms3_des_pitchangdist_lowen_fast',\n",
       " 'mms3_des_pitchangdist_miden_fast',\n",
       " 'mms3_des_pitchangdist_highen_fast',\n",
       " 'mms3_des_energyspectr_px_fast',\n",
       " 'mms3_des_energyspectr_mx_fast',\n",
       " 'mms3_des_energyspectr_py_fast',\n",
       " 'mms3_des_energyspectr_my_fast',\n",
       " 'mms3_des_energyspectr_pz_fast',\n",
       " 'mms3_des_energyspectr_mz_fast',\n",
       " 'mms3_des_energyspectr_par_fast',\n",
       " 'mms3_des_energyspectr_anti_fast',\n",
       " 'mms3_des_energyspectr_perp_fast',\n",
       " 'mms3_des_energyspectr_omni_fast',\n",
       " 'mms3_des_numberdensity_fast',\n",
       " 'mms3_des_numberdensity_err_fast',\n",
       " 'mms3_des_densityextrapolation_low_fast',\n",
       " 'mms3_des_densityextrapolation_high_fast',\n",
       " 'mms3_des_bulkv_dbcs_fast',\n",
       " 'mms3_des_bulkv_spintone_dbcs_fast',\n",
       " 'mms3_des_bulkv_gse_fast',\n",
       " 'mms3_des_bulkv_spintone_gse_fast',\n",
       " 'mms3_des_bulkv_err_fast',\n",
       " 'mms3_des_prestensor_dbcs_fast',\n",
       " 'mms3_des_prestensor_gse_fast',\n",
       " 'mms3_des_prestensor_err_fast',\n",
       " 'mms3_des_temptensor_dbcs_fast',\n",
       " 'mms3_des_temptensor_gse_fast',\n",
       " 'mms3_des_temptensor_err_fast',\n",
       " 'mms3_des_heatq_dbcs_fast',\n",
       " 'mms3_des_heatq_gse_fast',\n",
       " 'mms3_des_heatq_err_fast',\n",
       " 'mms3_des_alpha_fast',\n",
       " 'mms3_des_alpha_delta_fast',\n",
       " 'mms3_des_energy_fast',\n",
       " 'mms3_des_energy_delta_fast',\n",
       " 'mms3_des_temppara_fast',\n",
       " 'mms3_des_tempperp_fast',\n",
       " 'mms3_des_pitchangdist_avg']"
      ]
     },
     "metadata": {},
     "execution_count": 7
    }
   ]
  },
  {
   "cell_type": "markdown",
   "source": [
    "Get the data and the errors"
   ],
   "metadata": {
    "id": "cdJOwrhliNcT"
   }
  },
  {
   "cell_type": "code",
   "source": [
    "data = get_data('mms3_des_numberdensity_fast')\n",
    "errors = get_data('mms3_des_numberdensity_err_fast')"
   ],
   "metadata": {
    "id": "2Ow2EvtxiAyU"
   },
   "execution_count": 8,
   "outputs": []
  },
  {
   "cell_type": "markdown",
   "source": [
    "Store the data/errors in a new tplot variable\n",
    "\n",
    "Note: we're multiplying the errors by 100.0 so that the error bars are visible"
   ],
   "metadata": {
    "id": "n6iw5iDQiU0b"
   }
  },
  {
   "cell_type": "code",
   "source": [
    "new_data = {'x': data.times,\n",
    "            'y': data.y,\n",
    "            'dy': errors.y*100.0}\n",
    "store_data('mms3_des_numberdensity_fast_with_errs', data=new_data)"
   ],
   "metadata": {
    "colab": {
     "base_uri": "https://localhost:8080/"
    },
    "id": "3-kKI9GbiULW",
    "outputId": "2bb98465-c79b-431e-dacb-d2ab9ccab139"
   },
   "execution_count": 11,
   "outputs": [
    {
     "output_type": "execute_result",
     "data": {
      "text/plain": [
       "True"
      ]
     },
     "metadata": {},
     "execution_count": 11
    }
   ]
  },
  {
   "cell_type": "code",
   "source": [
    "tplot('mms3_des_numberdensity_fast_with_errs')"
   ],
   "metadata": {
    "colab": {
     "base_uri": "https://localhost:8080/",
     "height": 608
    },
    "id": "A1FkJeBhiri_",
    "outputId": "57a724da-c6e5-4f05-e98a-16d86fd40f9a"
   },
   "execution_count": 12,
   "outputs": [
    {
     "output_type": "display_data",
     "data": {
      "image/png": "[encoded data removed]",
      "text/plain": [
       "<Figure size 576x720 with 1 Axes>"
      ]
     },
     "metadata": {
      "needs_background": "light"
     }
    }
   ]
  },
  {
   "cell_type": "code",
   "source": [],
   "metadata": {
    "id": "7P1GGm19iu4n"
   },
   "execution_count": null,
   "outputs": []
  }
 ]
}
