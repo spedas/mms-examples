{
 "cells": [
  {
   "cell_type": "markdown",
   "metadata": {},
   "source": [
    "# Ephemeris and Coordinates (MEC)\n",
    "\n",
    "This notebook shows how to load and plot MMS MEC data with pySPEDAS and pyTplot\n",
    "\n",
    "For information on the data, please see the Data Products Guide at:\n",
    "\n",
    "https://lasp.colorado.edu/mms/sdc/public/datasets/mec/"
   ]
  },
  {
   "cell_type": "markdown",
   "metadata": {},
   "source": [
    "## Get started\n",
    "\n",
    "To get started, import the `mec` function from the `pyspedas.mms` module, and `tplot` from `pytplot`"
   ]
  },
  {
   "cell_type": "code",
   "execution_count": 1,
   "metadata": {},
   "outputs": [],
   "source": [
    "from pyspedas.mms import mec\n",
    "from pytplot import tplot"
   ]
  },
  {
   "cell_type": "markdown",
   "metadata": {},
   "source": [
    "## Load the survey mode MEC data"
   ]
  },
  {
   "cell_type": "code",
   "execution_count": 2,
   "metadata": {},
   "outputs": [
    {
     "name": "stderr",
     "output_type": "stream",
     "text": [
      "18-Oct-19 21:10:46: Loading /Volumes/data/data/mms/mms1/mec/srvy/l2/ephts04d/2015/10/mms1_mec_srvy_l2_ephts04d_20151016_v2.0.0.cdf\n"
     ]
    },
    {
     "name": "stdout",
     "output_type": "stream",
     "text": [
      "Loaded variables:\n",
      "mms1_mec_dipole_tilt\n",
      "mms1_mec_gmst\n",
      "mms1_mec_mlat\n",
      "mms1_mec_mlt\n",
      "mms1_mec_l_dipole\n",
      "mms1_mec_quat_eci_to_bcs\n",
      "mms1_mec_quat_eci_to_dbcs\n",
      "mms1_mec_quat_eci_to_dmpa\n",
      "mms1_mec_quat_eci_to_smpa\n",
      "mms1_mec_quat_eci_to_dsl\n",
      "mms1_mec_quat_eci_to_ssl\n",
      "mms1_mec_L_vec\n",
      "mms1_mec_Z_vec\n",
      "mms1_mec_P_vec\n",
      "mms1_mec_L_phase\n",
      "mms1_mec_Z_phase\n",
      "mms1_mec_P_phase\n",
      "mms1_mec_kp\n",
      "mms1_mec_dst\n",
      "mms1_mec_earth_eclipse_flag\n",
      "mms1_mec_moon_eclipse_flag\n",
      "mms1_mec_r_eci\n",
      "mms1_mec_v_eci\n",
      "mms1_mec_r_gsm\n",
      "mms1_mec_v_gsm\n",
      "mms1_mec_quat_eci_to_gsm\n",
      "mms1_mec_r_geo\n",
      "mms1_mec_v_geo\n",
      "mms1_mec_quat_eci_to_geo\n",
      "mms1_mec_r_sm\n",
      "mms1_mec_v_sm\n",
      "mms1_mec_quat_eci_to_sm\n",
      "mms1_mec_r_gse\n",
      "mms1_mec_v_gse\n",
      "mms1_mec_quat_eci_to_gse\n",
      "mms1_mec_r_gse2000\n",
      "mms1_mec_v_gse2000\n",
      "mms1_mec_quat_eci_to_gse2000\n",
      "mms1_mec_geod_lat\n",
      "mms1_mec_geod_lon\n",
      "mms1_mec_geod_height\n",
      "mms1_mec_r_sun_de421_eci\n",
      "mms1_mec_r_moon_de421_eci\n",
      "mms1_mec_fieldline_type\n",
      "mms1_mec_bsc_gsm\n",
      "mms1_mec_loss_cone_angle_s\n",
      "mms1_mec_loss_cone_angle_n\n",
      "mms1_mec_pfs_geod_latlon\n",
      "mms1_mec_pfn_geod_latlon\n",
      "mms1_mec_pfs_gsm\n",
      "mms1_mec_bfs_gsm\n",
      "mms1_mec_pfn_gsm\n",
      "mms1_mec_bfn_gsm\n",
      "mms1_mec_pmin_gsm\n",
      "mms1_mec_bmin_gsm\n"
     ]
    }
   ],
   "source": [
    "mec_vars = mec(trange=['2015-10-16', '2015-10-17'])"
   ]
  },
  {
   "cell_type": "markdown",
   "metadata": {},
   "source": [
    "## Plot the spacecraft position and velocity in GSE coordinates"
   ]
  },
  {
   "cell_type": "code",
   "execution_count": 3,
   "metadata": {},
   "outputs": [],
   "source": [
    "tplot(['mms1_mec_r_gse', 'mms1_mec_v_gse'])"
   ]
  }
 ],
 "metadata": {
  "kernelspec": {
   "display_name": "Python 3 (ipykernel)",
   "language": "python",
   "name": "python3"
  },
  "language_info": {
   "codemirror_mode": {
    "name": "ipython",
    "version": 3
   },
   "file_extension": ".py",
   "mimetype": "text/x-python",
   "name": "python",
   "nbconvert_exporter": "python",
   "pygments_lexer": "ipython3",
   "version": "3.9.1"
  }
 },
 "nbformat": 4,
 "nbformat_minor": 2
}
