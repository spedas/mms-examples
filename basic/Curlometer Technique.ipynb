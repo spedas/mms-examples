{
 "cells": [
  {
   "cell_type": "markdown",
   "metadata": {},
   "source": [
    "# Curlometer Technique\n",
    "\n",
    "This notebook shows how to calculate div(B), curl(B), total current, perpendicular and parallel currents using the curlometer technique. For more information on this technique, see: \n",
    "\n",
    "Chanteur, G., Spatial Interpolation for Four Spacecraft: Theory, Chapter 14 of Analysis methods for multi-spacecraft data, G. Paschmann and P. W. Daly (Eds.) ISSI Scientific Report SR-001. "
   ]
  },
  {
   "cell_type": "code",
   "execution_count": 1,
   "metadata": {},
   "outputs": [],
   "source": [
    "from pyspedas.mms import mec, fgm, curlometer\n",
    "from pytplot import tplot"
   ]
  },
  {
   "cell_type": "code",
   "execution_count": 2,
   "metadata": {},
   "outputs": [],
   "source": [
    "trange = ['2016-12-09/09:02', '2016-12-09/09:04']"
   ]
  },
  {
   "cell_type": "markdown",
   "metadata": {},
   "source": [
    "Load the FGM data"
   ]
  },
  {
   "cell_type": "code",
   "execution_count": 3,
   "metadata": {},
   "outputs": [
    {
     "name": "stderr",
     "output_type": "stream",
     "text": [
      "21-Jul-21 13:14:12: Loading pydata\\mms1\\fgm\\brst\\l2\\2016\\12\\09\\mms1_fgm_brst_l2_20161209090054_v5.87.0.cdf\n",
      "21-Jul-21 13:14:12: Loading pydata\\mms1\\fgm\\brst\\l2\\2016\\12\\09\\mms1_fgm_brst_l2_20161209090304_v5.87.0.cdf\n",
      "21-Jul-21 13:14:12: Loading pydata\\mms2\\fgm\\brst\\l2\\2016\\12\\09\\mms2_fgm_brst_l2_20161209090054_v5.87.0.cdf\n",
      "21-Jul-21 13:14:12: Loading pydata\\mms2\\fgm\\brst\\l2\\2016\\12\\09\\mms2_fgm_brst_l2_20161209090304_v5.87.0.cdf\n",
      "21-Jul-21 13:14:12: Loading pydata\\mms3\\fgm\\brst\\l2\\2016\\12\\09\\mms3_fgm_brst_l2_20161209090054_v5.87.0.cdf\n",
      "21-Jul-21 13:14:12: Loading pydata\\mms3\\fgm\\brst\\l2\\2016\\12\\09\\mms3_fgm_brst_l2_20161209090304_v5.87.0.cdf\n",
      "21-Jul-21 13:14:12: Loading pydata\\mms4\\fgm\\brst\\l2\\2016\\12\\09\\mms4_fgm_brst_l2_20161209090054_v5.87.0.cdf\n",
      "21-Jul-21 13:14:12: Loading pydata\\mms4\\fgm\\brst\\l2\\2016\\12\\09\\mms4_fgm_brst_l2_20161209090304_v5.87.0.cdf\n",
      "21-Jul-21 13:14:14: Problem splitting variable: mms1_fgm_b_dmpa_brst_l2\n"
     ]
    },
    {
     "name": "stdout",
     "output_type": "stream",
     "text": [
      "Time clip was applied to: mms1_fgm_b_gse_brst_l2\n",
      "Time clip was applied to: mms1_fgm_flag_brst_l2\n",
      "Time clip was applied to: mms1_fgm_r_gse_brst_l2\n",
      "Time clip was applied to: mms2_fgm_b_gse_brst_l2\n",
      "Time clip was applied to: mms2_fgm_flag_brst_l2\n",
      "Time clip was applied to: mms2_fgm_r_gse_brst_l2\n",
      "Time clip was applied to: mms3_fgm_b_gse_brst_l2\n",
      "Time clip was applied to: mms3_fgm_flag_brst_l2\n",
      "Time clip was applied to: mms3_fgm_r_gse_brst_l2\n",
      "Time clip was applied to: mms4_fgm_b_gse_brst_l2\n",
      "Time clip was applied to: mms4_fgm_flag_brst_l2\n",
      "Time clip was applied to: mms4_fgm_r_gse_brst_l2\n",
      "That name is currently not in pytplot\n",
      "That name is currently not in pytplot\n"
     ]
    },
    {
     "name": "stderr",
     "output_type": "stream",
     "text": [
      "21-Jul-21 13:14:14: Problem splitting variable: mms1_fgm_b_gsm_brst_l2\n",
      "21-Jul-21 13:14:14: Problem splitting variable: mms1_fgm_b_bcs_brst_l2\n",
      "21-Jul-21 13:14:14: Problem splitting variable: mms2_fgm_b_dmpa_brst_l2\n",
      "21-Jul-21 13:14:14: Problem splitting variable: mms2_fgm_b_gsm_brst_l2\n",
      "21-Jul-21 13:14:14: Problem splitting variable: mms2_fgm_b_bcs_brst_l2\n",
      "21-Jul-21 13:14:14: Problem splitting variable: mms3_fgm_b_dmpa_brst_l2\n",
      "21-Jul-21 13:14:14: Problem splitting variable: mms3_fgm_b_gsm_brst_l2\n",
      "21-Jul-21 13:14:14: Problem splitting variable: mms3_fgm_b_bcs_brst_l2\n",
      "21-Jul-21 13:14:14: Problem splitting variable: mms4_fgm_b_dmpa_brst_l2\n",
      "21-Jul-21 13:14:14: Problem splitting variable: mms4_fgm_b_gsm_brst_l2\n",
      "21-Jul-21 13:14:14: Problem splitting variable: mms4_fgm_b_bcs_brst_l2\n"
     ]
    },
    {
     "name": "stdout",
     "output_type": "stream",
     "text": [
      "That name is currently not in pytplot\n",
      "That name is currently not in pytplot\n",
      "That name is currently not in pytplot\n",
      "That name is currently not in pytplot\n",
      "That name is currently not in pytplot\n",
      "That name is currently not in pytplot\n",
      "That name is currently not in pytplot\n",
      "That name is currently not in pytplot\n",
      "That name is currently not in pytplot\n",
      "That name is currently not in pytplot\n",
      "That name is currently not in pytplot\n",
      "That name is currently not in pytplot\n",
      "That name is currently not in pytplot\n",
      "That name is currently not in pytplot\n",
      "That name is currently not in pytplot\n",
      "That name is currently not in pytplot\n",
      "That name is currently not in pytplot\n",
      "That name is currently not in pytplot\n",
      "That name is currently not in pytplot\n",
      "That name is currently not in pytplot\n",
      "That name is currently not in pytplot\n",
      "That name is currently not in pytplot\n",
      "Loaded variables:\n",
      "mms1_fgm_b_gse_brst_l2\n",
      "mms1_fgm_r_gse_brst_l2\n",
      "mms2_fgm_b_gse_brst_l2\n",
      "mms2_fgm_r_gse_brst_l2\n",
      "mms3_fgm_b_gse_brst_l2\n",
      "mms3_fgm_r_gse_brst_l2\n",
      "mms4_fgm_b_gse_brst_l2\n",
      "mms4_fgm_r_gse_brst_l2\n",
      "mms1_fgm_b_gse_brst_l2_bvec\n",
      "mms1_fgm_b_gse_brst_l2_btot\n",
      "mms2_fgm_b_gse_brst_l2_bvec\n",
      "mms2_fgm_b_gse_brst_l2_btot\n",
      "mms3_fgm_b_gse_brst_l2_bvec\n",
      "mms3_fgm_b_gse_brst_l2_btot\n",
      "mms4_fgm_b_gse_brst_l2_bvec\n",
      "mms4_fgm_b_gse_brst_l2_btot\n"
     ]
    }
   ],
   "source": [
    "fgm_vars = fgm(probe=[1, 2, 3, 4], trange=trange, data_rate='brst', time_clip=True, varformat='*_gse_*')"
   ]
  },
  {
   "cell_type": "markdown",
   "metadata": {},
   "source": [
    "Load the spacecraft position data"
   ]
  },
  {
   "cell_type": "code",
   "execution_count": 4,
   "metadata": {},
   "outputs": [
    {
     "name": "stderr",
     "output_type": "stream",
     "text": [
      "21-Jul-21 13:14:15: Loading pydata\\mms1\\mec\\brst\\l2\\ephts04d\\2016\\12\\09\\mms1_mec_brst_l2_ephts04d_20161209090055_v2.2.0.cdf\n",
      "21-Jul-21 13:14:15: Loading pydata\\mms1\\mec\\brst\\l2\\ephts04d\\2016\\12\\09\\mms1_mec_brst_l2_ephts04d_20161209090305_v2.2.0.cdf\n",
      "21-Jul-21 13:14:15: Loading pydata\\mms2\\mec\\brst\\l2\\ephts04d\\2016\\12\\09\\mms2_mec_brst_l2_ephts04d_20161209090055_v2.2.0.cdf\n",
      "21-Jul-21 13:14:15: Loading pydata\\mms2\\mec\\brst\\l2\\ephts04d\\2016\\12\\09\\mms2_mec_brst_l2_ephts04d_20161209090305_v2.2.0.cdf\n",
      "21-Jul-21 13:14:15: Loading pydata\\mms3\\mec\\brst\\l2\\ephts04d\\2016\\12\\09\\mms3_mec_brst_l2_ephts04d_20161209090055_v2.2.0.cdf\n",
      "21-Jul-21 13:14:15: Loading pydata\\mms3\\mec\\brst\\l2\\ephts04d\\2016\\12\\09\\mms3_mec_brst_l2_ephts04d_20161209090305_v2.2.0.cdf\n",
      "21-Jul-21 13:14:15: Loading pydata\\mms4\\mec\\brst\\l2\\ephts04d\\2016\\12\\09\\mms4_mec_brst_l2_ephts04d_20161209090055_v2.2.0.cdf\n",
      "21-Jul-21 13:14:15: Loading pydata\\mms4\\mec\\brst\\l2\\ephts04d\\2016\\12\\09\\mms4_mec_brst_l2_ephts04d_20161209090305_v2.2.0.cdf\n"
     ]
    },
    {
     "name": "stdout",
     "output_type": "stream",
     "text": [
      "Time clip was applied to: mms1_mec_r_gse\n",
      "Time clip was applied to: mms1_mec_r_gse2000\n",
      "Time clip was applied to: mms2_mec_r_gse\n",
      "Time clip was applied to: mms2_mec_r_gse2000\n",
      "Time clip was applied to: mms3_mec_r_gse\n",
      "Time clip was applied to: mms3_mec_r_gse2000\n",
      "Time clip was applied to: mms4_mec_r_gse\n",
      "Time clip was applied to: mms4_mec_r_gse2000\n",
      "Loaded variables:\n",
      "mms1_mec_r_gse\n",
      "mms1_mec_r_gse2000\n",
      "mms2_mec_r_gse\n",
      "mms2_mec_r_gse2000\n",
      "mms3_mec_r_gse\n",
      "mms3_mec_r_gse2000\n",
      "mms4_mec_r_gse\n",
      "mms4_mec_r_gse2000\n"
     ]
    }
   ],
   "source": [
    "mec_vars = mec(probe=[1, 2, 3, 4], trange=trange, data_rate='brst', time_clip=True, varformat='*_r_gse')"
   ]
  },
  {
   "cell_type": "markdown",
   "metadata": {},
   "source": [
    "Note: if the position and fields variables are in GSE coordinates, the output vectors will be in GSE coordinates"
   ]
  },
  {
   "cell_type": "code",
   "execution_count": 5,
   "metadata": {},
   "outputs": [],
   "source": [
    "positions = ['mms1_mec_r_gse', 'mms2_mec_r_gse', 'mms3_mec_r_gse', 'mms4_mec_r_gse']\n",
    "fields = ['mms1_fgm_b_gse_brst_l2', 'mms2_fgm_b_gse_brst_l2', 'mms3_fgm_b_gse_brst_l2', 'mms4_fgm_b_gse_brst_l2']"
   ]
  },
  {
   "cell_type": "code",
   "execution_count": 6,
   "metadata": {},
   "outputs": [
    {
     "name": "stdout",
     "output_type": "stream",
     "text": [
      "tinterpol (linear) was applied to: mms2_fgm_b_gse_brst_l2_i\n",
      "tinterpol (linear) was applied to: mms3_fgm_b_gse_brst_l2_i\n",
      "tinterpol (linear) was applied to: mms4_fgm_b_gse_brst_l2_i\n",
      "tinterpol (linear) was applied to: mms1_mec_r_gse_i\n",
      "tinterpol (linear) was applied to: mms2_mec_r_gse_i\n",
      "tinterpol (linear) was applied to: mms3_mec_r_gse_i\n",
      "tinterpol (linear) was applied to: mms4_mec_r_gse_i\n"
     ]
    }
   ],
   "source": [
    "curlometer_vars = curlometer(fields=fields, positions=positions)"
   ]
  },
  {
   "cell_type": "code",
   "execution_count": 7,
   "metadata": {},
   "outputs": [
    {
     "name": "stderr",
     "output_type": "stream",
     "text": [
      "21-Jul-21 13:14:28: c:\\users\\egrimes\\appdata\\local\\programs\\python\\python39\\lib\\site-packages\\pytplot\\QtPlotter\\CustomAxis\\AxisItem.py:180: DeprecationWarning: an integer is required (got type float).  Implicit conversion to integers using __int__ is deprecated, and may be removed in a future version of Python.\n",
      "  color.setAlpha(lineAlpha)\n",
      "\n",
      "21-Jul-21 13:14:28: c:\\users\\egrimes\\appdata\\local\\programs\\python\\python39\\lib\\site-packages\\pytplot\\QtPlotter\\CustomAxis\\AxisItem.py:180: DeprecationWarning: an integer is required (got type float).  Implicit conversion to integers using __int__ is deprecated, and may be removed in a future version of Python.\n",
      "  color.setAlpha(lineAlpha)\n",
      "\n",
      "21-Jul-21 13:14:28: c:\\users\\egrimes\\appdata\\local\\programs\\python\\python39\\lib\\site-packages\\pytplot\\QtPlotter\\CustomAxis\\AxisItem.py:180: DeprecationWarning: an integer is required (got type float).  Implicit conversion to integers using __int__ is deprecated, and may be removed in a future version of Python.\n",
      "  color.setAlpha(lineAlpha)\n",
      "\n",
      "21-Jul-21 13:14:28: c:\\users\\egrimes\\appdata\\local\\programs\\python\\python39\\lib\\site-packages\\pytplot\\QtPlotter\\CustomAxis\\AxisItem.py:180: DeprecationWarning: an integer is required (got type float).  Implicit conversion to integers using __int__ is deprecated, and may be removed in a future version of Python.\n",
      "  color.setAlpha(lineAlpha)\n",
      "\n",
      "21-Jul-21 13:14:28: c:\\users\\egrimes\\appdata\\local\\programs\\python\\python39\\lib\\site-packages\\pytplot\\QtPlotter\\CustomAxis\\AxisItem.py:180: DeprecationWarning: an integer is required (got type float).  Implicit conversion to integers using __int__ is deprecated, and may be removed in a future version of Python.\n",
      "  color.setAlpha(lineAlpha)\n",
      "\n",
      "21-Jul-21 13:14:28: c:\\users\\egrimes\\appdata\\local\\programs\\python\\python39\\lib\\site-packages\\pytplot\\QtPlotter\\CustomAxis\\AxisItem.py:180: DeprecationWarning: an integer is required (got type float).  Implicit conversion to integers using __int__ is deprecated, and may be removed in a future version of Python.\n",
      "  color.setAlpha(lineAlpha)\n",
      "\n",
      "21-Jul-21 13:14:52: c:\\users\\egrimes\\appdata\\local\\programs\\python\\python39\\lib\\site-packages\\pytplot\\QtPlotter\\CustomAxis\\AxisItem.py:180: DeprecationWarning: an integer is required (got type float).  Implicit conversion to integers using __int__ is deprecated, and may be removed in a future version of Python.\n",
      "  color.setAlpha(lineAlpha)\n",
      "\n",
      "21-Jul-21 13:14:52: c:\\users\\egrimes\\appdata\\local\\programs\\python\\python39\\lib\\site-packages\\pytplot\\QtPlotter\\CustomAxis\\AxisItem.py:180: DeprecationWarning: an integer is required (got type float).  Implicit conversion to integers using __int__ is deprecated, and may be removed in a future version of Python.\n",
      "  color.setAlpha(lineAlpha)\n",
      "\n",
      "21-Jul-21 13:14:52: c:\\users\\egrimes\\appdata\\local\\programs\\python\\python39\\lib\\site-packages\\pytplot\\QtPlotter\\CustomAxis\\AxisItem.py:180: DeprecationWarning: an integer is required (got type float).  Implicit conversion to integers using __int__ is deprecated, and may be removed in a future version of Python.\n",
      "  color.setAlpha(lineAlpha)\n",
      "\n",
      "21-Jul-21 13:14:52: c:\\users\\egrimes\\appdata\\local\\programs\\python\\python39\\lib\\site-packages\\pytplot\\QtPlotter\\CustomAxis\\AxisItem.py:180: DeprecationWarning: an integer is required (got type float).  Implicit conversion to integers using __int__ is deprecated, and may be removed in a future version of Python.\n",
      "  color.setAlpha(lineAlpha)\n",
      "\n",
      "21-Jul-21 13:14:52: c:\\users\\egrimes\\appdata\\local\\programs\\python\\python39\\lib\\site-packages\\pytplot\\QtPlotter\\CustomAxis\\AxisItem.py:180: DeprecationWarning: an integer is required (got type float).  Implicit conversion to integers using __int__ is deprecated, and may be removed in a future version of Python.\n",
      "  color.setAlpha(lineAlpha)\n",
      "\n",
      "21-Jul-21 13:14:52: c:\\users\\egrimes\\appdata\\local\\programs\\python\\python39\\lib\\site-packages\\pytplot\\QtPlotter\\CustomAxis\\AxisItem.py:180: DeprecationWarning: an integer is required (got type float).  Implicit conversion to integers using __int__ is deprecated, and may be removed in a future version of Python.\n",
      "  color.setAlpha(lineAlpha)\n",
      "\n",
      "21-Jul-21 13:14:52: c:\\users\\egrimes\\appdata\\local\\programs\\python\\python39\\lib\\site-packages\\pytplot\\QtPlotter\\CustomAxis\\AxisItem.py:180: DeprecationWarning: an integer is required (got type float).  Implicit conversion to integers using __int__ is deprecated, and may be removed in a future version of Python.\n",
      "  color.setAlpha(lineAlpha)\n",
      "\n",
      "21-Jul-21 13:14:52: c:\\users\\egrimes\\appdata\\local\\programs\\python\\python39\\lib\\site-packages\\pytplot\\QtPlotter\\CustomAxis\\AxisItem.py:180: DeprecationWarning: an integer is required (got type float).  Implicit conversion to integers using __int__ is deprecated, and may be removed in a future version of Python.\n",
      "  color.setAlpha(lineAlpha)\n",
      "\n",
      "21-Jul-21 13:14:52: c:\\users\\egrimes\\appdata\\local\\programs\\python\\python39\\lib\\site-packages\\pytplot\\QtPlotter\\CustomAxis\\AxisItem.py:180: DeprecationWarning: an integer is required (got type float).  Implicit conversion to integers using __int__ is deprecated, and may be removed in a future version of Python.\n",
      "  color.setAlpha(lineAlpha)\n",
      "\n",
      "21-Jul-21 13:14:52: c:\\users\\egrimes\\appdata\\local\\programs\\python\\python39\\lib\\site-packages\\pytplot\\QtPlotter\\CustomAxis\\AxisItem.py:180: DeprecationWarning: an integer is required (got type float).  Implicit conversion to integers using __int__ is deprecated, and may be removed in a future version of Python.\n",
      "  color.setAlpha(lineAlpha)\n",
      "\n",
      "21-Jul-21 13:14:52: c:\\users\\egrimes\\appdata\\local\\programs\\python\\python39\\lib\\site-packages\\pytplot\\QtPlotter\\CustomAxis\\AxisItem.py:180: DeprecationWarning: an integer is required (got type float).  Implicit conversion to integers using __int__ is deprecated, and may be removed in a future version of Python.\n",
      "  color.setAlpha(lineAlpha)\n",
      "\n",
      "21-Jul-21 13:14:52: c:\\users\\egrimes\\appdata\\local\\programs\\python\\python39\\lib\\site-packages\\pytplot\\QtPlotter\\CustomAxis\\AxisItem.py:180: DeprecationWarning: an integer is required (got type float).  Implicit conversion to integers using __int__ is deprecated, and may be removed in a future version of Python.\n",
      "  color.setAlpha(lineAlpha)\n",
      "\n",
      "21-Jul-21 13:14:53: c:\\users\\egrimes\\appdata\\local\\programs\\python\\python39\\lib\\site-packages\\pytplot\\QtPlotter\\CustomAxis\\AxisItem.py:180: DeprecationWarning: an integer is required (got type float).  Implicit conversion to integers using __int__ is deprecated, and may be removed in a future version of Python.\n",
      "  color.setAlpha(lineAlpha)\n",
      "\n",
      "21-Jul-21 13:14:53: c:\\users\\egrimes\\appdata\\local\\programs\\python\\python39\\lib\\site-packages\\pytplot\\QtPlotter\\CustomAxis\\AxisItem.py:180: DeprecationWarning: an integer is required (got type float).  Implicit conversion to integers using __int__ is deprecated, and may be removed in a future version of Python.\n",
      "  color.setAlpha(lineAlpha)\n",
      "\n",
      "21-Jul-21 13:14:53: c:\\users\\egrimes\\appdata\\local\\programs\\python\\python39\\lib\\site-packages\\pytplot\\QtPlotter\\CustomAxis\\AxisItem.py:180: DeprecationWarning: an integer is required (got type float).  Implicit conversion to integers using __int__ is deprecated, and may be removed in a future version of Python.\n",
      "  color.setAlpha(lineAlpha)\n",
      "\n",
      "21-Jul-21 13:14:53: c:\\users\\egrimes\\appdata\\local\\programs\\python\\python39\\lib\\site-packages\\pytplot\\QtPlotter\\CustomAxis\\AxisItem.py:180: DeprecationWarning: an integer is required (got type float).  Implicit conversion to integers using __int__ is deprecated, and may be removed in a future version of Python.\n",
      "  color.setAlpha(lineAlpha)\n",
      "\n",
      "21-Jul-21 13:14:53: c:\\users\\egrimes\\appdata\\local\\programs\\python\\python39\\lib\\site-packages\\pytplot\\QtPlotter\\CustomAxis\\AxisItem.py:180: DeprecationWarning: an integer is required (got type float).  Implicit conversion to integers using __int__ is deprecated, and may be removed in a future version of Python.\n",
      "  color.setAlpha(lineAlpha)\n",
      "\n",
      "21-Jul-21 13:14:53: c:\\users\\egrimes\\appdata\\local\\programs\\python\\python39\\lib\\site-packages\\pytplot\\QtPlotter\\CustomAxis\\AxisItem.py:180: DeprecationWarning: an integer is required (got type float).  Implicit conversion to integers using __int__ is deprecated, and may be removed in a future version of Python.\n",
      "  color.setAlpha(lineAlpha)\n",
      "\n"
     ]
    },
    {
     "name": "stderr",
     "output_type": "stream",
     "text": [
      "21-Jul-21 13:14:53: c:\\users\\egrimes\\appdata\\local\\programs\\python\\python39\\lib\\site-packages\\pytplot\\QtPlotter\\CustomAxis\\AxisItem.py:180: DeprecationWarning: an integer is required (got type float).  Implicit conversion to integers using __int__ is deprecated, and may be removed in a future version of Python.\n",
      "  color.setAlpha(lineAlpha)\n",
      "\n",
      "21-Jul-21 13:14:53: c:\\users\\egrimes\\appdata\\local\\programs\\python\\python39\\lib\\site-packages\\pytplot\\QtPlotter\\CustomAxis\\AxisItem.py:180: DeprecationWarning: an integer is required (got type float).  Implicit conversion to integers using __int__ is deprecated, and may be removed in a future version of Python.\n",
      "  color.setAlpha(lineAlpha)\n",
      "\n",
      "21-Jul-21 13:14:53: c:\\users\\egrimes\\appdata\\local\\programs\\python\\python39\\lib\\site-packages\\pytplot\\QtPlotter\\CustomAxis\\AxisItem.py:180: DeprecationWarning: an integer is required (got type float).  Implicit conversion to integers using __int__ is deprecated, and may be removed in a future version of Python.\n",
      "  color.setAlpha(lineAlpha)\n",
      "\n",
      "21-Jul-21 13:14:53: c:\\users\\egrimes\\appdata\\local\\programs\\python\\python39\\lib\\site-packages\\pytplot\\QtPlotter\\CustomAxis\\AxisItem.py:180: DeprecationWarning: an integer is required (got type float).  Implicit conversion to integers using __int__ is deprecated, and may be removed in a future version of Python.\n",
      "  color.setAlpha(lineAlpha)\n",
      "\n",
      "21-Jul-21 13:14:53: c:\\users\\egrimes\\appdata\\local\\programs\\python\\python39\\lib\\site-packages\\pytplot\\QtPlotter\\CustomAxis\\AxisItem.py:180: DeprecationWarning: an integer is required (got type float).  Implicit conversion to integers using __int__ is deprecated, and may be removed in a future version of Python.\n",
      "  color.setAlpha(lineAlpha)\n",
      "\n",
      "21-Jul-21 13:14:53: c:\\users\\egrimes\\appdata\\local\\programs\\python\\python39\\lib\\site-packages\\pytplot\\QtPlotter\\CustomAxis\\AxisItem.py:180: DeprecationWarning: an integer is required (got type float).  Implicit conversion to integers using __int__ is deprecated, and may be removed in a future version of Python.\n",
      "  color.setAlpha(lineAlpha)\n",
      "\n",
      "21-Jul-21 13:14:53: c:\\users\\egrimes\\appdata\\local\\programs\\python\\python39\\lib\\site-packages\\pytplot\\QtPlotter\\CustomAxis\\AxisItem.py:180: DeprecationWarning: an integer is required (got type float).  Implicit conversion to integers using __int__ is deprecated, and may be removed in a future version of Python.\n",
      "  color.setAlpha(lineAlpha)\n",
      "\n",
      "21-Jul-21 13:14:53: c:\\users\\egrimes\\appdata\\local\\programs\\python\\python39\\lib\\site-packages\\pytplot\\QtPlotter\\CustomAxis\\AxisItem.py:180: DeprecationWarning: an integer is required (got type float).  Implicit conversion to integers using __int__ is deprecated, and may be removed in a future version of Python.\n",
      "  color.setAlpha(lineAlpha)\n",
      "\n",
      "21-Jul-21 13:14:53: c:\\users\\egrimes\\appdata\\local\\programs\\python\\python39\\lib\\site-packages\\pytplot\\QtPlotter\\CustomAxis\\AxisItem.py:180: DeprecationWarning: an integer is required (got type float).  Implicit conversion to integers using __int__ is deprecated, and may be removed in a future version of Python.\n",
      "  color.setAlpha(lineAlpha)\n",
      "\n",
      "21-Jul-21 13:14:53: c:\\users\\egrimes\\appdata\\local\\programs\\python\\python39\\lib\\site-packages\\pytplot\\QtPlotter\\CustomAxis\\AxisItem.py:180: DeprecationWarning: an integer is required (got type float).  Implicit conversion to integers using __int__ is deprecated, and may be removed in a future version of Python.\n",
      "  color.setAlpha(lineAlpha)\n",
      "\n",
      "21-Jul-21 13:14:53: c:\\users\\egrimes\\appdata\\local\\programs\\python\\python39\\lib\\site-packages\\pytplot\\QtPlotter\\CustomAxis\\AxisItem.py:180: DeprecationWarning: an integer is required (got type float).  Implicit conversion to integers using __int__ is deprecated, and may be removed in a future version of Python.\n",
      "  color.setAlpha(lineAlpha)\n",
      "\n",
      "21-Jul-21 13:14:53: c:\\users\\egrimes\\appdata\\local\\programs\\python\\python39\\lib\\site-packages\\pytplot\\QtPlotter\\CustomAxis\\AxisItem.py:180: DeprecationWarning: an integer is required (got type float).  Implicit conversion to integers using __int__ is deprecated, and may be removed in a future version of Python.\n",
      "  color.setAlpha(lineAlpha)\n",
      "\n",
      "21-Jul-21 13:14:54: c:\\users\\egrimes\\appdata\\local\\programs\\python\\python39\\lib\\site-packages\\pytplot\\QtPlotter\\CustomAxis\\AxisItem.py:180: DeprecationWarning: an integer is required (got type float).  Implicit conversion to integers using __int__ is deprecated, and may be removed in a future version of Python.\n",
      "  color.setAlpha(lineAlpha)\n",
      "\n",
      "21-Jul-21 13:14:54: c:\\users\\egrimes\\appdata\\local\\programs\\python\\python39\\lib\\site-packages\\pytplot\\QtPlotter\\CustomAxis\\AxisItem.py:180: DeprecationWarning: an integer is required (got type float).  Implicit conversion to integers using __int__ is deprecated, and may be removed in a future version of Python.\n",
      "  color.setAlpha(lineAlpha)\n",
      "\n",
      "21-Jul-21 13:14:54: c:\\users\\egrimes\\appdata\\local\\programs\\python\\python39\\lib\\site-packages\\pytplot\\QtPlotter\\CustomAxis\\AxisItem.py:180: DeprecationWarning: an integer is required (got type float).  Implicit conversion to integers using __int__ is deprecated, and may be removed in a future version of Python.\n",
      "  color.setAlpha(lineAlpha)\n",
      "\n",
      "21-Jul-21 13:14:54: c:\\users\\egrimes\\appdata\\local\\programs\\python\\python39\\lib\\site-packages\\pytplot\\QtPlotter\\CustomAxis\\AxisItem.py:180: DeprecationWarning: an integer is required (got type float).  Implicit conversion to integers using __int__ is deprecated, and may be removed in a future version of Python.\n",
      "  color.setAlpha(lineAlpha)\n",
      "\n",
      "21-Jul-21 13:14:54: c:\\users\\egrimes\\appdata\\local\\programs\\python\\python39\\lib\\site-packages\\pytplot\\QtPlotter\\CustomAxis\\AxisItem.py:180: DeprecationWarning: an integer is required (got type float).  Implicit conversion to integers using __int__ is deprecated, and may be removed in a future version of Python.\n",
      "  color.setAlpha(lineAlpha)\n",
      "\n",
      "21-Jul-21 13:14:54: c:\\users\\egrimes\\appdata\\local\\programs\\python\\python39\\lib\\site-packages\\pytplot\\QtPlotter\\CustomAxis\\AxisItem.py:180: DeprecationWarning: an integer is required (got type float).  Implicit conversion to integers using __int__ is deprecated, and may be removed in a future version of Python.\n",
      "  color.setAlpha(lineAlpha)\n",
      "\n",
      "21-Jul-21 13:14:54: c:\\users\\egrimes\\appdata\\local\\programs\\python\\python39\\lib\\site-packages\\pytplot\\QtPlotter\\CustomAxis\\AxisItem.py:180: DeprecationWarning: an integer is required (got type float).  Implicit conversion to integers using __int__ is deprecated, and may be removed in a future version of Python.\n",
      "  color.setAlpha(lineAlpha)\n",
      "\n",
      "21-Jul-21 13:14:54: c:\\users\\egrimes\\appdata\\local\\programs\\python\\python39\\lib\\site-packages\\pytplot\\QtPlotter\\CustomAxis\\AxisItem.py:180: DeprecationWarning: an integer is required (got type float).  Implicit conversion to integers using __int__ is deprecated, and may be removed in a future version of Python.\n",
      "  color.setAlpha(lineAlpha)\n",
      "\n",
      "21-Jul-21 13:14:54: c:\\users\\egrimes\\appdata\\local\\programs\\python\\python39\\lib\\site-packages\\pytplot\\QtPlotter\\CustomAxis\\AxisItem.py:180: DeprecationWarning: an integer is required (got type float).  Implicit conversion to integers using __int__ is deprecated, and may be removed in a future version of Python.\n",
      "  color.setAlpha(lineAlpha)\n",
      "\n",
      "21-Jul-21 13:14:54: c:\\users\\egrimes\\appdata\\local\\programs\\python\\python39\\lib\\site-packages\\pytplot\\QtPlotter\\CustomAxis\\AxisItem.py:180: DeprecationWarning: an integer is required (got type float).  Implicit conversion to integers using __int__ is deprecated, and may be removed in a future version of Python.\n",
      "  color.setAlpha(lineAlpha)\n",
      "\n",
      "21-Jul-21 13:14:54: c:\\users\\egrimes\\appdata\\local\\programs\\python\\python39\\lib\\site-packages\\pytplot\\QtPlotter\\CustomAxis\\AxisItem.py:180: DeprecationWarning: an integer is required (got type float).  Implicit conversion to integers using __int__ is deprecated, and may be removed in a future version of Python.\n",
      "  color.setAlpha(lineAlpha)\n",
      "\n",
      "21-Jul-21 13:14:54: c:\\users\\egrimes\\appdata\\local\\programs\\python\\python39\\lib\\site-packages\\pytplot\\QtPlotter\\CustomAxis\\AxisItem.py:180: DeprecationWarning: an integer is required (got type float).  Implicit conversion to integers using __int__ is deprecated, and may be removed in a future version of Python.\n",
      "  color.setAlpha(lineAlpha)\n",
      "\n"
     ]
    },
    {
     "name": "stderr",
     "output_type": "stream",
     "text": [
      "21-Jul-21 13:14:54: c:\\users\\egrimes\\appdata\\local\\programs\\python\\python39\\lib\\site-packages\\pytplot\\QtPlotter\\CustomAxis\\AxisItem.py:180: DeprecationWarning: an integer is required (got type float).  Implicit conversion to integers using __int__ is deprecated, and may be removed in a future version of Python.\n",
      "  color.setAlpha(lineAlpha)\n",
      "\n",
      "21-Jul-21 13:14:54: c:\\users\\egrimes\\appdata\\local\\programs\\python\\python39\\lib\\site-packages\\pytplot\\QtPlotter\\CustomAxis\\AxisItem.py:180: DeprecationWarning: an integer is required (got type float).  Implicit conversion to integers using __int__ is deprecated, and may be removed in a future version of Python.\n",
      "  color.setAlpha(lineAlpha)\n",
      "\n",
      "21-Jul-21 13:14:54: c:\\users\\egrimes\\appdata\\local\\programs\\python\\python39\\lib\\site-packages\\pytplot\\QtPlotter\\CustomAxis\\AxisItem.py:180: DeprecationWarning: an integer is required (got type float).  Implicit conversion to integers using __int__ is deprecated, and may be removed in a future version of Python.\n",
      "  color.setAlpha(lineAlpha)\n",
      "\n",
      "21-Jul-21 13:14:54: c:\\users\\egrimes\\appdata\\local\\programs\\python\\python39\\lib\\site-packages\\pytplot\\QtPlotter\\CustomAxis\\AxisItem.py:180: DeprecationWarning: an integer is required (got type float).  Implicit conversion to integers using __int__ is deprecated, and may be removed in a future version of Python.\n",
      "  color.setAlpha(lineAlpha)\n",
      "\n",
      "21-Jul-21 13:14:54: c:\\users\\egrimes\\appdata\\local\\programs\\python\\python39\\lib\\site-packages\\pytplot\\QtPlotter\\CustomAxis\\AxisItem.py:180: DeprecationWarning: an integer is required (got type float).  Implicit conversion to integers using __int__ is deprecated, and may be removed in a future version of Python.\n",
      "  color.setAlpha(lineAlpha)\n",
      "\n",
      "21-Jul-21 13:14:54: c:\\users\\egrimes\\appdata\\local\\programs\\python\\python39\\lib\\site-packages\\pytplot\\QtPlotter\\CustomAxis\\AxisItem.py:180: DeprecationWarning: an integer is required (got type float).  Implicit conversion to integers using __int__ is deprecated, and may be removed in a future version of Python.\n",
      "  color.setAlpha(lineAlpha)\n",
      "\n",
      "21-Jul-21 13:14:54: c:\\users\\egrimes\\appdata\\local\\programs\\python\\python39\\lib\\site-packages\\pytplot\\QtPlotter\\CustomAxis\\AxisItem.py:180: DeprecationWarning: an integer is required (got type float).  Implicit conversion to integers using __int__ is deprecated, and may be removed in a future version of Python.\n",
      "  color.setAlpha(lineAlpha)\n",
      "\n",
      "21-Jul-21 13:14:54: c:\\users\\egrimes\\appdata\\local\\programs\\python\\python39\\lib\\site-packages\\pytplot\\QtPlotter\\CustomAxis\\AxisItem.py:180: DeprecationWarning: an integer is required (got type float).  Implicit conversion to integers using __int__ is deprecated, and may be removed in a future version of Python.\n",
      "  color.setAlpha(lineAlpha)\n",
      "\n",
      "21-Jul-21 13:14:54: c:\\users\\egrimes\\appdata\\local\\programs\\python\\python39\\lib\\site-packages\\pytplot\\QtPlotter\\CustomAxis\\AxisItem.py:180: DeprecationWarning: an integer is required (got type float).  Implicit conversion to integers using __int__ is deprecated, and may be removed in a future version of Python.\n",
      "  color.setAlpha(lineAlpha)\n",
      "\n",
      "21-Jul-21 13:14:54: c:\\users\\egrimes\\appdata\\local\\programs\\python\\python39\\lib\\site-packages\\pytplot\\QtPlotter\\CustomAxis\\AxisItem.py:180: DeprecationWarning: an integer is required (got type float).  Implicit conversion to integers using __int__ is deprecated, and may be removed in a future version of Python.\n",
      "  color.setAlpha(lineAlpha)\n",
      "\n",
      "21-Jul-21 13:14:54: c:\\users\\egrimes\\appdata\\local\\programs\\python\\python39\\lib\\site-packages\\pytplot\\QtPlotter\\CustomAxis\\AxisItem.py:180: DeprecationWarning: an integer is required (got type float).  Implicit conversion to integers using __int__ is deprecated, and may be removed in a future version of Python.\n",
      "  color.setAlpha(lineAlpha)\n",
      "\n",
      "21-Jul-21 13:14:54: c:\\users\\egrimes\\appdata\\local\\programs\\python\\python39\\lib\\site-packages\\pytplot\\QtPlotter\\CustomAxis\\AxisItem.py:180: DeprecationWarning: an integer is required (got type float).  Implicit conversion to integers using __int__ is deprecated, and may be removed in a future version of Python.\n",
      "  color.setAlpha(lineAlpha)\n",
      "\n"
     ]
    }
   ],
   "source": [
    "tplot(['divB', 'curlB', 'jtotal', 'jperp', 'jpar', 'baryb'])"
   ]
  }
 ],
 "metadata": {
  "kernelspec": {
   "display_name": "Python 3 (ipykernel)",
   "language": "python",
   "name": "python3"
  },
  "language_info": {
   "codemirror_mode": {
    "name": "ipython",
    "version": 3
   },
   "file_extension": ".py",
   "mimetype": "text/x-python",
   "name": "python",
   "nbconvert_exporter": "python",
   "pygments_lexer": "ipython3",
   "version": "3.9.1"
  }
 },
 "nbformat": 4,
 "nbformat_minor": 2
}
