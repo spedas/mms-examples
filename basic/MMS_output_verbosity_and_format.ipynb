{
 "nbformat": 4,
 "nbformat_minor": 0,
 "metadata": {
  "colab": {
   "provenance": []
  },
  "kernelspec": {
   "name": "python3",
   "display_name": "Python 3"
  },
  "language_info": {
   "name": "python"
  }
 },
 "cells": [
  {
   "cell_type": "markdown",
   "source": [
    "## MMS verbosity and logging format\n",
    "\n",
    "This notebook shows how to change the verbosity and format of the output for the MMS load routines in PySPEDAS"
   ],
   "metadata": {
    "id": "oRaD8PVrmMt3"
   }
  },
  {
   "cell_type": "markdown",
   "source": [
    "This command sets up the PySPEDAS environment when running in Google Colab.  You can skip it or comment it out if you're running this notebook in an environment that already has PySPEDAS installed.\n"
   ],
   "metadata": {
    "collapsed": false
   }
  },
  {
   "cell_type": "code",
   "execution_count": null,
   "metadata": {
    "id": "eYJxCMpxk5xm"
   },
   "outputs": [],
   "source": [
    "!pip install pyspedas"
   ]
  },
  {
   "cell_type": "markdown",
   "source": [
    "### Change the logging level to show only warnings and errors\n",
    "\n",
    "Notes: \n",
    "- this should always be set prior to importing `pyspedas`\n",
    "- this is the lowest level to show, so, e.g., if you set it to `info`, it'll show info messages, debug messages, warning messages, and error messages; if you set it to `warning`, it'll only show warnings and errors; if you set it to `error`, it'll only show errors"
   ],
   "metadata": {
    "id": "C0T4iKVkmu9_"
   }
  },
  {
   "cell_type": "code",
   "source": [
    "%env PYTPLOT_LOGGING_LEVEL=warning"
   ],
   "metadata": {
    "colab": {
     "base_uri": "https://localhost:8080/"
    },
    "id": "p94HemO0o2Wx",
    "outputId": "6bb5bf30-e664-4254-d052-87cd76c24b12"
   },
   "execution_count": 2,
   "outputs": [
    {
     "output_type": "stream",
     "name": "stdout",
     "text": [
      "env: PYTPLOT_LOGGING_LEVEL=warning\n"
     ]
    }
   ]
  },
  {
   "cell_type": "code",
   "source": [
    "import pyspedas"
   ],
   "metadata": {
    "id": "N4lC3B6Wlt39"
   },
   "execution_count": 3,
   "outputs": []
  },
  {
   "cell_type": "code",
   "source": [
    "pyspedas.mms.fgm()"
   ],
   "metadata": {
    "colab": {
     "base_uri": "https://localhost:8080/"
    },
    "id": "f76OHGillyNZ",
    "outputId": "1107d07e-73f9-4768-e031-5a37120a5404"
   },
   "execution_count": 4,
   "outputs": [
    {
     "name": "stdout",
     "output_type": "stream",
     "text": [
      "SDC username (blank for public access): \n"
     ]
    },
    {
     "output_type": "stream",
     "name": "stderr",
     "text": [
      "13-Apr-23 17:30:46: mms1_fgm_rdeltahalf_srvy_l2: lengths of x (2883) and y (1024832) do not match!\n"
     ]
    },
    {
     "output_type": "execute_result",
     "data": {
      "text/plain": [
       "['Epoch',\n",
       " 'mms1_fgm_b_gse_srvy_l2',\n",
       " 'mms1_fgm_b_gsm_srvy_l2',\n",
       " 'mms1_fgm_b_dmpa_srvy_l2',\n",
       " 'mms1_fgm_b_bcs_srvy_l2',\n",
       " 'mms1_fgm_flag_srvy_l2',\n",
       " 'Epoch_state',\n",
       " 'mms1_fgm_hirange_srvy_l2',\n",
       " 'mms1_fgm_bdeltahalf_srvy_l2',\n",
       " 'mms1_fgm_stemp_srvy_l2',\n",
       " 'mms1_fgm_etemp_srvy_l2',\n",
       " 'mms1_fgm_mode_srvy_l2',\n",
       " 'mms1_fgm_rdeltahalf_srvy_l2',\n",
       " 'mms1_fgm_b_dmpa_srvy_l2_bvec',\n",
       " 'mms1_fgm_b_dmpa_srvy_l2_btot',\n",
       " 'mms1_fgm_b_gse_srvy_l2_bvec',\n",
       " 'mms1_fgm_b_gse_srvy_l2_btot',\n",
       " 'mms1_fgm_b_gsm_srvy_l2_bvec',\n",
       " 'mms1_fgm_b_gsm_srvy_l2_btot',\n",
       " 'mms1_fgm_b_bcs_srvy_l2_bvec',\n",
       " 'mms1_fgm_b_bcs_srvy_l2_btot']"
      ]
     },
     "metadata": {},
     "execution_count": 4
    }
   ]
  },
  {
   "cell_type": "markdown",
   "source": [
    "Exit here, so that we can reset the environment variables; this is required to change settings that we set via environment variables"
   ],
   "metadata": {
    "id": "EYE7oA90m59x"
   }
  },
  {
   "cell_type": "code",
   "source": [
    "exit()"
   ],
   "metadata": {
    "id": "ZiXs7AiFl9cP"
   },
   "execution_count": 5,
   "outputs": []
  },
  {
   "cell_type": "markdown",
   "source": [
    "This time, use the default logging level (`info`), but change the date/time format to only include the current time"
   ],
   "metadata": {
    "id": "lFdbppbXm-A-"
   }
  },
  {
   "cell_type": "code",
   "source": [
    "%env PYTPLOT_LOGGING_DATE_FORMAT=%H:%M:%S\n",
    "%env PYTPLOT_LOGGING_LEVEL=info"
   ],
   "metadata": {
    "colab": {
     "base_uri": "https://localhost:8080/"
    },
    "id": "qjcQdkLgpic-",
    "outputId": "b0b9cebf-8b20-4abd-fe63-33b4c5313b08"
   },
   "execution_count": 1,
   "outputs": [
    {
     "output_type": "stream",
     "name": "stdout",
     "text": [
      "env: PYTPLOT_LOGGING_DATE_FORMAT=%H:%M:%S\n",
      "env: PYTPLOT_LOGGING_LEVEL=info\n"
     ]
    }
   ]
  },
  {
   "cell_type": "code",
   "source": [
    "import pyspedas"
   ],
   "metadata": {
    "id": "STGEaypumm57"
   },
   "execution_count": 2,
   "outputs": []
  },
  {
   "cell_type": "code",
   "source": [
    "pyspedas.mms.fgm()"
   ],
   "metadata": {
    "colab": {
     "base_uri": "https://localhost:8080/"
    },
    "id": "6AApNKbcmnyV",
    "outputId": "c89b439c-c0fb-471e-d4e7-cfa09fe0c184"
   },
   "execution_count": 3,
   "outputs": [
    {
     "output_type": "stream",
     "name": "stderr",
     "text": [
      "17:32:08: Loading pydata/mms1/fgm/srvy/l2/2015/10/mms1_fgm_srvy_l2_20151016_v4.18.0.cdf\n",
      "17:32:14: mms1_fgm_rdeltahalf_srvy_l2: lengths of x (2883) and y (1024832) do not match!\n",
      "17:32:14: mms1_fgm_rdeltahalf_srvy_l2 is currently not in pytplot.\n",
      "17:32:14: mms1_fgm_rdeltahalf_srvy_l2 is currently not in pytplot.\n",
      "17:32:14: mms1_fgm_rdeltahalf_srvy_l2 is currently not in pytplot.\n",
      "17:32:14: mms1_fgm_rdeltahalf_srvy_l2 is currently not in pytplot.\n",
      "17:32:14: Loaded variables:\n",
      "17:32:14: Epoch\n",
      "17:32:14: mms1_fgm_b_gse_srvy_l2\n",
      "17:32:14: mms1_fgm_b_gsm_srvy_l2\n",
      "17:32:14: mms1_fgm_b_dmpa_srvy_l2\n",
      "17:32:14: mms1_fgm_b_bcs_srvy_l2\n",
      "17:32:14: mms1_fgm_flag_srvy_l2\n",
      "17:32:14: Epoch_state\n",
      "17:32:14: mms1_fgm_hirange_srvy_l2\n",
      "17:32:14: mms1_fgm_bdeltahalf_srvy_l2\n",
      "17:32:14: mms1_fgm_stemp_srvy_l2\n",
      "17:32:14: mms1_fgm_etemp_srvy_l2\n",
      "17:32:14: mms1_fgm_mode_srvy_l2\n",
      "17:32:14: mms1_fgm_rdeltahalf_srvy_l2\n",
      "17:32:14: mms1_fgm_b_dmpa_srvy_l2_bvec\n",
      "17:32:14: mms1_fgm_b_dmpa_srvy_l2_btot\n",
      "17:32:14: mms1_fgm_b_gse_srvy_l2_bvec\n",
      "17:32:14: mms1_fgm_b_gse_srvy_l2_btot\n",
      "17:32:14: mms1_fgm_b_gsm_srvy_l2_bvec\n",
      "17:32:14: mms1_fgm_b_gsm_srvy_l2_btot\n",
      "17:32:14: mms1_fgm_b_bcs_srvy_l2_bvec\n",
      "17:32:14: mms1_fgm_b_bcs_srvy_l2_btot\n"
     ]
    },
    {
     "output_type": "execute_result",
     "data": {
      "text/plain": [
       "['Epoch',\n",
       " 'mms1_fgm_b_gse_srvy_l2',\n",
       " 'mms1_fgm_b_gsm_srvy_l2',\n",
       " 'mms1_fgm_b_dmpa_srvy_l2',\n",
       " 'mms1_fgm_b_bcs_srvy_l2',\n",
       " 'mms1_fgm_flag_srvy_l2',\n",
       " 'Epoch_state',\n",
       " 'mms1_fgm_hirange_srvy_l2',\n",
       " 'mms1_fgm_bdeltahalf_srvy_l2',\n",
       " 'mms1_fgm_stemp_srvy_l2',\n",
       " 'mms1_fgm_etemp_srvy_l2',\n",
       " 'mms1_fgm_mode_srvy_l2',\n",
       " 'mms1_fgm_rdeltahalf_srvy_l2',\n",
       " 'mms1_fgm_b_dmpa_srvy_l2_bvec',\n",
       " 'mms1_fgm_b_dmpa_srvy_l2_btot',\n",
       " 'mms1_fgm_b_gse_srvy_l2_bvec',\n",
       " 'mms1_fgm_b_gse_srvy_l2_btot',\n",
       " 'mms1_fgm_b_gsm_srvy_l2_bvec',\n",
       " 'mms1_fgm_b_gsm_srvy_l2_btot',\n",
       " 'mms1_fgm_b_bcs_srvy_l2_bvec',\n",
       " 'mms1_fgm_b_bcs_srvy_l2_btot']"
      ]
     },
     "metadata": {},
     "execution_count": 3
    }
   ]
  },
  {
   "cell_type": "code",
   "source": [
    "exit()"
   ],
   "metadata": {
    "id": "UBdOhr-UnRzT"
   },
   "execution_count": 4,
   "outputs": []
  },
  {
   "cell_type": "markdown",
   "source": [
    "### Now only show errors"
   ],
   "metadata": {
    "id": "JK9lI-lmoCg9"
   }
  },
  {
   "cell_type": "code",
   "source": [
    "%env PYTPLOT_LOGGING_LEVEL=error"
   ],
   "metadata": {
    "colab": {
     "base_uri": "https://localhost:8080/"
    },
    "id": "pxsJ9_azospm",
    "outputId": "56371dfd-1c99-49b2-e504-f512528b9fc6"
   },
   "execution_count": 1,
   "outputs": [
    {
     "output_type": "stream",
     "name": "stdout",
     "text": [
      "env: PYTPLOT_LOGGING_LEVEL=error\n"
     ]
    }
   ]
  },
  {
   "cell_type": "code",
   "source": [
    "import pyspedas"
   ],
   "metadata": {
    "id": "dOowSbmPnW_i"
   },
   "execution_count": 2,
   "outputs": []
  },
  {
   "cell_type": "markdown",
   "source": [
    "Note: this time, we don't even get the warning about the mismatched dimensions in `mms1_fgm_rdeltahalf_srvy_l2`"
   ],
   "metadata": {
    "id": "Brm8frmNrdqR"
   }
  },
  {
   "cell_type": "code",
   "source": [
    "pyspedas.mms.fgm()"
   ],
   "metadata": {
    "colab": {
     "base_uri": "https://localhost:8080/"
    },
    "id": "q9vnXKF8nX4d",
    "outputId": "18671636-c129-41ae-b23f-0a812e7b57a9"
   },
   "execution_count": 3,
   "outputs": [
    {
     "output_type": "execute_result",
     "data": {
      "text/plain": [
       "['Epoch',\n",
       " 'mms1_fgm_b_gse_srvy_l2',\n",
       " 'mms1_fgm_b_gsm_srvy_l2',\n",
       " 'mms1_fgm_b_dmpa_srvy_l2',\n",
       " 'mms1_fgm_b_bcs_srvy_l2',\n",
       " 'mms1_fgm_flag_srvy_l2',\n",
       " 'Epoch_state',\n",
       " 'mms1_fgm_hirange_srvy_l2',\n",
       " 'mms1_fgm_bdeltahalf_srvy_l2',\n",
       " 'mms1_fgm_stemp_srvy_l2',\n",
       " 'mms1_fgm_etemp_srvy_l2',\n",
       " 'mms1_fgm_mode_srvy_l2',\n",
       " 'mms1_fgm_rdeltahalf_srvy_l2',\n",
       " 'mms1_fgm_b_dmpa_srvy_l2_bvec',\n",
       " 'mms1_fgm_b_dmpa_srvy_l2_btot',\n",
       " 'mms1_fgm_b_gse_srvy_l2_bvec',\n",
       " 'mms1_fgm_b_gse_srvy_l2_btot',\n",
       " 'mms1_fgm_b_gsm_srvy_l2_bvec',\n",
       " 'mms1_fgm_b_gsm_srvy_l2_btot',\n",
       " 'mms1_fgm_b_bcs_srvy_l2_bvec',\n",
       " 'mms1_fgm_b_bcs_srvy_l2_btot']"
      ]
     },
     "metadata": {},
     "execution_count": 3
    }
   ]
  },
  {
   "cell_type": "code",
   "source": [],
   "metadata": {
    "id": "2QJmIVH6rVsK"
   },
   "execution_count": null,
   "outputs": []
  }
 ]
}
