{
 "cells": [
  {
   "cell_type": "markdown",
   "metadata": {},
   "source": [
    "# Fly's Eye Energetic Particle Sensor (FEEPS)\n",
    "\n",
    "This notebook shows how to load and plot MMS FEEPS data with pySPEDAS and pyTplot\n",
    "\n",
    "For information on the data, please see the Data Products Guide at:\n",
    "\n",
    "https://lasp.colorado.edu/mms/sdc/public/datasets/epd/"
   ]
  },
  {
   "cell_type": "markdown",
   "metadata": {},
   "source": [
    "## Get started\n",
    "\n",
    "To get started, import the `feeps` function from the `pyspedas.mms` module, and `tplot` from `pytplot`"
   ]
  },
  {
   "cell_type": "code",
   "execution_count": 1,
   "metadata": {},
   "outputs": [],
   "source": [
    "from pyspedas.mms import feeps\n",
    "from pytplot import tplot"
   ]
  },
  {
   "cell_type": "markdown",
   "metadata": {},
   "source": [
    "## Load the survey mode electron data"
   ]
  },
  {
   "cell_type": "code",
   "execution_count": 2,
   "metadata": {},
   "outputs": [
    {
     "name": "stderr",
     "output_type": "stream",
     "text": [
      "29-Sep-21 09:57:33: Downloading mms1_feeps_srvy_l2_electron_20151016000000_v6.1.2.cdf to pydata\\mms1\\feeps\\srvy\\l2\\electron\\2015\\10\n"
     ]
    },
    {
     "name": "stdout",
     "output_type": "stream",
     "text": [
      "The lengths of x and y do not match!\n",
      "electron_energy is currently not in pytplot.\n",
      "electron_energy is currently not in pytplot.\n",
      "electron_energy is currently not in pytplot.\n",
      "The lengths of x and y do not match!\n",
      "electron_energy_lower_bound is currently not in pytplot.\n",
      "electron_energy_lower_bound is currently not in pytplot.\n",
      "electron_energy_lower_bound is currently not in pytplot.\n",
      "The lengths of x and y do not match!\n",
      "electron_energy_upper_bound is currently not in pytplot.\n",
      "electron_energy_upper_bound is currently not in pytplot.\n",
      "electron_energy_upper_bound is currently not in pytplot.\n",
      "Loaded variables:\n",
      "mms1_epd_feeps_srvy_l2_electron_top_intensity_sensorid_1\n",
      "mms1_epd_feeps_srvy_l2_electron_top_intensity_sensorid_2\n",
      "mms1_epd_feeps_srvy_l2_electron_top_intensity_sensorid_3\n",
      "mms1_epd_feeps_srvy_l2_electron_top_intensity_sensorid_4\n",
      "mms1_epd_feeps_srvy_l2_electron_top_intensity_sensorid_5\n",
      "mms1_epd_feeps_srvy_l2_electron_top_intensity_sensorid_9\n",
      "mms1_epd_feeps_srvy_l2_electron_top_intensity_sensorid_10\n",
      "mms1_epd_feeps_srvy_l2_electron_top_intensity_sensorid_11\n",
      "mms1_epd_feeps_srvy_l2_electron_top_intensity_sensorid_12\n",
      "mms1_epd_feeps_srvy_l2_electron_bottom_intensity_sensorid_1\n",
      "mms1_epd_feeps_srvy_l2_electron_bottom_intensity_sensorid_2\n",
      "mms1_epd_feeps_srvy_l2_electron_bottom_intensity_sensorid_3\n",
      "mms1_epd_feeps_srvy_l2_electron_bottom_intensity_sensorid_4\n",
      "mms1_epd_feeps_srvy_l2_electron_bottom_intensity_sensorid_5\n",
      "mms1_epd_feeps_srvy_l2_electron_bottom_intensity_sensorid_9\n",
      "mms1_epd_feeps_srvy_l2_electron_bottom_intensity_sensorid_10\n",
      "mms1_epd_feeps_srvy_l2_electron_bottom_intensity_sensorid_11\n",
      "mms1_epd_feeps_srvy_l2_electron_bottom_intensity_sensorid_12\n",
      "epoch\n",
      "mms1_epd_feeps_srvy_l2_electron_spinsectnum\n",
      "electron_energy\n",
      "electron_energy_lower_bound\n",
      "electron_energy_upper_bound\n",
      "mms1_epd_feeps_srvy_l2_electron_top_count_rate_sensorid_1\n",
      "mms1_epd_feeps_srvy_l2_electron_top_count_rate_sensorid_2\n",
      "mms1_epd_feeps_srvy_l2_electron_top_count_rate_sensorid_3\n",
      "mms1_epd_feeps_srvy_l2_electron_top_count_rate_sensorid_4\n",
      "mms1_epd_feeps_srvy_l2_electron_top_count_rate_sensorid_5\n",
      "mms1_epd_feeps_srvy_l2_electron_top_count_rate_sensorid_9\n",
      "mms1_epd_feeps_srvy_l2_electron_top_count_rate_sensorid_10\n",
      "mms1_epd_feeps_srvy_l2_electron_top_count_rate_sensorid_11\n",
      "mms1_epd_feeps_srvy_l2_electron_top_count_rate_sensorid_12\n",
      "mms1_epd_feeps_srvy_l2_electron_bottom_count_rate_sensorid_1\n",
      "mms1_epd_feeps_srvy_l2_electron_bottom_count_rate_sensorid_2\n",
      "mms1_epd_feeps_srvy_l2_electron_bottom_count_rate_sensorid_3\n",
      "mms1_epd_feeps_srvy_l2_electron_bottom_count_rate_sensorid_4\n",
      "mms1_epd_feeps_srvy_l2_electron_bottom_count_rate_sensorid_5\n",
      "mms1_epd_feeps_srvy_l2_electron_bottom_count_rate_sensorid_9\n",
      "mms1_epd_feeps_srvy_l2_electron_bottom_count_rate_sensorid_10\n",
      "mms1_epd_feeps_srvy_l2_electron_bottom_count_rate_sensorid_11\n",
      "mms1_epd_feeps_srvy_l2_electron_bottom_count_rate_sensorid_12\n",
      "mms1_epd_feeps_srvy_l2_electron_top_sector_mask_sensorid_1\n",
      "mms1_epd_feeps_srvy_l2_electron_top_sector_mask_sensorid_2\n",
      "mms1_epd_feeps_srvy_l2_electron_top_sector_mask_sensorid_3\n",
      "mms1_epd_feeps_srvy_l2_electron_top_sector_mask_sensorid_4\n",
      "mms1_epd_feeps_srvy_l2_electron_top_sector_mask_sensorid_5\n",
      "mms1_epd_feeps_srvy_l2_electron_top_sector_mask_sensorid_9\n",
      "mms1_epd_feeps_srvy_l2_electron_top_sector_mask_sensorid_10\n",
      "mms1_epd_feeps_srvy_l2_electron_top_sector_mask_sensorid_11\n",
      "mms1_epd_feeps_srvy_l2_electron_top_sector_mask_sensorid_12\n",
      "mms1_epd_feeps_srvy_l2_electron_bottom_sector_mask_sensorid_1\n",
      "mms1_epd_feeps_srvy_l2_electron_bottom_sector_mask_sensorid_2\n",
      "mms1_epd_feeps_srvy_l2_electron_bottom_sector_mask_sensorid_3\n",
      "mms1_epd_feeps_srvy_l2_electron_bottom_sector_mask_sensorid_4\n",
      "mms1_epd_feeps_srvy_l2_electron_bottom_sector_mask_sensorid_5\n",
      "mms1_epd_feeps_srvy_l2_electron_bottom_sector_mask_sensorid_9\n",
      "mms1_epd_feeps_srvy_l2_electron_bottom_sector_mask_sensorid_10\n",
      "mms1_epd_feeps_srvy_l2_electron_bottom_sector_mask_sensorid_11\n",
      "mms1_epd_feeps_srvy_l2_electron_bottom_sector_mask_sensorid_12\n",
      "mms1_epd_feeps_srvy_l2_electron_spin\n",
      "mms1_epd_feeps_srvy_l2_electron_integration_sectors\n",
      "mms1_epd_feeps_srvy_l2_electron_spin_duration\n",
      "mms1_epd_feeps_srvy_l2_electron_pitch_angle\n",
      "mms1_epd_feeps_srvy_l2_electron_scpos_ec_gse\n",
      "mms1_epd_feeps_srvy_l2_electron_scz_vec_gse\n",
      "mms1_epd_feeps_srvy_l2_electron_scy_vec_gse\n",
      "mms1_epd_feeps_srvy_l2_electron_scx_vec_gse\n",
      "mms1_epd_feeps_srvy_l2_electron_moon_position_gse\n",
      "mms1_epd_feeps_srvy_l2_electron_radius\n",
      "mms1_epd_feeps_srvy_l2_electron_lat_gse\n",
      "mms1_epd_feeps_srvy_l2_electron_lon_gse\n",
      "mms1_epd_feeps_srvy_l2_electron_l_shell\n",
      "mms1_epd_feeps_srvy_l2_electron_lat_gsm\n",
      "mms1_epd_feeps_srvy_l2_electron_lon_gsm\n",
      "mms1_epd_feeps_srvy_l2_electron_top_count_rate_sensorid_3_clean\n",
      "mms1_epd_feeps_srvy_l2_electron_top_count_rate_sensorid_3_500keV_int\n",
      "mms1_epd_feeps_srvy_l2_electron_top_count_rate_sensorid_4_clean\n",
      "mms1_epd_feeps_srvy_l2_electron_top_count_rate_sensorid_4_500keV_int\n",
      "mms1_epd_feeps_srvy_l2_electron_top_count_rate_sensorid_5_clean\n",
      "mms1_epd_feeps_srvy_l2_electron_top_count_rate_sensorid_5_500keV_int\n",
      "mms1_epd_feeps_srvy_l2_electron_top_count_rate_sensorid_11_clean\n",
      "mms1_epd_feeps_srvy_l2_electron_top_count_rate_sensorid_11_500keV_int\n",
      "mms1_epd_feeps_srvy_l2_electron_top_count_rate_sensorid_12_clean\n",
      "mms1_epd_feeps_srvy_l2_electron_top_count_rate_sensorid_12_500keV_int\n",
      "mms1_epd_feeps_srvy_l2_electron_bottom_count_rate_sensorid_3_clean\n",
      "mms1_epd_feeps_srvy_l2_electron_bottom_count_rate_sensorid_3_500keV_int\n",
      "mms1_epd_feeps_srvy_l2_electron_bottom_count_rate_sensorid_4_clean\n",
      "mms1_epd_feeps_srvy_l2_electron_bottom_count_rate_sensorid_4_500keV_int\n",
      "mms1_epd_feeps_srvy_l2_electron_bottom_count_rate_sensorid_5_clean\n",
      "mms1_epd_feeps_srvy_l2_electron_bottom_count_rate_sensorid_5_500keV_int\n",
      "mms1_epd_feeps_srvy_l2_electron_bottom_count_rate_sensorid_11_clean\n",
      "mms1_epd_feeps_srvy_l2_electron_bottom_count_rate_sensorid_11_500keV_int\n",
      "mms1_epd_feeps_srvy_l2_electron_bottom_count_rate_sensorid_12_clean\n",
      "mms1_epd_feeps_srvy_l2_electron_bottom_count_rate_sensorid_12_500keV_int\n",
      "mms1_epd_feeps_srvy_l2_electron_top_count_rate_sensorid_3_clean_sun_removed\n",
      "mms1_epd_feeps_srvy_l2_electron_top_count_rate_sensorid_4_clean_sun_removed\n",
      "mms1_epd_feeps_srvy_l2_electron_top_count_rate_sensorid_5_clean_sun_removed\n",
      "mms1_epd_feeps_srvy_l2_electron_top_count_rate_sensorid_11_clean_sun_removed\n",
      "mms1_epd_feeps_srvy_l2_electron_top_count_rate_sensorid_12_clean_sun_removed\n",
      "mms1_epd_feeps_srvy_l2_electron_bottom_count_rate_sensorid_3_clean_sun_removed\n",
      "mms1_epd_feeps_srvy_l2_electron_bottom_count_rate_sensorid_4_clean_sun_removed\n",
      "mms1_epd_feeps_srvy_l2_electron_bottom_count_rate_sensorid_5_clean_sun_removed\n",
      "mms1_epd_feeps_srvy_l2_electron_bottom_count_rate_sensorid_11_clean_sun_removed\n",
      "mms1_epd_feeps_srvy_l2_electron_bottom_count_rate_sensorid_12_clean_sun_removed\n",
      "mms1_epd_feeps_srvy_l2_electron_count_rate_omni\n",
      "mms1_epd_feeps_srvy_l2_electron_count_rate_omni_spin\n",
      "mms1_epd_feeps_srvy_l2_electron_top_intensity_sensorid_3_clean\n",
      "mms1_epd_feeps_srvy_l2_electron_top_intensity_sensorid_3_500keV_int\n",
      "mms1_epd_feeps_srvy_l2_electron_top_intensity_sensorid_4_clean\n",
      "mms1_epd_feeps_srvy_l2_electron_top_intensity_sensorid_4_500keV_int\n",
      "mms1_epd_feeps_srvy_l2_electron_top_intensity_sensorid_5_clean\n",
      "mms1_epd_feeps_srvy_l2_electron_top_intensity_sensorid_5_500keV_int\n",
      "mms1_epd_feeps_srvy_l2_electron_top_intensity_sensorid_11_clean\n",
      "mms1_epd_feeps_srvy_l2_electron_top_intensity_sensorid_11_500keV_int\n",
      "mms1_epd_feeps_srvy_l2_electron_top_intensity_sensorid_12_clean\n",
      "mms1_epd_feeps_srvy_l2_electron_top_intensity_sensorid_12_500keV_int\n",
      "mms1_epd_feeps_srvy_l2_electron_bottom_intensity_sensorid_3_clean\n",
      "mms1_epd_feeps_srvy_l2_electron_bottom_intensity_sensorid_3_500keV_int\n",
      "mms1_epd_feeps_srvy_l2_electron_bottom_intensity_sensorid_4_clean\n",
      "mms1_epd_feeps_srvy_l2_electron_bottom_intensity_sensorid_4_500keV_int\n",
      "mms1_epd_feeps_srvy_l2_electron_bottom_intensity_sensorid_5_clean\n",
      "mms1_epd_feeps_srvy_l2_electron_bottom_intensity_sensorid_5_500keV_int\n",
      "mms1_epd_feeps_srvy_l2_electron_bottom_intensity_sensorid_11_clean\n",
      "mms1_epd_feeps_srvy_l2_electron_bottom_intensity_sensorid_11_500keV_int\n",
      "mms1_epd_feeps_srvy_l2_electron_bottom_intensity_sensorid_12_clean\n",
      "mms1_epd_feeps_srvy_l2_electron_bottom_intensity_sensorid_12_500keV_int\n",
      "mms1_epd_feeps_srvy_l2_electron_top_intensity_sensorid_3_clean_sun_removed\n",
      "mms1_epd_feeps_srvy_l2_electron_top_intensity_sensorid_4_clean_sun_removed\n",
      "mms1_epd_feeps_srvy_l2_electron_top_intensity_sensorid_5_clean_sun_removed\n",
      "mms1_epd_feeps_srvy_l2_electron_top_intensity_sensorid_11_clean_sun_removed\n",
      "mms1_epd_feeps_srvy_l2_electron_top_intensity_sensorid_12_clean_sun_removed\n",
      "mms1_epd_feeps_srvy_l2_electron_bottom_intensity_sensorid_3_clean_sun_removed\n",
      "mms1_epd_feeps_srvy_l2_electron_bottom_intensity_sensorid_4_clean_sun_removed\n",
      "mms1_epd_feeps_srvy_l2_electron_bottom_intensity_sensorid_5_clean_sun_removed\n",
      "mms1_epd_feeps_srvy_l2_electron_bottom_intensity_sensorid_11_clean_sun_removed\n",
      "mms1_epd_feeps_srvy_l2_electron_bottom_intensity_sensorid_12_clean_sun_removed\n",
      "mms1_epd_feeps_srvy_l2_electron_intensity_omni\n",
      "mms1_epd_feeps_srvy_l2_electron_intensity_omni_spin\n"
     ]
    }
   ],
   "source": [
    "feeps_vars = feeps(trange=['2015-10-16', '2015-10-17'], datatype='electron')"
   ]
  },
  {
   "cell_type": "markdown",
   "metadata": {},
   "source": [
    "## Plot the omni-directional electron intensity"
   ]
  },
  {
   "cell_type": "code",
   "execution_count": 3,
   "metadata": {},
   "outputs": [],
   "source": [
    "tplot(['mms1_epd_feeps_srvy_l2_electron_intensity_omni', 'mms1_epd_feeps_srvy_l2_electron_intensity_omni_spin'])"
   ]
  },
  {
   "cell_type": "markdown",
   "metadata": {},
   "source": [
    "## Load the burst mode electron data"
   ]
  },
  {
   "cell_type": "code",
   "execution_count": 4,
   "metadata": {},
   "outputs": [
    {
     "name": "stderr",
     "output_type": "stream",
     "text": [
      "29-Sep-21 09:58:53: Downloading mms1_feeps_brst_l2_electron_20151016130524_v6.1.5.cdf to pydata\\mms1\\feeps\\brst\\l2\\electron\\2015\\10\\16\n"
     ]
    },
    {
     "name": "stdout",
     "output_type": "stream",
     "text": [
      "The lengths of x and y do not match!\n",
      "electron_energy is currently not in pytplot.\n",
      "electron_energy is currently not in pytplot.\n",
      "electron_energy is currently not in pytplot.\n",
      "The lengths of x and y do not match!\n",
      "electron_energy_lower_bound is currently not in pytplot.\n",
      "electron_energy_lower_bound is currently not in pytplot.\n",
      "electron_energy_lower_bound is currently not in pytplot.\n",
      "The lengths of x and y do not match!\n",
      "electron_energy_upper_bound is currently not in pytplot.\n",
      "electron_energy_upper_bound is currently not in pytplot.\n",
      "electron_energy_upper_bound is currently not in pytplot.\n",
      "Loaded variables:\n",
      "mms1_epd_feeps_brst_l2_electron_top_intensity_sensorid_1\n",
      "mms1_epd_feeps_brst_l2_electron_top_intensity_sensorid_2\n",
      "mms1_epd_feeps_brst_l2_electron_top_intensity_sensorid_3\n",
      "mms1_epd_feeps_brst_l2_electron_top_intensity_sensorid_4\n",
      "mms1_epd_feeps_brst_l2_electron_top_intensity_sensorid_5\n",
      "mms1_epd_feeps_brst_l2_electron_top_intensity_sensorid_9\n",
      "mms1_epd_feeps_brst_l2_electron_top_intensity_sensorid_10\n",
      "mms1_epd_feeps_brst_l2_electron_top_intensity_sensorid_11\n",
      "mms1_epd_feeps_brst_l2_electron_top_intensity_sensorid_12\n",
      "mms1_epd_feeps_brst_l2_electron_bottom_intensity_sensorid_1\n",
      "mms1_epd_feeps_brst_l2_electron_bottom_intensity_sensorid_2\n",
      "mms1_epd_feeps_brst_l2_electron_bottom_intensity_sensorid_3\n",
      "mms1_epd_feeps_brst_l2_electron_bottom_intensity_sensorid_4\n",
      "mms1_epd_feeps_brst_l2_electron_bottom_intensity_sensorid_5\n",
      "mms1_epd_feeps_brst_l2_electron_bottom_intensity_sensorid_9\n",
      "mms1_epd_feeps_brst_l2_electron_bottom_intensity_sensorid_10\n",
      "mms1_epd_feeps_brst_l2_electron_bottom_intensity_sensorid_11\n",
      "mms1_epd_feeps_brst_l2_electron_bottom_intensity_sensorid_12\n",
      "epoch\n",
      "mms1_epd_feeps_brst_l2_electron_spinsectnum\n",
      "electron_energy\n",
      "electron_energy_lower_bound\n",
      "electron_energy_upper_bound\n",
      "mms1_epd_feeps_brst_l2_electron_top_count_rate_sensorid_1\n",
      "mms1_epd_feeps_brst_l2_electron_top_count_rate_sensorid_2\n",
      "mms1_epd_feeps_brst_l2_electron_top_count_rate_sensorid_3\n",
      "mms1_epd_feeps_brst_l2_electron_top_count_rate_sensorid_4\n",
      "mms1_epd_feeps_brst_l2_electron_top_count_rate_sensorid_5\n",
      "mms1_epd_feeps_brst_l2_electron_top_count_rate_sensorid_9\n",
      "mms1_epd_feeps_brst_l2_electron_top_count_rate_sensorid_10\n",
      "mms1_epd_feeps_brst_l2_electron_top_count_rate_sensorid_11\n",
      "mms1_epd_feeps_brst_l2_electron_top_count_rate_sensorid_12\n",
      "mms1_epd_feeps_brst_l2_electron_bottom_count_rate_sensorid_1\n",
      "mms1_epd_feeps_brst_l2_electron_bottom_count_rate_sensorid_2\n",
      "mms1_epd_feeps_brst_l2_electron_bottom_count_rate_sensorid_3\n",
      "mms1_epd_feeps_brst_l2_electron_bottom_count_rate_sensorid_4\n",
      "mms1_epd_feeps_brst_l2_electron_bottom_count_rate_sensorid_5\n",
      "mms1_epd_feeps_brst_l2_electron_bottom_count_rate_sensorid_9\n",
      "mms1_epd_feeps_brst_l2_electron_bottom_count_rate_sensorid_10\n",
      "mms1_epd_feeps_brst_l2_electron_bottom_count_rate_sensorid_11\n",
      "mms1_epd_feeps_brst_l2_electron_bottom_count_rate_sensorid_12\n",
      "mms1_epd_feeps_brst_l2_electron_top_sector_mask_sensorid_1\n",
      "mms1_epd_feeps_brst_l2_electron_top_sector_mask_sensorid_2\n",
      "mms1_epd_feeps_brst_l2_electron_top_sector_mask_sensorid_3\n",
      "mms1_epd_feeps_brst_l2_electron_top_sector_mask_sensorid_4\n",
      "mms1_epd_feeps_brst_l2_electron_top_sector_mask_sensorid_5\n",
      "mms1_epd_feeps_brst_l2_electron_top_sector_mask_sensorid_9\n",
      "mms1_epd_feeps_brst_l2_electron_top_sector_mask_sensorid_10\n",
      "mms1_epd_feeps_brst_l2_electron_top_sector_mask_sensorid_11\n",
      "mms1_epd_feeps_brst_l2_electron_top_sector_mask_sensorid_12\n",
      "mms1_epd_feeps_brst_l2_electron_bottom_sector_mask_sensorid_1\n",
      "mms1_epd_feeps_brst_l2_electron_bottom_sector_mask_sensorid_2\n",
      "mms1_epd_feeps_brst_l2_electron_bottom_sector_mask_sensorid_3\n",
      "mms1_epd_feeps_brst_l2_electron_bottom_sector_mask_sensorid_4\n",
      "mms1_epd_feeps_brst_l2_electron_bottom_sector_mask_sensorid_5\n",
      "mms1_epd_feeps_brst_l2_electron_bottom_sector_mask_sensorid_9\n",
      "mms1_epd_feeps_brst_l2_electron_bottom_sector_mask_sensorid_10\n",
      "mms1_epd_feeps_brst_l2_electron_bottom_sector_mask_sensorid_11\n",
      "mms1_epd_feeps_brst_l2_electron_bottom_sector_mask_sensorid_12\n",
      "mms1_epd_feeps_brst_l2_electron_spin\n",
      "mms1_epd_feeps_brst_l2_electron_integration_sectors\n",
      "mms1_epd_feeps_brst_l2_electron_spin_duration\n",
      "mms1_epd_feeps_brst_l2_electron_pitch_angle\n",
      "mms1_epd_feeps_brst_l2_electron_scpos_ec_gse\n",
      "mms1_epd_feeps_brst_l2_electron_scz_vec_gse\n",
      "mms1_epd_feeps_brst_l2_electron_scy_vec_gse\n",
      "mms1_epd_feeps_brst_l2_electron_scx_vec_gse\n",
      "mms1_epd_feeps_brst_l2_electron_moon_position_gse\n",
      "mms1_epd_feeps_brst_l2_electron_radius\n",
      "mms1_epd_feeps_brst_l2_electron_lat_gse\n",
      "mms1_epd_feeps_brst_l2_electron_lon_gse\n",
      "mms1_epd_feeps_brst_l2_electron_l_shell\n",
      "mms1_epd_feeps_brst_l2_electron_lat_gsm\n",
      "mms1_epd_feeps_brst_l2_electron_lon_gsm\n",
      "mms1_epd_feeps_brst_l2_electron_top_count_rate_sensorid_1_clean\n",
      "mms1_epd_feeps_brst_l2_electron_top_count_rate_sensorid_1_500keV_int\n",
      "mms1_epd_feeps_brst_l2_electron_top_count_rate_sensorid_2_clean\n",
      "mms1_epd_feeps_brst_l2_electron_top_count_rate_sensorid_2_500keV_int\n",
      "mms1_epd_feeps_brst_l2_electron_top_count_rate_sensorid_3_clean\n",
      "mms1_epd_feeps_brst_l2_electron_top_count_rate_sensorid_3_500keV_int\n",
      "mms1_epd_feeps_brst_l2_electron_top_count_rate_sensorid_4_clean\n",
      "mms1_epd_feeps_brst_l2_electron_top_count_rate_sensorid_4_500keV_int\n",
      "mms1_epd_feeps_brst_l2_electron_top_count_rate_sensorid_5_clean\n",
      "mms1_epd_feeps_brst_l2_electron_top_count_rate_sensorid_5_500keV_int\n",
      "mms1_epd_feeps_brst_l2_electron_top_count_rate_sensorid_9_clean\n",
      "mms1_epd_feeps_brst_l2_electron_top_count_rate_sensorid_9_500keV_int\n",
      "mms1_epd_feeps_brst_l2_electron_top_count_rate_sensorid_10_clean\n",
      "mms1_epd_feeps_brst_l2_electron_top_count_rate_sensorid_10_500keV_int\n",
      "mms1_epd_feeps_brst_l2_electron_top_count_rate_sensorid_11_clean\n",
      "mms1_epd_feeps_brst_l2_electron_top_count_rate_sensorid_11_500keV_int\n",
      "mms1_epd_feeps_brst_l2_electron_top_count_rate_sensorid_12_clean\n",
      "mms1_epd_feeps_brst_l2_electron_top_count_rate_sensorid_12_500keV_int\n",
      "mms1_epd_feeps_brst_l2_electron_bottom_count_rate_sensorid_1_clean\n",
      "mms1_epd_feeps_brst_l2_electron_bottom_count_rate_sensorid_1_500keV_int\n",
      "mms1_epd_feeps_brst_l2_electron_bottom_count_rate_sensorid_2_clean\n",
      "mms1_epd_feeps_brst_l2_electron_bottom_count_rate_sensorid_2_500keV_int\n",
      "mms1_epd_feeps_brst_l2_electron_bottom_count_rate_sensorid_3_clean\n",
      "mms1_epd_feeps_brst_l2_electron_bottom_count_rate_sensorid_3_500keV_int\n",
      "mms1_epd_feeps_brst_l2_electron_bottom_count_rate_sensorid_4_clean\n",
      "mms1_epd_feeps_brst_l2_electron_bottom_count_rate_sensorid_4_500keV_int\n",
      "mms1_epd_feeps_brst_l2_electron_bottom_count_rate_sensorid_5_clean\n",
      "mms1_epd_feeps_brst_l2_electron_bottom_count_rate_sensorid_5_500keV_int\n",
      "mms1_epd_feeps_brst_l2_electron_bottom_count_rate_sensorid_9_clean\n",
      "mms1_epd_feeps_brst_l2_electron_bottom_count_rate_sensorid_9_500keV_int\n",
      "mms1_epd_feeps_brst_l2_electron_bottom_count_rate_sensorid_10_clean\n",
      "mms1_epd_feeps_brst_l2_electron_bottom_count_rate_sensorid_10_500keV_int\n",
      "mms1_epd_feeps_brst_l2_electron_bottom_count_rate_sensorid_11_clean\n",
      "mms1_epd_feeps_brst_l2_electron_bottom_count_rate_sensorid_11_500keV_int\n",
      "mms1_epd_feeps_brst_l2_electron_bottom_count_rate_sensorid_12_clean\n",
      "mms1_epd_feeps_brst_l2_electron_bottom_count_rate_sensorid_12_500keV_int\n",
      "mms1_epd_feeps_brst_l2_electron_top_count_rate_sensorid_1_clean_sun_removed\n",
      "mms1_epd_feeps_brst_l2_electron_top_count_rate_sensorid_2_clean_sun_removed\n",
      "mms1_epd_feeps_brst_l2_electron_top_count_rate_sensorid_3_clean_sun_removed\n",
      "mms1_epd_feeps_brst_l2_electron_top_count_rate_sensorid_4_clean_sun_removed\n",
      "mms1_epd_feeps_brst_l2_electron_top_count_rate_sensorid_5_clean_sun_removed\n",
      "mms1_epd_feeps_brst_l2_electron_top_count_rate_sensorid_9_clean_sun_removed\n",
      "mms1_epd_feeps_brst_l2_electron_top_count_rate_sensorid_10_clean_sun_removed\n",
      "mms1_epd_feeps_brst_l2_electron_top_count_rate_sensorid_11_clean_sun_removed\n",
      "mms1_epd_feeps_brst_l2_electron_top_count_rate_sensorid_12_clean_sun_removed\n",
      "mms1_epd_feeps_brst_l2_electron_bottom_count_rate_sensorid_1_clean_sun_removed\n",
      "mms1_epd_feeps_brst_l2_electron_bottom_count_rate_sensorid_2_clean_sun_removed\n",
      "mms1_epd_feeps_brst_l2_electron_bottom_count_rate_sensorid_3_clean_sun_removed\n",
      "mms1_epd_feeps_brst_l2_electron_bottom_count_rate_sensorid_4_clean_sun_removed\n",
      "mms1_epd_feeps_brst_l2_electron_bottom_count_rate_sensorid_5_clean_sun_removed\n",
      "mms1_epd_feeps_brst_l2_electron_bottom_count_rate_sensorid_9_clean_sun_removed\n",
      "mms1_epd_feeps_brst_l2_electron_bottom_count_rate_sensorid_10_clean_sun_removed\n",
      "mms1_epd_feeps_brst_l2_electron_bottom_count_rate_sensorid_11_clean_sun_removed\n",
      "mms1_epd_feeps_brst_l2_electron_bottom_count_rate_sensorid_12_clean_sun_removed\n",
      "mms1_epd_feeps_brst_l2_electron_count_rate_omni\n",
      "mms1_epd_feeps_brst_l2_electron_count_rate_omni_spin\n",
      "mms1_epd_feeps_brst_l2_electron_top_intensity_sensorid_1_clean\n",
      "mms1_epd_feeps_brst_l2_electron_top_intensity_sensorid_1_500keV_int\n",
      "mms1_epd_feeps_brst_l2_electron_top_intensity_sensorid_2_clean\n",
      "mms1_epd_feeps_brst_l2_electron_top_intensity_sensorid_2_500keV_int\n",
      "mms1_epd_feeps_brst_l2_electron_top_intensity_sensorid_3_clean\n",
      "mms1_epd_feeps_brst_l2_electron_top_intensity_sensorid_3_500keV_int\n",
      "mms1_epd_feeps_brst_l2_electron_top_intensity_sensorid_4_clean\n",
      "mms1_epd_feeps_brst_l2_electron_top_intensity_sensorid_4_500keV_int\n",
      "mms1_epd_feeps_brst_l2_electron_top_intensity_sensorid_5_clean\n",
      "mms1_epd_feeps_brst_l2_electron_top_intensity_sensorid_5_500keV_int\n",
      "mms1_epd_feeps_brst_l2_electron_top_intensity_sensorid_9_clean\n",
      "mms1_epd_feeps_brst_l2_electron_top_intensity_sensorid_9_500keV_int\n",
      "mms1_epd_feeps_brst_l2_electron_top_intensity_sensorid_10_clean\n",
      "mms1_epd_feeps_brst_l2_electron_top_intensity_sensorid_10_500keV_int\n",
      "mms1_epd_feeps_brst_l2_electron_top_intensity_sensorid_11_clean\n",
      "mms1_epd_feeps_brst_l2_electron_top_intensity_sensorid_11_500keV_int\n",
      "mms1_epd_feeps_brst_l2_electron_top_intensity_sensorid_12_clean\n",
      "mms1_epd_feeps_brst_l2_electron_top_intensity_sensorid_12_500keV_int\n",
      "mms1_epd_feeps_brst_l2_electron_bottom_intensity_sensorid_1_clean\n",
      "mms1_epd_feeps_brst_l2_electron_bottom_intensity_sensorid_1_500keV_int\n",
      "mms1_epd_feeps_brst_l2_electron_bottom_intensity_sensorid_2_clean\n",
      "mms1_epd_feeps_brst_l2_electron_bottom_intensity_sensorid_2_500keV_int\n",
      "mms1_epd_feeps_brst_l2_electron_bottom_intensity_sensorid_3_clean\n",
      "mms1_epd_feeps_brst_l2_electron_bottom_intensity_sensorid_3_500keV_int\n",
      "mms1_epd_feeps_brst_l2_electron_bottom_intensity_sensorid_4_clean\n",
      "mms1_epd_feeps_brst_l2_electron_bottom_intensity_sensorid_4_500keV_int\n",
      "mms1_epd_feeps_brst_l2_electron_bottom_intensity_sensorid_5_clean\n",
      "mms1_epd_feeps_brst_l2_electron_bottom_intensity_sensorid_5_500keV_int\n",
      "mms1_epd_feeps_brst_l2_electron_bottom_intensity_sensorid_9_clean\n",
      "mms1_epd_feeps_brst_l2_electron_bottom_intensity_sensorid_9_500keV_int\n",
      "mms1_epd_feeps_brst_l2_electron_bottom_intensity_sensorid_10_clean\n",
      "mms1_epd_feeps_brst_l2_electron_bottom_intensity_sensorid_10_500keV_int\n",
      "mms1_epd_feeps_brst_l2_electron_bottom_intensity_sensorid_11_clean\n",
      "mms1_epd_feeps_brst_l2_electron_bottom_intensity_sensorid_11_500keV_int\n",
      "mms1_epd_feeps_brst_l2_electron_bottom_intensity_sensorid_12_clean\n",
      "mms1_epd_feeps_brst_l2_electron_bottom_intensity_sensorid_12_500keV_int\n",
      "mms1_epd_feeps_brst_l2_electron_top_intensity_sensorid_1_clean_sun_removed\n",
      "mms1_epd_feeps_brst_l2_electron_top_intensity_sensorid_2_clean_sun_removed\n",
      "mms1_epd_feeps_brst_l2_electron_top_intensity_sensorid_3_clean_sun_removed\n",
      "mms1_epd_feeps_brst_l2_electron_top_intensity_sensorid_4_clean_sun_removed\n",
      "mms1_epd_feeps_brst_l2_electron_top_intensity_sensorid_5_clean_sun_removed\n",
      "mms1_epd_feeps_brst_l2_electron_top_intensity_sensorid_9_clean_sun_removed\n",
      "mms1_epd_feeps_brst_l2_electron_top_intensity_sensorid_10_clean_sun_removed\n",
      "mms1_epd_feeps_brst_l2_electron_top_intensity_sensorid_11_clean_sun_removed\n",
      "mms1_epd_feeps_brst_l2_electron_top_intensity_sensorid_12_clean_sun_removed\n",
      "mms1_epd_feeps_brst_l2_electron_bottom_intensity_sensorid_1_clean_sun_removed\n",
      "mms1_epd_feeps_brst_l2_electron_bottom_intensity_sensorid_2_clean_sun_removed\n",
      "mms1_epd_feeps_brst_l2_electron_bottom_intensity_sensorid_3_clean_sun_removed\n",
      "mms1_epd_feeps_brst_l2_electron_bottom_intensity_sensorid_4_clean_sun_removed\n",
      "mms1_epd_feeps_brst_l2_electron_bottom_intensity_sensorid_5_clean_sun_removed\n",
      "mms1_epd_feeps_brst_l2_electron_bottom_intensity_sensorid_9_clean_sun_removed\n",
      "mms1_epd_feeps_brst_l2_electron_bottom_intensity_sensorid_10_clean_sun_removed\n",
      "mms1_epd_feeps_brst_l2_electron_bottom_intensity_sensorid_11_clean_sun_removed\n",
      "mms1_epd_feeps_brst_l2_electron_bottom_intensity_sensorid_12_clean_sun_removed\n",
      "mms1_epd_feeps_brst_l2_electron_intensity_omni\n",
      "mms1_epd_feeps_brst_l2_electron_intensity_omni_spin\n"
     ]
    }
   ],
   "source": [
    "burst_vars = feeps(data_rate='brst', trange=['2015-10-16/13:06', '2015-10-16/13:07'], datatype='electron')"
   ]
  },
  {
   "cell_type": "markdown",
   "metadata": {},
   "source": [
    "## Plot the burst data"
   ]
  },
  {
   "cell_type": "code",
   "execution_count": 5,
   "metadata": {},
   "outputs": [],
   "source": [
    "tplot('mms1_epd_feeps_brst_l2_electron_intensity_omni')"
   ]
  },
  {
   "cell_type": "markdown",
   "metadata": {},
   "source": [
    "## Calculate the pitch angle distributions (PADs)\n",
    "\n",
    "To calculate the FEEPS PADs, first import `mms_feeps_pad` from pyspedas"
   ]
  },
  {
   "cell_type": "code",
   "execution_count": 6,
   "metadata": {},
   "outputs": [],
   "source": [
    "from pyspedas import mms_feeps_pad"
   ]
  },
  {
   "cell_type": "markdown",
   "metadata": {},
   "source": [
    "Now call this function with your options (note: this must be called after loading the data with `pyspedas.mms.feeps`)"
   ]
  },
  {
   "cell_type": "code",
   "execution_count": 7,
   "metadata": {},
   "outputs": [
    {
     "name": "stderr",
     "output_type": "stream",
     "text": [
      "29-Sep-21 09:59:31: Loading pydata\\mms1\\fgm\\srvy\\l2\\2015\\10\\mms1_fgm_srvy_l2_20151016_v4.18.0.cdf\n"
     ]
    },
    {
     "name": "stdout",
     "output_type": "stream",
     "text": [
      "That name is currently not in pytplot\n",
      "That name is currently not in pytplot\n",
      "That name is currently not in pytplot\n",
      "That name is currently not in pytplot\n",
      "That name is currently not in pytplot\n",
      "That name is currently not in pytplot\n",
      "That name is currently not in pytplot\n",
      "Loaded variables:\n",
      "mms1_fgm_b_bcs_srvy_l2\n",
      "mms1_fgm_b_bcs_srvy_l2_bvec\n",
      "mms1_fgm_b_bcs_srvy_l2_btot\n",
      "That name is currently not in pytplot\n"
     ]
    },
    {
     "data": {
      "text/plain": [
       "['mms1_epd_feeps_srvy_l2_electron_intensity_70-600keV_pad',\n",
       " 'mms1_epd_feeps_srvy_l2_electron_intensity_70-600keV_pad_spin']"
      ]
     },
     "execution_count": 7,
     "metadata": {},
     "output_type": "execute_result"
    }
   ],
   "source": [
    "mms_feeps_pad(probe=1, data_rate='srvy')"
   ]
  },
  {
   "cell_type": "code",
   "execution_count": 8,
   "metadata": {},
   "outputs": [],
   "source": [
    "tplot(['mms1_epd_feeps_srvy_l2_electron_intensity_omni_spin', 'mms1_epd_feeps_srvy_l2_electron_intensity_70-600keV_pad_spin'])"
   ]
  },
  {
   "cell_type": "markdown",
   "metadata": {},
   "source": [
    "To calculate the burst mode pitch angle distribution"
   ]
  },
  {
   "cell_type": "code",
   "execution_count": 9,
   "metadata": {},
   "outputs": [
    {
     "data": {
      "text/plain": [
       "['mms1_epd_feeps_brst_l2_electron_intensity_70-600keV_pad',\n",
       " 'mms1_epd_feeps_brst_l2_electron_intensity_70-600keV_pad_spin']"
      ]
     },
     "execution_count": 9,
     "metadata": {},
     "output_type": "execute_result"
    }
   ],
   "source": [
    "mms_feeps_pad(probe=1, data_rate='brst')"
   ]
  },
  {
   "cell_type": "code",
   "execution_count": 10,
   "metadata": {},
   "outputs": [],
   "source": [
    "tplot(['mms1_epd_feeps_brst_l2_electron_intensity_omni', 'mms1_epd_feeps_brst_l2_electron_intensity_70-600keV_pad'])"
   ]
  },
  {
   "cell_type": "code",
   "execution_count": null,
   "metadata": {},
   "outputs": [],
   "source": []
  }
 ],
 "metadata": {
  "kernelspec": {
   "display_name": "Python 3 (ipykernel)",
   "language": "python",
   "name": "python3"
  },
  "language_info": {
   "codemirror_mode": {
    "name": "ipython",
    "version": 3
   },
   "file_extension": ".py",
   "mimetype": "text/x-python",
   "name": "python",
   "nbconvert_exporter": "python",
   "pygments_lexer": "ipython3",
   "version": "3.9.1"
  }
 },
 "nbformat": 4,
 "nbformat_minor": 2
}
