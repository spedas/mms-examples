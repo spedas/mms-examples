{
 "nbformat": 4,
 "nbformat_minor": 0,
 "metadata": {
  "colab": {
   "provenance": []
  },
  "kernelspec": {
   "name": "python3",
   "display_name": "Python 3"
  },
  "language_info": {
   "name": "python"
  }
 },
 "cells": [
  {
   "cell_type": "markdown",
   "source": [
    "# MMS burst events\n",
    "\n",
    "This notebook demonstrates various strategies for working with the MMS burst mode intervals, including:\n",
    "- Loading the burst intervals for a time range into `numpy` arrays\n",
    "- Plotting the burst intervals\n",
    "- List the burst mode segment selections from the SITL database\n",
    "- Highlight and zoom into a burst interval from the SITL database\n",
    "- Load and plot the burst data for the selected interval"
   ],
   "metadata": {
    "id": "KBlXdcMna-J8"
   }
  },
  {
   "cell_type": "markdown",
   "source": [
    "This command sets up the PySPEDAS environment when running in Google Colab.  You can skip it or comment it out if you're running this notebook in an environment that already has PySPEDAS installed.\n"
   ],
   "metadata": {
    "collapsed": false
   }
  },
  {
   "cell_type": "code",
   "execution_count": null,
   "metadata": {
    "id": "mTkhDUTe-XS_"
   },
   "outputs": [],
   "source": [
    "!pip install pyspedas"
   ]
  },
  {
   "cell_type": "code",
   "source": [
    "import pyspedas"
   ],
   "metadata": {
    "id": "gg_RwPZy_cx1"
   },
   "execution_count": 2,
   "outputs": []
  },
  {
   "cell_type": "code",
   "source": [
    "trange = ['2015-10-16', '2015-10-17']"
   ],
   "metadata": {
    "id": "mCQSF69R_f_U"
   },
   "execution_count": 3,
   "outputs": []
  },
  {
   "cell_type": "markdown",
   "source": [
    "Load some FGM data for the full day"
   ],
   "metadata": {
    "id": "C8lNDzEu_oqo"
   }
  },
  {
   "cell_type": "code",
   "source": "pyspedas.projects.mms.fgm(trange=trange)",
   "metadata": {
    "colab": {
     "base_uri": "https://localhost:8080/"
    },
    "id": "KTsrjsXX_etI",
    "outputId": "71cb565b-2c54-4c31-a510-fd9f29f1c309"
   },
   "execution_count": 4,
   "outputs": [
    {
     "name": "stdout",
     "output_type": "stream",
     "text": [
      "SDC username (blank for public access): \n"
     ]
    },
    {
     "output_type": "stream",
     "name": "stderr",
     "text": [
      "30-Nov-22 21:23:07: Downloading mms1_fgm_srvy_l2_20151016_v4.18.0.cdf to pydata/mms1/fgm/srvy/l2/2015/10\n"
     ]
    },
    {
     "output_type": "stream",
     "name": "stdout",
     "text": [
      "The lengths of x and y do not match!\n",
      "mms1_fgm_rdeltahalf_srvy_l2 is currently not in pytplot.\n",
      "mms1_fgm_rdeltahalf_srvy_l2 is currently not in pytplot.\n",
      "mms1_fgm_rdeltahalf_srvy_l2 is currently not in pytplot.\n",
      "mms1_fgm_rdeltahalf_srvy_l2 is currently not in pytplot.\n"
     ]
    },
    {
     "output_type": "stream",
     "name": "stderr",
     "text": [
      "30-Nov-22 21:23:17: Loaded variables:\n",
      "30-Nov-22 21:23:17: Epoch\n",
      "30-Nov-22 21:23:17: mms1_fgm_b_gse_srvy_l2\n",
      "30-Nov-22 21:23:17: mms1_fgm_b_gsm_srvy_l2\n",
      "30-Nov-22 21:23:17: mms1_fgm_b_dmpa_srvy_l2\n",
      "30-Nov-22 21:23:17: mms1_fgm_b_bcs_srvy_l2\n",
      "30-Nov-22 21:23:17: mms1_fgm_flag_srvy_l2\n",
      "30-Nov-22 21:23:17: Epoch_state\n",
      "30-Nov-22 21:23:17: mms1_fgm_hirange_srvy_l2\n",
      "30-Nov-22 21:23:17: mms1_fgm_bdeltahalf_srvy_l2\n",
      "30-Nov-22 21:23:17: mms1_fgm_stemp_srvy_l2\n",
      "30-Nov-22 21:23:17: mms1_fgm_etemp_srvy_l2\n",
      "30-Nov-22 21:23:17: mms1_fgm_mode_srvy_l2\n",
      "30-Nov-22 21:23:17: mms1_fgm_rdeltahalf_srvy_l2\n",
      "30-Nov-22 21:23:17: mms1_fgm_b_dmpa_srvy_l2_bvec\n",
      "30-Nov-22 21:23:17: mms1_fgm_b_dmpa_srvy_l2_btot\n",
      "30-Nov-22 21:23:17: mms1_fgm_b_gse_srvy_l2_bvec\n",
      "30-Nov-22 21:23:17: mms1_fgm_b_gse_srvy_l2_btot\n",
      "30-Nov-22 21:23:17: mms1_fgm_b_gsm_srvy_l2_bvec\n",
      "30-Nov-22 21:23:17: mms1_fgm_b_gsm_srvy_l2_btot\n",
      "30-Nov-22 21:23:17: mms1_fgm_b_bcs_srvy_l2_bvec\n",
      "30-Nov-22 21:23:17: mms1_fgm_b_bcs_srvy_l2_btot\n"
     ]
    },
    {
     "output_type": "execute_result",
     "data": {
      "text/plain": [
       "['Epoch',\n",
       " 'mms1_fgm_b_gse_srvy_l2',\n",
       " 'mms1_fgm_b_gsm_srvy_l2',\n",
       " 'mms1_fgm_b_dmpa_srvy_l2',\n",
       " 'mms1_fgm_b_bcs_srvy_l2',\n",
       " 'mms1_fgm_flag_srvy_l2',\n",
       " 'Epoch_state',\n",
       " 'mms1_fgm_hirange_srvy_l2',\n",
       " 'mms1_fgm_bdeltahalf_srvy_l2',\n",
       " 'mms1_fgm_stemp_srvy_l2',\n",
       " 'mms1_fgm_etemp_srvy_l2',\n",
       " 'mms1_fgm_mode_srvy_l2',\n",
       " 'mms1_fgm_rdeltahalf_srvy_l2',\n",
       " 'mms1_fgm_b_dmpa_srvy_l2_bvec',\n",
       " 'mms1_fgm_b_dmpa_srvy_l2_btot',\n",
       " 'mms1_fgm_b_gse_srvy_l2_bvec',\n",
       " 'mms1_fgm_b_gse_srvy_l2_btot',\n",
       " 'mms1_fgm_b_gsm_srvy_l2_bvec',\n",
       " 'mms1_fgm_b_gsm_srvy_l2_btot',\n",
       " 'mms1_fgm_b_bcs_srvy_l2_bvec',\n",
       " 'mms1_fgm_b_bcs_srvy_l2_btot']"
      ]
     },
     "metadata": {},
     "execution_count": 4
    }
   ]
  },
  {
   "cell_type": "markdown",
   "source": [
    "Load the burst mode segments"
   ],
   "metadata": {
    "id": "PiZ2ecn4EMwW"
   }
  },
  {
   "cell_type": "code",
   "source": "from pyspedas.projects.mms.mms_load_brst_segments import mms_load_brst_segments",
   "metadata": {
    "id": "fgsC37tO_t2D"
   },
   "execution_count": 5,
   "outputs": []
  },
  {
   "cell_type": "code",
   "source": [
    "starts, ends = mms_load_brst_segments(trange=trange)"
   ],
   "metadata": {
    "colab": {
     "base_uri": "https://localhost:8080/"
    },
    "id": "ksn21S2v_462",
    "outputId": "4d1930c2-8e12-4810-b4d0-b5688748c38c"
   },
   "execution_count": 6,
   "outputs": [
    {
     "output_type": "stream",
     "name": "stderr",
     "text": [
      "30-Nov-22 21:23:17: Downloading http://www.spedas.org/mms/mms_brst_intervals.sav to /content/pydata/mms_brst_intervals.sav\n",
      "30-Nov-22 21:23:18: Download complete: /content/pydata/mms_brst_intervals.sav\n"
     ]
    }
   ]
  },
  {
   "cell_type": "markdown",
   "source": [
    "The burst mode start times as stored in `starts` an the end times are stored in `ends`"
   ],
   "metadata": {
    "id": "3unoVMN2IPAL"
   }
  },
  {
   "cell_type": "code",
   "source": [
    "starts[0:5]"
   ],
   "metadata": {
    "colab": {
     "base_uri": "https://localhost:8080/"
    },
    "id": "jdUPki56IUi6",
    "outputId": "f3847cab-8111-4da4-e3d2-2a79dc7cd41c"
   },
   "execution_count": 7,
   "outputs": [
    {
     "output_type": "execute_result",
     "data": {
      "text/plain": [
       "array([1.44497517e+09, 1.44497524e+09, 1.44497532e+09, 1.44497646e+09,\n",
       "       1.44498226e+09])"
      ]
     },
     "metadata": {},
     "execution_count": 7
    }
   ]
  },
  {
   "cell_type": "code",
   "source": [
    "ends[0:5]"
   ],
   "metadata": {
    "colab": {
     "base_uri": "https://localhost:8080/"
    },
    "id": "tEFzPm8zIXDd",
    "outputId": "a4d5296e-18e0-4ce6-cef4-a26a8a8fc656"
   },
   "execution_count": 8,
   "outputs": [
    {
     "output_type": "execute_result",
     "data": {
      "text/plain": [
       "array([1.44497524e+09, 1.44497532e+09, 1.44497539e+09, 1.44497651e+09,\n",
       "       1.44498238e+09])"
      ]
     },
     "metadata": {},
     "execution_count": 8
    }
   ]
  },
  {
   "cell_type": "markdown",
   "source": [
    "Plot the FGM data with the burst segments (green bars at the top of the figure)"
   ],
   "metadata": {
    "id": "nAz8-9vLHsc9"
   }
  },
  {
   "metadata": {},
   "cell_type": "code",
   "outputs": [],
   "execution_count": null,
   "source": [
    "from pyspedas import tplot\n",
    "\n",
    "tplot(['mms_bss_burst', 'mms1_fgm_b_gse_srvy_l2_bvec'])"
   ]
  },
  {
   "cell_type": "markdown",
   "source": [
    "Print the burst mode segment selections from the SITL database"
   ],
   "metadata": {
    "id": "2SfOkqCgHxnx"
   }
  },
  {
   "cell_type": "code",
   "source": "from pyspedas.projects.mms.mms_events import mms_brst_events",
   "metadata": {
    "id": "DPisVULF-jma"
   },
   "execution_count": 10,
   "outputs": []
  },
  {
   "cell_type": "code",
   "source": [
    "mms_brst_events(trange=trange)"
   ],
   "metadata": {
    "colab": {
     "base_uri": "https://localhost:8080/"
    },
    "id": "55aY0Fd_-9Tq",
    "outputId": "83a3dd46-85dd-4691-93d8-3f8d0885047c"
   },
   "execution_count": 11,
   "outputs": [
    {
     "output_type": "stream",
     "name": "stderr",
     "text": [
      "30-Nov-22 21:23:19: Downloading https://lasp.colorado.edu/mms/sdc/public/service/latis/mms_burst_data_segment.csv to pydata/mms_burst_data_segment.csv\n",
      "30-Nov-22 21:23:27: Download complete: pydata/mms_burst_data_segment.csv\n",
      "30-Nov-22 21:23:28: Downloading https://cdf.gsfc.nasa.gov/html/CDFLeapSeconds.txt to data/CDFLeapSeconds.txt\n",
      "30-Nov-22 21:23:28: Download complete: data/CDFLeapSeconds.txt\n",
      "30-Nov-22 21:23:28: /usr/local/lib/python3.7/dist-packages/pandas/util/_decorators.py:311: ParserWarning: Length of header or names does not match length of data. This leads to a loss of data with index_col=False.\n",
      "  return func(*args, **kwargs)\n",
      "\n"
     ]
    },
    {
     "output_type": "stream",
     "name": "stdout",
     "text": [
      "2015-10-16/05:59:34 - 2015-10-16/06:00:34: Partial MP (fwilder(EVA))\n",
      "2015-10-16/06:00:44 - 2015-10-16/06:01:54: Partial MP (fwilder(EVA))\n",
      "2015-10-16/06:02:04 - 2015-10-16/06:03:04: Partial MP (fwilder(EVA))\n",
      "2015-10-16/06:21:01 - 2015-10-16/06:21:39: nan (bgiles(EVA))\n",
      "2015-10-16/06:33:54 - 2015-10-16/06:35:24: Partial MP (fwilder(EVA))\n",
      "2015-10-16/06:41:04 - 2015-10-16/06:42:54: Partial MP (fwilder(EVA))\n",
      "2015-10-16/07:57:44 - 2015-10-16/07:59:34: Partial MP + Close to Full (fwilder(EVA))\n",
      "2015-10-16/08:10:34 - 2015-10-16/08:11:44: Partial MP (fwilder(EVA))\n",
      "2015-10-16/08:19:14 - 2015-10-16/08:20:54: Full Low Shear MP (fwilder(EVA))\n",
      "2015-10-16/08:23:34 - 2015-10-16/08:24:24: Partial MP (fwilder(EVA))\n",
      "2015-10-16/08:26:44 - 2015-10-16/08:27:04: Partial MP (fwilder(EVA))\n",
      "2015-10-16/08:27:24 - 2015-10-16/08:27:44: Partial MP (fwilder(EVA))\n",
      "2015-10-16/08:28:04 - 2015-10-16/08:28:34: Partial MP (fwilder(EVA))\n",
      "2015-10-16/08:29:34 - 2015-10-16/08:30:04: Partial MP (fwilder(EVA))\n",
      "2015-10-16/08:31:44 - 2015-10-16/08:32:14: Partial MP (fwilder(EVA))\n",
      "2015-10-16/08:33:34 - 2015-10-16/08:33:54: Partial MP (fwilder(EVA))\n",
      "2015-10-16/08:34:44 - 2015-10-16/08:35:14: Partial MP (fwilder(EVA))\n",
      "2015-10-16/08:37:04 - 2015-10-16/08:37:24: Partial MP (fwilder(EVA))\n",
      "2015-10-16/08:38:04 - 2015-10-16/08:39:14: Full low shear MP (fwilder(EVA))\n",
      "2015-10-16/08:51:34 - 2015-10-16/08:52:04: Partial MP (fwilder(EVA))\n",
      "2015-10-16/08:52:44 - 2015-10-16/08:53:34: Partial MP (fwilder(EVA))\n",
      "2015-10-16/08:56:44 - 2015-10-16/08:57:24: Partial MP (fwilder(EVA))\n",
      "2015-10-16/08:57:44 - 2015-10-16/08:58:34: Partial MP (fwilder(EVA))\n",
      "2015-10-16/09:01:34 - 2015-10-16/09:02:14: Partial or Low Shear MP (fwilder(EVA))\n",
      "2015-10-16/09:03:04 - 2015-10-16/09:03:44: Partial or Low Shear MP (fwilder(EVA))\n",
      "2015-10-16/09:05:04 - 2015-10-16/09:06:14: nan (fwilder(EVA))\n",
      "2015-10-16/09:07:24 - 2015-10-16/09:08:04: Partial MP (fwilder(EVA))\n",
      "2015-10-16/09:22:24 - 2015-10-16/09:23:54: Full Slow MP With Vz Flow Enhancement (fwilder(EVA))\n",
      "2015-10-16/09:24:04 - 2015-10-16/09:25:24: Full Slow MP With Vz Flow Enhancement (fwilder(EVA))\n",
      "2015-10-16/09:25:34 - 2015-10-16/09:27:04: Full Slow MP With Vz Flow Enhancement (fwilder(EVA))\n",
      "2015-10-16/09:31:14 - 2015-10-16/09:32:24: Full Slow MP (fwilder(EVA))\n",
      "2015-10-16/09:32:34 - 2015-10-16/09:33:54: Full Slow MP (fwilder(EVA))\n",
      "2015-10-16/09:34:04 - 2015-10-16/09:35:14: Full Slow MP (fwilder(EVA))\n",
      "2015-10-16/09:35:54 - 2015-10-16/09:37:04: Full MP (fwilder(EVA))\n",
      "2015-10-16/09:40:54 - 2015-10-16/09:41:24: nan (ABS)\n",
      "2015-10-16/09:43:44 - 2015-10-16/09:45:44: Partial MP With Vz Flow Reversal (fwilder(EVA))\n",
      "2015-10-16/09:53:04 - 2015-10-16/09:53:54: Full MP (fwilder(EVA))\n",
      "2015-10-16/09:54:04 - 2015-10-16/09:55:04: Full MP (fwilder(EVA))\n",
      "2015-10-16/09:57:24 - 2015-10-16/09:58:34: Partial MP (fwilder(EVA))\n",
      "2015-10-16/09:58:44 - 2015-10-16/10:00:54: Partial MP with long lived Jet (fwilder(EVA))\n",
      "2015-10-16/10:01:44 - 2015-10-16/10:03:04: Full MP (fwilder(EVA))\n",
      "2015-10-16/10:19:54 - 2015-10-16/10:20:54: MP (fwilder(EVA))\n",
      "2015-10-16/10:25:34 - 2015-10-16/10:26:34: MP (fwilder(EVA))\n",
      "2015-10-16/10:29:44 - 2015-10-16/10:30:44: MP (fwilder(EVA))\n",
      "2015-10-16/10:32:54 - 2015-10-16/10:34:04: Partial MP With Deep Bz Minima (tphan(EVA))\n",
      "2015-10-16/10:34:14 - 2015-10-16/10:35:44: Partial MP With Possible Jet and Wave Activity (tphan(EVA))\n",
      "2015-10-16/10:36:54 - 2015-10-16/10:38:24: MP With Near Zero Field and Possible Jet (fwilder(EVA))\n",
      "2015-10-16/10:44:24 - 2015-10-16/10:45:24: MP With Near Zero Field (fwilder(EVA))\n",
      "2015-10-16/10:45:54 - 2015-10-16/10:46:34: MP With Near Zero Field and Jet (fwilder(EVA))\n",
      "2015-10-16/10:48:34 - 2015-10-16/10:49:14: Full MP With Possible Jet (fwilder(EVA))\n",
      "2015-10-16/10:54:54 - 2015-10-16/10:55:54: Full MP (fwilder(EVA))\n",
      "2015-10-16/11:09:34 - 2015-10-16/11:11:04: Low Shear MP (fwilder(EVA))\n",
      "2015-10-16/11:17:24 - 2015-10-16/11:19:24: Partial MP (fwilder(EVA))\n",
      "2015-10-16/11:25:54 - 2015-10-16/11:27:34: MP With Jet (fwilder(EVA))\n",
      "2015-10-16/11:27:54 - 2015-10-16/11:29:04: MP (fwilder(EVA))\n",
      "2015-10-16/11:29:14 - 2015-10-16/11:30:34: MP (fwilder(EVA))\n",
      "2015-10-16/11:38:44 - 2015-10-16/11:39:44: MP. Maybe Jet? (fwilder(EVA))\n",
      "2015-10-16/11:40:04 - 2015-10-16/11:41:24: MP (fwilder(EVA))\n",
      "2015-10-16/11:48:14 - 2015-10-16/11:49:04: Partial MP (fwilder(EVA))\n",
      "2015-10-16/11:55:34 - 2015-10-16/11:56:34: Partial MP (fwilder(EVA))\n",
      "2015-10-16/12:38:04 - 2015-10-16/12:39:04: Partial MP (fwilder(EVA))\n",
      "2015-10-16/12:56:04 - 2015-10-16/12:58:24: Full MP (fwilder(EVA))\n",
      "2015-10-16/12:58:44 - 2015-10-16/13:00:24: Partial MP (fwilder(EVA))\n",
      "2015-10-16/13:01:44 - 2015-10-16/13:02:04: Partial MP (fwilder(EVA))\n",
      "2015-10-16/13:02:24 - 2015-10-16/13:03:04: Partial MP With Jet (fwilder(EVA))\n",
      "2015-10-16/13:03:34 - 2015-10-16/13:04:54: Partial (fwilder(EVA))\n",
      "2015-10-16/13:05:24 - 2015-10-16/13:07:34: Full MP With Jet and B Minima (fwilder(EVA))\n",
      "2015-10-16/13:09:04 - 2015-10-16/13:09:34: Partial MP With Jet (fwilder(EVA))\n",
      "2015-10-16/13:12:44 - 2015-10-16/13:13:24: Partial MP (fwilder(EVA))\n",
      "2015-10-16/13:33:44 - 2015-10-16/13:35:14: Partial MP Maybe With Jet (fwilder(EVA))\n",
      "2015-10-16/13:39:04 - 2015-10-16/13:41:34: Full MP (fwilder(EVA))\n",
      "2015-10-16/13:54:04 - 2015-10-16/13:55:24: Long lived partial crossing with Jet (fwilder(EVA))\n",
      "2015-10-16/13:55:34 - 2015-10-16/13:57:04: Long lived partial crossing with Jet (fwilder(EVA))\n",
      "2015-10-16/13:57:14 - 2015-10-16/13:58:34: Long lived partial crossing with Jet (fwilder(EVA))\n",
      "2015-10-16/14:05:44 - 2015-10-16/14:06:54: Partial MP With Flow Reversal (fwilder(EVA))\n",
      "2015-10-16/14:07:04 - 2015-10-16/14:08:24: Partial MP With Flow Reversal (fwilder(EVA))\n",
      "2015-10-16/14:10:44 - 2015-10-16/14:11:44: Partial MP (fwilder(EVA))\n",
      "2015-10-16/14:22:44 - 2015-10-16/14:23:24: Partial MP (fwilder(EVA))\n",
      "2015-10-16/14:50:04 - 2015-10-16/14:50:54: Ion dispersions (fwilder(EVA))\n",
      "2015-10-16/14:51:04 - 2015-10-16/14:52:34: MP With B Minima (fwilder(EVA))\n",
      "2015-10-16/14:52:44 - 2015-10-16/14:53:44: Interesting Ion Dispersions (fwilder(EVA))\n",
      "2015-10-16/14:53:54 - 2015-10-16/14:55:04: MP (fwilder(EVA))\n",
      "2015-10-16/14:55:14 - 2015-10-16/14:55:24: Ion Dispersions (fwilder(EVA))\n",
      "2015-10-16/14:55:34 - 2015-10-16/14:56:34: MP With Vz Reversal and Magnetic Minima (fwilder(EVA))\n",
      "2015-10-16/14:56:44 - 2015-10-16/14:57:44: Ion dispersions (fwilder(EVA))\n"
     ]
    }
   ]
  },
  {
   "cell_type": "markdown",
   "source": [
    "Highlight the \"Full MP With Jet and B Minima\" interval"
   ],
   "metadata": {
    "id": "YeGqJWYiA4I9"
   }
  },
  {
   "metadata": {},
   "cell_type": "code",
   "outputs": [],
   "execution_count": null,
   "source": [
    "from pyspedas import highlight\n",
    "\n",
    "mp = pyspedas.time_double(['2015-10-16/13:05:24', '2015-10-16/13:07:34'])\n",
    "\n",
    "highlight(['mms1_fgm_b_gse_srvy_l2_bvec'], mp)\n",
    "\n",
    "tplot(['mms_bss_burst', 'mms1_fgm_b_gse_srvy_l2_bvec'])"
   ]
  },
  {
   "cell_type": "markdown",
   "source": [
    "Zoom in for a closer look\n",
    "\n"
   ],
   "metadata": {
    "id": "6cW11MNxCihd"
   }
  },
  {
   "metadata": {},
   "cell_type": "code",
   "outputs": [],
   "execution_count": null,
   "source": [
    "from pyspedas import tlimit\n",
    "\n",
    "tlimit([mp[0]-60.0, mp[1]+60.0])\n",
    "\n",
    "tplot(['mms_bss_burst', 'mms1_fgm_b_gse_srvy_l2_bvec'])"
   ]
  },
  {
   "cell_type": "markdown",
   "source": [
    "Load the burst mode FGM data"
   ],
   "metadata": {
    "id": "fcCFVV8kIHeb"
   }
  },
  {
   "cell_type": "code",
   "source": "pyspedas.projects.mms.fgm(trange=mp, data_rate='brst', time_clip=True)",
   "metadata": {
    "colab": {
     "base_uri": "https://localhost:8080/"
    },
    "id": "ZrgH5MDpCeOv",
    "outputId": "b4fa485c-83df-4621-adb3-72aebe849ba4"
   },
   "execution_count": 14,
   "outputs": [
    {
     "output_type": "stream",
     "name": "stderr",
     "text": [
      "30-Nov-22 21:23:30: Downloading mms1_fgm_brst_l2_20151016130334_v4.18.1.cdf to pydata/mms1/fgm/brst/l2/2015/10/16\n",
      "30-Nov-22 21:23:31: Downloading mms1_fgm_brst_l2_20151016130524_v4.18.1.cdf to pydata/mms1/fgm/brst/l2/2015/10/16\n",
      "30-Nov-22 21:23:32: Time clip was applied to: mms1_fgm_b_gse_brst_l2\n",
      "30-Nov-22 21:23:32: Time clip was applied to: mms1_fgm_b_gsm_brst_l2\n"
     ]
    },
    {
     "output_type": "stream",
     "name": "stdout",
     "text": [
      "The lengths of x and y do not match!\n",
      "mms1_fgm_rdeltahalf_brst_l2 is currently not in pytplot.\n",
      "mms1_fgm_rdeltahalf_brst_l2 is currently not in pytplot.\n",
      "mms1_fgm_rdeltahalf_brst_l2 is currently not in pytplot.\n",
      "mms1_fgm_rdeltahalf_brst_l2 is currently not in pytplot.\n"
     ]
    },
    {
     "output_type": "stream",
     "name": "stderr",
     "text": [
      "30-Nov-22 21:23:32: Time clip was applied to: mms1_fgm_b_dmpa_brst_l2\n",
      "30-Nov-22 21:23:32: Time clip was applied to: mms1_fgm_b_bcs_brst_l2\n",
      "30-Nov-22 21:23:32: Time clip was applied to: mms1_fgm_flag_brst_l2\n",
      "30-Nov-22 21:23:32: Time clip was applied to: mms1_fgm_r_gse_brst_l2\n",
      "30-Nov-22 21:23:32: Time clip was applied to: mms1_fgm_r_gsm_brst_l2\n",
      "30-Nov-22 21:23:32: Time clip was applied to: mms1_fgm_hirange_brst_l2\n",
      "30-Nov-22 21:23:32: Time clip was applied to: mms1_fgm_bdeltahalf_brst_l2\n",
      "30-Nov-22 21:23:33: Time clip was applied to: mms1_fgm_stemp_brst_l2\n",
      "30-Nov-22 21:23:33: Time clip was applied to: mms1_fgm_etemp_brst_l2\n",
      "30-Nov-22 21:23:33: Time clip was applied to: mms1_fgm_mode_brst_l2\n",
      "30-Nov-22 21:23:33: Time clip error: No pytplot names were provided.\n",
      "30-Nov-22 21:23:33: Loaded variables:\n",
      "30-Nov-22 21:23:33: Epoch\n",
      "30-Nov-22 21:23:33: mms1_fgm_b_gse_brst_l2\n",
      "30-Nov-22 21:23:33: mms1_fgm_b_gsm_brst_l2\n",
      "30-Nov-22 21:23:33: mms1_fgm_b_dmpa_brst_l2\n",
      "30-Nov-22 21:23:33: mms1_fgm_b_bcs_brst_l2\n",
      "30-Nov-22 21:23:33: mms1_fgm_flag_brst_l2\n",
      "30-Nov-22 21:23:33: Epoch_state\n",
      "30-Nov-22 21:23:33: mms1_fgm_hirange_brst_l2\n",
      "30-Nov-22 21:23:33: mms1_fgm_bdeltahalf_brst_l2\n",
      "30-Nov-22 21:23:33: mms1_fgm_stemp_brst_l2\n",
      "30-Nov-22 21:23:33: mms1_fgm_etemp_brst_l2\n",
      "30-Nov-22 21:23:33: mms1_fgm_mode_brst_l2\n",
      "30-Nov-22 21:23:33: mms1_fgm_rdeltahalf_brst_l2\n",
      "30-Nov-22 21:23:33: mms1_fgm_b_dmpa_brst_l2_bvec\n",
      "30-Nov-22 21:23:33: mms1_fgm_b_dmpa_brst_l2_btot\n",
      "30-Nov-22 21:23:33: mms1_fgm_b_gse_brst_l2_bvec\n",
      "30-Nov-22 21:23:33: mms1_fgm_b_gse_brst_l2_btot\n",
      "30-Nov-22 21:23:33: mms1_fgm_b_gsm_brst_l2_bvec\n",
      "30-Nov-22 21:23:33: mms1_fgm_b_gsm_brst_l2_btot\n",
      "30-Nov-22 21:23:33: mms1_fgm_b_bcs_brst_l2_bvec\n",
      "30-Nov-22 21:23:33: mms1_fgm_b_bcs_brst_l2_btot\n"
     ]
    },
    {
     "output_type": "execute_result",
     "data": {
      "text/plain": [
       "['Epoch',\n",
       " 'mms1_fgm_b_gse_brst_l2',\n",
       " 'mms1_fgm_b_gsm_brst_l2',\n",
       " 'mms1_fgm_b_dmpa_brst_l2',\n",
       " 'mms1_fgm_b_bcs_brst_l2',\n",
       " 'mms1_fgm_flag_brst_l2',\n",
       " 'Epoch_state',\n",
       " 'mms1_fgm_hirange_brst_l2',\n",
       " 'mms1_fgm_bdeltahalf_brst_l2',\n",
       " 'mms1_fgm_stemp_brst_l2',\n",
       " 'mms1_fgm_etemp_brst_l2',\n",
       " 'mms1_fgm_mode_brst_l2',\n",
       " 'mms1_fgm_rdeltahalf_brst_l2',\n",
       " 'mms1_fgm_b_dmpa_brst_l2_bvec',\n",
       " 'mms1_fgm_b_dmpa_brst_l2_btot',\n",
       " 'mms1_fgm_b_gse_brst_l2_bvec',\n",
       " 'mms1_fgm_b_gse_brst_l2_btot',\n",
       " 'mms1_fgm_b_gsm_brst_l2_bvec',\n",
       " 'mms1_fgm_b_gsm_brst_l2_btot',\n",
       " 'mms1_fgm_b_bcs_brst_l2_bvec',\n",
       " 'mms1_fgm_b_bcs_brst_l2_btot']"
      ]
     },
     "metadata": {},
     "execution_count": 14
    }
   ]
  },
  {
   "cell_type": "markdown",
   "source": [
    "Plot the burst mode FGM data"
   ],
   "metadata": {
    "id": "4yl06sOkDmt4"
   }
  },
  {
   "cell_type": "code",
   "source": [
    "tplot(['mms_bss_burst', 'mms1_fgm_b_gse_brst_l2_bvec'])"
   ],
   "metadata": {
    "colab": {
     "base_uri": "https://localhost:8080/",
     "height": 336
    },
    "id": "8JmobvW2CzYu",
    "outputId": "0f8f107b-9b52-4c98-fd6c-c1011a091685"
   },
   "execution_count": 15,
   "outputs": [
    {
     "output_type": "display_data",
     "data": {
      "text/plain": [
       "<Figure size 864x360 with 2 Axes>"
      ],
      "image/png": "[encoded data removed]"
     },
     "metadata": {
      "needs_background": "light"
     }
    }
   ]
  },
  {
   "cell_type": "markdown",
   "source": [
    "Compare the time stamps (survey mode vs. burst mode)"
   ],
   "metadata": {
    "id": "QTH5CttEDqBG"
   }
  },
  {
   "metadata": {},
   "cell_type": "code",
   "outputs": [],
   "execution_count": null,
   "source": "from pyspedas import get_data"
  },
  {
   "metadata": {},
   "cell_type": "code",
   "outputs": [],
   "execution_count": null,
   "source": [
    "brst = get_data('mms1_fgm_b_gse_brst_l2_bvec')\n",
    "srvy = get_data('mms1_fgm_b_gse_srvy_l2_bvec')"
   ]
  },
  {
   "cell_type": "markdown",
   "source": [
    "Survey mode: data point every 0.125 seconds"
   ],
   "metadata": {
    "id": "GUTcQFTlDO1H"
   }
  },
  {
   "cell_type": "code",
   "source": [
    "srvy.times[1]-srvy.times[0]"
   ],
   "metadata": {
    "colab": {
     "base_uri": "https://localhost:8080/"
    },
    "id": "8k9XlU06DNno",
    "outputId": "ccbff5dd-dc26-4b18-8673-5fef6464a3a5"
   },
   "execution_count": 18,
   "outputs": [
    {
     "output_type": "execute_result",
     "data": {
      "text/plain": [
       "0.1250009536743164"
      ]
     },
     "metadata": {},
     "execution_count": 18
    }
   ]
  },
  {
   "cell_type": "markdown",
   "source": [
    "Burst mode: data point every 0.0078 seconds (where data are available)"
   ],
   "metadata": {
    "id": "0ZltJgpQDU5Z"
   }
  },
  {
   "cell_type": "code",
   "source": [
    "brst.times[1]-brst.times[0]"
   ],
   "metadata": {
    "colab": {
     "base_uri": "https://localhost:8080/"
    },
    "id": "rlBTgDAlDSiN",
    "outputId": "2daa6f04-2254-4c68-cf53-dcc8a35cdba6"
   },
   "execution_count": 19,
   "outputs": [
    {
     "output_type": "execute_result",
     "data": {
      "text/plain": [
       "0.007812023162841797"
      ]
     },
     "metadata": {},
     "execution_count": 19
    }
   ]
  }
 ]
}
