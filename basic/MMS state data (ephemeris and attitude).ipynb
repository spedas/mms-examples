{
 "cells": [
  {
   "cell_type": "markdown",
   "metadata": {},
   "source": [
    "# MMS state data (ephemeris and attitude)\n",
    "\n",
    "This notebook shows how to load and plot MMS state data with pySPEDAS and pyTplot\n",
    "\n",
    "Note: see also the MEC (MMS ephemeris and coordinates) notebook for loading MEC data. \n",
    "\n"
   ]
  },
  {
   "cell_type": "markdown",
   "metadata": {},
   "source": [
    "## Get started\n",
    "\n",
    "To get started, import the `pyspedas` package, and `tplot` from `pytplot`"
   ]
  },
  {
   "cell_type": "code",
   "execution_count": 1,
   "metadata": {},
   "outputs": [],
   "source": [
    "import pyspedas\n",
    "from pytplot import tplot"
   ]
  },
  {
   "cell_type": "markdown",
   "metadata": {},
   "source": [
    "Load the definitive position data for MMS2 on Oct 16, 2015"
   ]
  },
  {
   "cell_type": "code",
   "execution_count": 2,
   "metadata": {},
   "outputs": [
    {
     "name": "stderr",
     "output_type": "stream",
     "text": [
      "26-Aug-20 15:33:55: Loading /Volumes/data/data/mms/ancillary/mms2/defeph/MMS2_DEFEPH_2015289_2015290.V01\n",
      "26-Aug-20 15:33:55: Loading /Volumes/data/data/mms/ancillary/mms2/defeph/MMS2_DEFEPH_2015288_2015289.V01\n"
     ]
    },
    {
     "name": "stdout",
     "output_type": "stream",
     "text": [
      "Time clip was applied to: mms2_defeph_pos\n"
     ]
    }
   ],
   "source": [
    "pyspedas.mms.state(trange=['2015-10-16', '2015-10-17'], datatypes='pos', probe=2)"
   ]
  },
  {
   "cell_type": "markdown",
   "metadata": {},
   "source": [
    "Create the plot"
   ]
  },
  {
   "cell_type": "code",
   "execution_count": 3,
   "metadata": {},
   "outputs": [],
   "source": [
    "tplot('mms2_defeph_pos')"
   ]
  },
  {
   "cell_type": "markdown",
   "metadata": {},
   "source": [
    "Load the attitude data for probes 1 and 2"
   ]
  },
  {
   "cell_type": "code",
   "execution_count": 4,
   "metadata": {},
   "outputs": [
    {
     "name": "stderr",
     "output_type": "stream",
     "text": [
      "26-Aug-20 15:34:14: Loading /Volumes/data/data/mms/ancillary/mms1/defatt/MMS1_DEFATT_2015289_2015290.V00\n",
      "26-Aug-20 15:34:14: Loading /Volumes/data/data/mms/ancillary/mms1/defatt/MMS1_DEFATT_2015289_2015289.V00\n",
      "26-Aug-20 15:34:14: Loading /Volumes/data/data/mms/ancillary/mms1/defatt/MMS1_DEFATT_2015288_2015289.V00\n",
      "26-Aug-20 15:34:14: Loading attitude files can take some time; please be patient...\n"
     ]
    },
    {
     "name": "stdout",
     "output_type": "stream",
     "text": [
      "Time clip was applied to: mms1_defatt_spinras\n",
      "Time clip was applied to: mms1_defatt_spindec\n"
     ]
    },
    {
     "name": "stderr",
     "output_type": "stream",
     "text": [
      "26-Aug-20 15:36:59: Loading /Volumes/data/data/mms/ancillary/mms2/defatt/MMS2_DEFATT_2015289_2015290.V00\n",
      "26-Aug-20 15:36:59: Loading /Volumes/data/data/mms/ancillary/mms2/defatt/MMS2_DEFATT_2015289_2015289.V00\n",
      "26-Aug-20 15:36:59: Loading /Volumes/data/data/mms/ancillary/mms2/defatt/MMS2_DEFATT_2015288_2015289.V00\n",
      "26-Aug-20 15:36:59: Loading attitude files can take some time; please be patient...\n"
     ]
    },
    {
     "name": "stdout",
     "output_type": "stream",
     "text": [
      "Time clip was applied to: mms2_defatt_spinras\n",
      "Time clip was applied to: mms2_defatt_spindec\n"
     ]
    }
   ],
   "source": [
    "pyspedas.mms.state(datatypes=['spinras', 'spindec'], trange=['2015-10-16', '2015-10-17'], probe=[1, 2])"
   ]
  },
  {
   "cell_type": "markdown",
   "metadata": {},
   "source": [
    "Now plot the attitude data"
   ]
  },
  {
   "cell_type": "code",
   "execution_count": 5,
   "metadata": {},
   "outputs": [],
   "source": [
    "tplot(['mms1_defatt_spinras', 'mms1_defatt_spindec', 'mms2_defatt_spinras', 'mms2_defatt_spindec'])"
   ]
  },
  {
   "cell_type": "code",
   "execution_count": null,
   "metadata": {},
   "outputs": [],
   "source": []
  }
 ],
 "metadata": {
  "kernelspec": {
   "display_name": "Python 3",
   "language": "python",
   "name": "python3"
  },
  "language_info": {
   "codemirror_mode": {
    "name": "ipython",
    "version": 3
   },
   "file_extension": ".py",
   "mimetype": "text/x-python",
   "name": "python",
   "nbconvert_exporter": "python",
   "pygments_lexer": "ipython3",
   "version": "3.7.6"
  }
 },
 "nbformat": 4,
 "nbformat_minor": 4
}
