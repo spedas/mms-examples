{
  "cells": [
    {
      "cell_type": "markdown",
      "metadata": {
        "id": "Aj5Bsgl7uwnb"
      },
      "source": [
        "# Plasma Beta with FGM and FPI data\n",
        "\n",
        "This notebook shows how to calculate plasma beta with FGM and FPI data"
      ]
    },
    {
      "cell_type": "markdown",
      "metadata": {
        "id": "KNJRbVDeuwnh"
      },
      "source": [
        "## Get started"
      ]
    },
    {
      "cell_type": "code",
      "execution_count": 2,
      "metadata": {
        "id": "6H5xcyaiuwni"
      },
      "outputs": [],
      "source": [
        "from pyspedas.mms import fgm, fpi # load routines\n",
        "from pyspedas import tinterpol # interpolate tplot variables\n",
        "from pytplot import tplot, get_data, store_data # plot, access, and create tplot variables"
      ]
    },
    {
      "cell_type": "markdown",
      "metadata": {
        "id": "TAwmO6fluwnk"
      },
      "source": [
        "## Define some constants"
      ]
    },
    {
      "cell_type": "code",
      "execution_count": 3,
      "metadata": {
        "id": "55-RQnwpuwnl"
      },
      "outputs": [],
      "source": [
        "mu0 = 1256.0 # nT-m/A\n",
        "Kb = 1.3807*10**(-16.) # cm^2-g-1/s^2-1/K"
      ]
    },
    {
      "cell_type": "markdown",
      "metadata": {
        "id": "XuQB89akuwnm"
      },
      "source": [
        "## Set some options for the load routines"
      ]
    },
    {
      "cell_type": "code",
      "execution_count": 4,
      "metadata": {
        "id": "JC_r8wvNuwnm"
      },
      "outputs": [],
      "source": [
        "probe = '1'\n",
        "trange = ['2015-10-16/11:00', '2015-10-16/14:00']"
      ]
    },
    {
      "cell_type": "markdown",
      "metadata": {
        "id": "sSCr4Fuwuwnn"
      },
      "source": [
        "## Load the FGM and FPI data"
      ]
    },
    {
      "cell_type": "code",
      "execution_count": 5,
      "metadata": {
        "colab": {
          "base_uri": "https://localhost:8080/"
        },
        "id": "D0ZGRuoSuwno",
        "outputId": "af873707-8790-4ec0-e878-1bd8ab596966"
      },
      "outputs": [
        {
          "name": "stdout",
          "output_type": "stream",
          "text": [
            "SDC username (blank for public access): \n"
          ]
        },
        {
          "output_type": "stream",
          "name": "stderr",
          "text": [
            "26-Jan-22 23:45:57: Downloading mms1_fgm_srvy_l2_20151016_v4.18.0.cdf to pydata/mms1/fgm/srvy/l2/2015/10\n"
          ]
        },
        {
          "output_type": "stream",
          "name": "stdout",
          "text": [
            "The lengths of x and y do not match!\n",
            "mms1_fgm_rdeltahalf_srvy_l2 is currently not in pytplot.\n",
            "mms1_fgm_rdeltahalf_srvy_l2 is currently not in pytplot.\n",
            "mms1_fgm_rdeltahalf_srvy_l2 is currently not in pytplot.\n",
            "That name is currently not in pytplot\n",
            "That name is currently not in pytplot\n",
            "Loaded variables:\n",
            "Epoch\n",
            "mms1_fgm_b_gse_srvy_l2\n",
            "mms1_fgm_b_gsm_srvy_l2\n",
            "mms1_fgm_b_dmpa_srvy_l2\n",
            "mms1_fgm_b_bcs_srvy_l2\n",
            "mms1_fgm_flag_srvy_l2\n",
            "Epoch_state\n",
            "mms1_fgm_hirange_srvy_l2\n",
            "mms1_fgm_bdeltahalf_srvy_l2\n",
            "mms1_fgm_stemp_srvy_l2\n",
            "mms1_fgm_etemp_srvy_l2\n",
            "mms1_fgm_mode_srvy_l2\n",
            "mms1_fgm_rdeltahalf_srvy_l2\n",
            "mms1_fgm_b_dmpa_srvy_l2_bvec\n",
            "mms1_fgm_b_dmpa_srvy_l2_btot\n",
            "mms1_fgm_b_gse_srvy_l2_bvec\n",
            "mms1_fgm_b_gse_srvy_l2_btot\n",
            "mms1_fgm_b_gsm_srvy_l2_bvec\n",
            "mms1_fgm_b_gsm_srvy_l2_btot\n",
            "mms1_fgm_b_bcs_srvy_l2_bvec\n",
            "mms1_fgm_b_bcs_srvy_l2_btot\n"
          ]
        },
        {
          "output_type": "stream",
          "name": "stderr",
          "text": [
            "26-Jan-22 23:46:18: Downloading mms1_fpi_fast_l2_dis-moms_20151016100000_v3.3.0.cdf to pydata/mms1/fpi/fast/l2/dis-moms/2015/10\n",
            "26-Jan-22 23:46:19: Downloading mms1_fpi_fast_l2_dis-moms_20151016120000_v3.3.0.cdf to pydata/mms1/fpi/fast/l2/dis-moms/2015/10\n",
            "26-Jan-22 23:46:19: Downloading mms1_fpi_fast_l2_des-moms_20151016100000_v3.3.0.cdf to pydata/mms1/fpi/fast/l2/des-moms/2015/10\n",
            "26-Jan-22 23:46:20: Downloading mms1_fpi_fast_l2_des-moms_20151016120000_v3.3.0.cdf to pydata/mms1/fpi/fast/l2/des-moms/2015/10\n"
          ]
        },
        {
          "output_type": "stream",
          "name": "stdout",
          "text": [
            "That name is currently not in pytplot\n",
            "That name is currently not in pytplot\n",
            "That name is currently not in pytplot\n",
            "Loaded variables:\n",
            "Epoch\n",
            "Epoch_plus_var\n",
            "Epoch_minus_var\n",
            "mms1_des_errorflags_fast\n",
            "mms1_des_compressionloss_fast\n",
            "mms1_des_startdelphi_count_fast\n",
            "mms1_des_startdelphi_angle_fast\n",
            "mms1_des_pitchangdist_lowen_fast\n",
            "mms1_des_pitchangdist_miden_fast\n",
            "mms1_des_pitchangdist_highen_fast\n",
            "mms1_des_energyspectr_px_fast\n",
            "mms1_des_energyspectr_mx_fast\n",
            "mms1_des_energyspectr_py_fast\n",
            "mms1_des_energyspectr_my_fast\n",
            "mms1_des_energyspectr_pz_fast\n",
            "mms1_des_energyspectr_mz_fast\n",
            "mms1_des_energyspectr_par_fast\n",
            "mms1_des_energyspectr_anti_fast\n",
            "mms1_des_energyspectr_perp_fast\n",
            "mms1_des_energyspectr_omni_fast\n",
            "mms1_des_numberdensity_fast\n",
            "mms1_des_numberdensity_err_fast\n",
            "mms1_des_densityextrapolation_low_fast\n",
            "mms1_des_densityextrapolation_high_fast\n",
            "mms1_des_bulkv_dbcs_fast\n",
            "mms1_des_bulkv_spintone_dbcs_fast\n",
            "mms1_des_bulkv_gse_fast\n",
            "mms1_des_bulkv_spintone_gse_fast\n",
            "mms1_des_bulkv_err_fast\n",
            "mms1_des_prestensor_dbcs_fast\n",
            "mms1_des_prestensor_gse_fast\n",
            "mms1_des_prestensor_err_fast\n",
            "mms1_des_temptensor_dbcs_fast\n",
            "mms1_des_temptensor_gse_fast\n",
            "mms1_des_temptensor_err_fast\n",
            "mms1_des_heatq_dbcs_fast\n",
            "mms1_des_heatq_gse_fast\n",
            "mms1_des_heatq_err_fast\n",
            "mms1_des_alpha_fast\n",
            "mms1_des_alpha_delta_fast\n",
            "mms1_des_energy_fast\n",
            "mms1_des_energy_delta_fast\n",
            "mms1_des_temppara_fast\n",
            "mms1_des_tempperp_fast\n",
            "mms1_dis_errorflags_fast\n",
            "mms1_dis_compressionloss_fast\n",
            "mms1_dis_startdelphi_count_fast\n",
            "mms1_dis_startdelphi_angle_fast\n",
            "mms1_dis_energyspectr_px_fast\n",
            "mms1_dis_energyspectr_mx_fast\n",
            "mms1_dis_energyspectr_py_fast\n",
            "mms1_dis_energyspectr_my_fast\n",
            "mms1_dis_energyspectr_pz_fast\n",
            "mms1_dis_energyspectr_mz_fast\n",
            "mms1_dis_energyspectr_omni_fast\n",
            "mms1_dis_spectr_bg_fast\n",
            "mms1_dis_numberdensity_bg_fast\n",
            "mms1_dis_numberdensity_fast\n",
            "mms1_dis_numberdensity_err_fast\n",
            "mms1_dis_densityextrapolation_low_fast\n",
            "mms1_dis_densityextrapolation_high_fast\n",
            "mms1_dis_bulkv_dbcs_fast\n",
            "mms1_dis_bulkv_spintone_dbcs_fast\n",
            "mms1_dis_bulkv_gse_fast\n",
            "mms1_dis_bulkv_spintone_gse_fast\n",
            "mms1_dis_bulkv_err_fast\n",
            "mms1_dis_prestensor_dbcs_fast\n",
            "mms1_dis_prestensor_gse_fast\n",
            "mms1_dis_prestensor_err_fast\n",
            "mms1_dis_pres_bg_fast\n",
            "mms1_dis_temptensor_dbcs_fast\n",
            "mms1_dis_temptensor_gse_fast\n",
            "mms1_dis_temptensor_err_fast\n",
            "mms1_dis_heatq_dbcs_fast\n",
            "mms1_dis_heatq_gse_fast\n",
            "mms1_dis_heatq_err_fast\n",
            "mms1_dis_energy_fast\n",
            "mms1_dis_energy_delta_fast\n",
            "mms1_dis_temppara_fast\n",
            "mms1_dis_tempperp_fast\n",
            "mms1_des_pitchangdist_avg\n"
          ]
        }
      ],
      "source": [
        "fgm_vars = fgm(trange=trange, probe=probe)\n",
        "fpi_vars = fpi(datatype=['dis-moms', 'des-moms'], trange=trange, probe=probe, center_measurement=True)"
      ]
    },
    {
      "cell_type": "markdown",
      "metadata": {
        "id": "KTz44QWhuwnq"
      },
      "source": [
        "## Set some variable names"
      ]
    },
    {
      "cell_type": "code",
      "execution_count": 6,
      "metadata": {
        "id": "eYyeCsinuwnq"
      },
      "outputs": [],
      "source": [
        "temp_para_i = 'mms'+probe+'_dis_temppara_fast'\n",
        "temp_perp_i = 'mms'+probe+'_dis_tempperp_fast'\n",
        "temp_para_e = 'mms'+probe+'_des_temppara_fast'\n",
        "temp_perp_e = 'mms'+probe+'_des_tempperp_fast'\n",
        "number_density_i = 'mms'+probe+'_dis_numberdensity_fast'\n",
        "number_density_e = 'mms'+probe+'_des_numberdensity_fast'\n",
        "b_field = 'mms'+probe+'_fgm_b_gsm_srvy_l2'\n",
        "b_magnitude = 'mms'+probe+'_fgm_b_gsm_srvy_l2_mag'"
      ]
    },
    {
      "cell_type": "markdown",
      "metadata": {
        "id": "uAa5l0RAuwnr"
      },
      "source": [
        "## Split the B-field magnitude into its own variable"
      ]
    },
    {
      "cell_type": "code",
      "execution_count": 7,
      "metadata": {
        "colab": {
          "base_uri": "https://localhost:8080/"
        },
        "id": "t5xLNkJ6uwns",
        "outputId": "15c2054c-2da5-4a3c-ee7b-a90269e27623"
      },
      "outputs": [
        {
          "output_type": "execute_result",
          "data": {
            "text/plain": [
              "True"
            ]
          },
          "metadata": {},
          "execution_count": 7
        }
      ],
      "source": [
        "times, data = get_data(b_field)\n",
        "store_data(b_magnitude, data={'x': times, 'y': data[:, 3]})"
      ]
    },
    {
      "cell_type": "markdown",
      "metadata": {
        "id": "Be0UUiuBuwnt"
      },
      "source": [
        "## Interpolate the B-field data to the FPI time stamps"
      ]
    },
    {
      "cell_type": "code",
      "execution_count": 8,
      "metadata": {
        "colab": {
          "base_uri": "https://localhost:8080/"
        },
        "id": "tbWXXesvuwnu",
        "outputId": "b56f4cad-3d17-4a37-8e29-ffc33f2bd6de"
      },
      "outputs": [
        {
          "output_type": "stream",
          "name": "stdout",
          "text": [
            "tinterpol (linear) was applied to: b_mag_interpolated\n"
          ]
        }
      ],
      "source": [
        "tinterpol(b_magnitude, number_density_i, newname=['b_mag_interpolated'])"
      ]
    },
    {
      "cell_type": "markdown",
      "metadata": {
        "id": "9vuX5x1Yuwnv"
      },
      "source": [
        "## Extract the data from the pyTplot variables"
      ]
    },
    {
      "cell_type": "code",
      "execution_count": 9,
      "metadata": {
        "id": "tBYIX5druwnv"
      },
      "outputs": [],
      "source": [
        "btimes, bdata = get_data('b_mag_interpolated')\n",
        "\n",
        "ipatimes, i_para_temp = get_data(temp_para_i)\n",
        "ipetimes, i_perp_temp = get_data(temp_perp_i)\n",
        "epatimes, e_para_temp = get_data(temp_para_e)\n",
        "epetimes, e_perp_temp = get_data(temp_perp_e)\n",
        "\n",
        "nitimes, i_n = get_data(number_density_i)\n",
        "netimes, e_n = get_data(number_density_e)"
      ]
    },
    {
      "cell_type": "markdown",
      "metadata": {
        "id": "5RuXShRouwnw"
      },
      "source": [
        "## Calculate the magnetic pressure\n",
        "\n",
        "note: 1.0e-8 comes from A-nT/m -> g/(s^2-cm)"
      ]
    },
    {
      "cell_type": "code",
      "execution_count": 10,
      "metadata": {
        "id": "w2cMPYT1uwnx"
      },
      "outputs": [],
      "source": [
        "Pmag = 1.0e-8*bdata**2/(2.0*mu0)"
      ]
    },
    {
      "cell_type": "markdown",
      "metadata": {
        "id": "svLPx7O7uwny"
      },
      "source": [
        "## Calculate the ion and electron temperatures"
      ]
    },
    {
      "cell_type": "code",
      "execution_count": 11,
      "metadata": {
        "id": "m_YKRZA8uwny"
      },
      "outputs": [],
      "source": [
        "Te_total=(e_para_temp+2*e_perp_temp)/3.0\n",
        "Ti_total=(i_para_temp+2*i_perp_temp)/3.0"
      ]
    },
    {
      "cell_type": "markdown",
      "metadata": {
        "id": "7sKflmQeuwnz"
      },
      "source": [
        "## Calculate the plasma pressure\n",
        "\n",
        "note: eV -> K conversion: 11604.505 K/eV"
      ]
    },
    {
      "cell_type": "code",
      "execution_count": 12,
      "metadata": {
        "id": "EIMuG3gnuwnz"
      },
      "outputs": [],
      "source": [
        "Pplasma = (i_n*11604.505*Ti_total+e_n*11604.505*Te_total)*Kb"
      ]
    },
    {
      "cell_type": "markdown",
      "metadata": {
        "id": "u35_OiWuuwn0"
      },
      "source": [
        "## Calculate plasma beta"
      ]
    },
    {
      "cell_type": "code",
      "execution_count": 13,
      "metadata": {
        "id": "-YY6RsOiuwn0"
      },
      "outputs": [],
      "source": [
        "Beta = Pplasma/Pmag"
      ]
    },
    {
      "cell_type": "markdown",
      "metadata": {
        "id": "CCRWGXbruwn1"
      },
      "source": [
        "## Store the data in pyTplot variables"
      ]
    },
    {
      "cell_type": "code",
      "execution_count": 14,
      "metadata": {
        "colab": {
          "base_uri": "https://localhost:8080/"
        },
        "id": "yJyZA5-muwn1",
        "outputId": "de9eac13-f20b-4375-997e-f2e2ac6d7ec3"
      },
      "outputs": [
        {
          "output_type": "execute_result",
          "data": {
            "text/plain": [
              "True"
            ]
          },
          "metadata": {},
          "execution_count": 14
        }
      ],
      "source": [
        "store_data('plasma_beta', data={'x': btimes, 'y': Beta})\n",
        "store_data('magnetic_pressure', data={'x': btimes, 'y': Pmag})\n",
        "store_data('plasma_pressure', data={'x': btimes, 'y': Pplasma})"
      ]
    },
    {
      "cell_type": "markdown",
      "metadata": {
        "id": "duxiB-8ouwn2"
      },
      "source": [
        "## Plot the results"
      ]
    },
    {
      "cell_type": "code",
      "execution_count": 15,
      "metadata": {
        "colab": {
          "base_uri": "https://localhost:8080/",
          "height": 608
        },
        "id": "_vNpyzfguwn2",
        "outputId": "783090b6-1075-43fd-efb4-9c4b26ac28a0"
      },
      "outputs": [
        {
          "output_type": "display_data",
          "data": {
            "image/png": "[encoded data removed]",
            "text/plain": [
              "<Figure size 576x720 with 3 Axes>"
            ]
          },
          "metadata": {
            "needs_background": "light"
          }
        }
      ],
      "source": [
        "tplot(['plasma_beta', 'plasma_pressure', 'magnetic_pressure'])"
      ]
    },
    {
      "cell_type": "code",
      "execution_count": 15,
      "metadata": {
        "id": "08ksgU3iuwn3"
      },
      "outputs": [],
      "source": [
        ""
      ]
    }
  ],
  "metadata": {
    "kernelspec": {
      "display_name": "Python 3",
      "language": "python",
      "name": "python3"
    },
    "language_info": {
      "codemirror_mode": {
        "name": "ipython",
        "version": 3
      },
      "file_extension": ".py",
      "mimetype": "text/x-python",
      "name": "python",
      "nbconvert_exporter": "python",
      "pygments_lexer": "ipython3",
      "version": "3.7.6"
    },
    "colab": {
      "name": "Plasma Beta with FGM and FPI data.ipynb",
      "provenance": [],
      "collapsed_sections": []
    }
  },
  "nbformat": 4,
  "nbformat_minor": 0
}