{
 "nbformat": 4,
 "nbformat_minor": 0,
 "metadata": {
  "colab": {
   "name": "MMS_burst_status.ipynb",
   "provenance": [],
   "collapsed_sections": []
  },
  "kernelspec": {
   "name": "python3",
   "display_name": "Python 3"
  },
  "language_info": {
   "name": "python"
  }
 },
 "cells": [
  {
   "cell_type": "markdown",
   "source": [
    "## MMS burst segment status\n",
    "\n",
    "This notebook shows how to load and plot the data availability bars (fast and burst) for MMS"
   ],
   "metadata": {
    "id": "awuu-WepQg-b"
   }
  },
  {
   "cell_type": "markdown",
   "source": [
    "This command sets up the PySPEDAS environment when running in Google Colab.  You can skip it or comment it out if you're running this notebook in an environment that already has PySPEDAS installed.\n"
   ],
   "metadata": {
    "collapsed": false
   }
  },
  {
   "cell_type": "code",
   "execution_count": null,
   "outputs": [],
   "source": [
    "!pip install pyspedas"
   ],
   "metadata": {
    "collapsed": false
   }
  },
  {
   "cell_type": "code",
   "execution_count": 2,
   "metadata": {
    "id": "ffl0oye0QdXm"
   },
   "outputs": [],
   "source": [
    "import pyspedas"
   ]
  },
  {
   "cell_type": "markdown",
   "source": [
    "Load some FGM data for the plots"
   ],
   "metadata": {
    "id": "iTERqgzoRf7V"
   }
  },
  {
   "cell_type": "code",
   "source": [
    "pyspedas.mms.fgm(trange=['2015-10-16', '2015-10-17'])"
   ],
   "metadata": {
    "colab": {
     "base_uri": "https://localhost:8080/"
    },
    "id": "EPwhgkX-Q3sO",
    "outputId": "45c377b6-434f-4145-8139-31e6b0de98ce"
   },
   "execution_count": 3,
   "outputs": [
    {
     "name": "stdout",
     "output_type": "stream",
     "text": [
      "SDC username (blank for public access): \n"
     ]
    },
    {
     "output_type": "stream",
     "name": "stderr",
     "text": [
      "26-Jan-22 23:27:13: Downloading mms1_fgm_srvy_l2_20151016_v4.18.0.cdf to pydata/mms1/fgm/srvy/l2/2015/10\n"
     ]
    },
    {
     "output_type": "stream",
     "name": "stdout",
     "text": [
      "The lengths of x and y do not match!\n",
      "mms1_fgm_rdeltahalf_srvy_l2 is currently not in pytplot.\n",
      "mms1_fgm_rdeltahalf_srvy_l2 is currently not in pytplot.\n",
      "mms1_fgm_rdeltahalf_srvy_l2 is currently not in pytplot.\n",
      "That name is currently not in pytplot\n",
      "That name is currently not in pytplot\n",
      "Loaded variables:\n",
      "Epoch\n",
      "mms1_fgm_b_gse_srvy_l2\n",
      "mms1_fgm_b_gsm_srvy_l2\n",
      "mms1_fgm_b_dmpa_srvy_l2\n",
      "mms1_fgm_b_bcs_srvy_l2\n",
      "mms1_fgm_flag_srvy_l2\n",
      "Epoch_state\n",
      "mms1_fgm_hirange_srvy_l2\n",
      "mms1_fgm_bdeltahalf_srvy_l2\n",
      "mms1_fgm_stemp_srvy_l2\n",
      "mms1_fgm_etemp_srvy_l2\n",
      "mms1_fgm_mode_srvy_l2\n",
      "mms1_fgm_rdeltahalf_srvy_l2\n",
      "mms1_fgm_b_dmpa_srvy_l2_bvec\n",
      "mms1_fgm_b_dmpa_srvy_l2_btot\n",
      "mms1_fgm_b_gse_srvy_l2_bvec\n",
      "mms1_fgm_b_gse_srvy_l2_btot\n",
      "mms1_fgm_b_gsm_srvy_l2_bvec\n",
      "mms1_fgm_b_gsm_srvy_l2_btot\n",
      "mms1_fgm_b_bcs_srvy_l2_bvec\n",
      "mms1_fgm_b_bcs_srvy_l2_btot\n"
     ]
    },
    {
     "output_type": "execute_result",
     "data": {
      "text/plain": [
       "['Epoch',\n",
       " 'mms1_fgm_b_gse_srvy_l2',\n",
       " 'mms1_fgm_b_gsm_srvy_l2',\n",
       " 'mms1_fgm_b_dmpa_srvy_l2',\n",
       " 'mms1_fgm_b_bcs_srvy_l2',\n",
       " 'mms1_fgm_flag_srvy_l2',\n",
       " 'Epoch_state',\n",
       " 'mms1_fgm_hirange_srvy_l2',\n",
       " 'mms1_fgm_bdeltahalf_srvy_l2',\n",
       " 'mms1_fgm_stemp_srvy_l2',\n",
       " 'mms1_fgm_etemp_srvy_l2',\n",
       " 'mms1_fgm_mode_srvy_l2',\n",
       " 'mms1_fgm_rdeltahalf_srvy_l2',\n",
       " 'mms1_fgm_b_dmpa_srvy_l2_bvec',\n",
       " 'mms1_fgm_b_dmpa_srvy_l2_btot',\n",
       " 'mms1_fgm_b_gse_srvy_l2_bvec',\n",
       " 'mms1_fgm_b_gse_srvy_l2_btot',\n",
       " 'mms1_fgm_b_gsm_srvy_l2_bvec',\n",
       " 'mms1_fgm_b_gsm_srvy_l2_btot',\n",
       " 'mms1_fgm_b_bcs_srvy_l2_bvec',\n",
       " 'mms1_fgm_b_bcs_srvy_l2_btot']"
      ]
     },
     "metadata": {},
     "execution_count": 3
    }
   ]
  },
  {
   "cell_type": "markdown",
   "source": [
    "Load the data availability bars"
   ],
   "metadata": {
    "id": "3BaHFkqRRx43"
   }
  },
  {
   "cell_type": "code",
   "source": [
    "pyspedas.mms.bss(trange=['2015-10-16', '2015-10-17'])"
   ],
   "metadata": {
    "colab": {
     "base_uri": "https://localhost:8080/"
    },
    "id": "n4aLggzVRpp5",
    "outputId": "5e28c911-5123-497f-dd1f-c6410a1d0a27"
   },
   "execution_count": 4,
   "outputs": [
    {
     "output_type": "stream",
     "name": "stderr",
     "text": [
      "26-Jan-22 23:27:42: Downloading http://www.spedas.org/mms/mms_fast_intervals.sav to /content/pydata/mms_fast_intervals.sav\n",
      "26-Jan-22 23:27:42: Download complete: /content/pydata/mms_fast_intervals.sav\n",
      "26-Jan-22 23:27:42: Downloading http://www.spedas.org/mms/mms_brst_intervals.sav to /content/pydata/mms_brst_intervals.sav\n",
      "26-Jan-22 23:27:43: Download complete: /content/pydata/mms_brst_intervals.sav\n"
     ]
    }
   ]
  },
  {
   "cell_type": "markdown",
   "source": [
    "Create the figure"
   ],
   "metadata": {
    "id": "CHu6VqCuR5DN"
   }
  },
  {
   "cell_type": "code",
   "source": [
    "from pytplot import tplot\n",
    "tplot(['mms_bss_fast',\n",
    "       'mms_bss_burst', \n",
    "       'mms1_fgm_b_gse_srvy_l2_bvec',\n",
    "       'mms1_fgm_b_gse_srvy_l2_btot'])"
   ],
   "metadata": {
    "colab": {
     "base_uri": "https://localhost:8080/",
     "height": 608
    },
    "id": "RqYUW8iPR4Ag",
    "outputId": "228a53c2-b242-455f-db29-e63d5d09f238"
   },
   "execution_count": 5,
   "outputs": [
    {
     "output_type": "display_data",
     "data": {
      "image/png": "[encoded data removed]",
      "text/plain": [
       "<Figure size 576x720 with 4 Axes>"
      ]
     },
     "metadata": {
      "needs_background": "light"
     }
    }
   ]
  },
  {
   "cell_type": "code",
   "source": [],
   "metadata": {
    "id": "e-UNhBGCSBGP"
   },
   "execution_count": 5,
   "outputs": []
  }
 ]
}
