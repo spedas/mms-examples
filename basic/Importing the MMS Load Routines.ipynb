{
 "cells": [
  {
   "cell_type": "markdown",
   "metadata": {},
   "source": [
    "## Importing the MMS Load Routines\n",
    "This notebook demonstrates several ways to import the MMS load routines in pySPEDAS\n",
    "\n",
    "The first method is similiar to IDL SPEDAS, i.e., the function names match the IDL procedure names\n"
   ]
  },
  {
   "cell_type": "markdown",
   "source": [
    "This command sets up the PySPEDAS environment when running in Google Colab.  You can skip it or comment it out if you're running this notebook in an environment that already has PySPEDAS installed.\n"
   ],
   "metadata": {
    "collapsed": false
   }
  },
  {
   "cell_type": "code",
   "execution_count": null,
   "outputs": [],
   "source": [
    "!pip install pyspedas"
   ],
   "metadata": {
    "collapsed": false
   }
  },
  {
   "cell_type": "code",
   "execution_count": 3,
   "metadata": {},
   "outputs": [
    {
     "name": "stderr",
     "output_type": "stream",
     "text": [
      "02-Oct-19 14:51:59: Loading pydata/mms1/fgm/srvy/l2/2015/10/mms1_fgm_srvy_l2_20151016_v4.18.0.cdf\n"
     ]
    },
    {
     "name": "stdout",
     "output_type": "stream",
     "text": [
      "The lengths of x and y do not match!\n",
      "Loaded variables:\n",
      "mms1_fgm_b_gse_srvy_l2\n",
      "mms1_fgm_b_gsm_srvy_l2\n",
      "mms1_fgm_b_dmpa_srvy_l2\n",
      "mms1_fgm_b_bcs_srvy_l2\n",
      "mms1_fgm_flag_srvy_l2\n",
      "mms1_fgm_r_gse_srvy_l2\n",
      "mms1_fgm_r_gsm_srvy_l2\n",
      "mms1_fgm_hirange_srvy_l2\n",
      "mms1_fgm_bdeltahalf_srvy_l2\n",
      "mms1_fgm_stemp_srvy_l2\n",
      "mms1_fgm_etemp_srvy_l2\n",
      "mms1_fgm_mode_srvy_l2\n",
      "mms1_fgm_rdeltahalf_srvy_l2\n"
     ]
    }
   ],
   "source": [
    "from pyspedas import mms_load_fgm, mms_load_fpi\n",
    "fgm_vars = mms_load_fgm()"
   ]
  },
  {
   "cell_type": "markdown",
   "metadata": {},
   "source": [
    "We also provide wrappers with more Pythonic function names; these can be imported from the 'mms' module"
   ]
  },
  {
   "cell_type": "code",
   "execution_count": 4,
   "metadata": {
    "collapsed": true
   },
   "outputs": [
    {
     "name": "stderr",
     "output_type": "stream",
     "text": [
      "02-Oct-19 14:54:07: Loading pydata/mms1/fgm/srvy/l2/2015/10/mms1_fgm_srvy_l2_20151016_v4.18.0.cdf\n"
     ]
    },
    {
     "name": "stdout",
     "output_type": "stream",
     "text": [
      "The lengths of x and y do not match!\n",
      "Loaded variables:\n",
      "mms1_fgm_b_gse_srvy_l2\n",
      "mms1_fgm_b_gsm_srvy_l2\n",
      "mms1_fgm_b_dmpa_srvy_l2\n",
      "mms1_fgm_b_bcs_srvy_l2\n",
      "mms1_fgm_flag_srvy_l2\n",
      "mms1_fgm_r_gse_srvy_l2\n",
      "mms1_fgm_r_gsm_srvy_l2\n",
      "mms1_fgm_hirange_srvy_l2\n",
      "mms1_fgm_bdeltahalf_srvy_l2\n",
      "mms1_fgm_stemp_srvy_l2\n",
      "mms1_fgm_etemp_srvy_l2\n",
      "mms1_fgm_mode_srvy_l2\n",
      "mms1_fgm_rdeltahalf_srvy_l2\n"
     ]
    }
   ],
   "source": [
    "from pyspedas.mms import fgm, fpi\n",
    "fgm_vars = fgm()"
   ]
  },
  {
   "cell_type": "markdown",
   "metadata": {},
   "source": [
    "If you already have the pyspedas module imported, you can access the load routines with:"
   ]
  },
  {
   "cell_type": "code",
   "execution_count": 5,
   "metadata": {},
   "outputs": [
    {
     "name": "stderr",
     "output_type": "stream",
     "text": [
      "02-Oct-19 14:56:13: Loading pydata/mms1/fgm/srvy/l2/2015/10/mms1_fgm_srvy_l2_20151016_v4.18.0.cdf\n"
     ]
    },
    {
     "name": "stdout",
     "output_type": "stream",
     "text": [
      "The lengths of x and y do not match!\n",
      "Loaded variables:\n",
      "mms1_fgm_b_gse_srvy_l2\n",
      "mms1_fgm_b_gsm_srvy_l2\n",
      "mms1_fgm_b_dmpa_srvy_l2\n",
      "mms1_fgm_b_bcs_srvy_l2\n",
      "mms1_fgm_flag_srvy_l2\n",
      "mms1_fgm_r_gse_srvy_l2\n",
      "mms1_fgm_r_gsm_srvy_l2\n",
      "mms1_fgm_hirange_srvy_l2\n",
      "mms1_fgm_bdeltahalf_srvy_l2\n",
      "mms1_fgm_stemp_srvy_l2\n",
      "mms1_fgm_etemp_srvy_l2\n",
      "mms1_fgm_mode_srvy_l2\n",
      "mms1_fgm_rdeltahalf_srvy_l2\n"
     ]
    }
   ],
   "source": [
    "import pyspedas\n",
    "fgm_vars = pyspedas.mms.fgm()"
   ]
  },
  {
   "cell_type": "markdown",
   "metadata": {},
   "source": [
    "or do something like:"
   ]
  },
  {
   "cell_type": "code",
   "execution_count": 6,
   "metadata": {},
   "outputs": [
    {
     "name": "stderr",
     "output_type": "stream",
     "text": [
      "02-Oct-19 14:58:29: Loading pydata/mms1/fgm/srvy/l2/2015/10/mms1_fgm_srvy_l2_20151016_v4.18.0.cdf\n"
     ]
    },
    {
     "name": "stdout",
     "output_type": "stream",
     "text": [
      "The lengths of x and y do not match!\n",
      "Loaded variables:\n",
      "mms1_fgm_b_gse_srvy_l2\n",
      "mms1_fgm_b_gsm_srvy_l2\n",
      "mms1_fgm_b_dmpa_srvy_l2\n",
      "mms1_fgm_b_bcs_srvy_l2\n",
      "mms1_fgm_flag_srvy_l2\n",
      "mms1_fgm_r_gse_srvy_l2\n",
      "mms1_fgm_r_gsm_srvy_l2\n",
      "mms1_fgm_hirange_srvy_l2\n",
      "mms1_fgm_bdeltahalf_srvy_l2\n",
      "mms1_fgm_stemp_srvy_l2\n",
      "mms1_fgm_etemp_srvy_l2\n",
      "mms1_fgm_mode_srvy_l2\n",
      "mms1_fgm_rdeltahalf_srvy_l2\n"
     ]
    }
   ],
   "source": [
    "import pyspedas as spd\n",
    "fgm_vars = spd.mms.fgm()"
   ]
  },
  {
   "cell_type": "markdown",
   "metadata": {},
   "source": [
    "or if you have the 'mms' module imported, you can do:"
   ]
  },
  {
   "cell_type": "code",
   "execution_count": 7,
   "metadata": {},
   "outputs": [],
   "source": [
    "from pyspedas import mms"
   ]
  },
  {
   "cell_type": "code",
   "execution_count": 8,
   "metadata": {},
   "outputs": [
    {
     "name": "stderr",
     "output_type": "stream",
     "text": [
      "02-Oct-19 15:04:12: Loading pydata/mms1/fgm/srvy/l2/2015/10/mms1_fgm_srvy_l2_20151016_v4.18.0.cdf\n"
     ]
    },
    {
     "name": "stdout",
     "output_type": "stream",
     "text": [
      "The lengths of x and y do not match!\n",
      "Loaded variables:\n",
      "mms1_fgm_b_gse_srvy_l2\n",
      "mms1_fgm_b_gsm_srvy_l2\n",
      "mms1_fgm_b_dmpa_srvy_l2\n",
      "mms1_fgm_b_bcs_srvy_l2\n",
      "mms1_fgm_flag_srvy_l2\n",
      "mms1_fgm_r_gse_srvy_l2\n",
      "mms1_fgm_r_gsm_srvy_l2\n",
      "mms1_fgm_hirange_srvy_l2\n",
      "mms1_fgm_bdeltahalf_srvy_l2\n",
      "mms1_fgm_stemp_srvy_l2\n",
      "mms1_fgm_etemp_srvy_l2\n",
      "mms1_fgm_mode_srvy_l2\n",
      "mms1_fgm_rdeltahalf_srvy_l2\n"
     ]
    }
   ],
   "source": [
    "fgm_vars = mms.fgm()"
   ]
  },
  {
   "cell_type": "code",
   "execution_count": null,
   "metadata": {},
   "outputs": [],
   "source": []
  }
 ],
 "metadata": {
  "kernelspec": {
   "display_name": "Python 3",
   "language": "python",
   "name": "python3"
  },
  "language_info": {
   "codemirror_mode": {
    "name": "ipython",
    "version": 3
   },
   "file_extension": ".py",
   "mimetype": "text/x-python",
   "name": "python",
   "nbconvert_exporter": "python",
   "pygments_lexer": "ipython3",
   "version": "3.7.2"
  }
 },
 "nbformat": 4,
 "nbformat_minor": 2
}
