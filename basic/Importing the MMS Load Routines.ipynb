{
 "cells": [
  {
   "cell_type": "markdown",
   "metadata": {},
   "source": [
    "## Importing the MMS Load Routines\n",
    "This notebook demonstrates several ways to import the MMS load routines in pySPEDAS\n",
    "\n",
    "The first method is similiar to IDL SPEDAS, i.e., the function names match the IDL procedure names\n"
   ]
  },
  {
   "cell_type": "markdown",
   "source": [
    "This command sets up the PySPEDAS environment when running in Google Colab.  You can skip it or comment it out if you're running this notebook in an environment that already has PySPEDAS installed.\n"
   ],
   "metadata": {
    "collapsed": false
   }
  },
  {
   "cell_type": "code",
   "source": "#!pip install pyspedas",
   "metadata": {
    "collapsed": false,
    "ExecuteTime": {
     "end_time": "2024-08-28T00:09:39.037637Z",
     "start_time": "2024-08-28T00:09:39.035588Z"
    }
   },
   "outputs": [],
   "execution_count": 1
  },
  {
   "cell_type": "code",
   "metadata": {
    "ExecuteTime": {
     "end_time": "2024-08-28T00:09:43.045064Z",
     "start_time": "2024-08-28T00:09:40.072395Z"
    }
   },
   "source": [
    "from pyspedas import mms_load_fgm, mms_load_fpi\n",
    "fgm_vars = mms_load_fgm()"
   ],
   "outputs": [
    {
     "name": "stderr",
     "output_type": "stream",
     "text": [
      "27-Aug-24 17:09:41: Loading pydata/mms1/fgm/srvy/l2/2015/10/mms1_fgm_srvy_l2_20151016_v4.18.0.cdf\n"
     ]
    }
   ],
   "execution_count": 2
  },
  {
   "cell_type": "markdown",
   "metadata": {},
   "source": [
    "We also provide wrappers with more Pythonic function names; these can be imported from the 'mms' module"
   ]
  },
  {
   "cell_type": "code",
   "metadata": {
    "collapsed": true,
    "ExecuteTime": {
     "end_time": "2024-08-28T00:09:48.375085Z",
     "start_time": "2024-08-28T00:09:47.041841Z"
    }
   },
   "source": [
    "from pyspedas.mms import fgm, fpi\n",
    "fgm_vars = fgm()"
   ],
   "outputs": [
    {
     "name": "stderr",
     "output_type": "stream",
     "text": [
      "27-Aug-24 17:09:47: Loading pydata/mms1/fgm/srvy/l2/2015/10/mms1_fgm_srvy_l2_20151016_v4.18.0.cdf\n"
     ]
    }
   ],
   "execution_count": 3
  },
  {
   "cell_type": "markdown",
   "metadata": {},
   "source": [
    "If you already have the pyspedas module imported, you can access the load routines with:"
   ]
  },
  {
   "cell_type": "code",
   "metadata": {
    "ExecuteTime": {
     "end_time": "2024-08-28T00:09:57.724019Z",
     "start_time": "2024-08-28T00:09:56.486493Z"
    }
   },
   "source": [
    "import pyspedas\n",
    "fgm_vars = pyspedas.mms.fgm()"
   ],
   "outputs": [
    {
     "name": "stderr",
     "output_type": "stream",
     "text": [
      "27-Aug-24 17:09:56: Loading pydata/mms1/fgm/srvy/l2/2015/10/mms1_fgm_srvy_l2_20151016_v4.18.0.cdf\n"
     ]
    }
   ],
   "execution_count": 4
  },
  {
   "cell_type": "markdown",
   "metadata": {},
   "source": [
    "or do something like:"
   ]
  },
  {
   "cell_type": "code",
   "metadata": {
    "ExecuteTime": {
     "end_time": "2024-08-28T00:10:02.637750Z",
     "start_time": "2024-08-28T00:10:01.348771Z"
    }
   },
   "source": [
    "import pyspedas as spd\n",
    "fgm_vars = spd.mms.fgm()"
   ],
   "outputs": [
    {
     "name": "stderr",
     "output_type": "stream",
     "text": [
      "27-Aug-24 17:10:01: Loading pydata/mms1/fgm/srvy/l2/2015/10/mms1_fgm_srvy_l2_20151016_v4.18.0.cdf\n"
     ]
    }
   ],
   "execution_count": 5
  },
  {
   "cell_type": "markdown",
   "metadata": {},
   "source": [
    "or if you have the 'mms' module imported, you can do:"
   ]
  },
  {
   "cell_type": "code",
   "metadata": {
    "ExecuteTime": {
     "end_time": "2024-08-28T00:10:04.351466Z",
     "start_time": "2024-08-28T00:10:04.348162Z"
    }
   },
   "source": [
    "from pyspedas import mms"
   ],
   "outputs": [],
   "execution_count": 6
  },
  {
   "cell_type": "code",
   "metadata": {
    "ExecuteTime": {
     "end_time": "2024-08-28T00:10:10.641851Z",
     "start_time": "2024-08-28T00:10:09.338061Z"
    }
   },
   "source": [
    "fgm_vars = mms.fgm()"
   ],
   "outputs": [
    {
     "name": "stderr",
     "output_type": "stream",
     "text": [
      "27-Aug-24 17:10:09: Loading pydata/mms1/fgm/srvy/l2/2015/10/mms1_fgm_srvy_l2_20151016_v4.18.0.cdf\n"
     ]
    }
   ],
   "execution_count": 7
  },
  {
   "cell_type": "code",
   "execution_count": null,
   "metadata": {},
   "outputs": [],
   "source": []
  }
 ],
 "metadata": {
  "kernelspec": {
   "display_name": "Python 3",
   "language": "python",
   "name": "python3"
  },
  "language_info": {
   "codemirror_mode": {
    "name": "ipython",
    "version": 3
   },
   "file_extension": ".py",
   "mimetype": "text/x-python",
   "name": "python",
   "nbconvert_exporter": "python",
   "pygments_lexer": "ipython3",
   "version": "3.7.2"
  }
 },
 "nbformat": 4,
 "nbformat_minor": 2
}
