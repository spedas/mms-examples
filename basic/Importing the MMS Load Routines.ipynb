{
 "cells": [
  {
   "cell_type": "markdown",
   "metadata": {},
   "source": [
    "## Importing the MMS Load Routines\n",
    "This notebook demonstrates several ways to import the MMS load routines in pySPEDAS\n",
    "\n",
    "The first method is similiar to IDL SPEDAS, i.e., the function names match the IDL procedure names.  This is mainly a convenience for users who are porting IDL code to pyspedas.\n"
   ]
  },
  {
   "cell_type": "markdown",
   "source": [
    "This command sets up the PySPEDAS environment when running in Google Colab.  You can skip it or comment it out if you're running this notebook in an environment that already has PySPEDAS installed.\n"
   ],
   "metadata": {
    "collapsed": false
   }
  },
  {
   "cell_type": "code",
   "source": "!pip install pyspedas",
   "metadata": {
    "collapsed": false,
    "ExecuteTime": {
     "end_time": "2025-01-13T23:27:39.513276Z",
     "start_time": "2025-01-13T23:27:38.374116Z"
    }
   },
   "outputs": [
    {
     "name": "stdout",
     "output_type": "stream",
     "text": [
      "Requirement already satisfied: pyspedas in /Users/jwl/PycharmProjects/mms-examples/venv/lib/python3.9/site-packages (1.6.1)\r\n",
      "Requirement already satisfied: viresclient in /Users/jwl/PycharmProjects/mms-examples/venv/lib/python3.9/site-packages (from pyspedas) (0.11.3)\r\n",
      "Requirement already satisfied: pytplot-mpl-temp>=2.2.45 in /Users/jwl/PycharmProjects/mms-examples/venv/lib/python3.9/site-packages (from pyspedas) (2.2.45)\r\n",
      "Requirement already satisfied: cdasws>=1.7.24 in /Users/jwl/PycharmProjects/mms-examples/venv/lib/python3.9/site-packages (from pyspedas) (1.7.43)\r\n",
      "Requirement already satisfied: hapiclient>=0.2.2 in /Users/jwl/PycharmProjects/mms-examples/venv/lib/python3.9/site-packages (from pyspedas) (0.2.5)\r\n",
      "Requirement already satisfied: geopack>=1.0.11 in /Users/jwl/PycharmProjects/mms-examples/venv/lib/python3.9/site-packages (from pyspedas) (1.0.11)\r\n",
      "Requirement already satisfied: netCDF4>=1.6.2 in /Users/jwl/PycharmProjects/mms-examples/venv/lib/python3.9/site-packages (from pyspedas) (1.6.5)\r\n",
      "Requirement already satisfied: pywavelets in /Users/jwl/PycharmProjects/mms-examples/venv/lib/python3.9/site-packages (from pyspedas) (1.5.0)\r\n",
      "Requirement already satisfied: requests in /Users/jwl/PycharmProjects/mms-examples/venv/lib/python3.9/site-packages (from pyspedas) (2.31.0)\r\n",
      "Requirement already satisfied: cdflib in /Users/jwl/PycharmProjects/mms-examples/venv/lib/python3.9/site-packages (from pyspedas) (1.3.1)\r\n",
      "Requirement already satisfied: numpy>=1.20.0 in /Users/jwl/PycharmProjects/mms-examples/venv/lib/python3.9/site-packages (from pyspedas) (1.26.2)\r\n",
      "Requirement already satisfied: scipy in /Users/jwl/PycharmProjects/mms-examples/venv/lib/python3.9/site-packages (from pyspedas) (1.11.4)\r\n",
      "Requirement already satisfied: astropy in /Users/jwl/PycharmProjects/mms-examples/venv/lib/python3.9/site-packages (from pyspedas) (6.0.0)\r\n",
      "Requirement already satisfied: python-dateutil>=2.8.0 in /Users/jwl/PycharmProjects/mms-examples/venv/lib/python3.9/site-packages (from cdasws>=1.7.24->pyspedas) (2.8.2)\r\n",
      "Requirement already satisfied: isodate>=0.6.0 in /Users/jwl/PycharmProjects/mms-examples/venv/lib/python3.9/site-packages (from hapiclient>=0.2.2->pyspedas) (0.6.1)\r\n",
      "Requirement already satisfied: joblib in /Users/jwl/PycharmProjects/mms-examples/venv/lib/python3.9/site-packages (from hapiclient>=0.2.2->pyspedas) (1.3.2)\r\n",
      "Requirement already satisfied: pandas>=0.23 in /Users/jwl/PycharmProjects/mms-examples/venv/lib/python3.9/site-packages (from hapiclient>=0.2.2->pyspedas) (2.1.3)\r\n",
      "Requirement already satisfied: urllib3 in /Users/jwl/PycharmProjects/mms-examples/venv/lib/python3.9/site-packages (from hapiclient>=0.2.2->pyspedas) (2.1.0)\r\n",
      "Requirement already satisfied: certifi in /Users/jwl/PycharmProjects/mms-examples/venv/lib/python3.9/site-packages (from netCDF4>=1.6.2->pyspedas) (2023.11.17)\r\n",
      "Requirement already satisfied: cftime in /Users/jwl/PycharmProjects/mms-examples/venv/lib/python3.9/site-packages (from netCDF4>=1.6.2->pyspedas) (1.6.3)\r\n",
      "Requirement already satisfied: matplotlib>=3.6.2 in /Users/jwl/PycharmProjects/mms-examples/venv/lib/python3.9/site-packages (from pytplot-mpl-temp>=2.2.45->pyspedas) (3.8.2)\r\n",
      "Requirement already satisfied: xarray in /Users/jwl/PycharmProjects/mms-examples/venv/lib/python3.9/site-packages (from pytplot-mpl-temp>=2.2.45->pyspedas) (2023.11.0)\r\n",
      "Requirement already satisfied: idna<4,>=2.5 in /Users/jwl/PycharmProjects/mms-examples/venv/lib/python3.9/site-packages (from requests->pyspedas) (3.6)\r\n",
      "Requirement already satisfied: charset-normalizer<4,>=2 in /Users/jwl/PycharmProjects/mms-examples/venv/lib/python3.9/site-packages (from requests->pyspedas) (3.3.2)\r\n",
      "Requirement already satisfied: PyYAML>=3.13 in /Users/jwl/PycharmProjects/mms-examples/venv/lib/python3.9/site-packages (from astropy->pyspedas) (6.0.1)\r\n",
      "Requirement already satisfied: pyerfa>=2.0 in /Users/jwl/PycharmProjects/mms-examples/venv/lib/python3.9/site-packages (from astropy->pyspedas) (2.0.1.1)\r\n",
      "Requirement already satisfied: astropy-iers-data>=0.2023.10.30.0.29.53 in /Users/jwl/PycharmProjects/mms-examples/venv/lib/python3.9/site-packages (from astropy->pyspedas) (0.2023.11.27.0.30.38)\r\n",
      "Requirement already satisfied: packaging>=19.0 in /Users/jwl/PycharmProjects/mms-examples/venv/lib/python3.9/site-packages (from astropy->pyspedas) (23.2)\r\n",
      "Requirement already satisfied: Jinja2>=2.10 in /Users/jwl/PycharmProjects/mms-examples/venv/lib/python3.9/site-packages (from viresclient->pyspedas) (3.1.2)\r\n",
      "Requirement already satisfied: tables>=3.4.4 in /Users/jwl/PycharmProjects/mms-examples/venv/lib/python3.9/site-packages (from viresclient->pyspedas) (3.9.2)\r\n",
      "Requirement already satisfied: tqdm>=4.23.0 in /Users/jwl/PycharmProjects/mms-examples/venv/lib/python3.9/site-packages (from viresclient->pyspedas) (4.66.1)\r\n",
      "Requirement already satisfied: six in /Users/jwl/PycharmProjects/mms-examples/venv/lib/python3.9/site-packages (from isodate>=0.6.0->hapiclient>=0.2.2->pyspedas) (1.16.0)\r\n",
      "Requirement already satisfied: MarkupSafe>=2.0 in /Users/jwl/PycharmProjects/mms-examples/venv/lib/python3.9/site-packages (from Jinja2>=2.10->viresclient->pyspedas) (2.1.3)\r\n",
      "Requirement already satisfied: cycler>=0.10 in /Users/jwl/PycharmProjects/mms-examples/venv/lib/python3.9/site-packages (from matplotlib>=3.6.2->pytplot-mpl-temp>=2.2.45->pyspedas) (0.12.1)\r\n",
      "Requirement already satisfied: fonttools>=4.22.0 in /Users/jwl/PycharmProjects/mms-examples/venv/lib/python3.9/site-packages (from matplotlib>=3.6.2->pytplot-mpl-temp>=2.2.45->pyspedas) (4.45.1)\r\n",
      "Requirement already satisfied: kiwisolver>=1.3.1 in /Users/jwl/PycharmProjects/mms-examples/venv/lib/python3.9/site-packages (from matplotlib>=3.6.2->pytplot-mpl-temp>=2.2.45->pyspedas) (1.4.5)\r\n",
      "Requirement already satisfied: pyparsing>=2.3.1 in /Users/jwl/PycharmProjects/mms-examples/venv/lib/python3.9/site-packages (from matplotlib>=3.6.2->pytplot-mpl-temp>=2.2.45->pyspedas) (3.1.1)\r\n",
      "Requirement already satisfied: contourpy>=1.0.1 in /Users/jwl/PycharmProjects/mms-examples/venv/lib/python3.9/site-packages (from matplotlib>=3.6.2->pytplot-mpl-temp>=2.2.45->pyspedas) (1.2.0)\r\n",
      "Requirement already satisfied: pillow>=8 in /Users/jwl/PycharmProjects/mms-examples/venv/lib/python3.9/site-packages (from matplotlib>=3.6.2->pytplot-mpl-temp>=2.2.45->pyspedas) (10.1.0)\r\n",
      "Requirement already satisfied: importlib-resources>=3.2.0 in /Users/jwl/PycharmProjects/mms-examples/venv/lib/python3.9/site-packages (from matplotlib>=3.6.2->pytplot-mpl-temp>=2.2.45->pyspedas) (6.1.1)\r\n",
      "Requirement already satisfied: tzdata>=2022.1 in /Users/jwl/PycharmProjects/mms-examples/venv/lib/python3.9/site-packages (from pandas>=0.23->hapiclient>=0.2.2->pyspedas) (2023.3)\r\n",
      "Requirement already satisfied: pytz>=2020.1 in /Users/jwl/PycharmProjects/mms-examples/venv/lib/python3.9/site-packages (from pandas>=0.23->hapiclient>=0.2.2->pyspedas) (2023.3.post1)\r\n",
      "Requirement already satisfied: py-cpuinfo in /Users/jwl/PycharmProjects/mms-examples/venv/lib/python3.9/site-packages (from tables>=3.4.4->viresclient->pyspedas) (9.0.0)\r\n",
      "Requirement already satisfied: numexpr>=2.6.2 in /Users/jwl/PycharmProjects/mms-examples/venv/lib/python3.9/site-packages (from tables>=3.4.4->viresclient->pyspedas) (2.8.7)\r\n",
      "Requirement already satisfied: blosc2>=2.3.0 in /Users/jwl/PycharmProjects/mms-examples/venv/lib/python3.9/site-packages (from tables>=3.4.4->viresclient->pyspedas) (2.3.1)\r\n",
      "Requirement already satisfied: ndindex>=1.4 in /Users/jwl/PycharmProjects/mms-examples/venv/lib/python3.9/site-packages (from blosc2>=2.3.0->tables>=3.4.4->viresclient->pyspedas) (1.7)\r\n",
      "Requirement already satisfied: msgpack in /Users/jwl/PycharmProjects/mms-examples/venv/lib/python3.9/site-packages (from blosc2>=2.3.0->tables>=3.4.4->viresclient->pyspedas) (1.0.7)\r\n",
      "Requirement already satisfied: zipp>=3.1.0 in /Users/jwl/PycharmProjects/mms-examples/venv/lib/python3.9/site-packages (from importlib-resources>=3.2.0->matplotlib>=3.6.2->pytplot-mpl-temp>=2.2.45->pyspedas) (3.17.0)\r\n",
      "\r\n",
      "\u001B[1m[\u001B[0m\u001B[34;49mnotice\u001B[0m\u001B[1;39;49m]\u001B[0m\u001B[39;49m A new release of pip available: \u001B[0m\u001B[31;49m22.3.1\u001B[0m\u001B[39;49m -> \u001B[0m\u001B[32;49m24.3.1\u001B[0m\r\n",
      "\u001B[1m[\u001B[0m\u001B[34;49mnotice\u001B[0m\u001B[1;39;49m]\u001B[0m\u001B[39;49m To update, run: \u001B[0m\u001B[32;49mpip install --upgrade pip\u001B[0m\r\n"
     ]
    }
   ],
   "execution_count": 1
  },
  {
   "cell_type": "code",
   "metadata": {
    "ExecuteTime": {
     "end_time": "2025-01-13T23:27:45.593916Z",
     "start_time": "2025-01-13T23:27:39.517844Z"
    }
   },
   "source": [
    "from pyspedas import mms_load_fgm, mms_load_fpi\n",
    "fgm_vars = mms_load_fgm()"
   ],
   "outputs": [
    {
     "name": "stderr",
     "output_type": "stream",
     "text": [
      "13-Jan-25 15:27:44: Loading pydata/mms1/fgm/srvy/l2/2015/10/mms1_fgm_srvy_l2_20151016_v4.18.0.cdf\n"
     ]
    }
   ],
   "execution_count": 2
  },
  {
   "cell_type": "markdown",
   "metadata": {},
   "source": "For development of new scripts, the preferred way to import the MMS load routines is to import the \"short names\" (i.e. the load routine name is the same as the instrument name) from the pyspedas.projects.mms module:"
  },
  {
   "cell_type": "code",
   "metadata": {
    "collapsed": true,
    "ExecuteTime": {
     "end_time": "2025-01-13T23:27:46.910804Z",
     "start_time": "2025-01-13T23:27:45.629497Z"
    }
   },
   "source": [
    "from pyspedas.projects.mms import fgm, fpi\n",
    "fgm_vars = fgm()"
   ],
   "outputs": [
    {
     "name": "stderr",
     "output_type": "stream",
     "text": [
      "13-Jan-25 15:27:46: Loading pydata/mms1/fgm/srvy/l2/2015/10/mms1_fgm_srvy_l2_20151016_v4.18.0.cdf\n"
     ]
    }
   ],
   "execution_count": 3
  },
  {
   "cell_type": "markdown",
   "metadata": {},
   "source": "If you already have the pyspedas module imported, you can access the load routines by using the fully qualified names (i.e. with prefix 'pyspedas.projects.mms.'):"
  },
  {
   "cell_type": "code",
   "metadata": {
    "ExecuteTime": {
     "end_time": "2025-01-13T23:27:48.224665Z",
     "start_time": "2025-01-13T23:27:46.916682Z"
    }
   },
   "source": [
    "import pyspedas\n",
    "fgm_vars = pyspedas.projects.mms.fgm()"
   ],
   "outputs": [
    {
     "name": "stderr",
     "output_type": "stream",
     "text": [
      "13-Jan-25 15:27:47: Loading pydata/mms1/fgm/srvy/l2/2015/10/mms1_fgm_srvy_l2_20151016_v4.18.0.cdf\n"
     ]
    }
   ],
   "execution_count": 4
  },
  {
   "cell_type": "markdown",
   "metadata": {},
   "source": "Note that other missions (for example, THEMIS) might use the same names for their load routines as MMS does.   To use both load routines in the same program, you can use the fully qualified names for both, as in the previous example:"
  },
  {
   "metadata": {
    "ExecuteTime": {
     "end_time": "2025-01-13T23:27:56.990517Z",
     "start_time": "2025-01-13T23:27:48.229795Z"
    }
   },
   "cell_type": "code",
   "source": [
    "import pyspedas\n",
    "\n",
    "mms_fgm_vars = pyspedas.projects.mms.fgm()\n",
    "themis_fgm_vars = pyspedas.projects.themis.fgm()"
   ],
   "outputs": [
    {
     "name": "stderr",
     "output_type": "stream",
     "text": [
      "13-Jan-25 15:27:48: Loading pydata/mms1/fgm/srvy/l2/2015/10/mms1_fgm_srvy_l2_20151016_v4.18.0.cdf\n",
      "13-Jan-25 15:27:49: Downloading remote index: http://themis.ssl.berkeley.edu/data/themis/thc/l2/fgm/2007/\n",
      "13-Jan-25 15:27:50: Downloading http://themis.ssl.berkeley.edu/data/themis/thc/l2/fgm/2007/thc_l2_fgm_20070323_v01.cdf to themis_data/thc/l2/fgm/2007/thc_l2_fgm_20070323_v01.cdf\n",
      "13-Jan-25 15:27:56: Download complete: themis_data/thc/l2/fgm/2007/thc_l2_fgm_20070323_v01.cdf\n"
     ]
    }
   ],
   "execution_count": 5
  },
  {
   "cell_type": "markdown",
   "metadata": {},
   "source": "Or you can use Python import syntax to assign different names to the MMS and THEMIS fgm load routines:"
  },
  {
   "cell_type": "code",
   "metadata": {
    "ExecuteTime": {
     "end_time": "2025-01-13T23:27:58.932045Z",
     "start_time": "2025-01-13T23:27:56.995029Z"
    }
   },
   "source": [
    "from pyspedas.projects.mms import fgm as mms_fgm\n",
    "from pyspedas.projects.themis import fgm as themis_fgm\n",
    "\n",
    "mms_fgm_vars = mms_fgm()\n",
    "themis_fgm_vars = themis_fgm()"
   ],
   "outputs": [
    {
     "name": "stderr",
     "output_type": "stream",
     "text": [
      "13-Jan-25 15:27:57: Loading pydata/mms1/fgm/srvy/l2/2015/10/mms1_fgm_srvy_l2_20151016_v4.18.0.cdf\n",
      "13-Jan-25 15:27:58: Downloading remote index: http://themis.ssl.berkeley.edu/data/themis/thc/l2/fgm/2007/\n",
      "13-Jan-25 15:27:58: File is current: themis_data/thc/l2/fgm/2007/thc_l2_fgm_20070323_v01.cdf\n"
     ]
    }
   ],
   "execution_count": 6
  }
 ],
 "metadata": {
  "kernelspec": {
   "display_name": "Python 3",
   "language": "python",
   "name": "python3"
  },
  "language_info": {
   "codemirror_mode": {
    "name": "ipython",
    "version": 3
   },
   "file_extension": ".py",
   "mimetype": "text/x-python",
   "name": "python",
   "nbconvert_exporter": "python",
   "pygments_lexer": "ipython3",
   "version": "3.7.2"
  }
 },
 "nbformat": 4,
 "nbformat_minor": 2
}
