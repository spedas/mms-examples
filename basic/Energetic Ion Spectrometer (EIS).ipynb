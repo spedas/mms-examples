{
 "cells": [
  {
   "cell_type": "markdown",
   "metadata": {},
   "source": [
    "# Energetic Ion Spectrometer (EIS)\n",
    "\n",
    "This notebook shows how to load and plot MMS EIS data with pySPEDAS and pyTplot\n",
    "\n",
    "For information on the data, please see the Release Notes and Data Products Guide at:\n",
    "\n",
    "https://lasp.colorado.edu/mms/sdc/public/datasets/epd/"
   ]
  },
  {
   "cell_type": "markdown",
   "metadata": {},
   "source": [
    "## Get started\n",
    "\n",
    "To get started, import the `eis` function from the `pyspedas.mms` module, and `tplot` from `pytplot`"
   ]
  },
  {
   "cell_type": "code",
   "execution_count": 1,
   "metadata": {},
   "outputs": [],
   "source": [
    "from pyspedas.mms import eis\n",
    "from pyspedas import mms_eis_pad\n",
    "from pytplot import tplot"
   ]
  },
  {
   "cell_type": "markdown",
   "metadata": {},
   "source": [
    "## Load the ExTOF data"
   ]
  },
  {
   "cell_type": "code",
   "execution_count": 2,
   "metadata": {},
   "outputs": [
    {
     "name": "stderr",
     "output_type": "stream",
     "text": [
      "24-Aug-21 12:41:38: Downloading mms1_epd-eis_srvy_l2_extof_20151016_v3.0.100.cdf to /Volumes/data/data/mms/mms1/epd-eis/srvy/l2/extof/2015/10\n",
      "24-Aug-21 12:42:24: Problem calculating the spin-average for species: alpha (extof)\n",
      "24-Aug-21 12:42:24: Error, problem finding the telescopes to calculate omni-directional spectrograms\n",
      "24-Aug-21 12:42:24: Error, problem finding the telescopes to calculate omni-directional spectrograms\n"
     ]
    },
    {
     "name": "stdout",
     "output_type": "stream",
     "text": [
      "That name is currently not in pytplot\n",
      "That name is currently not in pytplot\n",
      "That name is currently not in pytplot\n",
      "That name is currently not in pytplot\n",
      "That name is currently not in pytplot\n",
      "That name is currently not in pytplot\n",
      "That name is currently not in pytplot\n",
      "That name is currently not in pytplot\n",
      "That name is currently not in pytplot\n",
      "Loaded variables:\n",
      "Epoch\n",
      "Time_Minus\n",
      "Time_Plus\n",
      "mms1_epd_eis_srvy_l2_extof_duration\n",
      "mms1_epd_eis_srvy_l2_extof_deadtime\n",
      "mms1_epd_eis_srvy_l2_extof_largepixel\n",
      "mms1_epd_eis_srvy_l2_extof_starttai\n",
      "mms1_epd_eis_srvy_l2_extof_midtai\n",
      "mms1_epd_eis_srvy_l2_extof_endtai\n",
      "mms1_epd_eis_srvy_l2_extof_spin\n",
      "mms1_epd_eis_srvy_l2_extof_sector\n",
      "mms1_epd_eis_srvy_l2_extof_quality\n",
      "mms1_epd_eis_srvy_l2_extof_proton_P3_counts_t0\n",
      "mms1_epd_eis_srvy_l2_extof_proton_P3_counts_t1\n",
      "mms1_epd_eis_srvy_l2_extof_proton_P3_counts_t2\n",
      "mms1_epd_eis_srvy_l2_extof_proton_P3_counts_t3\n",
      "mms1_epd_eis_srvy_l2_extof_proton_P3_counts_t4\n",
      "mms1_epd_eis_srvy_l2_extof_proton_P3_counts_t5\n",
      "mms1_epd_eis_srvy_l2_extof_proton_P3_cps_t0\n",
      "mms1_epd_eis_srvy_l2_extof_proton_P3_cps_t1\n",
      "mms1_epd_eis_srvy_l2_extof_proton_P3_cps_t2\n",
      "mms1_epd_eis_srvy_l2_extof_proton_P3_cps_t3\n",
      "mms1_epd_eis_srvy_l2_extof_proton_P3_cps_t4\n",
      "mms1_epd_eis_srvy_l2_extof_proton_P3_cps_t5\n",
      "mms1_epd_eis_srvy_l2_extof_proton_P3_flux_t0\n",
      "mms1_epd_eis_srvy_l2_extof_proton_t0_energy\n",
      "mms1_epd_eis_srvy_l2_extof_proton_t0_energy_dminus\n",
      "mms1_epd_eis_srvy_l2_extof_proton_t0_energy_dplus\n",
      "mms1_epd_eis_srvy_l2_extof_proton_P3_flux_t1\n",
      "mms1_epd_eis_srvy_l2_extof_proton_t1_energy\n",
      "mms1_epd_eis_srvy_l2_extof_proton_t1_energy_dminus\n",
      "mms1_epd_eis_srvy_l2_extof_proton_t1_energy_dplus\n",
      "mms1_epd_eis_srvy_l2_extof_proton_P3_flux_t2\n",
      "mms1_epd_eis_srvy_l2_extof_proton_t2_energy\n",
      "mms1_epd_eis_srvy_l2_extof_proton_t2_energy_dminus\n",
      "mms1_epd_eis_srvy_l2_extof_proton_t2_energy_dplus\n",
      "mms1_epd_eis_srvy_l2_extof_proton_P3_flux_t3\n",
      "mms1_epd_eis_srvy_l2_extof_proton_t3_energy\n",
      "mms1_epd_eis_srvy_l2_extof_proton_t3_energy_dminus\n",
      "mms1_epd_eis_srvy_l2_extof_proton_t3_energy_dplus\n",
      "mms1_epd_eis_srvy_l2_extof_proton_P3_flux_t4\n",
      "mms1_epd_eis_srvy_l2_extof_proton_t4_energy\n",
      "mms1_epd_eis_srvy_l2_extof_proton_t4_energy_dminus\n",
      "mms1_epd_eis_srvy_l2_extof_proton_t4_energy_dplus\n",
      "mms1_epd_eis_srvy_l2_extof_proton_P3_flux_t5\n",
      "mms1_epd_eis_srvy_l2_extof_proton_t5_energy\n",
      "mms1_epd_eis_srvy_l2_extof_proton_t5_energy_dminus\n",
      "mms1_epd_eis_srvy_l2_extof_proton_t5_energy_dplus\n",
      "mms1_epd_eis_srvy_l2_extof_helium_P3_counts_t0\n",
      "mms1_epd_eis_srvy_l2_extof_helium_P3_counts_t1\n",
      "mms1_epd_eis_srvy_l2_extof_helium_P3_counts_t2\n",
      "mms1_epd_eis_srvy_l2_extof_helium_P3_counts_t3\n",
      "mms1_epd_eis_srvy_l2_extof_helium_P3_counts_t4\n",
      "mms1_epd_eis_srvy_l2_extof_helium_P3_counts_t5\n",
      "mms1_epd_eis_srvy_l2_extof_helium_P3_cps_t0\n",
      "mms1_epd_eis_srvy_l2_extof_helium_P3_cps_t1\n",
      "mms1_epd_eis_srvy_l2_extof_helium_P3_cps_t2\n",
      "mms1_epd_eis_srvy_l2_extof_helium_P3_cps_t3\n",
      "mms1_epd_eis_srvy_l2_extof_helium_P3_cps_t4\n",
      "mms1_epd_eis_srvy_l2_extof_helium_P3_cps_t5\n",
      "mms1_epd_eis_srvy_l2_extof_helium_P3_flux_t0\n",
      "mms1_epd_eis_srvy_l2_extof_helium_t0_energy\n",
      "mms1_epd_eis_srvy_l2_extof_helium_t0_energy_dminus\n",
      "mms1_epd_eis_srvy_l2_extof_helium_t0_energy_dplus\n",
      "mms1_epd_eis_srvy_l2_extof_helium_P3_flux_t1\n",
      "mms1_epd_eis_srvy_l2_extof_helium_t1_energy\n",
      "mms1_epd_eis_srvy_l2_extof_helium_t1_energy_dminus\n",
      "mms1_epd_eis_srvy_l2_extof_helium_t1_energy_dplus\n",
      "mms1_epd_eis_srvy_l2_extof_helium_P3_flux_t2\n",
      "mms1_epd_eis_srvy_l2_extof_helium_t2_energy\n",
      "mms1_epd_eis_srvy_l2_extof_helium_t2_energy_dminus\n",
      "mms1_epd_eis_srvy_l2_extof_helium_t2_energy_dplus\n",
      "mms1_epd_eis_srvy_l2_extof_helium_P3_flux_t3\n",
      "mms1_epd_eis_srvy_l2_extof_helium_t3_energy\n",
      "mms1_epd_eis_srvy_l2_extof_helium_t3_energy_dminus\n",
      "mms1_epd_eis_srvy_l2_extof_helium_t3_energy_dplus\n",
      "mms1_epd_eis_srvy_l2_extof_helium_P3_flux_t4\n",
      "mms1_epd_eis_srvy_l2_extof_helium_t4_energy\n",
      "mms1_epd_eis_srvy_l2_extof_helium_t4_energy_dminus\n",
      "mms1_epd_eis_srvy_l2_extof_helium_t4_energy_dplus\n",
      "mms1_epd_eis_srvy_l2_extof_helium_P3_flux_t5\n",
      "mms1_epd_eis_srvy_l2_extof_helium_t5_energy\n",
      "mms1_epd_eis_srvy_l2_extof_helium_t5_energy_dminus\n",
      "mms1_epd_eis_srvy_l2_extof_helium_t5_energy_dplus\n",
      "mms1_epd_eis_srvy_l2_extof_oxygen_P3_counts_t0\n",
      "mms1_epd_eis_srvy_l2_extof_oxygen_P3_counts_t1\n",
      "mms1_epd_eis_srvy_l2_extof_oxygen_P3_counts_t2\n",
      "mms1_epd_eis_srvy_l2_extof_oxygen_P3_counts_t3\n",
      "mms1_epd_eis_srvy_l2_extof_oxygen_P3_counts_t4\n",
      "mms1_epd_eis_srvy_l2_extof_oxygen_P3_counts_t5\n",
      "mms1_epd_eis_srvy_l2_extof_oxygen_P3_cps_t0\n",
      "mms1_epd_eis_srvy_l2_extof_oxygen_P3_cps_t1\n",
      "mms1_epd_eis_srvy_l2_extof_oxygen_P3_cps_t2\n",
      "mms1_epd_eis_srvy_l2_extof_oxygen_P3_cps_t3\n",
      "mms1_epd_eis_srvy_l2_extof_oxygen_P3_cps_t4\n",
      "mms1_epd_eis_srvy_l2_extof_oxygen_P3_cps_t5\n",
      "mms1_epd_eis_srvy_l2_extof_oxygen_P3_flux_t0\n",
      "mms1_epd_eis_srvy_l2_extof_oxygen_t0_energy\n",
      "mms1_epd_eis_srvy_l2_extof_oxygen_t0_energy_dminus\n",
      "mms1_epd_eis_srvy_l2_extof_oxygen_t0_energy_dplus\n",
      "mms1_epd_eis_srvy_l2_extof_oxygen_P3_flux_t1\n",
      "mms1_epd_eis_srvy_l2_extof_oxygen_t1_energy\n",
      "mms1_epd_eis_srvy_l2_extof_oxygen_t1_energy_dminus\n",
      "mms1_epd_eis_srvy_l2_extof_oxygen_t1_energy_dplus\n",
      "mms1_epd_eis_srvy_l2_extof_oxygen_P3_flux_t2\n",
      "mms1_epd_eis_srvy_l2_extof_oxygen_t2_energy\n",
      "mms1_epd_eis_srvy_l2_extof_oxygen_t2_energy_dminus\n",
      "mms1_epd_eis_srvy_l2_extof_oxygen_t2_energy_dplus\n",
      "mms1_epd_eis_srvy_l2_extof_oxygen_P3_flux_t3\n",
      "mms1_epd_eis_srvy_l2_extof_oxygen_t3_energy\n",
      "mms1_epd_eis_srvy_l2_extof_oxygen_t3_energy_dminus\n",
      "mms1_epd_eis_srvy_l2_extof_oxygen_t3_energy_dplus\n",
      "mms1_epd_eis_srvy_l2_extof_oxygen_P3_flux_t4\n",
      "mms1_epd_eis_srvy_l2_extof_oxygen_t4_energy\n",
      "mms1_epd_eis_srvy_l2_extof_oxygen_t4_energy_dminus\n",
      "mms1_epd_eis_srvy_l2_extof_oxygen_t4_energy_dplus\n",
      "mms1_epd_eis_srvy_l2_extof_oxygen_P3_flux_t5\n",
      "mms1_epd_eis_srvy_l2_extof_oxygen_t5_energy\n",
      "mms1_epd_eis_srvy_l2_extof_oxygen_t5_energy_dminus\n",
      "mms1_epd_eis_srvy_l2_extof_oxygen_t5_energy_dplus\n",
      "mms1_epd_eis_srvy_l2_extof_dump_P3_counts_t0\n",
      "mms1_epd_eis_srvy_l2_extof_dump_P3_counts_t1\n",
      "mms1_epd_eis_srvy_l2_extof_dump_P3_counts_t2\n",
      "mms1_epd_eis_srvy_l2_extof_dump_P3_counts_t3\n",
      "mms1_epd_eis_srvy_l2_extof_dump_P3_counts_t4\n",
      "mms1_epd_eis_srvy_l2_extof_dump_P3_counts_t5\n",
      "mms1_epd_eis_srvy_l2_extof_dump_P3_cps_t0\n",
      "mms1_epd_eis_srvy_l2_extof_dump_P3_cps_t1\n",
      "mms1_epd_eis_srvy_l2_extof_dump_P3_cps_t2\n",
      "mms1_epd_eis_srvy_l2_extof_dump_P3_cps_t3\n",
      "mms1_epd_eis_srvy_l2_extof_dump_P3_cps_t4\n",
      "mms1_epd_eis_srvy_l2_extof_dump_P3_cps_t5\n",
      "mms1_epd_eis_srvy_l2_extof_dump_P3_flux_t0\n",
      "mms1_epd_eis_srvy_l2_extof_dump_P3_flux_t1\n",
      "mms1_epd_eis_srvy_l2_extof_dump_P3_flux_t2\n",
      "mms1_epd_eis_srvy_l2_extof_dump_P3_flux_t3\n",
      "mms1_epd_eis_srvy_l2_extof_dump_P3_flux_t4\n",
      "mms1_epd_eis_srvy_l2_extof_dump_P3_flux_t5\n",
      "mms1_epd_eis_srvy_l2_extof_pitch_angle_t0\n",
      "mms1_epd_eis_srvy_l2_extof_pitch_angle_t1\n",
      "mms1_epd_eis_srvy_l2_extof_pitch_angle_t2\n",
      "mms1_epd_eis_srvy_l2_extof_pitch_angle_t3\n",
      "mms1_epd_eis_srvy_l2_extof_pitch_angle_t4\n",
      "mms1_epd_eis_srvy_l2_extof_pitch_angle_t5\n",
      "mms1_epd_eis_srvy_l2_extof_look_t0\n",
      "mms1_epd_eis_srvy_l2_extof_look_t1\n",
      "mms1_epd_eis_srvy_l2_extof_look_t2\n",
      "mms1_epd_eis_srvy_l2_extof_look_t3\n",
      "mms1_epd_eis_srvy_l2_extof_look_t4\n",
      "mms1_epd_eis_srvy_l2_extof_look_t5\n",
      "mms1_epd_eis_srvy_l2_extof_b\n",
      "mms1_epd_eis_srvy_l2_extof_position_gse\n",
      "mms1_epd_eis_srvy_l2_extof_position_gsm\n",
      "mms1_epd_eis_srvy_l2_extof_moon_gse\n",
      "mms1_epd_eis_srvy_l2_extof_sc_to_gse\n",
      "mms1_epd_eis_srvy_l2_extof_gse_to_gsm\n",
      "mms1_epd_eis_srvy_l2_extof_r\n",
      "mms1_epd_eis_srvy_l2_extof_l\n",
      "mms1_epd_eis_srvy_l2_extof_gse_lat\n",
      "mms1_epd_eis_srvy_l2_extof_gse_lon\n",
      "mms1_epd_eis_srvy_l2_extof_gsm_lat\n",
      "mms1_epd_eis_srvy_l2_extof_gsm_lon\n",
      "mms1_epd_eis_srvy_l2_extof_sm_lat\n",
      "mms1_epd_eis_srvy_l2_extof_sm_lon\n",
      "mms1_epd_eis_srvy_l2_extof_orbit_num\n",
      "mms1_epd_eis_srvy_l2_extof_ssd0\n",
      "mms1_epd_eis_srvy_l2_extof_ssd1\n",
      "mms1_epd_eis_srvy_l2_extof_ssd2\n",
      "mms1_epd_eis_srvy_l2_extof_ssd3\n",
      "mms1_epd_eis_srvy_l2_extof_ssd4\n",
      "mms1_epd_eis_srvy_l2_extof_ssd5\n",
      "mms1_epd_eis_srvy_l2_extof_vep\n",
      "mms1_epd_eis_srvy_l2_extof_start0anode\n",
      "mms1_epd_eis_srvy_l2_extof_stop0anode\n",
      "mms1_epd_eis_srvy_l2_extof_pulseheight\n",
      "mms1_epd_eis_srvy_l2_extof_vtofxee\n",
      "mms1_epd_eis_srvy_l2_extof_vtofxphe\n",
      "mms1_epd_eis_srvy_l2_extof_proton_P3_flux_t0_spin\n",
      "mms1_epd_eis_srvy_l2_extof_proton_P3_flux_t1_spin\n",
      "mms1_epd_eis_srvy_l2_extof_proton_P3_flux_t2_spin\n",
      "mms1_epd_eis_srvy_l2_extof_proton_P3_flux_t3_spin\n",
      "mms1_epd_eis_srvy_l2_extof_proton_P3_flux_t4_spin\n",
      "mms1_epd_eis_srvy_l2_extof_proton_P3_flux_t5_spin\n",
      "mms1_epd_eis_srvy_l2_extof_oxygen_P3_flux_t0_spin\n",
      "mms1_epd_eis_srvy_l2_extof_oxygen_P3_flux_t1_spin\n",
      "mms1_epd_eis_srvy_l2_extof_oxygen_P3_flux_t2_spin\n",
      "mms1_epd_eis_srvy_l2_extof_oxygen_P3_flux_t3_spin\n",
      "mms1_epd_eis_srvy_l2_extof_oxygen_P3_flux_t4_spin\n",
      "mms1_epd_eis_srvy_l2_extof_oxygen_P3_flux_t5_spin\n",
      "mms1_epd_eis_srvy_l2_extof_helium_P3_flux_t0_spin\n",
      "mms1_epd_eis_srvy_l2_extof_helium_P3_flux_t1_spin\n",
      "mms1_epd_eis_srvy_l2_extof_helium_P3_flux_t2_spin\n",
      "mms1_epd_eis_srvy_l2_extof_helium_P3_flux_t3_spin\n",
      "mms1_epd_eis_srvy_l2_extof_helium_P3_flux_t4_spin\n",
      "mms1_epd_eis_srvy_l2_extof_helium_P3_flux_t5_spin\n",
      "mms1_epd_eis_srvy_l2_extof_proton_flux_omni\n",
      "mms1_epd_eis_srvy_l2_extof_oxygen_flux_omni\n",
      "mms1_epd_eis_srvy_l2_extof_helium_flux_omni\n",
      "mms1_epd_eis_srvy_l2_extof_proton_flux_omni_spin\n",
      "mms1_epd_eis_srvy_l2_extof_oxygen_flux_omni_spin\n",
      "mms1_epd_eis_srvy_l2_extof_helium_flux_omni_spin\n"
     ]
    }
   ],
   "source": [
    "extof_vars = eis(trange=['2015-10-16', '2015-10-17'], datatype='extof')"
   ]
  },
  {
   "cell_type": "markdown",
   "metadata": {},
   "source": [
    "## Plot the ExTOF proton flux"
   ]
  },
  {
   "cell_type": "code",
   "execution_count": 3,
   "metadata": {},
   "outputs": [],
   "source": [
    "tplot(['mms1_epd_eis_srvy_l2_extof_proton_flux_omni_spin', 'mms1_epd_eis_srvy_l2_extof_proton_flux_omni'])"
   ]
  },
  {
   "cell_type": "markdown",
   "metadata": {},
   "source": [
    "## Load the PHxTOF data"
   ]
  },
  {
   "cell_type": "code",
   "execution_count": 4,
   "metadata": {},
   "outputs": [
    {
     "name": "stderr",
     "output_type": "stream",
     "text": [
      "24-Aug-21 12:43:18: Downloading mms1_epd-eis_srvy_l2_phxtof_20151016_v3.0.100.cdf to /Volumes/data/data/mms/mms1/epd-eis/srvy/l2/phxtof/2015/10\n"
     ]
    },
    {
     "name": "stdout",
     "output_type": "stream",
     "text": [
      "That name is currently not in pytplot\n",
      "That name is currently not in pytplot\n",
      "That name is currently not in pytplot\n",
      "Loaded variables:\n",
      "Epoch\n",
      "Time_Minus\n",
      "Time_Plus\n",
      "mms1_epd_eis_srvy_l2_phxtof_duration\n",
      "mms1_epd_eis_srvy_l2_phxtof_deadtime\n",
      "mms1_epd_eis_srvy_l2_phxtof_largepixel\n",
      "mms1_epd_eis_srvy_l2_phxtof_starttai\n",
      "mms1_epd_eis_srvy_l2_phxtof_midtai\n",
      "mms1_epd_eis_srvy_l2_phxtof_endtai\n",
      "mms1_epd_eis_srvy_l2_phxtof_spin\n",
      "mms1_epd_eis_srvy_l2_phxtof_sector\n",
      "mms1_epd_eis_srvy_l2_phxtof_quality\n",
      "mms1_epd_eis_srvy_l2_phxtof_proton_P3_counts_t0\n",
      "mms1_epd_eis_srvy_l2_phxtof_proton_P3_counts_t1\n",
      "mms1_epd_eis_srvy_l2_phxtof_proton_P3_counts_t2\n",
      "mms1_epd_eis_srvy_l2_phxtof_proton_P3_counts_t3\n",
      "mms1_epd_eis_srvy_l2_phxtof_proton_P3_counts_t4\n",
      "mms1_epd_eis_srvy_l2_phxtof_proton_P3_counts_t5\n",
      "mms1_epd_eis_srvy_l2_phxtof_proton_P3_cps_t0\n",
      "mms1_epd_eis_srvy_l2_phxtof_proton_P3_cps_t1\n",
      "mms1_epd_eis_srvy_l2_phxtof_proton_P3_cps_t2\n",
      "mms1_epd_eis_srvy_l2_phxtof_proton_P3_cps_t3\n",
      "mms1_epd_eis_srvy_l2_phxtof_proton_P3_cps_t4\n",
      "mms1_epd_eis_srvy_l2_phxtof_proton_P3_cps_t5\n",
      "mms1_epd_eis_srvy_l2_phxtof_proton_P3_flux_t0\n",
      "mms1_epd_eis_srvy_l2_phxtof_proton_t0_energy\n",
      "mms1_epd_eis_srvy_l2_phxtof_proton_t0_energy_dminus\n",
      "mms1_epd_eis_srvy_l2_phxtof_proton_t0_energy_dplus\n",
      "mms1_epd_eis_srvy_l2_phxtof_proton_P3_flux_t1\n",
      "mms1_epd_eis_srvy_l2_phxtof_proton_t1_energy\n",
      "mms1_epd_eis_srvy_l2_phxtof_proton_t1_energy_dminus\n",
      "mms1_epd_eis_srvy_l2_phxtof_proton_t1_energy_dplus\n",
      "mms1_epd_eis_srvy_l2_phxtof_proton_P3_flux_t2\n",
      "mms1_epd_eis_srvy_l2_phxtof_proton_t2_energy\n",
      "mms1_epd_eis_srvy_l2_phxtof_proton_t2_energy_dminus\n",
      "mms1_epd_eis_srvy_l2_phxtof_proton_t2_energy_dplus\n",
      "mms1_epd_eis_srvy_l2_phxtof_proton_P3_flux_t3\n",
      "mms1_epd_eis_srvy_l2_phxtof_proton_t3_energy\n",
      "mms1_epd_eis_srvy_l2_phxtof_proton_t3_energy_dminus\n",
      "mms1_epd_eis_srvy_l2_phxtof_proton_t3_energy_dplus\n",
      "mms1_epd_eis_srvy_l2_phxtof_proton_P3_flux_t4\n",
      "mms1_epd_eis_srvy_l2_phxtof_proton_t4_energy\n",
      "mms1_epd_eis_srvy_l2_phxtof_proton_t4_energy_dminus\n",
      "mms1_epd_eis_srvy_l2_phxtof_proton_t4_energy_dplus\n",
      "mms1_epd_eis_srvy_l2_phxtof_proton_P3_flux_t5\n",
      "mms1_epd_eis_srvy_l2_phxtof_proton_t5_energy\n",
      "mms1_epd_eis_srvy_l2_phxtof_proton_t5_energy_dminus\n",
      "mms1_epd_eis_srvy_l2_phxtof_proton_t5_energy_dplus\n",
      "mms1_epd_eis_srvy_l2_phxtof_oxygen_P3_counts_t0\n",
      "mms1_epd_eis_srvy_l2_phxtof_oxygen_P3_counts_t1\n",
      "mms1_epd_eis_srvy_l2_phxtof_oxygen_P3_counts_t2\n",
      "mms1_epd_eis_srvy_l2_phxtof_oxygen_P3_counts_t3\n",
      "mms1_epd_eis_srvy_l2_phxtof_oxygen_P3_counts_t4\n",
      "mms1_epd_eis_srvy_l2_phxtof_oxygen_P3_counts_t5\n",
      "mms1_epd_eis_srvy_l2_phxtof_oxygen_P3_cps_t0\n",
      "mms1_epd_eis_srvy_l2_phxtof_oxygen_P3_cps_t1\n",
      "mms1_epd_eis_srvy_l2_phxtof_oxygen_P3_cps_t2\n",
      "mms1_epd_eis_srvy_l2_phxtof_oxygen_P3_cps_t3\n",
      "mms1_epd_eis_srvy_l2_phxtof_oxygen_P3_cps_t4\n",
      "mms1_epd_eis_srvy_l2_phxtof_oxygen_P3_cps_t5\n",
      "mms1_epd_eis_srvy_l2_phxtof_oxygen_P3_flux_t0\n",
      "mms1_epd_eis_srvy_l2_phxtof_oxygen_t0_energy\n",
      "mms1_epd_eis_srvy_l2_phxtof_oxygen_t0_energy_dminus\n",
      "mms1_epd_eis_srvy_l2_phxtof_oxygen_t0_energy_dplus\n",
      "mms1_epd_eis_srvy_l2_phxtof_oxygen_P3_flux_t1\n",
      "mms1_epd_eis_srvy_l2_phxtof_oxygen_t1_energy\n",
      "mms1_epd_eis_srvy_l2_phxtof_oxygen_t1_energy_dminus\n",
      "mms1_epd_eis_srvy_l2_phxtof_oxygen_t1_energy_dplus\n",
      "mms1_epd_eis_srvy_l2_phxtof_oxygen_P3_flux_t2\n",
      "mms1_epd_eis_srvy_l2_phxtof_oxygen_t2_energy\n",
      "mms1_epd_eis_srvy_l2_phxtof_oxygen_t2_energy_dminus\n",
      "mms1_epd_eis_srvy_l2_phxtof_oxygen_t2_energy_dplus\n",
      "mms1_epd_eis_srvy_l2_phxtof_oxygen_P3_flux_t3\n",
      "mms1_epd_eis_srvy_l2_phxtof_oxygen_t3_energy\n",
      "mms1_epd_eis_srvy_l2_phxtof_oxygen_t3_energy_dminus\n",
      "mms1_epd_eis_srvy_l2_phxtof_oxygen_t3_energy_dplus\n",
      "mms1_epd_eis_srvy_l2_phxtof_oxygen_P3_flux_t4\n",
      "mms1_epd_eis_srvy_l2_phxtof_oxygen_t4_energy\n",
      "mms1_epd_eis_srvy_l2_phxtof_oxygen_t4_energy_dminus\n",
      "mms1_epd_eis_srvy_l2_phxtof_oxygen_t4_energy_dplus\n",
      "mms1_epd_eis_srvy_l2_phxtof_oxygen_P3_flux_t5\n",
      "mms1_epd_eis_srvy_l2_phxtof_oxygen_t5_energy\n",
      "mms1_epd_eis_srvy_l2_phxtof_oxygen_t5_energy_dminus\n",
      "mms1_epd_eis_srvy_l2_phxtof_oxygen_t5_energy_dplus\n",
      "mms1_epd_eis_srvy_l2_phxtof_dump_P3_counts_t0\n",
      "mms1_epd_eis_srvy_l2_phxtof_dump_P3_counts_t1\n",
      "mms1_epd_eis_srvy_l2_phxtof_dump_P3_counts_t2\n",
      "mms1_epd_eis_srvy_l2_phxtof_dump_P3_counts_t3\n",
      "mms1_epd_eis_srvy_l2_phxtof_dump_P3_counts_t4\n",
      "mms1_epd_eis_srvy_l2_phxtof_dump_P3_counts_t5\n",
      "mms1_epd_eis_srvy_l2_phxtof_dump_P3_cps_t0\n",
      "mms1_epd_eis_srvy_l2_phxtof_dump_P3_cps_t1\n",
      "mms1_epd_eis_srvy_l2_phxtof_dump_P3_cps_t2\n",
      "mms1_epd_eis_srvy_l2_phxtof_dump_P3_cps_t3\n",
      "mms1_epd_eis_srvy_l2_phxtof_dump_P3_cps_t4\n",
      "mms1_epd_eis_srvy_l2_phxtof_dump_P3_cps_t5\n",
      "mms1_epd_eis_srvy_l2_phxtof_dump_P3_flux_t0\n",
      "mms1_epd_eis_srvy_l2_phxtof_dump_P3_flux_t1\n",
      "mms1_epd_eis_srvy_l2_phxtof_dump_P3_flux_t2\n",
      "mms1_epd_eis_srvy_l2_phxtof_dump_P3_flux_t3\n",
      "mms1_epd_eis_srvy_l2_phxtof_dump_P3_flux_t4\n",
      "mms1_epd_eis_srvy_l2_phxtof_dump_P3_flux_t5\n",
      "mms1_epd_eis_srvy_l2_phxtof_pitch_angle_t0\n",
      "mms1_epd_eis_srvy_l2_phxtof_pitch_angle_t1\n",
      "mms1_epd_eis_srvy_l2_phxtof_pitch_angle_t2\n",
      "mms1_epd_eis_srvy_l2_phxtof_pitch_angle_t3\n",
      "mms1_epd_eis_srvy_l2_phxtof_pitch_angle_t4\n",
      "mms1_epd_eis_srvy_l2_phxtof_pitch_angle_t5\n",
      "mms1_epd_eis_srvy_l2_phxtof_look_t0\n",
      "mms1_epd_eis_srvy_l2_phxtof_look_t1\n",
      "mms1_epd_eis_srvy_l2_phxtof_look_t2\n",
      "mms1_epd_eis_srvy_l2_phxtof_look_t3\n",
      "mms1_epd_eis_srvy_l2_phxtof_look_t4\n",
      "mms1_epd_eis_srvy_l2_phxtof_look_t5\n",
      "mms1_epd_eis_srvy_l2_phxtof_b\n",
      "mms1_epd_eis_srvy_l2_phxtof_position_gse\n",
      "mms1_epd_eis_srvy_l2_phxtof_position_gsm\n",
      "mms1_epd_eis_srvy_l2_phxtof_moon_gse\n",
      "mms1_epd_eis_srvy_l2_phxtof_sc_to_gse\n",
      "mms1_epd_eis_srvy_l2_phxtof_gse_to_gsm\n",
      "mms1_epd_eis_srvy_l2_phxtof_r\n",
      "mms1_epd_eis_srvy_l2_phxtof_l\n",
      "mms1_epd_eis_srvy_l2_phxtof_gse_lat\n",
      "mms1_epd_eis_srvy_l2_phxtof_gse_lon\n",
      "mms1_epd_eis_srvy_l2_phxtof_gsm_lat\n",
      "mms1_epd_eis_srvy_l2_phxtof_gsm_lon\n",
      "mms1_epd_eis_srvy_l2_phxtof_sm_lat\n",
      "mms1_epd_eis_srvy_l2_phxtof_sm_lon\n",
      "mms1_epd_eis_srvy_l2_phxtof_orbit_num\n",
      "mms1_epd_eis_srvy_l2_phxtof_ssd0\n",
      "mms1_epd_eis_srvy_l2_phxtof_ssd1\n",
      "mms1_epd_eis_srvy_l2_phxtof_ssd2\n",
      "mms1_epd_eis_srvy_l2_phxtof_ssd3\n",
      "mms1_epd_eis_srvy_l2_phxtof_ssd4\n",
      "mms1_epd_eis_srvy_l2_phxtof_ssd5\n",
      "mms1_epd_eis_srvy_l2_phxtof_vep\n",
      "mms1_epd_eis_srvy_l2_phxtof_start0anode\n",
      "mms1_epd_eis_srvy_l2_phxtof_stop0anode\n",
      "mms1_epd_eis_srvy_l2_phxtof_pulseheight\n",
      "mms1_epd_eis_srvy_l2_phxtof_vtofxee\n",
      "mms1_epd_eis_srvy_l2_phxtof_vtofxphe\n",
      "mms1_epd_eis_srvy_l2_phxtof_proton_P3_flux_t0_spin\n",
      "mms1_epd_eis_srvy_l2_phxtof_proton_P3_flux_t1_spin\n",
      "mms1_epd_eis_srvy_l2_phxtof_proton_P3_flux_t2_spin\n",
      "mms1_epd_eis_srvy_l2_phxtof_proton_P3_flux_t3_spin\n",
      "mms1_epd_eis_srvy_l2_phxtof_proton_P3_flux_t4_spin\n",
      "mms1_epd_eis_srvy_l2_phxtof_proton_P3_flux_t5_spin\n",
      "mms1_epd_eis_srvy_l2_phxtof_proton_flux_omni\n",
      "mms1_epd_eis_srvy_l2_phxtof_proton_flux_omni_spin\n"
     ]
    }
   ],
   "source": [
    "phxtof_vars = eis(trange=['2015-10-16', '2015-10-17'], datatype='phxtof')"
   ]
  },
  {
   "cell_type": "markdown",
   "metadata": {},
   "source": [
    "## Plot the PHxTOF proton flux"
   ]
  },
  {
   "cell_type": "code",
   "execution_count": 5,
   "metadata": {},
   "outputs": [],
   "source": [
    "tplot(['mms1_epd_eis_srvy_l2_phxtof_proton_flux_omni_spin', 'mms1_epd_eis_srvy_l2_phxtof_proton_flux_omni'])"
   ]
  },
  {
   "cell_type": "markdown",
   "metadata": {},
   "source": [
    "## Calculate the ExTOF pitch angle distribution"
   ]
  },
  {
   "cell_type": "code",
   "execution_count": 6,
   "metadata": {},
   "outputs": [
    {
     "name": "stderr",
     "output_type": "stream",
     "text": [
      "24-Aug-21 12:47:21: Calculating the EIS pitch angle distribution; this may take several minutes\n"
     ]
    },
    {
     "data": {
      "text/plain": [
       "['mms1_epd_eis_srvy_l2_extof_46_67keV_proton_flux_omni_pad',\n",
       " 'mms1_epd_eis_srvy_l2_extof_68_100keV_proton_flux_omni_pad',\n",
       " 'mms1_epd_eis_srvy_l2_extof_101_146keV_proton_flux_omni_pad',\n",
       " 'mms1_epd_eis_srvy_l2_extof_147_245keV_proton_flux_omni_pad',\n",
       " 'mms1_epd_eis_srvy_l2_extof_246_412keV_proton_flux_omni_pad',\n",
       " 'mms1_epd_eis_srvy_l2_extof_413_693keV_proton_flux_omni_pad',\n",
       " 'mms1_epd_eis_srvy_l2_extof_694_10489keV_proton_flux_omni_pad',\n",
       " 'mms1_epd_eis_srvy_l2_extof_proton_flux_omni_pads',\n",
       " 'mms1_epd_eis_srvy_l2_extof_46-10489keV_proton_flux_omni_pad',\n",
       " 'mms1_epd_eis_srvy_l2_extof_46_67keV_proton_flux_omni_pad_spin',\n",
       " 'mms1_epd_eis_srvy_l2_extof_68_100keV_proton_flux_omni_pad_spin',\n",
       " 'mms1_epd_eis_srvy_l2_extof_101_146keV_proton_flux_omni_pad_spin',\n",
       " 'mms1_epd_eis_srvy_l2_extof_147_245keV_proton_flux_omni_pad_spin',\n",
       " 'mms1_epd_eis_srvy_l2_extof_246_412keV_proton_flux_omni_pad_spin',\n",
       " 'mms1_epd_eis_srvy_l2_extof_413_693keV_proton_flux_omni_pad_spin',\n",
       " 'mms1_epd_eis_srvy_l2_extof_694_10489keV_proton_flux_omni_pad_spin',\n",
       " 'mms1_epd_eis_srvy_l2_extof_46-10489keV_proton_flux_omni_pad_spin']"
      ]
     },
     "execution_count": 6,
     "metadata": {},
     "output_type": "execute_result"
    }
   ],
   "source": [
    "mms_eis_pad(datatype='extof')"
   ]
  },
  {
   "cell_type": "markdown",
   "metadata": {},
   "source": [
    "## Plot the PAD"
   ]
  },
  {
   "cell_type": "code",
   "execution_count": 8,
   "metadata": {},
   "outputs": [],
   "source": [
    "tplot(['mms1_epd_eis_srvy_l2_extof_46-10489keV_proton_flux_omni_pad_spin', 'mms1_epd_eis_srvy_l2_extof_46-10489keV_proton_flux_omni_pad'])"
   ]
  },
  {
   "cell_type": "markdown",
   "metadata": {},
   "source": [
    "## Calculate the PHxTOF pitch angle distribution"
   ]
  },
  {
   "cell_type": "code",
   "execution_count": 9,
   "metadata": {},
   "outputs": [
    {
     "name": "stderr",
     "output_type": "stream",
     "text": [
      "24-Aug-21 12:48:16: Calculating the EIS pitch angle distribution; this may take several minutes\n"
     ]
    },
    {
     "data": {
      "text/plain": [
       "['mms1_epd_eis_srvy_l2_phxtof_9_14keV_proton_flux_omni_pad',\n",
       " 'mms1_epd_eis_srvy_l2_phxtof_14_20keV_proton_flux_omni_pad',\n",
       " 'mms1_epd_eis_srvy_l2_phxtof_20_29keV_proton_flux_omni_pad',\n",
       " 'mms1_epd_eis_srvy_l2_phxtof_29_41keV_proton_flux_omni_pad',\n",
       " 'mms1_epd_eis_srvy_l2_phxtof_42_76keV_proton_flux_omni_pad',\n",
       " 'mms1_epd_eis_srvy_l2_phxtof_proton_flux_omni_pads',\n",
       " 'mms1_epd_eis_srvy_l2_phxtof_9-76keV_proton_flux_omni_pad',\n",
       " 'mms1_epd_eis_srvy_l2_phxtof_9_14keV_proton_flux_omni_pad_spin',\n",
       " 'mms1_epd_eis_srvy_l2_phxtof_14_20keV_proton_flux_omni_pad_spin',\n",
       " 'mms1_epd_eis_srvy_l2_phxtof_20_29keV_proton_flux_omni_pad_spin',\n",
       " 'mms1_epd_eis_srvy_l2_phxtof_29_41keV_proton_flux_omni_pad_spin',\n",
       " 'mms1_epd_eis_srvy_l2_phxtof_42_76keV_proton_flux_omni_pad_spin',\n",
       " 'mms1_epd_eis_srvy_l2_phxtof_9-76keV_proton_flux_omni_pad_spin']"
      ]
     },
     "execution_count": 9,
     "metadata": {},
     "output_type": "execute_result"
    }
   ],
   "source": [
    "mms_eis_pad(datatype='phxtof', energy=[10, 60])"
   ]
  },
  {
   "cell_type": "markdown",
   "metadata": {},
   "source": [
    "## Plot the PAD"
   ]
  },
  {
   "cell_type": "code",
   "execution_count": 11,
   "metadata": {},
   "outputs": [],
   "source": [
    "tplot(['mms1_epd_eis_srvy_l2_phxtof_9-76keV_proton_flux_omni_pad_spin', 'mms1_epd_eis_srvy_l2_phxtof_9-76keV_proton_flux_omni_pad'])"
   ]
  },
  {
   "cell_type": "code",
   "execution_count": null,
   "metadata": {},
   "outputs": [],
   "source": []
  }
 ],
 "metadata": {
  "kernelspec": {
   "display_name": "Python 3",
   "language": "python",
   "name": "python3"
  },
  "language_info": {
   "codemirror_mode": {
    "name": "ipython",
    "version": 3
   },
   "file_extension": ".py",
   "mimetype": "text/x-python",
   "name": "python",
   "nbconvert_exporter": "python",
   "pygments_lexer": "ipython3",
   "version": "3.7.6"
  }
 },
 "nbformat": 4,
 "nbformat_minor": 2
}
