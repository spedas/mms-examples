{
 "cells": [
  {
   "cell_type": "markdown",
   "metadata": {
    "id": "TupGMcgmcajW"
   },
   "source": [
    "# Active Spacecraft Potential Control (ASPOC)\n",
    "\n",
    "This notebook shows how to load and plot MMS ASPOC data with pySPEDAS and pyTplot\n",
    "\n",
    "For information on the data, please see the Data Products Guide at:\n",
    "\n",
    "https://lasp.colorado.edu/mms/sdc/public/datasets/aspoc/"
   ]
  },
  {
   "cell_type": "markdown",
   "source": [
    "This command sets up the PySPEDAS environment when running in Google Colab.  You can skip it or comment it out if you're running this notebook in an environment that already has PySPEDAS installed.\n"
   ],
   "metadata": {
    "collapsed": false
   }
  },
  {
   "cell_type": "code",
   "execution_count": null,
   "outputs": [],
   "source": [
    "!pip install pyspedas"
   ],
   "metadata": {
    "collapsed": false
   }
  },
  {
   "metadata": {},
   "cell_type": "markdown",
   "source": [
    "## Get started\n",
    "\n",
    "To get started, import the `aspoc` function from the `pyspedas.projects.mms` module, and `tplot` from `pyspedas`"
   ]
  },
  {
   "metadata": {},
   "cell_type": "code",
   "outputs": [],
   "execution_count": null,
   "source": [
    "from pyspedas.projects.mms import aspoc\n",
    "from pyspedas import tplot"
   ]
  },
  {
   "cell_type": "markdown",
   "metadata": {
    "id": "u-eWVodGcaje"
   },
   "source": [
    "## Load the survey mode ASPOC data"
   ]
  },
  {
   "cell_type": "code",
   "execution_count": 3,
   "metadata": {
    "colab": {
     "base_uri": "https://localhost:8080/"
    },
    "id": "s1zvkdwqcajf",
    "outputId": "61568cb4-74e3-40cc-8bbf-4d377ef9a7e3"
   },
   "outputs": [
    {
     "name": "stdout",
     "output_type": "stream",
     "text": [
      "SDC username (blank for public access): \n"
     ]
    },
    {
     "output_type": "stream",
     "name": "stderr",
     "text": [
      "26-Jan-22 22:12:27: Downloading mms1_aspoc_srvy_l2_20151016_v2.0.0.cdf to pydata/mms1/aspoc/srvy/l2/2015/10\n"
     ]
    },
    {
     "output_type": "stream",
     "name": "stdout",
     "text": [
      "Loaded variables:\n",
      "Epoch_l2\n",
      "mms1_aspoc_ionc_l2\n",
      "mms1_asp1_ionc_l2\n",
      "mms1_asp2_ionc_l2\n",
      "mms1_asp1_energy_l2\n",
      "mms1_asp2_energy_l2\n",
      "mms1_aspoc_status_l2\n"
     ]
    }
   ],
   "source": [
    "asp_vars = aspoc(trange=['2015-10-16', '2015-10-17'])"
   ]
  },
  {
   "cell_type": "markdown",
   "metadata": {
    "id": "2WwhiIlUcajg"
   },
   "source": [
    "## Plot the ASPOC data"
   ]
  },
  {
   "cell_type": "code",
   "execution_count": 6,
   "metadata": {
    "colab": {
     "base_uri": "https://localhost:8080/",
     "height": 608
    },
    "id": "4Jp54luXcajg",
    "outputId": "3b0746e5-df0a-4847-a342-0f5cb109afd5"
   },
   "outputs": [
    {
     "output_type": "display_data",
     "data": {
      "image/png": "[encoded data removed]",
      "text/plain": [
       "<Figure size 576x720 with 3 Axes>"
      ]
     },
     "metadata": {
      "needs_background": "light"
     }
    }
   ],
   "source": [
    "tplot(['mms1_aspoc_ionc_l2', \n",
    "       'mms1_asp1_ionc_l2', \n",
    "       'mms1_asp2_ionc_l2'])"
   ]
  },
  {
   "cell_type": "code",
   "source": [],
   "metadata": {
    "id": "AxtLcmvZchrX"
   },
   "execution_count": null,
   "outputs": []
  }
 ],
 "metadata": {
  "kernelspec": {
   "display_name": "Python 3",
   "language": "python",
   "name": "python3"
  },
  "language_info": {
   "codemirror_mode": {
    "name": "ipython",
    "version": 3
   },
   "file_extension": ".py",
   "mimetype": "text/x-python",
   "name": "python",
   "nbconvert_exporter": "python",
   "pygments_lexer": "ipython3",
   "version": "3.7.2"
  },
  "colab": {
   "name": "Active Spacecraft Potential Control (ASPOC).ipynb",
   "provenance": [],
   "collapsed_sections": []
  }
 },
 "nbformat": 4,
 "nbformat_minor": 0
}
