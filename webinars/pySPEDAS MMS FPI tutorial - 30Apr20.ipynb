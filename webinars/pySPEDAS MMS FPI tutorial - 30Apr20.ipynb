{
 "cells": [
  {
   "cell_type": "markdown",
   "metadata": {},
   "source": [
    "# MMS Fast Plasma Investigation in pySPEDAS\n",
    "\n",
    "\n",
    "For information on the data, please see the Release Notes and Data Products Guide at:\n",
    "\n",
    "https://lasp.colorado.edu/mms/sdc/public/datasets/fpi/\n",
    "\n",
    "## Getting Started\n",
    "\n",
    "To get up and running with Python, virtual environments and pySPEDAS, see:\n",
    "\n",
    "http://spedas.org/mms/getting_started_with_pyspedas.pdf\n",
    "\n",
    "Python 3.5 or later is required; we recommend installing Anaconda to get everything up and running. \n",
    "\n",
    "### All of this depends on the hard work of the pyTplot developers at LASP\n",
    "To learn more about pytplot:\n",
    "\n",
    "https://pytplot.readthedocs.io/\n",
    "\n",
    "### Install pySPEDAS\n",
    "\n",
    "`pip install pyspedas`\n",
    "\n",
    "### Upgrade pySPEDAS\n",
    "\n",
    "`pip install pyspedas --upgrade`\n",
    "\n",
    "### Virtual environments\n",
    "\n",
    "It's best to setup and use virtual environments when using Python - these allow you to avoid common dependency problems when you install multiple packages\n",
    "\n",
    "### Local data directory\n",
    "We use environment variables to set the local data directories:\n",
    "\n",
    "    SPEDAS_DATA_DIR (root data directory for all missions in pySPEDAS, and most missions in SPEDAS)\n",
    "    e.g., if you set SPEDAS_DATA_DIR=/Users/eric/data, your data will be stored in /Users/eric/data/mms/\n",
    "    \n",
    "    MMS_DATA_DIR (if set, overrides SPEDAS_DATA_DIR)\n",
    "    e.g., if you set MMS_DATA_DIR=/Users/eric/data/mms, your data will be stored in /Users/eric/data/mms/\n",
    "\n",
    "### Network mirror data directory \n",
    "To set your network mirror directory, use the `MMS_MIRROR_DATA_DIR` environment variable. Just as in IDL, if you set the mirror and provide the `no_update` keyword to the load routines, pySPEDAS will check for the data on the network mirror (and if it exists, it will copy the data to your local data directory before loading it)\n",
    "\n",
    "### Load routines\n",
    "The load routines in pySPEDAS can be accessed using the syntax: \n",
    "\n",
    "    pyspedas.mission.instrument()\n",
    "    \n",
    "and just as in IDL, the options are set by keywords you provide to these procedures. Note: for MMS, you can also still access the load routines with their IDL names via:\n",
    "\n",
    "    pyspedas.mms_load_xxx()\n",
    "\n",
    "e.g., \n",
    "\n",
    "    from pyspedas import mms_load_fpi\n",
    "    mms_load_fpi(trange=...)"
   ]
  },
  {
   "cell_type": "markdown",
   "source": [
    "This command sets up the PySPEDAS environment when running in Google Colab.  You can skip it or comment it out if you're running this notebook in an environment that already has PySPEDAS installed."
   ],
   "metadata": {
    "collapsed": false
   }
  },
  {
   "cell_type": "code",
   "execution_count": null,
   "outputs": [],
   "source": [
    "!pip install pyspedas"
   ],
   "metadata": {
    "collapsed": false
   }
  },
  {
   "cell_type": "markdown",
   "metadata": {},
   "source": [
    "## Import the pyspedas package"
   ]
  },
  {
   "cell_type": "code",
   "execution_count": 1,
   "metadata": {},
   "outputs": [],
   "source": [
    "import pyspedas"
   ]
  },
  {
   "cell_type": "markdown",
   "metadata": {},
   "source": [
    "## Finding the available keywords\n",
    "\n",
    "To find help on the available options, use help(), e.g., "
   ]
  },
  {
   "cell_type": "code",
   "execution_count": 2,
   "metadata": {},
   "outputs": [
    {
     "name": "stdout",
     "output_type": "stream",
     "text": [
      "Help on function mms_load_fpi in module pyspedas.mms:\n",
      "\n",
      "mms_load_fpi(*args, **kwargs)\n",
      "    This function loads FPI data into tplot variables\n",
      "    \n",
      "    Parameters:\n",
      "        trange : list of str\n",
      "            time range of interest [starttime, endtime] with the format \n",
      "            'YYYY-MM-DD','YYYY-MM-DD'] or to specify more or less than a day \n",
      "            ['YYYY-MM-DD/hh:mm:ss','YYYY-MM-DD/hh:mm:ss']\n",
      "    \n",
      "        probe : str or list of str\n",
      "            list of probes, valid values for MMS probes are ['1','2','3','4']. \n",
      "    \n",
      "        data_rate : str or list of str\n",
      "            instrument data rates for FPI include 'brst', 'fast'. The\n",
      "            default is 'srvy'.\n",
      "    \n",
      "        level : str\n",
      "            indicates level of data processing. the default if no level is specified is 'l2'\n",
      "    \n",
      "        datatype : str or list of str\n",
      "            Valid datatypes for FPI are:\n",
      "             'des-moms', 'dis-moms' (default)\n",
      "             'des-dist', 'dis-dist'\n",
      "    \n",
      "        get_support_data: bool\n",
      "            Data with an attribute \"VAR_TYPE\" with a value of \"support_data\"\n",
      "            will be loaded into tplot.  By default, only loads in data with a \n",
      "            \"VAR_TYPE\" attribute of \"data\".\n",
      "    \n",
      "        time_clip: bool\n",
      "            Data will be clipped to the exact trange specified by the trange keyword.\n",
      "            \n",
      "        varformat: str\n",
      "            The file variable formats to load into tplot.  Wildcard character\n",
      "            \"*\" is accepted.  By default, all variables are loaded in.\n",
      "    \n",
      "        suffix: str\n",
      "            The tplot variable names will be given this suffix.  By default, \n",
      "            no suffix is added.\n",
      "    \n",
      "        center_measurement: bool\n",
      "            If True, the CDF epoch variables are time-shifted to the middle\n",
      "            of the accumulation interval by their DELTA_PLUS_VAR and\n",
      "            DELTA_MINUS_VAR variable attributes\n",
      "    \n",
      "        notplot: bool\n",
      "            If True, then data are returned in a hash table instead of \n",
      "            being stored in tplot variables (useful for debugging, and\n",
      "            access to multi-dimensional data products)\n",
      "    \n",
      "        available: bool\n",
      "            If True, simply return the available data files (without downloading)\n",
      "            for the requested paramters\n",
      "    \n",
      "        no_update: bool\n",
      "            Set this flag to preserve the original data. if not set and newer \n",
      "            data is found the existing data will be overwritten\n",
      "    \n",
      "        cdf_version: str\n",
      "            Specify a specific CDF version # to load (e.g., cdf_version='4.3.0')\n",
      "    \n",
      "        min_version: str\n",
      "            Specify a minimum CDF version # to load\n",
      "    \n",
      "        latest_version: bool\n",
      "            Only grab the latest CDF version in the requested time interval\n",
      "    \n",
      "        major_version: bool\n",
      "            Only open the latest major CDF version (e.g., X in vX.Y.Z) in the requested time interval\n",
      "    \n",
      "        spdf: bool\n",
      "            If True, download the data from the SPDF instead of the SDC\n",
      "            \n",
      "    Returns:\n",
      "        List of tplot variables created.\n"
     ]
    }
   ],
   "source": [
    "help(pyspedas.mms.fpi)"
   ]
  },
  {
   "cell_type": "markdown",
   "metadata": {},
   "source": [
    "## Load ion moments data for probe 4"
   ]
  },
  {
   "cell_type": "code",
   "execution_count": 3,
   "metadata": {},
   "outputs": [
    {
     "name": "stderr",
     "output_type": "stream",
     "text": [
      "30-Apr-20 06:54:12: Loading /Volumes/data/data/mms/mms4/fpi/brst/l2/dis-moms/2015/10/16/mms4_fpi_brst_l2_dis-moms_20151016130524_v3.3.0.cdf\n"
     ]
    },
    {
     "name": "stdout",
     "output_type": "stream",
     "text": [
      "Loaded variables:\n",
      "mms4_dis_errorflags_brst\n",
      "mms4_dis_compressionloss_brst\n",
      "mms4_dis_startdelphi_count_brst\n",
      "mms4_dis_startdelphi_angle_brst\n",
      "mms4_dis_sector_despinp_brst\n",
      "mms4_dis_energyspectr_px_brst\n",
      "mms4_dis_energyspectr_mx_brst\n",
      "mms4_dis_energyspectr_py_brst\n",
      "mms4_dis_energyspectr_my_brst\n",
      "mms4_dis_energyspectr_pz_brst\n",
      "mms4_dis_energyspectr_mz_brst\n",
      "mms4_dis_energyspectr_omni_brst\n",
      "mms4_dis_spectr_bg_brst\n",
      "mms4_dis_numberdensity_bg_brst\n",
      "mms4_dis_numberdensity_brst\n",
      "mms4_dis_densityextrapolation_low_brst\n",
      "mms4_dis_densityextrapolation_high_brst\n",
      "mms4_dis_bulkv_dbcs_brst\n",
      "mms4_dis_bulkv_spintone_dbcs_brst\n",
      "mms4_dis_bulkv_gse_brst\n",
      "mms4_dis_bulkv_spintone_gse_brst\n",
      "mms4_dis_prestensor_dbcs_brst\n",
      "mms4_dis_prestensor_gse_brst\n",
      "mms4_dis_pres_bg_brst\n",
      "mms4_dis_temptensor_dbcs_brst\n",
      "mms4_dis_temptensor_gse_brst\n",
      "mms4_dis_heatq_dbcs_brst\n",
      "mms4_dis_heatq_gse_brst\n",
      "mms4_dis_temppara_brst\n",
      "mms4_dis_tempperp_brst\n"
     ]
    }
   ],
   "source": [
    "data = pyspedas.mms.fpi(trange=['2015-10-16/13:06', '2015-10-16/13:07'], \n",
    "                        datatype='dis-moms',\n",
    "                        data_rate='brst', \n",
    "                        probe=4,\n",
    "                        center_measurement=True)"
   ]
  },
  {
   "cell_type": "markdown",
   "metadata": {},
   "source": [
    "## Plot the ion data\n",
    "\n",
    "To plot the data, you'll need to import `tplot` from the `pytplot` package. Note: `pytplot` will be installed when you install pySPEDAS.\n"
   ]
  },
  {
   "cell_type": "code",
   "execution_count": 4,
   "metadata": {},
   "outputs": [],
   "source": [
    "from pytplot import tplot"
   ]
  },
  {
   "cell_type": "markdown",
   "metadata": {},
   "source": [
    "Then plot the data you would like to see:"
   ]
  },
  {
   "cell_type": "code",
   "execution_count": 17,
   "metadata": {},
   "outputs": [],
   "source": [
    "tplot(['mms4_dis_energyspectr_omni_brst', 'mms4_dis_bulkv_gse_brst', 'mms4_dis_numberdensity_brst'])"
   ]
  },
  {
   "cell_type": "markdown",
   "metadata": {},
   "source": [
    "## Load electron moments data for probe 4"
   ]
  },
  {
   "cell_type": "code",
   "execution_count": 6,
   "metadata": {},
   "outputs": [
    {
     "name": "stderr",
     "output_type": "stream",
     "text": [
      "30-Apr-20 06:54:32: Loading /Volumes/data/data/mms/mms4/fpi/brst/l2/des-moms/2015/10/16/mms4_fpi_brst_l2_des-moms_20151016130524_v3.3.0.cdf\n"
     ]
    },
    {
     "name": "stdout",
     "output_type": "stream",
     "text": [
      "Loaded variables:\n",
      "mms4_des_errorflags_brst\n",
      "mms4_des_compressionloss_brst\n",
      "mms4_des_startdelphi_count_brst\n",
      "mms4_des_startdelphi_angle_brst\n",
      "mms4_des_sector_despinp_brst\n",
      "mms4_des_pitchangdist_lowen_brst\n",
      "mms4_des_pitchangdist_miden_brst\n",
      "mms4_des_pitchangdist_highen_brst\n",
      "mms4_des_energyspectr_px_brst\n",
      "mms4_des_energyspectr_mx_brst\n",
      "mms4_des_energyspectr_py_brst\n",
      "mms4_des_energyspectr_my_brst\n",
      "mms4_des_energyspectr_pz_brst\n",
      "mms4_des_energyspectr_mz_brst\n",
      "mms4_des_energyspectr_par_brst\n",
      "mms4_des_energyspectr_anti_brst\n",
      "mms4_des_energyspectr_perp_brst\n",
      "mms4_des_energyspectr_omni_brst\n",
      "mms4_des_numberdensity_brst\n",
      "mms4_des_densityextrapolation_low_brst\n",
      "mms4_des_densityextrapolation_high_brst\n",
      "mms4_des_bulkv_dbcs_brst\n",
      "mms4_des_bulkv_spintone_dbcs_brst\n",
      "mms4_des_bulkv_gse_brst\n",
      "mms4_des_bulkv_spintone_gse_brst\n",
      "mms4_des_prestensor_dbcs_brst\n",
      "mms4_des_prestensor_gse_brst\n",
      "mms4_des_temptensor_dbcs_brst\n",
      "mms4_des_temptensor_gse_brst\n",
      "mms4_des_heatq_dbcs_brst\n",
      "mms4_des_heatq_gse_brst\n",
      "mms4_des_temppara_brst\n",
      "mms4_des_tempperp_brst\n"
     ]
    }
   ],
   "source": [
    "data = pyspedas.mms.fpi(trange=['2015-10-16/13:06', '2015-10-16/13:07'], \n",
    "                        datatype='des-moms',\n",
    "                        data_rate='brst', \n",
    "                        probe=4,\n",
    "                        center_measurement=True)"
   ]
  },
  {
   "cell_type": "markdown",
   "metadata": {},
   "source": [
    "## Plot the electron data"
   ]
  },
  {
   "cell_type": "code",
   "execution_count": 18,
   "metadata": {},
   "outputs": [],
   "source": [
    "tplot(['mms4_des_energyspectr_omni_brst', 'mms4_des_pitchangdist_miden_brst', 'mms4_des_bulkv_gse_brst', 'mms4_des_numberdensity_brst'])"
   ]
  },
  {
   "cell_type": "markdown",
   "metadata": {},
   "source": [
    "## Access the data values\n",
    "\n",
    "Use get_data from pytplot to access the data values, e.g., "
   ]
  },
  {
   "cell_type": "code",
   "execution_count": 19,
   "metadata": {},
   "outputs": [],
   "source": [
    "from pytplot import get_data"
   ]
  },
  {
   "cell_type": "code",
   "execution_count": 20,
   "metadata": {},
   "outputs": [],
   "source": [
    "times, density = get_data('mms4_des_numberdensity_brst')"
   ]
  },
  {
   "cell_type": "markdown",
   "metadata": {},
   "source": [
    "The times are unix times stored in a `numpy` array"
   ]
  },
  {
   "cell_type": "code",
   "execution_count": 21,
   "metadata": {},
   "outputs": [
    {
     "data": {
      "text/plain": [
       "array([1.44500072e+09, 1.44500072e+09, 1.44500072e+09, ...,\n",
       "       1.44500086e+09, 1.44500086e+09, 1.44500086e+09])"
      ]
     },
     "execution_count": 21,
     "metadata": {},
     "output_type": "execute_result"
    }
   ],
   "source": [
    "times"
   ]
  },
  {
   "cell_type": "code",
   "execution_count": 22,
   "metadata": {},
   "outputs": [
    {
     "data": {
      "text/plain": [
       "array([ 0.34342918,  0.33778042,  0.33637923, ..., 10.243943  ,\n",
       "       10.344863  ,  9.997952  ], dtype=float32)"
      ]
     },
     "execution_count": 22,
     "metadata": {},
     "output_type": "execute_result"
    }
   ],
   "source": [
    "density"
   ]
  },
  {
   "cell_type": "markdown",
   "metadata": {},
   "source": [
    "Spectra data contain an extra dimension to the tuple, containing the energies (or angles), e.g., "
   ]
  },
  {
   "cell_type": "code",
   "execution_count": 23,
   "metadata": {},
   "outputs": [],
   "source": [
    "times, data, energies = get_data('mms4_des_energyspectr_omni_brst')"
   ]
  },
  {
   "cell_type": "code",
   "execution_count": 24,
   "metadata": {},
   "outputs": [
    {
     "data": {
      "text/plain": [
       "array([[7.5385496e+07, 4.8513132e+07, 3.6689136e+07, ..., 2.9819447e+05,\n",
       "        0.0000000e+00, 0.0000000e+00],\n",
       "       [9.7712512e+07, 6.3636104e+07, 4.3187128e+07, ..., 1.5430862e+05,\n",
       "        4.3321602e+04, 1.8322533e+05],\n",
       "       [7.6176352e+07, 4.9129672e+07, 3.5311924e+07, ..., 1.0546992e+05,\n",
       "        1.2357032e+05, 0.0000000e+00],\n",
       "       ...,\n",
       "       [5.5405848e+07, 7.6247096e+07, 1.1262825e+08, ..., 6.1162035e+04,\n",
       "        0.0000000e+00, 0.0000000e+00],\n",
       "       [5.1921508e+07, 6.5617496e+07, 9.2461232e+07, ..., 0.0000000e+00,\n",
       "        0.0000000e+00, 0.0000000e+00],\n",
       "       [5.8275332e+07, 7.3988792e+07, 1.0737280e+08, ..., 8.2766914e+03,\n",
       "        0.0000000e+00, 9.1094586e+04]], dtype=float32)"
      ]
     },
     "execution_count": 24,
     "metadata": {},
     "output_type": "execute_result"
    }
   ],
   "source": [
    "data"
   ]
  },
  {
   "cell_type": "code",
   "execution_count": 25,
   "metadata": {},
   "outputs": [
    {
     "data": {
      "text/plain": [
       "array([[1.241000e+01, 1.591000e+01, 2.040000e+01, ..., 1.677878e+04,\n",
       "        2.151425e+04, 2.758621e+04],\n",
       "       [1.096000e+01, 1.405000e+01, 1.802000e+01, ..., 1.481758e+04,\n",
       "        1.899954e+04, 2.436178e+04],\n",
       "       [1.241000e+01, 1.591000e+01, 2.040000e+01, ..., 1.677878e+04,\n",
       "        2.151425e+04, 2.758621e+04],\n",
       "       ...,\n",
       "       [1.241000e+01, 1.591000e+01, 2.040000e+01, ..., 1.677878e+04,\n",
       "        2.151425e+04, 2.758621e+04],\n",
       "       [1.096000e+01, 1.405000e+01, 1.802000e+01, ..., 1.481758e+04,\n",
       "        1.899954e+04, 2.436178e+04],\n",
       "       [1.241000e+01, 1.591000e+01, 2.040000e+01, ..., 1.677878e+04,\n",
       "        2.151425e+04, 2.758621e+04]], dtype=float32)"
      ]
     },
     "execution_count": 25,
     "metadata": {},
     "output_type": "execute_result"
    }
   ],
   "source": [
    "energies"
   ]
  },
  {
   "cell_type": "markdown",
   "metadata": {},
   "source": [
    "## Load FGM data for probe 4\n",
    "\n",
    "note: all of the instruments can be accessed in the same way as the FPI data"
   ]
  },
  {
   "cell_type": "code",
   "execution_count": 15,
   "metadata": {},
   "outputs": [
    {
     "name": "stderr",
     "output_type": "stream",
     "text": [
      "30-Apr-20 07:06:24: Loading /Volumes/data/data/mms/mms4/fgm/brst/l2/2015/10/16/mms4_fgm_brst_l2_20151016130524_v4.18.0.cdf\n"
     ]
    },
    {
     "name": "stdout",
     "output_type": "stream",
     "text": [
      "The lengths of x and y do not match!\n",
      "mms4_fgm_rdeltahalf_brst_l2 is currently not in pytplot.\n",
      "Loaded variables:\n",
      "mms4_fgm_b_gse_brst_l2\n",
      "mms4_fgm_b_gsm_brst_l2\n",
      "mms4_fgm_b_dmpa_brst_l2\n",
      "mms4_fgm_b_bcs_brst_l2\n",
      "mms4_fgm_flag_brst_l2\n",
      "mms4_fgm_r_gse_brst_l2\n",
      "mms4_fgm_r_gsm_brst_l2\n",
      "mms4_fgm_hirange_brst_l2\n",
      "mms4_fgm_bdeltahalf_brst_l2\n",
      "mms4_fgm_stemp_brst_l2\n",
      "mms4_fgm_etemp_brst_l2\n",
      "mms4_fgm_mode_brst_l2\n",
      "mms4_fgm_rdeltahalf_brst_l2\n"
     ]
    }
   ],
   "source": [
    "data = pyspedas.mms.fgm(trange=['2015-10-16/13:06', '2015-10-16/13:07'], data_rate='brst', probe=4)"
   ]
  },
  {
   "cell_type": "code",
   "execution_count": 26,
   "metadata": {},
   "outputs": [],
   "source": [
    "times, b_data = get_data('mms4_fgm_b_gsm_brst_l2')"
   ]
  },
  {
   "cell_type": "markdown",
   "metadata": {},
   "source": [
    "print the B-field at the first time"
   ]
  },
  {
   "cell_type": "code",
   "execution_count": 27,
   "metadata": {},
   "outputs": [
    {
     "data": {
      "text/plain": [
       "array([11.557691, 18.261961, 32.329727, 38.88818 ], dtype=float32)"
      ]
     },
     "execution_count": 27,
     "metadata": {},
     "output_type": "execute_result"
    }
   ],
   "source": [
    "b_data[0, :]"
   ]
  },
  {
   "cell_type": "markdown",
   "metadata": {},
   "source": [
    "## Create a tplot variable from numpy arrays"
   ]
  },
  {
   "cell_type": "code",
   "execution_count": 28,
   "metadata": {},
   "outputs": [],
   "source": [
    "from pytplot import store_data"
   ]
  },
  {
   "cell_type": "code",
   "execution_count": 29,
   "metadata": {},
   "outputs": [],
   "source": [
    "store_data('b_magnitude', data={'x': times, 'y': b_data[:, 3]})"
   ]
  },
  {
   "cell_type": "code",
   "execution_count": 30,
   "metadata": {},
   "outputs": [],
   "source": [
    "tplot('b_magnitude')"
   ]
  },
  {
   "cell_type": "markdown",
   "metadata": {},
   "source": [
    "## Interpolate the B magnitude and DES data to the DIS time stamps"
   ]
  },
  {
   "cell_type": "code",
   "execution_count": 32,
   "metadata": {},
   "outputs": [],
   "source": [
    "from pyspedas import tinterpol"
   ]
  },
  {
   "cell_type": "code",
   "execution_count": 33,
   "metadata": {},
   "outputs": [
    {
     "name": "stdout",
     "output_type": "stream",
     "text": [
      "tinterpol (linear) was applied to: b_mag_interpolated\n"
     ]
    }
   ],
   "source": [
    "tinterpol('b_magnitude', 'mms4_dis_numberdensity_brst', newname='b_mag_interpolated')"
   ]
  },
  {
   "cell_type": "code",
   "execution_count": 34,
   "metadata": {},
   "outputs": [
    {
     "name": "stdout",
     "output_type": "stream",
     "text": [
      "tinterpol (linear) was applied to: des_numberdensity_interpolated\n"
     ]
    }
   ],
   "source": [
    "tinterpol('mms4_des_numberdensity_brst', 'mms4_dis_numberdensity_brst', newname='des_numberdensity_interpolated')"
   ]
  },
  {
   "cell_type": "code",
   "execution_count": 35,
   "metadata": {},
   "outputs": [
    {
     "name": "stdout",
     "output_type": "stream",
     "text": [
      "tinterpol (linear) was applied to: des_temppara_interpolated\n"
     ]
    }
   ],
   "source": [
    "tinterpol('mms4_des_temppara_brst', 'mms4_dis_numberdensity_brst', newname='des_temppara_interpolated')"
   ]
  },
  {
   "cell_type": "code",
   "execution_count": 36,
   "metadata": {},
   "outputs": [
    {
     "name": "stdout",
     "output_type": "stream",
     "text": [
      "tinterpol (linear) was applied to: des_tempperp_interpolated\n"
     ]
    }
   ],
   "source": [
    "tinterpol('mms4_des_tempperp_brst', 'mms4_dis_numberdensity_brst', newname='des_tempperp_interpolated')"
   ]
  },
  {
   "cell_type": "markdown",
   "metadata": {},
   "source": [
    "## Calculate the magnetic pressure"
   ]
  },
  {
   "cell_type": "code",
   "execution_count": 37,
   "metadata": {},
   "outputs": [],
   "source": [
    "b_times, b_data = get_data('b_mag_interpolated')"
   ]
  },
  {
   "cell_type": "code",
   "execution_count": 38,
   "metadata": {},
   "outputs": [],
   "source": [
    "mu0 = 1256.0 # nT-m/A"
   ]
  },
  {
   "cell_type": "markdown",
   "metadata": {},
   "source": [
    "note: 1.0e-8 comes from A-nT/m -> g/(s^2-cm)"
   ]
  },
  {
   "cell_type": "code",
   "execution_count": 39,
   "metadata": {},
   "outputs": [],
   "source": [
    "Pmag = 1.0e-8*b_data**2/(2.0*mu0)"
   ]
  },
  {
   "cell_type": "markdown",
   "metadata": {},
   "source": [
    "## Calculate the total electron and ion temperatures"
   ]
  },
  {
   "cell_type": "code",
   "execution_count": 40,
   "metadata": {},
   "outputs": [],
   "source": [
    "i_para_times, i_para_temp = get_data('mms4_dis_temppara_brst')\n",
    "i_perp_times, i_perp_temp = get_data('mms4_dis_tempperp_brst')\n",
    "e_para_times, e_para_temp = get_data('des_temppara_interpolated')\n",
    "e_perp_times, e_perp_temp = get_data('des_tempperp_interpolated')"
   ]
  },
  {
   "cell_type": "code",
   "execution_count": 41,
   "metadata": {},
   "outputs": [],
   "source": [
    "Te_total=(e_para_temp+2*e_perp_temp)/3.0\n",
    "Ti_total=(i_para_temp+2*i_perp_temp)/3.0"
   ]
  },
  {
   "cell_type": "code",
   "execution_count": 42,
   "metadata": {},
   "outputs": [
    {
     "data": {
      "text/plain": [
       "array([121.33705648, 128.86405976, 114.83006795, 104.95678711,\n",
       "       104.86552684, 107.89616903, 106.17694092, 117.16497548,\n",
       "       119.16368357, 127.18534342, 135.39566193, 128.47462718,\n",
       "       127.14965312, 125.11350505, 141.15268453, 124.96082306,\n",
       "       107.29776255, 105.89300704,  95.83888753, 107.82819087,\n",
       "        95.48600515,  94.75750987,  91.72570801,  98.1991503 ,\n",
       "        98.50642904, 108.32434336, 102.58827718,  99.40759277,\n",
       "       103.24305979, 107.36049143, 121.55811269, 115.35385132,\n",
       "       126.69987233, 120.70904541, 132.02607727, 126.13772837,\n",
       "       122.44746653, 115.90380055, 140.26852163, 125.86148264,\n",
       "       129.11470795, 136.60422945, 126.54921977, 120.39219157,\n",
       "       125.56835683, 133.82428487, 119.7088623 , 139.48399529,\n",
       "       118.10589091, 115.42907715, 133.93042922, 124.1428477 ,\n",
       "       110.99771021, 124.34957886, 132.61231555, 122.98053741,\n",
       "       124.44411288, 126.03417206, 106.24569702, 113.42453705,\n",
       "       107.38902791, 111.974823  , 101.00478109,  96.26088739,\n",
       "        87.04092662, 103.96444702,  97.50400798, 100.27929652,\n",
       "        97.27955373, 104.97599538, 117.97153727, 123.78539022,\n",
       "       110.61667302, 109.47454834, 112.06034411, 105.24193573,\n",
       "        99.14410146, 112.3062439 , 114.16398875, 102.42144545,\n",
       "       103.21751658,  98.98992666, 105.71663411,  99.55733727,\n",
       "       104.21679433, 110.60277303, 104.85429891, 109.31468816,\n",
       "       108.18642171, 102.78189087, 104.9890213 , 113.23684438,\n",
       "       119.71310649, 118.36837769, 107.14428457, 109.53613281,\n",
       "       110.44348702,  99.08598582, 112.66038767, 114.88780736,\n",
       "       114.98457845, 101.70416514,  98.30388387, 118.83606418,\n",
       "       113.03269704, 107.33396403, 105.57936605, 104.72791421,\n",
       "       110.62475586, 100.68652089, 102.05908203, 111.2834142 ,\n",
       "       107.87194759, 109.76703135, 108.56650798, 105.89025879,\n",
       "       108.9455101 , 117.68992106, 100.43371582, 111.87447409,\n",
       "       105.83954743,  96.6391983 , 101.92238363, 124.09636777,\n",
       "        88.81334432,  93.32166471,  92.09092204, 109.26550192,\n",
       "        68.96450806,  51.42348955,  45.0110054 ,  39.34795634,\n",
       "        35.16199283,  33.20860101,  27.6689682 ,  25.866038  ,\n",
       "        25.4305617 ,  22.98550161,  21.63468961,  21.90160008,\n",
       "        23.82618943,  25.3190759 ,  27.11210378,  26.81917826,\n",
       "        31.49265544,  34.1288961 ,  36.19065857,  36.72517243,\n",
       "        36.71167501,  33.84190114,  32.99580892,  34.55426025,\n",
       "        37.41493738,  37.98609348,  38.59496307,  37.98735619,\n",
       "        36.93983142,  36.44280624,  36.02860648,  36.34816548,\n",
       "        36.02684723,  35.00416056,  36.93303808,  36.62660726,\n",
       "        37.3705864 ,  36.19516555,  36.86841456,  36.65864944,\n",
       "        36.118234  ,  35.43646058,  36.26420085,  35.74442037,\n",
       "        36.27428055,  36.47494634,  36.75991313,  36.93545532,\n",
       "        37.49565404,  36.80817159,  36.93338903,  37.84638681,\n",
       "        38.91809845,  39.06241735,  37.69544856,  35.49181494,\n",
       "        35.51479085,  32.92452494,  33.05593491,  32.38004595,\n",
       "        32.98642095,  32.88612656,  34.38852819,  34.10261536,\n",
       "        35.2617096 ,  35.84254038,  35.64701335,  36.25104966,\n",
       "        38.3089002 ,  39.28630447,  41.34170573,  40.93966417,\n",
       "        39.49699986,  38.81469854,  39.24250666,  39.01648712,\n",
       "        39.79820251,  40.01466715,  40.10505743,  40.02272669,\n",
       "        40.80376434,  39.69316991,  41.55072657,  40.92515088,\n",
       "        41.16957347,  41.20961937,  38.50916036,  36.73146057,\n",
       "        36.60868963,  36.75203578,  39.00119952,  38.42661171,\n",
       "        40.58139351,  38.61300151,  35.354304  ,  37.26137288,\n",
       "        34.6807518 ,  35.57179624,  33.76250712,  33.7947375 ,\n",
       "        34.03505707,  35.5818714 ,  36.21758016,  33.09400431,\n",
       "        32.50963847,  32.67827542,  32.78846741,  33.87016042,\n",
       "        34.69093068,  33.9841334 ,  34.00728717,  32.62546136,\n",
       "        30.32284503,  26.62756348,  24.45465787,  22.36679649,\n",
       "        22.83473778,  22.15096025,  23.23976644,  25.71773847,\n",
       "        28.14354451,  30.34310487,  27.9615097 ,  24.58835665,\n",
       "        22.60551389,  21.68564299,  22.19517835,  21.57278951,\n",
       "        22.5200882 ,  20.26555379,  20.07351373,  20.01559459,\n",
       "        20.3315328 ,  22.00871086,  26.27069766,  24.93431091,\n",
       "        25.48367282,  27.65359942,  20.12252464,  21.60386086,\n",
       "        27.68236224,  30.83640112,  29.4995931 ,  25.36316861,\n",
       "        26.79669507,  26.20964114,  23.46764437,  24.62407875,\n",
       "        21.5512263 ,  22.3007167 ,  21.68125661,  21.04059976,\n",
       "        20.85558319,  20.12279765,  20.32809184,  23.08334033,\n",
       "        23.53416443,  22.96060944,  24.43383181,  25.4513092 ,\n",
       "        25.99423218,  24.42114321,  23.38664754,  22.52225836,\n",
       "        22.08381462,  23.54277802,  25.32468605,  24.82410138,\n",
       "        29.67079862,  29.88702138,  31.2703921 ,  28.17919874,\n",
       "        24.89195697,  22.64265951,  22.13593822,  22.90032196,\n",
       "        23.29320463,  23.68528175,  22.93862802,  22.75074577,\n",
       "        24.04527283,  23.17189026,  24.53568522,  23.57536609,\n",
       "        23.99506124,  23.9070886 ,  22.14581553,  21.5262766 ,\n",
       "        22.02739461,  22.89899762,  22.42796135,  22.71902055,\n",
       "        23.33149529,  22.26670011,  23.48839124,  21.799263  ,\n",
       "        22.95268793,  20.96590233,  21.57049815,  22.59809367,\n",
       "        22.93334117,  22.08738391,  21.79484489,  23.1807429 ,\n",
       "        19.37885221,  18.99176407,  19.14073817,  18.98626662,\n",
       "        19.83191427,  21.10872836,  19.9953715 ,  19.92409369,\n",
       "        19.65132014,  21.58778381,  20.46475093,  20.4825236 ,\n",
       "        18.91425961,  20.39112345,  19.24750328,  18.97507985,\n",
       "        19.92580338,  19.29321798,  19.67198118,  19.72627131,\n",
       "        19.74813271,  19.86896006,  19.91908773,  19.86533038,\n",
       "        20.05939229,  20.11648895,  19.94295692,  20.1511263 ,\n",
       "        20.43772888,  19.54144033,  20.32110278,  20.43012238,\n",
       "        20.78843777,  20.61574554,  20.5157884 ,  19.44569079,\n",
       "        20.45242429,  20.56366793,  21.02084541,  20.94527817,\n",
       "        21.5080363 ,  20.65224965,  21.22575633,  21.18387286,\n",
       "        21.99102338,  22.16292755,  22.33352725,  22.72798545,\n",
       "        23.07704926,  23.05472819,  22.88631503,  22.36050479,\n",
       "        22.96866082,  23.10520172,  25.45004845,  26.37912496,\n",
       "        25.46182505,  25.4313151 ,  26.53865745,  26.148386  ,\n",
       "        26.58449491,  26.12940407,  26.92925771,  26.34117161,\n",
       "        26.91268603,  26.35239269,  27.31690979,  26.40562865,\n",
       "        26.77415021,  26.96508092,  26.82509867,  26.54012553,\n",
       "        27.04031967,  26.78957303,  26.99103355,  26.3592453 ,\n",
       "        30.32382664,  28.49258931,  27.49453163,  27.68947093,\n",
       "        27.45072683,  28.83740234,  29.18729035,  28.31841977,\n",
       "        28.1604557 ,  25.97428894,  28.92516136,  28.20255245,\n",
       "        28.90158272,  30.15064149,  29.04071999,  30.09841728,\n",
       "        29.84213829,  28.42315674,  29.91607221,  31.34094238,\n",
       "        33.25031789,  32.03623962,  34.17566586,  34.72571945,\n",
       "        36.14755122,  35.51223246,  33.3812013 ,  30.9335734 ,\n",
       "        32.21868134,  31.01143392,  30.45893288,  30.26931283,\n",
       "        30.40853119,  29.30205783,  30.04915365,  31.64651489,\n",
       "        33.88767751,  33.48121643,  34.21477636,  34.67152532,\n",
       "        36.36514537,  36.75334167,  35.76278966,  35.7865448 ,\n",
       "        34.76345062,  33.08922195,  32.15090434,  30.72495524,\n",
       "        35.44299316,  34.08124669,  34.2299614 ,  34.29506118,\n",
       "        31.16352526,  31.13793945,  32.01644389,  32.19075571,\n",
       "        33.23419571,  32.17808851,  33.42077382,  36.41015049,\n",
       "        37.02431361,  36.13043722,  35.82949541,  36.99458313,\n",
       "        36.34182038,  35.17492803,  34.90475644,  34.75176112,\n",
       "        31.65640893,  30.32461548,  36.48361588,  32.25842028,\n",
       "        33.56745656,  30.61976115,  30.55003166,  30.17245778,\n",
       "        31.92804972,  32.34269206,  31.7358551 ,  30.33699197,\n",
       "        30.30502319,  28.30445608,  28.20320892,  25.85037994,\n",
       "        24.1044461 ,  23.73691114,  25.4552892 ,  26.3411897 ,\n",
       "        24.63375942,  23.65467898,  24.52883848,  22.6502398 ,\n",
       "        23.23695946,  26.04883575,  27.26314545,  25.69003769,\n",
       "        23.70353762,  23.75333087,  23.17262586,  22.64845648,\n",
       "        23.14676921,  23.13278135,  23.43922997,  25.38313484,\n",
       "        26.47296254,  24.77131653,  24.79726919,  26.57252947,\n",
       "        28.40835763,  31.17744191,  31.14670054,  31.24145623,\n",
       "        28.31064351,  27.24538422,  26.55905851,  24.41471214,\n",
       "        24.49241384,  24.0266641 ,  24.38478088,  23.68691254,\n",
       "        23.21082052,  24.29858144,  24.42785068,  24.53043938,\n",
       "        24.56476084,  24.81178029,  25.40798887,  24.3998642 ,\n",
       "        24.65483557,  24.79469808,  24.73151588,  25.23545083,\n",
       "        25.50258105,  25.25400543,  25.30856387,  25.66530245,\n",
       "        23.10075823,  22.00443127,  19.84731293,  19.0852091 ,\n",
       "        20.60586866,  23.7911555 ,  24.48289744,  24.61825498,\n",
       "        28.32706554,  28.95116933,  32.75012652,  31.04068247,\n",
       "        33.53236056,  33.71517563,  34.27217293,  36.64391392,\n",
       "        38.24397379,  39.49767176,  41.0195961 ,  41.69792302,\n",
       "        42.38750966,  41.90669755,  40.89130783,  39.42618537,\n",
       "        39.31277974,  37.44249598,  37.16730754,  38.39327113,\n",
       "        34.11881167,  31.85088094,  29.86164347,  32.66630554,\n",
       "        34.62519745,  31.43076833,  31.70093028,  30.07362504,\n",
       "        29.26706322,  28.22996012,  34.35935465,  31.92726135,\n",
       "        35.16842651,  39.19216708,  47.33714676,  47.63015374,\n",
       "        44.00340652,  42.61986033,  45.19824346,  47.61461512,\n",
       "        46.36532408,  43.55158488,  41.75140381,  41.08120982,\n",
       "        39.6163465 ,  39.16071065,  33.98088582,  33.70348616,\n",
       "        31.96962507,  30.12051392,  28.13789368,  27.26753235,\n",
       "        28.50941976,  28.04495078,  28.24881999,  25.10404942,\n",
       "        27.64046733,  34.46643034,  45.09334183,  48.37183634,\n",
       "        51.24700708,  52.16498585,  52.88124593,  61.6965332 ,\n",
       "        64.48512676,  78.31653086,  69.88853916,  64.65173056,\n",
       "        60.75909948,  74.77819824,  60.10756938,  72.71863556,\n",
       "        87.21749878,  84.03815585,  93.77992757,  94.65819295,\n",
       "        89.00378418,  82.6198815 ,  75.71646881,  85.13252258,\n",
       "        93.62919108,  86.05414537,  82.24747976,  76.72148641,\n",
       "        73.76636759,  66.73247274,  60.90186996,  53.00479218,\n",
       "        61.06564331,  74.46984355,  81.67114677,  73.65392812,\n",
       "        55.16922506,  93.86593628,  89.67829641,  71.28651937,\n",
       "        79.64763896,  74.27506444,  71.04674784,  92.28991699,\n",
       "        75.25870768,  77.35577442,  52.47171021,  47.02213033,\n",
       "        47.06697083,  45.49486669,  45.27400297,  49.16279845,\n",
       "        50.60696411,  49.65383403,  51.10165603,  53.89610163,\n",
       "        53.46369298,  51.20153427,  53.51467387,  54.81805801,\n",
       "        57.94351705,  60.22701208,  59.12212118,  58.30907822,\n",
       "        58.03568522,  59.71337533,  60.41305669,  57.61512548,\n",
       "        56.38715108,  57.62971115,  55.38316222,  56.64796845,\n",
       "        57.91875076,  54.78148778,  55.54022992,  55.1963412 ,\n",
       "        57.45992573,  60.03679784,  56.86804927,  56.11703491,\n",
       "        56.61054357,  53.45214844,  58.77652486,  66.46905111,\n",
       "        70.21217855,  58.94486345,  61.77424113,  60.39092   ,\n",
       "        57.02816391,  54.79689535,  45.26027564,  44.83291405,\n",
       "        45.79111608,  43.14678065,  42.6824646 ,  44.29693222,\n",
       "        48.21488444,  52.78570684,  49.1706543 ,  49.00996272,\n",
       "        48.21382033,  45.56463623,  44.39545695,  46.26529821,\n",
       "        51.60478719,  48.14913813,  49.94138718,  46.53226626,\n",
       "        47.12915675,  47.44392522,  51.46657308,  47.44395551,\n",
       "        47.29086812,  47.6212972 ,  48.55079801,  39.50402323,\n",
       "        40.74720637,  42.53408432,  42.60084687,  40.40158081,\n",
       "        38.59682846,  40.25720851,  36.83262634,  37.40612824,\n",
       "        36.84263229,  34.08401913,  38.63502502,  37.80032476,\n",
       "        36.06809362,  34.80479558,  37.59786872,  36.34658648,\n",
       "        34.02115377,  34.45769246,  34.9652125 ,  34.7328949 ,\n",
       "        35.8749321 ,  34.56017049,  35.30401   ,  32.61728923,\n",
       "        33.43575281,  33.88885244,  35.12101746,  31.63263416,\n",
       "        31.38830058,  29.22136943,  28.56463369,  29.20390368,\n",
       "        28.31917826,  28.48638223,  29.0829188 ,  28.73042357,\n",
       "        27.95345815,  28.90054321,  30.60917918,  29.61772664,\n",
       "        29.71101325,  30.79304759,  31.74860128,  30.89812469,\n",
       "        34.64023497,  36.84220886,  40.88075765,  44.89213053,\n",
       "        43.17996343,  45.18057251,  43.05903117,  42.1612498 ,\n",
       "        41.58477783,  39.86263154,  42.48055013,  42.50563536,\n",
       "        42.05254873,  40.94214503,  39.61486053,  37.78682963,\n",
       "        37.97606143,  42.68052165,  44.10335214,  43.6002655 ,\n",
       "        45.06517665,  43.03213501,  43.57428996,  45.20530874,\n",
       "        45.52213542,  45.34565099,  44.88603592,  44.98447467,\n",
       "        45.65623983,  45.6604805 ,  46.49373372,  46.17027226,\n",
       "        46.26149495,  46.03823212,  46.54811605,  45.7473348 ,\n",
       "        45.66155879,  45.17397054,  45.19683329,  44.04628499,\n",
       "        44.61347787,  44.81376012,  45.1107432 ,  42.6408844 ,\n",
       "        41.80002848,  40.40179825,  41.19969813,  40.32766134,\n",
       "        42.26962026,  41.98170353,  39.25762304,  39.37610835,\n",
       "        38.24673208,  34.75461781,  32.33775838,  31.55625916,\n",
       "        30.40674911,  30.48489889,  31.82569885,  29.53637441,\n",
       "        25.73821767,  24.66905975,  24.25338129,  23.33993276,\n",
       "        22.00699298,  20.89037323,  21.6914622 ,  24.54601542,\n",
       "        26.73319499,  26.64455025,  30.76478322,  30.79560484,\n",
       "        31.94260661,  35.31695048,  40.96365738,  37.52619634,\n",
       "        39.00655365,  38.27657572,  36.63278707,  31.30695597,\n",
       "        29.74880727,  29.04054515,  31.9363812 ,  24.72526868,\n",
       "        25.79890951,  25.32819112,  24.96718852,  25.43207804,\n",
       "        28.05227216,  29.11083049,  31.8494695 ,  31.66820655,\n",
       "        31.03896332,  29.18268189,  28.35197449,  29.5425237 ,\n",
       "        25.73432668,  22.89522107,  21.72714678,  20.6266969 ,\n",
       "        20.83811506,  23.3507309 ,  20.16355255,  20.47551473,\n",
       "        21.16501427,  23.12251027,  21.33263079,  22.46933556,\n",
       "        22.58363533,  22.67337677,  26.14713987,  25.18932329,\n",
       "        25.73642476,  27.33890788,  28.35837046,  29.34776377,\n",
       "        28.18843587,  27.69426982,  28.1350352 ,  26.48308949,\n",
       "        24.74586995,  24.19439952,  22.98947451,  23.58364423,\n",
       "        23.21042308,  22.21052869,  21.90477045,  23.67632294,\n",
       "        23.7604156 ,  22.4362723 ,  24.8223362 ,  25.37572275,\n",
       "        27.93743526,  26.34682465,  27.3880895 ,  27.40866597,\n",
       "        27.37852987,  26.29542445,  26.50868988,  25.72579673,\n",
       "        25.66025035,  24.78506152,  24.57666588,  23.32639058,\n",
       "        23.41219581,  21.55523872,  23.64688203,  23.09171486,\n",
       "        21.25847181,  21.78080495,  23.23976644,  22.76549456,\n",
       "        22.95928256,  22.02035522,  20.47100321,  20.71657604,\n",
       "        21.66977946,  21.87063026,  23.26635997,  22.79528535,\n",
       "        23.52534421,  23.34798495,  24.00200907,  24.46428744,\n",
       "        25.20485532])"
      ]
     },
     "execution_count": 42,
     "metadata": {},
     "output_type": "execute_result"
    }
   ],
   "source": [
    "Te_total"
   ]
  },
  {
   "cell_type": "markdown",
   "metadata": {},
   "source": [
    "## Calculate the plasma pressure"
   ]
  },
  {
   "cell_type": "code",
   "execution_count": 43,
   "metadata": {},
   "outputs": [],
   "source": [
    "Kb = 1.3807*10**(-16.) # cm^2-g-1/s^2-1/K"
   ]
  },
  {
   "cell_type": "code",
   "execution_count": 44,
   "metadata": {},
   "outputs": [],
   "source": [
    "ni_times, n_i = get_data('mms4_dis_numberdensity_brst')\n",
    "ne_times, n_e = get_data('des_numberdensity_interpolated')"
   ]
  },
  {
   "cell_type": "markdown",
   "metadata": {},
   "source": [
    "note: eV -> K conversion: 11604.505 K/eV"
   ]
  },
  {
   "cell_type": "code",
   "execution_count": 45,
   "metadata": {},
   "outputs": [],
   "source": [
    "Pplasma = (n_i*11604.505*Ti_total+n_e*11604.505*Te_total)*Kb"
   ]
  },
  {
   "cell_type": "markdown",
   "metadata": {},
   "source": [
    "## Calculate plasma beta"
   ]
  },
  {
   "cell_type": "code",
   "execution_count": 46,
   "metadata": {},
   "outputs": [],
   "source": [
    "plasma_beta = Pplasma/Pmag"
   ]
  },
  {
   "cell_type": "markdown",
   "metadata": {},
   "source": [
    "## Create the variables to be plotted"
   ]
  },
  {
   "cell_type": "code",
   "execution_count": 47,
   "metadata": {},
   "outputs": [],
   "source": [
    "store_data('magnetic_pressure', data={'x': b_times, 'y': Pmag})\n",
    "store_data('plasma_pressure', data={'x': b_times, 'y': Pplasma})\n",
    "store_data('plasma_beta', data={'x': b_times, 'y': plasma_beta})"
   ]
  },
  {
   "cell_type": "markdown",
   "metadata": {},
   "source": [
    "## Plot the magnetic pressure, plasma pressure and plasma beta"
   ]
  },
  {
   "cell_type": "code",
   "execution_count": 48,
   "metadata": {},
   "outputs": [],
   "source": [
    "tplot(['plasma_beta', 'plasma_pressure', 'magnetic_pressure'])"
   ]
  },
  {
   "cell_type": "markdown",
   "metadata": {},
   "source": [
    "## Set some options"
   ]
  },
  {
   "cell_type": "code",
   "execution_count": 49,
   "metadata": {},
   "outputs": [],
   "source": [
    "from pytplot import options"
   ]
  },
  {
   "cell_type": "code",
   "execution_count": 50,
   "metadata": {},
   "outputs": [
    {
     "name": "stdout",
     "output_type": "stream",
     "text": [
      "Help on function options in module pytplot.options:\n",
      "\n",
      "options(name, option=None, value=None, opt_dict=None)\n",
      "    This function allows the user to set a large variety of options for individual plots.\n",
      "    \n",
      "    Parameters:\n",
      "        name : str\n",
      "            Name or number of the tplot variable\n",
      "        option : str\n",
      "            The name of the option.  See section below.\n",
      "        value : str/int/float/list\n",
      "            The value of the option.  See section below.\n",
      "        dict : dict\n",
      "            This can be a dictionary of option:value pairs.  Option and value\n",
      "            will not be needed if this dictionary item is supplied.\n",
      "    \n",
      "    Options:\n",
      "        =================== ==========   =====\n",
      "        Options             Value type   Notes\n",
      "        =================== ==========   =====\n",
      "        Color               str/list     Red, Orange, Yellow, Green, Blue, etc.\n",
      "        Colormap            str/list     https://matplotlib.org/examples/color/colormaps_reference.html.\n",
      "        Spec                int          1 sets the Tplot Variable to spectrogram mode, 0 reverts.\n",
      "        Alt                 int          1 sets the Tplot Variable to altitude plot mode, 0 reverts.\n",
      "        Map                 int          1 sets the Tplot Variable to latitude/longitude mode, 0 reverts.\n",
      "        link                list         Allows a user to reference one tplot variable to another.\n",
      "        ylog                int          1 sets the y axis to log scale, 0 reverts.\n",
      "        zlog                int          1 sets the z axis to log scale, 0 reverts (spectrograms only).\n",
      "        legend_names        list         A list of strings that will be used to identify the lines.\n",
      "        xlog_slice          bool         Sets x axis on slice plot to log scale if True.\n",
      "        ylog                bool         Set y axis on main plot window to log scale if True.\n",
      "        ylog_slice          bool         Sets y axis on slice plot to log scale if True.\n",
      "        zlog                bool         Sets z axis on main plot window to log scale if True.\n",
      "        line_style          str          scatter (to make scatter plots), or solid_line, dot, dash, dash_dot, dash_dot_dot_dot, long_dash.\n",
      "        char_size           int          Defines character size for plot labels, etc.\n",
      "        name                str          The title of the plot.\n",
      "        panel_size          flt          Number between (0,1], representing the percent size of the plot.\n",
      "        basemap             str          Full path and name of a background image for \"Map\" plots.\n",
      "        alpha               flt          Number between [0,1], gives the transparancy of the plot lines.\n",
      "        thick               flt          Sets plot line width.\n",
      "        yrange              flt list     Two numbers that give the y axis range of the plot.\n",
      "        zrange              flt list     Two numbers that give the z axis range of the plot.\n",
      "        xrange_slice        flt list     Two numbers that give the x axis range of spectrogram slicing plots.\n",
      "        yrange_slice        flt list     Two numbers that give the y axis range of spectrogram slicing plots.\n",
      "        ytitle              str          Title shown on the y axis.\n",
      "        ztitle              str          Title shown on the z axis.  Spec plots only.\n",
      "        ysubtitle           str          Subtitle shown on the y axis.\n",
      "        zsubtitle           str          Subtitle shown on the z axis.  Spec plots only.\n",
      "        plotter             str          Allows a user to implement their own plotting script in place of the ones\n",
      "                                         herein.\n",
      "        crosshair_x         str          Title for x-axis crosshair.\n",
      "        crosshair_y         str          Title for y-axis crosshair.\n",
      "        crosshair_z         str          Title for z-axis crosshair.\n",
      "        static              str          Datetime string that gives desired time to plot y and z values from a spec\n",
      "                                         plot.\n",
      "        static_tavg         str          Datetime string that gives desired time-averaged y and z values to plot\n",
      "                                         from a spec plot.\n",
      "        t_average           int          Seconds around which the cursor is averaged when hovering over spectrogram\n",
      "                                         plots.\n",
      "        =================== ==========   =====\n",
      "    Returns:\n",
      "        None\n",
      "    \n",
      "    Examples:\n",
      "        >>> # Change the y range of Variable1\n",
      "        >>> import pytplot\n",
      "        >>> x_data = [1,2,3,4,5]\n",
      "        >>> y_data = [1,2,3,4,5]\n",
      "        >>> pytplot.store_data(\"Variable1\", data={'x':x_data, 'y':y_data})\n",
      "        >>> pytplot.options('Variable1', 'yrange', [2,4])\n",
      "    \n",
      "        >>> # Change Variable1 to use a log scale\n",
      "        >>> pytplot.options('Variable1', 'ylog', 1)\n"
     ]
    }
   ],
   "source": [
    "help(options)"
   ]
  },
  {
   "cell_type": "markdown",
   "metadata": {},
   "source": [
    "Change the color of the lines"
   ]
  },
  {
   "cell_type": "code",
   "execution_count": 51,
   "metadata": {},
   "outputs": [],
   "source": [
    "options('plasma_beta', 'Color', 'red')"
   ]
  },
  {
   "cell_type": "code",
   "execution_count": 52,
   "metadata": {},
   "outputs": [],
   "source": [
    "options('plasma_pressure', 'Color', 'b')"
   ]
  },
  {
   "cell_type": "code",
   "execution_count": 53,
   "metadata": {},
   "outputs": [],
   "source": [
    "options('magnetic_pressure', 'Color', 'g')"
   ]
  },
  {
   "cell_type": "markdown",
   "metadata": {},
   "source": [
    "Change the y-axis titles"
   ]
  },
  {
   "cell_type": "code",
   "execution_count": 55,
   "metadata": {},
   "outputs": [],
   "source": [
    "options('plasma_beta', 'ytitle', 'Plasma Beta')"
   ]
  },
  {
   "cell_type": "code",
   "execution_count": 54,
   "metadata": {},
   "outputs": [],
   "source": [
    "options('plasma_pressure', 'ytitle', 'Plasma Pressure [g/(s^2-cm)]')"
   ]
  },
  {
   "cell_type": "code",
   "execution_count": 56,
   "metadata": {},
   "outputs": [],
   "source": [
    "options('magnetic_pressure', 'ytitle', 'Magnetic Pressure [g/(s^2-cm)]')"
   ]
  },
  {
   "cell_type": "code",
   "execution_count": 57,
   "metadata": {},
   "outputs": [],
   "source": [
    "tplot(['plasma_beta', 'plasma_pressure', 'magnetic_pressure'])"
   ]
  },
  {
   "cell_type": "markdown",
   "metadata": {},
   "source": [
    "## Global plot options\n",
    "\n",
    "You can set global plot options using `tplot_options` from pytplot, e.g., "
   ]
  },
  {
   "cell_type": "code",
   "execution_count": 58,
   "metadata": {},
   "outputs": [],
   "source": [
    "from pytplot import tplot_options"
   ]
  },
  {
   "cell_type": "code",
   "execution_count": 59,
   "metadata": {},
   "outputs": [],
   "source": [
    "tplot_options('title', 'Plasma beta example')"
   ]
  },
  {
   "cell_type": "code",
   "execution_count": 60,
   "metadata": {},
   "outputs": [],
   "source": [
    "tplot(['plasma_beta', 'plasma_pressure', 'magnetic_pressure'])"
   ]
  },
  {
   "cell_type": "markdown",
   "metadata": {},
   "source": [
    "## partmoms troubles\n",
    "\n",
    "Note: there's a bug when loading some of the variables in the partmoms files that we'll need to look into. if you run into a problem creating a tplot variable, you can always skip the variable creation and return the data directly in numpy arrays with the `notplot` keyword. e.g., "
   ]
  },
  {
   "cell_type": "code",
   "execution_count": 61,
   "metadata": {},
   "outputs": [
    {
     "name": "stderr",
     "output_type": "stream",
     "text": [
      "30-Apr-20 08:36:23: Loading /Volumes/data/data/mms/mms1/fpi/fast/l2/des-partmoms/2015/10/mms1_fpi_fast_l2_des-partmoms_20151016060000_v3.3.0.cdf\n"
     ]
    },
    {
     "name": "stdout",
     "output_type": "stream",
     "text": [
      "Loaded variables:\n",
      "mms1_des_errorflags_fast\n",
      "mms1_des_numberdensity_part_fast\n",
      "mms1_des_bulkv_part_dbcs_fast\n",
      "mms1_des_bulkv_part_gse_fast\n",
      "mms1_des_prestensor_part_dbcs_fast\n",
      "mms1_des_prestensor_part_gse_fast\n",
      "mms1_des_temptensor_part_dbcs_fast\n",
      "mms1_des_temptensor_part_gse_fast\n",
      "mms1_des_temppara_part_fast\n",
      "mms1_des_tempperp_part_fast\n",
      "mms1_des_part_index_fast\n"
     ]
    }
   ],
   "source": [
    "data = pyspedas.mms.fpi(notplot=True, datatype='des-partmoms', trange=['2015-10-16/07:00', '2015-10-16/08:00'])"
   ]
  },
  {
   "cell_type": "markdown",
   "metadata": {},
   "source": [
    "The data are returned in a dictionary where the keys map to the data for that variable"
   ]
  },
  {
   "cell_type": "code",
   "execution_count": 79,
   "metadata": {},
   "outputs": [
    {
     "data": {
      "text/plain": [
       "dict_keys(['mms1_des_errorflags_fast', 'mms1_des_numberdensity_part_fast', 'mms1_des_bulkv_part_dbcs_fast', 'mms1_des_bulkv_part_gse_fast', 'mms1_des_prestensor_part_dbcs_fast', 'mms1_des_prestensor_part_gse_fast', 'mms1_des_temptensor_part_dbcs_fast', 'mms1_des_temptensor_part_gse_fast', 'mms1_des_temppara_part_fast', 'mms1_des_tempperp_part_fast', 'mms1_des_part_index_fast'])"
      ]
     },
     "execution_count": 79,
     "metadata": {},
     "output_type": "execute_result"
    }
   ],
   "source": [
    "data.keys()"
   ]
  },
  {
   "cell_type": "markdown",
   "metadata": {},
   "source": [
    "As with creating tplot variables, `x` are the times (stored as unix times), `y` are the data values"
   ]
  },
  {
   "cell_type": "code",
   "execution_count": 62,
   "metadata": {},
   "outputs": [
    {
     "data": {
      "text/plain": [
       "dict_keys(['x', 'y', 'v'])"
      ]
     },
     "execution_count": 62,
     "metadata": {},
     "output_type": "execute_result"
    }
   ],
   "source": [
    "data['mms1_des_temptensor_part_gse_fast'].keys()"
   ]
  },
  {
   "cell_type": "code",
   "execution_count": 82,
   "metadata": {},
   "outputs": [
    {
     "data": {
      "text/plain": [
       "array([1.44497520e+09, 1.44497521e+09, 1.44497521e+09, ...,\n",
       "       1.44498239e+09, 1.44498239e+09, 1.44498240e+09])"
      ]
     },
     "execution_count": 82,
     "metadata": {},
     "output_type": "execute_result"
    }
   ],
   "source": [
    "data['mms1_des_temptensor_part_gse_fast']['x']"
   ]
  },
  {
   "cell_type": "code",
   "execution_count": 63,
   "metadata": {},
   "outputs": [
    {
     "data": {
      "text/plain": [
       "array([[[[ 3.48274460e+01,  1.19079158e-01,  2.92394876e-01],\n",
       "         [ 1.19079158e-01,  3.65542030e+01, -3.88043880e+00],\n",
       "         [ 2.92394876e-01, -3.88043880e+00,  4.30241737e+01]],\n",
       "\n",
       "        [[ 3.64702415e+01,  1.26330301e-01,  3.09719563e-01],\n",
       "         [ 1.26330301e-01,  3.82962379e+01, -4.09459543e+00],\n",
       "         [ 3.09719563e-01, -4.09459543e+00,  4.51276512e+01]],\n",
       "\n",
       "        [[ 3.86193657e+01,  1.37357175e-01,  3.32537174e-01],\n",
       "         [ 1.37357175e-01,  4.05780106e+01, -4.38691139e+00],\n",
       "         [ 3.32537174e-01, -4.38691139e+00,  4.79007034e+01]],\n",
       "\n",
       "        ...,\n",
       "\n",
       "        [[ 1.56173105e+04,  2.22802124e+03,  5.29230774e+02],\n",
       "         [ 2.22802124e+03,  1.47624043e+04, -1.21229126e+02],\n",
       "         [ 5.29230774e+02, -1.21229126e+02,  1.50567314e+04]],\n",
       "\n",
       "        [[ 1.65306934e+04,  3.12665308e+03,  6.53462646e+02],\n",
       "         [ 3.12665308e+03,  1.55787119e+04, -5.28097534e+02],\n",
       "         [ 6.53462646e+02, -5.28097534e+02,  1.63667246e+04]],\n",
       "\n",
       "        [[ 0.00000000e+00,  0.00000000e+00,  0.00000000e+00],\n",
       "         [ 0.00000000e+00,  0.00000000e+00,  0.00000000e+00],\n",
       "         [ 0.00000000e+00,  0.00000000e+00,  0.00000000e+00]]],\n",
       "\n",
       "\n",
       "       [[[ 3.38108215e+01, -1.30129278e-01,  2.79783249e-01],\n",
       "         [-1.30129278e-01,  3.44776649e+01, -9.68769372e-01],\n",
       "         [ 2.79783249e-01, -9.68769372e-01,  3.54005814e+01]],\n",
       "\n",
       "        [[ 3.55098534e+01, -1.37848064e-01,  2.96979189e-01],\n",
       "         [-1.37848064e-01,  3.62159157e+01, -1.02403057e+00],\n",
       "         [ 2.96979189e-01, -1.02403057e+00,  3.72020302e+01]],\n",
       "\n",
       "        [[ 3.78118324e+01, -1.46110952e-01,  3.22257757e-01],\n",
       "         [-1.46110952e-01,  3.85663033e+01, -1.10491335e+00],\n",
       "         [ 3.22257757e-01, -1.10491335e+00,  3.96448059e+01]],\n",
       "\n",
       "        ...,\n",
       "\n",
       "        [[ 1.55236191e+04, -1.85235748e+02, -3.96730957e+01],\n",
       "         [-1.85235748e+02,  1.63361973e+04,  1.89620087e+02],\n",
       "         [-3.96730957e+01,  1.89620087e+02,  1.52449385e+04]],\n",
       "\n",
       "        [[ 1.65534688e+04, -1.23909012e+02, -4.04296875e-01],\n",
       "         [-1.23909012e+02,  1.73101270e+04,  2.06060852e+02],\n",
       "         [-4.04296875e-01,  2.06060852e+02,  1.61030928e+04]],\n",
       "\n",
       "        [[ 0.00000000e+00,  0.00000000e+00,  0.00000000e+00],\n",
       "         [ 0.00000000e+00,  0.00000000e+00,  0.00000000e+00],\n",
       "         [ 0.00000000e+00,  0.00000000e+00,  0.00000000e+00]]],\n",
       "\n",
       "\n",
       "       [[[ 3.07756062e+01, -1.49117589e-01,  3.34719539e-01],\n",
       "         [-1.49117589e-01,  3.12125492e+01, -1.03143549e+00],\n",
       "         [ 3.34719539e-01, -1.03143549e+00,  3.28934250e+01]],\n",
       "\n",
       "        [[ 3.23534431e+01, -1.55912608e-01,  3.54554534e-01],\n",
       "         [-1.55912608e-01,  3.28239136e+01, -1.09182692e+00],\n",
       "         [ 3.54554534e-01, -1.09182692e+00,  3.46061859e+01]],\n",
       "\n",
       "        [[ 3.45131531e+01, -1.64995998e-01,  3.83542538e-01],\n",
       "         [-1.64995998e-01,  3.50255051e+01, -1.17524099e+00],\n",
       "         [ 3.83542538e-01, -1.17524099e+00,  3.69461594e+01]],\n",
       "\n",
       "        ...,\n",
       "\n",
       "        [[ 1.63453447e+04,  2.84358093e+02, -4.25424316e+02],\n",
       "         [ 2.84358093e+02,  1.49883447e+04,  5.07432922e+02],\n",
       "         [-4.25424316e+02,  5.07432922e+02,  1.53066377e+04]],\n",
       "\n",
       "        [[ 1.74920996e+04,  1.71249680e+02, -4.73975098e+02],\n",
       "         [ 1.71249680e+02,  1.64740938e+04,  6.42640991e+02],\n",
       "         [-4.73975098e+02,  6.42640991e+02,  1.63140752e+04]],\n",
       "\n",
       "        [[ 0.00000000e+00,  0.00000000e+00,  0.00000000e+00],\n",
       "         [ 0.00000000e+00,  0.00000000e+00,  0.00000000e+00],\n",
       "         [ 0.00000000e+00,  0.00000000e+00,  0.00000000e+00]]],\n",
       "\n",
       "\n",
       "       ...,\n",
       "\n",
       "\n",
       "       [[[ 2.32101257e+02, -1.39599454e+00, -1.29136295e+01],\n",
       "         [-1.39599454e+00,  2.39565567e+02, -6.23437881e-01],\n",
       "         [-1.29136295e+01, -6.23437881e-01,  2.05287155e+02]],\n",
       "\n",
       "        [[ 2.32101257e+02, -1.39599454e+00, -1.29136295e+01],\n",
       "         [-1.39599454e+00,  2.39565567e+02, -6.23437881e-01],\n",
       "         [-1.29136295e+01, -6.23437881e-01,  2.05287155e+02]],\n",
       "\n",
       "        [[ 2.41525345e+02, -1.45980942e+00, -1.34418297e+01],\n",
       "         [-1.45980942e+00,  2.49297485e+02, -6.48980141e-01],\n",
       "         [-1.34418297e+01, -6.48980141e-01,  2.13618805e+02]],\n",
       "\n",
       "        ...,\n",
       "\n",
       "        [[ 1.57204502e+04, -2.29917984e+02, -1.72850464e+02],\n",
       "         [-2.29917984e+02,  1.59639062e+04,  3.12989807e+02],\n",
       "         [-1.72850464e+02,  3.12989807e+02,  1.48782617e+04]],\n",
       "\n",
       "        [[ 1.68363242e+04, -3.06983612e+02, -1.50164612e+02],\n",
       "         [-3.06983612e+02,  1.71400449e+04,  3.14388672e+02],\n",
       "         [-1.50164612e+02,  3.14388672e+02,  1.60833945e+04]],\n",
       "\n",
       "        [[ 0.00000000e+00,  0.00000000e+00,  0.00000000e+00],\n",
       "         [ 0.00000000e+00,  0.00000000e+00,  0.00000000e+00],\n",
       "         [ 0.00000000e+00,  0.00000000e+00,  0.00000000e+00]]],\n",
       "\n",
       "\n",
       "       [[[ 3.83422852e+02, -1.74823296e+00, -5.77992897e+01],\n",
       "         [-1.74823296e+00,  4.08662262e+02, -3.18031693e+00],\n",
       "         [-5.77992897e+01, -3.18031693e+00,  2.74797852e+02]],\n",
       "\n",
       "        [[ 3.83422852e+02, -1.74823296e+00, -5.77992897e+01],\n",
       "         [-1.74823296e+00,  4.08662262e+02, -3.18031693e+00],\n",
       "         [-5.77992897e+01, -3.18031693e+00,  2.74797852e+02]],\n",
       "\n",
       "        [[ 4.03464752e+02, -1.83580887e+00, -6.08321609e+01],\n",
       "         [-1.83580887e+00,  4.30039703e+02, -3.34955025e+00],\n",
       "         [-6.08321609e+01, -3.34955025e+00,  2.89148560e+02]],\n",
       "\n",
       "        ...,\n",
       "\n",
       "        [[ 1.59062510e+04,  2.92848083e+02, -1.03768042e+03],\n",
       "         [ 2.92848083e+02,  1.53024717e+04,  5.86084961e+02],\n",
       "         [-1.03768042e+03,  5.86084961e+02,  1.39771494e+04]],\n",
       "\n",
       "        [[ 1.74747168e+04,  3.14064178e+02, -1.41638354e+03],\n",
       "         [ 3.14064178e+02,  1.66659902e+04,  9.64453613e+02],\n",
       "         [-1.41638354e+03,  9.64453613e+02,  1.57536846e+04]],\n",
       "\n",
       "        [[ 0.00000000e+00,  0.00000000e+00,  0.00000000e+00],\n",
       "         [ 0.00000000e+00,  0.00000000e+00,  0.00000000e+00],\n",
       "         [ 0.00000000e+00,  0.00000000e+00,  0.00000000e+00]]],\n",
       "\n",
       "\n",
       "       [[[ 4.88928253e+02, -2.46478653e+00, -8.35896606e+01],\n",
       "         [-2.46478653e+00,  5.24231079e+02, -6.48264313e+00],\n",
       "         [-8.35896606e+01, -6.48264313e+00,  3.36055695e+02]],\n",
       "\n",
       "        [[ 4.88928253e+02, -2.46478653e+00, -8.35896606e+01],\n",
       "         [-2.46478653e+00,  5.24231079e+02, -6.48264313e+00],\n",
       "         [-8.35896606e+01, -6.48264313e+00,  3.36055695e+02]],\n",
       "\n",
       "        [[ 5.19901245e+02, -2.63307071e+00, -8.88986893e+01],\n",
       "         [-2.63307071e+00,  5.57462769e+02, -6.89350224e+00],\n",
       "         [-8.88986893e+01, -6.89350224e+00,  3.57326324e+02]],\n",
       "\n",
       "        ...,\n",
       "\n",
       "        [[ 1.61495078e+04,  2.92595917e+02, -2.32589600e+03],\n",
       "         [ 2.92595917e+02,  1.61570049e+04, -1.01230731e+03],\n",
       "         [-2.32589600e+03, -1.01230731e+03,  1.13375508e+04]],\n",
       "\n",
       "        [[ 1.77746367e+04,  2.64196564e+02, -2.99068506e+03],\n",
       "         [ 2.64196564e+02,  1.76390703e+04, -1.66176392e+03],\n",
       "         [-2.99068506e+03, -1.66176392e+03,  1.31803311e+04]],\n",
       "\n",
       "        [[ 0.00000000e+00,  0.00000000e+00,  0.00000000e+00],\n",
       "         [ 0.00000000e+00,  0.00000000e+00,  0.00000000e+00],\n",
       "         [ 0.00000000e+00,  0.00000000e+00,  0.00000000e+00]]]],\n",
       "      dtype=float32)"
      ]
     },
     "execution_count": 63,
     "metadata": {},
     "output_type": "execute_result"
    }
   ],
   "source": [
    "data['mms1_des_temptensor_part_gse_fast']['y']"
   ]
  },
  {
   "cell_type": "markdown",
   "metadata": {},
   "source": [
    "## Testing\n",
    "\n",
    "We have a large test suite that is automatically ran on a macOS instance in the cloud with every commit; the status can be found at:\n",
    "\n",
    "https://github.com/spedas/pyspedas\n",
    "\n",
    "\n",
    "For MMS, we currently have >90% test coverage\n",
    "\n",
    "We also have validation tests as part of our IDL test suite; these load some data in IDL and Python and compare the results, and are ran whenever I run the full IDL test suite.\n",
    "\n",
    "## More MMS examples\n",
    "\n",
    "You can find more MMS examples at:\n",
    "\n",
    "https://github.com/spedas/mms-examples\n",
    "\n",
    "Clicking the images should take you to a Jupyter notebook that produces that figure\n",
    "\n",
    "## Other missions\n",
    "\n",
    "We have initial support for the following missions using this same `pyspedas.mission.instrument()` syntax:\n",
    "\n",
    "- Advanced Composition Explorer (ACE)\n",
    "- Arase (ERG)\n",
    "- Cluster\n",
    "- Colorado Student Space Weather Experiment (CSSWE)\n",
    "- Deep Space Climate Observatory (DSCOVR)\n",
    "- Equator-S\n",
    "- Fast Auroral Snapshot Explorer (FAST)\n",
    "- Geotail\n",
    "- Geostationary Operational Environmental Satellite (GOES)\n",
    "- Imager for Magnetopause-to-Aurora Global Exploration (IMAGE)\n",
    "- Mars Atmosphere and Volatile Evolution (MAVEN)\n",
    "- Magnetic Induction Coil Array (MICA)\n",
    "- Magnetospheric Multiscale (MMS)\n",
    "- OMNI\n",
    "- Polar Orbiting Environmental Satellites (POES)\n",
    "- Polar\n",
    "- Parker Solar Probe (PSP)\n",
    "- Van Allen Probes (RBSP)\n",
    "- Solar Terrestrial Relations Observatory (STEREO)\n",
    "- Time History of Events and Macroscale Interactions during Substorms (THEMIS)\n",
    "- Two Wide-Angle Imaging Neutral-Atom Spectrometers (TWINS)\n",
    "- Ulysses\n",
    "- Wind\n",
    "\n",
    "\n",
    "MMS is the furthest along. We're planning on having a multi-mission webinar next month, where we'll show data loaded from several of these. \n",
    "\n",
    "To find more information and examples for other missions, please see the READMEs (by clicking on the mission name on the index page at GitHub):\n",
    "\n",
    "https://github.com/spedas/pyspedas\n",
    "\n",
    "## How to contribute\n",
    "\n",
    "Try it out! And please report bugs, missing documentation, or any other issues so that we can fix them (feel free to email me or submit them through GitHub issues). If there's a missing dataset or analysis tool that you would like to see included, please let us know!  "
   ]
  },
  {
   "cell_type": "code",
   "execution_count": null,
   "metadata": {},
   "outputs": [],
   "source": []
  }
 ],
 "metadata": {
  "kernelspec": {
   "display_name": "Python 3",
   "language": "python",
   "name": "python3"
  },
  "language_info": {
   "codemirror_mode": {
    "name": "ipython",
    "version": 3
   },
   "file_extension": ".py",
   "mimetype": "text/x-python",
   "name": "python",
   "nbconvert_exporter": "python",
   "pygments_lexer": "ipython3",
   "version": "3.7.2"
  }
 },
 "nbformat": 4,
 "nbformat_minor": 2
}
