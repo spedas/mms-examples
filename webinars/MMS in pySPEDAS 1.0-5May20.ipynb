{
 "cells": [
  {
   "cell_type": "markdown",
   "metadata": {},
   "source": [
    "# MMS in pySPEDAS\n",
    "\n",
    "Eric Grimes (egrimes@igpp.ucla.edu)\n",
    "\n",
    "## Getting Started\n",
    "\n",
    "To get up and running with Python, virtual environments and pySPEDAS, see:\n",
    "\n",
    "http://spedas.org/mms/getting_started_with_pyspedas.pdf\n",
    "\n",
    "Python 3.5 or later is required; we recommend installing Anaconda to get everything up and running. \n",
    "\n",
    "### All of this depends on the hard work of the pyTplot developers at LASP\n",
    "To learn more about pyspedas:\n",
    "\n",
    "https://pyspedas.readthedocs.io/\n",
    "\n",
    "### Virtual environments\n",
    "\n",
    "It's best to setup and use virtual environments when using Python - these allow you to avoid common dependency problems when you install multiple packages\n",
    "\n",
    "`python -m venv pyspedas-tutorial`\n",
    "\n",
    "Then, to run the virtual environment, on Windows:\n",
    "\n",
    "`.\\pyspedas-tutorial\\Scripts\\activate`\n",
    "\n",
    "and on macOS / Linux:\n",
    "\n",
    "`source pyspedas-tutorial/bin/activate`\n",
    "\n",
    "To exit the current virtual environment, type `deactivate`\n",
    "\n",
    "### Install pySPEDAS\n",
    "\n",
    "`pip install pyspedas`\n",
    "\n",
    "### Upgrade pySPEDAS\n",
    "\n",
    "`pip install pyspedas --upgrade`\n",
    "\n",
    "\n",
    "### Local data directory\n",
    "We use environment variables to set the local data directories:\n",
    "\n",
    "    SPEDAS_DATA_DIR (root data directory for all missions in pySPEDAS, and most missions in SPEDAS)\n",
    "    e.g., if you set SPEDAS_DATA_DIR=/Users/eric/data, your data will be stored in /Users/eric/data/mms/\n",
    "    \n",
    "    MMS_DATA_DIR (if set, overrides SPEDAS_DATA_DIR)\n",
    "    e.g., if you set MMS_DATA_DIR=/Users/eric/data/mms, your data will be stored in /Users/eric/data/mms/\n",
    "\n",
    "### Network mirror data directory \n",
    "To set your network mirror directory, use the `MMS_MIRROR_DATA_DIR` environment variable. Just as in IDL, if you set the mirror and provide the `no_update` keyword to the load routines, pySPEDAS will check for the data on the network mirror (and if it exists, it will copy the data to your local data directory before loading it)\n",
    "\n",
    "### Load routines\n",
    "The load routines in pySPEDAS can be accessed using the syntax: \n",
    "\n",
    "    pyspedas.mission.instrument()\n",
    "    \n",
    "and just as in IDL, the options are set by keywords you provide to these procedures. Note: for MMS, you can also still access the load routines with their IDL names via:\n",
    "\n",
    "    pyspedas.projects.mms_load_xxx()\n",
    "\n",
    "e.g., \n",
    "\n",
    "    from pyspedas import mms_load_fpi\n",
    "    mms_load_fpi(trange=...)\n",
    "    \n",
    "The load routines supported include:\n",
    "\n",
    "- Fluxgate Magnetometer (FGM)\n",
    "- Search-coil Magnetometer (SCM)\n",
    "- Level 3 FGM+SCM Data (FSM)\n",
    "- Electric field Double Probe (EDP)\n",
    "- Electron Drift Instrument (EDI)\n",
    "- Fast Plasma Investigation (FPI)\n",
    "- Hot Plasma Composition Analyzer (HPCA)\n",
    "- Energetic Ion Spectrometer (EIS)\n",
    "- Fly's Eye Energetic Particle Sensor (FEEPS)\n",
    "- Active Spacecraft Potential Control (ASPOC)\n",
    "- Ephemeris and Coordinates (MEC)\n",
    "- Digital Signal Processor (DSP)"
   ]
  },
  {
   "cell_type": "markdown",
   "source": [
    "This command sets up the PySPEDAS environment when running in Google Colab.  You can skip it or comment it out if you're running this notebook in an environment that already has PySPEDAS installed."
   ],
   "metadata": {
    "collapsed": false
   }
  },
  {
   "cell_type": "code",
   "execution_count": null,
   "outputs": [],
   "source": [
    "!pip install pyspedas"
   ],
   "metadata": {
    "collapsed": false
   }
  },
  {
   "cell_type": "markdown",
   "metadata": {},
   "source": [
    "## Import the pyspedas package"
   ]
  },
  {
   "cell_type": "code",
   "execution_count": 1,
   "metadata": {},
   "outputs": [],
   "source": [
    "import pyspedas"
   ]
  },
  {
   "cell_type": "markdown",
   "metadata": {},
   "source": [
    "## Import tplot from the pyspedas package (to plot data)\n",
    "\n",
    "Note: `pyspedas` will be installed when you install pySPEDAS."
   ]
  },
  {
   "cell_type": "code",
   "execution_count": 2,
   "metadata": {},
   "outputs": [],
   "source": "from pyspedas import tplot"
  },
  {
   "cell_type": "markdown",
   "metadata": {},
   "source": [
    "## Find keywords supported by the load routines"
   ]
  },
  {
   "cell_type": "code",
   "execution_count": 3,
   "metadata": {},
   "outputs": [
    {
     "name": "stdout",
     "output_type": "stream",
     "text": [
      "Help on function mms_load_fgm in module pyspedas.mms:\n",
      "\n",
      "mms_load_fgm(*args, **kwargs)\n",
      "    This function loads FGM data into tplot variables\n",
      "    \n",
      "    Parameters:\n",
      "        trange : list of str\n",
      "            time range of interest [starttime, endtime] with the format \n",
      "            'YYYY-MM-DD','YYYY-MM-DD'] or to specify more or less than a day \n",
      "            ['YYYY-MM-DD/hh:mm:ss','YYYY-MM-DD/hh:mm:ss']\n",
      "    \n",
      "        probe : str or list of str\n",
      "            list of probes, valid values for MMS probes are ['1','2','3','4']. \n",
      "    \n",
      "        data_rate : str or list of str\n",
      "            instrument data rates for FGM include 'brst' 'fast' 'slow' 'srvy'. The\n",
      "            default is 'srvy'.\n",
      "    \n",
      "        level : str\n",
      "            indicates level of data processing. the default if no level is specified is 'l2'\n",
      "    \n",
      "        datatype : str or list of str\n",
      "            no datatype for FGM instrument (all science data are loaded)\n",
      "    \n",
      "        get_support_data: bool\n",
      "            Data with an attribute \"VAR_TYPE\" with a value of \"support_data\"\n",
      "            will be loaded into tplot.  By default, only loads in data with a \n",
      "            \"VAR_TYPE\" attribute of \"data\".\n",
      "    \n",
      "        time_clip: bool\n",
      "            Data will be clipped to the exact trange specified by the trange keyword.\n",
      "            \n",
      "        varformat: str\n",
      "            The file variable formats to load into tplot.  Wildcard character\n",
      "            \"*\" is accepted.  By default, all variables are loaded in.\n",
      "    \n",
      "        suffix: str\n",
      "            The tplot variable names will be given this suffix.  By default, \n",
      "            no suffix is added.\n",
      "    \n",
      "        notplot: bool\n",
      "            If True, then data are returned in a hash table instead of \n",
      "            being stored in tplot variables (useful for debugging, and\n",
      "            access to multi-dimensional data products)\n",
      "    \n",
      "        available: bool\n",
      "            If True, simply return the available data files (without downloading)\n",
      "            for the requested paramters\n",
      "    \n",
      "        no_update: bool\n",
      "            Set this flag to preserve the original data. if not set and newer \n",
      "            data is found the existing data will be overwritten\n",
      "    \n",
      "        cdf_version: str\n",
      "            Specify a specific CDF version # to load (e.g., cdf_version='4.3.0')\n",
      "    \n",
      "        min_version: str\n",
      "            Specify a minimum CDF version # to load\n",
      "    \n",
      "        latest_version: bool\n",
      "            Only grab the latest CDF version in the requested time interval\n",
      "    \n",
      "        major_version: bool\n",
      "            Only open the latest major CDF version (e.g., X in vX.Y.Z) in the requested time interval\n",
      "    \n",
      "        keep_flagged: bool\n",
      "            If True, don't remove flagged data (flagged data are set to NaNs by\n",
      "            default, this keyword turns this off)\n",
      "    \n",
      "        always_prompt: bool\n",
      "            Set this keyword to always prompt for the user's username and password;\n",
      "            useful if you accidently save an incorrect password, or if your SDC password has changed\n",
      "    \n",
      "        spdf: bool\n",
      "            If True, download the data from the SPDF instead of the SDC\n",
      "            \n",
      "    Returns:\n",
      "        List of tplot variables created.\n"
     ]
    }
   ],
   "source": "help(pyspedas.projects.mms.fgm)"
  },
  {
   "cell_type": "markdown",
   "metadata": {},
   "source": [
    "## Load burst-mode FGM data for all 4 probes\n",
    "\n",
    "Note: the load routines support the `time_clip` keyword (like in IDL); if you request a small trange without the `time_clip` keyword set to `True`, you will probably get some data outside of the requested trange"
   ]
  },
  {
   "cell_type": "code",
   "execution_count": 4,
   "metadata": {},
   "outputs": [
    {
     "name": "stderr",
     "output_type": "stream",
     "text": [
      "18-May-20 09:28:02: Loading /Volumes/data/data/mms/mms1/fgm/brst/l2/2015/10/16/mms1_fgm_brst_l2_20151016130524_v4.18.1.cdf\n",
      "18-May-20 09:28:02: Loading /Volumes/data/data/mms/mms2/fgm/brst/l2/2015/10/16/mms2_fgm_brst_l2_20151016130524_v4.18.0.cdf\n",
      "18-May-20 09:28:02: Loading /Volumes/data/data/mms/mms3/fgm/brst/l2/2015/10/16/mms3_fgm_brst_l2_20151016130524_v4.18.0.cdf\n",
      "18-May-20 09:28:02: Loading /Volumes/data/data/mms/mms4/fgm/brst/l2/2015/10/16/mms4_fgm_brst_l2_20151016130524_v4.18.0.cdf\n"
     ]
    },
    {
     "name": "stdout",
     "output_type": "stream",
     "text": [
      "The lengths of x and y do not match!\n",
      "mms1_fgm_rdeltahalf_brst_l2 is currently not in pytplot.\n",
      "The lengths of x and y do not match!\n",
      "mms2_fgm_rdeltahalf_brst_l2 is currently not in pytplot.\n",
      "The lengths of x and y do not match!\n",
      "mms3_fgm_rdeltahalf_brst_l2 is currently not in pytplot.\n",
      "The lengths of x and y do not match!\n",
      "mms4_fgm_rdeltahalf_brst_l2 is currently not in pytplot.\n",
      "Loaded variables:\n",
      "mms1_fgm_b_gse_brst_l2\n",
      "mms1_fgm_b_gsm_brst_l2\n",
      "mms1_fgm_b_dmpa_brst_l2\n",
      "mms1_fgm_b_bcs_brst_l2\n",
      "mms1_fgm_flag_brst_l2\n",
      "mms1_fgm_r_gse_brst_l2\n",
      "mms1_fgm_r_gsm_brst_l2\n",
      "mms1_fgm_hirange_brst_l2\n",
      "mms1_fgm_bdeltahalf_brst_l2\n",
      "mms1_fgm_stemp_brst_l2\n",
      "mms1_fgm_etemp_brst_l2\n",
      "mms1_fgm_mode_brst_l2\n",
      "mms1_fgm_rdeltahalf_brst_l2\n",
      "mms2_fgm_b_gse_brst_l2\n",
      "mms2_fgm_b_gsm_brst_l2\n",
      "mms2_fgm_b_dmpa_brst_l2\n",
      "mms2_fgm_b_bcs_brst_l2\n",
      "mms2_fgm_flag_brst_l2\n",
      "mms2_fgm_r_gse_brst_l2\n",
      "mms2_fgm_r_gsm_brst_l2\n",
      "mms2_fgm_hirange_brst_l2\n",
      "mms2_fgm_bdeltahalf_brst_l2\n",
      "mms2_fgm_stemp_brst_l2\n",
      "mms2_fgm_etemp_brst_l2\n",
      "mms2_fgm_mode_brst_l2\n",
      "mms2_fgm_rdeltahalf_brst_l2\n",
      "mms3_fgm_b_gse_brst_l2\n",
      "mms3_fgm_b_gsm_brst_l2\n",
      "mms3_fgm_b_dmpa_brst_l2\n",
      "mms3_fgm_b_bcs_brst_l2\n",
      "mms3_fgm_flag_brst_l2\n",
      "mms3_fgm_r_gse_brst_l2\n",
      "mms3_fgm_r_gsm_brst_l2\n",
      "mms3_fgm_hirange_brst_l2\n",
      "mms3_fgm_bdeltahalf_brst_l2\n",
      "mms3_fgm_stemp_brst_l2\n",
      "mms3_fgm_etemp_brst_l2\n",
      "mms3_fgm_mode_brst_l2\n",
      "mms3_fgm_rdeltahalf_brst_l2\n",
      "mms4_fgm_b_gse_brst_l2\n",
      "mms4_fgm_b_gsm_brst_l2\n",
      "mms4_fgm_b_dmpa_brst_l2\n",
      "mms4_fgm_b_bcs_brst_l2\n",
      "mms4_fgm_flag_brst_l2\n",
      "mms4_fgm_r_gse_brst_l2\n",
      "mms4_fgm_r_gsm_brst_l2\n",
      "mms4_fgm_hirange_brst_l2\n",
      "mms4_fgm_bdeltahalf_brst_l2\n",
      "mms4_fgm_stemp_brst_l2\n",
      "mms4_fgm_etemp_brst_l2\n",
      "mms4_fgm_mode_brst_l2\n",
      "mms4_fgm_rdeltahalf_brst_l2\n"
     ]
    }
   ],
   "source": "data = pyspedas.projects.mms.fgm(probe=[1, 2, 3, 4], trange=['2015-10-16/13:06', '2015-10-16/13:07'], data_rate='brst')"
  },
  {
   "cell_type": "code",
   "execution_count": 5,
   "metadata": {},
   "outputs": [
    {
     "data": {
      "text/plain": [
       "['mms1_fgm_b_gse_brst_l2',\n",
       " 'mms1_fgm_b_gsm_brst_l2',\n",
       " 'mms1_fgm_b_dmpa_brst_l2',\n",
       " 'mms1_fgm_b_bcs_brst_l2',\n",
       " 'mms1_fgm_flag_brst_l2',\n",
       " 'mms1_fgm_r_gse_brst_l2',\n",
       " 'mms1_fgm_r_gsm_brst_l2',\n",
       " 'mms1_fgm_hirange_brst_l2',\n",
       " 'mms1_fgm_bdeltahalf_brst_l2',\n",
       " 'mms1_fgm_stemp_brst_l2',\n",
       " 'mms1_fgm_etemp_brst_l2',\n",
       " 'mms1_fgm_mode_brst_l2',\n",
       " 'mms1_fgm_rdeltahalf_brst_l2',\n",
       " 'mms2_fgm_b_gse_brst_l2',\n",
       " 'mms2_fgm_b_gsm_brst_l2',\n",
       " 'mms2_fgm_b_dmpa_brst_l2',\n",
       " 'mms2_fgm_b_bcs_brst_l2',\n",
       " 'mms2_fgm_flag_brst_l2',\n",
       " 'mms2_fgm_r_gse_brst_l2',\n",
       " 'mms2_fgm_r_gsm_brst_l2',\n",
       " 'mms2_fgm_hirange_brst_l2',\n",
       " 'mms2_fgm_bdeltahalf_brst_l2',\n",
       " 'mms2_fgm_stemp_brst_l2',\n",
       " 'mms2_fgm_etemp_brst_l2',\n",
       " 'mms2_fgm_mode_brst_l2',\n",
       " 'mms2_fgm_rdeltahalf_brst_l2',\n",
       " 'mms3_fgm_b_gse_brst_l2',\n",
       " 'mms3_fgm_b_gsm_brst_l2',\n",
       " 'mms3_fgm_b_dmpa_brst_l2',\n",
       " 'mms3_fgm_b_bcs_brst_l2',\n",
       " 'mms3_fgm_flag_brst_l2',\n",
       " 'mms3_fgm_r_gse_brst_l2',\n",
       " 'mms3_fgm_r_gsm_brst_l2',\n",
       " 'mms3_fgm_hirange_brst_l2',\n",
       " 'mms3_fgm_bdeltahalf_brst_l2',\n",
       " 'mms3_fgm_stemp_brst_l2',\n",
       " 'mms3_fgm_etemp_brst_l2',\n",
       " 'mms3_fgm_mode_brst_l2',\n",
       " 'mms3_fgm_rdeltahalf_brst_l2',\n",
       " 'mms4_fgm_b_gse_brst_l2',\n",
       " 'mms4_fgm_b_gsm_brst_l2',\n",
       " 'mms4_fgm_b_dmpa_brst_l2',\n",
       " 'mms4_fgm_b_bcs_brst_l2',\n",
       " 'mms4_fgm_flag_brst_l2',\n",
       " 'mms4_fgm_r_gse_brst_l2',\n",
       " 'mms4_fgm_r_gsm_brst_l2',\n",
       " 'mms4_fgm_hirange_brst_l2',\n",
       " 'mms4_fgm_bdeltahalf_brst_l2',\n",
       " 'mms4_fgm_stemp_brst_l2',\n",
       " 'mms4_fgm_etemp_brst_l2',\n",
       " 'mms4_fgm_mode_brst_l2',\n",
       " 'mms4_fgm_rdeltahalf_brst_l2']"
      ]
     },
     "execution_count": 5,
     "metadata": {},
     "output_type": "execute_result"
    }
   ],
   "source": [
    "data"
   ]
  },
  {
   "cell_type": "code",
   "execution_count": 6,
   "metadata": {},
   "outputs": [],
   "source": [
    "tplot(['mms1_fgm_b_gsm_brst_l2', 'mms1_fgm_b_gse_brst_l2'])"
   ]
  },
  {
   "cell_type": "markdown",
   "metadata": {},
   "source": [
    "## List the tplot variables loaded"
   ]
  },
  {
   "cell_type": "code",
   "execution_count": 7,
   "metadata": {},
   "outputs": [],
   "source": "from pyspedas import tplot_names"
  },
  {
   "cell_type": "code",
   "execution_count": 8,
   "metadata": {},
   "outputs": [
    {
     "name": "stdout",
     "output_type": "stream",
     "text": [
      "0 : mms1_fgm_b_gse_brst_l2\n",
      "1 : mms1_fgm_b_gsm_brst_l2\n",
      "2 : mms1_fgm_b_dmpa_brst_l2\n",
      "3 : mms1_fgm_b_bcs_brst_l2\n",
      "4 : mms1_fgm_flag_brst_l2\n",
      "5 : mms1_fgm_r_gse_brst_l2\n",
      "6 : mms1_fgm_r_gsm_brst_l2\n",
      "7 : mms1_fgm_hirange_brst_l2\n",
      "8 : mms1_fgm_bdeltahalf_brst_l2\n",
      "9 : mms1_fgm_stemp_brst_l2\n",
      "10 : mms1_fgm_etemp_brst_l2\n",
      "11 : mms1_fgm_mode_brst_l2\n",
      "12 : mms2_fgm_b_gse_brst_l2\n",
      "13 : mms2_fgm_b_gsm_brst_l2\n",
      "14 : mms2_fgm_b_dmpa_brst_l2\n",
      "15 : mms2_fgm_b_bcs_brst_l2\n",
      "16 : mms2_fgm_flag_brst_l2\n",
      "17 : mms2_fgm_r_gse_brst_l2\n",
      "18 : mms2_fgm_r_gsm_brst_l2\n",
      "19 : mms2_fgm_hirange_brst_l2\n",
      "20 : mms2_fgm_bdeltahalf_brst_l2\n",
      "21 : mms2_fgm_stemp_brst_l2\n",
      "22 : mms2_fgm_etemp_brst_l2\n",
      "23 : mms2_fgm_mode_brst_l2\n",
      "24 : mms3_fgm_b_gse_brst_l2\n",
      "25 : mms3_fgm_b_gsm_brst_l2\n",
      "26 : mms3_fgm_b_dmpa_brst_l2\n",
      "27 : mms3_fgm_b_bcs_brst_l2\n",
      "28 : mms3_fgm_flag_brst_l2\n",
      "29 : mms3_fgm_r_gse_brst_l2\n",
      "30 : mms3_fgm_r_gsm_brst_l2\n",
      "31 : mms3_fgm_hirange_brst_l2\n",
      "32 : mms3_fgm_bdeltahalf_brst_l2\n",
      "33 : mms3_fgm_stemp_brst_l2\n",
      "34 : mms3_fgm_etemp_brst_l2\n",
      "35 : mms3_fgm_mode_brst_l2\n",
      "36 : mms4_fgm_b_gse_brst_l2\n",
      "37 : mms4_fgm_b_gsm_brst_l2\n",
      "38 : mms4_fgm_b_dmpa_brst_l2\n",
      "39 : mms4_fgm_b_bcs_brst_l2\n",
      "40 : mms4_fgm_flag_brst_l2\n",
      "41 : mms4_fgm_r_gse_brst_l2\n",
      "42 : mms4_fgm_r_gsm_brst_l2\n",
      "43 : mms4_fgm_hirange_brst_l2\n",
      "44 : mms4_fgm_bdeltahalf_brst_l2\n",
      "45 : mms4_fgm_stemp_brst_l2\n",
      "46 : mms4_fgm_etemp_brst_l2\n",
      "47 : mms4_fgm_mode_brst_l2\n"
     ]
    }
   ],
   "source": [
    "variables_loaded = tplot_names()"
   ]
  },
  {
   "cell_type": "markdown",
   "metadata": {},
   "source": [
    "## Curlometer calculations"
   ]
  },
  {
   "cell_type": "code",
   "execution_count": 9,
   "metadata": {},
   "outputs": [],
   "source": "from pyspedas.projects.mms import curlometer"
  },
  {
   "cell_type": "code",
   "execution_count": 10,
   "metadata": {},
   "outputs": [
    {
     "name": "stdout",
     "output_type": "stream",
     "text": [
      "tinterpol (linear) was applied to: mms2_fgm_b_gse_brst_l2_i\n",
      "tinterpol (linear) was applied to: mms3_fgm_b_gse_brst_l2_i\n",
      "tinterpol (linear) was applied to: mms4_fgm_b_gse_brst_l2_i\n",
      "tinterpol (linear) was applied to: mms1_fgm_r_gse_brst_l2_i\n",
      "tinterpol (linear) was applied to: mms2_fgm_r_gse_brst_l2_i\n",
      "tinterpol (linear) was applied to: mms3_fgm_r_gse_brst_l2_i\n",
      "tinterpol (linear) was applied to: mms4_fgm_r_gse_brst_l2_i\n"
     ]
    }
   ],
   "source": [
    "curl_vars = curlometer(fields=['mms1_fgm_b_gse_brst_l2', \n",
    "                               'mms2_fgm_b_gse_brst_l2', \n",
    "                               'mms3_fgm_b_gse_brst_l2', \n",
    "                               'mms4_fgm_b_gse_brst_l2'],\n",
    "                      positions=['mms1_fgm_r_gse_brst_l2',\n",
    "                                 'mms2_fgm_r_gse_brst_l2',\n",
    "                                 'mms3_fgm_r_gse_brst_l2',\n",
    "                                 'mms4_fgm_r_gse_brst_l2'])"
   ]
  },
  {
   "cell_type": "code",
   "execution_count": 11,
   "metadata": {},
   "outputs": [
    {
     "data": {
      "text/plain": [
       "['baryb', 'curlB', 'divB', 'jtotal', 'jpar', 'jperp', 'alpha', 'alphaparallel']"
      ]
     },
     "execution_count": 11,
     "metadata": {},
     "output_type": "execute_result"
    }
   ],
   "source": [
    "curl_vars"
   ]
  },
  {
   "cell_type": "code",
   "execution_count": 12,
   "metadata": {},
   "outputs": [],
   "source": [
    "tplot(['jtotal', 'jpar', 'jperp'])"
   ]
  },
  {
   "cell_type": "markdown",
   "metadata": {},
   "source": [
    "## Load and plot ASPOC data"
   ]
  },
  {
   "cell_type": "code",
   "execution_count": 13,
   "metadata": {},
   "outputs": [
    {
     "name": "stderr",
     "output_type": "stream",
     "text": [
      "18-May-20 09:28:27: Loading /Volumes/data/data/mms/mms1/aspoc/srvy/l2/2015/10/mms1_aspoc_srvy_l2_20151016_v2.0.0.cdf\n"
     ]
    },
    {
     "name": "stdout",
     "output_type": "stream",
     "text": [
      "Cannot find x axis.\n",
      "No attribute named DEPEND_TIME or DEPEND_0 in                           variable Epoch\n",
      "Loaded variables:\n",
      "mms1_aspoc_ionc\n",
      "mms1_asp1_ionc\n",
      "mms1_asp2_ionc\n",
      "mms1_asp1_energy\n",
      "mms1_asp2_energy\n",
      "mms1_aspoc_status\n"
     ]
    }
   ],
   "source": "data = pyspedas.projects.mms.aspoc(trange=['2015-10-16', '2015-10-17'])"
  },
  {
   "cell_type": "code",
   "execution_count": 14,
   "metadata": {},
   "outputs": [],
   "source": [
    "tplot('mms1_aspoc_ionc')"
   ]
  },
  {
   "cell_type": "markdown",
   "metadata": {},
   "source": [
    "## Set some plot options"
   ]
  },
  {
   "cell_type": "code",
   "execution_count": 15,
   "metadata": {},
   "outputs": [],
   "source": "from pyspedas import options"
  },
  {
   "cell_type": "code",
   "execution_count": 16,
   "metadata": {},
   "outputs": [
    {
     "name": "stdout",
     "output_type": "stream",
     "text": [
      "Help on function options in module pytplot.options:\n",
      "\n",
      "options(name, option=None, value=None, opt_dict=None)\n",
      "    This function allows the user to set a large variety of options for individual plots.\n",
      "    \n",
      "    Parameters:\n",
      "        name : str\n",
      "            Name or number of the tplot variable\n",
      "        option : str\n",
      "            The name of the option.  See section below.\n",
      "        value : str/int/float/list\n",
      "            The value of the option.  See section below.\n",
      "        dict : dict\n",
      "            This can be a dictionary of option:value pairs.  Option and value\n",
      "            will not be needed if this dictionary item is supplied.\n",
      "    \n",
      "    Options:\n",
      "        =================== ==========   =====\n",
      "        Options             Value type   Notes\n",
      "        =================== ==========   =====\n",
      "        Color               str/list     Red, Orange, Yellow, Green, Blue, etc.\n",
      "        Colormap            str/list     https://matplotlib.org/examples/color/colormaps_reference.html.\n",
      "        Spec                int          1 sets the Tplot Variable to spectrogram mode, 0 reverts.\n",
      "        Alt                 int          1 sets the Tplot Variable to altitude plot mode, 0 reverts.\n",
      "        Map                 int          1 sets the Tplot Variable to latitude/longitude mode, 0 reverts.\n",
      "        link                list         Allows a user to reference one tplot variable to another.\n",
      "        ylog                int          1 sets the y axis to log scale, 0 reverts.\n",
      "        zlog                int          1 sets the z axis to log scale, 0 reverts (spectrograms only).\n",
      "        legend_names        list         A list of strings that will be used to identify the lines.\n",
      "        xlog_slice          bool         Sets x axis on slice plot to log scale if True.\n",
      "        ylog                bool         Set y axis on main plot window to log scale if True.\n",
      "        ylog_slice          bool         Sets y axis on slice plot to log scale if True.\n",
      "        zlog                bool         Sets z axis on main plot window to log scale if True.\n",
      "        line_style          str          scatter (to make scatter plots), or solid_line, dot, dash, dash_dot, dash_dot_dot_dot, long_dash.\n",
      "        char_size           int          Defines character size for plot labels, etc.\n",
      "        name                str          The title of the plot.\n",
      "        panel_size          flt          Number between (0,1], representing the percent size of the plot.\n",
      "        basemap             str          Full path and name of a background image for \"Map\" plots.\n",
      "        alpha               flt          Number between [0,1], gives the transparancy of the plot lines.\n",
      "        thick               flt          Sets plot line width.\n",
      "        yrange              flt list     Two numbers that give the y axis range of the plot.\n",
      "        zrange              flt list     Two numbers that give the z axis range of the plot.\n",
      "        xrange_slice        flt list     Two numbers that give the x axis range of spectrogram slicing plots.\n",
      "        yrange_slice        flt list     Two numbers that give the y axis range of spectrogram slicing plots.\n",
      "        ytitle              str          Title shown on the y axis.\n",
      "        ztitle              str          Title shown on the z axis.  Spec plots only.\n",
      "        ysubtitle           str          Subtitle shown on the y axis.\n",
      "        zsubtitle           str          Subtitle shown on the z axis.  Spec plots only.\n",
      "        plotter             str          Allows a user to implement their own plotting script in place of the ones\n",
      "                                         herein.\n",
      "        crosshair_x         str          Title for x-axis crosshair.\n",
      "        crosshair_y         str          Title for y-axis crosshair.\n",
      "        crosshair_z         str          Title for z-axis crosshair.\n",
      "        static              str          Datetime string that gives desired time to plot y and z values from a spec\n",
      "                                         plot.\n",
      "        static_tavg         str          Datetime string that gives desired time-averaged y and z values to plot\n",
      "                                         from a spec plot.\n",
      "        t_average           int          Seconds around which the cursor is averaged when hovering over spectrogram\n",
      "                                         plots.\n",
      "        =================== ==========   =====\n",
      "    Returns:\n",
      "        None\n",
      "    \n",
      "    Examples:\n",
      "        >>> # Change the y range of Variable1\n",
      "        >>> import pytplot\n",
      "        >>> x_data = [1,2,3,4,5]\n",
      "        >>> y_data = [1,2,3,4,5]\n",
      "        >>> pytplot.store_data(\"Variable1\", data={'x':x_data, 'y':y_data})\n",
      "        >>> pytplot.options('Variable1', 'yrange', [2,4])\n",
      "    \n",
      "        >>> # Change Variable1 to use a log scale\n",
      "        >>> pytplot.options('Variable1', 'ylog', 1)\n"
     ]
    }
   ],
   "source": [
    "help(options)"
   ]
  },
  {
   "cell_type": "code",
   "execution_count": 17,
   "metadata": {},
   "outputs": [],
   "source": [
    "options('mms1_aspoc_ionc', 'ytitle', 'MMS1 ASPOC Beam Current [uA]')"
   ]
  },
  {
   "cell_type": "code",
   "execution_count": 18,
   "metadata": {},
   "outputs": [],
   "source": [
    "tplot('mms1_aspoc_ionc')"
   ]
  },
  {
   "cell_type": "markdown",
   "metadata": {},
   "source": [
    "# Load and plot burst-mode SCM data"
   ]
  },
  {
   "cell_type": "code",
   "execution_count": 19,
   "metadata": {},
   "outputs": [
    {
     "name": "stderr",
     "output_type": "stream",
     "text": [
      "18-May-20 09:28:35: Loading /Volumes/data/data/mms/mms1/scm/brst/l2/scb/2015/10/16/mms1_scm_brst_l2_scb_20151016130524_v2.2.0.cdf\n"
     ]
    },
    {
     "name": "stdout",
     "output_type": "stream",
     "text": [
      "Loaded variables:\n",
      "mms1_scm_acb_gse_scb_brst_l2\n"
     ]
    }
   ],
   "source": "scm_data = pyspedas.projects.mms.scm(trange=['2015-10-16/13:06', '2015-10-16/13:07'], data_rate='brst', datatype='scb')"
  },
  {
   "cell_type": "code",
   "execution_count": 20,
   "metadata": {},
   "outputs": [],
   "source": [
    "tplot('mms1_scm_acb_gse_scb_brst_l2')"
   ]
  },
  {
   "cell_type": "markdown",
   "metadata": {},
   "source": [
    "## Calculate the dynamic power spectra using SCM data\n",
    "\n",
    "Note: options taken from the SCM crib sheet in IDL"
   ]
  },
  {
   "cell_type": "code",
   "execution_count": 21,
   "metadata": {},
   "outputs": [],
   "source": [
    "from pyspedas import tdpwrspc"
   ]
  },
  {
   "cell_type": "code",
   "execution_count": 22,
   "metadata": {},
   "outputs": [
    {
     "data": {
      "text/plain": [
       "['mms1_scm_acb_gse_scb_brst_l2_x_dpwrspc',\n",
       " 'mms1_scm_acb_gse_scb_brst_l2_y_dpwrspc',\n",
       " 'mms1_scm_acb_gse_scb_brst_l2_z_dpwrspc']"
      ]
     },
     "execution_count": 22,
     "metadata": {},
     "output_type": "execute_result"
    }
   ],
   "source": [
    "tdpwrspc('mms1_scm_acb_gse_scb_brst_l2', nboxpoints=8192, nshiftpoints=8192, binsize=1)"
   ]
  },
  {
   "cell_type": "code",
   "execution_count": 23,
   "metadata": {},
   "outputs": [
    {
     "name": "stderr",
     "output_type": "stream",
     "text": [
      "18-May-20 09:28:59: NumExpr defaulting to 8 threads.\n"
     ]
    }
   ],
   "source": [
    "tplot(['mms1_scm_acb_gse_scb_brst_l2_x_dpwrspc',\n",
    "       'mms1_scm_acb_gse_scb_brst_l2_y_dpwrspc',\n",
    "       'mms1_scm_acb_gse_scb_brst_l2_z_dpwrspc'])"
   ]
  },
  {
   "cell_type": "markdown",
   "metadata": {},
   "source": [
    "## Load and plot burst-mode EDP data"
   ]
  },
  {
   "cell_type": "code",
   "execution_count": 24,
   "metadata": {},
   "outputs": [
    {
     "name": "stderr",
     "output_type": "stream",
     "text": [
      "18-May-20 09:29:11: Loading /Volumes/data/data/mms/mms1/edp/brst/l2/dce/2015/10/16/mms1_edp_brst_l2_dce_20151016130524_v2.2.0.cdf\n"
     ]
    },
    {
     "name": "stdout",
     "output_type": "stream",
     "text": [
      "Loaded variables:\n",
      "mms1_edp_dce_gse_brst_l2\n",
      "mms1_edp_dce_dsl_brst_l2\n",
      "mms1_edp_dce_par_epar_brst_l2\n"
     ]
    }
   ],
   "source": "data = pyspedas.projects.mms.edp(trange=['2015-10-16/13:06', '2015-10-16/13:07'], data_rate='brst')"
  },
  {
   "cell_type": "code",
   "execution_count": 25,
   "metadata": {},
   "outputs": [],
   "source": [
    "tplot('mms1_edp_dce_gse_brst_l2')"
   ]
  },
  {
   "cell_type": "markdown",
   "metadata": {},
   "source": [
    "## Extract the data values from the tplot variable"
   ]
  },
  {
   "cell_type": "code",
   "execution_count": 26,
   "metadata": {},
   "outputs": [],
   "source": "from pyspedas import get_data"
  },
  {
   "cell_type": "code",
   "execution_count": 27,
   "metadata": {},
   "outputs": [],
   "source": [
    "e_times, e_data = get_data('mms1_edp_dce_gse_brst_l2')"
   ]
  },
  {
   "cell_type": "markdown",
   "metadata": {},
   "source": [
    "The times are stored as unix times (just like in IDL)"
   ]
  },
  {
   "cell_type": "code",
   "execution_count": 28,
   "metadata": {},
   "outputs": [
    {
     "data": {
      "text/plain": [
       "array([1.44500072e+09, 1.44500072e+09, 1.44500072e+09, ...,\n",
       "       1.44500086e+09, 1.44500086e+09, 1.44500086e+09])"
      ]
     },
     "execution_count": 28,
     "metadata": {},
     "output_type": "execute_result"
    }
   ],
   "source": [
    "e_times"
   ]
  },
  {
   "cell_type": "markdown",
   "metadata": {},
   "source": [
    "To convert the unix times to time strings, use time_string"
   ]
  },
  {
   "cell_type": "code",
   "execution_count": 29,
   "metadata": {},
   "outputs": [],
   "source": [
    "from pyspedas import time_string"
   ]
  },
  {
   "cell_type": "code",
   "execution_count": 30,
   "metadata": {},
   "outputs": [
    {
     "data": {
      "text/plain": [
       "['2015-10-16 13:05:24.021348',\n",
       " '2015-10-16 13:05:24.021470',\n",
       " '2015-10-16 13:05:24.021592',\n",
       " '2015-10-16 13:05:24.021714',\n",
       " '2015-10-16 13:05:24.021836']"
      ]
     },
     "execution_count": 30,
     "metadata": {},
     "output_type": "execute_result"
    }
   ],
   "source": [
    "time_string(e_times[0:5])"
   ]
  },
  {
   "cell_type": "markdown",
   "metadata": {},
   "source": [
    "To convert back to unix times, use time_double"
   ]
  },
  {
   "cell_type": "code",
   "execution_count": 31,
   "metadata": {},
   "outputs": [],
   "source": [
    "from pyspedas import time_double"
   ]
  },
  {
   "cell_type": "code",
   "execution_count": 32,
   "metadata": {},
   "outputs": [
    {
     "data": {
      "text/plain": [
       "[1445000724.021348,\n",
       " 1445000724.02147,\n",
       " 1445000724.021592,\n",
       " 1445000724.021714,\n",
       " 1445000724.021836]"
      ]
     },
     "execution_count": 32,
     "metadata": {},
     "output_type": "execute_result"
    }
   ],
   "source": [
    "time_double(time_string(e_times[0:5]))"
   ]
  },
  {
   "cell_type": "code",
   "execution_count": 33,
   "metadata": {},
   "outputs": [
    {
     "data": {
      "text/plain": [
       "[1445000724.0213475,\n",
       " 1445000724.0214696,\n",
       " 1445000724.0215917,\n",
       " 1445000724.0217137,\n",
       " 1445000724.0218358]"
      ]
     },
     "execution_count": 33,
     "metadata": {},
     "output_type": "execute_result"
    }
   ],
   "source": [
    "e_times[0:5].tolist()"
   ]
  },
  {
   "cell_type": "code",
   "execution_count": 34,
   "metadata": {},
   "outputs": [
    {
     "data": {
      "text/plain": [
       "array([[-0.16092218,  1.3815638 , -2.1243598 ],\n",
       "       [-0.53364766,  1.8481368 , -1.6866087 ],\n",
       "       [-0.7394497 ,  1.8312075 , -1.4367592 ],\n",
       "       ...,\n",
       "       [ 1.5353074 ,  2.620467  ,  0.62853456],\n",
       "       [ 1.575886  ,  2.6008804 ,  1.0481594 ],\n",
       "       [ 1.5163695 ,  2.6076415 , -0.2609139 ]], dtype=float32)"
      ]
     },
     "execution_count": 34,
     "metadata": {},
     "output_type": "execute_result"
    }
   ],
   "source": [
    "e_data"
   ]
  },
  {
   "cell_type": "markdown",
   "metadata": {},
   "source": [
    "## Create a tplot variable"
   ]
  },
  {
   "cell_type": "code",
   "execution_count": 35,
   "metadata": {},
   "outputs": [],
   "source": "from pyspedas import store_data"
  },
  {
   "cell_type": "code",
   "execution_count": 36,
   "metadata": {},
   "outputs": [
    {
     "data": {
      "text/plain": [
       "True"
      ]
     },
     "execution_count": 36,
     "metadata": {},
     "output_type": "execute_result"
    }
   ],
   "source": [
    "store_data('e_field', data={'x': e_times, 'y': e_data})"
   ]
  },
  {
   "cell_type": "markdown",
   "metadata": {},
   "source": [
    "Note: by default, in pyTplot, X=black, Y=red, Z=green"
   ]
  },
  {
   "cell_type": "code",
   "execution_count": 37,
   "metadata": {},
   "outputs": [],
   "source": [
    "tplot('e_field')"
   ]
  },
  {
   "cell_type": "markdown",
   "metadata": {},
   "source": [
    "You can change the colors with the `Color` option"
   ]
  },
  {
   "cell_type": "code",
   "execution_count": 38,
   "metadata": {},
   "outputs": [],
   "source": [
    "options('e_field', 'Color', ['blue', 'green', 'red'])"
   ]
  },
  {
   "cell_type": "markdown",
   "metadata": {},
   "source": [
    "You can set the labels with the `legend_names` option"
   ]
  },
  {
   "cell_type": "code",
   "execution_count": 39,
   "metadata": {},
   "outputs": [],
   "source": [
    "options('e_field', 'legend_names', ['Ex', 'Ey', 'Ez'])"
   ]
  },
  {
   "cell_type": "code",
   "execution_count": 40,
   "metadata": {},
   "outputs": [],
   "source": [
    "tplot('e_field')"
   ]
  },
  {
   "cell_type": "markdown",
   "metadata": {},
   "source": [
    "## Split a vector into its components"
   ]
  },
  {
   "cell_type": "code",
   "execution_count": 41,
   "metadata": {},
   "outputs": [],
   "source": "from pyspedas import split_vec"
  },
  {
   "cell_type": "code",
   "execution_count": 42,
   "metadata": {},
   "outputs": [
    {
     "data": {
      "text/plain": [
       "['mms1_edp_dce_gse_brst_l2_x',\n",
       " 'mms1_edp_dce_gse_brst_l2_y',\n",
       " 'mms1_edp_dce_gse_brst_l2_z']"
      ]
     },
     "execution_count": 42,
     "metadata": {},
     "output_type": "execute_result"
    }
   ],
   "source": [
    "split_vec('mms1_edp_dce_gse_brst_l2')"
   ]
  },
  {
   "cell_type": "code",
   "execution_count": 43,
   "metadata": {},
   "outputs": [],
   "source": [
    "tplot(['mms1_edp_dce_gse_brst_l2_x', 'mms1_edp_dce_gse_brst_l2_y', 'mms1_edp_dce_gse_brst_l2_z'])"
   ]
  },
  {
   "cell_type": "markdown",
   "metadata": {},
   "source": [
    "## Combine vector components into a single tplot variable"
   ]
  },
  {
   "cell_type": "code",
   "execution_count": 44,
   "metadata": {},
   "outputs": [],
   "source": "from pyspedas import join_vec"
  },
  {
   "cell_type": "code",
   "execution_count": 45,
   "metadata": {},
   "outputs": [],
   "source": [
    "join_vec(['mms1_edp_dce_gse_brst_l2_x',\n",
    "          'mms1_edp_dce_gse_brst_l2_y',\n",
    "          'mms1_edp_dce_gse_brst_l2_z'], new_tvar='edp_dce_gse')"
   ]
  },
  {
   "cell_type": "code",
   "execution_count": 46,
   "metadata": {},
   "outputs": [],
   "source": [
    "tplot('edp_dce_gse')"
   ]
  },
  {
   "cell_type": "markdown",
   "metadata": {},
   "source": [
    "## Load HPCA moments data\n",
    "\n",
    "Note: just like in IDL, set the `center_measurement` keyword to `True` to center the plasma measurements to the middle of the accumulation interval"
   ]
  },
  {
   "cell_type": "code",
   "execution_count": 47,
   "metadata": {},
   "outputs": [
    {
     "name": "stderr",
     "output_type": "stream",
     "text": [
      "18-May-20 09:30:19: Loading /Volumes/data/data/mms/mms1/hpca/brst/l2/moments/2015/10/16/mms1_hpca_brst_l2_moments_20151016130524_v4.1.0.cdf\n"
     ]
    },
    {
     "name": "stdout",
     "output_type": "stream",
     "text": [
      "Loaded variables:\n",
      "mms1_hpca_spin_number\n",
      "mms1_hpca_sweep_table_number\n",
      "mms1_hpca_science_mode\n",
      "mms1_hpca_hplus_number_density\n",
      "mms1_hpca_hplus_ion_bulk_velocity\n",
      "mms1_hpca_hplus_scalar_temperature\n",
      "mms1_hpca_hplus_ion_pressure\n",
      "mms1_hpca_hplus_temperature_tensor\n",
      "mms1_hpca_heplus_number_density\n",
      "mms1_hpca_heplus_ion_bulk_velocity\n",
      "mms1_hpca_heplus_scalar_temperature\n",
      "mms1_hpca_heplus_ion_pressure\n",
      "mms1_hpca_heplus_temperature_tensor\n",
      "mms1_hpca_heplusplus_number_density\n",
      "mms1_hpca_heplusplus_ion_bulk_velocity\n",
      "mms1_hpca_heplusplus_scalar_temperature\n",
      "mms1_hpca_heplusplus_ion_pressure\n",
      "mms1_hpca_heplusplus_temperature_tensor\n",
      "mms1_hpca_oplus_number_density\n",
      "mms1_hpca_oplus_ion_bulk_velocity\n",
      "mms1_hpca_oplus_scalar_temperature\n",
      "mms1_hpca_oplus_ion_pressure\n",
      "mms1_hpca_oplus_temperature_tensor\n",
      "mms1_hpca_B_GSE_spin_avg\n",
      "mms1_hpca_B_GSM_spin_avg\n",
      "mms1_hpca_hplus_ion_bulk_velocity_GSM\n",
      "mms1_hpca_hplus_tperp\n",
      "mms1_hpca_hplus_tparallel\n",
      "mms1_hpca_hplus_vperp\n",
      "mms1_hpca_hplus_vparallel\n",
      "mms1_hpca_hplus_vperp_GSM\n",
      "mms1_hpca_hplus_vparallel_GSM\n",
      "mms1_hpca_heplus_ion_bulk_velocity_GSM\n",
      "mms1_hpca_heplus_tperp\n",
      "mms1_hpca_heplus_tparallel\n",
      "mms1_hpca_heplus_vperp\n",
      "mms1_hpca_heplus_vparallel\n",
      "mms1_hpca_heplus_vperp_GSM\n",
      "mms1_hpca_heplus_vparallel_GSM\n",
      "mms1_hpca_heplusplus_ion_bulk_velocity_GSM\n",
      "mms1_hpca_heplusplus_tperp\n",
      "mms1_hpca_heplusplus_tparallel\n",
      "mms1_hpca_heplusplus_vperp\n",
      "mms1_hpca_heplusplus_vparallel\n",
      "mms1_hpca_heplusplus_vperp_GSM\n",
      "mms1_hpca_heplusplus_vparallel_GSM\n",
      "mms1_hpca_oplus_ion_bulk_velocity_GSM\n",
      "mms1_hpca_oplus_tperp\n",
      "mms1_hpca_oplus_tparallel\n",
      "mms1_hpca_oplus_vperp\n",
      "mms1_hpca_oplus_vparallel\n",
      "mms1_hpca_oplus_vperp_GSM\n",
      "mms1_hpca_oplus_vparallel_GSM\n",
      "mms1_hpca_MCP_VMON_MIN_converted\n",
      "mms1_hpca_TOF_VMON_MIN_converted\n"
     ]
    }
   ],
   "source": [
    "data = pyspedas.projects.mms.hpca(trange=['2015-10-16/13:06', '2015-10-16/13:07'],\n",
    "                         data_rate='brst',\n",
    "                         center_measurement=True)"
   ]
  },
  {
   "cell_type": "code",
   "execution_count": 48,
   "metadata": {},
   "outputs": [],
   "source": [
    "tplot(['mms1_hpca_hplus_number_density',\n",
    "       'mms1_hpca_hplus_ion_bulk_velocity',\n",
    "       'mms1_hpca_hplus_scalar_temperature'])"
   ]
  },
  {
   "cell_type": "markdown",
   "metadata": {},
   "source": [
    "## Load the ion flux and PSD data"
   ]
  },
  {
   "cell_type": "code",
   "execution_count": 49,
   "metadata": {},
   "outputs": [
    {
     "name": "stderr",
     "output_type": "stream",
     "text": [
      "18-May-20 09:30:28: Loading /Volumes/data/data/mms/mms1/hpca/brst/l2/ion/2015/10/16/mms1_hpca_brst_l2_ion_20151016130524_v4.1.0.cdf\n"
     ]
    },
    {
     "name": "stdout",
     "output_type": "stream",
     "text": [
      "Loaded variables:\n",
      "mms1_hpca_azimuth_decimation_factor\n",
      "mms1_hpca_polar_decimation_factor\n",
      "mms1_hpca_energy_decimation_factor\n",
      "mms1_hpca_sweep_table_number\n",
      "mms1_hpca_start_azimuth\n",
      "mms1_hpca_science_mode\n",
      "mms1_hpca_hplus_flux\n",
      "mms1_hpca_hplus_phase_space_density\n",
      "mms1_hpca_heplus_flux\n",
      "mms1_hpca_heplus_phase_space_density\n",
      "mms1_hpca_heplusplus_flux\n",
      "mms1_hpca_heplusplus_phase_space_density\n",
      "mms1_hpca_oplus_flux\n",
      "mms1_hpca_oplus_phase_space_density\n",
      "mms1_hpca_B_GSE_sweep_avg\n",
      "mms1_hpca_B_GSM_sweep_avg\n",
      "mms1_hpca_azimuth_angles_degrees\n",
      "mms1_hpca_azimuth_angles_per_ev_degrees\n",
      "mms1_hpca_MCP_VMON_MIN_converted\n",
      "mms1_hpca_TOF_VMON_MIN_converted\n",
      "mms1_hpca_decimation_factor_index\n"
     ]
    }
   ],
   "source": [
    "data = pyspedas.projects.mms.hpca(datatype='ion',\n",
    "                         trange=['2015-10-16/13:06', '2015-10-16/13:07'], \n",
    "                         data_rate='brst',\n",
    "                         center_measurement=True)"
   ]
  },
  {
   "cell_type": "markdown",
   "metadata": {},
   "source": [
    "Just like in IDL, we have the routines `mms_hpca_calc_anodes` and `mms_hpca_spin_sum` to calculate the omni-directional energy spectra"
   ]
  },
  {
   "cell_type": "code",
   "execution_count": 50,
   "metadata": {},
   "outputs": [],
   "source": [
    "from pyspedas import mms_hpca_calc_anodes, mms_hpca_spin_sum"
   ]
  },
  {
   "cell_type": "code",
   "execution_count": 51,
   "metadata": {},
   "outputs": [
    {
     "data": {
      "text/plain": [
       "['mms1_hpca_hplus_flux_elev_0-360',\n",
       " 'mms1_hpca_heplus_flux_elev_0-360',\n",
       " 'mms1_hpca_heplusplus_flux_elev_0-360',\n",
       " 'mms1_hpca_oplus_flux_elev_0-360']"
      ]
     },
     "execution_count": 51,
     "metadata": {},
     "output_type": "execute_result"
    }
   ],
   "source": [
    "mms_hpca_calc_anodes(fov=[0, 360])"
   ]
  },
  {
   "cell_type": "code",
   "execution_count": 52,
   "metadata": {},
   "outputs": [
    {
     "data": {
      "text/plain": [
       "['mms1_hpca_hplus_flux_elev_0-360_spin',\n",
       " 'mms1_hpca_heplus_flux_elev_0-360_spin',\n",
       " 'mms1_hpca_heplusplus_flux_elev_0-360_spin',\n",
       " 'mms1_hpca_oplus_flux_elev_0-360_spin']"
      ]
     },
     "execution_count": 52,
     "metadata": {},
     "output_type": "execute_result"
    }
   ],
   "source": [
    "mms_hpca_spin_sum(probe='1', avg=True)"
   ]
  },
  {
   "cell_type": "code",
   "execution_count": 53,
   "metadata": {},
   "outputs": [],
   "source": [
    "tplot('mms1_hpca_hplus_flux_elev_0-360_spin')"
   ]
  },
  {
   "cell_type": "markdown",
   "metadata": {},
   "source": [
    "## Load EIS ExTOF data"
   ]
  },
  {
   "cell_type": "code",
   "execution_count": 54,
   "metadata": {},
   "outputs": [
    {
     "name": "stderr",
     "output_type": "stream",
     "text": [
      "18-May-20 09:30:41: Loading /Volumes/data/data/mms/mms1/epd-eis/brst/l2/extof/2015/10/16/mms1_epd-eis_brst_l2_extof_20151016130524_v3.0.0.cdf\n"
     ]
    },
    {
     "name": "stdout",
     "output_type": "stream",
     "text": [
      "Loaded variables:\n",
      "Time_Minus\n",
      "Time_Plus\n",
      "mms1_epd_eis_brst_extof_duration\n",
      "mms1_epd_eis_brst_extof_deadtime\n",
      "mms1_epd_eis_brst_extof_largepixel\n",
      "mms1_epd_eis_brst_extof_starttai\n",
      "mms1_epd_eis_brst_extof_midtai\n",
      "mms1_epd_eis_brst_extof_endtai\n",
      "mms1_epd_eis_brst_extof_spin\n",
      "mms1_epd_eis_brst_extof_sector\n",
      "mms1_epd_eis_brst_extof_quality\n",
      "mms1_epd_eis_brst_extof_proton_P3_counts_t0\n",
      "mms1_epd_eis_brst_extof_proton_P3_counts_t1\n",
      "mms1_epd_eis_brst_extof_proton_P3_counts_t2\n",
      "mms1_epd_eis_brst_extof_proton_P3_counts_t3\n",
      "mms1_epd_eis_brst_extof_proton_P3_counts_t4\n",
      "mms1_epd_eis_brst_extof_proton_P3_counts_t5\n",
      "mms1_epd_eis_brst_extof_proton_P3_cps_t0\n",
      "mms1_epd_eis_brst_extof_proton_P3_cps_t1\n",
      "mms1_epd_eis_brst_extof_proton_P3_cps_t2\n",
      "mms1_epd_eis_brst_extof_proton_P3_cps_t3\n",
      "mms1_epd_eis_brst_extof_proton_P3_cps_t4\n",
      "mms1_epd_eis_brst_extof_proton_P3_cps_t5\n",
      "mms1_epd_eis_brst_extof_proton_P3_flux_t0\n",
      "mms1_epd_eis_brst_extof_proton_P3_flux_t1\n",
      "mms1_epd_eis_brst_extof_proton_P3_flux_t2\n",
      "mms1_epd_eis_brst_extof_proton_P3_flux_t3\n",
      "mms1_epd_eis_brst_extof_proton_P3_flux_t4\n",
      "mms1_epd_eis_brst_extof_proton_P3_flux_t5\n",
      "mms1_epd_eis_brst_extof_alpha_P3_counts_t0\n",
      "mms1_epd_eis_brst_extof_alpha_P3_counts_t1\n",
      "mms1_epd_eis_brst_extof_alpha_P3_counts_t2\n",
      "mms1_epd_eis_brst_extof_alpha_P3_counts_t3\n",
      "mms1_epd_eis_brst_extof_alpha_P3_counts_t4\n",
      "mms1_epd_eis_brst_extof_alpha_P3_counts_t5\n",
      "mms1_epd_eis_brst_extof_alpha_P3_cps_t0\n",
      "mms1_epd_eis_brst_extof_alpha_P3_cps_t1\n",
      "mms1_epd_eis_brst_extof_alpha_P3_cps_t2\n",
      "mms1_epd_eis_brst_extof_alpha_P3_cps_t3\n",
      "mms1_epd_eis_brst_extof_alpha_P3_cps_t4\n",
      "mms1_epd_eis_brst_extof_alpha_P3_cps_t5\n",
      "mms1_epd_eis_brst_extof_alpha_P3_flux_t0\n",
      "mms1_epd_eis_brst_extof_alpha_P3_flux_t1\n",
      "mms1_epd_eis_brst_extof_alpha_P3_flux_t2\n",
      "mms1_epd_eis_brst_extof_alpha_P3_flux_t3\n",
      "mms1_epd_eis_brst_extof_alpha_P3_flux_t4\n",
      "mms1_epd_eis_brst_extof_alpha_P3_flux_t5\n",
      "mms1_epd_eis_brst_extof_oxygen_P3_counts_t0\n",
      "mms1_epd_eis_brst_extof_oxygen_P3_counts_t1\n",
      "mms1_epd_eis_brst_extof_oxygen_P3_counts_t2\n",
      "mms1_epd_eis_brst_extof_oxygen_P3_counts_t3\n",
      "mms1_epd_eis_brst_extof_oxygen_P3_counts_t4\n",
      "mms1_epd_eis_brst_extof_oxygen_P3_counts_t5\n",
      "mms1_epd_eis_brst_extof_oxygen_P3_cps_t0\n",
      "mms1_epd_eis_brst_extof_oxygen_P3_cps_t1\n",
      "mms1_epd_eis_brst_extof_oxygen_P3_cps_t2\n",
      "mms1_epd_eis_brst_extof_oxygen_P3_cps_t3\n",
      "mms1_epd_eis_brst_extof_oxygen_P3_cps_t4\n",
      "mms1_epd_eis_brst_extof_oxygen_P3_cps_t5\n",
      "mms1_epd_eis_brst_extof_oxygen_P3_flux_t0\n",
      "mms1_epd_eis_brst_extof_oxygen_P3_flux_t1\n",
      "mms1_epd_eis_brst_extof_oxygen_P3_flux_t2\n",
      "mms1_epd_eis_brst_extof_oxygen_P3_flux_t3\n",
      "mms1_epd_eis_brst_extof_oxygen_P3_flux_t4\n",
      "mms1_epd_eis_brst_extof_oxygen_P3_flux_t5\n",
      "mms1_epd_eis_brst_extof_dump_counts_t0\n",
      "mms1_epd_eis_brst_extof_dump_counts_t1\n",
      "mms1_epd_eis_brst_extof_dump_counts_t2\n",
      "mms1_epd_eis_brst_extof_dump_counts_t3\n",
      "mms1_epd_eis_brst_extof_dump_counts_t4\n",
      "mms1_epd_eis_brst_extof_dump_counts_t5\n",
      "mms1_epd_eis_brst_extof_dump_cps_t0\n",
      "mms1_epd_eis_brst_extof_dump_cps_t1\n",
      "mms1_epd_eis_brst_extof_dump_cps_t2\n",
      "mms1_epd_eis_brst_extof_dump_cps_t3\n",
      "mms1_epd_eis_brst_extof_dump_cps_t4\n",
      "mms1_epd_eis_brst_extof_dump_cps_t5\n",
      "mms1_epd_eis_brst_extof_dump_flux_t0\n",
      "mms1_epd_eis_brst_extof_dump_flux_t1\n",
      "mms1_epd_eis_brst_extof_dump_flux_t2\n",
      "mms1_epd_eis_brst_extof_dump_flux_t3\n",
      "mms1_epd_eis_brst_extof_dump_flux_t4\n",
      "mms1_epd_eis_brst_extof_dump_flux_t5\n",
      "mms1_epd_eis_brst_extof_pitch_angle_t0\n",
      "mms1_epd_eis_brst_extof_pitch_angle_t1\n",
      "mms1_epd_eis_brst_extof_pitch_angle_t2\n",
      "mms1_epd_eis_brst_extof_pitch_angle_t3\n",
      "mms1_epd_eis_brst_extof_pitch_angle_t4\n",
      "mms1_epd_eis_brst_extof_pitch_angle_t5\n",
      "mms1_epd_eis_brst_extof_look_t0\n",
      "mms1_epd_eis_brst_extof_look_t1\n",
      "mms1_epd_eis_brst_extof_look_t2\n",
      "mms1_epd_eis_brst_extof_look_t3\n",
      "mms1_epd_eis_brst_extof_look_t4\n",
      "mms1_epd_eis_brst_extof_look_t5\n",
      "mms1_epd_eis_brst_extof_b\n",
      "mms1_epd_eis_brst_extof_position_gse\n",
      "mms1_epd_eis_brst_extof_position_gsm\n",
      "mms1_epd_eis_brst_extof_moon_gse\n",
      "mms1_epd_eis_brst_extof_sc_to_gse\n",
      "mms1_epd_eis_brst_extof_gse_to_gsm\n",
      "mms1_epd_eis_brst_extof_r\n",
      "mms1_epd_eis_brst_extof_l\n",
      "mms1_epd_eis_brst_extof_gse_lat\n",
      "mms1_epd_eis_brst_extof_gse_lon\n",
      "mms1_epd_eis_brst_extof_gsm_lat\n",
      "mms1_epd_eis_brst_extof_gsm_lon\n",
      "mms1_epd_eis_brst_extof_sm_lat\n",
      "mms1_epd_eis_brst_extof_sm_lon\n",
      "mms1_epd_eis_brst_extof_orbit_num\n",
      "mms1_epd_eis_brst_extof_ssd0\n",
      "mms1_epd_eis_brst_extof_ssd1\n",
      "mms1_epd_eis_brst_extof_ssd2\n",
      "mms1_epd_eis_brst_extof_ssd3\n",
      "mms1_epd_eis_brst_extof_ssd4\n",
      "mms1_epd_eis_brst_extof_ssd5\n",
      "mms1_epd_eis_brst_extof_vep\n",
      "mms1_epd_eis_brst_extof_start0anode\n",
      "mms1_epd_eis_brst_extof_stop0anode\n",
      "mms1_epd_eis_brst_extof_pulseheight\n",
      "mms1_epd_eis_brst_extof_vtofxee\n",
      "mms1_epd_eis_brst_extof_vtofxphe\n",
      "mms1_epd_eis_brst_extof_proton_P3_flux_t0_spin\n",
      "mms1_epd_eis_brst_extof_proton_P3_flux_t1_spin\n",
      "mms1_epd_eis_brst_extof_proton_P3_flux_t2_spin\n",
      "mms1_epd_eis_brst_extof_proton_P3_flux_t3_spin\n",
      "mms1_epd_eis_brst_extof_proton_P3_flux_t4_spin\n",
      "mms1_epd_eis_brst_extof_proton_P3_flux_t5_spin\n",
      "mms1_epd_eis_brst_extof_oxygen_P3_flux_t0_spin\n",
      "mms1_epd_eis_brst_extof_oxygen_P3_flux_t1_spin\n",
      "mms1_epd_eis_brst_extof_oxygen_P3_flux_t2_spin\n",
      "mms1_epd_eis_brst_extof_oxygen_P3_flux_t3_spin\n",
      "mms1_epd_eis_brst_extof_oxygen_P3_flux_t4_spin\n",
      "mms1_epd_eis_brst_extof_oxygen_P3_flux_t5_spin\n",
      "mms1_epd_eis_brst_extof_alpha_P3_flux_t0_spin\n",
      "mms1_epd_eis_brst_extof_alpha_P3_flux_t1_spin\n",
      "mms1_epd_eis_brst_extof_alpha_P3_flux_t2_spin\n",
      "mms1_epd_eis_brst_extof_alpha_P3_flux_t3_spin\n",
      "mms1_epd_eis_brst_extof_alpha_P3_flux_t4_spin\n",
      "mms1_epd_eis_brst_extof_alpha_P3_flux_t5_spin\n",
      "mms1_epd_eis_brst_extof_proton_flux_omni\n",
      "mms1_epd_eis_brst_extof_oxygen_flux_omni\n",
      "mms1_epd_eis_brst_extof_alpha_flux_omni\n",
      "mms1_epd_eis_brst_extof_proton_flux_omni_spin\n",
      "mms1_epd_eis_brst_extof_oxygen_flux_omni_spin\n",
      "mms1_epd_eis_brst_extof_alpha_flux_omni_spin\n"
     ]
    }
   ],
   "source": "data = pyspedas.projects.mms.eis(trange=['2015-10-16/13:06', '2015-10-16/13:07'], datatype='extof', data_rate='brst')"
  },
  {
   "cell_type": "code",
   "execution_count": 55,
   "metadata": {},
   "outputs": [],
   "source": [
    "tplot('mms1_epd_eis_brst_extof_proton_flux_omni')"
   ]
  },
  {
   "cell_type": "markdown",
   "metadata": {},
   "source": [
    "## Calculate the EIS pitch angle distributions"
   ]
  },
  {
   "cell_type": "markdown",
   "metadata": {},
   "source": [
    "Just like in IDL, we have mms_eis_pad to calculate the EIS pitch angle distributions\n",
    "\n",
    "Note: we also have the full FEEPS omni-directional spectra, and FEEPS pitch angle distributions"
   ]
  },
  {
   "cell_type": "code",
   "execution_count": 56,
   "metadata": {},
   "outputs": [],
   "source": [
    "from pyspedas import mms_eis_pad"
   ]
  },
  {
   "cell_type": "code",
   "execution_count": 57,
   "metadata": {},
   "outputs": [
    {
     "data": {
      "text/plain": [
       "['mms1_epd_eis_brst_extof_56keV_proton_flux_omni_pad',\n",
       " 'mms1_epd_eis_brst_extof_64keV_proton_flux_omni_pad',\n",
       " 'mms1_epd_eis_brst_extof_72keV_proton_flux_omni_pad',\n",
       " 'mms1_epd_eis_brst_extof_82keV_proton_flux_omni_pad',\n",
       " 'mms1_epd_eis_brst_extof_94keV_proton_flux_omni_pad',\n",
       " 'mms1_epd_eis_brst_extof_107keV_proton_flux_omni_pad',\n",
       " 'mms1_epd_eis_brst_extof_121keV_proton_flux_omni_pad',\n",
       " 'mms1_epd_eis_brst_extof_138keV_proton_flux_omni_pad',\n",
       " 'mms1_epd_eis_brst_extof_156keV_proton_flux_omni_pad',\n",
       " 'mms1_epd_eis_brst_extof_178keV_proton_flux_omni_pad',\n",
       " 'mms1_epd_eis_brst_extof_203keV_proton_flux_omni_pad',\n",
       " 'mms1_epd_eis_brst_extof_230keV_proton_flux_omni_pad',\n",
       " 'mms1_epd_eis_brst_extof_262keV_proton_flux_omni_pad',\n",
       " 'mms1_epd_eis_brst_extof_298keV_proton_flux_omni_pad',\n",
       " 'mms1_epd_eis_brst_extof_340keV_proton_flux_omni_pad',\n",
       " 'mms1_epd_eis_brst_extof_387keV_proton_flux_omni_pad',\n",
       " 'mms1_epd_eis_brst_extof_441keV_proton_flux_omni_pad',\n",
       " 'mms1_epd_eis_brst_extof_502keV_proton_flux_omni_pad',\n",
       " 'mms1_epd_eis_brst_extof_571keV_proton_flux_omni_pad',\n",
       " 'mms1_epd_eis_brst_extof_650keV_proton_flux_omni_pad',\n",
       " 'mms1_epd_eis_brst_extof_740keV_proton_flux_omni_pad',\n",
       " 'mms1_epd_eis_brst_extof_proton_flux_omni_pads',\n",
       " 'mms1_epd_eis_brst_extof_56-740keV_proton_flux_omni_pad',\n",
       " 'mms1_epd_eis_brst_extof_56keV_proton_flux_omni_pad_spin',\n",
       " 'mms1_epd_eis_brst_extof_64keV_proton_flux_omni_pad_spin',\n",
       " 'mms1_epd_eis_brst_extof_72keV_proton_flux_omni_pad_spin',\n",
       " 'mms1_epd_eis_brst_extof_82keV_proton_flux_omni_pad_spin',\n",
       " 'mms1_epd_eis_brst_extof_94keV_proton_flux_omni_pad_spin',\n",
       " 'mms1_epd_eis_brst_extof_107keV_proton_flux_omni_pad_spin',\n",
       " 'mms1_epd_eis_brst_extof_121keV_proton_flux_omni_pad_spin',\n",
       " 'mms1_epd_eis_brst_extof_138keV_proton_flux_omni_pad_spin',\n",
       " 'mms1_epd_eis_brst_extof_156keV_proton_flux_omni_pad_spin',\n",
       " 'mms1_epd_eis_brst_extof_178keV_proton_flux_omni_pad_spin',\n",
       " 'mms1_epd_eis_brst_extof_203keV_proton_flux_omni_pad_spin',\n",
       " 'mms1_epd_eis_brst_extof_230keV_proton_flux_omni_pad_spin',\n",
       " 'mms1_epd_eis_brst_extof_262keV_proton_flux_omni_pad_spin',\n",
       " 'mms1_epd_eis_brst_extof_298keV_proton_flux_omni_pad_spin',\n",
       " 'mms1_epd_eis_brst_extof_340keV_proton_flux_omni_pad_spin',\n",
       " 'mms1_epd_eis_brst_extof_387keV_proton_flux_omni_pad_spin',\n",
       " 'mms1_epd_eis_brst_extof_441keV_proton_flux_omni_pad_spin',\n",
       " 'mms1_epd_eis_brst_extof_502keV_proton_flux_omni_pad_spin',\n",
       " 'mms1_epd_eis_brst_extof_571keV_proton_flux_omni_pad_spin',\n",
       " 'mms1_epd_eis_brst_extof_650keV_proton_flux_omni_pad_spin',\n",
       " 'mms1_epd_eis_brst_extof_740keV_proton_flux_omni_pad_spin',\n",
       " 'mms1_epd_eis_brst_extof_56-740keV_proton_flux_omni_pad_spin']"
      ]
     },
     "execution_count": 57,
     "metadata": {},
     "output_type": "execute_result"
    }
   ],
   "source": [
    "mms_eis_pad(data_rate='brst', datatype='extof')"
   ]
  },
  {
   "cell_type": "code",
   "execution_count": 58,
   "metadata": {},
   "outputs": [],
   "source": [
    "tplot('mms1_epd_eis_brst_extof_56-740keV_proton_flux_omni_pad')"
   ]
  },
  {
   "cell_type": "markdown",
   "metadata": {},
   "source": [
    "## Orbit plots"
   ]
  },
  {
   "cell_type": "code",
   "execution_count": 59,
   "metadata": {},
   "outputs": [
    {
     "name": "stderr",
     "output_type": "stream",
     "text": [
      "\n",
      "Bad key \"text.kerning_factor\" on line 4 in\n",
      "/Users/eric/anaconda3/lib/python3.7/site-packages/matplotlib/mpl-data/stylelib/_classic_test_patch.mplstyle.\n",
      "You probably need to get an updated matplotlibrc file from\n",
      "https://github.com/matplotlib/matplotlib/blob/v3.1.3/matplotlibrc.template\n",
      "or from the matplotlib source distribution\n"
     ]
    }
   ],
   "source": "from pyspedas.projects.mms import mms_orbit_plot"
  },
  {
   "cell_type": "code",
   "execution_count": 60,
   "metadata": {},
   "outputs": [
    {
     "name": "stderr",
     "output_type": "stream",
     "text": [
      "18-May-20 09:31:40: Loading /Volumes/data/data/mms/mms1/mec/srvy/l2/ephts04d/2015/10/mms1_mec_srvy_l2_ephts04d_20151016_v2.0.0.cdf\n",
      "18-May-20 09:31:40: Loading /Volumes/data/data/mms/mms2/mec/srvy/l2/ephts04d/2015/10/mms2_mec_srvy_l2_ephts04d_20151016_v2.0.0.cdf\n",
      "18-May-20 09:31:40: Loading /Volumes/data/data/mms/mms3/mec/srvy/l2/ephts04d/2015/10/mms3_mec_srvy_l2_ephts04d_20151016_v2.0.0.cdf\n",
      "18-May-20 09:31:40: Loading /Volumes/data/data/mms/mms4/mec/srvy/l2/ephts04d/2015/10/mms4_mec_srvy_l2_ephts04d_20151016_v2.0.0.cdf\n",
      "18-May-20 09:31:42: /Users/eric/anaconda3/lib/python3.7/site-packages/pyspedas/mms/mms_orbit_plot.py:63: MatplotlibDeprecationWarning: Adding an axes using the same arguments as a previous axes currently reuses the earlier instance.  In a future version, a new instance will always be created and returned.  Meanwhile, this warning can be suppressed, and the future behavior ensured, by passing a unique label to each axes instance.\n",
      "  plt.axes().set_aspect('equal')\n",
      "\n"
     ]
    },
    {
     "name": "stdout",
     "output_type": "stream",
     "text": [
      "Time clip was applied to: mms1_mec_r_gse\n",
      "Time clip was applied to: mms1_mec_r_gse2000\n",
      "Time clip was applied to: mms2_mec_r_gse\n",
      "Time clip was applied to: mms2_mec_r_gse2000\n",
      "Time clip was applied to: mms3_mec_r_gse\n",
      "Time clip was applied to: mms3_mec_r_gse2000\n",
      "Time clip was applied to: mms4_mec_r_gse\n",
      "Time clip was applied to: mms4_mec_r_gse2000\n",
      "Loaded variables:\n",
      "mms1_mec_r_gse\n",
      "mms1_mec_r_gse2000\n",
      "mms2_mec_r_gse\n",
      "mms2_mec_r_gse2000\n",
      "mms3_mec_r_gse\n",
      "mms3_mec_r_gse2000\n",
      "mms4_mec_r_gse\n",
      "mms4_mec_r_gse2000\n"
     ]
    },
    {
     "data": {
      "image/png": "[encoded data removed]",
      "text/plain": [
       "<Figure size 432x288 with 1 Axes>"
      ]
     },
     "metadata": {
      "needs_background": "light"
     },
     "output_type": "display_data"
    }
   ],
   "source": [
    "mms_orbit_plot(trange=['2015-10-16/12:00', '2015-10-17'])"
   ]
  },
  {
   "cell_type": "markdown",
   "metadata": {},
   "source": [
    "## Testing\n",
    "\n",
    "We have a large test suite that is automatically ran on a macOS instance in the cloud with every commit; the status can be found at:\n",
    "\n",
    "https://github.com/spedas/pyspedas\n",
    "\n",
    "For MMS, we currently have >90% test coverage\n",
    "\n",
    "We also have validation tests as part of our IDL test suite; these load some data in IDL and Python and compare the results, and are ran whenever I run the full IDL test suite.\n",
    "\n",
    "## More MMS examples\n",
    "\n",
    "You can find more MMS examples at:\n",
    "\n",
    "https://github.com/spedas/mms-examples\n",
    "\n",
    "Clicking the images should take you to a Jupyter notebook that produces that figure\n",
    "\n",
    "## Other missions\n",
    "\n",
    "We have initial support for the following missions using this same `pyspedas.mission.instrument()` syntax:\n",
    "\n",
    "- Advanced Composition Explorer (ACE)\n",
    "- Arase (ERG)\n",
    "- Cluster\n",
    "- Colorado Student Space Weather Experiment (CSSWE)\n",
    "- Deep Space Climate Observatory (DSCOVR)\n",
    "- Equator-S\n",
    "- Fast Auroral Snapshot Explorer (FAST)\n",
    "- Geotail\n",
    "- Geostationary Operational Environmental Satellite (GOES)\n",
    "- Imager for Magnetopause-to-Aurora Global Exploration (IMAGE)\n",
    "- Mars Atmosphere and Volatile Evolution (MAVEN)\n",
    "- Magnetic Induction Coil Array (MICA)\n",
    "- Magnetospheric Multiscale (MMS)\n",
    "- OMNI\n",
    "- Polar Orbiting Environmental Satellites (POES)\n",
    "- Polar\n",
    "- Parker Solar Probe (PSP)\n",
    "- Van Allen Probes (RBSP)\n",
    "- Solar Terrestrial Relations Observatory (STEREO)\n",
    "- Time History of Events and Macroscale Interactions during Substorms (THEMIS)\n",
    "- Two Wide-Angle Imaging Neutral-Atom Spectrometers (TWINS)\n",
    "- Ulysses\n",
    "- Wind\n",
    "\n",
    "\n",
    "MMS is the furthest along. We're planning on having a multi-mission webinar this month, where we'll show data loaded from several of these. \n",
    "\n",
    "To find more information and examples for other missions, please see the READMEs (by clicking on the mission name on the index page at GitHub):\n",
    "\n",
    "https://github.com/spedas/pyspedas\n",
    "\n",
    "## How to contribute\n",
    "\n",
    "Try it out! And please report bugs, missing documentation, or any other issues so that we can fix them (feel free to email me or submit them through GitHub issues). If there's a missing dataset or analysis tool that you would like to see included, please let us know! "
   ]
  },
  {
   "cell_type": "code",
   "execution_count": null,
   "metadata": {},
   "outputs": [],
   "source": []
  }
 ],
 "metadata": {
  "kernelspec": {
   "display_name": "Python 3",
   "language": "python",
   "name": "python3"
  },
  "language_info": {
   "codemirror_mode": {
    "name": "ipython",
    "version": 3
   },
   "file_extension": ".py",
   "mimetype": "text/x-python",
   "name": "python",
   "nbconvert_exporter": "python",
   "pygments_lexer": "ipython3",
   "version": "3.7.6"
  }
 },
 "nbformat": 4,
 "nbformat_minor": 2
}
