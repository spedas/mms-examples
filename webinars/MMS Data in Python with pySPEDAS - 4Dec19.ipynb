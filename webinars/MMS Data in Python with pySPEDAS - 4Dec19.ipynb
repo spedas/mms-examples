{
 "cells": [
  {
   "cell_type": "markdown",
   "metadata": {},
   "source": [
    "# MMS Data in Python with pySPEDAS\n",
    "\n",
    "Eric Grimes, egrimes@igpp.ucla.edu\n",
    "\n",
    "December 4, 2019\n",
    "\n",
    "Notes: \n",
    "* this webinar will be recorded and posted to Youtube\n",
    "* all of this is still beta"
   ]
  },
  {
   "cell_type": "markdown",
   "source": [
    "This command sets up the PySPEDAS environment when running in Google Colab.  You can skip it or comment it out if you're running this notebook in an environment that already has PySPEDAS installed."
   ],
   "metadata": {
    "collapsed": false
   }
  },
  {
   "cell_type": "code",
   "execution_count": null,
   "outputs": [],
   "source": [
    "!pip install pyspedas"
   ],
   "metadata": {
    "collapsed": false
   }
  },
  {
   "cell_type": "markdown",
   "metadata": {},
   "source": [
    "### Tentative agenda:\n",
    "\n",
    "- Introduction to the load routines and configuration options\n",
    "- Ephemeris/Coordinates data\n",
    "- FIELDS data, including curlometer calculations\n",
    "- ASPOC data\n",
    "- EPD (FEEPS/EIS) data, including pitch angle distributions\n",
    "- Plasma (FPI/HPCA) data"
   ]
  },
  {
   "cell_type": "markdown",
   "metadata": {},
   "source": [
    "Note: all of this depends heavily on the hard work of the pyTplot development team at LASP:\n",
    "\n",
    "https://github.com/MAVENSDC/PyTplot\n",
    "\n",
    "https://pyspedas.readthedocs.io/en/latest/"
   ]
  },
  {
   "cell_type": "code",
   "execution_count": 1,
   "metadata": {},
   "outputs": [],
   "source": "from pyspedas import tplot"
  },
  {
   "cell_type": "markdown",
   "metadata": {},
   "source": [
    "## Introduction to the load routines and configuration options"
   ]
  },
  {
   "cell_type": "markdown",
   "metadata": {},
   "source": [
    "The MMS load routines are simple functions with options set via keywords. If the data files don't exist locally, they're downloaded from the SDC or your network mirror. \n",
    "\n",
    "The available load routines are:\n",
    "\n",
    "- Fluxgate Magnetometer (fgm)\n",
    "- Search-coil Magnetometer (scm)\n",
    "- Combined FGM+SCM data (fsm)\n",
    "- Electric field Double Probe (edp)\n",
    "- Electron Drift Instrument (edi)\n",
    "- Fast Plasma Investigation (fpi)\n",
    "- Hot Plasma Composition Analyzer (hpca)\n",
    "- Energetic Ion Spectrometer (eis)\n",
    "- Fly's Eye Energetic Particle Sensor (feeps)\n",
    "- Active Spacecraft Potential Control (aspoc)\n",
    "- Digital Signal Processor (dsp)\n",
    "- Ephemeris and Coordinates (mec)\n",
    "\n",
    "You can import the load routines from the `mms` module by their name, e.g., \n",
    "\n"
   ]
  },
  {
   "cell_type": "code",
   "execution_count": 2,
   "metadata": {},
   "outputs": [],
   "source": "from pyspedas.projects.mms import mec"
  },
  {
   "cell_type": "markdown",
   "metadata": {},
   "source": [
    "If you prefer the IDL syntax, you can import the load routines using their IDL names, e.g., "
   ]
  },
  {
   "cell_type": "code",
   "execution_count": 3,
   "metadata": {},
   "outputs": [],
   "source": [
    "from pyspedas import mms_load_mec"
   ]
  },
  {
   "cell_type": "markdown",
   "metadata": {},
   "source": [
    "The first time you run a load routine, you'll probably be prompted for a username/password. Leave these blank if you don't have an SDC username/password. \n",
    "\n",
    "If you've previously saved an SDC username/password with IDL, pySPEDAS should find and use those credentials."
   ]
  },
  {
   "cell_type": "markdown",
   "metadata": {},
   "source": [
    "### Configuration options"
   ]
  },
  {
   "cell_type": "markdown",
   "metadata": {},
   "source": [
    "Global configuration options are set in the `CONFIG` dictionary in `mms_config.py`\n",
    "\n",
    "* `local_data_dir`: your local data directory; can also be set with the `MMS_DATA_DIR` environment variable (ideal)\n",
    "\n",
    "* `mirror_data_dir`: read-only network mirror\n",
    "\n",
    "* `download_only`: download the data, but don't load the files into pyTplot variables\n",
    "\n",
    "* `no_download`: don't contact the SDC; only load the files if they exist on the network mirror or in your local data directory"
   ]
  },
  {
   "cell_type": "markdown",
   "metadata": {},
   "source": [
    "### Load routine options\n",
    "\n",
    "* `trange`: two-element array specifying the time range in UT; accepts a wide variety of formats, including datetime objects\n",
    "\n",
    "* `probe`: spacecraft probe # (int, str or list of ints or strs)\n",
    "\n",
    "* `level`: data level (str or list of strs)\n",
    "\n",
    "* `data_rate`: instrument data rate (str or list of strs)\n",
    "\n",
    "* `datatype`: instrument datatype (str or list of strs)\n",
    "\n",
    "* `time_clip`: if `True`, time clip the data after loading the pyTplot variables\n",
    "\n",
    "* `varformat`: limit the variables loaded from the CDF files (str)\n",
    "\n",
    "* `get_support_data`: if `True`, load `support_data` data from the CDF files\n",
    "\n",
    "* `suffix`: append a suffix to the loaded variables (str)\n",
    "\n",
    "* `available`: if `True`, only return a list of available data files from the SDC (no downloading)\n",
    "\n",
    "* `no_update`: if `True`, only load local or mirror data\n",
    "\n",
    "* `notplot`: if `True`, return the CDF data in `numpy` arrays instead of creating pyTplot variables\n",
    "\n",
    "* `cdf_version`: load only a specific CDF version (str)\n",
    "\n",
    "* `min_version`: set a minimum CDF version to load (str)\n",
    "\n",
    "* `latest_version`: if `True`, only load the latest CDF version (i.e., X.Y.Z have to match)\n",
    "\n",
    "* `major_version`: if `True`, load the latest major CDF version (i.e., latest X in X.Y.Z)\n",
    "\n",
    "* `center_measurement`: (FPI and HPCA only) if `True`, center the measurement to the middle of the accumulation interval \n",
    " \n",
    "\n",
    "Notes: \n",
    "- all options have defaults (e.g., probe 1, fast survey L2 data are loaded by default)\n",
    "- some load routines have additional options; all should be documented in the docstrings - use `help` to see all options"
   ]
  },
  {
   "cell_type": "markdown",
   "metadata": {},
   "source": [
    "## Ephemeris/Coordinates data\n",
    "\n",
    "https://lasp.colorado.edu/mms/sdc/public/datasets/mec/\n",
    "\n",
    "To get started, load the MMS1 spacecraft position and velocity data in GSE coordinates for October 16, 2015"
   ]
  },
  {
   "cell_type": "code",
   "execution_count": 4,
   "metadata": {},
   "outputs": [
    {
     "name": "stderr",
     "output_type": "stream",
     "text": [
      "04-Dec-19 10:11:51: Loading /Volumes/data/data/mms/mms1/mec/srvy/l2/ephts04d/2015/10/mms1_mec_srvy_l2_ephts04d_20151016_v2.0.0.cdf\n"
     ]
    },
    {
     "name": "stdout",
     "output_type": "stream",
     "text": [
      "Loaded variables:\n",
      "mms1_mec_dipole_tilt_suffix\n",
      "mms1_mec_gmst_suffix\n",
      "mms1_mec_mlat_suffix\n",
      "mms1_mec_mlt_suffix\n",
      "mms1_mec_l_dipole_suffix\n",
      "mms1_mec_quat_eci_to_bcs_suffix\n",
      "mms1_mec_quat_eci_to_dbcs_suffix\n",
      "mms1_mec_quat_eci_to_dmpa_suffix\n",
      "mms1_mec_quat_eci_to_smpa_suffix\n",
      "mms1_mec_quat_eci_to_dsl_suffix\n",
      "mms1_mec_quat_eci_to_ssl_suffix\n",
      "mms1_mec_L_vec_suffix\n",
      "mms1_mec_Z_vec_suffix\n",
      "mms1_mec_P_vec_suffix\n",
      "mms1_mec_L_phase_suffix\n",
      "mms1_mec_Z_phase_suffix\n",
      "mms1_mec_P_phase_suffix\n",
      "mms1_mec_kp_suffix\n",
      "mms1_mec_dst_suffix\n",
      "mms1_mec_earth_eclipse_flag_suffix\n",
      "mms1_mec_moon_eclipse_flag_suffix\n",
      "mms1_mec_r_eci_suffix\n",
      "mms1_mec_v_eci_suffix\n",
      "mms1_mec_r_gsm_suffix\n",
      "mms1_mec_v_gsm_suffix\n",
      "mms1_mec_quat_eci_to_gsm_suffix\n",
      "mms1_mec_r_geo_suffix\n",
      "mms1_mec_v_geo_suffix\n",
      "mms1_mec_quat_eci_to_geo_suffix\n",
      "mms1_mec_r_sm_suffix\n",
      "mms1_mec_v_sm_suffix\n",
      "mms1_mec_quat_eci_to_sm_suffix\n",
      "mms1_mec_r_gse_suffix\n",
      "mms1_mec_v_gse_suffix\n",
      "mms1_mec_quat_eci_to_gse_suffix\n",
      "mms1_mec_r_gse2000_suffix\n",
      "mms1_mec_v_gse2000_suffix\n",
      "mms1_mec_quat_eci_to_gse2000_suffix\n",
      "mms1_mec_geod_lat_suffix\n",
      "mms1_mec_geod_lon_suffix\n",
      "mms1_mec_geod_height_suffix\n",
      "mms1_mec_r_sun_de421_eci_suffix\n",
      "mms1_mec_r_moon_de421_eci_suffix\n",
      "mms1_mec_fieldline_type_suffix\n",
      "mms1_mec_bsc_gsm_suffix\n",
      "mms1_mec_loss_cone_angle_s_suffix\n",
      "mms1_mec_loss_cone_angle_n_suffix\n",
      "mms1_mec_pfs_geod_latlon_suffix\n",
      "mms1_mec_pfn_geod_latlon_suffix\n",
      "mms1_mec_pfs_gsm_suffix\n",
      "mms1_mec_bfs_gsm_suffix\n",
      "mms1_mec_pfn_gsm_suffix\n",
      "mms1_mec_bfn_gsm_suffix\n",
      "mms1_mec_pmin_gsm_suffix\n",
      "mms1_mec_bmin_gsm_suffix\n"
     ]
    }
   ],
   "source": [
    "mec_vars = mec(trange=['2015-10-16', '2015-10-17'], suffix='_suffix')"
   ]
  },
  {
   "cell_type": "markdown",
   "metadata": {},
   "source": [
    "To list the variables that were loaded, use `tplot_names`, e.g., "
   ]
  },
  {
   "cell_type": "code",
   "execution_count": 5,
   "metadata": {},
   "outputs": [],
   "source": "from pyspedas import tplot_names"
  },
  {
   "cell_type": "code",
   "execution_count": 7,
   "metadata": {},
   "outputs": [
    {
     "name": "stdout",
     "output_type": "stream",
     "text": [
      "0 : mms1_mec_dipole_tilt_suffix\n",
      "1 : mms1_mec_gmst_suffix\n",
      "2 : mms1_mec_mlat_suffix\n",
      "3 : mms1_mec_mlt_suffix\n",
      "4 : mms1_mec_l_dipole_suffix\n",
      "5 : mms1_mec_quat_eci_to_bcs_suffix\n",
      "6 : mms1_mec_quat_eci_to_dbcs_suffix\n",
      "7 : mms1_mec_quat_eci_to_dmpa_suffix\n",
      "8 : mms1_mec_quat_eci_to_smpa_suffix\n",
      "9 : mms1_mec_quat_eci_to_dsl_suffix\n",
      "10 : mms1_mec_quat_eci_to_ssl_suffix\n",
      "11 : mms1_mec_L_vec_suffix\n",
      "12 : mms1_mec_Z_vec_suffix\n",
      "13 : mms1_mec_P_vec_suffix\n",
      "14 : mms1_mec_L_phase_suffix\n",
      "15 : mms1_mec_Z_phase_suffix\n",
      "16 : mms1_mec_P_phase_suffix\n",
      "17 : mms1_mec_kp_suffix\n",
      "18 : mms1_mec_dst_suffix\n",
      "19 : mms1_mec_earth_eclipse_flag_suffix\n",
      "20 : mms1_mec_moon_eclipse_flag_suffix\n",
      "21 : mms1_mec_r_eci_suffix\n",
      "22 : mms1_mec_v_eci_suffix\n",
      "23 : mms1_mec_r_gsm_suffix\n",
      "24 : mms1_mec_v_gsm_suffix\n",
      "25 : mms1_mec_quat_eci_to_gsm_suffix\n",
      "26 : mms1_mec_r_geo_suffix\n",
      "27 : mms1_mec_v_geo_suffix\n",
      "28 : mms1_mec_quat_eci_to_geo_suffix\n",
      "29 : mms1_mec_r_sm_suffix\n",
      "30 : mms1_mec_v_sm_suffix\n",
      "31 : mms1_mec_quat_eci_to_sm_suffix\n",
      "32 : mms1_mec_r_gse_suffix\n",
      "33 : mms1_mec_v_gse_suffix\n",
      "34 : mms1_mec_quat_eci_to_gse_suffix\n",
      "35 : mms1_mec_r_gse2000_suffix\n",
      "36 : mms1_mec_v_gse2000_suffix\n",
      "37 : mms1_mec_quat_eci_to_gse2000_suffix\n",
      "38 : mms1_mec_geod_lat_suffix\n",
      "39 : mms1_mec_geod_lon_suffix\n",
      "40 : mms1_mec_geod_height_suffix\n",
      "41 : mms1_mec_r_sun_de421_eci_suffix\n",
      "42 : mms1_mec_r_moon_de421_eci_suffix\n",
      "43 : mms1_mec_fieldline_type_suffix\n",
      "44 : mms1_mec_bsc_gsm_suffix\n",
      "45 : mms1_mec_loss_cone_angle_s_suffix\n",
      "46 : mms1_mec_loss_cone_angle_n_suffix\n",
      "47 : mms1_mec_pfs_geod_latlon_suffix\n",
      "48 : mms1_mec_pfn_geod_latlon_suffix\n",
      "49 : mms1_mec_pfs_gsm_suffix\n",
      "50 : mms1_mec_bfs_gsm_suffix\n",
      "51 : mms1_mec_pfn_gsm_suffix\n",
      "52 : mms1_mec_bfn_gsm_suffix\n",
      "53 : mms1_mec_pmin_gsm_suffix\n",
      "54 : mms1_mec_bmin_gsm_suffix\n"
     ]
    }
   ],
   "source": [
    "tnames = tplot_names()"
   ]
  },
  {
   "cell_type": "markdown",
   "metadata": {},
   "source": [
    "Now plot the position and velocity"
   ]
  },
  {
   "cell_type": "code",
   "execution_count": 8,
   "metadata": {},
   "outputs": [],
   "source": [
    "tplot(['mms1_mec_r_gse_suffix', 'mms1_mec_v_gse_suffix'])"
   ]
  },
  {
   "cell_type": "markdown",
   "metadata": {},
   "source": [
    "Use `get_data` to take the data out of a pyTplot variable and store it into numpy arrays"
   ]
  },
  {
   "cell_type": "code",
   "execution_count": 9,
   "metadata": {},
   "outputs": [],
   "source": "from pyspedas import get_data"
  },
  {
   "cell_type": "code",
   "execution_count": 10,
   "metadata": {},
   "outputs": [],
   "source": [
    "times, pos_values = get_data('mms1_mec_r_gse_suffix')"
   ]
  },
  {
   "cell_type": "markdown",
   "metadata": {},
   "source": [
    "The `times` values are unix times"
   ]
  },
  {
   "cell_type": "code",
   "execution_count": 11,
   "metadata": {},
   "outputs": [
    {
     "data": {
      "text/plain": [
       "array([1.44495360e+09, 1.44495363e+09, 1.44495366e+09, 1.44495369e+09,\n",
       "       1.44495372e+09])"
      ]
     },
     "execution_count": 11,
     "metadata": {},
     "output_type": "execute_result"
    }
   ],
   "source": [
    "times[0:5]"
   ]
  },
  {
   "cell_type": "markdown",
   "metadata": {},
   "source": [
    "and the position values are in km"
   ]
  },
  {
   "cell_type": "code",
   "execution_count": 13,
   "metadata": {},
   "outputs": [
    {
     "data": {
      "text/plain": [
       "array([-4790.58770764, -6097.00841809,   530.77191077])"
      ]
     },
     "execution_count": 13,
     "metadata": {},
     "output_type": "execute_result"
    }
   ],
   "source": [
    "pos_values[0, :]"
   ]
  },
  {
   "cell_type": "markdown",
   "metadata": {},
   "source": [
    "Set the `xarray` keyword to `True` to return the internal `xarray` object instead"
   ]
  },
  {
   "cell_type": "code",
   "execution_count": 14,
   "metadata": {},
   "outputs": [],
   "source": [
    "pos_xr = get_data('mms1_mec_r_gse_suffix', xarray=True)"
   ]
  },
  {
   "cell_type": "code",
   "execution_count": 15,
   "metadata": {},
   "outputs": [
    {
     "data": {
      "text/plain": [
       "<xarray.DataArray 'mms1_mec_r_gse_suffix' (time: 2880, v: 3)>\n",
       "array([[-4790.587708, -6097.008418,   530.771911],\n",
       "       [-4573.966493, -6286.58844 ,   558.536668],\n",
       "       [-4353.882641, -6471.410786,   585.87348 ],\n",
       "       ...,\n",
       "       [-2650.541192, -7702.488472,   783.95404 ],\n",
       "       [-2410.885478, -7846.838866,   806.678521],\n",
       "       [-2169.687613, -7986.176627,   828.88314 ]])\n",
       "Coordinates:\n",
       "  * time     (time) float64 1.445e+09 1.445e+09 ... 1.445e+09 1.445e+09\n",
       "Dimensions without coordinates: v\n",
       "Attributes:\n",
       "    plot_options:  {'xaxis_opt': {'axis_label': 'Time', 'crosshair': 'X', 'x_..."
      ]
     },
     "execution_count": 15,
     "metadata": {},
     "output_type": "execute_result"
    }
   ],
   "source": [
    "pos_xr"
   ]
  },
  {
   "cell_type": "markdown",
   "metadata": {},
   "source": [
    "Use `store_data` to create a pyTplot variable using numpy arrays"
   ]
  },
  {
   "cell_type": "code",
   "execution_count": 16,
   "metadata": {},
   "outputs": [],
   "source": "from pyspedas import store_data"
  },
  {
   "cell_type": "code",
   "execution_count": 17,
   "metadata": {},
   "outputs": [],
   "source": [
    "store_data('gse_pos_var', data={'x': times, 'y': pos_values/6371.2})"
   ]
  },
  {
   "cell_type": "code",
   "execution_count": 18,
   "metadata": {},
   "outputs": [],
   "source": [
    "tplot('gse_pos_var')"
   ]
  },
  {
   "cell_type": "markdown",
   "metadata": {},
   "source": [
    "Use `options` to set plot metadata"
   ]
  },
  {
   "cell_type": "code",
   "execution_count": 19,
   "metadata": {},
   "outputs": [],
   "source": "from pyspedas import options"
  },
  {
   "cell_type": "code",
   "execution_count": 20,
   "metadata": {},
   "outputs": [],
   "source": [
    "options('gse_pos_var', 'legend_names', ['X (Re)', 'Y (Re)', 'Z (Re)'])"
   ]
  },
  {
   "cell_type": "code",
   "execution_count": 21,
   "metadata": {},
   "outputs": [],
   "source": [
    "options('gse_pos_var', 'ytitle', 'MMS1 position in GSE')"
   ]
  },
  {
   "cell_type": "code",
   "execution_count": 24,
   "metadata": {},
   "outputs": [],
   "source": [
    "tplot('gse_pos_var')"
   ]
  },
  {
   "cell_type": "markdown",
   "metadata": {},
   "source": [
    "### Orbit plots"
   ]
  },
  {
   "cell_type": "markdown",
   "metadata": {},
   "source": [
    "To create an orbit plot using `matplotlib`:"
   ]
  },
  {
   "cell_type": "code",
   "execution_count": 26,
   "metadata": {
    "scrolled": false
   },
   "outputs": [
    {
     "name": "stderr",
     "output_type": "stream",
     "text": [
      "04-Dec-19 10:17:04: Loading /Volumes/data/data/mms/mms1/mec/srvy/l2/ephts04d/2015/10/mms1_mec_srvy_l2_ephts04d_20151016_v2.0.0.cdf\n",
      "04-Dec-19 10:17:04: Loading /Volumes/data/data/mms/mms2/mec/srvy/l2/ephts04d/2015/10/mms2_mec_srvy_l2_ephts04d_20151016_v2.0.0.cdf\n",
      "04-Dec-19 10:17:05: Loading /Volumes/data/data/mms/mms3/mec/srvy/l2/ephts04d/2015/10/mms3_mec_srvy_l2_ephts04d_20151016_v2.0.0.cdf\n",
      "04-Dec-19 10:17:05: Loading /Volumes/data/data/mms/mms4/mec/srvy/l2/ephts04d/2015/10/mms4_mec_srvy_l2_ephts04d_20151016_v2.0.0.cdf\n",
      "04-Dec-19 10:17:05: /Users/eric/anaconda3/lib/python3.7/site-packages/matplotlib/cbook/deprecation.py:107: MatplotlibDeprecationWarning: Adding an axes using the same arguments as a previous axes currently reuses the earlier instance.  In a future version, a new instance will always be created and returned.  Meanwhile, this warning can be suppressed, and the future behavior ensured, by passing a unique label to each axes instance.\n",
      "  warnings.warn(message, mplDeprecation, stacklevel=1)\n",
      "\n"
     ]
    },
    {
     "name": "stdout",
     "output_type": "stream",
     "text": [
      "Time clip returns full data set.\n",
      "Time clip returns full data set.\n",
      "Time clip returns full data set.\n",
      "Time clip returns full data set.\n",
      "Time clip returns full data set.\n",
      "Time clip returns full data set.\n",
      "Time clip returns full data set.\n",
      "Time clip returns full data set.\n",
      "Loaded variables:\n",
      "mms1_mec_r_gse\n",
      "mms1_mec_r_gse2000\n",
      "mms2_mec_r_gse\n",
      "mms2_mec_r_gse2000\n",
      "mms3_mec_r_gse\n",
      "mms3_mec_r_gse2000\n",
      "mms4_mec_r_gse\n",
      "mms4_mec_r_gse2000\n"
     ]
    },
    {
     "data": {
      "image/png": "[encoded data removed]",
      "text/plain": [
       "<Figure size 432x288 with 1 Axes>"
      ]
     },
     "metadata": {
      "needs_background": "light"
     },
     "output_type": "display_data"
    }
   ],
   "source": [
    "from pyspedas.projects.mms import mms_orbit_plot\n",
    "mms_orbit_plot(trange=['2015-10-16', '2015-10-17'])"
   ]
  },
  {
   "cell_type": "markdown",
   "metadata": {},
   "source": [
    "## FIELDS data\n",
    "\n",
    "https://lasp.colorado.edu/mms/sdc/public/datasets/fields/"
   ]
  },
  {
   "cell_type": "code",
   "execution_count": 27,
   "metadata": {},
   "outputs": [],
   "source": "from pyspedas.projects.mms import fgm, scm, edp, edi, dsp"
  },
  {
   "cell_type": "markdown",
   "metadata": {},
   "source": [
    "### FGM data\n",
    "\n",
    "Note: by default, FGM data flagged by the `flag` variable are set to NaN automatically when the data are loaded. To keep these flagged data, set the keyword `keep_flagged` to `True`"
   ]
  },
  {
   "cell_type": "code",
   "execution_count": 28,
   "metadata": {},
   "outputs": [
    {
     "name": "stderr",
     "output_type": "stream",
     "text": [
      "04-Dec-19 10:17:56: Loading /Volumes/data/data/mms/mms4/fgm/brst/l2/2015/10/16/mms4_fgm_brst_l2_20151016130524_v4.18.0.cdf\n"
     ]
    },
    {
     "name": "stdout",
     "output_type": "stream",
     "text": [
      "The lengths of x and y do not match!\n",
      "Time clip was applied to: mms4_fgm_b_gse_brst_l2\n",
      "Time clip was applied to: mms4_fgm_b_gsm_brst_l2\n",
      "Time clip was applied to: mms4_fgm_b_dmpa_brst_l2\n",
      "Time clip was applied to: mms4_fgm_b_bcs_brst_l2\n",
      "Time clip was applied to: mms4_fgm_flag_brst_l2\n",
      "Time clip was applied to: mms4_fgm_r_gse_brst_l2\n",
      "Time clip was applied to: mms4_fgm_r_gsm_brst_l2\n",
      "Time clip was applied to: mms4_fgm_hirange_brst_l2\n",
      "Time clip was applied to: mms4_fgm_bdeltahalf_brst_l2\n",
      "Time clip was applied to: mms4_fgm_stemp_brst_l2\n",
      "Time clip was applied to: mms4_fgm_etemp_brst_l2\n",
      "Time clip was applied to: mms4_fgm_mode_brst_l2\n",
      "Time clip error: No pytplot names were provided.\n",
      "Loaded variables:\n",
      "mms4_fgm_b_gse_brst_l2\n",
      "mms4_fgm_b_gsm_brst_l2\n",
      "mms4_fgm_b_dmpa_brst_l2\n",
      "mms4_fgm_b_bcs_brst_l2\n",
      "mms4_fgm_flag_brst_l2\n",
      "mms4_fgm_r_gse_brst_l2\n",
      "mms4_fgm_r_gsm_brst_l2\n",
      "mms4_fgm_hirange_brst_l2\n",
      "mms4_fgm_bdeltahalf_brst_l2\n",
      "mms4_fgm_stemp_brst_l2\n",
      "mms4_fgm_etemp_brst_l2\n",
      "mms4_fgm_mode_brst_l2\n",
      "mms4_fgm_rdeltahalf_brst_l2\n"
     ]
    }
   ],
   "source": [
    "fgm_vars = fgm(probe=4, \n",
    "               trange=['2015-10-16/13:06', '2015-10-16/13:07'], \n",
    "               data_rate='brst', \n",
    "               time_clip=True)"
   ]
  },
  {
   "cell_type": "code",
   "execution_count": 29,
   "metadata": {},
   "outputs": [],
   "source": [
    "tplot(['mms4_fgm_b_gse_brst_l2', 'mms4_fgm_b_gsm_brst_l2'])"
   ]
  },
  {
   "cell_type": "markdown",
   "metadata": {},
   "source": [
    "To load the burst mode GSE data from all 4 spacecraft at once:"
   ]
  },
  {
   "cell_type": "code",
   "execution_count": 38,
   "metadata": {},
   "outputs": [
    {
     "name": "stderr",
     "output_type": "stream",
     "text": [
      "04-Dec-19 10:21:28: Loading /Volumes/data/data/mms/mms1/fgm/brst/l2/2015/10/30/mms1_fgm_brst_l2_20151030051444_v4.18.0.cdf\n",
      "04-Dec-19 10:21:28: Loading /Volumes/data/data/mms/mms2/fgm/brst/l2/2015/10/30/mms2_fgm_brst_l2_20151030051444_v4.18.0.cdf\n",
      "04-Dec-19 10:21:29: Loading /Volumes/data/data/mms/mms3/fgm/brst/l2/2015/10/30/mms3_fgm_brst_l2_20151030051444_v4.18.0.cdf\n",
      "04-Dec-19 10:21:29: Loading /Volumes/data/data/mms/mms4/fgm/brst/l2/2015/10/30/mms4_fgm_brst_l2_20151030051444_v4.18.0.cdf\n"
     ]
    },
    {
     "name": "stdout",
     "output_type": "stream",
     "text": [
      "Time clip was applied to: mms1_fgm_b_gse_brst_l2\n",
      "Time clip was applied to: mms1_fgm_flag_brst_l2\n",
      "Problem time clipping: mms1_fgm_r_gse_brst_l2\n",
      "Time clip was applied to: mms2_fgm_b_gse_brst_l2\n",
      "Time clip was applied to: mms2_fgm_flag_brst_l2\n",
      "Problem time clipping: mms2_fgm_r_gse_brst_l2\n",
      "Time clip was applied to: mms3_fgm_b_gse_brst_l2\n",
      "Time clip was applied to: mms3_fgm_flag_brst_l2\n",
      "Problem time clipping: mms3_fgm_r_gse_brst_l2\n",
      "Time clip was applied to: mms4_fgm_b_gse_brst_l2\n",
      "Time clip was applied to: mms4_fgm_flag_brst_l2\n",
      "Problem time clipping: mms4_fgm_r_gse_brst_l2\n",
      "Loaded variables:\n",
      "mms1_fgm_b_gse_brst_l2\n",
      "mms1_fgm_r_gse_brst_l2\n",
      "mms2_fgm_b_gse_brst_l2\n",
      "mms2_fgm_r_gse_brst_l2\n",
      "mms3_fgm_b_gse_brst_l2\n",
      "mms3_fgm_r_gse_brst_l2\n",
      "mms4_fgm_b_gse_brst_l2\n",
      "mms4_fgm_r_gse_brst_l2\n"
     ]
    }
   ],
   "source": [
    "fgm_vars = fgm(probe=[1, 2, 3, 4], \n",
    "               trange=['2015-10-30/05:15:45', '2015-10-30/05:15:48'], \n",
    "               data_rate='brst', \n",
    "               time_clip=True, \n",
    "               varformat='*_gse_*')"
   ]
  },
  {
   "cell_type": "code",
   "execution_count": 32,
   "metadata": {},
   "outputs": [],
   "source": [
    "tplot(['mms1_fgm_b_gse_brst_l2', \n",
    "       'mms2_fgm_b_gse_brst_l2', \n",
    "       'mms3_fgm_b_gse_brst_l2', \n",
    "       'mms4_fgm_b_gse_brst_l2'])"
   ]
  },
  {
   "cell_type": "markdown",
   "metadata": {},
   "source": [
    "### Curlometer technique\n",
    "\n",
    "Note: \n",
    "* Based on the `mms_curl` code in IDL SPEDAS by Jonathan Eastwood and Tai Phan\n",
    "* For more info on this method, see: Chanteur, G., Spatial Interpolation for Four Spacecraft: Theory, Chapter 14 of Analysis methods for multi-spacecraft data, G. Paschmann and P. W. Daly (Eds.) ISSI Scientific Report SR-001. "
   ]
  },
  {
   "cell_type": "markdown",
   "metadata": {},
   "source": [
    "You can apply the curlometer technique using the `curlometer` function"
   ]
  },
  {
   "cell_type": "code",
   "execution_count": 33,
   "metadata": {},
   "outputs": [],
   "source": "from pyspedas.projects.mms import curlometer"
  },
  {
   "cell_type": "markdown",
   "metadata": {},
   "source": [
    "You'll need to provide the position and B-field variables in GSE coordinates"
   ]
  },
  {
   "cell_type": "code",
   "execution_count": 34,
   "metadata": {},
   "outputs": [],
   "source": [
    "positions = ['mms1_fgm_r_gse_brst_l2', 'mms2_fgm_r_gse_brst_l2', 'mms3_fgm_r_gse_brst_l2', 'mms4_fgm_r_gse_brst_l2']\n",
    "fields = ['mms1_fgm_b_gse_brst_l2', 'mms2_fgm_b_gse_brst_l2', 'mms3_fgm_b_gse_brst_l2', 'mms4_fgm_b_gse_brst_l2']"
   ]
  },
  {
   "cell_type": "code",
   "execution_count": 39,
   "metadata": {},
   "outputs": [
    {
     "name": "stdout",
     "output_type": "stream",
     "text": [
      "tinterpol (linear) was applied to: mms2_fgm_b_gse_brst_l2_i\n",
      "tinterpol (linear) was applied to: mms3_fgm_b_gse_brst_l2_i\n",
      "tinterpol (linear) was applied to: mms4_fgm_b_gse_brst_l2_i\n",
      "tinterpol (linear) was applied to: mms1_fgm_r_gse_brst_l2_i\n",
      "tinterpol (linear) was applied to: mms2_fgm_r_gse_brst_l2_i\n",
      "tinterpol (linear) was applied to: mms3_fgm_r_gse_brst_l2_i\n",
      "tinterpol (linear) was applied to: mms4_fgm_r_gse_brst_l2_i\n"
     ]
    }
   ],
   "source": [
    "curlometer_vars = curlometer(fields=fields, positions=positions)"
   ]
  },
  {
   "cell_type": "code",
   "execution_count": 37,
   "metadata": {},
   "outputs": [],
   "source": []
  },
  {
   "cell_type": "code",
   "execution_count": 40,
   "metadata": {},
   "outputs": [
    {
     "data": {
      "text/plain": [
       "['baryb', 'curlB', 'divB', 'jtotal', 'jpar', 'jperp', 'alpha', 'alphaparallel']"
      ]
     },
     "execution_count": 40,
     "metadata": {},
     "output_type": "execute_result"
    }
   ],
   "source": [
    "curlometer_vars"
   ]
  },
  {
   "cell_type": "code",
   "execution_count": 41,
   "metadata": {},
   "outputs": [],
   "source": [
    "tplot(['jtotal', 'jperp', 'jpar'])"
   ]
  },
  {
   "cell_type": "markdown",
   "metadata": {},
   "source": [
    "### SCM data\n",
    "\n",
    "To load the Search-coil Magnetometer data:"
   ]
  },
  {
   "cell_type": "code",
   "execution_count": 42,
   "metadata": {
    "scrolled": true
   },
   "outputs": [
    {
     "name": "stderr",
     "output_type": "stream",
     "text": [
      "04-Dec-19 10:23:01: Loading /Volumes/data/data/mms/mms1/scm/srvy/l2/scsrvy/2015/10/mms1_scm_srvy_l2_scsrvy_20151016_v2.2.5.cdf\n"
     ]
    },
    {
     "name": "stdout",
     "output_type": "stream",
     "text": [
      "Time clip was applied to: mms1_scm_acb_gse_scsrvy_srvy_l2\n",
      "Loaded variables:\n",
      "mms1_scm_acb_gse_scsrvy_srvy_l2\n"
     ]
    }
   ],
   "source": [
    "scm_vars = scm(trange=['2015-10-16', '2015-10-16/03:00'], \n",
    "               time_clip=True)"
   ]
  },
  {
   "cell_type": "code",
   "execution_count": 43,
   "metadata": {},
   "outputs": [
    {
     "data": {
      "text/plain": [
       "['mms1_scm_acb_gse_scsrvy_srvy_l2']"
      ]
     },
     "execution_count": 43,
     "metadata": {},
     "output_type": "execute_result"
    }
   ],
   "source": [
    "scm_vars"
   ]
  },
  {
   "cell_type": "code",
   "execution_count": 44,
   "metadata": {},
   "outputs": [],
   "source": [
    "tplot('mms1_scm_acb_gse_scsrvy_srvy_l2')"
   ]
  },
  {
   "cell_type": "markdown",
   "metadata": {},
   "source": [
    "### Dynamic power spectra of SCM data"
   ]
  },
  {
   "cell_type": "code",
   "execution_count": 45,
   "metadata": {},
   "outputs": [],
   "source": [
    "from pyspedas import tdpwrspc"
   ]
  },
  {
   "cell_type": "code",
   "execution_count": 46,
   "metadata": {},
   "outputs": [],
   "source": [
    "ps = tdpwrspc('mms1_scm_acb_gse_scsrvy_srvy_l2', nshiftpoints=512, nboxpoints=512, binsize=1)"
   ]
  },
  {
   "cell_type": "code",
   "execution_count": 48,
   "metadata": {},
   "outputs": [
    {
     "data": {
      "text/plain": [
       "['mms1_scm_acb_gse_scsrvy_srvy_l2_0_dpwrspc',\n",
       " 'mms1_scm_acb_gse_scsrvy_srvy_l2_1_dpwrspc',\n",
       " 'mms1_scm_acb_gse_scsrvy_srvy_l2_2_dpwrspc']"
      ]
     },
     "execution_count": 48,
     "metadata": {},
     "output_type": "execute_result"
    }
   ],
   "source": [
    "ps"
   ]
  },
  {
   "cell_type": "code",
   "execution_count": 49,
   "metadata": {},
   "outputs": [],
   "source": [
    "tplot(ps)"
   ]
  },
  {
   "cell_type": "markdown",
   "metadata": {},
   "source": [
    "### EDP data\n",
    "\n",
    "To load the electric field data:"
   ]
  },
  {
   "cell_type": "code",
   "execution_count": 50,
   "metadata": {},
   "outputs": [
    {
     "name": "stderr",
     "output_type": "stream",
     "text": [
      "04-Dec-19 10:26:00: Loading /Volumes/data/data/mms/mms4/edp/brst/l2/dce/2015/10/16/mms4_edp_brst_l2_dce_20151016130524_v2.2.0.cdf\n"
     ]
    },
    {
     "name": "stdout",
     "output_type": "stream",
     "text": [
      "Time clip was applied to: mms4_edp_dce_gse_brst_l2\n",
      "Time clip was applied to: mms4_edp_dce_dsl_brst_l2\n",
      "Time clip was applied to: mms4_edp_dce_par_epar_brst_l2\n",
      "Loaded variables:\n",
      "mms4_edp_dce_gse_brst_l2\n",
      "mms4_edp_dce_dsl_brst_l2\n",
      "mms4_edp_dce_par_epar_brst_l2\n"
     ]
    }
   ],
   "source": [
    "e_vars = edp(probe=4, \n",
    "             trange=['2015-10-16/13:06', '2015-10-16/13:07'], \n",
    "             data_rate='brst', \n",
    "             time_clip=True)"
   ]
  },
  {
   "cell_type": "code",
   "execution_count": 51,
   "metadata": {},
   "outputs": [],
   "source": [
    "tplot('mms4_edp_dce_gse_brst_l2')"
   ]
  },
  {
   "cell_type": "markdown",
   "metadata": {},
   "source": [
    "To load the spacecraft potential data, set the datatype to `scpot`"
   ]
  },
  {
   "cell_type": "code",
   "execution_count": 54,
   "metadata": {},
   "outputs": [
    {
     "name": "stderr",
     "output_type": "stream",
     "text": [
      "04-Dec-19 10:28:45: Loading /Volumes/data/data/mms/mms4/edp/brst/l2/scpot/2015/10/16/mms4_edp_brst_l2_scpot_20151016130524_v2.4.0.cdf\n"
     ]
    },
    {
     "name": "stdout",
     "output_type": "stream",
     "text": [
      "Time clip was applied to: mms4_edp_scpot_brst_l2\n",
      "Time clip was applied to: mms4_edp_psp_brst_l2\n",
      "Time clip was applied to: mms4_edp_dcv_brst_l2\n",
      "Loaded variables:\n",
      "mms4_edp_scpot_brst_l2\n",
      "mms4_edp_psp_brst_l2\n",
      "mms4_edp_dcv_brst_l2\n"
     ]
    }
   ],
   "source": [
    "scpot_vars = edp(probe=4, \n",
    "                 datatype='scpot',\n",
    "                 trange=['2015-10-16/13:06', '2015-10-16/13:07'], \n",
    "                 data_rate='brst', \n",
    "                 time_clip=True)"
   ]
  },
  {
   "cell_type": "code",
   "execution_count": 55,
   "metadata": {},
   "outputs": [],
   "source": [
    "tplot('mms4_edp_scpot_brst_l2')"
   ]
  },
  {
   "cell_type": "markdown",
   "metadata": {},
   "source": [
    "### EDI data\n",
    "\n",
    "Load and plot data from the Electron Drift Instrument:"
   ]
  },
  {
   "cell_type": "code",
   "execution_count": 56,
   "metadata": {},
   "outputs": [
    {
     "name": "stderr",
     "output_type": "stream",
     "text": [
      "04-Dec-19 10:29:28: Loading /Volumes/data/data/mms/mms4/edi/srvy/l2/efield/2015/10/mms4_edi_srvy_l2_efield_20151016_v1.6.2.cdf\n"
     ]
    },
    {
     "name": "stdout",
     "output_type": "stream",
     "text": [
      "Loaded variables:\n",
      "mms4_edi_vdrift_dsl_srvy_l2\n",
      "mms4_edi_vdrift_gse_srvy_l2\n",
      "mms4_edi_vdrift_gsm_srvy_l2\n",
      "mms4_edi_e_dsl_srvy_l2\n",
      "mms4_edi_e_gse_srvy_l2\n",
      "mms4_edi_e_gsm_srvy_l2\n",
      "mms4_edi_tri_weight_srvy_l2\n"
     ]
    }
   ],
   "source": [
    "edrift_vars = edi(probe=4, \n",
    "                  trange=['2015-10-16', '2015-10-17'])"
   ]
  },
  {
   "cell_type": "code",
   "execution_count": 57,
   "metadata": {},
   "outputs": [],
   "source": [
    "tplot(['mms4_edi_vdrift_gse_srvy_l2', 'mms4_edi_vdrift_gsm_srvy_l2'])"
   ]
  },
  {
   "cell_type": "markdown",
   "metadata": {},
   "source": [
    "### DSP data\n",
    "\n",
    "Load and plot the omni-directional electric and magnetic spectral densities data from the Digital Signal Processor:"
   ]
  },
  {
   "cell_type": "code",
   "execution_count": 58,
   "metadata": {},
   "outputs": [
    {
     "name": "stderr",
     "output_type": "stream",
     "text": [
      "04-Dec-19 10:29:48: Loading /Volumes/data/data/mms/mms4/dsp/fast/l2/bpsd/2015/10/mms4_dsp_fast_l2_bpsd_20151016_v2.1.1.cdf\n",
      "04-Dec-19 10:29:48: Loading /Volumes/data/data/mms/mms4/dsp/fast/l2/epsd/2015/10/mms4_dsp_fast_l2_epsd_20151016_v0.6.4.cdf\n"
     ]
    },
    {
     "name": "stdout",
     "output_type": "stream",
     "text": [
      "Loaded variables:\n",
      "mms4_dsp_bpsd_scm1_fast_l2\n",
      "mms4_dsp_bpsd_scm2_fast_l2\n",
      "mms4_dsp_bpsd_scm3_fast_l2\n",
      "mms4_dsp_bpsd_omni_fast_l2\n",
      "mms4_dsp_epsd_x\n",
      "mms4_dsp_epsd_y\n",
      "mms4_dsp_epsd_z\n",
      "mms4_dsp_epsd_omni\n"
     ]
    }
   ],
   "source": [
    "dsp_vars = dsp(probe=4, \n",
    "               data_rate='fast',\n",
    "               datatype=['bpsd', 'epsd'],\n",
    "               trange=['2015-10-16', '2015-10-17'])"
   ]
  },
  {
   "cell_type": "code",
   "execution_count": 59,
   "metadata": {},
   "outputs": [],
   "source": [
    "tplot(['mms4_dsp_epsd_omni', 'mms4_dsp_bpsd_omni_fast_l2'])"
   ]
  },
  {
   "cell_type": "markdown",
   "metadata": {},
   "source": [
    "## ASPOC data\n",
    "\n",
    "Load and plot the ASPOC ion beam currents\n",
    "\n",
    "https://lasp.colorado.edu/mms/sdc/public/datasets/aspoc/"
   ]
  },
  {
   "cell_type": "code",
   "execution_count": 60,
   "metadata": {},
   "outputs": [],
   "source": "from pyspedas.projects.mms import aspoc"
  },
  {
   "cell_type": "code",
   "execution_count": 61,
   "metadata": {},
   "outputs": [
    {
     "name": "stderr",
     "output_type": "stream",
     "text": [
      "04-Dec-19 10:30:36: Loading /Volumes/data/data/mms/mms4/aspoc/srvy/l2/2015/10/mms4_aspoc_srvy_l2_20151016_v2.0.0.cdf\n"
     ]
    },
    {
     "name": "stdout",
     "output_type": "stream",
     "text": [
      "Cannot find x axis.\n",
      "No attribute named DEPEND_TIME or DEPEND_0 in                           variable Epoch\n",
      "Loaded variables:\n",
      "mms4_aspoc_ionc\n",
      "mms4_asp1_ionc\n",
      "mms4_asp2_ionc\n",
      "mms4_asp1_energy\n",
      "mms4_asp2_energy\n",
      "mms4_aspoc_status\n"
     ]
    }
   ],
   "source": [
    "aspoc_vars = aspoc(probe=4, \n",
    "                  trange=['2015-10-16', '2015-10-17'])"
   ]
  },
  {
   "cell_type": "code",
   "execution_count": 62,
   "metadata": {},
   "outputs": [],
   "source": [
    "tplot(['mms4_aspoc_ionc', 'mms4_asp1_ionc', 'mms4_asp2_ionc'])"
   ]
  },
  {
   "cell_type": "markdown",
   "metadata": {},
   "source": [
    "## EPD (FEEPS/EIS) data\n",
    "\n",
    "https://lasp.colorado.edu/mms/sdc/public/datasets/epd/"
   ]
  },
  {
   "cell_type": "code",
   "execution_count": 63,
   "metadata": {},
   "outputs": [],
   "source": "from pyspedas.projects.mms import feeps, eis"
  },
  {
   "cell_type": "markdown",
   "metadata": {},
   "source": [
    "### FEEPS data\n",
    "\n",
    "Load and plot data from the Fly's Eye Energetic Particle Sensor:\n",
    "\n",
    "Notes:\n",
    "\n",
    "* Sun contamination is removed from FEEPS spectrograms\n",
    "* FEEPS integral channels are removed from the telescope spectrogram data and included in their own tplot variables\n",
    "* Flat field corrections are applied for ion data\n",
    "* Bad eyes and energy channels are set to NaN\n",
    "* FEEPS omni-directional spectrograms are calculated from the individual telescope data \n",
    "* FEEPS spin-averaged spectrograms are calculated\n",
    "* Pitch angle distributions can be calculated with `mms_feeps_pad`"
   ]
  },
  {
   "cell_type": "code",
   "execution_count": 67,
   "metadata": {},
   "outputs": [
    {
     "name": "stderr",
     "output_type": "stream",
     "text": [
      "04-Dec-19 10:32:51: Loading /Volumes/data/data/mms/mms4/feeps/srvy/l2/electron/2015/10/mms4_feeps_srvy_l2_electron_20151016000000_v6.0.2.cdf\n"
     ]
    },
    {
     "name": "stdout",
     "output_type": "stream",
     "text": [
      "The lengths of x and y do not match!\n",
      "The lengths of x and y do not match!\n",
      "The lengths of x and y do not match!\n",
      "NaN in energy table encountered; sensor B4\n",
      "NaN in energy table encountered; sensor B5\n",
      "NaN in energy table encountered; sensor B11\n",
      "NaN in energy table encountered; sensor B4\n",
      "NaN in energy table encountered; sensor B5\n",
      "NaN in energy table encountered; sensor B11\n",
      "Loaded variables:\n",
      "epoch\n",
      "mms4_epd_feeps_srvy_l2_electron_spinsectnum\n",
      "electron_energy\n",
      "electron_energy_lower_bound\n",
      "electron_energy_upper_bound\n",
      "mms4_epd_feeps_srvy_l2_electron_top_count_rate_sensorid_1\n",
      "mms4_epd_feeps_srvy_l2_electron_top_count_rate_sensorid_2\n",
      "mms4_epd_feeps_srvy_l2_electron_top_count_rate_sensorid_3\n",
      "mms4_epd_feeps_srvy_l2_electron_top_count_rate_sensorid_4\n",
      "mms4_epd_feeps_srvy_l2_electron_top_count_rate_sensorid_5\n",
      "mms4_epd_feeps_srvy_l2_electron_top_count_rate_sensorid_9\n",
      "mms4_epd_feeps_srvy_l2_electron_top_count_rate_sensorid_10\n",
      "mms4_epd_feeps_srvy_l2_electron_top_count_rate_sensorid_11\n",
      "mms4_epd_feeps_srvy_l2_electron_top_count_rate_sensorid_12\n",
      "mms4_epd_feeps_srvy_l2_electron_bottom_count_rate_sensorid_1\n",
      "mms4_epd_feeps_srvy_l2_electron_bottom_count_rate_sensorid_2\n",
      "mms4_epd_feeps_srvy_l2_electron_bottom_count_rate_sensorid_3\n",
      "mms4_epd_feeps_srvy_l2_electron_bottom_count_rate_sensorid_4\n",
      "mms4_epd_feeps_srvy_l2_electron_bottom_count_rate_sensorid_5\n",
      "mms4_epd_feeps_srvy_l2_electron_bottom_count_rate_sensorid_9\n",
      "mms4_epd_feeps_srvy_l2_electron_bottom_count_rate_sensorid_10\n",
      "mms4_epd_feeps_srvy_l2_electron_bottom_count_rate_sensorid_11\n",
      "mms4_epd_feeps_srvy_l2_electron_bottom_count_rate_sensorid_12\n",
      "mms4_epd_feeps_srvy_l2_electron_top_intensity_sensorid_1\n",
      "mms4_epd_feeps_srvy_l2_electron_top_intensity_sensorid_2\n",
      "mms4_epd_feeps_srvy_l2_electron_top_intensity_sensorid_3\n",
      "mms4_epd_feeps_srvy_l2_electron_top_intensity_sensorid_4\n",
      "mms4_epd_feeps_srvy_l2_electron_top_intensity_sensorid_5\n",
      "mms4_epd_feeps_srvy_l2_electron_top_intensity_sensorid_9\n",
      "mms4_epd_feeps_srvy_l2_electron_top_intensity_sensorid_10\n",
      "mms4_epd_feeps_srvy_l2_electron_top_intensity_sensorid_11\n",
      "mms4_epd_feeps_srvy_l2_electron_top_intensity_sensorid_12\n",
      "mms4_epd_feeps_srvy_l2_electron_bottom_intensity_sensorid_1\n",
      "mms4_epd_feeps_srvy_l2_electron_bottom_intensity_sensorid_2\n",
      "mms4_epd_feeps_srvy_l2_electron_bottom_intensity_sensorid_3\n",
      "mms4_epd_feeps_srvy_l2_electron_bottom_intensity_sensorid_4\n",
      "mms4_epd_feeps_srvy_l2_electron_bottom_intensity_sensorid_5\n",
      "mms4_epd_feeps_srvy_l2_electron_bottom_intensity_sensorid_9\n",
      "mms4_epd_feeps_srvy_l2_electron_bottom_intensity_sensorid_10\n",
      "mms4_epd_feeps_srvy_l2_electron_bottom_intensity_sensorid_11\n",
      "mms4_epd_feeps_srvy_l2_electron_bottom_intensity_sensorid_12\n",
      "mms4_epd_feeps_srvy_l2_electron_top_sector_mask_sensorid_1\n",
      "mms4_epd_feeps_srvy_l2_electron_top_sector_mask_sensorid_2\n",
      "mms4_epd_feeps_srvy_l2_electron_top_sector_mask_sensorid_3\n",
      "mms4_epd_feeps_srvy_l2_electron_top_sector_mask_sensorid_4\n",
      "mms4_epd_feeps_srvy_l2_electron_top_sector_mask_sensorid_5\n",
      "mms4_epd_feeps_srvy_l2_electron_top_sector_mask_sensorid_9\n",
      "mms4_epd_feeps_srvy_l2_electron_top_sector_mask_sensorid_10\n",
      "mms4_epd_feeps_srvy_l2_electron_top_sector_mask_sensorid_11\n",
      "mms4_epd_feeps_srvy_l2_electron_top_sector_mask_sensorid_12\n",
      "mms4_epd_feeps_srvy_l2_electron_bottom_sector_mask_sensorid_1\n",
      "mms4_epd_feeps_srvy_l2_electron_bottom_sector_mask_sensorid_2\n",
      "mms4_epd_feeps_srvy_l2_electron_bottom_sector_mask_sensorid_3\n",
      "mms4_epd_feeps_srvy_l2_electron_bottom_sector_mask_sensorid_4\n",
      "mms4_epd_feeps_srvy_l2_electron_bottom_sector_mask_sensorid_5\n",
      "mms4_epd_feeps_srvy_l2_electron_bottom_sector_mask_sensorid_9\n",
      "mms4_epd_feeps_srvy_l2_electron_bottom_sector_mask_sensorid_10\n",
      "mms4_epd_feeps_srvy_l2_electron_bottom_sector_mask_sensorid_11\n",
      "mms4_epd_feeps_srvy_l2_electron_bottom_sector_mask_sensorid_12\n",
      "mms4_epd_feeps_srvy_l2_electron_spin\n",
      "mms4_epd_feeps_srvy_l2_electron_integration_sectors\n",
      "mms4_epd_feeps_srvy_l2_electron_spin_duration\n",
      "mms4_epd_feeps_srvy_l2_electron_pitch_angle\n",
      "mms4_epd_feeps_srvy_l2_electron_scpos_ec_gse\n",
      "mms4_epd_feeps_srvy_l2_electron_scz_vec_gse\n",
      "mms4_epd_feeps_srvy_l2_electron_scy_vec_gse\n",
      "mms4_epd_feeps_srvy_l2_electron_scx_vec_gse\n",
      "mms4_epd_feeps_srvy_l2_electron_moon_position_gse\n",
      "mms4_epd_feeps_srvy_l2_electron_radius\n",
      "mms4_epd_feeps_srvy_l2_electron_lat_gse\n",
      "mms4_epd_feeps_srvy_l2_electron_lon_gse\n",
      "mms4_epd_feeps_srvy_l2_electron_l_shell\n",
      "mms4_epd_feeps_srvy_l2_electron_lat_gsm\n",
      "mms4_epd_feeps_srvy_l2_electron_lon_gsm\n",
      "mms4_epd_feeps_srvy_l2_electron_top_count_rate_sensorid_3_clean\n",
      "mms4_epd_feeps_srvy_l2_electron_top_count_rate_sensorid_3_500keV_int\n",
      "mms4_epd_feeps_srvy_l2_electron_top_count_rate_sensorid_4_clean\n",
      "mms4_epd_feeps_srvy_l2_electron_top_count_rate_sensorid_4_500keV_int\n",
      "mms4_epd_feeps_srvy_l2_electron_top_count_rate_sensorid_5_clean\n",
      "mms4_epd_feeps_srvy_l2_electron_top_count_rate_sensorid_5_500keV_int\n",
      "mms4_epd_feeps_srvy_l2_electron_top_count_rate_sensorid_11_clean\n",
      "mms4_epd_feeps_srvy_l2_electron_top_count_rate_sensorid_11_500keV_int\n",
      "mms4_epd_feeps_srvy_l2_electron_top_count_rate_sensorid_12_clean\n",
      "mms4_epd_feeps_srvy_l2_electron_top_count_rate_sensorid_12_500keV_int\n",
      "mms4_epd_feeps_srvy_l2_electron_bottom_count_rate_sensorid_3_clean\n",
      "mms4_epd_feeps_srvy_l2_electron_bottom_count_rate_sensorid_3_500keV_int\n",
      "mms4_epd_feeps_srvy_l2_electron_bottom_count_rate_sensorid_12_clean\n",
      "mms4_epd_feeps_srvy_l2_electron_bottom_count_rate_sensorid_12_500keV_int\n",
      "mms4_epd_feeps_srvy_l2_electron_top_count_rate_sensorid_3_clean_sun_removed\n",
      "mms4_epd_feeps_srvy_l2_electron_top_count_rate_sensorid_4_clean_sun_removed\n",
      "mms4_epd_feeps_srvy_l2_electron_top_count_rate_sensorid_5_clean_sun_removed\n",
      "mms4_epd_feeps_srvy_l2_electron_top_count_rate_sensorid_11_clean_sun_removed\n",
      "mms4_epd_feeps_srvy_l2_electron_top_count_rate_sensorid_12_clean_sun_removed\n",
      "mms4_epd_feeps_srvy_l2_electron_bottom_count_rate_sensorid_3_clean_sun_removed\n",
      "mms4_epd_feeps_srvy_l2_electron_bottom_count_rate_sensorid_12_clean_sun_removed\n",
      "mms4_epd_feeps_srvy_l2_electron_count_rate_omni\n",
      "mms4_epd_feeps_srvy_l2_electron_count_rate_omni_spin\n",
      "mms4_epd_feeps_srvy_l2_electron_top_intensity_sensorid_3_clean\n",
      "mms4_epd_feeps_srvy_l2_electron_top_intensity_sensorid_3_500keV_int\n",
      "mms4_epd_feeps_srvy_l2_electron_top_intensity_sensorid_4_clean\n",
      "mms4_epd_feeps_srvy_l2_electron_top_intensity_sensorid_4_500keV_int\n",
      "mms4_epd_feeps_srvy_l2_electron_top_intensity_sensorid_5_clean\n",
      "mms4_epd_feeps_srvy_l2_electron_top_intensity_sensorid_5_500keV_int\n",
      "mms4_epd_feeps_srvy_l2_electron_top_intensity_sensorid_11_clean\n",
      "mms4_epd_feeps_srvy_l2_electron_top_intensity_sensorid_11_500keV_int\n",
      "mms4_epd_feeps_srvy_l2_electron_top_intensity_sensorid_12_clean\n",
      "mms4_epd_feeps_srvy_l2_electron_top_intensity_sensorid_12_500keV_int\n",
      "mms4_epd_feeps_srvy_l2_electron_bottom_intensity_sensorid_3_clean\n",
      "mms4_epd_feeps_srvy_l2_electron_bottom_intensity_sensorid_3_500keV_int\n",
      "mms4_epd_feeps_srvy_l2_electron_bottom_intensity_sensorid_12_clean\n",
      "mms4_epd_feeps_srvy_l2_electron_bottom_intensity_sensorid_12_500keV_int\n",
      "mms4_epd_feeps_srvy_l2_electron_top_intensity_sensorid_3_clean_sun_removed\n",
      "mms4_epd_feeps_srvy_l2_electron_top_intensity_sensorid_4_clean_sun_removed\n",
      "mms4_epd_feeps_srvy_l2_electron_top_intensity_sensorid_5_clean_sun_removed\n",
      "mms4_epd_feeps_srvy_l2_electron_top_intensity_sensorid_11_clean_sun_removed\n",
      "mms4_epd_feeps_srvy_l2_electron_top_intensity_sensorid_12_clean_sun_removed\n",
      "mms4_epd_feeps_srvy_l2_electron_bottom_intensity_sensorid_3_clean_sun_removed\n",
      "mms4_epd_feeps_srvy_l2_electron_bottom_intensity_sensorid_12_clean_sun_removed\n",
      "mms4_epd_feeps_srvy_l2_electron_intensity_omni\n",
      "mms4_epd_feeps_srvy_l2_electron_intensity_omni_spin\n"
     ]
    }
   ],
   "source": [
    "feeps_vars = feeps(probe=4, \n",
    "                   trange=['2015-10-16', '2015-10-17'])"
   ]
  },
  {
   "cell_type": "code",
   "execution_count": 68,
   "metadata": {},
   "outputs": [],
   "source": [
    "tplot(['mms4_epd_feeps_srvy_l2_electron_intensity_omni_spin', \n",
    "       'mms4_epd_feeps_srvy_l2_electron_intensity_omni'])"
   ]
  },
  {
   "cell_type": "markdown",
   "metadata": {},
   "source": [
    "### FEEPS pitch angle distributions"
   ]
  },
  {
   "cell_type": "code",
   "execution_count": 69,
   "metadata": {},
   "outputs": [],
   "source": [
    "from pyspedas import mms_feeps_pad"
   ]
  },
  {
   "cell_type": "code",
   "execution_count": 70,
   "metadata": {
    "scrolled": true
   },
   "outputs": [
    {
     "name": "stderr",
     "output_type": "stream",
     "text": [
      "04-Dec-19 10:33:46: Loading /Volumes/data/data/mms/mms4/fgm/srvy/l2/2015/10/mms4_fgm_srvy_l2_20151016_v4.18.0.cdf\n",
      "04-Dec-19 10:34:16: /Users/eric/anaconda3/lib/python3.7/site-packages/pyspedas/mms/feeps/mms_feeps_pitch_angles.py:173: RuntimeWarning: invalid value encountered in arccos\n",
      "  pas[:, i] = 180./math.pi*np.arccos((Vbcs[0]*Bbcs[:, 0] + Vbcs[1]*Bbcs[:, 1] + Vbcs[2]*Bbcs[:, 2])/(np.sqrt(Vbcs[0]**2+Vbcs[1]**2+Vbcs[2]**2) * np.sqrt(Bbcs[:, 0]**2+Bbcs[:, 1]**2+Bbcs[:, 2]**2)))\n",
      "\n"
     ]
    },
    {
     "name": "stdout",
     "output_type": "stream",
     "text": [
      "Loaded variables:\n",
      "mms4_fgm_b_bcs_srvy_l2\n",
      "That name is currently not in pytplot\n"
     ]
    }
   ],
   "source": [
    "pad_vars = mms_feeps_pad(probe=4)"
   ]
  },
  {
   "cell_type": "code",
   "execution_count": 71,
   "metadata": {},
   "outputs": [
    {
     "data": {
      "text/plain": [
       "['mms4_epd_feeps_srvy_l2_electron_intensity_70-600keV_pad',\n",
       " 'mms4_epd_feeps_srvy_l2_electron_intensity_70-600keV_pad_spin']"
      ]
     },
     "execution_count": 71,
     "metadata": {},
     "output_type": "execute_result"
    }
   ],
   "source": [
    "pad_vars"
   ]
  },
  {
   "cell_type": "code",
   "execution_count": 73,
   "metadata": {},
   "outputs": [],
   "source": [
    "tplot(['mms4_epd_feeps_srvy_l2_electron_intensity_70-600keV_pad_spin', \n",
    "       'mms4_epd_feeps_srvy_l2_electron_intensity_70-600keV_pad'])"
   ]
  },
  {
   "cell_type": "markdown",
   "metadata": {},
   "source": [
    "Limit the energy range by setting the `energy` keyword"
   ]
  },
  {
   "cell_type": "code",
   "execution_count": 74,
   "metadata": {},
   "outputs": [
    {
     "name": "stderr",
     "output_type": "stream",
     "text": [
      "04-Dec-19 10:36:15: Loading /Volumes/data/data/mms/mms4/fgm/srvy/l2/2015/10/mms4_fgm_srvy_l2_20151016_v4.18.0.cdf\n",
      "04-Dec-19 10:36:46: /Users/eric/anaconda3/lib/python3.7/site-packages/pyspedas/mms/feeps/mms_feeps_pitch_angles.py:173: RuntimeWarning: invalid value encountered in arccos\n",
      "  pas[:, i] = 180./math.pi*np.arccos((Vbcs[0]*Bbcs[:, 0] + Vbcs[1]*Bbcs[:, 1] + Vbcs[2]*Bbcs[:, 2])/(np.sqrt(Vbcs[0]**2+Vbcs[1]**2+Vbcs[2]**2) * np.sqrt(Bbcs[:, 0]**2+Bbcs[:, 1]**2+Bbcs[:, 2]**2)))\n",
      "\n"
     ]
    },
    {
     "name": "stdout",
     "output_type": "stream",
     "text": [
      "Loaded variables:\n",
      "mms4_fgm_b_bcs_srvy_l2\n"
     ]
    }
   ],
   "source": [
    "pad_vars = mms_feeps_pad(energy=[200, 500], probe=4)"
   ]
  },
  {
   "cell_type": "code",
   "execution_count": 76,
   "metadata": {},
   "outputs": [],
   "source": [
    "tplot(['mms4_epd_feeps_srvy_l2_electron_intensity_200-500keV_pad_spin', \n",
    "       'mms4_epd_feeps_srvy_l2_electron_intensity_200-500keV_pad'])"
   ]
  },
  {
   "cell_type": "markdown",
   "metadata": {},
   "source": [
    "### EIS data\n",
    "\n",
    "Load and plot data from the Energetic Ion Spectrometer:\n",
    "\n",
    "Notes:\n",
    "* EIS omni-directional spectrograms are calculated from the individual telescope data\n",
    "* EIS spin-averaged spectrograms are calculated \n",
    "* Pitch angle distributions can be calculated using the routine `mms_eis_pad`"
   ]
  },
  {
   "cell_type": "code",
   "execution_count": 77,
   "metadata": {},
   "outputs": [
    {
     "name": "stderr",
     "output_type": "stream",
     "text": [
      "04-Dec-19 10:37:37: Loading /Volumes/data/data/mms/mms4/epd-eis/srvy/l2/extof/2015/10/mms4_epd-eis_srvy_l2_extof_20151016_v3.0.0.cdf\n",
      "04-Dec-19 10:37:37: Loading /Volumes/data/data/mms/mms4/epd-eis/srvy/l2/phxtof/2015/10/mms4_epd-eis_srvy_l2_phxtof_20151016_v3.0.0.cdf\n"
     ]
    },
    {
     "name": "stdout",
     "output_type": "stream",
     "text": [
      "Loaded variables:\n",
      "Time_Minus\n",
      "Time_Plus\n",
      "mms4_epd_eis_extof_duration\n",
      "mms4_epd_eis_extof_deadtime\n",
      "mms4_epd_eis_extof_largepixel\n",
      "mms4_epd_eis_extof_starttai\n",
      "mms4_epd_eis_extof_midtai\n",
      "mms4_epd_eis_extof_endtai\n",
      "mms4_epd_eis_extof_spin\n",
      "mms4_epd_eis_extof_sector\n",
      "mms4_epd_eis_extof_quality\n",
      "mms4_epd_eis_extof_proton_P3_counts_t0\n",
      "mms4_epd_eis_extof_proton_P3_counts_t1\n",
      "mms4_epd_eis_extof_proton_P3_counts_t2\n",
      "mms4_epd_eis_extof_proton_P3_counts_t3\n",
      "mms4_epd_eis_extof_proton_P3_counts_t4\n",
      "mms4_epd_eis_extof_proton_P3_counts_t5\n",
      "mms4_epd_eis_extof_proton_P3_cps_t0\n",
      "mms4_epd_eis_extof_proton_P3_cps_t1\n",
      "mms4_epd_eis_extof_proton_P3_cps_t2\n",
      "mms4_epd_eis_extof_proton_P3_cps_t3\n",
      "mms4_epd_eis_extof_proton_P3_cps_t4\n",
      "mms4_epd_eis_extof_proton_P3_cps_t5\n",
      "mms4_epd_eis_extof_proton_P3_flux_t0\n",
      "mms4_epd_eis_extof_proton_P3_flux_t1\n",
      "mms4_epd_eis_extof_proton_P3_flux_t2\n",
      "mms4_epd_eis_extof_proton_P3_flux_t3\n",
      "mms4_epd_eis_extof_proton_P3_flux_t4\n",
      "mms4_epd_eis_extof_proton_P3_flux_t5\n",
      "mms4_epd_eis_extof_alpha_P3_counts_t0\n",
      "mms4_epd_eis_extof_alpha_P3_counts_t1\n",
      "mms4_epd_eis_extof_alpha_P3_counts_t2\n",
      "mms4_epd_eis_extof_alpha_P3_counts_t3\n",
      "mms4_epd_eis_extof_alpha_P3_counts_t4\n",
      "mms4_epd_eis_extof_alpha_P3_counts_t5\n",
      "mms4_epd_eis_extof_alpha_P3_cps_t0\n",
      "mms4_epd_eis_extof_alpha_P3_cps_t1\n",
      "mms4_epd_eis_extof_alpha_P3_cps_t2\n",
      "mms4_epd_eis_extof_alpha_P3_cps_t3\n",
      "mms4_epd_eis_extof_alpha_P3_cps_t4\n",
      "mms4_epd_eis_extof_alpha_P3_cps_t5\n",
      "mms4_epd_eis_extof_alpha_P3_flux_t0\n",
      "mms4_epd_eis_extof_alpha_P3_flux_t1\n",
      "mms4_epd_eis_extof_alpha_P3_flux_t2\n",
      "mms4_epd_eis_extof_alpha_P3_flux_t3\n",
      "mms4_epd_eis_extof_alpha_P3_flux_t4\n",
      "mms4_epd_eis_extof_alpha_P3_flux_t5\n",
      "mms4_epd_eis_extof_oxygen_P3_counts_t0\n",
      "mms4_epd_eis_extof_oxygen_P3_counts_t1\n",
      "mms4_epd_eis_extof_oxygen_P3_counts_t2\n",
      "mms4_epd_eis_extof_oxygen_P3_counts_t3\n",
      "mms4_epd_eis_extof_oxygen_P3_counts_t4\n",
      "mms4_epd_eis_extof_oxygen_P3_counts_t5\n",
      "mms4_epd_eis_extof_oxygen_P3_cps_t0\n",
      "mms4_epd_eis_extof_oxygen_P3_cps_t1\n",
      "mms4_epd_eis_extof_oxygen_P3_cps_t2\n",
      "mms4_epd_eis_extof_oxygen_P3_cps_t3\n",
      "mms4_epd_eis_extof_oxygen_P3_cps_t4\n",
      "mms4_epd_eis_extof_oxygen_P3_cps_t5\n",
      "mms4_epd_eis_extof_oxygen_P3_flux_t0\n",
      "mms4_epd_eis_extof_oxygen_P3_flux_t1\n",
      "mms4_epd_eis_extof_oxygen_P3_flux_t2\n",
      "mms4_epd_eis_extof_oxygen_P3_flux_t3\n",
      "mms4_epd_eis_extof_oxygen_P3_flux_t4\n",
      "mms4_epd_eis_extof_oxygen_P3_flux_t5\n",
      "mms4_epd_eis_extof_dump_counts_t0\n",
      "mms4_epd_eis_extof_dump_counts_t1\n",
      "mms4_epd_eis_extof_dump_counts_t2\n",
      "mms4_epd_eis_extof_dump_counts_t3\n",
      "mms4_epd_eis_extof_dump_counts_t4\n",
      "mms4_epd_eis_extof_dump_counts_t5\n",
      "mms4_epd_eis_extof_dump_cps_t0\n",
      "mms4_epd_eis_extof_dump_cps_t1\n",
      "mms4_epd_eis_extof_dump_cps_t2\n",
      "mms4_epd_eis_extof_dump_cps_t3\n",
      "mms4_epd_eis_extof_dump_cps_t4\n",
      "mms4_epd_eis_extof_dump_cps_t5\n",
      "mms4_epd_eis_extof_dump_flux_t0\n",
      "mms4_epd_eis_extof_dump_flux_t1\n",
      "mms4_epd_eis_extof_dump_flux_t2\n",
      "mms4_epd_eis_extof_dump_flux_t3\n",
      "mms4_epd_eis_extof_dump_flux_t4\n",
      "mms4_epd_eis_extof_dump_flux_t5\n",
      "mms4_epd_eis_extof_pitch_angle_t0\n",
      "mms4_epd_eis_extof_pitch_angle_t1\n",
      "mms4_epd_eis_extof_pitch_angle_t2\n",
      "mms4_epd_eis_extof_pitch_angle_t3\n",
      "mms4_epd_eis_extof_pitch_angle_t4\n",
      "mms4_epd_eis_extof_pitch_angle_t5\n",
      "mms4_epd_eis_extof_look_t0\n",
      "mms4_epd_eis_extof_look_t1\n",
      "mms4_epd_eis_extof_look_t2\n",
      "mms4_epd_eis_extof_look_t3\n",
      "mms4_epd_eis_extof_look_t4\n",
      "mms4_epd_eis_extof_look_t5\n",
      "mms4_epd_eis_extof_b\n",
      "mms4_epd_eis_extof_position_gse\n",
      "mms4_epd_eis_extof_position_gsm\n",
      "mms4_epd_eis_extof_moon_gse\n",
      "mms4_epd_eis_extof_sc_to_gse\n",
      "mms4_epd_eis_extof_gse_to_gsm\n",
      "mms4_epd_eis_extof_r\n",
      "mms4_epd_eis_extof_l\n",
      "mms4_epd_eis_extof_gse_lat\n",
      "mms4_epd_eis_extof_gse_lon\n",
      "mms4_epd_eis_extof_gsm_lat\n",
      "mms4_epd_eis_extof_gsm_lon\n",
      "mms4_epd_eis_extof_sm_lat\n",
      "mms4_epd_eis_extof_sm_lon\n",
      "mms4_epd_eis_extof_orbit_num\n",
      "mms4_epd_eis_extof_ssd0\n",
      "mms4_epd_eis_extof_ssd1\n",
      "mms4_epd_eis_extof_ssd2\n",
      "mms4_epd_eis_extof_ssd3\n",
      "mms4_epd_eis_extof_ssd4\n",
      "mms4_epd_eis_extof_ssd5\n",
      "mms4_epd_eis_extof_vep\n",
      "mms4_epd_eis_extof_start0anode\n",
      "mms4_epd_eis_extof_stop0anode\n",
      "mms4_epd_eis_extof_pulseheight\n",
      "mms4_epd_eis_extof_vtofxee\n",
      "mms4_epd_eis_extof_vtofxphe\n",
      "mms4_epd_eis_phxtof_duration\n",
      "mms4_epd_eis_phxtof_deadtime\n",
      "mms4_epd_eis_phxtof_largepixel\n",
      "mms4_epd_eis_phxtof_starttai\n",
      "mms4_epd_eis_phxtof_midtai\n",
      "mms4_epd_eis_phxtof_endtai\n",
      "mms4_epd_eis_phxtof_spin\n",
      "mms4_epd_eis_phxtof_sector\n",
      "mms4_epd_eis_phxtof_quality\n",
      "mms4_epd_eis_phxtof_proton_P3_counts_t0\n",
      "mms4_epd_eis_phxtof_proton_P3_counts_t1\n",
      "mms4_epd_eis_phxtof_proton_P3_counts_t2\n",
      "mms4_epd_eis_phxtof_proton_P3_counts_t3\n",
      "mms4_epd_eis_phxtof_proton_P3_counts_t4\n",
      "mms4_epd_eis_phxtof_proton_P3_counts_t5\n",
      "mms4_epd_eis_phxtof_proton_P3_cps_t0\n",
      "mms4_epd_eis_phxtof_proton_P3_cps_t1\n",
      "mms4_epd_eis_phxtof_proton_P3_cps_t2\n",
      "mms4_epd_eis_phxtof_proton_P3_cps_t3\n",
      "mms4_epd_eis_phxtof_proton_P3_cps_t4\n",
      "mms4_epd_eis_phxtof_proton_P3_cps_t5\n",
      "mms4_epd_eis_phxtof_proton_P3_flux_t0\n",
      "mms4_epd_eis_phxtof_proton_P3_flux_t1\n",
      "mms4_epd_eis_phxtof_proton_P3_flux_t2\n",
      "mms4_epd_eis_phxtof_proton_P3_flux_t3\n",
      "mms4_epd_eis_phxtof_proton_P3_flux_t4\n",
      "mms4_epd_eis_phxtof_proton_P3_flux_t5\n",
      "mms4_epd_eis_phxtof_oxygen_P3_counts_t0\n",
      "mms4_epd_eis_phxtof_oxygen_P3_counts_t1\n",
      "mms4_epd_eis_phxtof_oxygen_P3_counts_t2\n",
      "mms4_epd_eis_phxtof_oxygen_P3_counts_t3\n",
      "mms4_epd_eis_phxtof_oxygen_P3_counts_t4\n",
      "mms4_epd_eis_phxtof_oxygen_P3_counts_t5\n",
      "mms4_epd_eis_phxtof_oxygen_P3_cps_t0\n",
      "mms4_epd_eis_phxtof_oxygen_P3_cps_t1\n",
      "mms4_epd_eis_phxtof_oxygen_P3_cps_t2\n",
      "mms4_epd_eis_phxtof_oxygen_P3_cps_t3\n",
      "mms4_epd_eis_phxtof_oxygen_P3_cps_t4\n",
      "mms4_epd_eis_phxtof_oxygen_P3_cps_t5\n",
      "mms4_epd_eis_phxtof_oxygen_P3_flux_t0\n",
      "mms4_epd_eis_phxtof_oxygen_P3_flux_t1\n",
      "mms4_epd_eis_phxtof_oxygen_P3_flux_t2\n",
      "mms4_epd_eis_phxtof_oxygen_P3_flux_t3\n",
      "mms4_epd_eis_phxtof_oxygen_P3_flux_t4\n",
      "mms4_epd_eis_phxtof_oxygen_P3_flux_t5\n",
      "mms4_epd_eis_phxtof_dump_counts_t0\n",
      "mms4_epd_eis_phxtof_dump_counts_t1\n",
      "mms4_epd_eis_phxtof_dump_counts_t2\n",
      "mms4_epd_eis_phxtof_dump_counts_t3\n",
      "mms4_epd_eis_phxtof_dump_counts_t4\n",
      "mms4_epd_eis_phxtof_dump_counts_t5\n",
      "mms4_epd_eis_phxtof_dump_cps_t0\n",
      "mms4_epd_eis_phxtof_dump_cps_t1\n",
      "mms4_epd_eis_phxtof_dump_cps_t2\n",
      "mms4_epd_eis_phxtof_dump_cps_t3\n",
      "mms4_epd_eis_phxtof_dump_cps_t4\n",
      "mms4_epd_eis_phxtof_dump_cps_t5\n",
      "mms4_epd_eis_phxtof_dump_flux_t0\n",
      "mms4_epd_eis_phxtof_dump_flux_t1\n",
      "mms4_epd_eis_phxtof_dump_flux_t2\n",
      "mms4_epd_eis_phxtof_dump_flux_t3\n",
      "mms4_epd_eis_phxtof_dump_flux_t4\n",
      "mms4_epd_eis_phxtof_dump_flux_t5\n",
      "mms4_epd_eis_phxtof_pitch_angle_t0\n",
      "mms4_epd_eis_phxtof_pitch_angle_t1\n",
      "mms4_epd_eis_phxtof_pitch_angle_t2\n",
      "mms4_epd_eis_phxtof_pitch_angle_t3\n",
      "mms4_epd_eis_phxtof_pitch_angle_t4\n",
      "mms4_epd_eis_phxtof_pitch_angle_t5\n",
      "mms4_epd_eis_phxtof_look_t0\n",
      "mms4_epd_eis_phxtof_look_t1\n",
      "mms4_epd_eis_phxtof_look_t2\n",
      "mms4_epd_eis_phxtof_look_t3\n",
      "mms4_epd_eis_phxtof_look_t4\n",
      "mms4_epd_eis_phxtof_look_t5\n",
      "mms4_epd_eis_phxtof_b\n",
      "mms4_epd_eis_phxtof_position_gse\n",
      "mms4_epd_eis_phxtof_position_gsm\n",
      "mms4_epd_eis_phxtof_moon_gse\n",
      "mms4_epd_eis_phxtof_sc_to_gse\n",
      "mms4_epd_eis_phxtof_gse_to_gsm\n",
      "mms4_epd_eis_phxtof_r\n",
      "mms4_epd_eis_phxtof_l\n",
      "mms4_epd_eis_phxtof_gse_lat\n",
      "mms4_epd_eis_phxtof_gse_lon\n",
      "mms4_epd_eis_phxtof_gsm_lat\n",
      "mms4_epd_eis_phxtof_gsm_lon\n",
      "mms4_epd_eis_phxtof_sm_lat\n",
      "mms4_epd_eis_phxtof_sm_lon\n",
      "mms4_epd_eis_phxtof_orbit_num\n",
      "mms4_epd_eis_phxtof_ssd0\n",
      "mms4_epd_eis_phxtof_ssd1\n",
      "mms4_epd_eis_phxtof_ssd2\n",
      "mms4_epd_eis_phxtof_ssd3\n",
      "mms4_epd_eis_phxtof_ssd4\n",
      "mms4_epd_eis_phxtof_ssd5\n",
      "mms4_epd_eis_phxtof_vep\n",
      "mms4_epd_eis_phxtof_start0anode\n",
      "mms4_epd_eis_phxtof_stop0anode\n",
      "mms4_epd_eis_phxtof_pulseheight\n",
      "mms4_epd_eis_phxtof_vtofxee\n",
      "mms4_epd_eis_phxtof_vtofxphe\n",
      "mms4_epd_eis_extof_proton_P3_flux_t0_spin\n",
      "mms4_epd_eis_extof_proton_P3_flux_t1_spin\n",
      "mms4_epd_eis_extof_proton_P3_flux_t2_spin\n",
      "mms4_epd_eis_extof_proton_P3_flux_t3_spin\n",
      "mms4_epd_eis_extof_proton_P3_flux_t4_spin\n",
      "mms4_epd_eis_extof_proton_P3_flux_t5_spin\n",
      "mms4_epd_eis_extof_oxygen_P3_flux_t0_spin\n",
      "mms4_epd_eis_extof_oxygen_P3_flux_t1_spin\n",
      "mms4_epd_eis_extof_oxygen_P3_flux_t2_spin\n",
      "mms4_epd_eis_extof_oxygen_P3_flux_t3_spin\n",
      "mms4_epd_eis_extof_oxygen_P3_flux_t4_spin\n",
      "mms4_epd_eis_extof_oxygen_P3_flux_t5_spin\n",
      "mms4_epd_eis_extof_alpha_P3_flux_t0_spin\n",
      "mms4_epd_eis_extof_alpha_P3_flux_t1_spin\n",
      "mms4_epd_eis_extof_alpha_P3_flux_t2_spin\n",
      "mms4_epd_eis_extof_alpha_P3_flux_t3_spin\n",
      "mms4_epd_eis_extof_alpha_P3_flux_t4_spin\n",
      "mms4_epd_eis_extof_alpha_P3_flux_t5_spin\n",
      "mms4_epd_eis_extof_proton_flux_omni\n",
      "mms4_epd_eis_extof_oxygen_flux_omni\n",
      "mms4_epd_eis_extof_alpha_flux_omni\n",
      "mms4_epd_eis_extof_proton_flux_omni_spin\n",
      "mms4_epd_eis_extof_oxygen_flux_omni_spin\n",
      "mms4_epd_eis_extof_alpha_flux_omni_spin\n",
      "mms4_epd_eis_phxtof_proton_P3_flux_t0_spin\n",
      "mms4_epd_eis_phxtof_proton_P3_flux_t1_spin\n",
      "mms4_epd_eis_phxtof_proton_P3_flux_t2_spin\n",
      "mms4_epd_eis_phxtof_proton_P3_flux_t3_spin\n",
      "mms4_epd_eis_phxtof_proton_P3_flux_t4_spin\n",
      "mms4_epd_eis_phxtof_proton_P3_flux_t5_spin\n",
      "mms4_epd_eis_phxtof_oxygen_P3_flux_t0_spin\n",
      "mms4_epd_eis_phxtof_oxygen_P3_flux_t1_spin\n",
      "mms4_epd_eis_phxtof_oxygen_P3_flux_t2_spin\n",
      "mms4_epd_eis_phxtof_oxygen_P3_flux_t3_spin\n",
      "mms4_epd_eis_phxtof_oxygen_P3_flux_t4_spin\n",
      "mms4_epd_eis_phxtof_oxygen_P3_flux_t5_spin\n",
      "mms4_epd_eis_phxtof_proton_flux_omni\n",
      "mms4_epd_eis_phxtof_oxygen_flux_omni\n",
      "mms4_epd_eis_phxtof_proton_flux_omni_spin\n",
      "mms4_epd_eis_phxtof_oxygen_flux_omni_spin\n"
     ]
    }
   ],
   "source": [
    "eis_vars = eis(datatype=['extof', 'phxtof'],\n",
    "               probe=4, \n",
    "               trange=['2015-10-16', '2015-10-17'])"
   ]
  },
  {
   "cell_type": "code",
   "execution_count": 78,
   "metadata": {},
   "outputs": [],
   "source": [
    "tplot(['mms4_epd_eis_phxtof_proton_flux_omni_spin', \n",
    "       'mms4_epd_eis_phxtof_proton_flux_omni'])"
   ]
  },
  {
   "cell_type": "code",
   "execution_count": 79,
   "metadata": {},
   "outputs": [],
   "source": [
    "tplot(['mms4_epd_eis_phxtof_oxygen_flux_omni_spin', \n",
    "       'mms4_epd_eis_phxtof_oxygen_flux_omni'])"
   ]
  },
  {
   "cell_type": "code",
   "execution_count": 80,
   "metadata": {},
   "outputs": [],
   "source": [
    "tplot(['mms4_epd_eis_extof_proton_flux_omni', \n",
    "       'mms4_epd_eis_extof_oxygen_flux_omni', \n",
    "       'mms4_epd_eis_extof_alpha_flux_omni'])"
   ]
  },
  {
   "cell_type": "code",
   "execution_count": 81,
   "metadata": {},
   "outputs": [],
   "source": [
    "tplot(['mms4_epd_eis_extof_proton_flux_omni_spin', \n",
    "       'mms4_epd_eis_extof_oxygen_flux_omni_spin', \n",
    "       'mms4_epd_eis_extof_alpha_flux_omni_spin'])"
   ]
  },
  {
   "cell_type": "markdown",
   "metadata": {},
   "source": [
    "### EIS pitch angle distributions"
   ]
  },
  {
   "cell_type": "code",
   "execution_count": 82,
   "metadata": {},
   "outputs": [],
   "source": [
    "from pyspedas import mms_eis_pad"
   ]
  },
  {
   "cell_type": "code",
   "execution_count": 83,
   "metadata": {},
   "outputs": [],
   "source": [
    "pad_vars = mms_eis_pad(probe=4, datatype='extof')"
   ]
  },
  {
   "cell_type": "code",
   "execution_count": 84,
   "metadata": {},
   "outputs": [
    {
     "data": {
      "text/plain": [
       "['mms4_epd_eis_extof_80keV_proton_flux_omni_pad',\n",
       " 'mms4_epd_eis_extof_118keV_proton_flux_omni_pad',\n",
       " 'mms4_epd_eis_extof_186keV_proton_flux_omni_pad',\n",
       " 'mms4_epd_eis_extof_312keV_proton_flux_omni_pad',\n",
       " 'mms4_epd_eis_extof_524keV_proton_flux_omni_pad',\n",
       " 'mms4_epd_eis_extof_proton_flux_omni_pads',\n",
       " 'mms4_epd_eis_extof_80-524keV_proton_flux_omni_pad',\n",
       " 'mms4_epd_eis_extof_80keV_proton_flux_omni_pad_spin',\n",
       " 'mms4_epd_eis_extof_118keV_proton_flux_omni_pad_spin',\n",
       " 'mms4_epd_eis_extof_186keV_proton_flux_omni_pad_spin',\n",
       " 'mms4_epd_eis_extof_312keV_proton_flux_omni_pad_spin',\n",
       " 'mms4_epd_eis_extof_524keV_proton_flux_omni_pad_spin',\n",
       " 'mms4_epd_eis_extof_80-524keV_proton_flux_omni_pad_spin']"
      ]
     },
     "execution_count": 84,
     "metadata": {},
     "output_type": "execute_result"
    }
   ],
   "source": [
    "pad_vars"
   ]
  },
  {
   "cell_type": "code",
   "execution_count": 85,
   "metadata": {},
   "outputs": [],
   "source": [
    "tplot(['mms4_epd_eis_extof_80-524keV_proton_flux_omni_pad_spin', \n",
    "       'mms4_epd_eis_extof_80-524keV_proton_flux_omni_pad'])"
   ]
  },
  {
   "cell_type": "code",
   "execution_count": 86,
   "metadata": {},
   "outputs": [],
   "source": [
    "pad_vars = mms_eis_pad(energy=[20, 60], probe=4, datatype='phxtof')"
   ]
  },
  {
   "cell_type": "code",
   "execution_count": 87,
   "metadata": {
    "scrolled": true
   },
   "outputs": [
    {
     "data": {
      "text/plain": [
       "['mms4_epd_eis_phxtof_24keV_proton_flux_omni_pad',\n",
       " 'mms4_epd_eis_phxtof_35keV_proton_flux_omni_pad',\n",
       " 'mms4_epd_eis_phxtof_56keV_proton_flux_omni_pad',\n",
       " 'mms4_epd_eis_phxtof_proton_flux_omni_pads',\n",
       " 'mms4_epd_eis_phxtof_24-56keV_proton_flux_omni_pad',\n",
       " 'mms4_epd_eis_phxtof_24keV_proton_flux_omni_pad_spin',\n",
       " 'mms4_epd_eis_phxtof_35keV_proton_flux_omni_pad_spin',\n",
       " 'mms4_epd_eis_phxtof_56keV_proton_flux_omni_pad_spin',\n",
       " 'mms4_epd_eis_phxtof_24-56keV_proton_flux_omni_pad_spin']"
      ]
     },
     "execution_count": 87,
     "metadata": {},
     "output_type": "execute_result"
    }
   ],
   "source": [
    "pad_vars"
   ]
  },
  {
   "cell_type": "code",
   "execution_count": 88,
   "metadata": {},
   "outputs": [],
   "source": [
    "tplot(['mms4_epd_eis_phxtof_24-56keV_proton_flux_omni_pad_spin', \n",
    "       'mms4_epd_eis_phxtof_24-56keV_proton_flux_omni_pad'])"
   ]
  },
  {
   "cell_type": "markdown",
   "metadata": {},
   "source": [
    "## Plasma (FPI/HPCA) data"
   ]
  },
  {
   "cell_type": "code",
   "execution_count": 89,
   "metadata": {},
   "outputs": [],
   "source": "from pyspedas.projects.mms import fpi, hpca"
  },
  {
   "cell_type": "markdown",
   "metadata": {},
   "source": [
    "### FPI data\n",
    "\n",
    "https://lasp.colorado.edu/mms/sdc/public/datasets/fpi/\n",
    "\n",
    "Load the electron and ion moments data for all 4 spacecraft:\n",
    "\n",
    "Note: set the `center_measurement` keyword to `True` to center the measurement to the middle of the accumulation interval"
   ]
  },
  {
   "cell_type": "code",
   "execution_count": 90,
   "metadata": {},
   "outputs": [
    {
     "name": "stderr",
     "output_type": "stream",
     "text": [
      "04-Dec-19 10:44:16: Loading /Volumes/data/data/mms/mms1/fpi/fast/l2/des-moms/2015/10/mms1_fpi_fast_l2_des-moms_20151016040000_v3.3.0.cdf\n",
      "04-Dec-19 10:44:16: Loading /Volumes/data/data/mms/mms1/fpi/fast/l2/des-moms/2015/10/mms1_fpi_fast_l2_des-moms_20151016060000_v3.3.0.cdf\n",
      "04-Dec-19 10:44:16: Loading /Volumes/data/data/mms/mms1/fpi/fast/l2/des-moms/2015/10/mms1_fpi_fast_l2_des-moms_20151016080000_v3.3.0.cdf\n",
      "04-Dec-19 10:44:16: Loading /Volumes/data/data/mms/mms1/fpi/fast/l2/des-moms/2015/10/mms1_fpi_fast_l2_des-moms_20151016100000_v3.3.0.cdf\n",
      "04-Dec-19 10:44:16: Loading /Volumes/data/data/mms/mms1/fpi/fast/l2/des-moms/2015/10/mms1_fpi_fast_l2_des-moms_20151016120000_v3.3.0.cdf\n",
      "04-Dec-19 10:44:16: Loading /Volumes/data/data/mms/mms1/fpi/fast/l2/dis-moms/2015/10/mms1_fpi_fast_l2_dis-moms_20151016040000_v3.3.0.cdf\n",
      "04-Dec-19 10:44:16: Loading /Volumes/data/data/mms/mms1/fpi/fast/l2/dis-moms/2015/10/mms1_fpi_fast_l2_dis-moms_20151016060000_v3.3.0.cdf\n",
      "04-Dec-19 10:44:16: Loading /Volumes/data/data/mms/mms1/fpi/fast/l2/dis-moms/2015/10/mms1_fpi_fast_l2_dis-moms_20151016080000_v3.3.0.cdf\n",
      "04-Dec-19 10:44:16: Loading /Volumes/data/data/mms/mms1/fpi/fast/l2/dis-moms/2015/10/mms1_fpi_fast_l2_dis-moms_20151016100000_v3.3.0.cdf\n",
      "04-Dec-19 10:44:16: Loading /Volumes/data/data/mms/mms1/fpi/fast/l2/dis-moms/2015/10/mms1_fpi_fast_l2_dis-moms_20151016120000_v3.3.0.cdf\n",
      "04-Dec-19 10:44:16: Loading /Volumes/data/data/mms/mms2/fpi/fast/l2/des-moms/2015/10/mms2_fpi_fast_l2_des-moms_20151016040000_v3.3.0.cdf\n",
      "04-Dec-19 10:44:16: Loading /Volumes/data/data/mms/mms2/fpi/fast/l2/des-moms/2015/10/mms2_fpi_fast_l2_des-moms_20151016060000_v3.3.0.cdf\n",
      "04-Dec-19 10:44:16: Loading /Volumes/data/data/mms/mms2/fpi/fast/l2/des-moms/2015/10/mms2_fpi_fast_l2_des-moms_20151016080000_v3.3.0.cdf\n",
      "04-Dec-19 10:44:16: Loading /Volumes/data/data/mms/mms2/fpi/fast/l2/des-moms/2015/10/mms2_fpi_fast_l2_des-moms_20151016100000_v3.3.0.cdf\n",
      "04-Dec-19 10:44:16: Loading /Volumes/data/data/mms/mms2/fpi/fast/l2/des-moms/2015/10/mms2_fpi_fast_l2_des-moms_20151016120000_v3.3.0.cdf\n",
      "04-Dec-19 10:44:16: Loading /Volumes/data/data/mms/mms2/fpi/fast/l2/dis-moms/2015/10/mms2_fpi_fast_l2_dis-moms_20151016040000_v3.3.0.cdf\n",
      "04-Dec-19 10:44:16: Loading /Volumes/data/data/mms/mms2/fpi/fast/l2/dis-moms/2015/10/mms2_fpi_fast_l2_dis-moms_20151016060000_v3.3.0.cdf\n",
      "04-Dec-19 10:44:16: Loading /Volumes/data/data/mms/mms2/fpi/fast/l2/dis-moms/2015/10/mms2_fpi_fast_l2_dis-moms_20151016080000_v3.3.0.cdf\n",
      "04-Dec-19 10:44:16: Loading /Volumes/data/data/mms/mms2/fpi/fast/l2/dis-moms/2015/10/mms2_fpi_fast_l2_dis-moms_20151016100000_v3.3.0.cdf\n",
      "04-Dec-19 10:44:16: Loading /Volumes/data/data/mms/mms2/fpi/fast/l2/dis-moms/2015/10/mms2_fpi_fast_l2_dis-moms_20151016120000_v3.3.0.cdf\n",
      "04-Dec-19 10:44:17: Loading /Volumes/data/data/mms/mms3/fpi/fast/l2/des-moms/2015/10/mms3_fpi_fast_l2_des-moms_20151016040000_v3.3.0.cdf\n",
      "04-Dec-19 10:44:17: Loading /Volumes/data/data/mms/mms3/fpi/fast/l2/des-moms/2015/10/mms3_fpi_fast_l2_des-moms_20151016060000_v3.3.0.cdf\n",
      "04-Dec-19 10:44:17: Loading /Volumes/data/data/mms/mms3/fpi/fast/l2/des-moms/2015/10/mms3_fpi_fast_l2_des-moms_20151016080000_v3.3.0.cdf\n",
      "04-Dec-19 10:44:17: Loading /Volumes/data/data/mms/mms3/fpi/fast/l2/des-moms/2015/10/mms3_fpi_fast_l2_des-moms_20151016100000_v3.3.0.cdf\n",
      "04-Dec-19 10:44:17: Loading /Volumes/data/data/mms/mms3/fpi/fast/l2/des-moms/2015/10/mms3_fpi_fast_l2_des-moms_20151016120000_v3.3.0.cdf\n",
      "04-Dec-19 10:44:17: Loading /Volumes/data/data/mms/mms3/fpi/fast/l2/dis-moms/2015/10/mms3_fpi_fast_l2_dis-moms_20151016040000_v3.3.0.cdf\n",
      "04-Dec-19 10:44:17: Loading /Volumes/data/data/mms/mms3/fpi/fast/l2/dis-moms/2015/10/mms3_fpi_fast_l2_dis-moms_20151016060000_v3.3.0.cdf\n",
      "04-Dec-19 10:44:17: Loading /Volumes/data/data/mms/mms3/fpi/fast/l2/dis-moms/2015/10/mms3_fpi_fast_l2_dis-moms_20151016080000_v3.3.0.cdf\n",
      "04-Dec-19 10:44:17: Loading /Volumes/data/data/mms/mms3/fpi/fast/l2/dis-moms/2015/10/mms3_fpi_fast_l2_dis-moms_20151016100000_v3.3.0.cdf\n",
      "04-Dec-19 10:44:17: Loading /Volumes/data/data/mms/mms3/fpi/fast/l2/dis-moms/2015/10/mms3_fpi_fast_l2_dis-moms_20151016120000_v3.3.0.cdf\n",
      "04-Dec-19 10:44:17: Loading /Volumes/data/data/mms/mms4/fpi/fast/l2/des-moms/2015/10/mms4_fpi_fast_l2_des-moms_20151016040000_v3.3.0.cdf\n",
      "04-Dec-19 10:44:17: Loading /Volumes/data/data/mms/mms4/fpi/fast/l2/des-moms/2015/10/mms4_fpi_fast_l2_des-moms_20151016060000_v3.3.0.cdf\n",
      "04-Dec-19 10:44:17: Loading /Volumes/data/data/mms/mms4/fpi/fast/l2/des-moms/2015/10/mms4_fpi_fast_l2_des-moms_20151016080000_v3.3.0.cdf\n",
      "04-Dec-19 10:44:17: Loading /Volumes/data/data/mms/mms4/fpi/fast/l2/des-moms/2015/10/mms4_fpi_fast_l2_des-moms_20151016100000_v3.3.0.cdf\n",
      "04-Dec-19 10:44:17: Loading /Volumes/data/data/mms/mms4/fpi/fast/l2/des-moms/2015/10/mms4_fpi_fast_l2_des-moms_20151016120000_v3.3.0.cdf\n",
      "04-Dec-19 10:44:17: Loading /Volumes/data/data/mms/mms4/fpi/fast/l2/dis-moms/2015/10/mms4_fpi_fast_l2_dis-moms_20151016040000_v3.3.0.cdf\n",
      "04-Dec-19 10:44:17: Loading /Volumes/data/data/mms/mms4/fpi/fast/l2/dis-moms/2015/10/mms4_fpi_fast_l2_dis-moms_20151016060000_v3.3.0.cdf\n",
      "04-Dec-19 10:44:17: Loading /Volumes/data/data/mms/mms4/fpi/fast/l2/dis-moms/2015/10/mms4_fpi_fast_l2_dis-moms_20151016080000_v3.3.0.cdf\n",
      "04-Dec-19 10:44:17: Loading /Volumes/data/data/mms/mms4/fpi/fast/l2/dis-moms/2015/10/mms4_fpi_fast_l2_dis-moms_20151016100000_v3.3.0.cdf\n",
      "04-Dec-19 10:44:17: Loading /Volumes/data/data/mms/mms4/fpi/fast/l2/dis-moms/2015/10/mms4_fpi_fast_l2_dis-moms_20151016120000_v3.3.0.cdf\n"
     ]
    },
    {
     "name": "stdout",
     "output_type": "stream",
     "text": [
      "Cannot find x axis.\n",
      "No attribute named DEPEND_TIME or DEPEND_0 in                           variable mms1_des_compressionloss_fast\n",
      "Cannot find x axis.\n",
      "No attribute named DEPEND_TIME or DEPEND_0 in                           variable mms1_des_compressionloss_fast\n",
      "Cannot find x axis.\n",
      "No attribute named DEPEND_TIME or DEPEND_0 in                           variable mms1_des_compressionloss_fast\n",
      "Cannot find x axis.\n",
      "No attribute named DEPEND_TIME or DEPEND_0 in                           variable mms1_des_compressionloss_fast\n",
      "Cannot find x axis.\n",
      "No attribute named DEPEND_TIME or DEPEND_0 in                           variable mms1_des_compressionloss_fast\n",
      "Cannot find x axis.\n",
      "No attribute named DEPEND_TIME or DEPEND_0 in                           variable mms1_dis_compressionloss_fast\n",
      "Cannot find x axis.\n",
      "No attribute named DEPEND_TIME or DEPEND_0 in                           variable mms1_dis_compressionloss_fast\n",
      "Cannot find x axis.\n",
      "No attribute named DEPEND_TIME or DEPEND_0 in                           variable mms1_dis_compressionloss_fast\n",
      "Cannot find x axis.\n",
      "No attribute named DEPEND_TIME or DEPEND_0 in                           variable mms1_dis_compressionloss_fast\n",
      "Cannot find x axis.\n",
      "No attribute named DEPEND_TIME or DEPEND_0 in                           variable mms1_dis_compressionloss_fast\n",
      "Cannot find x axis.\n",
      "No attribute named DEPEND_TIME or DEPEND_0 in                           variable mms2_des_compressionloss_fast\n",
      "Cannot find x axis.\n",
      "No attribute named DEPEND_TIME or DEPEND_0 in                           variable mms2_des_compressionloss_fast\n",
      "Cannot find x axis.\n",
      "No attribute named DEPEND_TIME or DEPEND_0 in                           variable mms2_des_compressionloss_fast\n",
      "Cannot find x axis.\n",
      "No attribute named DEPEND_TIME or DEPEND_0 in                           variable mms2_des_compressionloss_fast\n",
      "Cannot find x axis.\n",
      "No attribute named DEPEND_TIME or DEPEND_0 in                           variable mms2_des_compressionloss_fast\n",
      "Cannot find x axis.\n",
      "No attribute named DEPEND_TIME or DEPEND_0 in                           variable mms2_dis_compressionloss_fast\n",
      "Cannot find x axis.\n",
      "No attribute named DEPEND_TIME or DEPEND_0 in                           variable mms2_dis_compressionloss_fast\n",
      "Cannot find x axis.\n",
      "No attribute named DEPEND_TIME or DEPEND_0 in                           variable mms2_dis_compressionloss_fast\n",
      "Cannot find x axis.\n",
      "No attribute named DEPEND_TIME or DEPEND_0 in                           variable mms2_dis_compressionloss_fast\n",
      "Cannot find x axis.\n",
      "No attribute named DEPEND_TIME or DEPEND_0 in                           variable mms2_dis_compressionloss_fast\n",
      "Cannot find x axis.\n",
      "No attribute named DEPEND_TIME or DEPEND_0 in                           variable mms3_des_compressionloss_fast\n",
      "Cannot find x axis.\n",
      "No attribute named DEPEND_TIME or DEPEND_0 in                           variable mms3_des_compressionloss_fast\n",
      "Cannot find x axis.\n",
      "No attribute named DEPEND_TIME or DEPEND_0 in                           variable mms3_des_compressionloss_fast\n",
      "Cannot find x axis.\n",
      "No attribute named DEPEND_TIME or DEPEND_0 in                           variable mms3_des_compressionloss_fast\n",
      "Cannot find x axis.\n",
      "No attribute named DEPEND_TIME or DEPEND_0 in                           variable mms3_des_compressionloss_fast\n",
      "Cannot find x axis.\n",
      "No attribute named DEPEND_TIME or DEPEND_0 in                           variable mms3_dis_compressionloss_fast\n",
      "Cannot find x axis.\n",
      "No attribute named DEPEND_TIME or DEPEND_0 in                           variable mms3_dis_compressionloss_fast\n",
      "Cannot find x axis.\n",
      "No attribute named DEPEND_TIME or DEPEND_0 in                           variable mms3_dis_compressionloss_fast\n",
      "Cannot find x axis.\n",
      "No attribute named DEPEND_TIME or DEPEND_0 in                           variable mms3_dis_compressionloss_fast\n",
      "Cannot find x axis.\n",
      "No attribute named DEPEND_TIME or DEPEND_0 in                           variable mms3_dis_compressionloss_fast\n",
      "Cannot find x axis.\n",
      "No attribute named DEPEND_TIME or DEPEND_0 in                           variable mms4_des_compressionloss_fast\n",
      "Cannot find x axis.\n",
      "No attribute named DEPEND_TIME or DEPEND_0 in                           variable mms4_des_compressionloss_fast\n",
      "Cannot find x axis.\n",
      "No attribute named DEPEND_TIME or DEPEND_0 in                           variable mms4_des_compressionloss_fast\n",
      "Cannot find x axis.\n",
      "No attribute named DEPEND_TIME or DEPEND_0 in                           variable mms4_des_compressionloss_fast\n",
      "Cannot find x axis.\n",
      "No attribute named DEPEND_TIME or DEPEND_0 in                           variable mms4_des_compressionloss_fast\n",
      "Cannot find x axis.\n",
      "No attribute named DEPEND_TIME or DEPEND_0 in                           variable mms4_dis_compressionloss_fast\n",
      "Cannot find x axis.\n",
      "No attribute named DEPEND_TIME or DEPEND_0 in                           variable mms4_dis_compressionloss_fast\n",
      "Cannot find x axis.\n",
      "No attribute named DEPEND_TIME or DEPEND_0 in                           variable mms4_dis_compressionloss_fast\n",
      "Cannot find x axis.\n",
      "No attribute named DEPEND_TIME or DEPEND_0 in                           variable mms4_dis_compressionloss_fast\n",
      "Cannot find x axis.\n",
      "No attribute named DEPEND_TIME or DEPEND_0 in                           variable mms4_dis_compressionloss_fast\n",
      "Time clip was applied to: mms1_des_errorflags_fast\n",
      "Time clip was applied to: mms1_des_startdelphi_count_fast\n",
      "Time clip was applied to: mms1_des_startdelphi_angle_fast\n",
      "Time clip was applied to: mms1_des_pitchangdist_lowen_fast\n",
      "Time clip was applied to: mms1_des_pitchangdist_miden_fast\n",
      "Time clip was applied to: mms1_des_pitchangdist_highen_fast\n",
      "Time clip was applied to: mms1_des_energyspectr_px_fast\n",
      "Time clip was applied to: mms1_des_energyspectr_mx_fast\n",
      "Time clip was applied to: mms1_des_energyspectr_py_fast\n",
      "Time clip was applied to: mms1_des_energyspectr_my_fast\n",
      "Time clip was applied to: mms1_des_energyspectr_pz_fast\n",
      "Time clip was applied to: mms1_des_energyspectr_mz_fast\n",
      "Time clip was applied to: mms1_des_energyspectr_par_fast\n",
      "Time clip was applied to: mms1_des_energyspectr_anti_fast\n",
      "Time clip was applied to: mms1_des_energyspectr_perp_fast\n",
      "Time clip was applied to: mms1_des_energyspectr_omni_fast\n",
      "Time clip was applied to: mms1_des_numberdensity_fast\n",
      "Time clip was applied to: mms1_des_densityextrapolation_low_fast\n",
      "Time clip was applied to: mms1_des_densityextrapolation_high_fast\n",
      "Time clip was applied to: mms1_des_bulkv_dbcs_fast\n",
      "Time clip was applied to: mms1_des_bulkv_spintone_dbcs_fast\n",
      "Time clip was applied to: mms1_des_bulkv_gse_fast\n",
      "Time clip was applied to: mms1_des_bulkv_spintone_gse_fast\n",
      "Time clip was applied to: mms1_des_prestensor_dbcs_fast\n",
      "Time clip was applied to: mms1_des_prestensor_gse_fast\n",
      "Time clip was applied to: mms1_des_temptensor_dbcs_fast\n",
      "Time clip was applied to: mms1_des_temptensor_gse_fast\n",
      "Time clip was applied to: mms1_des_heatq_dbcs_fast\n",
      "Time clip was applied to: mms1_des_heatq_gse_fast\n",
      "Time clip was applied to: mms1_des_temppara_fast\n",
      "Time clip was applied to: mms1_des_tempperp_fast\n",
      "Time clip was applied to: mms1_dis_errorflags_fast\n",
      "Time clip was applied to: mms1_dis_startdelphi_count_fast\n",
      "Time clip was applied to: mms1_dis_startdelphi_angle_fast\n",
      "Time clip was applied to: mms1_dis_energyspectr_px_fast\n",
      "Time clip was applied to: mms1_dis_energyspectr_mx_fast\n",
      "Time clip was applied to: mms1_dis_energyspectr_py_fast\n",
      "Time clip was applied to: mms1_dis_energyspectr_my_fast\n",
      "Time clip was applied to: mms1_dis_energyspectr_pz_fast\n",
      "Time clip was applied to: mms1_dis_energyspectr_mz_fast\n",
      "Time clip was applied to: mms1_dis_energyspectr_omni_fast\n",
      "Time clip was applied to: mms1_dis_spectr_bg_fast\n",
      "Time clip was applied to: mms1_dis_numberdensity_bg_fast\n",
      "Time clip was applied to: mms1_dis_numberdensity_fast\n",
      "Time clip was applied to: mms1_dis_densityextrapolation_low_fast\n",
      "Time clip was applied to: mms1_dis_densityextrapolation_high_fast\n",
      "Time clip was applied to: mms1_dis_bulkv_dbcs_fast\n",
      "Time clip was applied to: mms1_dis_bulkv_spintone_dbcs_fast\n",
      "Time clip was applied to: mms1_dis_bulkv_gse_fast\n",
      "Time clip was applied to: mms1_dis_bulkv_spintone_gse_fast\n",
      "Time clip was applied to: mms1_dis_prestensor_dbcs_fast\n",
      "Time clip was applied to: mms1_dis_prestensor_gse_fast\n",
      "Time clip was applied to: mms1_dis_pres_bg_fast\n",
      "Time clip was applied to: mms1_dis_temptensor_dbcs_fast\n",
      "Time clip was applied to: mms1_dis_temptensor_gse_fast\n",
      "Time clip was applied to: mms1_dis_heatq_dbcs_fast\n",
      "Time clip was applied to: mms1_dis_heatq_gse_fast\n"
     ]
    },
    {
     "name": "stdout",
     "output_type": "stream",
     "text": [
      "Time clip was applied to: mms1_dis_temppara_fast\n",
      "Time clip was applied to: mms1_dis_tempperp_fast\n",
      "Time clip was applied to: mms2_des_errorflags_fast\n",
      "Time clip was applied to: mms2_des_startdelphi_count_fast\n",
      "Time clip was applied to: mms2_des_startdelphi_angle_fast\n",
      "Time clip was applied to: mms2_des_pitchangdist_lowen_fast\n",
      "Time clip was applied to: mms2_des_pitchangdist_miden_fast\n",
      "Time clip was applied to: mms2_des_pitchangdist_highen_fast\n",
      "Time clip was applied to: mms2_des_energyspectr_px_fast\n",
      "Time clip was applied to: mms2_des_energyspectr_mx_fast\n",
      "Time clip was applied to: mms2_des_energyspectr_py_fast\n",
      "Time clip was applied to: mms2_des_energyspectr_my_fast\n",
      "Time clip was applied to: mms2_des_energyspectr_pz_fast\n",
      "Time clip was applied to: mms2_des_energyspectr_mz_fast\n",
      "Time clip was applied to: mms2_des_energyspectr_par_fast\n",
      "Time clip was applied to: mms2_des_energyspectr_anti_fast\n",
      "Time clip was applied to: mms2_des_energyspectr_perp_fast\n",
      "Time clip was applied to: mms2_des_energyspectr_omni_fast\n",
      "Time clip was applied to: mms2_des_numberdensity_fast\n",
      "Time clip was applied to: mms2_des_densityextrapolation_low_fast\n",
      "Time clip was applied to: mms2_des_densityextrapolation_high_fast\n",
      "Time clip was applied to: mms2_des_bulkv_dbcs_fast\n",
      "Time clip was applied to: mms2_des_bulkv_spintone_dbcs_fast\n",
      "Time clip was applied to: mms2_des_bulkv_gse_fast\n",
      "Time clip was applied to: mms2_des_bulkv_spintone_gse_fast\n",
      "Time clip was applied to: mms2_des_prestensor_dbcs_fast\n",
      "Time clip was applied to: mms2_des_prestensor_gse_fast\n",
      "Time clip was applied to: mms2_des_temptensor_dbcs_fast\n",
      "Time clip was applied to: mms2_des_temptensor_gse_fast\n",
      "Time clip was applied to: mms2_des_heatq_dbcs_fast\n",
      "Time clip was applied to: mms2_des_heatq_gse_fast\n",
      "Time clip was applied to: mms2_des_temppara_fast\n",
      "Time clip was applied to: mms2_des_tempperp_fast\n",
      "Time clip was applied to: mms2_dis_errorflags_fast\n",
      "Time clip was applied to: mms2_dis_startdelphi_count_fast\n",
      "Time clip was applied to: mms2_dis_startdelphi_angle_fast\n",
      "Time clip was applied to: mms2_dis_energyspectr_px_fast\n",
      "Time clip was applied to: mms2_dis_energyspectr_mx_fast\n",
      "Time clip was applied to: mms2_dis_energyspectr_py_fast\n",
      "Time clip was applied to: mms2_dis_energyspectr_my_fast\n",
      "Time clip was applied to: mms2_dis_energyspectr_pz_fast\n",
      "Time clip was applied to: mms2_dis_energyspectr_mz_fast\n",
      "Time clip was applied to: mms2_dis_energyspectr_omni_fast\n",
      "Time clip was applied to: mms2_dis_spectr_bg_fast\n",
      "Time clip was applied to: mms2_dis_numberdensity_bg_fast\n",
      "Time clip was applied to: mms2_dis_numberdensity_fast\n",
      "Time clip was applied to: mms2_dis_densityextrapolation_low_fast\n",
      "Time clip was applied to: mms2_dis_densityextrapolation_high_fast\n",
      "Time clip was applied to: mms2_dis_bulkv_dbcs_fast\n",
      "Time clip was applied to: mms2_dis_bulkv_spintone_dbcs_fast\n",
      "Time clip was applied to: mms2_dis_bulkv_gse_fast\n",
      "Time clip was applied to: mms2_dis_bulkv_spintone_gse_fast\n",
      "Time clip was applied to: mms2_dis_prestensor_dbcs_fast\n",
      "Time clip was applied to: mms2_dis_prestensor_gse_fast\n",
      "Time clip was applied to: mms2_dis_pres_bg_fast\n",
      "Time clip was applied to: mms2_dis_temptensor_dbcs_fast\n",
      "Time clip was applied to: mms2_dis_temptensor_gse_fast\n",
      "Time clip was applied to: mms2_dis_heatq_dbcs_fast\n",
      "Time clip was applied to: mms2_dis_heatq_gse_fast\n",
      "Time clip was applied to: mms2_dis_temppara_fast\n",
      "Time clip was applied to: mms2_dis_tempperp_fast\n",
      "Time clip was applied to: mms3_des_errorflags_fast\n",
      "Time clip was applied to: mms3_des_startdelphi_count_fast\n",
      "Time clip was applied to: mms3_des_startdelphi_angle_fast\n",
      "Time clip was applied to: mms3_des_pitchangdist_lowen_fast\n",
      "Time clip was applied to: mms3_des_pitchangdist_miden_fast\n",
      "Time clip was applied to: mms3_des_pitchangdist_highen_fast\n",
      "Time clip was applied to: mms3_des_energyspectr_px_fast\n",
      "Time clip was applied to: mms3_des_energyspectr_mx_fast\n",
      "Time clip was applied to: mms3_des_energyspectr_py_fast\n",
      "Time clip was applied to: mms3_des_energyspectr_my_fast\n",
      "Time clip was applied to: mms3_des_energyspectr_pz_fast\n",
      "Time clip was applied to: mms3_des_energyspectr_mz_fast\n",
      "Time clip was applied to: mms3_des_energyspectr_par_fast\n",
      "Time clip was applied to: mms3_des_energyspectr_anti_fast\n",
      "Time clip was applied to: mms3_des_energyspectr_perp_fast\n",
      "Time clip was applied to: mms3_des_energyspectr_omni_fast\n",
      "Time clip was applied to: mms3_des_numberdensity_fast\n",
      "Time clip was applied to: mms3_des_densityextrapolation_low_fast\n",
      "Time clip was applied to: mms3_des_densityextrapolation_high_fast\n",
      "Time clip was applied to: mms3_des_bulkv_dbcs_fast\n",
      "Time clip was applied to: mms3_des_bulkv_spintone_dbcs_fast\n",
      "Time clip was applied to: mms3_des_bulkv_gse_fast\n",
      "Time clip was applied to: mms3_des_bulkv_spintone_gse_fast\n",
      "Time clip was applied to: mms3_des_prestensor_dbcs_fast\n",
      "Time clip was applied to: mms3_des_prestensor_gse_fast\n",
      "Time clip was applied to: mms3_des_temptensor_dbcs_fast\n",
      "Time clip was applied to: mms3_des_temptensor_gse_fast\n",
      "Time clip was applied to: mms3_des_heatq_dbcs_fast\n",
      "Time clip was applied to: mms3_des_heatq_gse_fast\n",
      "Time clip was applied to: mms3_des_temppara_fast\n",
      "Time clip was applied to: mms3_des_tempperp_fast\n",
      "Time clip was applied to: mms3_dis_errorflags_fast\n",
      "Time clip was applied to: mms3_dis_startdelphi_count_fast\n",
      "Time clip was applied to: mms3_dis_startdelphi_angle_fast\n",
      "Time clip was applied to: mms3_dis_energyspectr_px_fast\n",
      "Time clip was applied to: mms3_dis_energyspectr_mx_fast\n",
      "Time clip was applied to: mms3_dis_energyspectr_py_fast\n",
      "Time clip was applied to: mms3_dis_energyspectr_my_fast\n",
      "Time clip was applied to: mms3_dis_energyspectr_pz_fast\n",
      "Time clip was applied to: mms3_dis_energyspectr_mz_fast\n",
      "Time clip was applied to: mms3_dis_energyspectr_omni_fast\n",
      "Time clip was applied to: mms3_dis_spectr_bg_fast\n",
      "Time clip was applied to: mms3_dis_numberdensity_bg_fast\n",
      "Time clip was applied to: mms3_dis_numberdensity_fast\n",
      "Time clip was applied to: mms3_dis_densityextrapolation_low_fast\n",
      "Time clip was applied to: mms3_dis_densityextrapolation_high_fast\n",
      "Time clip was applied to: mms3_dis_bulkv_dbcs_fast\n",
      "Time clip was applied to: mms3_dis_bulkv_spintone_dbcs_fast\n",
      "Time clip was applied to: mms3_dis_bulkv_gse_fast\n",
      "Time clip was applied to: mms3_dis_bulkv_spintone_gse_fast\n",
      "Time clip was applied to: mms3_dis_prestensor_dbcs_fast\n",
      "Time clip was applied to: mms3_dis_prestensor_gse_fast\n",
      "Time clip was applied to: mms3_dis_pres_bg_fast\n",
      "Time clip was applied to: mms3_dis_temptensor_dbcs_fast\n",
      "Time clip was applied to: mms3_dis_temptensor_gse_fast\n",
      "Time clip was applied to: mms3_dis_heatq_dbcs_fast\n",
      "Time clip was applied to: mms3_dis_heatq_gse_fast\n",
      "Time clip was applied to: mms3_dis_temppara_fast\n",
      "Time clip was applied to: mms3_dis_tempperp_fast\n",
      "Time clip was applied to: mms4_des_errorflags_fast\n",
      "Time clip was applied to: mms4_des_startdelphi_count_fast\n",
      "Time clip was applied to: mms4_des_startdelphi_angle_fast\n",
      "Time clip was applied to: mms4_des_pitchangdist_lowen_fast\n",
      "Time clip was applied to: mms4_des_pitchangdist_miden_fast\n",
      "Time clip was applied to: mms4_des_pitchangdist_highen_fast\n",
      "Time clip was applied to: mms4_des_energyspectr_px_fast\n",
      "Time clip was applied to: mms4_des_energyspectr_mx_fast\n",
      "Time clip was applied to: mms4_des_energyspectr_py_fast\n",
      "Time clip was applied to: mms4_des_energyspectr_my_fast\n",
      "Time clip was applied to: mms4_des_energyspectr_pz_fast\n",
      "Time clip was applied to: mms4_des_energyspectr_mz_fast\n",
      "Time clip was applied to: mms4_des_energyspectr_par_fast\n",
      "Time clip was applied to: mms4_des_energyspectr_anti_fast\n",
      "Time clip was applied to: mms4_des_energyspectr_perp_fast\n",
      "Time clip was applied to: mms4_des_energyspectr_omni_fast\n",
      "Time clip was applied to: mms4_des_numberdensity_fast\n",
      "Time clip was applied to: mms4_des_densityextrapolation_low_fast\n",
      "Time clip was applied to: mms4_des_densityextrapolation_high_fast\n",
      "Time clip was applied to: mms4_des_bulkv_dbcs_fast\n",
      "Time clip was applied to: mms4_des_bulkv_spintone_dbcs_fast\n",
      "Time clip was applied to: mms4_des_bulkv_gse_fast\n",
      "Time clip was applied to: mms4_des_bulkv_spintone_gse_fast\n",
      "Time clip was applied to: mms4_des_prestensor_dbcs_fast\n",
      "Time clip was applied to: mms4_des_prestensor_gse_fast\n",
      "Time clip was applied to: mms4_des_temptensor_dbcs_fast\n",
      "Time clip was applied to: mms4_des_temptensor_gse_fast\n",
      "Time clip was applied to: mms4_des_heatq_dbcs_fast\n"
     ]
    },
    {
     "name": "stdout",
     "output_type": "stream",
     "text": [
      "Time clip was applied to: mms4_des_heatq_gse_fast\n",
      "Time clip was applied to: mms4_des_temppara_fast\n",
      "Time clip was applied to: mms4_des_tempperp_fast\n",
      "Time clip was applied to: mms4_dis_errorflags_fast\n",
      "Time clip was applied to: mms4_dis_startdelphi_count_fast\n",
      "Time clip was applied to: mms4_dis_startdelphi_angle_fast\n",
      "Time clip was applied to: mms4_dis_energyspectr_px_fast\n",
      "Time clip was applied to: mms4_dis_energyspectr_mx_fast\n",
      "Time clip was applied to: mms4_dis_energyspectr_py_fast\n",
      "Time clip was applied to: mms4_dis_energyspectr_my_fast\n",
      "Time clip was applied to: mms4_dis_energyspectr_pz_fast\n",
      "Time clip was applied to: mms4_dis_energyspectr_mz_fast\n",
      "Time clip was applied to: mms4_dis_energyspectr_omni_fast\n",
      "Time clip was applied to: mms4_dis_spectr_bg_fast\n",
      "Time clip was applied to: mms4_dis_numberdensity_bg_fast\n",
      "Time clip was applied to: mms4_dis_numberdensity_fast\n",
      "Time clip was applied to: mms4_dis_densityextrapolation_low_fast\n",
      "Time clip was applied to: mms4_dis_densityextrapolation_high_fast\n",
      "Time clip was applied to: mms4_dis_bulkv_dbcs_fast\n",
      "Time clip was applied to: mms4_dis_bulkv_spintone_dbcs_fast\n",
      "Time clip was applied to: mms4_dis_bulkv_gse_fast\n",
      "Time clip was applied to: mms4_dis_bulkv_spintone_gse_fast\n",
      "Time clip was applied to: mms4_dis_prestensor_dbcs_fast\n",
      "Time clip was applied to: mms4_dis_prestensor_gse_fast\n",
      "Time clip was applied to: mms4_dis_pres_bg_fast\n",
      "Time clip was applied to: mms4_dis_temptensor_dbcs_fast\n",
      "Time clip was applied to: mms4_dis_temptensor_gse_fast\n",
      "Time clip was applied to: mms4_dis_heatq_dbcs_fast\n",
      "Time clip was applied to: mms4_dis_heatq_gse_fast\n",
      "Time clip was applied to: mms4_dis_temppara_fast\n",
      "Time clip was applied to: mms4_dis_tempperp_fast\n",
      "Loaded variables:\n",
      "mms1_des_errorflags_fast\n",
      "mms1_des_startdelphi_count_fast\n",
      "mms1_des_startdelphi_angle_fast\n",
      "mms1_des_pitchangdist_lowen_fast\n",
      "mms1_des_pitchangdist_miden_fast\n",
      "mms1_des_pitchangdist_highen_fast\n",
      "mms1_des_energyspectr_px_fast\n",
      "mms1_des_energyspectr_mx_fast\n",
      "mms1_des_energyspectr_py_fast\n",
      "mms1_des_energyspectr_my_fast\n",
      "mms1_des_energyspectr_pz_fast\n",
      "mms1_des_energyspectr_mz_fast\n",
      "mms1_des_energyspectr_par_fast\n",
      "mms1_des_energyspectr_anti_fast\n",
      "mms1_des_energyspectr_perp_fast\n",
      "mms1_des_energyspectr_omni_fast\n",
      "mms1_des_numberdensity_fast\n",
      "mms1_des_densityextrapolation_low_fast\n",
      "mms1_des_densityextrapolation_high_fast\n",
      "mms1_des_bulkv_dbcs_fast\n",
      "mms1_des_bulkv_spintone_dbcs_fast\n",
      "mms1_des_bulkv_gse_fast\n",
      "mms1_des_bulkv_spintone_gse_fast\n",
      "mms1_des_prestensor_dbcs_fast\n",
      "mms1_des_prestensor_gse_fast\n",
      "mms1_des_temptensor_dbcs_fast\n",
      "mms1_des_temptensor_gse_fast\n",
      "mms1_des_heatq_dbcs_fast\n",
      "mms1_des_heatq_gse_fast\n",
      "mms1_des_temppara_fast\n",
      "mms1_des_tempperp_fast\n",
      "mms1_dis_errorflags_fast\n",
      "mms1_dis_startdelphi_count_fast\n",
      "mms1_dis_startdelphi_angle_fast\n",
      "mms1_dis_energyspectr_px_fast\n",
      "mms1_dis_energyspectr_mx_fast\n",
      "mms1_dis_energyspectr_py_fast\n",
      "mms1_dis_energyspectr_my_fast\n",
      "mms1_dis_energyspectr_pz_fast\n",
      "mms1_dis_energyspectr_mz_fast\n",
      "mms1_dis_energyspectr_omni_fast\n",
      "mms1_dis_spectr_bg_fast\n",
      "mms1_dis_numberdensity_bg_fast\n",
      "mms1_dis_numberdensity_fast\n",
      "mms1_dis_densityextrapolation_low_fast\n",
      "mms1_dis_densityextrapolation_high_fast\n",
      "mms1_dis_bulkv_dbcs_fast\n",
      "mms1_dis_bulkv_spintone_dbcs_fast\n",
      "mms1_dis_bulkv_gse_fast\n",
      "mms1_dis_bulkv_spintone_gse_fast\n",
      "mms1_dis_prestensor_dbcs_fast\n",
      "mms1_dis_prestensor_gse_fast\n",
      "mms1_dis_pres_bg_fast\n",
      "mms1_dis_temptensor_dbcs_fast\n",
      "mms1_dis_temptensor_gse_fast\n",
      "mms1_dis_heatq_dbcs_fast\n",
      "mms1_dis_heatq_gse_fast\n",
      "mms1_dis_temppara_fast\n",
      "mms1_dis_tempperp_fast\n",
      "mms2_des_errorflags_fast\n",
      "mms2_des_startdelphi_count_fast\n",
      "mms2_des_startdelphi_angle_fast\n",
      "mms2_des_pitchangdist_lowen_fast\n",
      "mms2_des_pitchangdist_miden_fast\n",
      "mms2_des_pitchangdist_highen_fast\n",
      "mms2_des_energyspectr_px_fast\n",
      "mms2_des_energyspectr_mx_fast\n",
      "mms2_des_energyspectr_py_fast\n",
      "mms2_des_energyspectr_my_fast\n",
      "mms2_des_energyspectr_pz_fast\n",
      "mms2_des_energyspectr_mz_fast\n",
      "mms2_des_energyspectr_par_fast\n",
      "mms2_des_energyspectr_anti_fast\n",
      "mms2_des_energyspectr_perp_fast\n",
      "mms2_des_energyspectr_omni_fast\n",
      "mms2_des_numberdensity_fast\n",
      "mms2_des_densityextrapolation_low_fast\n",
      "mms2_des_densityextrapolation_high_fast\n",
      "mms2_des_bulkv_dbcs_fast\n",
      "mms2_des_bulkv_spintone_dbcs_fast\n",
      "mms2_des_bulkv_gse_fast\n",
      "mms2_des_bulkv_spintone_gse_fast\n",
      "mms2_des_prestensor_dbcs_fast\n",
      "mms2_des_prestensor_gse_fast\n",
      "mms2_des_temptensor_dbcs_fast\n",
      "mms2_des_temptensor_gse_fast\n",
      "mms2_des_heatq_dbcs_fast\n",
      "mms2_des_heatq_gse_fast\n",
      "mms2_des_temppara_fast\n",
      "mms2_des_tempperp_fast\n",
      "mms2_dis_errorflags_fast\n",
      "mms2_dis_startdelphi_count_fast\n",
      "mms2_dis_startdelphi_angle_fast\n",
      "mms2_dis_energyspectr_px_fast\n",
      "mms2_dis_energyspectr_mx_fast\n",
      "mms2_dis_energyspectr_py_fast\n",
      "mms2_dis_energyspectr_my_fast\n",
      "mms2_dis_energyspectr_pz_fast\n",
      "mms2_dis_energyspectr_mz_fast\n",
      "mms2_dis_energyspectr_omni_fast\n",
      "mms2_dis_spectr_bg_fast\n",
      "mms2_dis_numberdensity_bg_fast\n",
      "mms2_dis_numberdensity_fast\n",
      "mms2_dis_densityextrapolation_low_fast\n",
      "mms2_dis_densityextrapolation_high_fast\n",
      "mms2_dis_bulkv_dbcs_fast\n",
      "mms2_dis_bulkv_spintone_dbcs_fast\n",
      "mms2_dis_bulkv_gse_fast\n",
      "mms2_dis_bulkv_spintone_gse_fast\n",
      "mms2_dis_prestensor_dbcs_fast\n",
      "mms2_dis_prestensor_gse_fast\n",
      "mms2_dis_pres_bg_fast\n",
      "mms2_dis_temptensor_dbcs_fast\n",
      "mms2_dis_temptensor_gse_fast\n",
      "mms2_dis_heatq_dbcs_fast\n",
      "mms2_dis_heatq_gse_fast\n",
      "mms2_dis_temppara_fast\n",
      "mms2_dis_tempperp_fast\n",
      "mms3_des_errorflags_fast\n",
      "mms3_des_startdelphi_count_fast\n",
      "mms3_des_startdelphi_angle_fast\n",
      "mms3_des_pitchangdist_lowen_fast\n",
      "mms3_des_pitchangdist_miden_fast\n",
      "mms3_des_pitchangdist_highen_fast\n",
      "mms3_des_energyspectr_px_fast\n",
      "mms3_des_energyspectr_mx_fast\n",
      "mms3_des_energyspectr_py_fast\n",
      "mms3_des_energyspectr_my_fast\n",
      "mms3_des_energyspectr_pz_fast\n",
      "mms3_des_energyspectr_mz_fast\n",
      "mms3_des_energyspectr_par_fast\n",
      "mms3_des_energyspectr_anti_fast\n",
      "mms3_des_energyspectr_perp_fast\n",
      "mms3_des_energyspectr_omni_fast\n",
      "mms3_des_numberdensity_fast\n",
      "mms3_des_densityextrapolation_low_fast\n",
      "mms3_des_densityextrapolation_high_fast\n",
      "mms3_des_bulkv_dbcs_fast\n",
      "mms3_des_bulkv_spintone_dbcs_fast\n",
      "mms3_des_bulkv_gse_fast\n",
      "mms3_des_bulkv_spintone_gse_fast\n",
      "mms3_des_prestensor_dbcs_fast\n",
      "mms3_des_prestensor_gse_fast\n",
      "mms3_des_temptensor_dbcs_fast\n",
      "mms3_des_temptensor_gse_fast\n",
      "mms3_des_heatq_dbcs_fast\n",
      "mms3_des_heatq_gse_fast\n",
      "mms3_des_temppara_fast\n",
      "mms3_des_tempperp_fast\n",
      "mms3_dis_errorflags_fast\n",
      "mms3_dis_startdelphi_count_fast\n",
      "mms3_dis_startdelphi_angle_fast\n",
      "mms3_dis_energyspectr_px_fast\n",
      "mms3_dis_energyspectr_mx_fast\n",
      "mms3_dis_energyspectr_py_fast\n",
      "mms3_dis_energyspectr_my_fast\n",
      "mms3_dis_energyspectr_pz_fast\n",
      "mms3_dis_energyspectr_mz_fast\n",
      "mms3_dis_energyspectr_omni_fast\n",
      "mms3_dis_spectr_bg_fast\n",
      "mms3_dis_numberdensity_bg_fast\n",
      "mms3_dis_numberdensity_fast\n",
      "mms3_dis_densityextrapolation_low_fast\n",
      "mms3_dis_densityextrapolation_high_fast\n",
      "mms3_dis_bulkv_dbcs_fast\n",
      "mms3_dis_bulkv_spintone_dbcs_fast\n",
      "mms3_dis_bulkv_gse_fast\n",
      "mms3_dis_bulkv_spintone_gse_fast\n",
      "mms3_dis_prestensor_dbcs_fast\n",
      "mms3_dis_prestensor_gse_fast\n",
      "mms3_dis_pres_bg_fast\n",
      "mms3_dis_temptensor_dbcs_fast\n",
      "mms3_dis_temptensor_gse_fast\n",
      "mms3_dis_heatq_dbcs_fast\n",
      "mms3_dis_heatq_gse_fast\n",
      "mms3_dis_temppara_fast\n",
      "mms3_dis_tempperp_fast\n",
      "mms4_des_errorflags_fast\n",
      "mms4_des_startdelphi_count_fast\n",
      "mms4_des_startdelphi_angle_fast\n",
      "mms4_des_pitchangdist_lowen_fast\n",
      "mms4_des_pitchangdist_miden_fast\n",
      "mms4_des_pitchangdist_highen_fast\n",
      "mms4_des_energyspectr_px_fast\n",
      "mms4_des_energyspectr_mx_fast\n",
      "mms4_des_energyspectr_py_fast\n",
      "mms4_des_energyspectr_my_fast\n",
      "mms4_des_energyspectr_pz_fast\n",
      "mms4_des_energyspectr_mz_fast\n",
      "mms4_des_energyspectr_par_fast\n",
      "mms4_des_energyspectr_anti_fast\n",
      "mms4_des_energyspectr_perp_fast\n",
      "mms4_des_energyspectr_omni_fast\n",
      "mms4_des_numberdensity_fast\n",
      "mms4_des_densityextrapolation_low_fast\n",
      "mms4_des_densityextrapolation_high_fast\n",
      "mms4_des_bulkv_dbcs_fast\n",
      "mms4_des_bulkv_spintone_dbcs_fast\n",
      "mms4_des_bulkv_gse_fast\n",
      "mms4_des_bulkv_spintone_gse_fast\n",
      "mms4_des_prestensor_dbcs_fast\n",
      "mms4_des_prestensor_gse_fast\n",
      "mms4_des_temptensor_dbcs_fast\n",
      "mms4_des_temptensor_gse_fast\n",
      "mms4_des_heatq_dbcs_fast\n",
      "mms4_des_heatq_gse_fast\n",
      "mms4_des_temppara_fast\n",
      "mms4_des_tempperp_fast\n",
      "mms4_dis_errorflags_fast\n",
      "mms4_dis_startdelphi_count_fast\n",
      "mms4_dis_startdelphi_angle_fast\n",
      "mms4_dis_energyspectr_px_fast\n",
      "mms4_dis_energyspectr_mx_fast\n",
      "mms4_dis_energyspectr_py_fast\n",
      "mms4_dis_energyspectr_my_fast\n",
      "mms4_dis_energyspectr_pz_fast\n",
      "mms4_dis_energyspectr_mz_fast\n",
      "mms4_dis_energyspectr_omni_fast\n",
      "mms4_dis_spectr_bg_fast\n",
      "mms4_dis_numberdensity_bg_fast\n",
      "mms4_dis_numberdensity_fast\n",
      "mms4_dis_densityextrapolation_low_fast\n",
      "mms4_dis_densityextrapolation_high_fast\n",
      "mms4_dis_bulkv_dbcs_fast\n",
      "mms4_dis_bulkv_spintone_dbcs_fast\n",
      "mms4_dis_bulkv_gse_fast\n",
      "mms4_dis_bulkv_spintone_gse_fast\n",
      "mms4_dis_prestensor_dbcs_fast\n",
      "mms4_dis_prestensor_gse_fast\n",
      "mms4_dis_pres_bg_fast\n",
      "mms4_dis_temptensor_dbcs_fast\n",
      "mms4_dis_temptensor_gse_fast\n",
      "mms4_dis_heatq_dbcs_fast\n",
      "mms4_dis_heatq_gse_fast\n",
      "mms4_dis_temppara_fast\n",
      "mms4_dis_tempperp_fast\n"
     ]
    }
   ],
   "source": [
    "fpi_data = fpi(center_measurement=True, \n",
    "               datatype=['des-moms', 'dis-moms'], \n",
    "               probe=[1, 2, 3, 4],\n",
    "               trange=['2015-10-16/06:00', '2015-10-16/14:00'],\n",
    "               time_clip=True)"
   ]
  },
  {
   "cell_type": "code",
   "execution_count": 91,
   "metadata": {},
   "outputs": [],
   "source": [
    "tplot(['mms4_des_energyspectr_omni_fast', 'mms4_dis_energyspectr_omni_fast'])"
   ]
  },
  {
   "cell_type": "code",
   "execution_count": 92,
   "metadata": {},
   "outputs": [],
   "source": [
    "tplot(['mms4_des_numberdensity_fast', \n",
    "       'mms4_des_bulkv_gse_fast', \n",
    "       'mms4_des_pitchangdist_miden_fast'])"
   ]
  },
  {
   "cell_type": "code",
   "execution_count": 93,
   "metadata": {},
   "outputs": [],
   "source": [
    "tplot(['mms1_des_energyspectr_omni_fast', \n",
    "       'mms2_des_energyspectr_omni_fast', \n",
    "       'mms3_des_energyspectr_omni_fast', \n",
    "       'mms4_des_energyspectr_omni_fast'])"
   ]
  },
  {
   "cell_type": "code",
   "execution_count": 94,
   "metadata": {},
   "outputs": [],
   "source": [
    "tplot(['mms1_dis_energyspectr_omni_fast', \n",
    "       'mms2_dis_energyspectr_omni_fast', \n",
    "       'mms3_dis_energyspectr_omni_fast', \n",
    "       'mms4_dis_energyspectr_omni_fast'])"
   ]
  },
  {
   "cell_type": "markdown",
   "metadata": {},
   "source": [
    "Load electron distribution data for probe 4:"
   ]
  },
  {
   "cell_type": "code",
   "execution_count": 95,
   "metadata": {},
   "outputs": [
    {
     "name": "stderr",
     "output_type": "stream",
     "text": [
      "04-Dec-19 10:46:12: Loading /Volumes/data/data/mms/mms4/fpi/fast/l2/des-dist/2015/10/mms4_fpi_fast_l2_des-dist_20151016040000_v3.3.0.cdf\n",
      "04-Dec-19 10:46:12: Loading /Volumes/data/data/mms/mms4/fpi/fast/l2/des-dist/2015/10/mms4_fpi_fast_l2_des-dist_20151016060000_v3.3.0.cdf\n",
      "04-Dec-19 10:46:12: Loading /Volumes/data/data/mms/mms4/fpi/fast/l2/des-dist/2015/10/mms4_fpi_fast_l2_des-dist_20151016080000_v3.3.0.cdf\n",
      "04-Dec-19 10:46:12: Loading /Volumes/data/data/mms/mms4/fpi/fast/l2/des-dist/2015/10/mms4_fpi_fast_l2_des-dist_20151016100000_v3.3.0.cdf\n",
      "04-Dec-19 10:46:12: Loading /Volumes/data/data/mms/mms4/fpi/fast/l2/des-dist/2015/10/mms4_fpi_fast_l2_des-dist_20151016120000_v3.3.0.cdf\n"
     ]
    },
    {
     "name": "stdout",
     "output_type": "stream",
     "text": [
      "Cannot find x axis.\n",
      "No attribute named DEPEND_TIME or DEPEND_0 in                           variable mms4_des_compressionloss_fast\n",
      "Cannot find x axis.\n",
      "No attribute named DEPEND_TIME or DEPEND_0 in                           variable mms4_des_compressionloss_fast\n",
      "Cannot find x axis.\n",
      "No attribute named DEPEND_TIME or DEPEND_0 in                           variable mms4_des_compressionloss_fast\n",
      "Cannot find x axis.\n",
      "No attribute named DEPEND_TIME or DEPEND_0 in                           variable mms4_des_compressionloss_fast\n",
      "Cannot find x axis.\n",
      "No attribute named DEPEND_TIME or DEPEND_0 in                           variable mms4_des_compressionloss_fast\n",
      "Time clip returns full data set.\n",
      "Time clip was applied to: mms4_des_startdelphi_count_fast\n",
      "Time clip was applied to: mms4_des_startdelphi_angle_fast\n",
      "Problem time clipping: mms4_des_dist_fast\n",
      "Problem time clipping: mms4_des_disterr_fast\n",
      "Loaded variables:\n",
      "mms4_des_errorflags_fast\n",
      "mms4_des_startdelphi_count_fast\n",
      "mms4_des_startdelphi_angle_fast\n",
      "mms4_des_dist_fast\n",
      "mms4_des_disterr_fast\n"
     ]
    }
   ],
   "source": [
    "fpi_data = fpi(center_measurement=True, \n",
    "               datatype='des-dist', \n",
    "               probe='4',\n",
    "               trange=['2015-10-16/06:00', '2015-10-16/14:00'],\n",
    "               time_clip=True)"
   ]
  },
  {
   "cell_type": "markdown",
   "metadata": {},
   "source": [
    "Note: `get_data` allows you to return the xarray object with the xarray keyword"
   ]
  },
  {
   "cell_type": "code",
   "execution_count": 96,
   "metadata": {},
   "outputs": [],
   "source": [
    "fpi_dist = get_data('mms4_des_dist_fast', xarray=True)"
   ]
  },
  {
   "cell_type": "code",
   "execution_count": 97,
   "metadata": {},
   "outputs": [
    {
     "data": {
      "text/plain": [
       "<xarray.DataArray 'mms4_des_dist_fast' (time: 7174, v1: 32, v2: 16, v3: 32)>\n",
       "array([[[[1.162484e-25, ..., 1.057911e-25],\n",
       "         ...,\n",
       "         [1.452606e-25, ..., 1.440192e-25]],\n",
       "\n",
       "        ...,\n",
       "\n",
       "        [[4.622953e-34, ..., 4.578231e-34],\n",
       "         ...,\n",
       "         [6.779644e-34, ..., 5.293655e-34]]],\n",
       "\n",
       "\n",
       "       ...,\n",
       "\n",
       "\n",
       "       [[[1.833398e-26, ..., 1.843640e-26],\n",
       "         ...,\n",
       "         [2.177175e-26, ..., 2.057028e-26]],\n",
       "\n",
       "        ...,\n",
       "\n",
       "        [[4.613014e-35, ..., 4.543899e-35],\n",
       "         ...,\n",
       "         [4.491138e-35, ..., 4.351266e-35]]]], dtype=float32)\n",
       "Coordinates:\n",
       "  * time       (time) float64 1.445e+09 1.445e+09 ... 1.445e+09 1.445e+09\n",
       "    spec_bins  (v2) float32 5.625 16.875 28.125 ... 151.875 163.125 174.375\n",
       "  * v1         (v1) float32 2.75 14.0 25.25 36.5 ... 317.75 329.0 340.25 351.5\n",
       "  * v2         (v2) float32 5.625 16.875 28.125 ... 151.875 163.125 174.375\n",
       "Dimensions without coordinates: v3\n",
       "Attributes:\n",
       "    plot_options:  {'xaxis_opt': {'axis_label': 'Time', 'crosshair': 'X', 'x_..."
      ]
     },
     "execution_count": 97,
     "metadata": {},
     "output_type": "execute_result"
    }
   ],
   "source": [
    "fpi_dist"
   ]
  },
  {
   "cell_type": "markdown",
   "metadata": {},
   "source": [
    "### HPCA data\n",
    "\n",
    "https://lasp.colorado.edu/mms/sdc/public/datasets/hpca/\n",
    "\n",
    "Load the ion moments data for probe 1:\n",
    "\n",
    "Note: set the `center_measurement` keyword to `True` to center the measurement to the middle of the accumulation interval"
   ]
  },
  {
   "cell_type": "code",
   "execution_count": 98,
   "metadata": {},
   "outputs": [
    {
     "name": "stderr",
     "output_type": "stream",
     "text": [
      "04-Dec-19 10:47:37: Loading /Volumes/data/data/mms/mms1/hpca/srvy/l2/moments/2015/10/mms1_hpca_srvy_l2_moments_20151016022700_v4.1.0.cdf\n",
      "04-Dec-19 10:47:37: Loading /Volumes/data/data/mms/mms1/hpca/srvy/l2/moments/2015/10/mms1_hpca_srvy_l2_moments_20151016060000_v4.1.0.cdf\n",
      "04-Dec-19 10:47:37: Loading /Volumes/data/data/mms/mms1/hpca/srvy/l2/moments/2015/10/mms1_hpca_srvy_l2_moments_20151016120000_v4.1.0.cdf\n"
     ]
    },
    {
     "name": "stdout",
     "output_type": "stream",
     "text": [
      "Time clip was applied to: mms1_hpca_spin_number\n",
      "Time clip was applied to: mms1_hpca_sweep_table_number\n",
      "Time clip was applied to: mms1_hpca_science_mode\n",
      "Time clip was applied to: mms1_hpca_hplus_number_density\n",
      "Time clip was applied to: mms1_hpca_hplus_ion_bulk_velocity\n",
      "Time clip was applied to: mms1_hpca_hplus_scalar_temperature\n",
      "Time clip was applied to: mms1_hpca_hplus_ion_pressure\n",
      "Time clip was applied to: mms1_hpca_hplus_temperature_tensor\n",
      "Time clip was applied to: mms1_hpca_heplus_number_density\n",
      "Time clip was applied to: mms1_hpca_heplus_ion_bulk_velocity\n",
      "Time clip was applied to: mms1_hpca_heplus_scalar_temperature\n",
      "Time clip was applied to: mms1_hpca_heplus_ion_pressure\n",
      "Time clip was applied to: mms1_hpca_heplus_temperature_tensor\n",
      "Time clip was applied to: mms1_hpca_heplusplus_number_density\n",
      "Time clip was applied to: mms1_hpca_heplusplus_ion_bulk_velocity\n",
      "Time clip was applied to: mms1_hpca_heplusplus_scalar_temperature\n",
      "Time clip was applied to: mms1_hpca_heplusplus_ion_pressure\n",
      "Time clip was applied to: mms1_hpca_heplusplus_temperature_tensor\n",
      "Time clip was applied to: mms1_hpca_oplus_number_density\n",
      "Time clip was applied to: mms1_hpca_oplus_ion_bulk_velocity\n",
      "Time clip was applied to: mms1_hpca_oplus_scalar_temperature\n",
      "Time clip was applied to: mms1_hpca_oplus_ion_pressure\n",
      "Time clip was applied to: mms1_hpca_oplus_temperature_tensor\n",
      "Time clip was applied to: mms1_hpca_B_GSE_spin_avg\n",
      "Time clip was applied to: mms1_hpca_B_GSM_spin_avg\n",
      "Time clip was applied to: mms1_hpca_hplus_ion_bulk_velocity_GSM\n",
      "Time clip was applied to: mms1_hpca_hplus_tperp\n",
      "Time clip was applied to: mms1_hpca_hplus_tparallel\n",
      "Time clip was applied to: mms1_hpca_hplus_vperp\n",
      "Time clip was applied to: mms1_hpca_hplus_vparallel\n",
      "Time clip was applied to: mms1_hpca_hplus_vperp_GSM\n",
      "Time clip was applied to: mms1_hpca_hplus_vparallel_GSM\n",
      "Time clip was applied to: mms1_hpca_heplus_ion_bulk_velocity_GSM\n",
      "Time clip was applied to: mms1_hpca_heplus_tperp\n",
      "Time clip was applied to: mms1_hpca_heplus_tparallel\n",
      "Time clip was applied to: mms1_hpca_heplus_vperp\n",
      "Time clip was applied to: mms1_hpca_heplus_vparallel\n",
      "Time clip was applied to: mms1_hpca_heplus_vperp_GSM\n",
      "Time clip was applied to: mms1_hpca_heplus_vparallel_GSM\n",
      "Time clip was applied to: mms1_hpca_heplusplus_ion_bulk_velocity_GSM\n",
      "Time clip was applied to: mms1_hpca_heplusplus_tperp\n",
      "Time clip was applied to: mms1_hpca_heplusplus_tparallel\n",
      "Time clip was applied to: mms1_hpca_heplusplus_vperp\n",
      "Time clip was applied to: mms1_hpca_heplusplus_vparallel\n",
      "Time clip was applied to: mms1_hpca_heplusplus_vperp_GSM\n",
      "Time clip was applied to: mms1_hpca_heplusplus_vparallel_GSM\n",
      "Time clip was applied to: mms1_hpca_oplus_ion_bulk_velocity_GSM\n",
      "Time clip was applied to: mms1_hpca_oplus_tperp\n",
      "Time clip was applied to: mms1_hpca_oplus_tparallel\n",
      "Time clip was applied to: mms1_hpca_oplus_vperp\n",
      "Time clip was applied to: mms1_hpca_oplus_vparallel\n",
      "Time clip was applied to: mms1_hpca_oplus_vperp_GSM\n",
      "Time clip was applied to: mms1_hpca_oplus_vparallel_GSM\n",
      "Time clip was applied to: mms1_hpca_MCP_VMON_MIN_converted\n",
      "Time clip was applied to: mms1_hpca_TOF_VMON_MIN_converted\n",
      "Loaded variables:\n",
      "mms1_hpca_spin_number\n",
      "mms1_hpca_sweep_table_number\n",
      "mms1_hpca_science_mode\n",
      "mms1_hpca_hplus_number_density\n",
      "mms1_hpca_hplus_ion_bulk_velocity\n",
      "mms1_hpca_hplus_scalar_temperature\n",
      "mms1_hpca_hplus_ion_pressure\n",
      "mms1_hpca_hplus_temperature_tensor\n",
      "mms1_hpca_heplus_number_density\n",
      "mms1_hpca_heplus_ion_bulk_velocity\n",
      "mms1_hpca_heplus_scalar_temperature\n",
      "mms1_hpca_heplus_ion_pressure\n",
      "mms1_hpca_heplus_temperature_tensor\n",
      "mms1_hpca_heplusplus_number_density\n",
      "mms1_hpca_heplusplus_ion_bulk_velocity\n",
      "mms1_hpca_heplusplus_scalar_temperature\n",
      "mms1_hpca_heplusplus_ion_pressure\n",
      "mms1_hpca_heplusplus_temperature_tensor\n",
      "mms1_hpca_oplus_number_density\n",
      "mms1_hpca_oplus_ion_bulk_velocity\n",
      "mms1_hpca_oplus_scalar_temperature\n",
      "mms1_hpca_oplus_ion_pressure\n",
      "mms1_hpca_oplus_temperature_tensor\n",
      "mms1_hpca_B_GSE_spin_avg\n",
      "mms1_hpca_B_GSM_spin_avg\n",
      "mms1_hpca_hplus_ion_bulk_velocity_GSM\n",
      "mms1_hpca_hplus_tperp\n",
      "mms1_hpca_hplus_tparallel\n",
      "mms1_hpca_hplus_vperp\n",
      "mms1_hpca_hplus_vparallel\n",
      "mms1_hpca_hplus_vperp_GSM\n",
      "mms1_hpca_hplus_vparallel_GSM\n",
      "mms1_hpca_heplus_ion_bulk_velocity_GSM\n",
      "mms1_hpca_heplus_tperp\n",
      "mms1_hpca_heplus_tparallel\n",
      "mms1_hpca_heplus_vperp\n",
      "mms1_hpca_heplus_vparallel\n",
      "mms1_hpca_heplus_vperp_GSM\n",
      "mms1_hpca_heplus_vparallel_GSM\n",
      "mms1_hpca_heplusplus_ion_bulk_velocity_GSM\n",
      "mms1_hpca_heplusplus_tperp\n",
      "mms1_hpca_heplusplus_tparallel\n",
      "mms1_hpca_heplusplus_vperp\n",
      "mms1_hpca_heplusplus_vparallel\n",
      "mms1_hpca_heplusplus_vperp_GSM\n",
      "mms1_hpca_heplusplus_vparallel_GSM\n",
      "mms1_hpca_oplus_ion_bulk_velocity_GSM\n",
      "mms1_hpca_oplus_tperp\n",
      "mms1_hpca_oplus_tparallel\n",
      "mms1_hpca_oplus_vperp\n",
      "mms1_hpca_oplus_vparallel\n",
      "mms1_hpca_oplus_vperp_GSM\n",
      "mms1_hpca_oplus_vparallel_GSM\n",
      "mms1_hpca_MCP_VMON_MIN_converted\n",
      "mms1_hpca_TOF_VMON_MIN_converted\n"
     ]
    }
   ],
   "source": [
    "hpca_data = hpca(center_measurement=True, \n",
    "                 datatype='moments', \n",
    "                 trange=['2015-10-16/06:00', '2015-10-16/14:00'],\n",
    "                 time_clip=True)"
   ]
  },
  {
   "cell_type": "code",
   "execution_count": 99,
   "metadata": {},
   "outputs": [],
   "source": [
    "tplot(['mms1_hpca_hplus_number_density', \n",
    "       'mms1_hpca_hplus_scalar_temperature', \n",
    "       'mms1_hpca_hplus_ion_bulk_velocity'])"
   ]
  },
  {
   "cell_type": "code",
   "execution_count": 100,
   "metadata": {},
   "outputs": [],
   "source": [
    "tplot(['mms1_hpca_hplus_ion_bulk_velocity', \n",
    "       'mms1_hpca_oplus_ion_bulk_velocity', \n",
    "       'mms1_hpca_heplus_ion_bulk_velocity',\n",
    "       'mms1_hpca_heplusplus_ion_bulk_velocity'])"
   ]
  },
  {
   "cell_type": "markdown",
   "metadata": {},
   "source": [
    "Load the ion flux and PSD data for probe 1:"
   ]
  },
  {
   "cell_type": "code",
   "execution_count": 101,
   "metadata": {
    "scrolled": true
   },
   "outputs": [
    {
     "name": "stderr",
     "output_type": "stream",
     "text": [
      "04-Dec-19 10:48:32: Loading /Volumes/data/data/mms/mms1/hpca/srvy/l2/ion/2015/10/mms1_hpca_srvy_l2_ion_20151016022700_v4.1.0.cdf\n",
      "04-Dec-19 10:48:32: Loading /Volumes/data/data/mms/mms1/hpca/srvy/l2/ion/2015/10/mms1_hpca_srvy_l2_ion_20151016060000_v4.1.0.cdf\n",
      "04-Dec-19 10:48:32: Loading /Volumes/data/data/mms/mms1/hpca/srvy/l2/ion/2015/10/mms1_hpca_srvy_l2_ion_20151016120000_v4.1.0.cdf\n"
     ]
    },
    {
     "name": "stdout",
     "output_type": "stream",
     "text": [
      "Time clip was applied to: mms1_hpca_azimuth_decimation_factor\n",
      "Time clip was applied to: mms1_hpca_polar_decimation_factor\n",
      "Time clip was applied to: mms1_hpca_energy_decimation_factor\n",
      "Time clip was applied to: mms1_hpca_sweep_table_number\n",
      "Time clip was applied to: mms1_hpca_start_azimuth\n",
      "Time clip was applied to: mms1_hpca_science_mode\n",
      "Time clip was applied to: mms1_hpca_hplus_flux\n",
      "Time clip was applied to: mms1_hpca_hplus_phase_space_density\n",
      "Time clip was applied to: mms1_hpca_heplus_flux\n",
      "Time clip was applied to: mms1_hpca_heplus_phase_space_density\n",
      "Time clip was applied to: mms1_hpca_heplusplus_flux\n",
      "Time clip was applied to: mms1_hpca_heplusplus_phase_space_density\n",
      "Time clip was applied to: mms1_hpca_oplus_flux\n",
      "Time clip was applied to: mms1_hpca_oplus_phase_space_density\n",
      "Time clip was applied to: mms1_hpca_B_GSE_sweep_avg\n",
      "Time clip was applied to: mms1_hpca_B_GSM_sweep_avg\n",
      "Time clip was applied to: mms1_hpca_azimuth_angles_degrees\n",
      "Time clip was applied to: mms1_hpca_azimuth_angles_per_ev_degrees\n",
      "Time clip was applied to: mms1_hpca_MCP_VMON_MIN_converted\n",
      "Time clip was applied to: mms1_hpca_TOF_VMON_MIN_converted\n",
      "Time clip was applied to: mms1_hpca_decimation_factor_index\n",
      "Loaded variables:\n",
      "mms1_hpca_azimuth_decimation_factor\n",
      "mms1_hpca_polar_decimation_factor\n",
      "mms1_hpca_energy_decimation_factor\n",
      "mms1_hpca_sweep_table_number\n",
      "mms1_hpca_start_azimuth\n",
      "mms1_hpca_science_mode\n",
      "mms1_hpca_hplus_flux\n",
      "mms1_hpca_hplus_phase_space_density\n",
      "mms1_hpca_heplus_flux\n",
      "mms1_hpca_heplus_phase_space_density\n",
      "mms1_hpca_heplusplus_flux\n",
      "mms1_hpca_heplusplus_phase_space_density\n",
      "mms1_hpca_oplus_flux\n",
      "mms1_hpca_oplus_phase_space_density\n",
      "mms1_hpca_B_GSE_sweep_avg\n",
      "mms1_hpca_B_GSM_sweep_avg\n",
      "mms1_hpca_azimuth_angles_degrees\n",
      "mms1_hpca_azimuth_angles_per_ev_degrees\n",
      "mms1_hpca_MCP_VMON_MIN_converted\n",
      "mms1_hpca_TOF_VMON_MIN_converted\n",
      "mms1_hpca_decimation_factor_index\n"
     ]
    }
   ],
   "source": [
    "hpca_data = hpca(center_measurement=True, \n",
    "                 datatype='ion', \n",
    "                 trange=['2015-10-16/06:00', '2015-10-16/14:00'],\n",
    "                 time_clip=True)"
   ]
  },
  {
   "cell_type": "markdown",
   "metadata": {},
   "source": [
    "To calculate the omni-directional energy spectra:"
   ]
  },
  {
   "cell_type": "code",
   "execution_count": 102,
   "metadata": {},
   "outputs": [],
   "source": [
    "from pyspedas import mms_hpca_calc_anodes, mms_hpca_spin_sum"
   ]
  },
  {
   "cell_type": "code",
   "execution_count": 103,
   "metadata": {},
   "outputs": [],
   "source": [
    "not_spinavgd = mms_hpca_calc_anodes(probe='1', fov=[0, 360])\n"
   ]
  },
  {
   "cell_type": "markdown",
   "metadata": {},
   "source": [
    "The data must be spin-summed (or averaged) to obtain the full omni-directional data product. To average the data instead of summing, set the `avg` keyword to `True`"
   ]
  },
  {
   "cell_type": "code",
   "execution_count": 104,
   "metadata": {},
   "outputs": [],
   "source": [
    "spinavgd = mms_hpca_spin_sum(probe='1', avg=True)"
   ]
  },
  {
   "cell_type": "code",
   "execution_count": 105,
   "metadata": {},
   "outputs": [
    {
     "data": {
      "text/plain": [
       "['mms1_hpca_hplus_flux_elev_0-360_spin',\n",
       " 'mms1_hpca_heplus_flux_elev_0-360_spin',\n",
       " 'mms1_hpca_heplusplus_flux_elev_0-360_spin',\n",
       " 'mms1_hpca_oplus_flux_elev_0-360_spin']"
      ]
     },
     "execution_count": 105,
     "metadata": {},
     "output_type": "execute_result"
    }
   ],
   "source": [
    "spinavgd"
   ]
  },
  {
   "cell_type": "code",
   "execution_count": 106,
   "metadata": {},
   "outputs": [],
   "source": [
    "tplot(spinavgd)"
   ]
  },
  {
   "cell_type": "markdown",
   "metadata": {},
   "source": [
    "To return the xarray object containing the HPCA H+ PSD:"
   ]
  },
  {
   "cell_type": "code",
   "execution_count": 107,
   "metadata": {},
   "outputs": [],
   "source": [
    "hpca_dist = get_data('mms1_hpca_hplus_phase_space_density', xarray=True)"
   ]
  },
  {
   "cell_type": "code",
   "execution_count": 108,
   "metadata": {},
   "outputs": [
    {
     "data": {
      "text/plain": [
       "<xarray.DataArray 'mms1_hpca_hplus_phase_space_density' (time: 46081, v1: 16, v2: 63)>\n",
       "array([[[0.000000e+00, 0.000000e+00, ..., 5.696199e-29, 4.414892e-29],\n",
       "        [0.000000e+00, 0.000000e+00, ..., 4.381691e-29, 3.396070e-29],\n",
       "        ...,\n",
       "        [0.000000e+00, 0.000000e+00, ..., 2.780689e-28, 2.155199e-28],\n",
       "        [0.000000e+00, 0.000000e+00, ..., 2.864952e-28, 2.220508e-28]],\n",
       "\n",
       "       [[0.000000e+00, 0.000000e+00, ..., 5.696199e-29, 4.414892e-29],\n",
       "        [0.000000e+00, 0.000000e+00, ..., 4.381691e-29, 3.396070e-29],\n",
       "        ...,\n",
       "        [0.000000e+00, 0.000000e+00, ..., 1.668413e-28, 1.293119e-28],\n",
       "        [0.000000e+00, 0.000000e+00, ..., 1.718971e-28, 1.332305e-28]],\n",
       "\n",
       "       ...,\n",
       "\n",
       "       [[0.000000e+00, 0.000000e+00, ..., 5.698596e-28, 4.416750e-28],\n",
       "        [0.000000e+00, 0.000000e+00, ..., 4.383535e-28, 3.397500e-28],\n",
       "        ...,\n",
       "        [0.000000e+00, 0.000000e+00, ..., 2.225487e-28, 1.724885e-28],\n",
       "        [0.000000e+00, 0.000000e+00, ..., 2.292926e-28, 1.777154e-28]],\n",
       "\n",
       "       [[0.000000e+00, 0.000000e+00, ..., 5.698596e-28, 4.416750e-28],\n",
       "        [0.000000e+00, 0.000000e+00, ..., 4.383535e-28, 3.397500e-28],\n",
       "        ...,\n",
       "        [0.000000e+00, 0.000000e+00, ..., 2.225487e-28, 1.724885e-28],\n",
       "        [0.000000e+00, 0.000000e+00, ..., 2.292926e-28, 1.777154e-28]]])\n",
       "Coordinates:\n",
       "  * time       (time) float64 1.445e+09 1.445e+09 ... 1.445e+09 1.445e+09\n",
       "    spec_bins  (v2) float32 1.355 1.5718 1.8428 ... 27017.889 31869.818 37593.12\n",
       "  * v1         (v1) uint16 0 1 2 3 4 5 6 7 8 9 10 11 12 13 14 15\n",
       "  * v2         (v2) float32 1.355 1.5718 1.8428 ... 27017.889 31869.818 37593.12\n",
       "Attributes:\n",
       "    plot_options:  {'xaxis_opt': {'axis_label': 'Time', 'crosshair': 'X', 'x_..."
      ]
     },
     "execution_count": 108,
     "metadata": {},
     "output_type": "execute_result"
    }
   ],
   "source": [
    "hpca_dist"
   ]
  },
  {
   "cell_type": "markdown",
   "metadata": {},
   "source": [
    "## Appendix 1: trange formats"
   ]
  },
  {
   "cell_type": "code",
   "execution_count": 109,
   "metadata": {},
   "outputs": [],
   "source": "from pyspedas.projects.mms import fgm # we'll use FGM for examples"
  },
  {
   "cell_type": "markdown",
   "metadata": {},
   "source": [
    "### strings\n",
    "\n",
    "The trange keyword accepts a large number of date/time formats. These are assumed to be in UT"
   ]
  },
  {
   "cell_type": "code",
   "execution_count": 110,
   "metadata": {},
   "outputs": [],
   "source": [
    "trange = ['October 16, 2015', 'October 17, 2015']"
   ]
  },
  {
   "cell_type": "code",
   "execution_count": 111,
   "metadata": {},
   "outputs": [
    {
     "name": "stderr",
     "output_type": "stream",
     "text": [
      "04-Dec-19 11:13:13: Loading /Volumes/data/data/mms/mms1/fgm/srvy/l2/2015/10/mms1_fgm_srvy_l2_20151016_v4.18.0.cdf\n"
     ]
    },
    {
     "name": "stdout",
     "output_type": "stream",
     "text": [
      "The lengths of x and y do not match!\n",
      "Time clip was applied to: mms1_fgm_b_gse_srvy_l2_trange\n",
      "Time clip was applied to: mms1_fgm_b_gsm_srvy_l2_trange\n",
      "Time clip was applied to: mms1_fgm_b_dmpa_srvy_l2_trange\n",
      "Time clip was applied to: mms1_fgm_b_bcs_srvy_l2_trange\n",
      "Time clip was applied to: mms1_fgm_flag_srvy_l2_trange\n",
      "Time clip was applied to: mms1_fgm_r_gse_srvy_l2_trange\n",
      "Time clip was applied to: mms1_fgm_r_gsm_srvy_l2_trange\n",
      "Time clip was applied to: mms1_fgm_hirange_srvy_l2_trange\n",
      "Time clip was applied to: mms1_fgm_bdeltahalf_srvy_l2_trange\n",
      "Time clip was applied to: mms1_fgm_stemp_srvy_l2_trange\n",
      "Time clip was applied to: mms1_fgm_etemp_srvy_l2_trange\n",
      "Time clip was applied to: mms1_fgm_mode_srvy_l2_trange\n",
      "Time clip error: No pytplot names were provided.\n",
      "Loaded variables:\n",
      "mms1_fgm_b_gse_srvy_l2_trange\n",
      "mms1_fgm_b_gsm_srvy_l2_trange\n",
      "mms1_fgm_b_dmpa_srvy_l2_trange\n",
      "mms1_fgm_b_bcs_srvy_l2_trange\n",
      "mms1_fgm_flag_srvy_l2_trange\n",
      "mms1_fgm_r_gse_srvy_l2_trange\n",
      "mms1_fgm_r_gsm_srvy_l2_trange\n",
      "mms1_fgm_hirange_srvy_l2_trange\n",
      "mms1_fgm_bdeltahalf_srvy_l2_trange\n",
      "mms1_fgm_stemp_srvy_l2_trange\n",
      "mms1_fgm_etemp_srvy_l2_trange\n",
      "mms1_fgm_mode_srvy_l2_trange\n",
      "mms1_fgm_rdeltahalf_srvy_l2_trange\n"
     ]
    }
   ],
   "source": [
    "bvars = fgm(trange=trange, time_clip=True, suffix='_trange')"
   ]
  },
  {
   "cell_type": "code",
   "execution_count": 112,
   "metadata": {},
   "outputs": [],
   "source": [
    "tplot('mms1_fgm_b_gse_srvy_l2_trange')"
   ]
  },
  {
   "cell_type": "code",
   "execution_count": 113,
   "metadata": {},
   "outputs": [],
   "source": [
    "trange = ['Oct 16, 2015 at 13:06', 'Oct 16, 2015 at 13:07']"
   ]
  },
  {
   "cell_type": "code",
   "execution_count": 114,
   "metadata": {},
   "outputs": [
    {
     "name": "stderr",
     "output_type": "stream",
     "text": [
      "04-Dec-19 11:16:21: Loading /Volumes/data/data/mms/mms1/fgm/brst/l2/2015/10/16/mms1_fgm_brst_l2_20151016130524_v4.18.1.cdf\n"
     ]
    },
    {
     "name": "stdout",
     "output_type": "stream",
     "text": [
      "The lengths of x and y do not match!\n",
      "Time clip was applied to: mms1_fgm_b_gse_brst_l2_trange\n",
      "Time clip was applied to: mms1_fgm_b_gsm_brst_l2_trange\n",
      "Time clip was applied to: mms1_fgm_b_dmpa_brst_l2_trange\n",
      "Time clip was applied to: mms1_fgm_b_bcs_brst_l2_trange\n",
      "Time clip was applied to: mms1_fgm_flag_brst_l2_trange\n",
      "Time clip was applied to: mms1_fgm_r_gse_brst_l2_trange\n",
      "Time clip was applied to: mms1_fgm_r_gsm_brst_l2_trange\n",
      "Time clip was applied to: mms1_fgm_hirange_brst_l2_trange\n",
      "Time clip was applied to: mms1_fgm_bdeltahalf_brst_l2_trange\n",
      "Time clip was applied to: mms1_fgm_stemp_brst_l2_trange\n",
      "Time clip was applied to: mms1_fgm_etemp_brst_l2_trange\n",
      "Time clip was applied to: mms1_fgm_mode_brst_l2_trange\n",
      "Time clip error: No pytplot names were provided.\n",
      "Loaded variables:\n",
      "mms1_fgm_b_gse_brst_l2_trange\n",
      "mms1_fgm_b_gsm_brst_l2_trange\n",
      "mms1_fgm_b_dmpa_brst_l2_trange\n",
      "mms1_fgm_b_bcs_brst_l2_trange\n",
      "mms1_fgm_flag_brst_l2_trange\n",
      "mms1_fgm_r_gse_brst_l2_trange\n",
      "mms1_fgm_r_gsm_brst_l2_trange\n",
      "mms1_fgm_hirange_brst_l2_trange\n",
      "mms1_fgm_bdeltahalf_brst_l2_trange\n",
      "mms1_fgm_stemp_brst_l2_trange\n",
      "mms1_fgm_etemp_brst_l2_trange\n",
      "mms1_fgm_mode_brst_l2_trange\n",
      "mms1_fgm_rdeltahalf_brst_l2_trange\n"
     ]
    }
   ],
   "source": [
    "bvars = fgm(trange=trange, data_rate='brst', time_clip=True, suffix='_trange')"
   ]
  },
  {
   "cell_type": "code",
   "execution_count": 115,
   "metadata": {},
   "outputs": [],
   "source": [
    "tplot('mms1_fgm_b_gse_brst_l2_trange')"
   ]
  },
  {
   "cell_type": "markdown",
   "metadata": {},
   "source": [
    "### datetime objects\n",
    "\n",
    "If you set the trange with datetime objects, be sure to set the time zone."
   ]
  },
  {
   "cell_type": "code",
   "execution_count": 116,
   "metadata": {},
   "outputs": [
    {
     "name": "stderr",
     "output_type": "stream",
     "text": [
      "04-Dec-19 11:16:25: Loading /Volumes/data/data/mms/mms4/fgm/brst/l2/2015/10/16/mms4_fgm_brst_l2_20151016130524_v4.18.0.cdf\n"
     ]
    },
    {
     "name": "stdout",
     "output_type": "stream",
     "text": [
      "The lengths of x and y do not match!\n",
      "Loaded variables:\n",
      "mms4_fgm_b_gse_brst_l2\n",
      "mms4_fgm_b_gsm_brst_l2\n",
      "mms4_fgm_b_dmpa_brst_l2\n",
      "mms4_fgm_b_bcs_brst_l2\n",
      "mms4_fgm_flag_brst_l2\n",
      "mms4_fgm_r_gse_brst_l2\n",
      "mms4_fgm_r_gsm_brst_l2\n",
      "mms4_fgm_hirange_brst_l2\n",
      "mms4_fgm_bdeltahalf_brst_l2\n",
      "mms4_fgm_stemp_brst_l2\n",
      "mms4_fgm_etemp_brst_l2\n",
      "mms4_fgm_mode_brst_l2\n",
      "mms4_fgm_rdeltahalf_brst_l2\n"
     ]
    }
   ],
   "source": [
    "from datetime import datetime\n",
    "from datetime import timezone as tz\n",
    "\n",
    "start_time = datetime(year=2015, month=10, day=16, hour=13, minute=6, tzinfo=tz.utc)\n",
    "end_time = datetime(year=2015, month=10, day=16, hour=13, minute=7, tzinfo=tz.utc)\n",
    "\n",
    "bvars = fgm(trange=[start_time, end_time], probe='4', data_rate='brst')"
   ]
  },
  {
   "cell_type": "markdown",
   "metadata": {},
   "source": [
    "## Appendix 2: finding help on keywords"
   ]
  },
  {
   "cell_type": "code",
   "execution_count": 117,
   "metadata": {},
   "outputs": [
    {
     "name": "stdout",
     "output_type": "stream",
     "text": [
      "Help on function mms_load_fgm in module pyspedas.mms:\n",
      "\n",
      "mms_load_fgm(*args, **kwargs)\n",
      "    This function loads FGM data into tplot variables\n",
      "    \n",
      "    Parameters:\n",
      "        trange : list of str\n",
      "            time range of interest [starttime, endtime] with the format \n",
      "            'YYYY-MM-DD','YYYY-MM-DD'] or to specify more or less than a day \n",
      "            ['YYYY-MM-DD/hh:mm:ss','YYYY-MM-DD/hh:mm:ss']\n",
      "    \n",
      "        probe : str or list of str\n",
      "            list of probes, valid values for MMS probes are ['1','2','3','4']. \n",
      "    \n",
      "        data_rate : str or list of str\n",
      "            instrument data rates for FGM include 'brst' 'fast' 'slow' 'srvy'. The\n",
      "            default is 'srvy'.\n",
      "    \n",
      "        level : str\n",
      "            indicates level of data processing. the default if no level is specified is 'l2'\n",
      "    \n",
      "        datatype : str or list of str\n",
      "            no datatype for FGM instrument (all science data are loaded)\n",
      "    \n",
      "        get_support_data: bool\n",
      "            Data with an attribute \"VAR_TYPE\" with a value of \"support_data\"\n",
      "            will be loaded into tplot.  By default, only loads in data with a \n",
      "            \"VAR_TYPE\" attribute of \"data\".\n",
      "    \n",
      "        time_clip: bool\n",
      "            Data will be clipped to the exact trange specified by the trange keyword.\n",
      "            \n",
      "        varformat: str\n",
      "            The file variable formats to load into tplot.  Wildcard character\n",
      "            \"*\" is accepted.  By default, all variables are loaded in.\n",
      "    \n",
      "        suffix: str\n",
      "            The tplot variable names will be given this suffix.  By default, \n",
      "            no suffix is added.\n",
      "    \n",
      "        notplot: bool\n",
      "            If True, then data are returned in a hash table instead of \n",
      "            being stored in tplot variables (useful for debugging, and\n",
      "            access to multi-dimensional data products)\n",
      "    \n",
      "        available: bool\n",
      "            If True, simply return the available data files (without downloading)\n",
      "            for the requested paramters\n",
      "    \n",
      "        no_update: bool\n",
      "            Set this flag to preserve the original data. if not set and newer \n",
      "            data is found the existing data will be overwritten\n",
      "    \n",
      "        cdf_version: str\n",
      "            Specify a specific CDF version # to load (e.g., cdf_version='4.3.0')\n",
      "    \n",
      "        min_version: str\n",
      "            Specify a minimum CDF version # to load\n",
      "    \n",
      "        latest_version: bool\n",
      "            Only grab the latest CDF version in the requested time interval\n",
      "    \n",
      "        major_version: bool\n",
      "            Only open the latest major CDF version (e.g., X in vX.Y.Z) in the requested time interval\n",
      "    \n",
      "        keep_flagged: bool\n",
      "            If True, don't remove flagged data (flagged data are set to NaNs by\n",
      "            default, this keyword turns this off)\n",
      "            \n",
      "    Returns:\n",
      "        List of tplot variables created.\n"
     ]
    }
   ],
   "source": [
    "help(fgm)"
   ]
  },
  {
   "cell_type": "code",
   "execution_count": 118,
   "metadata": {},
   "outputs": [
    {
     "name": "stdout",
     "output_type": "stream",
     "text": [
      "Help on function mms_feeps_pad in module pyspedas.mms.feeps.mms_feeps_pad:\n",
      "\n",
      "mms_feeps_pad(bin_size=16.3636, probe='1', energy=[70, 600], level='l2', suffix='', datatype='electron', data_units='intensity', data_rate='srvy', angles_from_bfield=False)\n",
      "    This function will calculate pitch angle distributions using data from the MMS Fly's Eye Energetic Particle Sensor (FEEPS)\n",
      "    \n",
      "    Parameters:\n",
      "        probe: str\n",
      "            probe #, e.g., '4' for MMS4\n",
      "    \n",
      "        data_units: str\n",
      "            'intensity' \n",
      "    \n",
      "        datatype: str\n",
      "            'electron' or 'ion'\n",
      "    \n",
      "        data_rate: str\n",
      "            instrument data rate, e.g., 'srvy' or 'brst'\n",
      "    \n",
      "        level: str\n",
      "            data level\n",
      "    \n",
      "        suffix: str\n",
      "            suffix of the loaded data\n",
      "    \n",
      "        energy: list of float\n",
      "            energy range to include in the calculation\n",
      "    \n",
      "        bin_size: float\n",
      "            size of the pitch angle bins\n",
      "            \n",
      "        angles_from_bfield: bool\n",
      "            calculate the pitch angles from the B-field data instead of reading from the CDFs\n",
      "    \n",
      "    Returns:\n",
      "        List of tplot variables created.\n"
     ]
    }
   ],
   "source": [
    "help(mms_feeps_pad)"
   ]
  },
  {
   "cell_type": "code",
   "execution_count": 119,
   "metadata": {},
   "outputs": [
    {
     "name": "stdout",
     "output_type": "stream",
     "text": [
      "Help on function tplot in module pytplot.tplot:\n",
      "\n",
      "tplot(name, var_label=None, interactive=False, combine_axes=True, nb=False, save_file=None, gui=False, qt=False, bokeh=False, save_png=None, display=True, testing=False, extra_functions=[], extra_function_args=[], vert_spacing=None)\n",
      "    This is the function used to display the tplot variables stored in memory.\n",
      "    The default output is to show the plots stacked on top of one another inside of a qt window\n",
      "    \n",
      "    Parameters:\n",
      "        name : str / list\n",
      "            List of tplot variables that will be plotted\n",
      "        var_label : str, optional\n",
      "            The name of the tplot variable you would like as\n",
      "            a second x axis.\n",
      "        interactive : bool, optional\n",
      "            If True, a secondary interactive plot will be generated next to spectrogram plots.\n",
      "            Mousing over the spectrogram will display a slice of data from that time on the\n",
      "            interactive chart.\n",
      "        combine_axes : bool, optional\n",
      "            If True, the axes are combined so that they all display the same x range.  This also enables\n",
      "            scrolling/zooming/panning on one plot to affect all of the other plots simultaneously.\n",
      "        nb : bool, optional\n",
      "            If True, the plot will be displayed inside of a current Jupyter notebook session.\n",
      "        save_file : str, optional\n",
      "            A full file name and path.\n",
      "            If this option is set, the plot will be automatically saved to the file name provided in an HTML format.\n",
      "            The plots can then be opened and viewed on any browser without any requirements.\n",
      "        bokeh : bool, optional\n",
      "            If True, plots data using bokeh\n",
      "            Else (bokeh=False or omitted), plots data using PyQtGraph\n",
      "        extra_functions: func, optional\n",
      "            This is an extra function that gets called just prior to the data being plotted.  This is useful if you'd\n",
      "            like to build your own Qt display that reacts to the mouse movement.  Built in displays can be found in the\n",
      "            AncillaryPlots folder.\n",
      "        extra_function_args: list of tuples, optional\n",
      "            These are the arguments to give your extra_functions\n",
      "        vert_spacing: int\n",
      "            Thes distance in pixels you'd like the plots to be\n",
      "        gui : bool, optional\n",
      "            If True, then this function will output the 2 HTML components of the generated plots as string variables.\n",
      "            This is useful if you are embedded the plots in your own GUI.  For more information, see\n",
      "            http://bokeh.pydata.org/en/latest/docs/user_guide/embed.html\n",
      "        qt : bool, optional\n",
      "            If True, then this function will display the plot inside of the Qt window.  From this window, you\n",
      "            can choose to export the plots as either an HTML file, or as a PNG.\n",
      "        save_png : str, optional\n",
      "            A full file name and path.\n",
      "            If this option is set, the plot will be automatically saved to the file name provided in a PNG format.\n",
      "        display: bool, optional\n",
      "            If True, then this function will display the plotted tplot variables. Necessary to make this optional\n",
      "            so we can avoid it in a headless server environment.\n",
      "        testing: bool, optional\n",
      "            If True, doesn't run the '(hasattr(sys, 'ps1'))' line that makes plots interactive - i.e., avoiding issues\n",
      "    \n",
      "    Returns:\n",
      "        None\n",
      "    \n",
      "    Examples:\n",
      "        >>> #Plot a single line in bokeh\n",
      "        >>> import pytplot\n",
      "        >>> x_data = [2,3,4,5,6]\n",
      "        >>> y_data = [1,2,3,4,5]\n",
      "        >>> pytplot.store_data(\"Variable1\", data={'x':x_data, 'y':y_data})\n",
      "        >>> pytplot.tplot(\"Variable1\",bokeh=True)\n",
      "    \n",
      "        >>> #Display two plots\n",
      "        >>> x_data = [1,2,3,4,5]\n",
      "        >>> y_data = [[1,5],[2,4],[3,3],[4,2],[5,1]]\n",
      "        >>> pytplot.store_data(\"Variable2\", data={'x':x_data, 'y':y_data})\n",
      "        >>> pytplot.tplot([\"Variable1\", \"Variable2\"])\n",
      "    \n",
      "        >>> #Display 2 plots, using Variable1 as another x axis\n",
      "        >>> x_data = [1,2,3]\n",
      "        >>> y_data = [ [1,2,3] , [4,5,6], [7,8,9] ]\n",
      "        >>> v_data = [1,2,3]\n",
      "        >>> pytplot.store_data(\"Variable3\", data={'x':x_data, 'y':y_data, 'v':v_data})\n",
      "        >>> pytplot.options(\"Variable3\", 'spec', 1)\n",
      "        >>> pytplot.tplot([\"Variable2\", \"Variable3\"], var_label='Variable1')\n",
      "    \n",
      "        >>> #Plot all 3 tplot variables, sending the output to an HTML file\n",
      "        >>> pytplot.tplot([\"Variable1\", \"Variable2\", \"Variable3\"], save_file='C:/temp/pytplot_example.html')\n",
      "    \n",
      "        >>> #Plot all 3 tplot variables, sending the HTML output to a pair of strings\n",
      "        >>> div, component = pytplot.tplot([\"Variable1\", \"Variable2\", \"Variable3\"], gui=True)\n"
     ]
    }
   ],
   "source": [
    "help(tplot)"
   ]
  },
  {
   "cell_type": "code",
   "execution_count": 120,
   "metadata": {},
   "outputs": [
    {
     "name": "stdout",
     "output_type": "stream",
     "text": [
      "Help on function options in module pytplot.options:\n",
      "\n",
      "options(name, option, value)\n",
      "    This function allows the user to set a large variety of options for individual plots.\n",
      "    \n",
      "    Parameters:\n",
      "        name : str\n",
      "            Name of the tplot variable\n",
      "        option : str\n",
      "            The name of the option.  See section below\n",
      "        value : str/int/float/list\n",
      "            The value of the option.  See section below.\n",
      "    \n",
      "    Options:\n",
      "        =================== ==========   =====\n",
      "        Options             Value type   Notes\n",
      "        =================== ==========   =====\n",
      "        Color               str/list     Red, Orange, Yellow, Green, Blue, etc.\n",
      "        Colormap            str/list     https://matplotlib.org/examples/color/colormaps_reference.html.\n",
      "        Spec                int          1 sets the Tplot Variable to spectrogram mode, 0 reverts.\n",
      "        Alt                 int          1 sets the Tplot Variable to altitude plot mode, 0 reverts.\n",
      "        Map                 int          1 sets the Tplot Variable to latitude/longitude mode, 0 reverts.\n",
      "        link                list         Allows a user to reference one tplot variable to another.\n",
      "        ylog                int          1 sets the y axis to log scale, 0 reverts.\n",
      "        zlog                int          1 sets the z axis to log scale, 0 reverts (spectrograms only).\n",
      "        legend_names        list         A list of strings that will be used to identify the lines.\n",
      "        xlog_interactive    bool         Sets x axis on interactive plot to log scale if True.\n",
      "        ylog                bool         Set y axis on main plot window to log scale if True.\n",
      "        ylog_interactive    bool         Sets y axis on interactive plot to log scale if True.\n",
      "        zlog                bool         Sets z axis on main plot window to log scale if True.\n",
      "        line_style          str          scatter (to make scatter plots), or solid_line, dot, dash, dash_dot, dash_dot_dot_dot, long_dash.\n",
      "        char_size           int          Defines character size for plot labels, etc.\n",
      "        name                str          The title of the plot.\n",
      "        panel_size          flt          Number between (0,1], representing the percent size of the plot.\n",
      "        basemap             str          Full path and name of a background image for \"Map\" plots.\n",
      "        alpha               flt          Number between [0,1], gives the transparancy of the plot lines.\n",
      "        thick               flt          Sets plot line width.\n",
      "        yrange              flt list     Two numbers that give the y axis range of the plot.\n",
      "        zrange              flt list     Two numbers that give the z axis range of the plot.\n",
      "        xrange_interactive  flt list     Two numberes that give the x axis range of interactive plots.\n",
      "        yrange_interactive  flt list     Two numberes that give the y axis range of interactive plots.\n",
      "        ytitle              str          Title shown on the y axis.\n",
      "        ztitle              str          Title shown on the z axis.  Spec plots only.\n",
      "        plotter             str          Allows a user to implement their own plotting script in place of the ones\n",
      "                                         herein.\n",
      "        crosshair_x         str          Title for x-axis crosshair.\n",
      "        crosshair_y         str          Title for y-axis crosshair.\n",
      "        crosshair_z         str          Title for z-axis crosshair.\n",
      "        static              str          Datetime string that gives desired time to plot y and z values from a spec\n",
      "                                         plot.\n",
      "        static_tavg         str          Datetime string that gives desired time-averaged y and z values to plot\n",
      "                                         from a spec plot.\n",
      "        t_average           int          Seconds around which the cursor is averaged when hovering over spectrogram\n",
      "                                         plots.\n",
      "        =================== ==========   =====\n",
      "    Returns:\n",
      "        None\n",
      "    \n",
      "    Examples:\n",
      "        >>> # Change the y range of Variable1\n",
      "        >>> import pytplot\n",
      "        >>> x_data = [1,2,3,4,5]\n",
      "        >>> y_data = [1,2,3,4,5]\n",
      "        >>> pytplot.store_data(\"Variable1\", data={'x':x_data, 'y':y_data})\n",
      "        >>> pytplot.options('Variable1', 'yrange', [2,4])\n",
      "    \n",
      "        >>> # Change Variable1 to use a log scale\n",
      "        >>> pytplot.options('Variable1', 'ylog', 1)\n"
     ]
    }
   ],
   "source": [
    "help(options)"
   ]
  },
  {
   "cell_type": "code",
   "execution_count": null,
   "metadata": {},
   "outputs": [],
   "source": []
  }
 ],
 "metadata": {
  "kernelspec": {
   "display_name": "Python 3",
   "language": "python",
   "name": "python3"
  },
  "language_info": {
   "codemirror_mode": {
    "name": "ipython",
    "version": 3
   },
   "file_extension": ".py",
   "mimetype": "text/x-python",
   "name": "python",
   "nbconvert_exporter": "python",
   "pygments_lexer": "ipython3",
   "version": "3.7.2"
  }
 },
 "nbformat": 4,
 "nbformat_minor": 2
}
